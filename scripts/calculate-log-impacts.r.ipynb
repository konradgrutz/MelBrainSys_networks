{
 "cells": [
  {
   "cell_type": "code",
   "execution_count": null,
   "id": "357888dd",
   "metadata": {},
   "outputs": [],
   "source": [
    "# calculates for each metastases pair \n",
    "#   average impacts log-ratios (brain/extra-cranial) on pathways\n",
    "#   median impact log-ratios of all altered genes on all genes\n",
    "#   average impacts log-ratios on each gene\n",
    "#   \n",
    "# \n",
    "# from the altered genes of all met. pairs\n",
    "# as basis for other scripts\n",
    "# saved for later: metPairs-impactRatios-onPathways.rds,\n",
    "#   logMedianImpRatios, metPairs-impactRatios-onAllTargetGenes.rds"
   ]
  },
  {
   "cell_type": "code",
   "execution_count": 6,
   "id": "93be4a6c",
   "metadata": {},
   "outputs": [],
   "source": [
    "library(parallel)"
   ]
  },
  {
   "cell_type": "code",
   "execution_count": 47,
   "id": "800ed54e",
   "metadata": {},
   "outputs": [],
   "source": [
    "basePath = \"/data/bcu_projects/MelBrainSys_PostdocProject_Gruetzmann/publications/2022-my-MelBrainSys-paper/scripts-etc-for-publication/\"\n",
    "myPath = paste0(basePath,\"regNet/\")"
   ]
  },
  {
   "cell_type": "code",
   "execution_count": 48,
   "id": "50145081",
   "metadata": {},
   "outputs": [],
   "source": [
    "setwd(basePath)"
   ]
  },
  {
   "cell_type": "code",
   "execution_count": 49,
   "id": "d16a7ab6",
   "metadata": {},
   "outputs": [],
   "source": [
    "localRlibs = paste0(basePath,\"conda/lib/R/library/\")\n",
    "library(regNet)"
   ]
  },
  {
   "cell_type": "code",
   "execution_count": 50,
   "id": "c606f9af",
   "metadata": {},
   "outputs": [],
   "source": [
    "localGeneCutoff = 30\n",
    "pValCutoff = 0.001\n",
    "numOfNWs = 2\n",
    "networkName = \"TcgaMelanomaExprMeth\"\n",
    "dataSetName = \"MelBrainSys\"\n",
    "nbCPUs = 10 \n",
    "colSumsThreshold = 0.001"
   ]
  },
  {
   "cell_type": "markdown",
   "id": "b0586200",
   "metadata": {},
   "source": [
    "### pathway definitions"
   ]
  },
  {
   "cell_type": "code",
   "execution_count": 76,
   "id": "03bf581f",
   "metadata": {},
   "outputs": [
    {
     "data": {
      "text/html": [
       "<style>\n",
       ".list-inline {list-style: none; margin:0; padding: 0}\n",
       ".list-inline>li {display: inline-block}\n",
       ".list-inline>li:not(:last-child)::after {content: \"\\00b7\"; padding: 0 .5ex}\n",
       "</style>\n",
       "<ol class=list-inline><li>'FABP3'</li><li>'CYP4A22'</li><li>'SCP2'</li><li>'CPT2'</li><li>'ACADM'</li><li>'HMGCS2'</li><li>'APOA2'</li><li>'RXRG'</li><li>'FABP1'</li><li>'DBI'</li><li>'ACADL'</li><li>'CYP27A1'</li><li>'ACSL3'</li><li>'PPARG'</li><li>'ACAA1'</li><li>'CYP8B1'</li><li>'ACOX2'</li><li>'EHHADH'</li><li>'ADIPOQ'</li><li>'GK2'</li><li>'SCD5'</li><li>'FABP2'</li><li>'UCP1'</li><li>'ACSL1'</li><li>'SLC27A6'</li><li>'ACSL6'</li><li>'FABP6'</li><li>'RXRB'</li><li>'PPARD'</li><li>'ME1'</li><li>'FABP7'</li><li>'CD36'</li><li>'LPL'</li><li>'CYP7A1'</li><li>'FABP5'</li><li>'FABP4'</li><li>'PLIN2'</li><li>'AQP7'</li><li>'SLC27A4'</li><li>'RXRA'</li><li>'SORBS1'</li><li>'SCD'</li><li>'ACSL5'</li><li>'ILK'</li><li>'NR1H3'</li><li>'FADS2'</li><li>'CPT1A'</li><li>'MMP1'</li><li>'APOA5'</li><li>'APOC3'</li><li>'APOA1'</li><li>'OLR1'</li><li>'UBC'</li><li>'PCK2'</li><li>'SLC27A2'</li><li>'ACSBG1'</li><li>'PLIN1'</li><li>'PDPK1'</li><li>'ACOX1'</li><li>'PLIN4'</li><li>'PLIN5'</li><li>'ACSBG2'</li><li>'ANGPTL4'</li><li>'SLC27A1'</li><li>'CPT1C'</li><li>'SLC27A5'</li><li>'PLTP'</li><li>'PCK1'</li><li>'PPARA'</li><li>'GK'</li><li>'ACSL4'</li></ol>\n"
      ],
      "text/latex": [
       "\\begin{enumerate*}\n",
       "\\item 'FABP3'\n",
       "\\item 'CYP4A22'\n",
       "\\item 'SCP2'\n",
       "\\item 'CPT2'\n",
       "\\item 'ACADM'\n",
       "\\item 'HMGCS2'\n",
       "\\item 'APOA2'\n",
       "\\item 'RXRG'\n",
       "\\item 'FABP1'\n",
       "\\item 'DBI'\n",
       "\\item 'ACADL'\n",
       "\\item 'CYP27A1'\n",
       "\\item 'ACSL3'\n",
       "\\item 'PPARG'\n",
       "\\item 'ACAA1'\n",
       "\\item 'CYP8B1'\n",
       "\\item 'ACOX2'\n",
       "\\item 'EHHADH'\n",
       "\\item 'ADIPOQ'\n",
       "\\item 'GK2'\n",
       "\\item 'SCD5'\n",
       "\\item 'FABP2'\n",
       "\\item 'UCP1'\n",
       "\\item 'ACSL1'\n",
       "\\item 'SLC27A6'\n",
       "\\item 'ACSL6'\n",
       "\\item 'FABP6'\n",
       "\\item 'RXRB'\n",
       "\\item 'PPARD'\n",
       "\\item 'ME1'\n",
       "\\item 'FABP7'\n",
       "\\item 'CD36'\n",
       "\\item 'LPL'\n",
       "\\item 'CYP7A1'\n",
       "\\item 'FABP5'\n",
       "\\item 'FABP4'\n",
       "\\item 'PLIN2'\n",
       "\\item 'AQP7'\n",
       "\\item 'SLC27A4'\n",
       "\\item 'RXRA'\n",
       "\\item 'SORBS1'\n",
       "\\item 'SCD'\n",
       "\\item 'ACSL5'\n",
       "\\item 'ILK'\n",
       "\\item 'NR1H3'\n",
       "\\item 'FADS2'\n",
       "\\item 'CPT1A'\n",
       "\\item 'MMP1'\n",
       "\\item 'APOA5'\n",
       "\\item 'APOC3'\n",
       "\\item 'APOA1'\n",
       "\\item 'OLR1'\n",
       "\\item 'UBC'\n",
       "\\item 'PCK2'\n",
       "\\item 'SLC27A2'\n",
       "\\item 'ACSBG1'\n",
       "\\item 'PLIN1'\n",
       "\\item 'PDPK1'\n",
       "\\item 'ACOX1'\n",
       "\\item 'PLIN4'\n",
       "\\item 'PLIN5'\n",
       "\\item 'ACSBG2'\n",
       "\\item 'ANGPTL4'\n",
       "\\item 'SLC27A1'\n",
       "\\item 'CPT1C'\n",
       "\\item 'SLC27A5'\n",
       "\\item 'PLTP'\n",
       "\\item 'PCK1'\n",
       "\\item 'PPARA'\n",
       "\\item 'GK'\n",
       "\\item 'ACSL4'\n",
       "\\end{enumerate*}\n"
      ],
      "text/markdown": [
       "1. 'FABP3'\n",
       "2. 'CYP4A22'\n",
       "3. 'SCP2'\n",
       "4. 'CPT2'\n",
       "5. 'ACADM'\n",
       "6. 'HMGCS2'\n",
       "7. 'APOA2'\n",
       "8. 'RXRG'\n",
       "9. 'FABP1'\n",
       "10. 'DBI'\n",
       "11. 'ACADL'\n",
       "12. 'CYP27A1'\n",
       "13. 'ACSL3'\n",
       "14. 'PPARG'\n",
       "15. 'ACAA1'\n",
       "16. 'CYP8B1'\n",
       "17. 'ACOX2'\n",
       "18. 'EHHADH'\n",
       "19. 'ADIPOQ'\n",
       "20. 'GK2'\n",
       "21. 'SCD5'\n",
       "22. 'FABP2'\n",
       "23. 'UCP1'\n",
       "24. 'ACSL1'\n",
       "25. 'SLC27A6'\n",
       "26. 'ACSL6'\n",
       "27. 'FABP6'\n",
       "28. 'RXRB'\n",
       "29. 'PPARD'\n",
       "30. 'ME1'\n",
       "31. 'FABP7'\n",
       "32. 'CD36'\n",
       "33. 'LPL'\n",
       "34. 'CYP7A1'\n",
       "35. 'FABP5'\n",
       "36. 'FABP4'\n",
       "37. 'PLIN2'\n",
       "38. 'AQP7'\n",
       "39. 'SLC27A4'\n",
       "40. 'RXRA'\n",
       "41. 'SORBS1'\n",
       "42. 'SCD'\n",
       "43. 'ACSL5'\n",
       "44. 'ILK'\n",
       "45. 'NR1H3'\n",
       "46. 'FADS2'\n",
       "47. 'CPT1A'\n",
       "48. 'MMP1'\n",
       "49. 'APOA5'\n",
       "50. 'APOC3'\n",
       "51. 'APOA1'\n",
       "52. 'OLR1'\n",
       "53. 'UBC'\n",
       "54. 'PCK2'\n",
       "55. 'SLC27A2'\n",
       "56. 'ACSBG1'\n",
       "57. 'PLIN1'\n",
       "58. 'PDPK1'\n",
       "59. 'ACOX1'\n",
       "60. 'PLIN4'\n",
       "61. 'PLIN5'\n",
       "62. 'ACSBG2'\n",
       "63. 'ANGPTL4'\n",
       "64. 'SLC27A1'\n",
       "65. 'CPT1C'\n",
       "66. 'SLC27A5'\n",
       "67. 'PLTP'\n",
       "68. 'PCK1'\n",
       "69. 'PPARA'\n",
       "70. 'GK'\n",
       "71. 'ACSL4'\n",
       "\n",
       "\n"
      ],
      "text/plain": [
       " [1] \"FABP3\"   \"CYP4A22\" \"SCP2\"    \"CPT2\"    \"ACADM\"   \"HMGCS2\"  \"APOA2\"  \n",
       " [8] \"RXRG\"    \"FABP1\"   \"DBI\"     \"ACADL\"   \"CYP27A1\" \"ACSL3\"   \"PPARG\"  \n",
       "[15] \"ACAA1\"   \"CYP8B1\"  \"ACOX2\"   \"EHHADH\"  \"ADIPOQ\"  \"GK2\"     \"SCD5\"   \n",
       "[22] \"FABP2\"   \"UCP1\"    \"ACSL1\"   \"SLC27A6\" \"ACSL6\"   \"FABP6\"   \"RXRB\"   \n",
       "[29] \"PPARD\"   \"ME1\"     \"FABP7\"   \"CD36\"    \"LPL\"     \"CYP7A1\"  \"FABP5\"  \n",
       "[36] \"FABP4\"   \"PLIN2\"   \"AQP7\"    \"SLC27A4\" \"RXRA\"    \"SORBS1\"  \"SCD\"    \n",
       "[43] \"ACSL5\"   \"ILK\"     \"NR1H3\"   \"FADS2\"   \"CPT1A\"   \"MMP1\"    \"APOA5\"  \n",
       "[50] \"APOC3\"   \"APOA1\"   \"OLR1\"    \"UBC\"     \"PCK2\"    \"SLC27A2\" \"ACSBG1\" \n",
       "[57] \"PLIN1\"   \"PDPK1\"   \"ACOX1\"   \"PLIN4\"   \"PLIN5\"   \"ACSBG2\"  \"ANGPTL4\"\n",
       "[64] \"SLC27A1\" \"CPT1C\"   \"SLC27A5\" \"PLTP\"    \"PCK1\"    \"PPARA\"   \"GK\"     \n",
       "[71] \"ACSL4\"  "
      ]
     },
     "metadata": {},
     "output_type": "display_data"
    }
   ],
   "source": [
    "pwCategories = readRDS(file = \"pathway-categories.rds\")\n",
    "pwCategories$signalingPWs$PPAR"
   ]
  },
  {
   "cell_type": "code",
   "execution_count": 54,
   "id": "56c9cdb1",
   "metadata": {},
   "outputs": [],
   "source": [
    "genePerPathwayList = unlist(unname(pwCategories),recursive = F)"
   ]
  },
  {
   "cell_type": "code",
   "execution_count": 133,
   "id": "0189d0cd",
   "metadata": {},
   "outputs": [
    {
     "data": {
      "text/html": [
       "<dl>\n",
       "\t<dt>$PPAR</dt>\n",
       "\t\t<dd><style>\n",
       ".list-inline {list-style: none; margin:0; padding: 0}\n",
       ".list-inline>li {display: inline-block}\n",
       ".list-inline>li:not(:last-child)::after {content: \"\\00b7\"; padding: 0 .5ex}\n",
       "</style>\n",
       "<ol class=list-inline><li>'FABP3'</li><li>'CYP4A22'</li><li>'SCP2'</li><li>'CPT2'</li><li>'ACADM'</li><li>'HMGCS2'</li></ol>\n",
       "</dd>\n",
       "\t<dt>$MAPK</dt>\n",
       "\t\t<dd><style>\n",
       ".list-inline {list-style: none; margin:0; padding: 0}\n",
       ".list-inline>li {display: inline-block}\n",
       ".list-inline>li:not(:last-child)::after {content: \"\\00b7\"; padding: 0 .5ex}\n",
       "</style>\n",
       "<ol class=list-inline><li>'EPHA2'</li><li>'PLA2G2E'</li><li>'PLA2G2A'</li><li>'PLA2G5'</li><li>'PLA2G2D'</li><li>'PLA2G2F'</li></ol>\n",
       "</dd>\n",
       "\t<dt>$ErbB</dt>\n",
       "\t\t<dd><style>\n",
       ".list-inline {list-style: none; margin:0; padding: 0}\n",
       ".list-inline>li {display: inline-block}\n",
       ".list-inline>li:not(:last-child)::after {content: \"\\00b7\"; padding: 0 .5ex}\n",
       "</style>\n",
       "<ol class=list-inline><li>'PIK3CD'</li><li>'MTOR'</li><li>'PIK3R3'</li><li>'JUN'</li><li>'NRAS'</li><li>'SHC1'</li></ol>\n",
       "</dd>\n",
       "</dl>\n"
      ],
      "text/latex": [
       "\\begin{description}\n",
       "\\item[\\$PPAR] \\begin{enumerate*}\n",
       "\\item 'FABP3'\n",
       "\\item 'CYP4A22'\n",
       "\\item 'SCP2'\n",
       "\\item 'CPT2'\n",
       "\\item 'ACADM'\n",
       "\\item 'HMGCS2'\n",
       "\\end{enumerate*}\n",
       "\n",
       "\\item[\\$MAPK] \\begin{enumerate*}\n",
       "\\item 'EPHA2'\n",
       "\\item 'PLA2G2E'\n",
       "\\item 'PLA2G2A'\n",
       "\\item 'PLA2G5'\n",
       "\\item 'PLA2G2D'\n",
       "\\item 'PLA2G2F'\n",
       "\\end{enumerate*}\n",
       "\n",
       "\\item[\\$ErbB] \\begin{enumerate*}\n",
       "\\item 'PIK3CD'\n",
       "\\item 'MTOR'\n",
       "\\item 'PIK3R3'\n",
       "\\item 'JUN'\n",
       "\\item 'NRAS'\n",
       "\\item 'SHC1'\n",
       "\\end{enumerate*}\n",
       "\n",
       "\\end{description}\n"
      ],
      "text/markdown": [
       "$PPAR\n",
       ":   1. 'FABP3'\n",
       "2. 'CYP4A22'\n",
       "3. 'SCP2'\n",
       "4. 'CPT2'\n",
       "5. 'ACADM'\n",
       "6. 'HMGCS2'\n",
       "\n",
       "\n",
       "\n",
       "$MAPK\n",
       ":   1. 'EPHA2'\n",
       "2. 'PLA2G2E'\n",
       "3. 'PLA2G2A'\n",
       "4. 'PLA2G5'\n",
       "5. 'PLA2G2D'\n",
       "6. 'PLA2G2F'\n",
       "\n",
       "\n",
       "\n",
       "$ErbB\n",
       ":   1. 'PIK3CD'\n",
       "2. 'MTOR'\n",
       "3. 'PIK3R3'\n",
       "4. 'JUN'\n",
       "5. 'NRAS'\n",
       "6. 'SHC1'\n",
       "\n",
       "\n",
       "\n",
       "\n",
       "\n"
      ],
      "text/plain": [
       "$PPAR\n",
       "[1] \"FABP3\"   \"CYP4A22\" \"SCP2\"    \"CPT2\"    \"ACADM\"   \"HMGCS2\" \n",
       "\n",
       "$MAPK\n",
       "[1] \"EPHA2\"   \"PLA2G2E\" \"PLA2G2A\" \"PLA2G5\"  \"PLA2G2D\" \"PLA2G2F\"\n",
       "\n",
       "$ErbB\n",
       "[1] \"PIK3CD\" \"MTOR\"   \"PIK3R3\" \"JUN\"    \"NRAS\"   \"SHC1\"  \n"
      ]
     },
     "metadata": {},
     "output_type": "display_data"
    }
   ],
   "source": [
    "lapply(head(genePerPathwayList,3), head)"
   ]
  },
  {
   "cell_type": "markdown",
   "id": "3a8c16a7",
   "metadata": {},
   "source": [
    "### altered genes"
   ]
  },
  {
   "cell_type": "code",
   "execution_count": 161,
   "id": "f1a5fccc",
   "metadata": {
    "scrolled": true
   },
   "outputs": [],
   "source": [
    "tmp = readRDS(file = \"altered-genes-per-patient.rds\")\n",
    "regGenesPerPat = tmp$regGenesPerPat"
   ]
  },
  {
   "cell_type": "markdown",
   "id": "f757e739",
   "metadata": {},
   "source": [
    "### samples and sample pairs"
   ]
  },
  {
   "cell_type": "code",
   "execution_count": null,
   "id": "5f619f42",
   "metadata": {},
   "outputs": [],
   "source": [
    "# define met. pairs, and annotation colors \n",
    "tmp = readRDS(file = \"annotation/samplePairs-annotation-colors-clusters.rds\")\n",
    "sampleMapping = tmp$sampleMapping"
   ]
  },
  {
   "cell_type": "markdown",
   "id": "621b6e0e",
   "metadata": {},
   "source": [
    "# impacts on pathways"
   ]
  },
  {
   "cell_type": "markdown",
   "id": "f1133592",
   "metadata": {},
   "source": [
    "### calculate mean log impact ratios"
   ]
  },
  {
   "cell_type": "code",
   "execution_count": 58,
   "id": "346d34a9",
   "metadata": {},
   "outputs": [],
   "source": [
    "getRealImpacts = function(\n",
    "    samplePair, sample, sourceGenes, targetGenes, pValCutoff, localGeneCutoff, colSumsThreshold, numOfNWs) {\n",
    "    nwSubdirPrefix = 'TrainNetwork-'\n",
    "    impacts = matrix(data = 0,nrow = length(sourceGenes),ncol = 0, dimnames = list(c(sourceGenes)))\n",
    "    for(networkNum in 1:numOfNWs){\n",
    "        path = paste0(myPath,nwSubdirPrefix,networkNum,\"/\")\n",
    "        impactsTmp = getAverageImpacts_PatientSpecificAbsoluteImpacts(\n",
    "            patient = sample,sourceGenes = sourceGenes,targetGenes = targetGenes, dataSetName = dataSetName, \n",
    "            networkName = networkName, pValCutoff = pValCutoff, localGeneCutoff = localGeneCutoff, \n",
    "            colSumsThreshold = colSumsThreshold, path = path, outputFile = \"tmp\")\n",
    "        impacts = cbind(impacts,NA)\n",
    "        impacts[impactsTmp$SourceGene,ncol(impacts)] = impactsTmp$AverageImpactOnTargetGenes\n",
    "    }\n",
    "    impacts\n",
    "}"
   ]
  },
  {
   "cell_type": "code",
   "execution_count": 67,
   "id": "239e5400",
   "metadata": {
    "scrolled": true
   },
   "outputs": [
    {
     "name": "stderr",
     "output_type": "stream",
     "text": [
      "P03_BLun\n",
      "\n",
      "  sampleIdx 1 P03_Br\n",
      "\n",
      "    1 of 22, 13 min still needed\n",
      "\n",
      "  sampleIdx 2 P03_Lu\n",
      "\n",
      "    2 of 22, 13 min still needed\n",
      "\n",
      "P04_BSki_1\n",
      "\n",
      "  sampleIdx 1 P04_Br\n",
      "\n",
      "    3 of 22, 12 min still needed\n",
      "\n",
      "  sampleIdx 2 P04_Sk_GA\n",
      "\n",
      "    4 of 22, 11 min still needed\n",
      "\n",
      "P08_BSof_1\n",
      "\n",
      "  sampleIdx 1 P08_Br\n",
      "\n",
      "    5 of 22, 11 min still needed\n",
      "\n",
      "  sampleIdx 2 P08_St_GA\n",
      "\n",
      "    6 of 22, 10 min still needed\n",
      "\n",
      "P08_BSof_2\n",
      "\n",
      "  sampleIdx 1 P08_Br\n",
      "\n",
      "    7 of 22, 9 min still needed\n",
      "\n",
      "  sampleIdx 2 P08_St_BA\n",
      "\n",
      "    8 of 22, 9 min still needed\n",
      "\n",
      "P08_BSof_3\n",
      "\n",
      "  sampleIdx 1 P08_Br\n",
      "\n",
      "    9 of 22, 8 min still needed\n",
      "\n",
      "  sampleIdx 2 P08_St_YA\n",
      "\n",
      "    10 of 22, 8 min still needed\n",
      "\n",
      "P16_BLun\n",
      "\n",
      "  sampleIdx 1 P16_Br\n",
      "\n",
      "    11 of 22, 7 min still needed\n",
      "\n",
      "  sampleIdx 2 P16_Lu\n",
      "\n",
      "    12 of 22, 6 min still needed\n",
      "\n",
      "P18_BLun_1\n",
      "\n",
      "  sampleIdx 1 P18_Br\n",
      "\n",
      "    13 of 22, 6 min still needed\n",
      "\n",
      "  sampleIdx 2 P18_Lu_GA\n",
      "\n",
      "    14 of 22, 5 min still needed\n",
      "\n",
      "P18_BLun_2\n",
      "\n",
      "  sampleIdx 1 P18_Br\n",
      "\n",
      "    15 of 22, 4 min still needed\n",
      "\n",
      "  sampleIdx 2 P18_Lu_YA\n",
      "\n",
      "    16 of 22, 4 min still needed\n",
      "\n",
      "P39_BLun\n",
      "\n",
      "  sampleIdx 1 P39_Br\n",
      "\n",
      "    17 of 22, 3 min still needed\n",
      "\n",
      "  sampleIdx 2 P39_Lu\n",
      "\n",
      "    18 of 22, 3 min still needed\n",
      "\n",
      "P42_BLym_1\n",
      "\n",
      "  sampleIdx 1 P42_Br_GA\n",
      "\n",
      "    19 of 22, 2 min still needed\n",
      "\n",
      "  sampleIdx 2 P42_Ly_GA\n",
      "\n",
      "    20 of 22, 1 min still needed\n",
      "\n",
      "P42_BLym_2\n",
      "\n",
      "  sampleIdx 1 P42_Br_GA\n",
      "\n",
      "    21 of 22, 1 min still needed\n",
      "\n",
      "  sampleIdx 2 P42_Ly_YA\n",
      "\n",
      "    22 of 22, 0 min still needed\n",
      "\n",
      "13.7675234556198 min in total needed\n",
      "\n"
     ]
    }
   ],
   "source": [
    "allSamplImp = NULL\n",
    "nbTotalIt = length(sampleMapping)*2\n",
    "currIt=0\n",
    "startt = Sys.time()\n",
    "for(samplePair in names(sampleMapping)) {\n",
    "    message(samplePair)\n",
    "    samplePairList = NULL\n",
    "    for (sampleIdx in 1:2) {\n",
    "        currIt = currIt + 1\n",
    "        sample = sampleMapping[[samplePair]][sampleIdx]\n",
    "        message(\"  sampleIdx \",sampleIdx, \" \",sample)\n",
    "        impPerPW = mclapply(X = genePerPathwayList,  mc.cores = nbCPUs,FUN = function(pwGenes) {\n",
    "            getRealImpacts(samplePair = samplePair, sample = sample,\n",
    "                                 sourceGenes = regGenesPerPat[[samplePair]], targetGenes = pwGenes, \n",
    "                                 pValCutoff = pValCutoff, localGeneCutoff = localGeneCutoff, \n",
    "                                 colSumsThreshold = colSumsThreshold, numOfNWs = numOfNWs)\n",
    "        })\n",
    "        samplePairList = append( samplePairList, list(impPerPW) )\n",
    "        names(samplePairList)[sampleIdx] = sample\n",
    "\n",
    "        endt = Sys.time()\n",
    "        totalTime = difftime(endt,startt, units = \"min\")*nbTotalIt/currIt\n",
    "        restTime = round(totalTime * (nbTotalIt-currIt)/nbTotalIt)\n",
    "        message(\"    \",currIt,\" of \",nbTotalIt,\", \",restTime,\" min still needed\")\n",
    "    }\n",
    "    allSamplImp = append( allSamplImp, list(samplePairList) )\n",
    "}\n",
    "names(allSamplImp) = names(sampleMapping)\n",
    "endt = Sys.time()\n",
    "message(difftime(endt,startt,units = \"min\"),\" min in total needed\")\n",
    "# 15 min in total for 2 networks 10 metastases pairs with 10 CPUs "
   ]
  },
  {
   "cell_type": "code",
   "execution_count": 69,
   "id": "0bfc47fa",
   "metadata": {},
   "outputs": [
    {
     "data": {
      "text/html": [
       "<table class=\"dataframe\">\n",
       "<caption>A matrix: 6 × 2 of type dbl</caption>\n",
       "<tbody>\n",
       "\t<tr><th scope=row>AIM2</th><td>1.507818e-09</td><td>1.265727e-05</td></tr>\n",
       "\t<tr><th scope=row>ZNF677</th><td>          NA</td><td>          NA</td></tr>\n",
       "\t<tr><th scope=row>CDCA7</th><td>2.731210e-07</td><td>4.232613e-06</td></tr>\n",
       "\t<tr><th scope=row>ELOVL6</th><td>1.443490e-08</td><td>0.000000e+00</td></tr>\n",
       "\t<tr><th scope=row>HIST1H1B</th><td>          NA</td><td>          NA</td></tr>\n",
       "\t<tr><th scope=row>TTBK1</th><td>          NA</td><td>          NA</td></tr>\n",
       "</tbody>\n",
       "</table>\n"
      ],
      "text/latex": [
       "A matrix: 6 × 2 of type dbl\n",
       "\\begin{tabular}{r|ll}\n",
       "\tAIM2 & 1.507818e-09 & 1.265727e-05\\\\\n",
       "\tZNF677 &           NA &           NA\\\\\n",
       "\tCDCA7 & 2.731210e-07 & 4.232613e-06\\\\\n",
       "\tELOVL6 & 1.443490e-08 & 0.000000e+00\\\\\n",
       "\tHIST1H1B &           NA &           NA\\\\\n",
       "\tTTBK1 &           NA &           NA\\\\\n",
       "\\end{tabular}\n"
      ],
      "text/markdown": [
       "\n",
       "A matrix: 6 × 2 of type dbl\n",
       "\n",
       "| AIM2 | 1.507818e-09 | 1.265727e-05 |\n",
       "| ZNF677 |           NA |           NA |\n",
       "| CDCA7 | 2.731210e-07 | 4.232613e-06 |\n",
       "| ELOVL6 | 1.443490e-08 | 0.000000e+00 |\n",
       "| HIST1H1B |           NA |           NA |\n",
       "| TTBK1 |           NA |           NA |\n",
       "\n"
      ],
      "text/plain": [
       "         [,1]         [,2]        \n",
       "AIM2     1.507818e-09 1.265727e-05\n",
       "ZNF677             NA           NA\n",
       "CDCA7    2.731210e-07 4.232613e-06\n",
       "ELOVL6   1.443490e-08 0.000000e+00\n",
       "HIST1H1B           NA           NA\n",
       "TTBK1              NA           NA"
      ]
     },
     "metadata": {},
     "output_type": "display_data"
    },
    {
     "data": {
      "text/html": [
       "<style>\n",
       ".list-inline {list-style: none; margin:0; padding: 0}\n",
       ".list-inline>li {display: inline-block}\n",
       ".list-inline>li:not(:last-child)::after {content: \"\\00b7\"; padding: 0 .5ex}\n",
       "</style>\n",
       "<ol class=list-inline><li>'matrix'</li><li>'array'</li></ol>\n"
      ],
      "text/latex": [
       "\\begin{enumerate*}\n",
       "\\item 'matrix'\n",
       "\\item 'array'\n",
       "\\end{enumerate*}\n"
      ],
      "text/markdown": [
       "1. 'matrix'\n",
       "2. 'array'\n",
       "\n",
       "\n"
      ],
      "text/plain": [
       "[1] \"matrix\" \"array\" "
      ]
     },
     "metadata": {},
     "output_type": "display_data"
    },
    {
     "data": {
      "text/html": [
       "<style>\n",
       ".list-inline {list-style: none; margin:0; padding: 0}\n",
       ".list-inline>li {display: inline-block}\n",
       ".list-inline>li:not(:last-child)::after {content: \"\\00b7\"; padding: 0 .5ex}\n",
       "</style>\n",
       "<ol class=list-inline><li>32</li><li>2</li></ol>\n"
      ],
      "text/latex": [
       "\\begin{enumerate*}\n",
       "\\item 32\n",
       "\\item 2\n",
       "\\end{enumerate*}\n"
      ],
      "text/markdown": [
       "1. 32\n",
       "2. 2\n",
       "\n",
       "\n"
      ],
      "text/plain": [
       "[1] 32  2"
      ]
     },
     "metadata": {},
     "output_type": "display_data"
    },
    {
     "data": {
      "text/html": [
       "<table class=\"dataframe\">\n",
       "<caption>A matrix: 6 × 2 of type dbl</caption>\n",
       "<tbody>\n",
       "\t<tr><th scope=row>AIM2</th><td>2.032828e-10</td><td>2.314754e-07</td></tr>\n",
       "\t<tr><th scope=row>ZNF677</th><td>          NA</td><td>          NA</td></tr>\n",
       "\t<tr><th scope=row>CDCA7</th><td>7.579938e-09</td><td>1.168118e-03</td></tr>\n",
       "\t<tr><th scope=row>ELOVL6</th><td>9.892430e-10</td><td>0.000000e+00</td></tr>\n",
       "\t<tr><th scope=row>HIST1H1B</th><td>          NA</td><td>          NA</td></tr>\n",
       "\t<tr><th scope=row>TTBK1</th><td>          NA</td><td>          NA</td></tr>\n",
       "</tbody>\n",
       "</table>\n"
      ],
      "text/latex": [
       "A matrix: 6 × 2 of type dbl\n",
       "\\begin{tabular}{r|ll}\n",
       "\tAIM2 & 2.032828e-10 & 2.314754e-07\\\\\n",
       "\tZNF677 &           NA &           NA\\\\\n",
       "\tCDCA7 & 7.579938e-09 & 1.168118e-03\\\\\n",
       "\tELOVL6 & 9.892430e-10 & 0.000000e+00\\\\\n",
       "\tHIST1H1B &           NA &           NA\\\\\n",
       "\tTTBK1 &           NA &           NA\\\\\n",
       "\\end{tabular}\n"
      ],
      "text/markdown": [
       "\n",
       "A matrix: 6 × 2 of type dbl\n",
       "\n",
       "| AIM2 | 2.032828e-10 | 2.314754e-07 |\n",
       "| ZNF677 |           NA |           NA |\n",
       "| CDCA7 | 7.579938e-09 | 1.168118e-03 |\n",
       "| ELOVL6 | 9.892430e-10 | 0.000000e+00 |\n",
       "| HIST1H1B |           NA |           NA |\n",
       "| TTBK1 |           NA |           NA |\n",
       "\n"
      ],
      "text/plain": [
       "         [,1]         [,2]        \n",
       "AIM2     2.032828e-10 2.314754e-07\n",
       "ZNF677             NA           NA\n",
       "CDCA7    7.579938e-09 1.168118e-03\n",
       "ELOVL6   9.892430e-10 0.000000e+00\n",
       "HIST1H1B           NA           NA\n",
       "TTBK1              NA           NA"
      ]
     },
     "metadata": {},
     "output_type": "display_data"
    }
   ],
   "source": [
    "# sample pair - sample mate - pathway - matrix of genes x networks: mean impact of gene on pathway in sample mate\n",
    "head(allSamplImp[[1]][[1]][[2]])\n",
    "class(allSamplImp[[1]][[1]][[37]])\n",
    "dim(allSamplImp[[1]][[1]][[37]])\n",
    "head(allSamplImp[[1]][[1]][[37]])"
   ]
  },
  {
   "cell_type": "code",
   "execution_count": 71,
   "id": "a977cde7",
   "metadata": {
    "collapsed": true
   },
   "outputs": [
    {
     "name": "stderr",
     "output_type": "stream",
     "text": [
      "P03_BLun\n",
      "\n",
      "P04_BSki_1\n",
      "\n",
      "P08_BSof_1\n",
      "\n",
      "P08_BSof_2\n",
      "\n",
      "P08_BSof_3\n",
      "\n",
      "P16_BLun\n",
      "\n",
      "P18_BLun_1\n",
      "\n",
      "P18_BLun_2\n",
      "\n",
      "P39_BLun\n",
      "\n",
      "P42_BLym_1\n",
      "\n",
      "P42_BLym_2\n",
      "\n"
     ]
    }
   ],
   "source": [
    "# transform values to 1 data.frame for later\n",
    "# for each met pair and pathway\n",
    "# 1 column for impacts in brain / non-brain, log-ratio\n",
    "\n",
    "metPairImpacts = NULL\n",
    "oldWarningOpt <- getOption(\"warn\")\n",
    "options(warn = -1)\n",
    "for (samplePair in names(sampleMapping)) {\n",
    "    message(samplePair)\n",
    "    dataAllPw = NULL\n",
    "    for (pw in names(genePerPathwayList)) {\n",
    "        sample1 = sampleMapping[[samplePair]][[1]]\n",
    "        sample2 = sampleMapping[[samplePair]][[2]]\n",
    "        realImp1 = allSamplImp[[samplePair]][[sample1]][[pw]]\n",
    "        realImp2 = allSamplImp[[samplePair]][[sample2]][[pw]]\n",
    "        dataImp = data.frame(\n",
    "            median_brain_impact = apply(realImp1,1,function(r) median(na.omit(r))),\n",
    "            median_nonBrain_impact = apply(realImp2,1,function(r) median(na.omit(r))),\n",
    "                        stringsAsFactors=F )\n",
    "        dataImp$log2_median_impact_ratio = \n",
    "                        log2(dataImp$median_brain_impact/dataImp$median_nonBrain_impact)\n",
    "        dataImp$log2_mean_impact_ratio = \n",
    "            log2(apply(realImp1,1,function(r) \n",
    "                mean(na.omit(r)))/apply(realImp2,1,function(r) mean(na.omit(r))))\n",
    "        data1pw = data.frame(\n",
    "            samplePair=samplePair, gene = rownames(allSamplImp[[samplePair]][[1]][[pw]]), pathway = pw, \n",
    "            dataImp, stringsAsFactors = F)\n",
    "        metPairImpacts = rbind(metPairImpacts, data1pw)\n",
    "    }\n",
    "}\n",
    "options(warn = oldWarningOpt)\n",
    "#names(metPairImpacts) = names(sampleMapping)[1:length(metPairImpacts)]"
   ]
  },
  {
   "cell_type": "code",
   "execution_count": 72,
   "id": "2d5acd23",
   "metadata": {},
   "outputs": [
    {
     "data": {
      "text/html": [
       "<style>\n",
       ".list-inline {list-style: none; margin:0; padding: 0}\n",
       ".list-inline>li {display: inline-block}\n",
       ".list-inline>li:not(:last-child)::after {content: \"\\00b7\"; padding: 0 .5ex}\n",
       "</style>\n",
       "<ol class=list-inline><li>54870</li><li>7</li></ol>\n"
      ],
      "text/latex": [
       "\\begin{enumerate*}\n",
       "\\item 54870\n",
       "\\item 7\n",
       "\\end{enumerate*}\n"
      ],
      "text/markdown": [
       "1. 54870\n",
       "2. 7\n",
       "\n",
       "\n"
      ],
      "text/plain": [
       "[1] 54870     7"
      ]
     },
     "metadata": {},
     "output_type": "display_data"
    },
    {
     "data": {
      "text/html": [
       "<table class=\"dataframe\">\n",
       "<caption>A data.frame: 6 × 7</caption>\n",
       "<thead>\n",
       "\t<tr><th></th><th scope=col>samplePair</th><th scope=col>gene</th><th scope=col>pathway</th><th scope=col>median_brain_impact</th><th scope=col>median_nonBrain_impact</th><th scope=col>log2_median_impact_ratio</th><th scope=col>log2_mean_impact_ratio</th></tr>\n",
       "\t<tr><th></th><th scope=col>&lt;chr&gt;</th><th scope=col>&lt;chr&gt;</th><th scope=col>&lt;chr&gt;</th><th scope=col>&lt;dbl&gt;</th><th scope=col>&lt;dbl&gt;</th><th scope=col>&lt;dbl&gt;</th><th scope=col>&lt;dbl&gt;</th></tr>\n",
       "</thead>\n",
       "<tbody>\n",
       "\t<tr><th scope=row>AIM2</th><td>P03_BLun</td><td>AIM2    </td><td>PPAR</td><td>5.755740e-08</td><td>1.896864e-08</td><td>1.601385</td><td>1.601385</td></tr>\n",
       "\t<tr><th scope=row>ZNF677</th><td>P03_BLun</td><td>ZNF677  </td><td>PPAR</td><td>          NA</td><td>          NA</td><td>      NA</td><td>     NaN</td></tr>\n",
       "\t<tr><th scope=row>CDCA7</th><td>P03_BLun</td><td>CDCA7   </td><td>PPAR</td><td>1.104414e-07</td><td>4.341709e-08</td><td>1.346946</td><td>1.346946</td></tr>\n",
       "\t<tr><th scope=row>ELOVL6</th><td>P03_BLun</td><td>ELOVL6  </td><td>PPAR</td><td>1.518836e-07</td><td>3.990420e-08</td><td>1.928353</td><td>1.928353</td></tr>\n",
       "\t<tr><th scope=row>HIST1H1B</th><td>P03_BLun</td><td>HIST1H1B</td><td>PPAR</td><td>          NA</td><td>          NA</td><td>      NA</td><td>     NaN</td></tr>\n",
       "\t<tr><th scope=row>TTBK1</th><td>P03_BLun</td><td>TTBK1   </td><td>PPAR</td><td>          NA</td><td>          NA</td><td>      NA</td><td>     NaN</td></tr>\n",
       "</tbody>\n",
       "</table>\n"
      ],
      "text/latex": [
       "A data.frame: 6 × 7\n",
       "\\begin{tabular}{r|lllllll}\n",
       "  & samplePair & gene & pathway & median\\_brain\\_impact & median\\_nonBrain\\_impact & log2\\_median\\_impact\\_ratio & log2\\_mean\\_impact\\_ratio\\\\\n",
       "  & <chr> & <chr> & <chr> & <dbl> & <dbl> & <dbl> & <dbl>\\\\\n",
       "\\hline\n",
       "\tAIM2 & P03\\_BLun & AIM2     & PPAR & 5.755740e-08 & 1.896864e-08 & 1.601385 & 1.601385\\\\\n",
       "\tZNF677 & P03\\_BLun & ZNF677   & PPAR &           NA &           NA &       NA &      NaN\\\\\n",
       "\tCDCA7 & P03\\_BLun & CDCA7    & PPAR & 1.104414e-07 & 4.341709e-08 & 1.346946 & 1.346946\\\\\n",
       "\tELOVL6 & P03\\_BLun & ELOVL6   & PPAR & 1.518836e-07 & 3.990420e-08 & 1.928353 & 1.928353\\\\\n",
       "\tHIST1H1B & P03\\_BLun & HIST1H1B & PPAR &           NA &           NA &       NA &      NaN\\\\\n",
       "\tTTBK1 & P03\\_BLun & TTBK1    & PPAR &           NA &           NA &       NA &      NaN\\\\\n",
       "\\end{tabular}\n"
      ],
      "text/markdown": [
       "\n",
       "A data.frame: 6 × 7\n",
       "\n",
       "| <!--/--> | samplePair &lt;chr&gt; | gene &lt;chr&gt; | pathway &lt;chr&gt; | median_brain_impact &lt;dbl&gt; | median_nonBrain_impact &lt;dbl&gt; | log2_median_impact_ratio &lt;dbl&gt; | log2_mean_impact_ratio &lt;dbl&gt; |\n",
       "|---|---|---|---|---|---|---|---|\n",
       "| AIM2 | P03_BLun | AIM2     | PPAR | 5.755740e-08 | 1.896864e-08 | 1.601385 | 1.601385 |\n",
       "| ZNF677 | P03_BLun | ZNF677   | PPAR |           NA |           NA |       NA |      NaN |\n",
       "| CDCA7 | P03_BLun | CDCA7    | PPAR | 1.104414e-07 | 4.341709e-08 | 1.346946 | 1.346946 |\n",
       "| ELOVL6 | P03_BLun | ELOVL6   | PPAR | 1.518836e-07 | 3.990420e-08 | 1.928353 | 1.928353 |\n",
       "| HIST1H1B | P03_BLun | HIST1H1B | PPAR |           NA |           NA |       NA |      NaN |\n",
       "| TTBK1 | P03_BLun | TTBK1    | PPAR |           NA |           NA |       NA |      NaN |\n",
       "\n"
      ],
      "text/plain": [
       "         samplePair gene     pathway median_brain_impact median_nonBrain_impact\n",
       "AIM2     P03_BLun   AIM2     PPAR    5.755740e-08        1.896864e-08          \n",
       "ZNF677   P03_BLun   ZNF677   PPAR              NA                  NA          \n",
       "CDCA7    P03_BLun   CDCA7    PPAR    1.104414e-07        4.341709e-08          \n",
       "ELOVL6   P03_BLun   ELOVL6   PPAR    1.518836e-07        3.990420e-08          \n",
       "HIST1H1B P03_BLun   HIST1H1B PPAR              NA                  NA          \n",
       "TTBK1    P03_BLun   TTBK1    PPAR              NA                  NA          \n",
       "         log2_median_impact_ratio log2_mean_impact_ratio\n",
       "AIM2     1.601385                 1.601385              \n",
       "ZNF677         NA                      NaN              \n",
       "CDCA7    1.346946                 1.346946              \n",
       "ELOVL6   1.928353                 1.928353              \n",
       "HIST1H1B       NA                      NaN              \n",
       "TTBK1          NA                      NaN              "
      ]
     },
     "metadata": {},
     "output_type": "display_data"
    }
   ],
   "source": [
    "dim(metPairImpacts)\n",
    "head(metPairImpacts)"
   ]
  },
  {
   "cell_type": "code",
   "execution_count": 75,
   "id": "490474fb",
   "metadata": {},
   "outputs": [],
   "source": [
    "saveRDS(object = metPairImpacts, file = \"metPairs-impactRatios-onPathways.rds\")"
   ]
  },
  {
   "cell_type": "markdown",
   "id": "bdebd16d",
   "metadata": {},
   "source": [
    "# impacts on single genes"
   ]
  },
  {
   "cell_type": "code",
   "execution_count": 87,
   "id": "19ba1e58",
   "metadata": {},
   "outputs": [],
   "source": [
    "myFullDataSet = loadGeneExpressionAndCopyNumberDataSet(\n",
    "    geneExpressionFile = \"MelBrainSys-expression.csv\", \n",
    "    geneCopyNumberFile = \"MelBrainSys-methylation.csv\", path = paste0(myPath,\"Data/\") )"
   ]
  },
  {
   "cell_type": "code",
   "execution_count": 88,
   "id": "8bb66038",
   "metadata": {},
   "outputs": [
    {
     "data": {
      "text/html": [
       "8251"
      ],
      "text/latex": [
       "8251"
      ],
      "text/markdown": [
       "8251"
      ],
      "text/plain": [
       "[1] 8251"
      ]
     },
     "metadata": {},
     "output_type": "display_data"
    },
    {
     "data": {
      "text/html": [
       "<style>\n",
       ".list-inline {list-style: none; margin:0; padding: 0}\n",
       ".list-inline>li {display: inline-block}\n",
       ".list-inline>li:not(:last-child)::after {content: \"\\00b7\"; padding: 0 .5ex}\n",
       "</style>\n",
       "<ol class=list-inline><li>'NOC2L'</li><li>'KLHL17'</li><li>'HES4'</li><li>'ISG15'</li><li>'AGRN'</li><li>'C1orf159'</li></ol>\n"
      ],
      "text/latex": [
       "\\begin{enumerate*}\n",
       "\\item 'NOC2L'\n",
       "\\item 'KLHL17'\n",
       "\\item 'HES4'\n",
       "\\item 'ISG15'\n",
       "\\item 'AGRN'\n",
       "\\item 'C1orf159'\n",
       "\\end{enumerate*}\n"
      ],
      "text/markdown": [
       "1. 'NOC2L'\n",
       "2. 'KLHL17'\n",
       "3. 'HES4'\n",
       "4. 'ISG15'\n",
       "5. 'AGRN'\n",
       "6. 'C1orf159'\n",
       "\n",
       "\n"
      ],
      "text/plain": [
       "[1] \"NOC2L\"    \"KLHL17\"   \"HES4\"     \"ISG15\"    \"AGRN\"     \"C1orf159\""
      ]
     },
     "metadata": {},
     "output_type": "display_data"
    }
   ],
   "source": [
    "allGenesNWs = myFullDataSet$genes\n",
    "numGenes = length(allGenesNWs)\n",
    "numGenes; head(allGenesNWs)"
   ]
  },
  {
   "cell_type": "code",
   "execution_count": 115,
   "id": "5f6abb43",
   "metadata": {},
   "outputs": [],
   "source": [
    "calc1sampleImpacts = function(paramSets=paramSets,DGEsDMPs=DGEsDMPs,nbCPUs=nbCPUs) {\n",
    "    allImpacts1 = mclapply(X = paramSets, mc.cores = nbCPUs, FUN = function(params) {\n",
    "        sample = params[\"sample\"]\n",
    "        nw = params[\"nw\"]\n",
    "        path = paste0(myPath,\"TrainNetwork-\",nw,\"/\")\n",
    "        impacts = getImpacts_PatientSpecificAbsoluteImpacts(\n",
    "            patient = sample, sourceGenes = DGEsDMPs, targetGenes = allGenesNWs, \n",
    "            dataSetName = dataSetName,networkName = networkName, \n",
    "            pValCutoff = pValCutoff, localGeneCutoff = localGeneCutoff, \n",
    "            colSumsThreshold = colSumsThreshold, path = path, \n",
    "            outputFile =  paste0(\"tmp-\",nw,\"-\",sample), output=F )\n",
    "        f = file(description = logFile,open = \"a\")\n",
    "        writeLines(con = f,text = paste0(\"netw \",nw,\", sample \",sample))\n",
    "        close(f)\n",
    "        rownames(impacts) = DGEsDMPs\n",
    "        as.matrix(impacts[,-1])\n",
    "    })\n",
    "}"
   ]
  },
  {
   "cell_type": "code",
   "execution_count": 117,
   "id": "1824a277",
   "metadata": {
    "scrolled": true
   },
   "outputs": [
    {
     "name": "stderr",
     "output_type": "stream",
     "text": [
      "P03_BLun\n",
      "\n",
      "  P03_Br\n",
      "\n",
      "    23 DGEsDMPs\n",
      "\n",
      "  P03_Lu\n",
      "\n",
      "    23 DGEsDMPs\n",
      "\n",
      "P04_BSki_1\n",
      "\n",
      "  P04_Br\n",
      "\n",
      "    48 DGEsDMPs\n",
      "\n",
      "  P04_Sk_GA\n",
      "\n",
      "    48 DGEsDMPs\n",
      "\n",
      "P08_BSof_1\n",
      "\n",
      "  P08_Br\n",
      "\n",
      "    43 DGEsDMPs\n",
      "\n",
      "  P08_St_GA\n",
      "\n",
      "    43 DGEsDMPs\n",
      "\n",
      "P08_BSof_2\n",
      "\n",
      "  P08_Br\n",
      "\n",
      "    40 DGEsDMPs\n",
      "\n",
      "  P08_St_BA\n",
      "\n",
      "    40 DGEsDMPs\n",
      "\n",
      "P08_BSof_3\n",
      "\n",
      "  P08_Br\n",
      "\n",
      "    69 DGEsDMPs\n",
      "\n",
      "  P08_St_YA\n",
      "\n",
      "    69 DGEsDMPs\n",
      "\n",
      "P16_BLun\n",
      "\n",
      "  P16_Br\n",
      "\n",
      "    11 DGEsDMPs\n",
      "\n",
      "  P16_Lu\n",
      "\n",
      "    11 DGEsDMPs\n",
      "\n",
      "P18_BLun_1\n",
      "\n",
      "  P18_Br\n",
      "\n",
      "    21 DGEsDMPs\n",
      "\n",
      "  P18_Lu_GA\n",
      "\n",
      "    21 DGEsDMPs\n",
      "\n",
      "P18_BLun_2\n",
      "\n",
      "  P18_Br\n",
      "\n",
      "    30 DGEsDMPs\n",
      "\n",
      "  P18_Lu_YA\n",
      "\n",
      "    30 DGEsDMPs\n",
      "\n",
      "P39_BLun\n",
      "\n",
      "  P39_Br\n",
      "\n",
      "    88 DGEsDMPs\n",
      "\n",
      "  P39_Lu\n",
      "\n",
      "    88 DGEsDMPs\n",
      "\n",
      "P42_BLym_1\n",
      "\n",
      "  P42_Br_GA\n",
      "\n",
      "    279 DGEsDMPs\n",
      "\n",
      "  P42_Ly_GA\n",
      "\n",
      "    279 DGEsDMPs\n",
      "\n",
      "P42_BLym_2\n",
      "\n",
      "  P42_Br_GA\n",
      "\n",
      "    49 DGEsDMPs\n",
      "\n",
      "  P42_Ly_YA\n",
      "\n",
      "    49 DGEsDMPs\n",
      "\n"
     ]
    },
    {
     "data": {
      "text/plain": [
       "Time difference of 4 mins"
      ]
     },
     "metadata": {},
     "output_type": "display_data"
    }
   ],
   "source": [
    "# extract for each sample pair, each sample, each one of the 25 NWs, DGEsDMPs impacts on all other genes:\n",
    "logFile=\"log-getImpacts.txt\";\n",
    "if(file.exists(logFile)){file.remove(logFile)}\n",
    "startt = Sys.time()\n",
    "allImpacts = NULL\n",
    "for( samplePair in names(sampleMapping)) {\n",
    "    message(samplePair)\n",
    "    samples = sampleMapping[[samplePair]]\n",
    "    message(\"  \",samples[1])\n",
    "    paramSets = lapply(samples[1], function(sample) lapply(1:numOfNWs, function(nw) c(sample=sample, nw=nw)))\n",
    "    paramSets = unlist(paramSets,recursive = F)\n",
    "    DGEsDMPs = regGenesPerPat[[samplePair]]\n",
    "    DGEsDMPs = intersect(DGEsDMPs, allGenesNWs) # only DGEs that are in our data\n",
    "    message(\"    \",length(DGEsDMPs), \" DGEsDMPs\")\n",
    "    brainImpacts = calc1sampleImpacts(paramSets = paramSets, DGEsDMPs = DGEsDMPs,nbCPUs = nbCPUs)\n",
    "\n",
    "    message(\"  \",samples[2])\n",
    "    paramSets = lapply(samples[2], function(sample) lapply(1:numOfNWs, function(nw) c(sample=sample, nw=nw)))\n",
    "    paramSets = unlist(paramSets,recursive = F)\n",
    "    DGEsDMPs = regGenesPerPat[[samplePair]]\n",
    "    DGEsDMPs = intersect(DGEsDMPs, allGenesNWs) # only DGEs that are in our data\n",
    "    message(\"    \",length(DGEsDMPs), \" DGEsDMPs\")\n",
    "    nonBrainImpacts = calc1sampleImpacts(paramSets = paramSets, DGEsDMPs = DGEsDMPs,nbCPUs = nbCPUs)\n",
    "    tmp = list(brainImpacts, nonBrainImpacts)\n",
    "    names(tmp) = samples\n",
    "    allImpacts[[length(allImpacts)+1]] = tmp\n",
    "}\n",
    "endt = Sys.time()\n",
    "round(difftime(endt, startt,units=\"min\"))\n",
    "names(allImpacts) = names(sampleMapping)\n",
    "# ca 5 min for 2 networks and 10 met. pairs"
   ]
  },
  {
   "cell_type": "code",
   "execution_count": 119,
   "id": "6561d272",
   "metadata": {
    "scrolled": true
   },
   "outputs": [
    {
     "name": "stderr",
     "output_type": "stream",
     "text": [
      "P03_BLun\n",
      "\n",
      "   P03_Br\n",
      "\n",
      "   2\n",
      "\n",
      "   P03_Lu\n",
      "\n",
      "   2\n",
      "\n",
      "P04_BSki_1\n",
      "\n",
      "   P04_Br\n",
      "\n",
      "   2\n",
      "\n",
      "   P04_Sk_GA\n",
      "\n",
      "   2\n",
      "\n",
      "P08_BSof_1\n",
      "\n",
      "   P08_Br\n",
      "\n",
      "   2\n",
      "\n",
      "   P08_St_GA\n",
      "\n",
      "   2\n",
      "\n",
      "P08_BSof_2\n",
      "\n",
      "   P08_Br\n",
      "\n",
      "   2\n",
      "\n",
      "   P08_St_BA\n",
      "\n",
      "   2\n",
      "\n",
      "P08_BSof_3\n",
      "\n",
      "   P08_Br\n",
      "\n",
      "   2\n",
      "\n",
      "   P08_St_YA\n",
      "\n",
      "   2\n",
      "\n",
      "P16_BLun\n",
      "\n",
      "   P16_Br\n",
      "\n",
      "   2\n",
      "\n",
      "   P16_Lu\n",
      "\n",
      "   2\n",
      "\n",
      "P18_BLun_1\n",
      "\n",
      "   P18_Br\n",
      "\n",
      "   2\n",
      "\n",
      "   P18_Lu_GA\n",
      "\n",
      "   2\n",
      "\n",
      "P18_BLun_2\n",
      "\n",
      "   P18_Br\n",
      "\n",
      "   2\n",
      "\n",
      "   P18_Lu_YA\n",
      "\n",
      "   2\n",
      "\n",
      "P39_BLun\n",
      "\n",
      "   P39_Br\n",
      "\n",
      "   2\n",
      "\n",
      "   P39_Lu\n",
      "\n",
      "   2\n",
      "\n",
      "P42_BLym_1\n",
      "\n",
      "   P42_Br_GA\n",
      "\n",
      "   2\n",
      "\n",
      "   P42_Ly_GA\n",
      "\n",
      "   2\n",
      "\n",
      "P42_BLym_2\n",
      "\n",
      "   P42_Br_GA\n",
      "\n",
      "   2\n",
      "\n",
      "   P42_Ly_YA\n",
      "\n",
      "   2\n",
      "\n"
     ]
    },
    {
     "data": {
      "text/plain": [
       "Time difference of 1 mins"
      ]
     },
     "metadata": {},
     "output_type": "display_data"
    }
   ],
   "source": [
    "# calc. median impacts for each sample over all 25 networks\n",
    "#  and from these calc. log median impact ratios for each sample pair\n",
    "nbCPUs=8\n",
    "if(file.exists(logFile)){file.remove(logFile)}\n",
    "startt=Sys.time()\n",
    "logMedianImpRatios = NULL\n",
    "\n",
    "for(sp in names(allImpacts)) {\n",
    "    message(sp)\n",
    "    medianImpacts = NULL\n",
    "    for( sampleName in names(allImpacts[[sp]])) {\n",
    "        message(\"   \",sampleName)\n",
    "        impacts = allImpacts[[sp]][[sampleName]]\n",
    "        message(\"   \",length(impacts))\n",
    "        numSourcGenes = nrow(impacts[[1]])\n",
    "        #numSourcGenes\n",
    "        arr = array(data = NA,dim = c(numOfNWs,numSourcGenes,numGenes))\n",
    "        for(j in 1:length(impacts)) {\n",
    "            arr[j,,]=impacts[[j]]\n",
    "        }\n",
    "        medianSampleImpacts = mclapply(1:numGenes,mc.cores = nbCPUs,function(c) {\n",
    "            sapply(1:numSourcGenes, function(r)\n",
    "                median(x=arr[,r,c], na.rm=T)\n",
    "            )\n",
    "        })\n",
    "        medianSampleImpacts = do.call(cbind,medianSampleImpacts)\n",
    "        rownames(medianSampleImpacts)=rownames(impacts[[1]])\n",
    "        colnames(medianSampleImpacts)=allGenesNWs\n",
    "        medianImpacts[[length(medianImpacts)+1]] = medianSampleImpacts\n",
    "        f = file(description = logFile,open = \"a\")\n",
    "        writeLines(con = f,text = paste0(\"sample \",sampleName))\n",
    "        close(f)\n",
    "    }\n",
    "    names(medianImpacts) = names(allImpacts[[sp]])\n",
    "    # calc. log median impact ratios \n",
    "    logMedianImpRatios[[length(logMedianImpRatios)+1]] = \n",
    "            log2(medianImpacts[[1]]/medianImpacts[[2]])\n",
    "}\n",
    "# 1-3 min\n",
    "names(logMedianImpRatios) = names(allImpacts)\n",
    "endt=Sys.time()\n",
    "round(difftime(endt, startt,units=\"min\"))"
   ]
  },
  {
   "cell_type": "code",
   "execution_count": 127,
   "id": "c1dbfc6c",
   "metadata": {},
   "outputs": [
    {
     "data": {
      "text/html": [
       "<table class=\"dataframe\">\n",
       "<caption>A matrix: 4 × 3 of type dbl</caption>\n",
       "<thead>\n",
       "\t<tr><th></th><th scope=col>NOC2L</th><th scope=col>KLHL17</th><th scope=col>HES4</th></tr>\n",
       "</thead>\n",
       "<tbody>\n",
       "\t<tr><th scope=row>AIM2</th><td>1.3741435</td><td>-0.7504903</td><td> 1.9597567</td></tr>\n",
       "\t<tr><th scope=row>CDCA7</th><td>1.0236865</td><td> 2.3013262</td><td> 2.3037679</td></tr>\n",
       "\t<tr><th scope=row>ELOVL6</th><td>1.6849782</td><td> 1.1693858</td><td>-0.6388257</td></tr>\n",
       "\t<tr><th scope=row>IMPA1</th><td>0.6407736</td><td> 1.3500918</td><td> 1.6205505</td></tr>\n",
       "</tbody>\n",
       "</table>\n"
      ],
      "text/latex": [
       "A matrix: 4 × 3 of type dbl\n",
       "\\begin{tabular}{r|lll}\n",
       "  & NOC2L & KLHL17 & HES4\\\\\n",
       "\\hline\n",
       "\tAIM2 & 1.3741435 & -0.7504903 &  1.9597567\\\\\n",
       "\tCDCA7 & 1.0236865 &  2.3013262 &  2.3037679\\\\\n",
       "\tELOVL6 & 1.6849782 &  1.1693858 & -0.6388257\\\\\n",
       "\tIMPA1 & 0.6407736 &  1.3500918 &  1.6205505\\\\\n",
       "\\end{tabular}\n"
      ],
      "text/markdown": [
       "\n",
       "A matrix: 4 × 3 of type dbl\n",
       "\n",
       "| <!--/--> | NOC2L | KLHL17 | HES4 |\n",
       "|---|---|---|---|\n",
       "| AIM2 | 1.3741435 | -0.7504903 |  1.9597567 |\n",
       "| CDCA7 | 1.0236865 |  2.3013262 |  2.3037679 |\n",
       "| ELOVL6 | 1.6849782 |  1.1693858 | -0.6388257 |\n",
       "| IMPA1 | 0.6407736 |  1.3500918 |  1.6205505 |\n",
       "\n"
      ],
      "text/plain": [
       "       NOC2L     KLHL17     HES4      \n",
       "AIM2   1.3741435 -0.7504903  1.9597567\n",
       "CDCA7  1.0236865  2.3013262  2.3037679\n",
       "ELOVL6 1.6849782  1.1693858 -0.6388257\n",
       "IMPA1  0.6407736  1.3500918  1.6205505"
      ]
     },
     "metadata": {},
     "output_type": "display_data"
    }
   ],
   "source": [
    "logMedianImpRatios$P03_BLun[1:4,1:3]\n",
    "# for each metastases pair source genes x target genes matrix with impact log ratios on these target genes"
   ]
  },
  {
   "cell_type": "code",
   "execution_count": 155,
   "id": "51f16fc1",
   "metadata": {},
   "outputs": [
    {
     "data": {
      "text/html": [
       "<style>\n",
       ".list-inline {list-style: none; margin:0; padding: 0}\n",
       ".list-inline>li {display: inline-block}\n",
       ".list-inline>li:not(:last-child)::after {content: \"\\00b7\"; padding: 0 .5ex}\n",
       "</style>\n",
       "<ol class=list-inline><li>'P03_BLun'</li><li>'P04_BSki_1'</li><li>'P08_BSof_1'</li></ol>\n"
      ],
      "text/latex": [
       "\\begin{enumerate*}\n",
       "\\item 'P03\\_BLun'\n",
       "\\item 'P04\\_BSki\\_1'\n",
       "\\item 'P08\\_BSof\\_1'\n",
       "\\end{enumerate*}\n"
      ],
      "text/markdown": [
       "1. 'P03_BLun'\n",
       "2. 'P04_BSki_1'\n",
       "3. 'P08_BSof_1'\n",
       "\n",
       "\n"
      ],
      "text/plain": [
       "[1] \"P03_BLun\"   \"P04_BSki_1\" \"P08_BSof_1\""
      ]
     },
     "metadata": {},
     "output_type": "display_data"
    },
    {
     "data": {
      "text/html": [
       "<style>\n",
       ".dl-inline {width: auto; margin:0; padding: 0}\n",
       ".dl-inline>dt, .dl-inline>dd {float: none; width: auto; display: inline-block}\n",
       ".dl-inline>dt::after {content: \":\\0020\"; padding-right: .5ex}\n",
       ".dl-inline>dt:not(:first-of-type) {padding-left: .5ex}\n",
       "</style><dl class=dl-inline><dt>NOC2L</dt><dd>-0.513184793247382</dd><dt>KLHL17</dt><dd>-0.375471996972163</dd><dt>HES4</dt><dd>-1.02206731823824</dd><dt>ISG15</dt><dd>-0.477841601465134</dd></dl>\n"
      ],
      "text/latex": [
       "\\begin{description*}\n",
       "\\item[NOC2L] -0.513184793247382\n",
       "\\item[KLHL17] -0.375471996972163\n",
       "\\item[HES4] -1.02206731823824\n",
       "\\item[ISG15] -0.477841601465134\n",
       "\\end{description*}\n"
      ],
      "text/markdown": [
       "NOC2L\n",
       ":   -0.513184793247382KLHL17\n",
       ":   -0.375471996972163HES4\n",
       ":   -1.02206731823824ISG15\n",
       ":   -0.477841601465134\n",
       "\n"
      ],
      "text/plain": [
       "     NOC2L     KLHL17       HES4      ISG15 \n",
       "-0.5131848 -0.3754720 -1.0220673 -0.4778416 "
      ]
     },
     "metadata": {},
     "output_type": "display_data"
    }
   ],
   "source": [
    "# and now mean of log median imp ratio over source genes\n",
    "meanLogMedianImpRatios=NULL\n",
    "for(sp in names(logMedianImpRatios)) {\n",
    "    meanLogMedianImpRatios[[length(meanLogMedianImpRatios)+1]] = \n",
    "        apply(logMedianImpRatios[[sp]], 2,function(m) mean(m,na.rm=T))\n",
    "}\n",
    "names(meanLogMedianImpRatios) = names(logMedianImpRatios)\n",
    "names(meanLogMedianImpRatios)[1:3]\n",
    "head(meanLogMedianImpRatios[[1]],4)"
   ]
  },
  {
   "cell_type": "code",
   "execution_count": 156,
   "id": "0520cb0c",
   "metadata": {
    "scrolled": true
   },
   "outputs": [
    {
     "data": {
      "text/html": [
       "<table class=\"dataframe\">\n",
       "<caption>A matrix: 6 × 11 of type dbl</caption>\n",
       "<thead>\n",
       "\t<tr><th></th><th scope=col>P03_BLun</th><th scope=col>P04_BSki_1</th><th scope=col>P08_BSof_1</th><th scope=col>P08_BSof_2</th><th scope=col>P08_BSof_3</th><th scope=col>P16_BLun</th><th scope=col>P18_BLun_1</th><th scope=col>P18_BLun_2</th><th scope=col>P39_BLun</th><th scope=col>P42_BLym_1</th><th scope=col>P42_BLym_2</th></tr>\n",
       "</thead>\n",
       "<tbody>\n",
       "\t<tr><th scope=row>NOC2L</th><td>-0.5131848</td><td>0.2623647</td><td>-0.8237658</td><td>-0.04970504</td><td>-0.3760514</td><td> 0.197820589</td><td>-0.29186426</td><td>-0.6056519</td><td>-1.0009443</td><td> 0.4271530</td><td>-0.31009925</td></tr>\n",
       "\t<tr><th scope=row>KLHL17</th><td>-0.3754720</td><td>0.5195951</td><td>-0.8366981</td><td>-0.26829236</td><td>-0.3536398</td><td>-0.008449568</td><td>-0.90867937</td><td>-0.5893162</td><td>-1.1208155</td><td> 0.3428841</td><td>-0.29978671</td></tr>\n",
       "\t<tr><th scope=row>HES4</th><td>-1.0220673</td><td>0.3757407</td><td>-0.7503114</td><td>-0.01497900</td><td> 0.2059771</td><td>-1.191426658</td><td>-0.16027045</td><td>-0.8164230</td><td>-1.9369733</td><td>-1.0808609</td><td>-0.51779540</td></tr>\n",
       "\t<tr><th scope=row>ISG15</th><td>-0.4778416</td><td>0.2964649</td><td>-0.8558360</td><td> 0.30105722</td><td> 0.0270101</td><td> 0.398693258</td><td> 0.05842640</td><td>-0.3556355</td><td>-0.8483902</td><td> 0.3199234</td><td>-0.37101770</td></tr>\n",
       "\t<tr><th scope=row>AGRN</th><td>-0.8571891</td><td>0.5567957</td><td>-0.9730449</td><td> 0.11305796</td><td>-0.3439669</td><td>-0.111755277</td><td>-0.09810649</td><td>-0.4588938</td><td>-1.0630752</td><td> 0.6730077</td><td>-0.09384669</td></tr>\n",
       "\t<tr><th scope=row>C1orf159</th><td>-0.4562156</td><td>0.3341612</td><td>-0.8622403</td><td>-0.06471666</td><td>-0.6813369</td><td> 0.540506357</td><td>-0.21481722</td><td>-0.4516024</td><td>-1.1938917</td><td> 0.4187700</td><td> 0.25238287</td></tr>\n",
       "</tbody>\n",
       "</table>\n"
      ],
      "text/latex": [
       "A matrix: 6 × 11 of type dbl\n",
       "\\begin{tabular}{r|lllllllllll}\n",
       "  & P03\\_BLun & P04\\_BSki\\_1 & P08\\_BSof\\_1 & P08\\_BSof\\_2 & P08\\_BSof\\_3 & P16\\_BLun & P18\\_BLun\\_1 & P18\\_BLun\\_2 & P39\\_BLun & P42\\_BLym\\_1 & P42\\_BLym\\_2\\\\\n",
       "\\hline\n",
       "\tNOC2L & -0.5131848 & 0.2623647 & -0.8237658 & -0.04970504 & -0.3760514 &  0.197820589 & -0.29186426 & -0.6056519 & -1.0009443 &  0.4271530 & -0.31009925\\\\\n",
       "\tKLHL17 & -0.3754720 & 0.5195951 & -0.8366981 & -0.26829236 & -0.3536398 & -0.008449568 & -0.90867937 & -0.5893162 & -1.1208155 &  0.3428841 & -0.29978671\\\\\n",
       "\tHES4 & -1.0220673 & 0.3757407 & -0.7503114 & -0.01497900 &  0.2059771 & -1.191426658 & -0.16027045 & -0.8164230 & -1.9369733 & -1.0808609 & -0.51779540\\\\\n",
       "\tISG15 & -0.4778416 & 0.2964649 & -0.8558360 &  0.30105722 &  0.0270101 &  0.398693258 &  0.05842640 & -0.3556355 & -0.8483902 &  0.3199234 & -0.37101770\\\\\n",
       "\tAGRN & -0.8571891 & 0.5567957 & -0.9730449 &  0.11305796 & -0.3439669 & -0.111755277 & -0.09810649 & -0.4588938 & -1.0630752 &  0.6730077 & -0.09384669\\\\\n",
       "\tC1orf159 & -0.4562156 & 0.3341612 & -0.8622403 & -0.06471666 & -0.6813369 &  0.540506357 & -0.21481722 & -0.4516024 & -1.1938917 &  0.4187700 &  0.25238287\\\\\n",
       "\\end{tabular}\n"
      ],
      "text/markdown": [
       "\n",
       "A matrix: 6 × 11 of type dbl\n",
       "\n",
       "| <!--/--> | P03_BLun | P04_BSki_1 | P08_BSof_1 | P08_BSof_2 | P08_BSof_3 | P16_BLun | P18_BLun_1 | P18_BLun_2 | P39_BLun | P42_BLym_1 | P42_BLym_2 |\n",
       "|---|---|---|---|---|---|---|---|---|---|---|---|\n",
       "| NOC2L | -0.5131848 | 0.2623647 | -0.8237658 | -0.04970504 | -0.3760514 |  0.197820589 | -0.29186426 | -0.6056519 | -1.0009443 |  0.4271530 | -0.31009925 |\n",
       "| KLHL17 | -0.3754720 | 0.5195951 | -0.8366981 | -0.26829236 | -0.3536398 | -0.008449568 | -0.90867937 | -0.5893162 | -1.1208155 |  0.3428841 | -0.29978671 |\n",
       "| HES4 | -1.0220673 | 0.3757407 | -0.7503114 | -0.01497900 |  0.2059771 | -1.191426658 | -0.16027045 | -0.8164230 | -1.9369733 | -1.0808609 | -0.51779540 |\n",
       "| ISG15 | -0.4778416 | 0.2964649 | -0.8558360 |  0.30105722 |  0.0270101 |  0.398693258 |  0.05842640 | -0.3556355 | -0.8483902 |  0.3199234 | -0.37101770 |\n",
       "| AGRN | -0.8571891 | 0.5567957 | -0.9730449 |  0.11305796 | -0.3439669 | -0.111755277 | -0.09810649 | -0.4588938 | -1.0630752 |  0.6730077 | -0.09384669 |\n",
       "| C1orf159 | -0.4562156 | 0.3341612 | -0.8622403 | -0.06471666 | -0.6813369 |  0.540506357 | -0.21481722 | -0.4516024 | -1.1938917 |  0.4187700 |  0.25238287 |\n",
       "\n"
      ],
      "text/plain": [
       "         P03_BLun   P04_BSki_1 P08_BSof_1 P08_BSof_2  P08_BSof_3 P16_BLun    \n",
       "NOC2L    -0.5131848 0.2623647  -0.8237658 -0.04970504 -0.3760514  0.197820589\n",
       "KLHL17   -0.3754720 0.5195951  -0.8366981 -0.26829236 -0.3536398 -0.008449568\n",
       "HES4     -1.0220673 0.3757407  -0.7503114 -0.01497900  0.2059771 -1.191426658\n",
       "ISG15    -0.4778416 0.2964649  -0.8558360  0.30105722  0.0270101  0.398693258\n",
       "AGRN     -0.8571891 0.5567957  -0.9730449  0.11305796 -0.3439669 -0.111755277\n",
       "C1orf159 -0.4562156 0.3341612  -0.8622403 -0.06471666 -0.6813369  0.540506357\n",
       "         P18_BLun_1  P18_BLun_2 P39_BLun   P42_BLym_1 P42_BLym_2 \n",
       "NOC2L    -0.29186426 -0.6056519 -1.0009443  0.4271530 -0.31009925\n",
       "KLHL17   -0.90867937 -0.5893162 -1.1208155  0.3428841 -0.29978671\n",
       "HES4     -0.16027045 -0.8164230 -1.9369733 -1.0808609 -0.51779540\n",
       "ISG15     0.05842640 -0.3556355 -0.8483902  0.3199234 -0.37101770\n",
       "AGRN     -0.09810649 -0.4588938 -1.0630752  0.6730077 -0.09384669\n",
       "C1orf159 -0.21481722 -0.4516024 -1.1938917  0.4187700  0.25238287"
      ]
     },
     "metadata": {},
     "output_type": "display_data"
    },
    {
     "data": {
      "text/html": [
       "<style>\n",
       ".list-inline {list-style: none; margin:0; padding: 0}\n",
       ".list-inline>li {display: inline-block}\n",
       ".list-inline>li:not(:last-child)::after {content: \"\\00b7\"; padding: 0 .5ex}\n",
       "</style>\n",
       "<ol class=list-inline><li>8251</li><li>11</li></ol>\n"
      ],
      "text/latex": [
       "\\begin{enumerate*}\n",
       "\\item 8251\n",
       "\\item 11\n",
       "\\end{enumerate*}\n"
      ],
      "text/markdown": [
       "1. 8251\n",
       "2. 11\n",
       "\n",
       "\n"
      ],
      "text/plain": [
       "[1] 8251   11"
      ]
     },
     "metadata": {},
     "output_type": "display_data"
    }
   ],
   "source": [
    "meanLogMedianImpRatiosMat = sapply(meanLogMedianImpRatios,function(v) v)\n",
    "head(meanLogMedianImpRatiosMat)\n",
    "dim(meanLogMedianImpRatiosMat)"
   ]
  },
  {
   "cell_type": "code",
   "execution_count": 158,
   "id": "6f9430b2",
   "metadata": {},
   "outputs": [],
   "source": [
    "saveRDS(object = list(logMedianImpRatios = logMedianImpRatios,\n",
    "                      meanLogMedianImpRatiosMat = meanLogMedianImpRatiosMat), \n",
    "        file=\"metPairs-impactRatios-onAllTargetGenes.rds\")"
   ]
  }
 ],
 "metadata": {
  "kernelspec": {
   "display_name": "R",
   "language": "R",
   "name": "ir"
  },
  "language_info": {
   "codemirror_mode": "r",
   "file_extension": ".r",
   "mimetype": "text/x-r-source",
   "name": "R",
   "pygments_lexer": "r",
   "version": "4.2.2"
  }
 },
 "nbformat": 4,
 "nbformat_minor": 5
}
