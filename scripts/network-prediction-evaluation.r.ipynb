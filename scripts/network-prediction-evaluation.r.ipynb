{
 "cells": [
  {
   "cell_type": "code",
   "execution_count": null,
   "id": "e8a45728",
   "metadata": {},
   "outputs": [],
   "source": [
    "# predicts expression of the test data with the trained and random networks\n",
    "# predicts expression of MelBrainSys data\n",
    "# creates correlation plots of these predicted and original expression:\n",
    "#   Figure-2-gene-expr-prediction-correl.png"
   ]
  },
  {
   "cell_type": "code",
   "execution_count": 1,
   "id": "21b262ad",
   "metadata": {},
   "outputs": [],
   "source": [
    "library(ggplot2)\n",
    "library(gridExtra)\n",
    "library(parallel)"
   ]
  },
  {
   "cell_type": "code",
   "execution_count": 2,
   "id": "67ea60f3",
   "metadata": {},
   "outputs": [],
   "source": [
    "basePath = \"/data/bcu_projects/MelBrainSys_PostdocProject_Gruetzmann/publications/2022-my-MelBrainSys-paper/scripts-etc-for-publication/\"\n",
    "myPath = paste0(basePath,\"regNet/\")"
   ]
  },
  {
   "cell_type": "code",
   "execution_count": 3,
   "id": "47951c14",
   "metadata": {},
   "outputs": [
    {
     "name": "stderr",
     "output_type": "stream",
     "text": [
      "Loading required package: glmnet\n",
      "\n",
      "Loading required package: Matrix\n",
      "\n",
      "Loaded glmnet 4.1-6\n",
      "\n",
      "Loading required package: lars\n",
      "\n",
      "Loaded lars 1.3\n",
      "\n",
      "\n",
      "Loading required package: covTest\n",
      "\n",
      "Loading required package: glmpath\n",
      "\n",
      "Loading required package: survival\n",
      "\n",
      "Loading required package: MASS\n",
      "\n"
     ]
    }
   ],
   "source": [
    "localRlibs = paste0(basePath,\"conda/lib/R/library/\")\n",
    "library(regNet)"
   ]
  },
  {
   "cell_type": "code",
   "execution_count": 4,
   "id": "b16b1698",
   "metadata": {},
   "outputs": [],
   "source": [
    "setwd(myPath)"
   ]
  },
  {
   "cell_type": "code",
   "execution_count": 5,
   "id": "4d41d2ab",
   "metadata": {},
   "outputs": [],
   "source": [
    "outDirectory = paste0(basePath,\"FiguresTables/\")"
   ]
  },
  {
   "cell_type": "code",
   "execution_count": 8,
   "id": "b231a43f",
   "metadata": {},
   "outputs": [],
   "source": [
    "output=T\n",
    "networkName = \"TcgaMelanomaExprMeth\""
   ]
  },
  {
   "cell_type": "code",
   "execution_count": 36,
   "id": "a7707a0f",
   "metadata": {},
   "outputs": [],
   "source": [
    "localGeneCutoff = 30\n",
    "pValCutoff = 0.001\n",
    "nbCPUs = 10 \n",
    "numOfNWs = 2 # for test purposes only 2 networks. Hence note, the results can deviate from the paper.\n",
    "numRandNWinstances = 2\n",
    "dataSetsPath = \"Data/\""
   ]
  },
  {
   "cell_type": "markdown",
   "id": "e109df97",
   "metadata": {},
   "source": [
    "### create random networks"
   ]
  },
  {
   "cell_type": "code",
   "execution_count": 11,
   "id": "1c28bc0f",
   "metadata": {},
   "outputs": [],
   "source": [
    "# random network instance is saved\n",
    "# under NetworkModel/WholeNetwork/ using a pre-defined file-naming convention with random\n",
    "# network name prefix paste0( \"RandomNetwork_\", randomNetworkInstance, \n",
    "#  \"_PVal-ueCutoff_\", pValCutoff, \"_BasedOn_\", networkName )\n",
    "\n",
    "create1randomNW = function(parameterSet) {\n",
    "    system(paste(\"echo 'calculating set:\",parameterSet$runningNumber,\"'\")) \n",
    "     #  -> progress output in console where you started jupyter notebook\n",
    "    determineRandomNetworkWithFilteringForSignificantPredictors(output = T,\n",
    "        networkName = parameterSet$networkName, pValCutoff =  parameterSet$pValCutoff, \n",
    "        randomNetworkInstance = parameterSet$nwInstanceNb, \n",
    "        path = parameterSet$path )\n",
    "}"
   ]
  },
  {
   "cell_type": "code",
   "execution_count": 12,
   "id": "021086eb",
   "metadata": {},
   "outputs": [],
   "source": [
    "# make parameter sets for creation of random nw:\n",
    "randNWinstancesRange = 1:numRandNWinstances\n",
    "nwRange = 1:numOfNWs\n",
    "parameterSets = NULL\n",
    "i=0\n",
    "for(nwInstanceNb in randNWinstancesRange ) {\n",
    "    for(nwSubdir in paste0(\"TrainNetwork-\",nwRange)) {\n",
    "        i = i + 1\n",
    "        parameterSets[[i]] = list(networkName=networkName,pValCutoff=pValCutoff,\n",
    "                                path = nwSubdir, runningNumber=i, nwInstanceNb = nwInstanceNb)\n",
    "    }\n",
    "}"
   ]
  },
  {
   "cell_type": "code",
   "execution_count": 11,
   "id": "e6ea3e46",
   "metadata": {
    "scrolled": true
   },
   "outputs": [
    {
     "data": {
      "text/plain": [
       "Time difference of 1.221554 mins"
      ]
     },
     "metadata": {},
     "output_type": "display_data"
    }
   ],
   "source": [
    "startt = Sys.time()\n",
    "tmp = mclapply(X = parameterSets, create1randomNW, mc.cores = nbCPUs)\n",
    "endt = Sys.time()\n",
    "endt - startt\n",
    "# 1 min with 10 cpus for 2 nw instances, 2 trained networks"
   ]
  },
  {
   "cell_type": "markdown",
   "id": "e2dc0934",
   "metadata": {},
   "source": [
    "### predict gene expression with trained and thereof derived random networks\n",
    "outputs created in TrainNetwork-*/NetworkPrediction/"
   ]
  },
  {
   "cell_type": "code",
   "execution_count": 14,
   "id": "1823f966",
   "metadata": {},
   "outputs": [],
   "source": [
    "# n.b. already parallelized, don't over-parallelize, and uses 1.5% of RAM\n",
    "predict1nw = function(parameterSet) {\n",
    "    system(paste(\"echo 'calculating set:\",parameterSet$runningNumber,\"'\"))\n",
    "    \n",
    "    geneExFile = parameterSet$dataSetExpr\n",
    "    geneMthFile = parameterSet$dataSetMethyl\n",
    "    system(paste0(\"echo 'using: \",dataSetsPath,geneExFile,\" and \",dataSetsPath,geneMthFile,\"'\"))\n",
    "\n",
    "    if(! file.exists(paste0(dataSetsPath,geneExFile))) {\n",
    "        system(paste0(\"echo 'does not exist: \",dataSetsPath,geneExFile,\"'\"))\n",
    "    }\n",
    "    if(! file.exists(paste0(dataSetsPath,geneMthFile))) {\n",
    "        system(paste(\"echo 'does not exist:\",dataSetsPath,geneMthFile,\"'\"))\n",
    "    }\n",
    "    testDataSet = loadGeneExpressionAndCopyNumberDataSet( geneExpressionFile = geneExFile,\n",
    "        geneCopyNumberFile = geneMthFile, path = dataSetsPath )\n",
    "    predictGeneExpression(data = testDataSet, dataSetName = parameterSet$dataSetName, \n",
    "                          networkName = parameterSet$networkName, pValCutoff = parameterSet$pValCutoff, \n",
    "                          localGeneCutoff = parameterSet$localGeneCutoff, path = parameterSet$trainNWpath )\n",
    "}"
   ]
  },
  {
   "cell_type": "code",
   "execution_count": 16,
   "id": "c40f0a84",
   "metadata": {},
   "outputs": [],
   "source": [
    "# create parameter sets for prediction with trained networks\n",
    "createNormalPredictionSets = function(networkName,dataSetName,\n",
    "                                pValCutoffs,localGeneCutoffs,nwRange) {\n",
    "    parameterSets = NULL\n",
    "    i=0\n",
    "    for (pValCutoff in pValCutoffs) {\n",
    "        for (localGeneCutoff in localGeneCutoffs) {\n",
    "            for (networkNum in nwRange) {\n",
    "                i = i + 1\n",
    "                geneExFile = paste0(dataSetName, \"_ExpressionData_regNet_Run_\",networkNum,\".txt\")\n",
    "                geneMthFile = paste0(dataSetName , \"_MethylationData_regNet_Run_\",networkNum,\".txt\")\n",
    "                parameterSets[[i]] = list(dataSetExpr = geneExFile, dataSetMethyl = geneMthFile,\n",
    "                                          dataSetName = dataSetName, networkName=networkName,\n",
    "                                          pValCutoff=pValCutoff,localGeneCutoff = localGeneCutoff, \n",
    "                                         trainNWpath = paste0(\"TrainNetwork-\",networkNum),runningNumber=i)\n",
    "            }\n",
    "        }\n",
    "\n",
    "    }\n",
    "    return(parameterSets)\n",
    "}"
   ]
  },
  {
   "cell_type": "code",
   "execution_count": 17,
   "id": "4fed8981",
   "metadata": {},
   "outputs": [],
   "source": [
    "# create parameter sets for prediction with random networks\n",
    "## for each of the trained networks there will be several random networks\n",
    "createRandomPredictionSets = function(networkName,randomNameBase,dataSetName,\n",
    "                                pValCutoffs,localGeneCutoffs,numNWinstanceRange,nwRange) {\n",
    "    parameterSets = NULL\n",
    "    i=0\n",
    "    for (nwInstanceNb in numNWinstanceRange ) {\n",
    "        for (pValCutoff in pValCutoffs) {\n",
    "            for (localGeneCutoff in localGeneCutoffs) {\n",
    "                for (networkNum in nwRange) {\n",
    "                    i = i + 1\n",
    "                    randomNetworkName = paste0(randomNameBase,nwInstanceNb,\"_PValueCutoff_\",pValCutoff,\n",
    "                                               \"_BasedOn_\",networkName)\n",
    "                    geneExFile = paste0(dataSetName, \"_ExpressionData_regNet_Run_\",networkNum,\".txt\")\n",
    "                    geneMthFile = paste0(dataSetName , \"_MethylationData_regNet_Run_\",networkNum,\".txt\")\n",
    "                    parameterSets[[i]] = list(dataSetExpr = geneExFile, dataSetMethyl = geneMthFile,\n",
    "                                              dataSetName = dataSetName, networkName=randomNetworkName,\n",
    "                                              pValCutoff=pValCutoff,localGeneCutoff = localGeneCutoff, \n",
    "                                             trainNWpath = paste0(\"TrainNetwork-\",networkNum),runningNumber=i)\n",
    "                }\n",
    "            }\n",
    "           \n",
    "        }\n",
    "    }\n",
    "    return(parameterSets)\n",
    "}"
   ]
  },
  {
   "cell_type": "code",
   "execution_count": 18,
   "id": "039bdb6d",
   "metadata": {},
   "outputs": [],
   "source": [
    "# parameter sets for prediction of test data with normal networks:\n",
    "parameterSetsNormal = \n",
    "    createNormalPredictionSets(networkName = networkName,dataSetName = \"TestSet\", \n",
    "                               pValCutoffs = 0.001, localGeneCutoffs = 30, nwRange = 1:numOfNWs)"
   ]
  },
  {
   "cell_type": "code",
   "execution_count": 22,
   "id": "55dd1059",
   "metadata": {},
   "outputs": [],
   "source": [
    "# parameter sets for prediction of random nteworks:\n",
    "networkNameBase = \"RandomNetwork_\" \n",
    "parameterSetsRandom = \n",
    "    createRandomPredictionSets(networkName = networkName, randomNameBase = \"RandomNetwork_\",\n",
    "                         dataSetName = \"TestSet\", pValCutoffs =  0.001,\n",
    "                         localGeneCutoffs = 30, numNWinstanceRange = 1:numRandNWinstances, nwRange = 1:numOfNWs)"
   ]
  },
  {
   "cell_type": "code",
   "execution_count": 25,
   "id": "a6adbfb2",
   "metadata": {},
   "outputs": [],
   "source": [
    "# parameter sets for prediction of MelBrain Data with TCGA trained:\n",
    "parameterSetsMelBrainSys = \n",
    "    createNormalPredictionSets(networkName = networkName,\n",
    "                         dataSetName = \"MelBrainSys\", pValCutoffs = 0.001, \n",
    "                         localGeneCutoffs = 30, nwRange = 1:numOfNWs)"
   ]
  },
  {
   "cell_type": "code",
   "execution_count": 26,
   "id": "ed6cebd3",
   "metadata": {},
   "outputs": [
    {
     "data": {
      "text/html": [
       "'MelBrainSys_ExpressionData_regNet_Run_1.txt'"
      ],
      "text/latex": [
       "'MelBrainSys\\_ExpressionData\\_regNet\\_Run\\_1.txt'"
      ],
      "text/markdown": [
       "'MelBrainSys_ExpressionData_regNet_Run_1.txt'"
      ],
      "text/plain": [
       "[1] \"MelBrainSys_ExpressionData_regNet_Run_1.txt\""
      ]
     },
     "metadata": {},
     "output_type": "display_data"
    },
    {
     "data": {
      "text/html": [
       "'MelBrainSys_MethylationData_regNet_Run_1.txt'"
      ],
      "text/latex": [
       "'MelBrainSys\\_MethylationData\\_regNet\\_Run\\_1.txt'"
      ],
      "text/markdown": [
       "'MelBrainSys_MethylationData_regNet_Run_1.txt'"
      ],
      "text/plain": [
       "[1] \"MelBrainSys_MethylationData_regNet_Run_1.txt\""
      ]
     },
     "metadata": {},
     "output_type": "display_data"
    }
   ],
   "source": [
    "# rename melBrainSys data sets, they don't follow the TrainNetwok number:\n",
    "parameterSetsMelBrainSys[[1]]$dataSetExpr\n",
    "parameterSetsMelBrainSys[[1]]$dataSetMethyl\n",
    "\n",
    "for(i in 1:length(parameterSetsMelBrainSys)) {\n",
    "    parameterSetsMelBrainSys[[i]]$dataSetExpr = \"MelBrainSys-expression.csv\"\n",
    "    parameterSetsMelBrainSys[[i]]$dataSetMethyl = \"MelBrainSys-methylation.csv\"\n",
    "}"
   ]
  },
  {
   "cell_type": "code",
   "execution_count": 33,
   "id": "87511e91",
   "metadata": {},
   "outputs": [
    {
     "data": {
      "text/plain": [
       "Time difference of 33.88182 secs"
      ]
     },
     "metadata": {},
     "output_type": "display_data"
    }
   ],
   "source": [
    "# predict test data with trained network:\n",
    "startt = Sys.time()\n",
    "tmp = mclapply(X = parameterSetsNormal, predict1nw, mc.cores = nbCPUs)\n",
    "endt = Sys.time()\n",
    "endt - startt\n",
    "# 35 sec with 19 cpus for 2 data sets (2 NWs each 1 NW instances)"
   ]
  },
  {
   "cell_type": "code",
   "execution_count": 35,
   "id": "d6537771",
   "metadata": {},
   "outputs": [
    {
     "data": {
      "text/plain": [
       "Time difference of 38.23217 secs"
      ]
     },
     "metadata": {},
     "output_type": "display_data"
    }
   ],
   "source": [
    "# predict test data with random networks:\n",
    "startt = Sys.time()\n",
    "tmp = mclapply(X = parameterSetsRandom, predict1nw, mc.cores = nbCPUs)\n",
    "endt = Sys.time()\n",
    "endt - startt\n",
    "# 39 sec with 19 cpus for 2 data sets (2 NWs each 2 NW instances)"
   ]
  },
  {
   "cell_type": "code",
   "execution_count": 47,
   "id": "7a4cabdb",
   "metadata": {},
   "outputs": [
    {
     "data": {
      "text/plain": [
       "Time difference of 23.92259 secs"
      ]
     },
     "metadata": {},
     "output_type": "display_data"
    }
   ],
   "source": [
    "# predict MelBrainSys data with trained networks:\n",
    "startt = Sys.time()\n",
    "tmp = mclapply(X = parameterSetsMelBrainSys, predict1nw, mc.cores = nbCPUs)\n",
    "endt = Sys.time()\n",
    "endt - startt\n",
    "# 24 sec with 19 cpus for 2 data sets (2 NWs each 1 NW instances)"
   ]
  },
  {
   "cell_type": "code",
   "execution_count": 46,
   "id": "3ca1d3f4",
   "metadata": {
    "scrolled": true
   },
   "outputs": [],
   "source": [
    "# parameter sets for prediction of MelBrain BRAIN Data with TCGA trained:\n",
    "parameterSetsMelBrainSysBrain = \n",
    "    createNormalPredictionSets(networkName = networkName,\n",
    "                         dataSetName = \"MelBrainSysBrain\", pValCutoffs = 0.001, \n",
    "                         localGeneCutoffs = 30, nwRange = 1:numOfNWs)\n",
    "# rename data sets:\n",
    "for(i in 1:length(parameterSetsMelBrainSysBrain)) {\n",
    "    parameterSetsMelBrainSysBrain[[i]]$dataSetExpr = \"MelBrainSysBrainSamples-expression.csv\"\n",
    "    parameterSetsMelBrainSysBrain[[i]]$dataSetMethyl = \"MelBrainSysBrainSamples-methylation.csv\"\n",
    "}"
   ]
  },
  {
   "cell_type": "code",
   "execution_count": 48,
   "id": "82689ce4",
   "metadata": {},
   "outputs": [],
   "source": [
    "# parameter sets for prediction of MelBrain EXTRACRANIAL Data with TCGA trained:\n",
    "parameterSetsMelBrainSysECM = \n",
    "    createNormalPredictionSets(networkName = networkName,\n",
    "                         dataSetName = \"MelBrainSysECM\", pValCutoffs = 0.001, \n",
    "                         localGeneCutoffs = 30, nwRange = 1:numOfNWs)\n",
    "# rename data sets:\n",
    "for(i in 1:length(parameterSetsMelBrainSysECM)) {\n",
    "    parameterSetsMelBrainSysECM[[i]]$dataSetExpr = \"MelBrainSysNonBrainSamples-expression.csv\"\n",
    "    parameterSetsMelBrainSysECM[[i]]$dataSetMethyl = \"MelBrainSysNonBrainSamples-methylation.csv\"\n",
    "}"
   ]
  },
  {
   "cell_type": "code",
   "execution_count": 45,
   "id": "e6d120d8",
   "metadata": {
    "scrolled": true
   },
   "outputs": [
    {
     "data": {
      "text/plain": [
       "Time difference of 18.25578 secs"
      ]
     },
     "metadata": {},
     "output_type": "display_data"
    }
   ],
   "source": [
    "# predict MelBrainSys Brain sample data with trained networks:\n",
    "startt = Sys.time()\n",
    "tmp = mclapply(X = parameterSetsMelBrainSysBrain, predict1nw, mc.cores = nbCPUs)\n",
    "endt = Sys.time()\n",
    "endt - startt"
   ]
  },
  {
   "cell_type": "code",
   "execution_count": 49,
   "id": "615d667d",
   "metadata": {},
   "outputs": [
    {
     "data": {
      "text/plain": [
       "Time difference of 18.74183 secs"
      ]
     },
     "metadata": {},
     "output_type": "display_data"
    }
   ],
   "source": [
    "# predict MelBrainSys extracranial sample data with trained networks:\n",
    "startt = Sys.time()\n",
    "tmp = mclapply(X = parameterSetsMelBrainSysECM, predict1nw, mc.cores = nbCPUs)\n",
    "endt = Sys.time()\n",
    "endt - startt"
   ]
  },
  {
   "cell_type": "markdown",
   "id": "e5e75b16",
   "metadata": {},
   "source": [
    "## validation cohort"
   ]
  },
  {
   "cell_type": "code",
   "execution_count": 52,
   "id": "05089e1a",
   "metadata": {},
   "outputs": [],
   "source": [
    "# parameter sets for prediction of MelBrain Validation:\n",
    "parameterSetsMelBrainSysValidation = \n",
    "    createNormalPredictionSets(networkName = networkName, \n",
    "                         dataSetName = \"MelBrainSysValidation\", pValCutoffs = 0.001, \n",
    "                         localGeneCutoffs = 30, nwRange = 1:numOfNWs)\n",
    "# rename validation data sets:\n",
    "for(i in 1:length(parameterSetsMelBrainSysValidation)) {\n",
    "    parameterSetsMelBrainSysValidation[[i]]$dataSetExpr = \"MelBrainSys-validation-expression.csv\"\n",
    "    parameterSetsMelBrainSysValidation[[i]]$dataSetMethyl = \"MelBrainSys-validation-methylation.csv\"\n",
    "}"
   ]
  },
  {
   "cell_type": "code",
   "execution_count": 53,
   "id": "3de3c866",
   "metadata": {},
   "outputs": [
    {
     "data": {
      "text/plain": [
       "Time difference of 18.26732 secs"
      ]
     },
     "metadata": {},
     "output_type": "display_data"
    }
   ],
   "source": [
    "# predict MelBrainSys validation sample data:\n",
    "startt = Sys.time()\n",
    "tmp = mclapply(X = parameterSetsMelBrainSysValidation, predict1nw, mc.cores = nbCPUs)\n",
    "endt = Sys.time()\n",
    "endt - startt"
   ]
  },
  {
   "cell_type": "code",
   "execution_count": 56,
   "id": "9ef8d3ac",
   "metadata": {},
   "outputs": [],
   "source": [
    "# parameter sets for prediction of MelBrain Validation BRAIN Data with TCGA trained:\n",
    "parameterSetsMelBrainSysValidationBrain = \n",
    "    createNormalPredictionSets(networkName = networkName, \n",
    "                         dataSetName = \"MelBrainSysValidationBrain\", pValCutoffs = 0.001, \n",
    "                         localGeneCutoffs = 30, nwRange = 1:numOfNWs)\n",
    "# rename validation data sets:\n",
    "for(i in 1:length(parameterSetsMelBrainSysValidationBrain)) {\n",
    "    parameterSetsMelBrainSysValidationBrain[[i]]$dataSetExpr = \"MelBrainSysBrain-validation-expression.csv\"\n",
    "    parameterSetsMelBrainSysValidationBrain[[i]]$dataSetMethyl = \"MelBrainSysBrain-validation-methylation.csv\"\n",
    "}"
   ]
  },
  {
   "cell_type": "code",
   "execution_count": 57,
   "id": "457a3a78",
   "metadata": {},
   "outputs": [
    {
     "data": {
      "text/plain": [
       "Time difference of 14.61815 secs"
      ]
     },
     "metadata": {},
     "output_type": "display_data"
    }
   ],
   "source": [
    "# predict MelBrainSys BRAIN validation sample data with trained networks:\n",
    "startt = Sys.time()\n",
    "tmp = mclapply(X = parameterSetsMelBrainSysValidationBrain, predict1nw, mc.cores = nbCPUs)\n",
    "endt = Sys.time()\n",
    "endt - startt"
   ]
  },
  {
   "cell_type": "code",
   "execution_count": 60,
   "id": "116c026c",
   "metadata": {},
   "outputs": [],
   "source": [
    "# parameter sets for prediction of MelBrain Validation EXTRACRANIAL Data with TCGA trained:\n",
    "parameterSetsMelBrainSysValidationECM = \n",
    "    createNormalPredictionSets(networkName = networkName, \n",
    "                         dataSetName = \"MelBrainSysValidationECM\", pValCutoffs = 0.001, \n",
    "                         localGeneCutoffs = 30, nwRange = 1:numOfNWs)\n",
    "# rename validation data sets:\n",
    "for(i in 1:length(parameterSetsMelBrainSysValidationECM)) {\n",
    "    parameterSetsMelBrainSysValidationECM[[i]]$dataSetExpr = \"MelBrainSysECM-validation-expression.csv\"\n",
    "    parameterSetsMelBrainSysValidationECM[[i]]$dataSetMethyl = \"MelBrainSysECM-validation-methylation.csv\"\n",
    "}"
   ]
  },
  {
   "cell_type": "code",
   "execution_count": 61,
   "id": "1cce8b07",
   "metadata": {},
   "outputs": [
    {
     "data": {
      "text/plain": [
       "Time difference of 14.39529 secs"
      ]
     },
     "metadata": {},
     "output_type": "display_data"
    }
   ],
   "source": [
    "# predict MelBrainSys EXTRACRANIAL validation sample data with trained networks:\n",
    "startt = Sys.time()\n",
    "tmp = mclapply(X = parameterSetsMelBrainSysValidationECM, predict1nw, mc.cores = nbCPUs)\n",
    "endt = Sys.time()\n",
    "endt - startt"
   ]
  },
  {
   "cell_type": "markdown",
   "id": "62ef7e47",
   "metadata": {
    "scrolled": true
   },
   "source": [
    "### read in predictions"
   ]
  },
  {
   "cell_type": "code",
   "execution_count": 62,
   "id": "203aa75a",
   "metadata": {},
   "outputs": [],
   "source": [
    "readInNormalNWPredictions = function(dataSetName,networkName, pValCutoffs,\n",
    "                             localGeneCutoffs,nwRange) {\n",
    "    # first build list of files and check which files are there:\n",
    "    dataSets = NULL\n",
    "    for(localGeneCutoff in localGeneCutoffs) {\n",
    "        message(\"localGeneCutoff \",localGeneCutoff,\"\\n\")\n",
    "        for (pValCutoff in pValCutoffs) {\n",
    "            message(\"reading files of pValCutoff \",pValCutoff,\"...\\n\")\n",
    "            for (networkNum in nwRange) {\n",
    "                resultFile = \n",
    "                    paste0(\"TrainNetwork-\",networkNum,\"/NetworkPredictions/\",dataSetName,\n",
    "                           \"_PredictionOfGeneExpressionBasedOn_\",\n",
    "                           networkName,\"_PValueCutoff_\",\n",
    "                           pValCutoff,\"_LocalGeneCutoff_\",localGeneCutoff,\".txt\")\n",
    "                dataSets = rbind(dataSets,\n",
    "                                 data.frame(file=resultFile,networkNum=networkNum,pValCutoff=pValCutoff,\n",
    "                                           localGeneCutoff=localGeneCutoff, \n",
    "                                         stringsAsFactors = F))\n",
    "            }\n",
    "        }\n",
    "    }\n",
    "    message(\"class of file \",class(dataSets$file))\n",
    "    wh = which(! file.exists(dataSets$file))\n",
    "    if (length(wh)>0) {\n",
    "        message( length(wh), \" files do not exist: \\n\", paste0(dataSets$file[wh],collapse = \"\\n\"))\n",
    "        return(NULL)\n",
    "    }\n",
    "    predResults=NULL\n",
    "    for(i in 1:nrow(dataSets)) {\n",
    "        message(\"reading in: \",dataSets$file[i],\"\\n\")\n",
    "        dat = read.csv(file = dataSets$file[i],header = T,sep = \"\\t\",stringsAsFactors = F)\n",
    "        predResults = \n",
    "            rbind(predResults,data.frame(localGeneCutoff=dataSets$localGeneCutoff[i],\n",
    "                                         pValCutoff=dataSets$pValCutoff[i],\n",
    "                                         networkNum=dataSets$networkNum[i],dat))\n",
    "    }\n",
    "    return(predResults)\n",
    "}"
   ]
  },
  {
   "cell_type": "code",
   "execution_count": 63,
   "id": "84f6ab44",
   "metadata": {},
   "outputs": [],
   "source": [
    "readInRandomNWPredictions = function(dataSetName,networkNameBase,networkName, pValCutoffs,\n",
    "                             localGeneCutoffs,NWinstances,nwRange) {\n",
    "    # first build list of files and check which files are there:\n",
    "    dataSets = NULL\n",
    "    for(localGeneCutoff in localGeneCutoffs) {\n",
    "        message(\"localGeneCutoff \",localGeneCutoff,\"\\n\")\n",
    "        for (pValCutoff in pValCutoffs) {\n",
    "            message(\"  pValCutoff \",pValCutoff,\"...\\n\")\n",
    "            for(nwInstanceNb in NWinstances) {\n",
    "                for (networkNum in nwRange) {\n",
    "                    resultFile = \n",
    "                        paste0(\"TrainNetwork-\",networkNum,\"/NetworkPredictions/\",dataSetName,\n",
    "                               \"_PredictionOfGeneExpressionBasedOn_\",\n",
    "                               networkNameBase,nwInstanceNb,\"_PValueCutoff_\",pValCutoff,\n",
    "                               \"_BasedOn_\",networkName,\"_PValueCutoff_\",\n",
    "                               pValCutoff,\"_LocalGeneCutoff_\",localGeneCutoff,\".txt\")\n",
    "                    dataSets = \n",
    "                        rbind(dataSets,\n",
    "                              data.frame(file=resultFile,networkNum=networkNum,nwInstanceNb=nwInstanceNb,\n",
    "                                         pValCutoff=pValCutoff,localGeneCutoff=localGeneCutoff, stringsAsFactors = F))\n",
    "                }\n",
    "            }\n",
    "        }\n",
    "    }\n",
    "    message(\"class of file \",class(dataSets))\n",
    "\n",
    "    wh = which(! file.exists(dataSets$file))\n",
    "    if (length(wh)>0) {\n",
    "        message( length(wh), \" files do not exist: \\n\", paste0(dataSets$file[wh],collapse = \"\\n\"))\n",
    "        return(NULL)\n",
    "    }\n",
    "    predResults=NULL\n",
    "    for(i in 1:nrow(dataSets)) {\n",
    "        message(class(dataSets$file[i]))\n",
    "        message(\"reading in: \",dataSets$file[i],\"\\n\")\n",
    "        dat = read.csv(file = dataSets$file[i],header = T,sep = \"\\t\",stringsAsFactors = F)\n",
    "        predResults = \n",
    "            rbind(predResults,\n",
    "                  data.frame(localGeneCutoff = dataSets$localGeneCutoff[i],pValCutoff = dataSets$pValCutoff[i],\n",
    "                             networkNum = dataSets$networkNum[i],nwInstanceNb = dataSets$nwInstanceNb[i],dat))\n",
    "    }\n",
    "    return(predResults)\n",
    "}"
   ]
  },
  {
   "cell_type": "code",
   "execution_count": 64,
   "id": "3f219bbc",
   "metadata": {},
   "outputs": [
    {
     "name": "stderr",
     "output_type": "stream",
     "text": [
      "localGeneCutoff 30\n",
      "\n",
      "\n",
      "reading files of pValCutoff 0.001...\n",
      "\n",
      "\n",
      "class of file character\n",
      "\n",
      "reading in: TrainNetwork-1/NetworkPredictions/TestSet_PredictionOfGeneExpressionBasedOn_TcgaMelanomaExprMeth_PValueCutoff_0.001_LocalGeneCutoff_30.txt\n",
      "\n",
      "\n",
      "reading in: TrainNetwork-2/NetworkPredictions/TestSet_PredictionOfGeneExpressionBasedOn_TcgaMelanomaExprMeth_PValueCutoff_0.001_LocalGeneCutoff_30.txt\n",
      "\n",
      "\n"
     ]
    }
   ],
   "source": [
    "normalPredTestResults = \n",
    "    readInNormalNWPredictions(dataSetName = \"TestSet\",networkName = networkName,\n",
    "                              pValCutoffs = \"0.001\", localGeneCutoffs = 30, nwRange = 1:numOfNWs)"
   ]
  },
  {
   "cell_type": "code",
   "execution_count": 65,
   "id": "6be68574",
   "metadata": {},
   "outputs": [
    {
     "name": "stderr",
     "output_type": "stream",
     "text": [
      "localGeneCutoff 30\n",
      "\n",
      "\n",
      "reading files of pValCutoff 0.001...\n",
      "\n",
      "\n",
      "class of file character\n",
      "\n",
      "reading in: TrainNetwork-1/NetworkPredictions/MelBrainSys_PredictionOfGeneExpressionBasedOn_TcgaMelanomaExprMeth_PValueCutoff_0.001_LocalGeneCutoff_30.txt\n",
      "\n",
      "\n",
      "reading in: TrainNetwork-2/NetworkPredictions/MelBrainSys_PredictionOfGeneExpressionBasedOn_TcgaMelanomaExprMeth_PValueCutoff_0.001_LocalGeneCutoff_30.txt\n",
      "\n",
      "\n"
     ]
    }
   ],
   "source": [
    "melBrainPredResults = \n",
    "    readInNormalNWPredictions(dataSetName = \"MelBrainSys\",networkName = networkName, \n",
    "                              pValCutoffs = \"0.001\", localGeneCutoffs = 30, nwRange = 1:numOfNWs)"
   ]
  },
  {
   "cell_type": "code",
   "execution_count": 66,
   "id": "92c546cb",
   "metadata": {},
   "outputs": [
    {
     "name": "stderr",
     "output_type": "stream",
     "text": [
      "localGeneCutoff 30\n",
      "\n",
      "\n",
      "  pValCutoff 0.001...\n",
      "\n",
      "\n",
      "class of file data.frame\n",
      "\n",
      "character\n",
      "\n",
      "reading in: TrainNetwork-1/NetworkPredictions/TestSet_PredictionOfGeneExpressionBasedOn_RandomNetwork_1_PValueCutoff_0.001_BasedOn_TcgaMelanomaExprMeth_PValueCutoff_0.001_LocalGeneCutoff_30.txt\n",
      "\n",
      "\n",
      "character\n",
      "\n",
      "reading in: TrainNetwork-2/NetworkPredictions/TestSet_PredictionOfGeneExpressionBasedOn_RandomNetwork_1_PValueCutoff_0.001_BasedOn_TcgaMelanomaExprMeth_PValueCutoff_0.001_LocalGeneCutoff_30.txt\n",
      "\n",
      "\n",
      "character\n",
      "\n",
      "reading in: TrainNetwork-1/NetworkPredictions/TestSet_PredictionOfGeneExpressionBasedOn_RandomNetwork_2_PValueCutoff_0.001_BasedOn_TcgaMelanomaExprMeth_PValueCutoff_0.001_LocalGeneCutoff_30.txt\n",
      "\n",
      "\n",
      "character\n",
      "\n",
      "reading in: TrainNetwork-2/NetworkPredictions/TestSet_PredictionOfGeneExpressionBasedOn_RandomNetwork_2_PValueCutoff_0.001_BasedOn_TcgaMelanomaExprMeth_PValueCutoff_0.001_LocalGeneCutoff_30.txt\n",
      "\n",
      "\n"
     ]
    }
   ],
   "source": [
    "randomPredTestResults = \n",
    "    readInRandomNWPredictions(dataSetName = \"TestSet\",networkNameBase = \"RandomNetwork_\",\n",
    "                      networkName = networkName, pValCutoffs = \"0.001\",\n",
    "                      localGeneCutoffs = 30, nwRange=1:numOfNWs , NWinstances = 1:numRandNWinstances)"
   ]
  },
  {
   "cell_type": "code",
   "execution_count": 67,
   "id": "37154e18",
   "metadata": {},
   "outputs": [
    {
     "name": "stderr",
     "output_type": "stream",
     "text": [
      "localGeneCutoff 30\n",
      "\n",
      "\n",
      "reading files of pValCutoff 0.001...\n",
      "\n",
      "\n",
      "class of file character\n",
      "\n",
      "reading in: TrainNetwork-1/NetworkPredictions/MelBrainSysBrain_PredictionOfGeneExpressionBasedOn_TcgaMelanomaExprMeth_PValueCutoff_0.001_LocalGeneCutoff_30.txt\n",
      "\n",
      "\n",
      "reading in: TrainNetwork-2/NetworkPredictions/MelBrainSysBrain_PredictionOfGeneExpressionBasedOn_TcgaMelanomaExprMeth_PValueCutoff_0.001_LocalGeneCutoff_30.txt\n",
      "\n",
      "\n"
     ]
    }
   ],
   "source": [
    "melBrainMBMPredResults = \n",
    "    readInNormalNWPredictions(dataSetName = \"MelBrainSysBrain\",networkName = networkName, \n",
    "                              pValCutoffs = \"0.001\", localGeneCutoffs = 30, nwRange = 1:numOfNWs)"
   ]
  },
  {
   "cell_type": "code",
   "execution_count": 68,
   "id": "113d6a29",
   "metadata": {},
   "outputs": [
    {
     "name": "stderr",
     "output_type": "stream",
     "text": [
      "localGeneCutoff 30\n",
      "\n",
      "\n",
      "reading files of pValCutoff 0.001...\n",
      "\n",
      "\n",
      "class of file character\n",
      "\n",
      "reading in: TrainNetwork-1/NetworkPredictions/MelBrainSysECM_PredictionOfGeneExpressionBasedOn_TcgaMelanomaExprMeth_PValueCutoff_0.001_LocalGeneCutoff_30.txt\n",
      "\n",
      "\n",
      "reading in: TrainNetwork-2/NetworkPredictions/MelBrainSysECM_PredictionOfGeneExpressionBasedOn_TcgaMelanomaExprMeth_PValueCutoff_0.001_LocalGeneCutoff_30.txt\n",
      "\n",
      "\n"
     ]
    }
   ],
   "source": [
    "melBrainECMPredResults = \n",
    "    readInNormalNWPredictions(dataSetName = \"MelBrainSysECM\",networkName = networkName, \n",
    "                              pValCutoffs = \"0.001\", localGeneCutoffs = 30, nwRange = 1:numOfNWs)"
   ]
  },
  {
   "cell_type": "code",
   "execution_count": 69,
   "id": "b6fcc897",
   "metadata": {},
   "outputs": [
    {
     "name": "stderr",
     "output_type": "stream",
     "text": [
      "localGeneCutoff 30\n",
      "\n",
      "\n",
      "reading files of pValCutoff 0.001...\n",
      "\n",
      "\n",
      "class of file character\n",
      "\n",
      "reading in: TrainNetwork-1/NetworkPredictions/MelBrainSysValidation_PredictionOfGeneExpressionBasedOn_TcgaMelanomaExprMeth_PValueCutoff_0.001_LocalGeneCutoff_30.txt\n",
      "\n",
      "\n",
      "reading in: TrainNetwork-2/NetworkPredictions/MelBrainSysValidation_PredictionOfGeneExpressionBasedOn_TcgaMelanomaExprMeth_PValueCutoff_0.001_LocalGeneCutoff_30.txt\n",
      "\n",
      "\n"
     ]
    }
   ],
   "source": [
    "melBrainValidationPredResults = \n",
    "    readInNormalNWPredictions(dataSetName = \"MelBrainSysValidation\",networkName = networkName, \n",
    "                              pValCutoffs = \"0.001\", localGeneCutoffs = 30, nwRange = 1:numOfNWs)"
   ]
  },
  {
   "cell_type": "code",
   "execution_count": 70,
   "id": "ddd798ca",
   "metadata": {},
   "outputs": [
    {
     "name": "stderr",
     "output_type": "stream",
     "text": [
      "localGeneCutoff 30\n",
      "\n",
      "\n",
      "reading files of pValCutoff 0.001...\n",
      "\n",
      "\n",
      "class of file character\n",
      "\n",
      "reading in: TrainNetwork-1/NetworkPredictions/MelBrainSysValidationBrain_PredictionOfGeneExpressionBasedOn_TcgaMelanomaExprMeth_PValueCutoff_0.001_LocalGeneCutoff_30.txt\n",
      "\n",
      "\n",
      "reading in: TrainNetwork-2/NetworkPredictions/MelBrainSysValidationBrain_PredictionOfGeneExpressionBasedOn_TcgaMelanomaExprMeth_PValueCutoff_0.001_LocalGeneCutoff_30.txt\n",
      "\n",
      "\n"
     ]
    }
   ],
   "source": [
    "melBrainValidationMBMPredResults = \n",
    "    readInNormalNWPredictions(dataSetName = \"MelBrainSysValidationBrain\",networkName = networkName, \n",
    "                              pValCutoffs = \"0.001\", localGeneCutoffs = 30, nwRange = 1:numOfNWs)"
   ]
  },
  {
   "cell_type": "code",
   "execution_count": 71,
   "id": "ef53c7b2",
   "metadata": {},
   "outputs": [
    {
     "name": "stderr",
     "output_type": "stream",
     "text": [
      "localGeneCutoff 30\n",
      "\n",
      "\n",
      "reading files of pValCutoff 0.001...\n",
      "\n",
      "\n",
      "class of file character\n",
      "\n",
      "reading in: TrainNetwork-1/NetworkPredictions/MelBrainSysValidationECM_PredictionOfGeneExpressionBasedOn_TcgaMelanomaExprMeth_PValueCutoff_0.001_LocalGeneCutoff_30.txt\n",
      "\n",
      "\n",
      "reading in: TrainNetwork-2/NetworkPredictions/MelBrainSysValidationECM_PredictionOfGeneExpressionBasedOn_TcgaMelanomaExprMeth_PValueCutoff_0.001_LocalGeneCutoff_30.txt\n",
      "\n",
      "\n"
     ]
    }
   ],
   "source": [
    "melBrainValidationECMPredResults = \n",
    "    readInNormalNWPredictions(dataSetName = \"MelBrainSysValidationECM\",networkName = networkName, \n",
    "                              pValCutoffs = \"0.001\", localGeneCutoffs = 30, nwRange = 1:numOfNWs)"
   ]
  },
  {
   "cell_type": "code",
   "execution_count": 72,
   "id": "32a6c1e8",
   "metadata": {
    "scrolled": true
   },
   "outputs": [
    {
     "data": {
      "text/html": [
       "<table class=\"dataframe\">\n",
       "<caption>A data.frame: 3 × 6</caption>\n",
       "<thead>\n",
       "\t<tr><th></th><th scope=col>localGeneCutoff</th><th scope=col>pValCutoff</th><th scope=col>networkNum</th><th scope=col>Gene</th><th scope=col>Correlation</th><th scope=col>P.Value</th></tr>\n",
       "\t<tr><th></th><th scope=col>&lt;dbl&gt;</th><th scope=col>&lt;chr&gt;</th><th scope=col>&lt;int&gt;</th><th scope=col>&lt;chr&gt;</th><th scope=col>&lt;dbl&gt;</th><th scope=col>&lt;dbl&gt;</th></tr>\n",
       "</thead>\n",
       "<tbody>\n",
       "\t<tr><th scope=row>1</th><td>30</td><td>0.001</td><td>1</td><td>NOC2L </td><td>0.3599541</td><td>0.02995320</td></tr>\n",
       "\t<tr><th scope=row>2</th><td>30</td><td>0.001</td><td>1</td><td>KLHL17</td><td>0.3863287</td><td>0.02114429</td></tr>\n",
       "\t<tr><th scope=row>3</th><td>30</td><td>0.001</td><td>1</td><td>HES4  </td><td>0.2478758</td><td>0.10172311</td></tr>\n",
       "</tbody>\n",
       "</table>\n"
      ],
      "text/latex": [
       "A data.frame: 3 × 6\n",
       "\\begin{tabular}{r|llllll}\n",
       "  & localGeneCutoff & pValCutoff & networkNum & Gene & Correlation & P.Value\\\\\n",
       "  & <dbl> & <chr> & <int> & <chr> & <dbl> & <dbl>\\\\\n",
       "\\hline\n",
       "\t1 & 30 & 0.001 & 1 & NOC2L  & 0.3599541 & 0.02995320\\\\\n",
       "\t2 & 30 & 0.001 & 1 & KLHL17 & 0.3863287 & 0.02114429\\\\\n",
       "\t3 & 30 & 0.001 & 1 & HES4   & 0.2478758 & 0.10172311\\\\\n",
       "\\end{tabular}\n"
      ],
      "text/markdown": [
       "\n",
       "A data.frame: 3 × 6\n",
       "\n",
       "| <!--/--> | localGeneCutoff &lt;dbl&gt; | pValCutoff &lt;chr&gt; | networkNum &lt;int&gt; | Gene &lt;chr&gt; | Correlation &lt;dbl&gt; | P.Value &lt;dbl&gt; |\n",
       "|---|---|---|---|---|---|---|\n",
       "| 1 | 30 | 0.001 | 1 | NOC2L  | 0.3599541 | 0.02995320 |\n",
       "| 2 | 30 | 0.001 | 1 | KLHL17 | 0.3863287 | 0.02114429 |\n",
       "| 3 | 30 | 0.001 | 1 | HES4   | 0.2478758 | 0.10172311 |\n",
       "\n"
      ],
      "text/plain": [
       "  localGeneCutoff pValCutoff networkNum Gene   Correlation P.Value   \n",
       "1 30              0.001      1          NOC2L  0.3599541   0.02995320\n",
       "2 30              0.001      1          KLHL17 0.3863287   0.02114429\n",
       "3 30              0.001      1          HES4   0.2478758   0.10172311"
      ]
     },
     "metadata": {},
     "output_type": "display_data"
    },
    {
     "data": {
      "text/html": [
       "<table class=\"dataframe\">\n",
       "<caption>A data.frame: 3 × 6</caption>\n",
       "<thead>\n",
       "\t<tr><th></th><th scope=col>localGeneCutoff</th><th scope=col>pValCutoff</th><th scope=col>networkNum</th><th scope=col>Gene</th><th scope=col>Correlation</th><th scope=col>P.Value</th></tr>\n",
       "\t<tr><th></th><th scope=col>&lt;dbl&gt;</th><th scope=col>&lt;chr&gt;</th><th scope=col>&lt;int&gt;</th><th scope=col>&lt;chr&gt;</th><th scope=col>&lt;dbl&gt;</th><th scope=col>&lt;dbl&gt;</th></tr>\n",
       "</thead>\n",
       "<tbody>\n",
       "\t<tr><th scope=row>1</th><td>30</td><td>0.001</td><td>1</td><td>NOC2L </td><td>0.7391533</td><td>3.072329e-13</td></tr>\n",
       "\t<tr><th scope=row>2</th><td>30</td><td>0.001</td><td>1</td><td>KLHL17</td><td>0.4856743</td><td>1.345156e-05</td></tr>\n",
       "\t<tr><th scope=row>3</th><td>30</td><td>0.001</td><td>1</td><td>HES4  </td><td>0.5666659</td><td>2.360092e-07</td></tr>\n",
       "</tbody>\n",
       "</table>\n"
      ],
      "text/latex": [
       "A data.frame: 3 × 6\n",
       "\\begin{tabular}{r|llllll}\n",
       "  & localGeneCutoff & pValCutoff & networkNum & Gene & Correlation & P.Value\\\\\n",
       "  & <dbl> & <chr> & <int> & <chr> & <dbl> & <dbl>\\\\\n",
       "\\hline\n",
       "\t1 & 30 & 0.001 & 1 & NOC2L  & 0.7391533 & 3.072329e-13\\\\\n",
       "\t2 & 30 & 0.001 & 1 & KLHL17 & 0.4856743 & 1.345156e-05\\\\\n",
       "\t3 & 30 & 0.001 & 1 & HES4   & 0.5666659 & 2.360092e-07\\\\\n",
       "\\end{tabular}\n"
      ],
      "text/markdown": [
       "\n",
       "A data.frame: 3 × 6\n",
       "\n",
       "| <!--/--> | localGeneCutoff &lt;dbl&gt; | pValCutoff &lt;chr&gt; | networkNum &lt;int&gt; | Gene &lt;chr&gt; | Correlation &lt;dbl&gt; | P.Value &lt;dbl&gt; |\n",
       "|---|---|---|---|---|---|---|\n",
       "| 1 | 30 | 0.001 | 1 | NOC2L  | 0.7391533 | 3.072329e-13 |\n",
       "| 2 | 30 | 0.001 | 1 | KLHL17 | 0.4856743 | 1.345156e-05 |\n",
       "| 3 | 30 | 0.001 | 1 | HES4   | 0.5666659 | 2.360092e-07 |\n",
       "\n"
      ],
      "text/plain": [
       "  localGeneCutoff pValCutoff networkNum Gene   Correlation P.Value     \n",
       "1 30              0.001      1          NOC2L  0.7391533   3.072329e-13\n",
       "2 30              0.001      1          KLHL17 0.4856743   1.345156e-05\n",
       "3 30              0.001      1          HES4   0.5666659   2.360092e-07"
      ]
     },
     "metadata": {},
     "output_type": "display_data"
    },
    {
     "data": {
      "text/html": [
       "<table class=\"dataframe\">\n",
       "<caption>A data.frame: 3 × 7</caption>\n",
       "<thead>\n",
       "\t<tr><th></th><th scope=col>localGeneCutoff</th><th scope=col>pValCutoff</th><th scope=col>networkNum</th><th scope=col>nwInstanceNb</th><th scope=col>Gene</th><th scope=col>Correlation</th><th scope=col>P.Value</th></tr>\n",
       "\t<tr><th></th><th scope=col>&lt;dbl&gt;</th><th scope=col>&lt;chr&gt;</th><th scope=col>&lt;int&gt;</th><th scope=col>&lt;int&gt;</th><th scope=col>&lt;chr&gt;</th><th scope=col>&lt;dbl&gt;</th><th scope=col>&lt;dbl&gt;</th></tr>\n",
       "</thead>\n",
       "<tbody>\n",
       "\t<tr><th scope=row>1</th><td>30</td><td>0.001</td><td>1</td><td>1</td><td>NOC2L </td><td> 0.2116147</td><td>0.04160605</td></tr>\n",
       "\t<tr><th scope=row>2</th><td>30</td><td>0.001</td><td>1</td><td>1</td><td>KLHL17</td><td>-0.2507733</td><td>0.98042830</td></tr>\n",
       "\t<tr><th scope=row>3</th><td>30</td><td>0.001</td><td>1</td><td>1</td><td>HES4  </td><td>-0.1930749</td><td>0.94265990</td></tr>\n",
       "</tbody>\n",
       "</table>\n"
      ],
      "text/latex": [
       "A data.frame: 3 × 7\n",
       "\\begin{tabular}{r|lllllll}\n",
       "  & localGeneCutoff & pValCutoff & networkNum & nwInstanceNb & Gene & Correlation & P.Value\\\\\n",
       "  & <dbl> & <chr> & <int> & <int> & <chr> & <dbl> & <dbl>\\\\\n",
       "\\hline\n",
       "\t1 & 30 & 0.001 & 1 & 1 & NOC2L  &  0.2116147 & 0.04160605\\\\\n",
       "\t2 & 30 & 0.001 & 1 & 1 & KLHL17 & -0.2507733 & 0.98042830\\\\\n",
       "\t3 & 30 & 0.001 & 1 & 1 & HES4   & -0.1930749 & 0.94265990\\\\\n",
       "\\end{tabular}\n"
      ],
      "text/markdown": [
       "\n",
       "A data.frame: 3 × 7\n",
       "\n",
       "| <!--/--> | localGeneCutoff &lt;dbl&gt; | pValCutoff &lt;chr&gt; | networkNum &lt;int&gt; | nwInstanceNb &lt;int&gt; | Gene &lt;chr&gt; | Correlation &lt;dbl&gt; | P.Value &lt;dbl&gt; |\n",
       "|---|---|---|---|---|---|---|---|\n",
       "| 1 | 30 | 0.001 | 1 | 1 | NOC2L  |  0.2116147 | 0.04160605 |\n",
       "| 2 | 30 | 0.001 | 1 | 1 | KLHL17 | -0.2507733 | 0.98042830 |\n",
       "| 3 | 30 | 0.001 | 1 | 1 | HES4   | -0.1930749 | 0.94265990 |\n",
       "\n"
      ],
      "text/plain": [
       "  localGeneCutoff pValCutoff networkNum nwInstanceNb Gene   Correlation\n",
       "1 30              0.001      1          1            NOC2L   0.2116147 \n",
       "2 30              0.001      1          1            KLHL17 -0.2507733 \n",
       "3 30              0.001      1          1            HES4   -0.1930749 \n",
       "  P.Value   \n",
       "1 0.04160605\n",
       "2 0.98042830\n",
       "3 0.94265990"
      ]
     },
     "metadata": {},
     "output_type": "display_data"
    },
    {
     "data": {
      "text/html": [
       "<table class=\"dataframe\">\n",
       "<caption>A data.frame: 3 × 6</caption>\n",
       "<thead>\n",
       "\t<tr><th></th><th scope=col>localGeneCutoff</th><th scope=col>pValCutoff</th><th scope=col>networkNum</th><th scope=col>Gene</th><th scope=col>Correlation</th><th scope=col>P.Value</th></tr>\n",
       "\t<tr><th></th><th scope=col>&lt;dbl&gt;</th><th scope=col>&lt;chr&gt;</th><th scope=col>&lt;int&gt;</th><th scope=col>&lt;chr&gt;</th><th scope=col>&lt;dbl&gt;</th><th scope=col>&lt;dbl&gt;</th></tr>\n",
       "</thead>\n",
       "<tbody>\n",
       "\t<tr><th scope=row>1</th><td>30</td><td>0.001</td><td>1</td><td>NOC2L </td><td>0.3538437</td><td>0.1295772</td></tr>\n",
       "\t<tr><th scope=row>2</th><td>30</td><td>0.001</td><td>1</td><td>KLHL17</td><td>0.3378324</td><td>0.1414131</td></tr>\n",
       "\t<tr><th scope=row>3</th><td>30</td><td>0.001</td><td>1</td><td>HES4  </td><td>0.2479600</td><td>0.2185612</td></tr>\n",
       "</tbody>\n",
       "</table>\n"
      ],
      "text/latex": [
       "A data.frame: 3 × 6\n",
       "\\begin{tabular}{r|llllll}\n",
       "  & localGeneCutoff & pValCutoff & networkNum & Gene & Correlation & P.Value\\\\\n",
       "  & <dbl> & <chr> & <int> & <chr> & <dbl> & <dbl>\\\\\n",
       "\\hline\n",
       "\t1 & 30 & 0.001 & 1 & NOC2L  & 0.3538437 & 0.1295772\\\\\n",
       "\t2 & 30 & 0.001 & 1 & KLHL17 & 0.3378324 & 0.1414131\\\\\n",
       "\t3 & 30 & 0.001 & 1 & HES4   & 0.2479600 & 0.2185612\\\\\n",
       "\\end{tabular}\n"
      ],
      "text/markdown": [
       "\n",
       "A data.frame: 3 × 6\n",
       "\n",
       "| <!--/--> | localGeneCutoff &lt;dbl&gt; | pValCutoff &lt;chr&gt; | networkNum &lt;int&gt; | Gene &lt;chr&gt; | Correlation &lt;dbl&gt; | P.Value &lt;dbl&gt; |\n",
       "|---|---|---|---|---|---|---|\n",
       "| 1 | 30 | 0.001 | 1 | NOC2L  | 0.3538437 | 0.1295772 |\n",
       "| 2 | 30 | 0.001 | 1 | KLHL17 | 0.3378324 | 0.1414131 |\n",
       "| 3 | 30 | 0.001 | 1 | HES4   | 0.2479600 | 0.2185612 |\n",
       "\n"
      ],
      "text/plain": [
       "  localGeneCutoff pValCutoff networkNum Gene   Correlation P.Value  \n",
       "1 30              0.001      1          NOC2L  0.3538437   0.1295772\n",
       "2 30              0.001      1          KLHL17 0.3378324   0.1414131\n",
       "3 30              0.001      1          HES4   0.2479600   0.2185612"
      ]
     },
     "metadata": {},
     "output_type": "display_data"
    },
    {
     "data": {
      "text/html": [
       "<table class=\"dataframe\">\n",
       "<caption>A data.frame: 3 × 6</caption>\n",
       "<thead>\n",
       "\t<tr><th></th><th scope=col>localGeneCutoff</th><th scope=col>pValCutoff</th><th scope=col>networkNum</th><th scope=col>Gene</th><th scope=col>Correlation</th><th scope=col>P.Value</th></tr>\n",
       "\t<tr><th></th><th scope=col>&lt;dbl&gt;</th><th scope=col>&lt;chr&gt;</th><th scope=col>&lt;int&gt;</th><th scope=col>&lt;chr&gt;</th><th scope=col>&lt;dbl&gt;</th><th scope=col>&lt;dbl&gt;</th></tr>\n",
       "</thead>\n",
       "<tbody>\n",
       "\t<tr><th scope=row>1</th><td>30</td><td>0.001</td><td>1</td><td>NOC2L </td><td>0.3802659</td><td>0.07312178</td></tr>\n",
       "\t<tr><th scope=row>2</th><td>30</td><td>0.001</td><td>1</td><td>KLHL17</td><td>0.4638106</td><td>0.03517778</td></tr>\n",
       "\t<tr><th scope=row>3</th><td>30</td><td>0.001</td><td>1</td><td>HES4  </td><td>0.2520360</td><td>0.17317548</td></tr>\n",
       "</tbody>\n",
       "</table>\n"
      ],
      "text/latex": [
       "A data.frame: 3 × 6\n",
       "\\begin{tabular}{r|llllll}\n",
       "  & localGeneCutoff & pValCutoff & networkNum & Gene & Correlation & P.Value\\\\\n",
       "  & <dbl> & <chr> & <int> & <chr> & <dbl> & <dbl>\\\\\n",
       "\\hline\n",
       "\t1 & 30 & 0.001 & 1 & NOC2L  & 0.3802659 & 0.07312178\\\\\n",
       "\t2 & 30 & 0.001 & 1 & KLHL17 & 0.4638106 & 0.03517778\\\\\n",
       "\t3 & 30 & 0.001 & 1 & HES4   & 0.2520360 & 0.17317548\\\\\n",
       "\\end{tabular}\n"
      ],
      "text/markdown": [
       "\n",
       "A data.frame: 3 × 6\n",
       "\n",
       "| <!--/--> | localGeneCutoff &lt;dbl&gt; | pValCutoff &lt;chr&gt; | networkNum &lt;int&gt; | Gene &lt;chr&gt; | Correlation &lt;dbl&gt; | P.Value &lt;dbl&gt; |\n",
       "|---|---|---|---|---|---|---|\n",
       "| 1 | 30 | 0.001 | 1 | NOC2L  | 0.3802659 | 0.07312178 |\n",
       "| 2 | 30 | 0.001 | 1 | KLHL17 | 0.4638106 | 0.03517778 |\n",
       "| 3 | 30 | 0.001 | 1 | HES4   | 0.2520360 | 0.17317548 |\n",
       "\n"
      ],
      "text/plain": [
       "  localGeneCutoff pValCutoff networkNum Gene   Correlation P.Value   \n",
       "1 30              0.001      1          NOC2L  0.3802659   0.07312178\n",
       "2 30              0.001      1          KLHL17 0.4638106   0.03517778\n",
       "3 30              0.001      1          HES4   0.2520360   0.17317548"
      ]
     },
     "metadata": {},
     "output_type": "display_data"
    },
    {
     "data": {
      "text/html": [
       "<table class=\"dataframe\">\n",
       "<caption>A data.frame: 3 × 6</caption>\n",
       "<thead>\n",
       "\t<tr><th></th><th scope=col>localGeneCutoff</th><th scope=col>pValCutoff</th><th scope=col>networkNum</th><th scope=col>Gene</th><th scope=col>Correlation</th><th scope=col>P.Value</th></tr>\n",
       "\t<tr><th></th><th scope=col>&lt;dbl&gt;</th><th scope=col>&lt;chr&gt;</th><th scope=col>&lt;int&gt;</th><th scope=col>&lt;chr&gt;</th><th scope=col>&lt;dbl&gt;</th><th scope=col>&lt;dbl&gt;</th></tr>\n",
       "</thead>\n",
       "<tbody>\n",
       "\t<tr><th scope=row>1</th><td>30</td><td>0.001</td><td>1</td><td>NOC2L </td><td>0.4527646</td><td>0.02959649</td></tr>\n",
       "\t<tr><th scope=row>2</th><td>30</td><td>0.001</td><td>1</td><td>KLHL17</td><td>0.1531436</td><td>0.27203022</td></tr>\n",
       "\t<tr><th scope=row>3</th><td>30</td><td>0.001</td><td>1</td><td>HES4  </td><td>0.3897404</td><td>0.05493330</td></tr>\n",
       "</tbody>\n",
       "</table>\n"
      ],
      "text/latex": [
       "A data.frame: 3 × 6\n",
       "\\begin{tabular}{r|llllll}\n",
       "  & localGeneCutoff & pValCutoff & networkNum & Gene & Correlation & P.Value\\\\\n",
       "  & <dbl> & <chr> & <int> & <chr> & <dbl> & <dbl>\\\\\n",
       "\\hline\n",
       "\t1 & 30 & 0.001 & 1 & NOC2L  & 0.4527646 & 0.02959649\\\\\n",
       "\t2 & 30 & 0.001 & 1 & KLHL17 & 0.1531436 & 0.27203022\\\\\n",
       "\t3 & 30 & 0.001 & 1 & HES4   & 0.3897404 & 0.05493330\\\\\n",
       "\\end{tabular}\n"
      ],
      "text/markdown": [
       "\n",
       "A data.frame: 3 × 6\n",
       "\n",
       "| <!--/--> | localGeneCutoff &lt;dbl&gt; | pValCutoff &lt;chr&gt; | networkNum &lt;int&gt; | Gene &lt;chr&gt; | Correlation &lt;dbl&gt; | P.Value &lt;dbl&gt; |\n",
       "|---|---|---|---|---|---|---|\n",
       "| 1 | 30 | 0.001 | 1 | NOC2L  | 0.4527646 | 0.02959649 |\n",
       "| 2 | 30 | 0.001 | 1 | KLHL17 | 0.1531436 | 0.27203022 |\n",
       "| 3 | 30 | 0.001 | 1 | HES4   | 0.3897404 | 0.05493330 |\n",
       "\n"
      ],
      "text/plain": [
       "  localGeneCutoff pValCutoff networkNum Gene   Correlation P.Value   \n",
       "1 30              0.001      1          NOC2L  0.4527646   0.02959649\n",
       "2 30              0.001      1          KLHL17 0.1531436   0.27203022\n",
       "3 30              0.001      1          HES4   0.3897404   0.05493330"
      ]
     },
     "metadata": {},
     "output_type": "display_data"
    },
    {
     "data": {
      "text/html": [
       "<table class=\"dataframe\">\n",
       "<caption>A data.frame: 3 × 6</caption>\n",
       "<thead>\n",
       "\t<tr><th></th><th scope=col>localGeneCutoff</th><th scope=col>pValCutoff</th><th scope=col>networkNum</th><th scope=col>Gene</th><th scope=col>Correlation</th><th scope=col>P.Value</th></tr>\n",
       "\t<tr><th></th><th scope=col>&lt;dbl&gt;</th><th scope=col>&lt;chr&gt;</th><th scope=col>&lt;int&gt;</th><th scope=col>&lt;chr&gt;</th><th scope=col>&lt;dbl&gt;</th><th scope=col>&lt;dbl&gt;</th></tr>\n",
       "</thead>\n",
       "<tbody>\n",
       "\t<tr><th scope=row>1</th><td>30</td><td>0.001</td><td>1</td><td>NOC2L </td><td>-0.1350839</td><td>0.6355201</td></tr>\n",
       "\t<tr><th scope=row>2</th><td>30</td><td>0.001</td><td>1</td><td>KLHL17</td><td> 0.2185559</td><td>0.2860528</td></tr>\n",
       "\t<tr><th scope=row>3</th><td>30</td><td>0.001</td><td>1</td><td>HES4  </td><td> 0.2410265</td><td>0.2660692</td></tr>\n",
       "</tbody>\n",
       "</table>\n"
      ],
      "text/latex": [
       "A data.frame: 3 × 6\n",
       "\\begin{tabular}{r|llllll}\n",
       "  & localGeneCutoff & pValCutoff & networkNum & Gene & Correlation & P.Value\\\\\n",
       "  & <dbl> & <chr> & <int> & <chr> & <dbl> & <dbl>\\\\\n",
       "\\hline\n",
       "\t1 & 30 & 0.001 & 1 & NOC2L  & -0.1350839 & 0.6355201\\\\\n",
       "\t2 & 30 & 0.001 & 1 & KLHL17 &  0.2185559 & 0.2860528\\\\\n",
       "\t3 & 30 & 0.001 & 1 & HES4   &  0.2410265 & 0.2660692\\\\\n",
       "\\end{tabular}\n"
      ],
      "text/markdown": [
       "\n",
       "A data.frame: 3 × 6\n",
       "\n",
       "| <!--/--> | localGeneCutoff &lt;dbl&gt; | pValCutoff &lt;chr&gt; | networkNum &lt;int&gt; | Gene &lt;chr&gt; | Correlation &lt;dbl&gt; | P.Value &lt;dbl&gt; |\n",
       "|---|---|---|---|---|---|---|\n",
       "| 1 | 30 | 0.001 | 1 | NOC2L  | -0.1350839 | 0.6355201 |\n",
       "| 2 | 30 | 0.001 | 1 | KLHL17 |  0.2185559 | 0.2860528 |\n",
       "| 3 | 30 | 0.001 | 1 | HES4   |  0.2410265 | 0.2660692 |\n",
       "\n"
      ],
      "text/plain": [
       "  localGeneCutoff pValCutoff networkNum Gene   Correlation P.Value  \n",
       "1 30              0.001      1          NOC2L  -0.1350839  0.6355201\n",
       "2 30              0.001      1          KLHL17  0.2185559  0.2860528\n",
       "3 30              0.001      1          HES4    0.2410265  0.2660692"
      ]
     },
     "metadata": {},
     "output_type": "display_data"
    },
    {
     "data": {
      "text/html": [
       "<table class=\"dataframe\">\n",
       "<caption>A data.frame: 3 × 6</caption>\n",
       "<thead>\n",
       "\t<tr><th></th><th scope=col>localGeneCutoff</th><th scope=col>pValCutoff</th><th scope=col>networkNum</th><th scope=col>Gene</th><th scope=col>Correlation</th><th scope=col>P.Value</th></tr>\n",
       "\t<tr><th></th><th scope=col>&lt;dbl&gt;</th><th scope=col>&lt;chr&gt;</th><th scope=col>&lt;int&gt;</th><th scope=col>&lt;chr&gt;</th><th scope=col>&lt;dbl&gt;</th><th scope=col>&lt;dbl&gt;</th></tr>\n",
       "</thead>\n",
       "<tbody>\n",
       "\t<tr><th scope=row>1</th><td>30</td><td>0.001</td><td>1</td><td>NOC2L </td><td>0.82813863</td><td>0.002915712</td></tr>\n",
       "\t<tr><th scope=row>2</th><td>30</td><td>0.001</td><td>1</td><td>KLHL17</td><td>0.05476678</td><td>0.444354259</td></tr>\n",
       "\t<tr><th scope=row>3</th><td>30</td><td>0.001</td><td>1</td><td>HES4  </td><td>0.67100322</td><td>0.023930632</td></tr>\n",
       "</tbody>\n",
       "</table>\n"
      ],
      "text/latex": [
       "A data.frame: 3 × 6\n",
       "\\begin{tabular}{r|llllll}\n",
       "  & localGeneCutoff & pValCutoff & networkNum & Gene & Correlation & P.Value\\\\\n",
       "  & <dbl> & <chr> & <int> & <chr> & <dbl> & <dbl>\\\\\n",
       "\\hline\n",
       "\t1 & 30 & 0.001 & 1 & NOC2L  & 0.82813863 & 0.002915712\\\\\n",
       "\t2 & 30 & 0.001 & 1 & KLHL17 & 0.05476678 & 0.444354259\\\\\n",
       "\t3 & 30 & 0.001 & 1 & HES4   & 0.67100322 & 0.023930632\\\\\n",
       "\\end{tabular}\n"
      ],
      "text/markdown": [
       "\n",
       "A data.frame: 3 × 6\n",
       "\n",
       "| <!--/--> | localGeneCutoff &lt;dbl&gt; | pValCutoff &lt;chr&gt; | networkNum &lt;int&gt; | Gene &lt;chr&gt; | Correlation &lt;dbl&gt; | P.Value &lt;dbl&gt; |\n",
       "|---|---|---|---|---|---|---|\n",
       "| 1 | 30 | 0.001 | 1 | NOC2L  | 0.82813863 | 0.002915712 |\n",
       "| 2 | 30 | 0.001 | 1 | KLHL17 | 0.05476678 | 0.444354259 |\n",
       "| 3 | 30 | 0.001 | 1 | HES4   | 0.67100322 | 0.023930632 |\n",
       "\n"
      ],
      "text/plain": [
       "  localGeneCutoff pValCutoff networkNum Gene   Correlation P.Value    \n",
       "1 30              0.001      1          NOC2L  0.82813863  0.002915712\n",
       "2 30              0.001      1          KLHL17 0.05476678  0.444354259\n",
       "3 30              0.001      1          HES4   0.67100322  0.023930632"
      ]
     },
     "metadata": {},
     "output_type": "display_data"
    }
   ],
   "source": [
    "head(melBrainPredResults,3)\n",
    "head(normalPredTestResults,3)\n",
    "head(randomPredTestResults,3)\n",
    "head(melBrainMBMPredResults,3)\n",
    "head(melBrainECMPredResults,3)\n",
    "head(melBrainValidationPredResults,3)\n",
    "head(melBrainValidationMBMPredResults,3)\n",
    "head(melBrainValidationECMPredResults,3)"
   ]
  },
  {
   "cell_type": "markdown",
   "id": "aaf23e2a",
   "metadata": {},
   "source": [
    "### data wrangling to create data.frame for ggplot"
   ]
  },
  {
   "cell_type": "code",
   "execution_count": 73,
   "id": "6f41ed5f",
   "metadata": {},
   "outputs": [
    {
     "data": {
      "text/html": [
       "8251"
      ],
      "text/latex": [
       "8251"
      ],
      "text/markdown": [
       "8251"
      ],
      "text/plain": [
       "[1] 8251"
      ]
     },
     "metadata": {},
     "output_type": "display_data"
    }
   ],
   "source": [
    "# now get median for each gene in each random network (nwInstanceNb) of networkNum networks\n",
    "allGenes = unique(sort(randomPredTestResults$Gene))\n",
    "length(allGenes)\n",
    "medianrandomPredTestResults = NULL\n",
    "for (networkNum in 1:numOfNWs) {\n",
    "    dat = randomPredTestResults[randomPredTestResults$localGeneCutoff == localGeneCutoff & \n",
    "                      randomPredTestResults$pValCutoff == pValCutoff & \n",
    "                                randomPredTestResults$networkNum == networkNum,]\n",
    "    median_correlation = sapply(allGenes, function(g) median(dat[ dat$Gene == g,\"Correlation\" ]))\n",
    "    median_pvalue = sapply(allGenes, function(g) median(dat[ dat$Gene == g,\"P.Value\" ]))\n",
    "    medianrandomPredTestResults = \n",
    "        rbind(medianrandomPredTestResults,\n",
    "              data.frame(gene=allGenes,localGeneCutoff=localGeneCutoff,pValCutoff=pValCutoff,\n",
    "                         networkNum=networkNum,median_correlation=median_correlation, \n",
    "                         median_pvalue=median_pvalue))\n",
    "}\n",
    "# takes ca. 3 minutes, maybe we could programm it better or parallelize"
   ]
  },
  {
   "cell_type": "code",
   "execution_count": 74,
   "id": "6fc0e448",
   "metadata": {},
   "outputs": [
    {
     "data": {
      "text/html": [
       "<table class=\"dataframe\">\n",
       "<caption>A data.frame: 3 × 6</caption>\n",
       "<thead>\n",
       "\t<tr><th></th><th scope=col>gene</th><th scope=col>localGeneCutoff</th><th scope=col>pValCutoff</th><th scope=col>networkNum</th><th scope=col>median_correlation</th><th scope=col>median_pvalue</th></tr>\n",
       "\t<tr><th></th><th scope=col>&lt;chr&gt;</th><th scope=col>&lt;dbl&gt;</th><th scope=col>&lt;dbl&gt;</th><th scope=col>&lt;int&gt;</th><th scope=col>&lt;dbl&gt;</th><th scope=col>&lt;dbl&gt;</th></tr>\n",
       "</thead>\n",
       "<tbody>\n",
       "\t<tr><th scope=row>A1BG</th><td>A1BG</td><td>30</td><td>0.001</td><td>1</td><td>-0.189787271</td><td>0.6311568</td></tr>\n",
       "\t<tr><th scope=row>AAAS</th><td>AAAS</td><td>30</td><td>0.001</td><td>1</td><td> 0.008401999</td><td>0.4992348</td></tr>\n",
       "\t<tr><th scope=row>AACS</th><td>AACS</td><td>30</td><td>0.001</td><td>1</td><td> 0.079063621</td><td>0.2652767</td></tr>\n",
       "</tbody>\n",
       "</table>\n"
      ],
      "text/latex": [
       "A data.frame: 3 × 6\n",
       "\\begin{tabular}{r|llllll}\n",
       "  & gene & localGeneCutoff & pValCutoff & networkNum & median\\_correlation & median\\_pvalue\\\\\n",
       "  & <chr> & <dbl> & <dbl> & <int> & <dbl> & <dbl>\\\\\n",
       "\\hline\n",
       "\tA1BG & A1BG & 30 & 0.001 & 1 & -0.189787271 & 0.6311568\\\\\n",
       "\tAAAS & AAAS & 30 & 0.001 & 1 &  0.008401999 & 0.4992348\\\\\n",
       "\tAACS & AACS & 30 & 0.001 & 1 &  0.079063621 & 0.2652767\\\\\n",
       "\\end{tabular}\n"
      ],
      "text/markdown": [
       "\n",
       "A data.frame: 3 × 6\n",
       "\n",
       "| <!--/--> | gene &lt;chr&gt; | localGeneCutoff &lt;dbl&gt; | pValCutoff &lt;dbl&gt; | networkNum &lt;int&gt; | median_correlation &lt;dbl&gt; | median_pvalue &lt;dbl&gt; |\n",
       "|---|---|---|---|---|---|---|\n",
       "| A1BG | A1BG | 30 | 0.001 | 1 | -0.189787271 | 0.6311568 |\n",
       "| AAAS | AAAS | 30 | 0.001 | 1 |  0.008401999 | 0.4992348 |\n",
       "| AACS | AACS | 30 | 0.001 | 1 |  0.079063621 | 0.2652767 |\n",
       "\n"
      ],
      "text/plain": [
       "     gene localGeneCutoff pValCutoff networkNum median_correlation\n",
       "A1BG A1BG 30              0.001      1          -0.189787271      \n",
       "AAAS AAAS 30              0.001      1           0.008401999      \n",
       "AACS AACS 30              0.001      1           0.079063621      \n",
       "     median_pvalue\n",
       "A1BG 0.6311568    \n",
       "AAAS 0.4992348    \n",
       "AACS 0.2652767    "
      ]
     },
     "metadata": {},
     "output_type": "display_data"
    }
   ],
   "source": [
    "head(medianrandomPredTestResults,3)"
   ]
  },
  {
   "cell_type": "code",
   "execution_count": 75,
   "id": "914ed1b2",
   "metadata": {
    "scrolled": true
   },
   "outputs": [
    {
     "data": {
      "text/html": [
       "<table class=\"dataframe\">\n",
       "<caption>A data.frame: 3 × 7</caption>\n",
       "<thead>\n",
       "\t<tr><th></th><th scope=col>type</th><th scope=col>localGeneCutoff</th><th scope=col>pValCutoff</th><th scope=col>networkNum</th><th scope=col>Gene</th><th scope=col>Correlation</th><th scope=col>P.Value</th></tr>\n",
       "\t<tr><th></th><th scope=col>&lt;chr&gt;</th><th scope=col>&lt;dbl&gt;</th><th scope=col>&lt;dbl&gt;</th><th scope=col>&lt;int&gt;</th><th scope=col>&lt;chr&gt;</th><th scope=col>&lt;dbl&gt;</th><th scope=col>&lt;dbl&gt;</th></tr>\n",
       "</thead>\n",
       "<tbody>\n",
       "\t<tr><th scope=row>ZYX1</th><td>Random networks</td><td>30</td><td>0.001</td><td>2</td><td>ZYX  </td><td>0.10631668</td><td>0.1951352</td></tr>\n",
       "\t<tr><th scope=row>ZZEF11</th><td>Random networks</td><td>30</td><td>0.001</td><td>2</td><td>ZZEF1</td><td>0.09000211</td><td>0.4396242</td></tr>\n",
       "\t<tr><th scope=row>ZZZ31</th><td>Random networks</td><td>30</td><td>0.001</td><td>2</td><td>ZZZ3 </td><td>0.21145586</td><td>0.0533926</td></tr>\n",
       "</tbody>\n",
       "</table>\n"
      ],
      "text/latex": [
       "A data.frame: 3 × 7\n",
       "\\begin{tabular}{r|lllllll}\n",
       "  & type & localGeneCutoff & pValCutoff & networkNum & Gene & Correlation & P.Value\\\\\n",
       "  & <chr> & <dbl> & <dbl> & <int> & <chr> & <dbl> & <dbl>\\\\\n",
       "\\hline\n",
       "\tZYX1 & Random networks & 30 & 0.001 & 2 & ZYX   & 0.10631668 & 0.1951352\\\\\n",
       "\tZZEF11 & Random networks & 30 & 0.001 & 2 & ZZEF1 & 0.09000211 & 0.4396242\\\\\n",
       "\tZZZ31 & Random networks & 30 & 0.001 & 2 & ZZZ3  & 0.21145586 & 0.0533926\\\\\n",
       "\\end{tabular}\n"
      ],
      "text/markdown": [
       "\n",
       "A data.frame: 3 × 7\n",
       "\n",
       "| <!--/--> | type &lt;chr&gt; | localGeneCutoff &lt;dbl&gt; | pValCutoff &lt;dbl&gt; | networkNum &lt;int&gt; | Gene &lt;chr&gt; | Correlation &lt;dbl&gt; | P.Value &lt;dbl&gt; |\n",
       "|---|---|---|---|---|---|---|---|\n",
       "| ZYX1 | Random networks | 30 | 0.001 | 2 | ZYX   | 0.10631668 | 0.1951352 |\n",
       "| ZZEF11 | Random networks | 30 | 0.001 | 2 | ZZEF1 | 0.09000211 | 0.4396242 |\n",
       "| ZZZ31 | Random networks | 30 | 0.001 | 2 | ZZZ3  | 0.21145586 | 0.0533926 |\n",
       "\n"
      ],
      "text/plain": [
       "       type            localGeneCutoff pValCutoff networkNum Gene  Correlation\n",
       "ZYX1   Random networks 30              0.001      2          ZYX   0.10631668 \n",
       "ZZEF11 Random networks 30              0.001      2          ZZEF1 0.09000211 \n",
       "ZZZ31  Random networks 30              0.001      2          ZZZ3  0.21145586 \n",
       "       P.Value  \n",
       "ZYX1   0.1951352\n",
       "ZZEF11 0.4396242\n",
       "ZZZ31  0.0533926"
      ]
     },
     "metadata": {},
     "output_type": "display_data"
    },
    {
     "data": {
      "text/html": [
       "<table class=\"dataframe\">\n",
       "<caption>A data.frame: 3 × 7</caption>\n",
       "<thead>\n",
       "\t<tr><th></th><th scope=col>type</th><th scope=col>localGeneCutoff</th><th scope=col>pValCutoff</th><th scope=col>networkNum</th><th scope=col>Gene</th><th scope=col>Correlation</th><th scope=col>P.Value</th></tr>\n",
       "\t<tr><th></th><th scope=col>&lt;chr&gt;</th><th scope=col>&lt;dbl&gt;</th><th scope=col>&lt;chr&gt;</th><th scope=col>&lt;int&gt;</th><th scope=col>&lt;chr&gt;</th><th scope=col>&lt;dbl&gt;</th><th scope=col>&lt;dbl&gt;</th></tr>\n",
       "</thead>\n",
       "<tbody>\n",
       "\t<tr><th scope=row>16500</th><td>Discovery cohort</td><td>30</td><td>0.001</td><td>2</td><td>VMA21</td><td>0.2931107</td><td>6.504402e-02</td></tr>\n",
       "\t<tr><th scope=row>16501</th><td>Discovery cohort</td><td>30</td><td>0.001</td><td>2</td><td>ZFY  </td><td>0.8539359</td><td>3.771599e-09</td></tr>\n",
       "\t<tr><th scope=row>16502</th><td>Discovery cohort</td><td>30</td><td>0.001</td><td>2</td><td>UTY  </td><td>0.8733792</td><td>6.607535e-10</td></tr>\n",
       "</tbody>\n",
       "</table>\n"
      ],
      "text/latex": [
       "A data.frame: 3 × 7\n",
       "\\begin{tabular}{r|lllllll}\n",
       "  & type & localGeneCutoff & pValCutoff & networkNum & Gene & Correlation & P.Value\\\\\n",
       "  & <chr> & <dbl> & <chr> & <int> & <chr> & <dbl> & <dbl>\\\\\n",
       "\\hline\n",
       "\t16500 & Discovery cohort & 30 & 0.001 & 2 & VMA21 & 0.2931107 & 6.504402e-02\\\\\n",
       "\t16501 & Discovery cohort & 30 & 0.001 & 2 & ZFY   & 0.8539359 & 3.771599e-09\\\\\n",
       "\t16502 & Discovery cohort & 30 & 0.001 & 2 & UTY   & 0.8733792 & 6.607535e-10\\\\\n",
       "\\end{tabular}\n"
      ],
      "text/markdown": [
       "\n",
       "A data.frame: 3 × 7\n",
       "\n",
       "| <!--/--> | type &lt;chr&gt; | localGeneCutoff &lt;dbl&gt; | pValCutoff &lt;chr&gt; | networkNum &lt;int&gt; | Gene &lt;chr&gt; | Correlation &lt;dbl&gt; | P.Value &lt;dbl&gt; |\n",
       "|---|---|---|---|---|---|---|---|\n",
       "| 16500 | Discovery cohort | 30 | 0.001 | 2 | VMA21 | 0.2931107 | 6.504402e-02 |\n",
       "| 16501 | Discovery cohort | 30 | 0.001 | 2 | ZFY   | 0.8539359 | 3.771599e-09 |\n",
       "| 16502 | Discovery cohort | 30 | 0.001 | 2 | UTY   | 0.8733792 | 6.607535e-10 |\n",
       "\n"
      ],
      "text/plain": [
       "      type             localGeneCutoff pValCutoff networkNum Gene  Correlation\n",
       "16500 Discovery cohort 30              0.001      2          VMA21 0.2931107  \n",
       "16501 Discovery cohort 30              0.001      2          ZFY   0.8539359  \n",
       "16502 Discovery cohort 30              0.001      2          UTY   0.8733792  \n",
       "      P.Value     \n",
       "16500 6.504402e-02\n",
       "16501 3.771599e-09\n",
       "16502 6.607535e-10"
      ]
     },
     "metadata": {},
     "output_type": "display_data"
    },
    {
     "data": {
      "text/html": [
       "<table class=\"dataframe\">\n",
       "<caption>A data.frame: 3 × 7</caption>\n",
       "<thead>\n",
       "\t<tr><th></th><th scope=col>type</th><th scope=col>localGeneCutoff</th><th scope=col>pValCutoff</th><th scope=col>networkNum</th><th scope=col>Gene</th><th scope=col>Correlation</th><th scope=col>P.Value</th></tr>\n",
       "\t<tr><th></th><th scope=col>&lt;chr&gt;</th><th scope=col>&lt;dbl&gt;</th><th scope=col>&lt;chr&gt;</th><th scope=col>&lt;int&gt;</th><th scope=col>&lt;chr&gt;</th><th scope=col>&lt;dbl&gt;</th><th scope=col>&lt;dbl&gt;</th></tr>\n",
       "</thead>\n",
       "<tbody>\n",
       "\t<tr><th scope=row>165001</th><td>TCGA test data</td><td>30</td><td>0.001</td><td>2</td><td>VMA21</td><td>0.7975942</td><td>1.969298e-16</td></tr>\n",
       "\t<tr><th scope=row>165011</th><td>TCGA test data</td><td>30</td><td>0.001</td><td>2</td><td>ZFY  </td><td>0.9588678</td><td>4.086580e-38</td></tr>\n",
       "\t<tr><th scope=row>165021</th><td>TCGA test data</td><td>30</td><td>0.001</td><td>2</td><td>UTY  </td><td>0.9643658</td><td>3.914760e-40</td></tr>\n",
       "</tbody>\n",
       "</table>\n"
      ],
      "text/latex": [
       "A data.frame: 3 × 7\n",
       "\\begin{tabular}{r|lllllll}\n",
       "  & type & localGeneCutoff & pValCutoff & networkNum & Gene & Correlation & P.Value\\\\\n",
       "  & <chr> & <dbl> & <chr> & <int> & <chr> & <dbl> & <dbl>\\\\\n",
       "\\hline\n",
       "\t165001 & TCGA test data & 30 & 0.001 & 2 & VMA21 & 0.7975942 & 1.969298e-16\\\\\n",
       "\t165011 & TCGA test data & 30 & 0.001 & 2 & ZFY   & 0.9588678 & 4.086580e-38\\\\\n",
       "\t165021 & TCGA test data & 30 & 0.001 & 2 & UTY   & 0.9643658 & 3.914760e-40\\\\\n",
       "\\end{tabular}\n"
      ],
      "text/markdown": [
       "\n",
       "A data.frame: 3 × 7\n",
       "\n",
       "| <!--/--> | type &lt;chr&gt; | localGeneCutoff &lt;dbl&gt; | pValCutoff &lt;chr&gt; | networkNum &lt;int&gt; | Gene &lt;chr&gt; | Correlation &lt;dbl&gt; | P.Value &lt;dbl&gt; |\n",
       "|---|---|---|---|---|---|---|---|\n",
       "| 165001 | TCGA test data | 30 | 0.001 | 2 | VMA21 | 0.7975942 | 1.969298e-16 |\n",
       "| 165011 | TCGA test data | 30 | 0.001 | 2 | ZFY   | 0.9588678 | 4.086580e-38 |\n",
       "| 165021 | TCGA test data | 30 | 0.001 | 2 | UTY   | 0.9643658 | 3.914760e-40 |\n",
       "\n"
      ],
      "text/plain": [
       "       type           localGeneCutoff pValCutoff networkNum Gene  Correlation\n",
       "165001 TCGA test data 30              0.001      2          VMA21 0.7975942  \n",
       "165011 TCGA test data 30              0.001      2          ZFY   0.9588678  \n",
       "165021 TCGA test data 30              0.001      2          UTY   0.9643658  \n",
       "       P.Value     \n",
       "165001 1.969298e-16\n",
       "165011 4.086580e-38\n",
       "165021 3.914760e-40"
      ]
     },
     "metadata": {},
     "output_type": "display_data"
    },
    {
     "data": {
      "text/html": [
       "<table class=\"dataframe\">\n",
       "<caption>A data.frame: 3 × 7</caption>\n",
       "<thead>\n",
       "\t<tr><th></th><th scope=col>type</th><th scope=col>localGeneCutoff</th><th scope=col>pValCutoff</th><th scope=col>networkNum</th><th scope=col>Gene</th><th scope=col>Correlation</th><th scope=col>P.Value</th></tr>\n",
       "\t<tr><th></th><th scope=col>&lt;chr&gt;</th><th scope=col>&lt;dbl&gt;</th><th scope=col>&lt;chr&gt;</th><th scope=col>&lt;int&gt;</th><th scope=col>&lt;chr&gt;</th><th scope=col>&lt;dbl&gt;</th><th scope=col>&lt;dbl&gt;</th></tr>\n",
       "</thead>\n",
       "<tbody>\n",
       "\t<tr><th scope=row>165002</th><td>Validation cohort</td><td>30</td><td>0.001</td><td>2</td><td>VMA21</td><td> 0.4780093</td><td>0.02240564</td></tr>\n",
       "\t<tr><th scope=row>165012</th><td>Validation cohort</td><td>30</td><td>0.001</td><td>2</td><td>ZFY  </td><td>-0.1268398</td><td>0.69200308</td></tr>\n",
       "\t<tr><th scope=row>165022</th><td>Validation cohort</td><td>30</td><td>0.001</td><td>2</td><td>UTY  </td><td>        NA</td><td>        NA</td></tr>\n",
       "</tbody>\n",
       "</table>\n"
      ],
      "text/latex": [
       "A data.frame: 3 × 7\n",
       "\\begin{tabular}{r|lllllll}\n",
       "  & type & localGeneCutoff & pValCutoff & networkNum & Gene & Correlation & P.Value\\\\\n",
       "  & <chr> & <dbl> & <chr> & <int> & <chr> & <dbl> & <dbl>\\\\\n",
       "\\hline\n",
       "\t165002 & Validation cohort & 30 & 0.001 & 2 & VMA21 &  0.4780093 & 0.02240564\\\\\n",
       "\t165012 & Validation cohort & 30 & 0.001 & 2 & ZFY   & -0.1268398 & 0.69200308\\\\\n",
       "\t165022 & Validation cohort & 30 & 0.001 & 2 & UTY   &         NA &         NA\\\\\n",
       "\\end{tabular}\n"
      ],
      "text/markdown": [
       "\n",
       "A data.frame: 3 × 7\n",
       "\n",
       "| <!--/--> | type &lt;chr&gt; | localGeneCutoff &lt;dbl&gt; | pValCutoff &lt;chr&gt; | networkNum &lt;int&gt; | Gene &lt;chr&gt; | Correlation &lt;dbl&gt; | P.Value &lt;dbl&gt; |\n",
       "|---|---|---|---|---|---|---|---|\n",
       "| 165002 | Validation cohort | 30 | 0.001 | 2 | VMA21 |  0.4780093 | 0.02240564 |\n",
       "| 165012 | Validation cohort | 30 | 0.001 | 2 | ZFY   | -0.1268398 | 0.69200308 |\n",
       "| 165022 | Validation cohort | 30 | 0.001 | 2 | UTY   |         NA |         NA |\n",
       "\n"
      ],
      "text/plain": [
       "       type              localGeneCutoff pValCutoff networkNum Gene \n",
       "165002 Validation cohort 30              0.001      2          VMA21\n",
       "165012 Validation cohort 30              0.001      2          ZFY  \n",
       "165022 Validation cohort 30              0.001      2          UTY  \n",
       "       Correlation P.Value   \n",
       "165002  0.4780093  0.02240564\n",
       "165012 -0.1268398  0.69200308\n",
       "165022         NA          NA"
      ]
     },
     "metadata": {},
     "output_type": "display_data"
    },
    {
     "data": {
      "text/html": [
       "<table class=\"dataframe\">\n",
       "<caption>A data.frame: 3 × 7</caption>\n",
       "<thead>\n",
       "\t<tr><th></th><th scope=col>type</th><th scope=col>localGeneCutoff</th><th scope=col>pValCutoff</th><th scope=col>networkNum</th><th scope=col>Gene</th><th scope=col>Correlation</th><th scope=col>P.Value</th></tr>\n",
       "\t<tr><th></th><th scope=col>&lt;chr&gt;</th><th scope=col>&lt;dbl&gt;</th><th scope=col>&lt;chr&gt;</th><th scope=col>&lt;int&gt;</th><th scope=col>&lt;chr&gt;</th><th scope=col>&lt;dbl&gt;</th><th scope=col>&lt;dbl&gt;</th></tr>\n",
       "</thead>\n",
       "<tbody>\n",
       "\t<tr><th scope=row>165003</th><td>Discovery cohort extracranial</td><td>30</td><td>0.001</td><td>2</td><td>VMA21</td><td>0.1151630</td><td>0.3355266487</td></tr>\n",
       "\t<tr><th scope=row>165013</th><td>Discovery cohort extracranial</td><td>30</td><td>0.001</td><td>2</td><td>ZFY  </td><td>0.7739505</td><td>0.0002170983</td></tr>\n",
       "\t<tr><th scope=row>165023</th><td>Discovery cohort extracranial</td><td>30</td><td>0.001</td><td>2</td><td>UTY  </td><td>0.8001946</td><td>0.0000986659</td></tr>\n",
       "</tbody>\n",
       "</table>\n"
      ],
      "text/latex": [
       "A data.frame: 3 × 7\n",
       "\\begin{tabular}{r|lllllll}\n",
       "  & type & localGeneCutoff & pValCutoff & networkNum & Gene & Correlation & P.Value\\\\\n",
       "  & <chr> & <dbl> & <chr> & <int> & <chr> & <dbl> & <dbl>\\\\\n",
       "\\hline\n",
       "\t165003 & Discovery cohort extracranial & 30 & 0.001 & 2 & VMA21 & 0.1151630 & 0.3355266487\\\\\n",
       "\t165013 & Discovery cohort extracranial & 30 & 0.001 & 2 & ZFY   & 0.7739505 & 0.0002170983\\\\\n",
       "\t165023 & Discovery cohort extracranial & 30 & 0.001 & 2 & UTY   & 0.8001946 & 0.0000986659\\\\\n",
       "\\end{tabular}\n"
      ],
      "text/markdown": [
       "\n",
       "A data.frame: 3 × 7\n",
       "\n",
       "| <!--/--> | type &lt;chr&gt; | localGeneCutoff &lt;dbl&gt; | pValCutoff &lt;chr&gt; | networkNum &lt;int&gt; | Gene &lt;chr&gt; | Correlation &lt;dbl&gt; | P.Value &lt;dbl&gt; |\n",
       "|---|---|---|---|---|---|---|---|\n",
       "| 165003 | Discovery cohort extracranial | 30 | 0.001 | 2 | VMA21 | 0.1151630 | 0.3355266487 |\n",
       "| 165013 | Discovery cohort extracranial | 30 | 0.001 | 2 | ZFY   | 0.7739505 | 0.0002170983 |\n",
       "| 165023 | Discovery cohort extracranial | 30 | 0.001 | 2 | UTY   | 0.8001946 | 0.0000986659 |\n",
       "\n"
      ],
      "text/plain": [
       "       type                          localGeneCutoff pValCutoff networkNum\n",
       "165003 Discovery cohort extracranial 30              0.001      2         \n",
       "165013 Discovery cohort extracranial 30              0.001      2         \n",
       "165023 Discovery cohort extracranial 30              0.001      2         \n",
       "       Gene  Correlation P.Value     \n",
       "165003 VMA21 0.1151630   0.3355266487\n",
       "165013 ZFY   0.7739505   0.0002170983\n",
       "165023 UTY   0.8001946   0.0000986659"
      ]
     },
     "metadata": {},
     "output_type": "display_data"
    },
    {
     "data": {
      "text/html": [
       "<table class=\"dataframe\">\n",
       "<caption>A data.frame: 3 × 7</caption>\n",
       "<thead>\n",
       "\t<tr><th></th><th scope=col>type</th><th scope=col>localGeneCutoff</th><th scope=col>pValCutoff</th><th scope=col>networkNum</th><th scope=col>Gene</th><th scope=col>Correlation</th><th scope=col>P.Value</th></tr>\n",
       "\t<tr><th></th><th scope=col>&lt;chr&gt;</th><th scope=col>&lt;dbl&gt;</th><th scope=col>&lt;chr&gt;</th><th scope=col>&lt;int&gt;</th><th scope=col>&lt;chr&gt;</th><th scope=col>&lt;dbl&gt;</th><th scope=col>&lt;dbl&gt;</th></tr>\n",
       "</thead>\n",
       "<tbody>\n",
       "\t<tr><th scope=row>165004</th><td>Discovery cohort brain</td><td>30</td><td>0.001</td><td>2</td><td>VMA21</td><td>0.4283763</td><td>8.236035e-02</td></tr>\n",
       "\t<tr><th scope=row>165015</th><td>Discovery cohort brain</td><td>30</td><td>0.001</td><td>2</td><td>ZFY  </td><td>0.9411370</td><td>2.519654e-06</td></tr>\n",
       "\t<tr><th scope=row>165024</th><td>Discovery cohort brain</td><td>30</td><td>0.001</td><td>2</td><td>UTY  </td><td>0.9308981</td><td>5.520566e-06</td></tr>\n",
       "</tbody>\n",
       "</table>\n"
      ],
      "text/latex": [
       "A data.frame: 3 × 7\n",
       "\\begin{tabular}{r|lllllll}\n",
       "  & type & localGeneCutoff & pValCutoff & networkNum & Gene & Correlation & P.Value\\\\\n",
       "  & <chr> & <dbl> & <chr> & <int> & <chr> & <dbl> & <dbl>\\\\\n",
       "\\hline\n",
       "\t165004 & Discovery cohort brain & 30 & 0.001 & 2 & VMA21 & 0.4283763 & 8.236035e-02\\\\\n",
       "\t165015 & Discovery cohort brain & 30 & 0.001 & 2 & ZFY   & 0.9411370 & 2.519654e-06\\\\\n",
       "\t165024 & Discovery cohort brain & 30 & 0.001 & 2 & UTY   & 0.9308981 & 5.520566e-06\\\\\n",
       "\\end{tabular}\n"
      ],
      "text/markdown": [
       "\n",
       "A data.frame: 3 × 7\n",
       "\n",
       "| <!--/--> | type &lt;chr&gt; | localGeneCutoff &lt;dbl&gt; | pValCutoff &lt;chr&gt; | networkNum &lt;int&gt; | Gene &lt;chr&gt; | Correlation &lt;dbl&gt; | P.Value &lt;dbl&gt; |\n",
       "|---|---|---|---|---|---|---|---|\n",
       "| 165004 | Discovery cohort brain | 30 | 0.001 | 2 | VMA21 | 0.4283763 | 8.236035e-02 |\n",
       "| 165015 | Discovery cohort brain | 30 | 0.001 | 2 | ZFY   | 0.9411370 | 2.519654e-06 |\n",
       "| 165024 | Discovery cohort brain | 30 | 0.001 | 2 | UTY   | 0.9308981 | 5.520566e-06 |\n",
       "\n"
      ],
      "text/plain": [
       "       type                   localGeneCutoff pValCutoff networkNum Gene \n",
       "165004 Discovery cohort brain 30              0.001      2          VMA21\n",
       "165015 Discovery cohort brain 30              0.001      2          ZFY  \n",
       "165024 Discovery cohort brain 30              0.001      2          UTY  \n",
       "       Correlation P.Value     \n",
       "165004 0.4283763   8.236035e-02\n",
       "165015 0.9411370   2.519654e-06\n",
       "165024 0.9308981   5.520566e-06"
      ]
     },
     "metadata": {},
     "output_type": "display_data"
    },
    {
     "data": {
      "text/html": [
       "<table class=\"dataframe\">\n",
       "<caption>A data.frame: 3 × 7</caption>\n",
       "<thead>\n",
       "\t<tr><th></th><th scope=col>type</th><th scope=col>localGeneCutoff</th><th scope=col>pValCutoff</th><th scope=col>networkNum</th><th scope=col>Gene</th><th scope=col>Correlation</th><th scope=col>P.Value</th></tr>\n",
       "\t<tr><th></th><th scope=col>&lt;chr&gt;</th><th scope=col>&lt;dbl&gt;</th><th scope=col>&lt;chr&gt;</th><th scope=col>&lt;int&gt;</th><th scope=col>&lt;chr&gt;</th><th scope=col>&lt;dbl&gt;</th><th scope=col>&lt;dbl&gt;</th></tr>\n",
       "</thead>\n",
       "<tbody>\n",
       "\t<tr><th scope=row>165005</th><td>Validation cohort brain</td><td>30</td><td>0.001</td><td>2</td><td>VMA21</td><td> 0.6111836</td><td>0.04017606</td></tr>\n",
       "\t<tr><th scope=row>165017</th><td>Validation cohort brain</td><td>30</td><td>0.001</td><td>2</td><td>ZFY  </td><td>-0.1989506</td><td>0.69608359</td></tr>\n",
       "\t<tr><th scope=row>165025</th><td>Validation cohort brain</td><td>30</td><td>0.001</td><td>2</td><td>UTY  </td><td>        NA</td><td>        NA</td></tr>\n",
       "</tbody>\n",
       "</table>\n"
      ],
      "text/latex": [
       "A data.frame: 3 × 7\n",
       "\\begin{tabular}{r|lllllll}\n",
       "  & type & localGeneCutoff & pValCutoff & networkNum & Gene & Correlation & P.Value\\\\\n",
       "  & <chr> & <dbl> & <chr> & <int> & <chr> & <dbl> & <dbl>\\\\\n",
       "\\hline\n",
       "\t165005 & Validation cohort brain & 30 & 0.001 & 2 & VMA21 &  0.6111836 & 0.04017606\\\\\n",
       "\t165017 & Validation cohort brain & 30 & 0.001 & 2 & ZFY   & -0.1989506 & 0.69608359\\\\\n",
       "\t165025 & Validation cohort brain & 30 & 0.001 & 2 & UTY   &         NA &         NA\\\\\n",
       "\\end{tabular}\n"
      ],
      "text/markdown": [
       "\n",
       "A data.frame: 3 × 7\n",
       "\n",
       "| <!--/--> | type &lt;chr&gt; | localGeneCutoff &lt;dbl&gt; | pValCutoff &lt;chr&gt; | networkNum &lt;int&gt; | Gene &lt;chr&gt; | Correlation &lt;dbl&gt; | P.Value &lt;dbl&gt; |\n",
       "|---|---|---|---|---|---|---|---|\n",
       "| 165005 | Validation cohort brain | 30 | 0.001 | 2 | VMA21 |  0.6111836 | 0.04017606 |\n",
       "| 165017 | Validation cohort brain | 30 | 0.001 | 2 | ZFY   | -0.1989506 | 0.69608359 |\n",
       "| 165025 | Validation cohort brain | 30 | 0.001 | 2 | UTY   |         NA |         NA |\n",
       "\n"
      ],
      "text/plain": [
       "       type                    localGeneCutoff pValCutoff networkNum Gene \n",
       "165005 Validation cohort brain 30              0.001      2          VMA21\n",
       "165017 Validation cohort brain 30              0.001      2          ZFY  \n",
       "165025 Validation cohort brain 30              0.001      2          UTY  \n",
       "       Correlation P.Value   \n",
       "165005  0.6111836  0.04017606\n",
       "165017 -0.1989506  0.69608359\n",
       "165025         NA          NA"
      ]
     },
     "metadata": {},
     "output_type": "display_data"
    },
    {
     "data": {
      "text/html": [
       "<table class=\"dataframe\">\n",
       "<caption>A data.frame: 3 × 7</caption>\n",
       "<thead>\n",
       "\t<tr><th></th><th scope=col>type</th><th scope=col>localGeneCutoff</th><th scope=col>pValCutoff</th><th scope=col>networkNum</th><th scope=col>Gene</th><th scope=col>Correlation</th><th scope=col>P.Value</th></tr>\n",
       "\t<tr><th></th><th scope=col>&lt;chr&gt;</th><th scope=col>&lt;dbl&gt;</th><th scope=col>&lt;chr&gt;</th><th scope=col>&lt;int&gt;</th><th scope=col>&lt;chr&gt;</th><th scope=col>&lt;dbl&gt;</th><th scope=col>&lt;dbl&gt;</th></tr>\n",
       "</thead>\n",
       "<tbody>\n",
       "\t<tr><th scope=row>165006</th><td>Validation cohort extracranial</td><td>30</td><td>0.001</td><td>2</td><td>VMA21</td><td> 0.41672876</td><td>0.1322538</td></tr>\n",
       "\t<tr><th scope=row>165019</th><td>Validation cohort extracranial</td><td>30</td><td>0.001</td><td>2</td><td>ZFY  </td><td>-0.06166371</td><td>0.5626115</td></tr>\n",
       "\t<tr><th scope=row>165026</th><td>Validation cohort extracranial</td><td>30</td><td>0.001</td><td>2</td><td>UTY  </td><td>         NA</td><td>       NA</td></tr>\n",
       "</tbody>\n",
       "</table>\n"
      ],
      "text/latex": [
       "A data.frame: 3 × 7\n",
       "\\begin{tabular}{r|lllllll}\n",
       "  & type & localGeneCutoff & pValCutoff & networkNum & Gene & Correlation & P.Value\\\\\n",
       "  & <chr> & <dbl> & <chr> & <int> & <chr> & <dbl> & <dbl>\\\\\n",
       "\\hline\n",
       "\t165006 & Validation cohort extracranial & 30 & 0.001 & 2 & VMA21 &  0.41672876 & 0.1322538\\\\\n",
       "\t165019 & Validation cohort extracranial & 30 & 0.001 & 2 & ZFY   & -0.06166371 & 0.5626115\\\\\n",
       "\t165026 & Validation cohort extracranial & 30 & 0.001 & 2 & UTY   &          NA &        NA\\\\\n",
       "\\end{tabular}\n"
      ],
      "text/markdown": [
       "\n",
       "A data.frame: 3 × 7\n",
       "\n",
       "| <!--/--> | type &lt;chr&gt; | localGeneCutoff &lt;dbl&gt; | pValCutoff &lt;chr&gt; | networkNum &lt;int&gt; | Gene &lt;chr&gt; | Correlation &lt;dbl&gt; | P.Value &lt;dbl&gt; |\n",
       "|---|---|---|---|---|---|---|---|\n",
       "| 165006 | Validation cohort extracranial | 30 | 0.001 | 2 | VMA21 |  0.41672876 | 0.1322538 |\n",
       "| 165019 | Validation cohort extracranial | 30 | 0.001 | 2 | ZFY   | -0.06166371 | 0.5626115 |\n",
       "| 165026 | Validation cohort extracranial | 30 | 0.001 | 2 | UTY   |          NA |        NA |\n",
       "\n"
      ],
      "text/plain": [
       "       type                           localGeneCutoff pValCutoff networkNum\n",
       "165006 Validation cohort extracranial 30              0.001      2         \n",
       "165019 Validation cohort extracranial 30              0.001      2         \n",
       "165026 Validation cohort extracranial 30              0.001      2         \n",
       "       Gene  Correlation P.Value  \n",
       "165006 VMA21  0.41672876 0.1322538\n",
       "165019 ZFY   -0.06166371 0.5626115\n",
       "165026 UTY            NA        NA"
      ]
     },
     "metadata": {},
     "output_type": "display_data"
    }
   ],
   "source": [
    "# put all results into 1 data.frame for ggplot\n",
    "mergedPredResultsOwnNW = \n",
    "    data.frame(stringsAsFactors = F, type=\"Random networks\",\n",
    "               medianrandomPredTestResults[,c(\"localGeneCutoff\",\"pValCutoff\",\"networkNum\",\"gene\",\"median_correlation\",\"median_pvalue\")])\n",
    "\n",
    "colnames(mergedPredResultsOwnNW) = c(\"type\",\"localGeneCutoff\",\"pValCutoff\",\"networkNum\",\"Gene\",\"Correlation\", \"P.Value\")\n",
    "tail(mergedPredResultsOwnNW,3)\n",
    "mergedPredResultsOwnNW = \n",
    "    rbind(mergedPredResultsOwnNW,\n",
    "          data.frame(stringsAsFactors = F, type=\"Discovery cohort\",\n",
    "                     melBrainPredResults[,c(\"localGeneCutoff\",\"pValCutoff\",\"networkNum\",\"Gene\",\"Correlation\", \"P.Value\")]))\n",
    "tail(mergedPredResultsOwnNW,3)\n",
    "\n",
    "mergedPredResultsOwnNW = \n",
    "    rbind(mergedPredResultsOwnNW,\n",
    "          data.frame(stringsAsFactors = F, type=\"TCGA test data\",\n",
    "                     normalPredTestResults[,c(\"localGeneCutoff\",\"pValCutoff\",\"networkNum\",\"Gene\",\"Correlation\", \"P.Value\")]))\n",
    "tail(mergedPredResultsOwnNW,3)\n",
    "\n",
    "mergedPredResultsOwnNW = \n",
    "    rbind(mergedPredResultsOwnNW,\n",
    "      data.frame(stringsAsFactors = F, type=\"Validation cohort\",\n",
    "         melBrainValidationPredResults[,c(\"localGeneCutoff\",\"pValCutoff\",\"networkNum\",\"Gene\",\"Correlation\", \"P.Value\")]))\n",
    "tail(mergedPredResultsOwnNW,3)\n",
    "\n",
    "mergedPredResultsOwnNW = \n",
    "    rbind(mergedPredResultsOwnNW,\n",
    "      data.frame(stringsAsFactors = F, type=\"Discovery cohort extracranial\",\n",
    "         melBrainECMPredResults[,c(\"localGeneCutoff\",\"pValCutoff\",\"networkNum\",\"Gene\",\"Correlation\", \"P.Value\")]))\n",
    "tail(mergedPredResultsOwnNW,3)\n",
    "\n",
    "mergedPredResultsOwnNW = \n",
    "    rbind(mergedPredResultsOwnNW,\n",
    "      data.frame(stringsAsFactors = F, type=\"Discovery cohort brain\",\n",
    "         melBrainMBMPredResults[,c(\"localGeneCutoff\",\"pValCutoff\",\"networkNum\",\"Gene\",\"Correlation\", \"P.Value\")]))\n",
    "tail(mergedPredResultsOwnNW,3)\n",
    "\n",
    "mergedPredResultsOwnNW = \n",
    "    rbind(mergedPredResultsOwnNW,\n",
    "      data.frame(stringsAsFactors = F, type=\"Validation cohort brain\",\n",
    "         melBrainValidationMBMPredResults[,c(\"localGeneCutoff\",\"pValCutoff\",\"networkNum\",\"Gene\",\"Correlation\", \"P.Value\")]))\n",
    "tail(mergedPredResultsOwnNW,3)\n",
    "\n",
    "mergedPredResultsOwnNW = \n",
    "    rbind(mergedPredResultsOwnNW,\n",
    "      data.frame(stringsAsFactors = F, type=\"Validation cohort extracranial\",\n",
    "         melBrainValidationECMPredResults[,c(\"localGeneCutoff\",\"pValCutoff\",\"networkNum\",\"Gene\",\"Correlation\", \"P.Value\")]))\n",
    "tail(mergedPredResultsOwnNW,3)"
   ]
  },
  {
   "cell_type": "code",
   "execution_count": 76,
   "id": "fa8a9169",
   "metadata": {},
   "outputs": [
    {
     "data": {
      "text/html": [
       "123969"
      ],
      "text/latex": [
       "123969"
      ],
      "text/markdown": [
       "123969"
      ],
      "text/plain": [
       "[1] 123969"
      ]
     },
     "metadata": {},
     "output_type": "display_data"
    },
    {
     "data": {
      "text/html": [
       "132016"
      ],
      "text/latex": [
       "132016"
      ],
      "text/markdown": [
       "132016"
      ],
      "text/plain": [
       "[1] 132016"
      ]
     },
     "metadata": {},
     "output_type": "display_data"
    },
    {
     "data": {
      "text/plain": [
       "\n",
       "              Discovery cohort         Discovery cohort brain \n",
       "                         15521                          15521 \n",
       " Discovery cohort extracranial                Random networks \n",
       "                         15521                          16177 \n",
       "                TCGA test data              Validation cohort \n",
       "                         15521                          15236 \n",
       "       Validation cohort brain Validation cohort extracranial \n",
       "                         15236                          15236 "
      ]
     },
     "metadata": {},
     "output_type": "display_data"
    }
   ],
   "source": [
    "# only results without NA values\n",
    "mergedPredResultsOwnNWNoNA = mergedPredResultsOwnNW[which(!is.na(mergedPredResultsOwnNW$Correlation)),]\n",
    "nrow(mergedPredResultsOwnNWNoNA); nrow(mergedPredResultsOwnNW)\n",
    "table(mergedPredResultsOwnNWNoNA$type)"
   ]
  },
  {
   "cell_type": "code",
   "execution_count": 77,
   "id": "b8eb560d",
   "metadata": {},
   "outputs": [
    {
     "data": {
      "text/html": [
       "<table class=\"dataframe\">\n",
       "<caption>A matrix: 2 × 8 of type dbl</caption>\n",
       "<thead>\n",
       "\t<tr><th></th><th scope=col>Random networks</th><th scope=col>Discovery cohort</th><th scope=col>TCGA test data</th><th scope=col>Validation cohort</th><th scope=col>Discovery cohort extracranial</th><th scope=col>Discovery cohort brain</th><th scope=col>Validation cohort brain</th><th scope=col>Validation cohort extracranial</th></tr>\n",
       "</thead>\n",
       "<tbody>\n",
       "\t<tr><th scope=row>cor</th><td>0.003983708</td><td>0.39324055</td><td>6.171723e-01</td><td>0.42169159</td><td>0.40710267</td><td>0.40974944</td><td>0.3948447</td><td>0.4691709</td></tr>\n",
       "\t<tr><th scope=row>pval</th><td>0.499315378</td><td>0.01921651</td><td>1.040675e-08</td><td>0.04066611</td><td>0.05879039</td><td>0.09294678</td><td>0.1464692</td><td>0.1013179</td></tr>\n",
       "</tbody>\n",
       "</table>\n"
      ],
      "text/latex": [
       "A matrix: 2 × 8 of type dbl\n",
       "\\begin{tabular}{r|llllllll}\n",
       "  & Random networks & Discovery cohort & TCGA test data & Validation cohort & Discovery cohort extracranial & Discovery cohort brain & Validation cohort brain & Validation cohort extracranial\\\\\n",
       "\\hline\n",
       "\tcor & 0.003983708 & 0.39324055 & 6.171723e-01 & 0.42169159 & 0.40710267 & 0.40974944 & 0.3948447 & 0.4691709\\\\\n",
       "\tpval & 0.499315378 & 0.01921651 & 1.040675e-08 & 0.04066611 & 0.05879039 & 0.09294678 & 0.1464692 & 0.1013179\\\\\n",
       "\\end{tabular}\n"
      ],
      "text/markdown": [
       "\n",
       "A matrix: 2 × 8 of type dbl\n",
       "\n",
       "| <!--/--> | Random networks | Discovery cohort | TCGA test data | Validation cohort | Discovery cohort extracranial | Discovery cohort brain | Validation cohort brain | Validation cohort extracranial |\n",
       "|---|---|---|---|---|---|---|---|---|\n",
       "| cor | 0.003983708 | 0.39324055 | 6.171723e-01 | 0.42169159 | 0.40710267 | 0.40974944 | 0.3948447 | 0.4691709 |\n",
       "| pval | 0.499315378 | 0.01921651 | 1.040675e-08 | 0.04066611 | 0.05879039 | 0.09294678 | 0.1464692 | 0.1013179 |\n",
       "\n"
      ],
      "text/plain": [
       "     Random networks Discovery cohort TCGA test data Validation cohort\n",
       "cor  0.003983708     0.39324055       6.171723e-01   0.42169159       \n",
       "pval 0.499315378     0.01921651       1.040675e-08   0.04066611       \n",
       "     Discovery cohort extracranial Discovery cohort brain\n",
       "cor  0.40710267                    0.40974944            \n",
       "pval 0.05879039                    0.09294678            \n",
       "     Validation cohort brain Validation cohort extracranial\n",
       "cor  0.3948447               0.4691709                     \n",
       "pval 0.1464692               0.1013179                     "
      ]
     },
     "metadata": {},
     "output_type": "display_data"
    }
   ],
   "source": [
    "# median correlation and p-value for each:\n",
    "sapply(unique(mergedPredResultsOwnNWNoNA$type), function(type) \n",
    "    c(cor = median(mergedPredResultsOwnNWNoNA[ mergedPredResultsOwnNWNoNA$type == type,\"Correlation\"]),\n",
    "    pval = median(mergedPredResultsOwnNWNoNA[ mergedPredResultsOwnNWNoNA$type == type,\"P.Value\"]))\n",
    "       )"
   ]
  },
  {
   "cell_type": "code",
   "execution_count": 78,
   "id": "b499be10",
   "metadata": {},
   "outputs": [
    {
     "name": "stderr",
     "output_type": "stream",
     "text": [
      "Random networks\n",
      "\n",
      "Discovery cohort\n",
      "\n",
      "TCGA test data\n",
      "\n",
      "Validation cohort\n",
      "\n",
      "Discovery cohort extracranial\n",
      "\n",
      "Discovery cohort brain\n",
      "\n",
      "Validation cohort brain\n",
      "\n",
      "Validation cohort extracranial\n",
      "\n"
     ]
    }
   ],
   "source": [
    "# now calculate mean correlations over all trained networks:\n",
    "mergedPredResultsOwnNWNoNAmean = NULL\n",
    "for(type in unique(mergedPredResultsOwnNWNoNA$type)) {\n",
    "    message(type)\n",
    "    tmp = mergedPredResultsOwnNWNoNA[ mergedPredResultsOwnNWNoNA$pValCutoff == pValCutoff & \n",
    "                                     mergedPredResultsOwnNWNoNA$localGeneCutoff == localGeneCutoff &\n",
    "                      mergedPredResultsOwnNWNoNA$type == type,c(\"Gene\",\"Correlation\",\"networkNum\")]\n",
    "    tmpWide = reshape(tmp, idvar = \"Gene\", timevar = \"networkNum\", direction = \"wide\")\n",
    "    meanCor = rowMeans(tmpWide[,-1], na.rm = T)\n",
    "    mergedPredResultsOwnNWNoNAmean = \n",
    "        rbind(mergedPredResultsOwnNWNoNAmean,\n",
    "                  data.frame(type=type,localGeneCutoff=localGeneCutoff,\n",
    "                             pValCutoff=pValCutoff,Gene=names(meanCor),Correlation=meanCor))\n",
    "}"
   ]
  },
  {
   "cell_type": "code",
   "execution_count": 72,
   "id": "5f6e660a",
   "metadata": {},
   "outputs": [],
   "source": [
    "correlRange = c(-1,1)"
   ]
  },
  {
   "cell_type": "code",
   "execution_count": 79,
   "id": "b4eb6456",
   "metadata": {
    "scrolled": true
   },
   "outputs": [
    {
     "data": {
      "text/plain": [
       "\n",
       "              Discovery cohort         Discovery cohort brain \n",
       "                          8125                           8125 \n",
       " Discovery cohort extracranial                Random networks \n",
       "                          8125                           8216 \n",
       "                TCGA test data              Validation cohort \n",
       "                          8125                           8022 \n",
       "       Validation cohort brain Validation cohort extracranial \n",
       "                          8022                           8022 "
      ]
     },
     "metadata": {},
     "output_type": "display_data"
    }
   ],
   "source": [
    "table(mergedPredResultsOwnNWNoNAmean$type)"
   ]
  },
  {
   "cell_type": "code",
   "execution_count": 80,
   "id": "c6b366f0",
   "metadata": {},
   "outputs": [
    {
     "data": {
      "image/png": "[encoded data removed]",
      "text/plain": [
       "plot without title"
      ]
     },
     "metadata": {
      "image/png": {
       "height": 420,
       "width": 420
      }
     },
     "output_type": "display_data"
    }
   ],
   "source": [
    "### random NW + TCGA test + MelBrain discovery + validation\n",
    "\n",
    "wh = which(mergedPredResultsOwnNWNoNAmean$type %in% \n",
    "           c(\"Random networks\",\"TCGA test data\",\"Discovery cohort\",\n",
    "                                \"Validation cohort\"))\n",
    "p1 = ggplot(data = mergedPredResultsOwnNWNoNAmean[wh,],\n",
    "           mapping = aes(x=Correlation, fill=type)) + \n",
    "    geom_histogram(position=\"identity\",alpha=0.4, bins = 100) + \n",
    "    scale_fill_manual(breaks =c(\"Random networks\",\"TCGA test data\",\"Discovery cohort\",\n",
    "                                \"Validation cohort\"),\n",
    "                      values = c(\"#666666\",\"aquamarine4\",\"blue\",\n",
    "                                \"darkorchid1\")) +\n",
    "    scale_y_sqrt(breaks=c(10,100,250,500,1000,2000), name=\"Number of genes\", limits=c(0,3000))+\n",
    "    scale_x_continuous( name=\"Correlation: predicted vs. original expression\", limits=c(-1,1)) + \n",
    "    #theme(axis.text.x=element_text(angle=90,vjust=0.5,hjust=1)) + # axis labels perpendicular\n",
    "    theme(legend.title=element_blank(), legend.position=c(.8,.8),legend.text=element_text(size=7),\n",
    "          legend.spacing.x = unit(0.25, 'cm')) # more space between legend label and colored box\n",
    "p1"
   ]
  },
  {
   "cell_type": "code",
   "execution_count": 81,
   "id": "b0d53ff9",
   "metadata": {},
   "outputs": [
    {
     "data": {
      "image/png": "[encoded data removed]",
      "text/plain": [
       "plot without title"
      ]
     },
     "metadata": {
      "image/png": {
       "height": 420,
       "width": 420
      }
     },
     "output_type": "display_data"
    }
   ],
   "source": [
    "# now plot mean correlation between predicted and real gene expression\n",
    "\n",
    "# discovery brain + ecm + validation brain + ecm\n",
    "\n",
    "wh = which(mergedPredResultsOwnNWNoNAmean$type %in% \n",
    "           c(\"Discovery cohort brain\", \"Discovery cohort extracranial\",\n",
    "                               \"Validation cohort brain\", \"Validation cohort extracranial\"))\n",
    "\n",
    "p2 = ggplot(data = mergedPredResultsOwnNWNoNAmean[wh,],\n",
    "           mapping = aes(x=Correlation, fill=type)) + \n",
    "    geom_histogram(position=\"identity\",alpha=0.4, bins = 100) + \n",
    "    scale_fill_manual(breaks = c(\"Discovery cohort brain\", \"Discovery cohort extracranial\",\n",
    "                                \"Validation cohort brain\", \"Validation cohort extracranial\"),\n",
    "                      values = c(\"brown2\", \"cornflowerblue\",\"gold2\" , \"aquamarine4\")) +\n",
    "    scale_y_sqrt(breaks=c(10,100,250,500,1000,2000), name=\"Number of genes\", limits=c(0,3000))+\n",
    "    scale_x_continuous( name=\"Correlation: predicted vs. original expression\", limits=c(-1,1)) + \n",
    "    #labs(tag = \"A\") + theme(plot.tag.position = c(-0.5, 2000))  + \n",
    "    #theme(axis.text.x=element_text(angle=90,vjust=0.5,hjust=1)) + # axis labels perpendicular\n",
    "    theme(legend.title=element_blank(), legend.position=c(.75,.8),legend.text=element_text(size=7),\n",
    "          legend.spacing.x = unit(0.25, 'cm')) # more space between legend label and colored box\n",
    "p2"
   ]
  },
  {
   "cell_type": "code",
   "execution_count": 82,
   "id": "e41b161c",
   "metadata": {},
   "outputs": [
    {
     "data": {
      "image/png": "[encoded data removed]",
      "text/plain": [
       "plot without title"
      ]
     },
     "metadata": {
      "image/png": {
       "height": 420,
       "width": 420
      }
     },
     "output_type": "display_data"
    }
   ],
   "source": [
    "allplots = grid.arrange(p1,p2,nrow=1)"
   ]
  },
  {
   "cell_type": "code",
   "execution_count": 86,
   "id": "d9d54463",
   "metadata": {},
   "outputs": [
    {
     "data": {
      "text/html": [
       "<strong>png:</strong> 2"
      ],
      "text/latex": [
       "\\textbf{png:} 2"
      ],
      "text/markdown": [
       "**png:** 2"
      ],
      "text/plain": [
       "png \n",
       "  2 "
      ]
     },
     "metadata": {},
     "output_type": "display_data"
    }
   ],
   "source": [
    "png(filename = paste0(outDirectory,\"Figure-2-gene-expr-prediction-correl.png\"),\n",
    "    width = 4000,height = 1600, res=370)\n",
    "plot(allplots)\n",
    "dev.off()"
   ]
  }
 ],
 "metadata": {
  "kernelspec": {
   "display_name": "R",
   "language": "R",
   "name": "ir"
  },
  "language_info": {
   "codemirror_mode": "r",
   "file_extension": ".r",
   "mimetype": "text/x-r-source",
   "name": "R",
   "pygments_lexer": "r",
   "version": "4.2.2"
  }
 },
 "nbformat": 4,
 "nbformat_minor": 5
}
