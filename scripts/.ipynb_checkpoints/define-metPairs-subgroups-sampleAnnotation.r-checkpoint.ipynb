{
 "cells": [
  {
   "cell_type": "code",
   "execution_count": 1,
   "id": "f0e93ddc",
   "metadata": {},
   "outputs": [],
   "source": [
    "basePath = \"/data/bcu_projects/MelBrainSys_PostdocProject_Gruetzmann/publications/2022-my-MelBrainSys-paper/scripts-etc-for-publication/\"\n",
    "setwd(basePath)"
   ]
  },
  {
   "cell_type": "markdown",
   "id": "f11249d4",
   "metadata": {},
   "source": [
    "### define needed samples and metastases pairs"
   ]
  },
  {
   "cell_type": "code",
   "execution_count": 13,
   "id": "fcf08948",
   "metadata": {},
   "outputs": [
    {
     "data": {
      "text/html": [
       "<style>\n",
       ".list-inline {list-style: none; margin:0; padding: 0}\n",
       ".list-inline>li {display: inline-block}\n",
       ".list-inline>li:not(:last-child)::after {content: \"\\00b7\"; padding: 0 .5ex}\n",
       "</style>\n",
       "<ol class=list-inline><li>'P08_Br'</li><li>'P08_St_GA'</li></ol>\n"
      ],
      "text/latex": [
       "\\begin{enumerate*}\n",
       "\\item 'P08\\_Br'\n",
       "\\item 'P08\\_St\\_GA'\n",
       "\\end{enumerate*}\n"
      ],
      "text/markdown": [
       "1. 'P08_Br'\n",
       "2. 'P08_St_GA'\n",
       "\n",
       "\n"
      ],
      "text/plain": [
       "[1] \"P08_Br\"    \"P08_St_GA\""
      ]
     },
     "metadata": {},
     "output_type": "display_data"
    }
   ],
   "source": [
    "neededSamples = c(\"P03_Br\",\"P03_Lu\", \"P04_Br\", \"P04_Sk_GA\", \"P08_Br\", \"P08_St_GA\", \"P08_St_BA\", \"P08_St_YA\", \n",
    "                     \"P16_Br\", \"P16_Lu\", \"P18_Br\", \"P18_Lu_GA\", \"P18_Lu_YA\", \"P39_Br\", \"P39_Lu\", \n",
    "                     \"P42_Br_GA\", \"P42_Ly_GA\", \"P42_Ly_YA\")\n",
    "\n",
    "# mapping of patient samples to metastases pairs \n",
    "sampleMapping = list(\"P03_BLun\" = c(\"P03_Br\",\"P03_Lu\"), \n",
    "                  \"P04_BSki_1\" = c(\"P04_Br\", \"P04_Sk_GA\"), \n",
    "                  \"P08_BSof_1\" = c(\"P08_Br\", \"P08_St_GA\"), \n",
    "                  \"P08_BSof_2\" = c(\"P08_Br\", \"P08_St_BA\"), \n",
    "                  \"P08_BSof_3\" = c(\"P08_Br\", \"P08_St_YA\"), \n",
    "                  \"P16_BLun\" = c(\"P16_Br\", \"P16_Lu\"), \n",
    "                  \"P18_BLun_1\" = c(\"P18_Br\", \"P18_Lu_GA\"), \n",
    "                  \"P18_BLun_2\" = c(\"P18_Br\", \"P18_Lu_YA\"), \n",
    "                  \"P39_BLun\" = c( \"P39_Br\", \"P39_Lu\"), \n",
    "                  \"P42_BLym_1\" = c(\"P42_Br_GA\", \"P42_Ly_GA\"), \n",
    "                  \"P42_BLym_2\" = c(\"P42_Br_GA\", \"P42_Ly_YA\"))\n",
    "samplePairs = names(sampleMapping)"
   ]
  },
  {
   "cell_type": "code",
   "execution_count": 5,
   "id": "f0b011df",
   "metadata": {},
   "outputs": [],
   "source": [
    "patient_colors = c(P03 = '#0dbfbf', P04= '#ff6db6ff', P08 = '#006ddbff',\n",
    "                   P16 = '#c2e0fcff', P18 = '#db6d00ff', P39 = '#25f923ff',\n",
    "                   P42 = '#fffc6dff')"
   ]
  },
  {
   "cell_type": "code",
   "execution_count": 8,
   "id": "44763870",
   "metadata": {},
   "outputs": [],
   "source": [
    "tissue_colors = c(BLun = '#00bb00ff', BLym = '#bb2cbbff', \n",
    "                  BSki = '#999999ff', BSof = '#e5e5e5ff')"
   ]
  },
  {
   "cell_type": "code",
   "execution_count": 29,
   "id": "9e4874f0",
   "metadata": {},
   "outputs": [],
   "source": [
    "# sample pair cluster colors\n",
    "colClusterHi = \"tomato1\"\n",
    "colClusterLow = \"cornflowerblue\"\n",
    "colClusterSlightLow = \"lightskyblue1\"\n",
    "samplePairPerSubgroup = list(\"SG1\"=c('P04_BSki_1','P08_BSof_2','P16_BLun','P42_BLym_1'), \n",
    "                     \"SG3\"=c('P03_BLun','P08_BSof_3','P18_BLun_1','P42_BLym_2'),\n",
    "                     \"SG2\" = c('P08_BSof_1','P18_BLun_2','P39_BLun'))\n",
    "subgroupPerSamplePair = c('SG1','SG1','SG1','SG1','SG3','SG3','SG3','SG3','SG2','SG2','SG2')\n",
    "names(subgroupPerSamplePair) = c('P04_BSki_1','P08_BSof_2','P16_BLun','P42_BLym_1','P03_BLun','P08_BSof_3','P18_BLun_1','P42_BLym_2','P08_BSof_1','P18_BLun_2','P39_BLun')\n",
    "subgroupNames = c(\"SG1\"=\"higher\",\"SG2\"=\"lower\",\"SG3\"=\"slightly lower\")"
   ]
  },
  {
   "cell_type": "code",
   "execution_count": 11,
   "id": "73a9a726",
   "metadata": {},
   "outputs": [],
   "source": [
    "subgroup_colors = c(\"SG1\"=colClusterHi, \"SG2\"=colClusterLow, \"SG3\"=colClusterSlightLow)"
   ]
  },
  {
   "cell_type": "code",
   "execution_count": 16,
   "id": "0a798ad4",
   "metadata": {
    "scrolled": true
   },
   "outputs": [
    {
     "data": {
      "text/html": [
       "<table class=\"dataframe\">\n",
       "<caption>A data.frame: 11 × 3</caption>\n",
       "<thead>\n",
       "\t<tr><th></th><th scope=col>patient</th><th scope=col>tissue</th><th scope=col>subgroup</th></tr>\n",
       "\t<tr><th></th><th scope=col>&lt;chr&gt;</th><th scope=col>&lt;chr&gt;</th><th scope=col>&lt;chr&gt;</th></tr>\n",
       "</thead>\n",
       "<tbody>\n",
       "\t<tr><th scope=row>P03_BLun</th><td>P03</td><td>BLun</td><td>SG3</td></tr>\n",
       "\t<tr><th scope=row>P04_BSki_1</th><td>P04</td><td>BSki</td><td>SG1</td></tr>\n",
       "\t<tr><th scope=row>P08_BSof_1</th><td>P08</td><td>BSof</td><td>SG2</td></tr>\n",
       "\t<tr><th scope=row>P08_BSof_2</th><td>P08</td><td>BSof</td><td>SG1</td></tr>\n",
       "\t<tr><th scope=row>P08_BSof_3</th><td>P08</td><td>BSof</td><td>SG3</td></tr>\n",
       "\t<tr><th scope=row>P16_BLun</th><td>P16</td><td>BLun</td><td>SG1</td></tr>\n",
       "\t<tr><th scope=row>P18_BLun_1</th><td>P18</td><td>BLun</td><td>SG3</td></tr>\n",
       "\t<tr><th scope=row>P18_BLun_2</th><td>P18</td><td>BLun</td><td>SG2</td></tr>\n",
       "\t<tr><th scope=row>P39_BLun</th><td>P39</td><td>BLun</td><td>SG2</td></tr>\n",
       "\t<tr><th scope=row>P42_BLym_1</th><td>P42</td><td>BLym</td><td>SG1</td></tr>\n",
       "\t<tr><th scope=row>P42_BLym_2</th><td>P42</td><td>BLym</td><td>SG3</td></tr>\n",
       "</tbody>\n",
       "</table>\n"
      ],
      "text/latex": [
       "A data.frame: 11 × 3\n",
       "\\begin{tabular}{r|lll}\n",
       "  & patient & tissue & subgroup\\\\\n",
       "  & <chr> & <chr> & <chr>\\\\\n",
       "\\hline\n",
       "\tP03\\_BLun & P03 & BLun & SG3\\\\\n",
       "\tP04\\_BSki\\_1 & P04 & BSki & SG1\\\\\n",
       "\tP08\\_BSof\\_1 & P08 & BSof & SG2\\\\\n",
       "\tP08\\_BSof\\_2 & P08 & BSof & SG1\\\\\n",
       "\tP08\\_BSof\\_3 & P08 & BSof & SG3\\\\\n",
       "\tP16\\_BLun & P16 & BLun & SG1\\\\\n",
       "\tP18\\_BLun\\_1 & P18 & BLun & SG3\\\\\n",
       "\tP18\\_BLun\\_2 & P18 & BLun & SG2\\\\\n",
       "\tP39\\_BLun & P39 & BLun & SG2\\\\\n",
       "\tP42\\_BLym\\_1 & P42 & BLym & SG1\\\\\n",
       "\tP42\\_BLym\\_2 & P42 & BLym & SG3\\\\\n",
       "\\end{tabular}\n"
      ],
      "text/markdown": [
       "\n",
       "A data.frame: 11 × 3\n",
       "\n",
       "| <!--/--> | patient &lt;chr&gt; | tissue &lt;chr&gt; | subgroup &lt;chr&gt; |\n",
       "|---|---|---|---|\n",
       "| P03_BLun | P03 | BLun | SG3 |\n",
       "| P04_BSki_1 | P04 | BSki | SG1 |\n",
       "| P08_BSof_1 | P08 | BSof | SG2 |\n",
       "| P08_BSof_2 | P08 | BSof | SG1 |\n",
       "| P08_BSof_3 | P08 | BSof | SG3 |\n",
       "| P16_BLun | P16 | BLun | SG1 |\n",
       "| P18_BLun_1 | P18 | BLun | SG3 |\n",
       "| P18_BLun_2 | P18 | BLun | SG2 |\n",
       "| P39_BLun | P39 | BLun | SG2 |\n",
       "| P42_BLym_1 | P42 | BLym | SG1 |\n",
       "| P42_BLym_2 | P42 | BLym | SG3 |\n",
       "\n"
      ],
      "text/plain": [
       "           patient tissue subgroup\n",
       "P03_BLun   P03     BLun   SG3     \n",
       "P04_BSki_1 P04     BSki   SG1     \n",
       "P08_BSof_1 P08     BSof   SG2     \n",
       "P08_BSof_2 P08     BSof   SG1     \n",
       "P08_BSof_3 P08     BSof   SG3     \n",
       "P16_BLun   P16     BLun   SG1     \n",
       "P18_BLun_1 P18     BLun   SG3     \n",
       "P18_BLun_2 P18     BLun   SG2     \n",
       "P39_BLun   P39     BLun   SG2     \n",
       "P42_BLym_1 P42     BLym   SG1     \n",
       "P42_BLym_2 P42     BLym   SG3     "
      ]
     },
     "metadata": {},
     "output_type": "display_data"
    },
    {
     "data": {
      "text/html": [
       "<dl>\n",
       "\t<dt>$patient</dt>\n",
       "\t\t<dd><style>\n",
       ".dl-inline {width: auto; margin:0; padding: 0}\n",
       ".dl-inline>dt, .dl-inline>dd {float: none; width: auto; display: inline-block}\n",
       ".dl-inline>dt::after {content: \":\\0020\"; padding-right: .5ex}\n",
       ".dl-inline>dt:not(:first-of-type) {padding-left: .5ex}\n",
       "</style><dl class=dl-inline><dt>P03</dt><dd>'#0dbfbf'</dd><dt>P04</dt><dd>'#ff6db6ff'</dd><dt>P08</dt><dd>'#006ddbff'</dd><dt>P16</dt><dd>'#c2e0fcff'</dd><dt>P18</dt><dd>'#db6d00ff'</dd><dt>P39</dt><dd>'#25f923ff'</dd><dt>P42</dt><dd>'#fffc6dff'</dd></dl>\n",
       "</dd>\n",
       "\t<dt>$tissue</dt>\n",
       "\t\t<dd><style>\n",
       ".dl-inline {width: auto; margin:0; padding: 0}\n",
       ".dl-inline>dt, .dl-inline>dd {float: none; width: auto; display: inline-block}\n",
       ".dl-inline>dt::after {content: \":\\0020\"; padding-right: .5ex}\n",
       ".dl-inline>dt:not(:first-of-type) {padding-left: .5ex}\n",
       "</style><dl class=dl-inline><dt>BLun</dt><dd>'#00bb00ff'</dd><dt>BLym</dt><dd>'#bb2cbbff'</dd><dt>BSki</dt><dd>'#999999ff'</dd><dt>BSof</dt><dd>'#e5e5e5ff'</dd></dl>\n",
       "</dd>\n",
       "\t<dt>$subgroup</dt>\n",
       "\t\t<dd><style>\n",
       ".dl-inline {width: auto; margin:0; padding: 0}\n",
       ".dl-inline>dt, .dl-inline>dd {float: none; width: auto; display: inline-block}\n",
       ".dl-inline>dt::after {content: \":\\0020\"; padding-right: .5ex}\n",
       ".dl-inline>dt:not(:first-of-type) {padding-left: .5ex}\n",
       "</style><dl class=dl-inline><dt>SG1</dt><dd>'tomato1'</dd><dt>SG2</dt><dd>'cornflowerblue'</dd><dt>SG3</dt><dd>'lightskyblue1'</dd></dl>\n",
       "</dd>\n",
       "</dl>\n"
      ],
      "text/latex": [
       "\\begin{description}\n",
       "\\item[\\$patient] \\begin{description*}\n",
       "\\item[P03] '\\#0dbfbf'\n",
       "\\item[P04] '\\#ff6db6ff'\n",
       "\\item[P08] '\\#006ddbff'\n",
       "\\item[P16] '\\#c2e0fcff'\n",
       "\\item[P18] '\\#db6d00ff'\n",
       "\\item[P39] '\\#25f923ff'\n",
       "\\item[P42] '\\#fffc6dff'\n",
       "\\end{description*}\n",
       "\n",
       "\\item[\\$tissue] \\begin{description*}\n",
       "\\item[BLun] '\\#00bb00ff'\n",
       "\\item[BLym] '\\#bb2cbbff'\n",
       "\\item[BSki] '\\#999999ff'\n",
       "\\item[BSof] '\\#e5e5e5ff'\n",
       "\\end{description*}\n",
       "\n",
       "\\item[\\$subgroup] \\begin{description*}\n",
       "\\item[SG1] 'tomato1'\n",
       "\\item[SG2] 'cornflowerblue'\n",
       "\\item[SG3] 'lightskyblue1'\n",
       "\\end{description*}\n",
       "\n",
       "\\end{description}\n"
      ],
      "text/markdown": [
       "$patient\n",
       ":   P03\n",
       ":   '#0dbfbf'P04\n",
       ":   '#ff6db6ff'P08\n",
       ":   '#006ddbff'P16\n",
       ":   '#c2e0fcff'P18\n",
       ":   '#db6d00ff'P39\n",
       ":   '#25f923ff'P42\n",
       ":   '#fffc6dff'\n",
       "\n",
       "\n",
       "$tissue\n",
       ":   BLun\n",
       ":   '#00bb00ff'BLym\n",
       ":   '#bb2cbbff'BSki\n",
       ":   '#999999ff'BSof\n",
       ":   '#e5e5e5ff'\n",
       "\n",
       "\n",
       "$subgroup\n",
       ":   SG1\n",
       ":   'tomato1'SG2\n",
       ":   'cornflowerblue'SG3\n",
       ":   'lightskyblue1'\n",
       "\n",
       "\n",
       "\n",
       "\n"
      ],
      "text/plain": [
       "$patient\n",
       "        P03         P04         P08         P16         P18         P39 \n",
       "  \"#0dbfbf\" \"#ff6db6ff\" \"#006ddbff\" \"#c2e0fcff\" \"#db6d00ff\" \"#25f923ff\" \n",
       "        P42 \n",
       "\"#fffc6dff\" \n",
       "\n",
       "$tissue\n",
       "       BLun        BLym        BSki        BSof \n",
       "\"#00bb00ff\" \"#bb2cbbff\" \"#999999ff\" \"#e5e5e5ff\" \n",
       "\n",
       "$subgroup\n",
       "             SG1              SG2              SG3 \n",
       "       \"tomato1\" \"cornflowerblue\"  \"lightskyblue1\" \n"
      ]
     },
     "metadata": {},
     "output_type": "display_data"
    }
   ],
   "source": [
    "# plot colors for patients tissues\n",
    "colAnnot <- data.frame(patient = gsub(\"^(P\\\\d+).+\",\"\\\\1\",samplePairs), \n",
    "                       tissue=gsub(\"^P\\\\d+_([A-Za-z]+).*\",\"\\\\1\",samplePairs))\n",
    "row.names(colAnnot)=samplePairs\n",
    "colAnnot$subgroup = subgroupPerSamplePair[ rownames(colAnnot)]\n",
    "colAnnot\n",
    "annotColors = list(patient = patient_colors, tissue = tissue_colors, \n",
    "                   subgroup = subgroup_colors)\n",
    "annotColors"
   ]
  },
  {
   "cell_type": "code",
   "execution_count": 30,
   "id": "ae0438dc",
   "metadata": {},
   "outputs": [],
   "source": [
    "saveRDS(object = list(\n",
    "    neededSamples = neededSamples,\n",
    "    sampleMapping = sampleMapping,\n",
    "    samplePairs = samplePairs,\n",
    "    samplePairPerSubgroup = samplePairPerSubgroup,\n",
    "    subgroupPerSamplePair = subgroupPerSamplePair,\n",
    "    subgroupNames = subgroupNames,\n",
    "    colAnnot = colAnnot,\n",
    "    annotColors = annotColors),\n",
    "        file = \"annotation/samplePairs-annotation-colors-clusters.rds\")"
   ]
  }
 ],
 "metadata": {
  "kernelspec": {
   "display_name": "R",
   "language": "R",
   "name": "ir"
  },
  "language_info": {
   "codemirror_mode": "r",
   "file_extension": ".r",
   "mimetype": "text/x-r-source",
   "name": "R",
   "pygments_lexer": "r",
   "version": "4.2.2"
  }
 },
 "nbformat": 4,
 "nbformat_minor": 5
}
