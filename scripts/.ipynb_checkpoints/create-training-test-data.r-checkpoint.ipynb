{
 "cells": [
  {
   "cell_type": "code",
   "execution_count": 2,
   "id": "ee37d6dd",
   "metadata": {},
   "outputs": [],
   "source": [
    "setwd(\"/data/bcu_projects/MelBrainSys_PostdocProject_Gruetzmann/publications/2022-my-MelBrainSys-paper/scripts-etc-for-publication/\")"
   ]
  },
  {
   "cell_type": "code",
   "execution_count": 3,
   "id": "58066cd3",
   "metadata": {},
   "outputs": [],
   "source": [
    "dataPath = \"regNet/Data/\""
   ]
  },
  {
   "cell_type": "code",
   "execution_count": 4,
   "id": "8ee35831",
   "metadata": {},
   "outputs": [],
   "source": [
    "trainingSetRatio = 3/4 # how many samples used for training, the remainder are used for test data"
   ]
  },
  {
   "cell_type": "code",
   "execution_count": 5,
   "id": "77cfd01f",
   "metadata": {},
   "outputs": [
    {
     "data": {
      "text/html": [
       "<table class=\"dataframe\">\n",
       "<caption>A data.frame: 3 × 273</caption>\n",
       "<thead>\n",
       "\t<tr><th></th><th scope=col>geneSymbol</th><th scope=col>chr</th><th scope=col>pos</th><th scope=col>TCGA-BF-A1PU-01</th><th scope=col>TCGA-BF-A1PV-01</th><th scope=col>TCGA-BF-A1PX-01</th><th scope=col>TCGA-BF-A1PZ-01</th><th scope=col>TCGA-BF-A3DJ-01</th><th scope=col>TCGA-BF-A3DM-01</th><th scope=col>TCGA-BF-A3DN-01</th><th scope=col>⋯</th><th scope=col>TCGA-GF-A2C7-01</th><th scope=col>TCGA-GF-A3OT-06</th><th scope=col>TCGA-GN-A262-06</th><th scope=col>TCGA-GN-A263-01</th><th scope=col>TCGA-GN-A265-06</th><th scope=col>TCGA-GN-A267-06</th><th scope=col>TCGA-GN-A268-06</th><th scope=col>TCGA-GN-A26A-06</th><th scope=col>TCGA-GN-A26D-06</th><th scope=col>TCGA-HR-A5NC-01</th></tr>\n",
       "\t<tr><th></th><th scope=col>&lt;chr&gt;</th><th scope=col>&lt;chr&gt;</th><th scope=col>&lt;int&gt;</th><th scope=col>&lt;dbl&gt;</th><th scope=col>&lt;dbl&gt;</th><th scope=col>&lt;dbl&gt;</th><th scope=col>&lt;dbl&gt;</th><th scope=col>&lt;dbl&gt;</th><th scope=col>&lt;dbl&gt;</th><th scope=col>&lt;dbl&gt;</th><th scope=col>⋯</th><th scope=col>&lt;dbl&gt;</th><th scope=col>&lt;dbl&gt;</th><th scope=col>&lt;dbl&gt;</th><th scope=col>&lt;dbl&gt;</th><th scope=col>&lt;dbl&gt;</th><th scope=col>&lt;dbl&gt;</th><th scope=col>&lt;dbl&gt;</th><th scope=col>&lt;dbl&gt;</th><th scope=col>&lt;dbl&gt;</th><th scope=col>&lt;dbl&gt;</th></tr>\n",
       "</thead>\n",
       "<tbody>\n",
       "\t<tr><th scope=row>1</th><td>NOC2L </td><td>chr1</td><td>887127</td><td>6.702927</td><td>7.506216</td><td>7.3536418</td><td>7.5527593</td><td> 6.7940935</td><td>7.8001608</td><td> 6.438719</td><td>⋯</td><td> 6.320593</td><td>7.774894</td><td>7.869414</td><td> 5.85987063</td><td>8.0767768</td><td>7.698355</td><td>7.609606</td><td> 8.2928188</td><td> 6.689367</td><td> 6.129037</td></tr>\n",
       "\t<tr><th scope=row>2</th><td>KLHL17</td><td>chr1</td><td>898531</td><td>2.524458</td><td>3.581854</td><td>1.8863971</td><td>3.3867555</td><td> 2.5493458</td><td>2.4142473</td><td> 1.246689</td><td>⋯</td><td> 2.304777</td><td>4.523496</td><td>3.997421</td><td> 0.04818819</td><td>3.2792568</td><td>3.688836</td><td>4.444516</td><td> 3.1149303</td><td> 1.624958</td><td> 2.909801</td></tr>\n",
       "\t<tr><th scope=row>3</th><td>HES4  </td><td>chr1</td><td>934947</td><td>1.030696</td><td>3.166422</td><td>0.3773996</td><td>0.9425393</td><td>-0.9829983</td><td>0.9366146</td><td>-2.111562</td><td>⋯</td><td>-1.218591</td><td>2.376759</td><td>1.699015</td><td>-0.06880224</td><td>0.1592957</td><td>2.768496</td><td>1.789248</td><td>-0.4265386</td><td>-1.908413</td><td>-2.078192</td></tr>\n",
       "</tbody>\n",
       "</table>\n"
      ],
      "text/latex": [
       "A data.frame: 3 × 273\n",
       "\\begin{tabular}{r|lllllllllllllllllllll}\n",
       "  & geneSymbol & chr & pos & TCGA-BF-A1PU-01 & TCGA-BF-A1PV-01 & TCGA-BF-A1PX-01 & TCGA-BF-A1PZ-01 & TCGA-BF-A3DJ-01 & TCGA-BF-A3DM-01 & TCGA-BF-A3DN-01 & ⋯ & TCGA-GF-A2C7-01 & TCGA-GF-A3OT-06 & TCGA-GN-A262-06 & TCGA-GN-A263-01 & TCGA-GN-A265-06 & TCGA-GN-A267-06 & TCGA-GN-A268-06 & TCGA-GN-A26A-06 & TCGA-GN-A26D-06 & TCGA-HR-A5NC-01\\\\\n",
       "  & <chr> & <chr> & <int> & <dbl> & <dbl> & <dbl> & <dbl> & <dbl> & <dbl> & <dbl> & ⋯ & <dbl> & <dbl> & <dbl> & <dbl> & <dbl> & <dbl> & <dbl> & <dbl> & <dbl> & <dbl>\\\\\n",
       "\\hline\n",
       "\t1 & NOC2L  & chr1 & 887127 & 6.702927 & 7.506216 & 7.3536418 & 7.5527593 &  6.7940935 & 7.8001608 &  6.438719 & ⋯ &  6.320593 & 7.774894 & 7.869414 &  5.85987063 & 8.0767768 & 7.698355 & 7.609606 &  8.2928188 &  6.689367 &  6.129037\\\\\n",
       "\t2 & KLHL17 & chr1 & 898531 & 2.524458 & 3.581854 & 1.8863971 & 3.3867555 &  2.5493458 & 2.4142473 &  1.246689 & ⋯ &  2.304777 & 4.523496 & 3.997421 &  0.04818819 & 3.2792568 & 3.688836 & 4.444516 &  3.1149303 &  1.624958 &  2.909801\\\\\n",
       "\t3 & HES4   & chr1 & 934947 & 1.030696 & 3.166422 & 0.3773996 & 0.9425393 & -0.9829983 & 0.9366146 & -2.111562 & ⋯ & -1.218591 & 2.376759 & 1.699015 & -0.06880224 & 0.1592957 & 2.768496 & 1.789248 & -0.4265386 & -1.908413 & -2.078192\\\\\n",
       "\\end{tabular}\n"
      ],
      "text/markdown": [
       "\n",
       "A data.frame: 3 × 273\n",
       "\n",
       "| <!--/--> | geneSymbol &lt;chr&gt; | chr &lt;chr&gt; | pos &lt;int&gt; | TCGA-BF-A1PU-01 &lt;dbl&gt; | TCGA-BF-A1PV-01 &lt;dbl&gt; | TCGA-BF-A1PX-01 &lt;dbl&gt; | TCGA-BF-A1PZ-01 &lt;dbl&gt; | TCGA-BF-A3DJ-01 &lt;dbl&gt; | TCGA-BF-A3DM-01 &lt;dbl&gt; | TCGA-BF-A3DN-01 &lt;dbl&gt; | ⋯ ⋯ | TCGA-GF-A2C7-01 &lt;dbl&gt; | TCGA-GF-A3OT-06 &lt;dbl&gt; | TCGA-GN-A262-06 &lt;dbl&gt; | TCGA-GN-A263-01 &lt;dbl&gt; | TCGA-GN-A265-06 &lt;dbl&gt; | TCGA-GN-A267-06 &lt;dbl&gt; | TCGA-GN-A268-06 &lt;dbl&gt; | TCGA-GN-A26A-06 &lt;dbl&gt; | TCGA-GN-A26D-06 &lt;dbl&gt; | TCGA-HR-A5NC-01 &lt;dbl&gt; |\n",
       "|---|---|---|---|---|---|---|---|---|---|---|---|---|---|---|---|---|---|---|---|---|---|\n",
       "| 1 | NOC2L  | chr1 | 887127 | 6.702927 | 7.506216 | 7.3536418 | 7.5527593 |  6.7940935 | 7.8001608 |  6.438719 | ⋯ |  6.320593 | 7.774894 | 7.869414 |  5.85987063 | 8.0767768 | 7.698355 | 7.609606 |  8.2928188 |  6.689367 |  6.129037 |\n",
       "| 2 | KLHL17 | chr1 | 898531 | 2.524458 | 3.581854 | 1.8863971 | 3.3867555 |  2.5493458 | 2.4142473 |  1.246689 | ⋯ |  2.304777 | 4.523496 | 3.997421 |  0.04818819 | 3.2792568 | 3.688836 | 4.444516 |  3.1149303 |  1.624958 |  2.909801 |\n",
       "| 3 | HES4   | chr1 | 934947 | 1.030696 | 3.166422 | 0.3773996 | 0.9425393 | -0.9829983 | 0.9366146 | -2.111562 | ⋯ | -1.218591 | 2.376759 | 1.699015 | -0.06880224 | 0.1592957 | 2.768496 | 1.789248 | -0.4265386 | -1.908413 | -2.078192 |\n",
       "\n"
      ],
      "text/plain": [
       "  geneSymbol chr  pos    TCGA-BF-A1PU-01 TCGA-BF-A1PV-01 TCGA-BF-A1PX-01\n",
       "1 NOC2L      chr1 887127 6.702927        7.506216        7.3536418      \n",
       "2 KLHL17     chr1 898531 2.524458        3.581854        1.8863971      \n",
       "3 HES4       chr1 934947 1.030696        3.166422        0.3773996      \n",
       "  TCGA-BF-A1PZ-01 TCGA-BF-A3DJ-01 TCGA-BF-A3DM-01 TCGA-BF-A3DN-01 ⋯\n",
       "1 7.5527593        6.7940935      7.8001608        6.438719       ⋯\n",
       "2 3.3867555        2.5493458      2.4142473        1.246689       ⋯\n",
       "3 0.9425393       -0.9829983      0.9366146       -2.111562       ⋯\n",
       "  TCGA-GF-A2C7-01 TCGA-GF-A3OT-06 TCGA-GN-A262-06 TCGA-GN-A263-01\n",
       "1  6.320593       7.774894        7.869414         5.85987063    \n",
       "2  2.304777       4.523496        3.997421         0.04818819    \n",
       "3 -1.218591       2.376759        1.699015        -0.06880224    \n",
       "  TCGA-GN-A265-06 TCGA-GN-A267-06 TCGA-GN-A268-06 TCGA-GN-A26A-06\n",
       "1 8.0767768       7.698355        7.609606         8.2928188     \n",
       "2 3.2792568       3.688836        4.444516         3.1149303     \n",
       "3 0.1592957       2.768496        1.789248        -0.4265386     \n",
       "  TCGA-GN-A26D-06 TCGA-HR-A5NC-01\n",
       "1  6.689367        6.129037      \n",
       "2  1.624958        2.909801      \n",
       "3 -1.908413       -2.078192      "
      ]
     },
     "metadata": {},
     "output_type": "display_data"
    }
   ],
   "source": [
    "# full data set gene expression\n",
    "fullExprDataFile = paste0( dataPath, \"TCGA-expression.csv\" )\n",
    "# Gene, Chromsome, Location, Samples\n",
    "fullExprData = read.delim( file = fullExprDataFile, header = TRUE, sep = \"\\t\", stringsAsFactors = F)\n",
    "colnames(fullExprData) = gsub(\"\\\\.\",\"-\",colnames(fullExprData))\n",
    "head(fullExprData,3)"
   ]
  },
  {
   "cell_type": "code",
   "execution_count": 6,
   "id": "fd3ecd0e",
   "metadata": {},
   "outputs": [
    {
     "data": {
      "text/html": [
       "<table class=\"dataframe\">\n",
       "<caption>A data.frame: 3 × 273</caption>\n",
       "<thead>\n",
       "\t<tr><th></th><th scope=col>geneSymbol</th><th scope=col>chr</th><th scope=col>pos</th><th scope=col>TCGA-BF-A1PU-01</th><th scope=col>TCGA-BF-A1PV-01</th><th scope=col>TCGA-BF-A1PX-01</th><th scope=col>TCGA-BF-A1PZ-01</th><th scope=col>TCGA-BF-A3DJ-01</th><th scope=col>TCGA-BF-A3DM-01</th><th scope=col>TCGA-BF-A3DN-01</th><th scope=col>⋯</th><th scope=col>TCGA-GF-A2C7-01</th><th scope=col>TCGA-GF-A3OT-06</th><th scope=col>TCGA-GN-A262-06</th><th scope=col>TCGA-GN-A263-01</th><th scope=col>TCGA-GN-A265-06</th><th scope=col>TCGA-GN-A267-06</th><th scope=col>TCGA-GN-A268-06</th><th scope=col>TCGA-GN-A26A-06</th><th scope=col>TCGA-GN-A26D-06</th><th scope=col>TCGA-HR-A5NC-01</th></tr>\n",
       "\t<tr><th></th><th scope=col>&lt;chr&gt;</th><th scope=col>&lt;chr&gt;</th><th scope=col>&lt;int&gt;</th><th scope=col>&lt;dbl&gt;</th><th scope=col>&lt;dbl&gt;</th><th scope=col>&lt;dbl&gt;</th><th scope=col>&lt;dbl&gt;</th><th scope=col>&lt;dbl&gt;</th><th scope=col>&lt;dbl&gt;</th><th scope=col>&lt;dbl&gt;</th><th scope=col>⋯</th><th scope=col>&lt;dbl&gt;</th><th scope=col>&lt;dbl&gt;</th><th scope=col>&lt;dbl&gt;</th><th scope=col>&lt;dbl&gt;</th><th scope=col>&lt;dbl&gt;</th><th scope=col>&lt;dbl&gt;</th><th scope=col>&lt;dbl&gt;</th><th scope=col>&lt;dbl&gt;</th><th scope=col>&lt;dbl&gt;</th><th scope=col>&lt;dbl&gt;</th></tr>\n",
       "</thead>\n",
       "<tbody>\n",
       "\t<tr><th scope=row>1</th><td>NOC2L </td><td>chr1</td><td>887127</td><td>-4.652966</td><td>-4.458765</td><td>-4.796641</td><td>-4.729707</td><td>-4.926345</td><td>-5.091165</td><td>-4.961007</td><td>⋯</td><td>-4.659859</td><td>-4.336808</td><td>-4.699023</td><td>-4.612412</td><td>-4.609387</td><td>-4.424475</td><td>-4.779394</td><td>-4.508756</td><td>-4.903969</td><td>-4.64449</td></tr>\n",
       "\t<tr><th scope=row>2</th><td>KLHL17</td><td>chr1</td><td>898531</td><td>-4.652966</td><td>-4.458765</td><td>-4.796641</td><td>-4.729707</td><td>-4.926345</td><td>-5.091165</td><td>-4.961007</td><td>⋯</td><td>-4.659859</td><td>-4.336808</td><td>-4.699023</td><td>-4.612412</td><td>-4.609387</td><td>-4.424475</td><td>-4.779394</td><td>-4.508756</td><td>-4.903969</td><td>-4.64449</td></tr>\n",
       "\t<tr><th scope=row>3</th><td>HES4  </td><td>chr1</td><td>934947</td><td>-5.114427</td><td>-4.639960</td><td>-4.516409</td><td>-4.806967</td><td>-4.845529</td><td>-5.160410</td><td>-4.507094</td><td>⋯</td><td>-5.121116</td><td>-4.680573</td><td>-5.038763</td><td>-4.855266</td><td>-4.822812</td><td>-4.871468</td><td>-3.887074</td><td>-5.012732</td><td>-5.097629</td><td>-4.63437</td></tr>\n",
       "</tbody>\n",
       "</table>\n"
      ],
      "text/latex": [
       "A data.frame: 3 × 273\n",
       "\\begin{tabular}{r|lllllllllllllllllllll}\n",
       "  & geneSymbol & chr & pos & TCGA-BF-A1PU-01 & TCGA-BF-A1PV-01 & TCGA-BF-A1PX-01 & TCGA-BF-A1PZ-01 & TCGA-BF-A3DJ-01 & TCGA-BF-A3DM-01 & TCGA-BF-A3DN-01 & ⋯ & TCGA-GF-A2C7-01 & TCGA-GF-A3OT-06 & TCGA-GN-A262-06 & TCGA-GN-A263-01 & TCGA-GN-A265-06 & TCGA-GN-A267-06 & TCGA-GN-A268-06 & TCGA-GN-A26A-06 & TCGA-GN-A26D-06 & TCGA-HR-A5NC-01\\\\\n",
       "  & <chr> & <chr> & <int> & <dbl> & <dbl> & <dbl> & <dbl> & <dbl> & <dbl> & <dbl> & ⋯ & <dbl> & <dbl> & <dbl> & <dbl> & <dbl> & <dbl> & <dbl> & <dbl> & <dbl> & <dbl>\\\\\n",
       "\\hline\n",
       "\t1 & NOC2L  & chr1 & 887127 & -4.652966 & -4.458765 & -4.796641 & -4.729707 & -4.926345 & -5.091165 & -4.961007 & ⋯ & -4.659859 & -4.336808 & -4.699023 & -4.612412 & -4.609387 & -4.424475 & -4.779394 & -4.508756 & -4.903969 & -4.64449\\\\\n",
       "\t2 & KLHL17 & chr1 & 898531 & -4.652966 & -4.458765 & -4.796641 & -4.729707 & -4.926345 & -5.091165 & -4.961007 & ⋯ & -4.659859 & -4.336808 & -4.699023 & -4.612412 & -4.609387 & -4.424475 & -4.779394 & -4.508756 & -4.903969 & -4.64449\\\\\n",
       "\t3 & HES4   & chr1 & 934947 & -5.114427 & -4.639960 & -4.516409 & -4.806967 & -4.845529 & -5.160410 & -4.507094 & ⋯ & -5.121116 & -4.680573 & -5.038763 & -4.855266 & -4.822812 & -4.871468 & -3.887074 & -5.012732 & -5.097629 & -4.63437\\\\\n",
       "\\end{tabular}\n"
      ],
      "text/markdown": [
       "\n",
       "A data.frame: 3 × 273\n",
       "\n",
       "| <!--/--> | geneSymbol &lt;chr&gt; | chr &lt;chr&gt; | pos &lt;int&gt; | TCGA-BF-A1PU-01 &lt;dbl&gt; | TCGA-BF-A1PV-01 &lt;dbl&gt; | TCGA-BF-A1PX-01 &lt;dbl&gt; | TCGA-BF-A1PZ-01 &lt;dbl&gt; | TCGA-BF-A3DJ-01 &lt;dbl&gt; | TCGA-BF-A3DM-01 &lt;dbl&gt; | TCGA-BF-A3DN-01 &lt;dbl&gt; | ⋯ ⋯ | TCGA-GF-A2C7-01 &lt;dbl&gt; | TCGA-GF-A3OT-06 &lt;dbl&gt; | TCGA-GN-A262-06 &lt;dbl&gt; | TCGA-GN-A263-01 &lt;dbl&gt; | TCGA-GN-A265-06 &lt;dbl&gt; | TCGA-GN-A267-06 &lt;dbl&gt; | TCGA-GN-A268-06 &lt;dbl&gt; | TCGA-GN-A26A-06 &lt;dbl&gt; | TCGA-GN-A26D-06 &lt;dbl&gt; | TCGA-HR-A5NC-01 &lt;dbl&gt; |\n",
       "|---|---|---|---|---|---|---|---|---|---|---|---|---|---|---|---|---|---|---|---|---|---|\n",
       "| 1 | NOC2L  | chr1 | 887127 | -4.652966 | -4.458765 | -4.796641 | -4.729707 | -4.926345 | -5.091165 | -4.961007 | ⋯ | -4.659859 | -4.336808 | -4.699023 | -4.612412 | -4.609387 | -4.424475 | -4.779394 | -4.508756 | -4.903969 | -4.64449 |\n",
       "| 2 | KLHL17 | chr1 | 898531 | -4.652966 | -4.458765 | -4.796641 | -4.729707 | -4.926345 | -5.091165 | -4.961007 | ⋯ | -4.659859 | -4.336808 | -4.699023 | -4.612412 | -4.609387 | -4.424475 | -4.779394 | -4.508756 | -4.903969 | -4.64449 |\n",
       "| 3 | HES4   | chr1 | 934947 | -5.114427 | -4.639960 | -4.516409 | -4.806967 | -4.845529 | -5.160410 | -4.507094 | ⋯ | -5.121116 | -4.680573 | -5.038763 | -4.855266 | -4.822812 | -4.871468 | -3.887074 | -5.012732 | -5.097629 | -4.63437 |\n",
       "\n"
      ],
      "text/plain": [
       "  geneSymbol chr  pos    TCGA-BF-A1PU-01 TCGA-BF-A1PV-01 TCGA-BF-A1PX-01\n",
       "1 NOC2L      chr1 887127 -4.652966       -4.458765       -4.796641      \n",
       "2 KLHL17     chr1 898531 -4.652966       -4.458765       -4.796641      \n",
       "3 HES4       chr1 934947 -5.114427       -4.639960       -4.516409      \n",
       "  TCGA-BF-A1PZ-01 TCGA-BF-A3DJ-01 TCGA-BF-A3DM-01 TCGA-BF-A3DN-01 ⋯\n",
       "1 -4.729707       -4.926345       -5.091165       -4.961007       ⋯\n",
       "2 -4.729707       -4.926345       -5.091165       -4.961007       ⋯\n",
       "3 -4.806967       -4.845529       -5.160410       -4.507094       ⋯\n",
       "  TCGA-GF-A2C7-01 TCGA-GF-A3OT-06 TCGA-GN-A262-06 TCGA-GN-A263-01\n",
       "1 -4.659859       -4.336808       -4.699023       -4.612412      \n",
       "2 -4.659859       -4.336808       -4.699023       -4.612412      \n",
       "3 -5.121116       -4.680573       -5.038763       -4.855266      \n",
       "  TCGA-GN-A265-06 TCGA-GN-A267-06 TCGA-GN-A268-06 TCGA-GN-A26A-06\n",
       "1 -4.609387       -4.424475       -4.779394       -4.508756      \n",
       "2 -4.609387       -4.424475       -4.779394       -4.508756      \n",
       "3 -4.822812       -4.871468       -3.887074       -5.012732      \n",
       "  TCGA-GN-A26D-06 TCGA-HR-A5NC-01\n",
       "1 -4.903969       -4.64449       \n",
       "2 -4.903969       -4.64449       \n",
       "3 -5.097629       -4.63437       "
      ]
     },
     "metadata": {},
     "output_type": "display_data"
    }
   ],
   "source": [
    "# full methylation data set\n",
    "#\n",
    "fullMethDataFile = paste0( dataPath, \"TCGA-methylation.csv\" )\n",
    "#Gene, Chromsome, Location, Samples\n",
    "fullMethData = read.delim( file = fullMethDataFile, header = TRUE, sep = \"\\t\" )\n",
    "colnames(fullMethData) = gsub(\"\\\\.\",\"-\",colnames(fullMethData))\n",
    "head(fullMethData,3)"
   ]
  },
  {
   "cell_type": "code",
   "execution_count": 7,
   "id": "90068d30",
   "metadata": {},
   "outputs": [
    {
     "name": "stdout",
     "output_type": "stream",
     "text": [
      "270 samples in total, 202 for training, 68 for testing \n"
     ]
    }
   ],
   "source": [
    "totalSamples = 4:ncol( fullExprData )\n",
    "nbSamplesTotal = length( totalSamples )\n",
    "nbTrainSamples = round( nbSamplesTotal * trainingSetRatio, dig = 0 )\n",
    "cat( nbSamplesTotal, \"samples in total,\", nbTrainSamples ,\"for training,\",\n",
    "    nbSamplesTotal-nbTrainSamples,\"for testing \\n\")"
   ]
  },
  {
   "cell_type": "code",
   "execution_count": 8,
   "id": "63663432",
   "metadata": {},
   "outputs": [],
   "source": [
    "createTraining_and_TestDataSets = function( dataSetNb ) {\n",
    "    cat(\"data set number\",dataSetNb,\"\\n\")\n",
    "    trainSamples = sample( x = totalSamples, size = nbTrainSamples  )\n",
    "    testSamples  = setdiff( totalSamples, trainSamples )\n",
    "\n",
    "    cat(\"training samples\\n\", trainSamples ,\"\\n\")\n",
    "    cat(\"test samples\\n\", testSamples  ,\"\\n\")\n",
    "\n",
    "    # Expression Data:\n",
    "    # save training data set\n",
    "    trainDataFile = paste0( dataPath, \"TrainSet_ExpressionData_regNet_Run_\", dataSetNb, \".txt\" )\n",
    "    write.table( fullExprData[ , c( 1:3, trainSamples ) ], file = trainDataFile, row.names = FALSE, col.names = TRUE, quote = FALSE, dec = \".\", sep = \"\\t\" )\n",
    "    cat(\"saved to \",trainDataFile,\"\\n\")\n",
    "    \n",
    "    # save test data set\n",
    "    testDataFile = paste0( dataPath, \"TestSet_ExpressionData_regNet_Run_\", dataSetNb, \".txt\" )\n",
    "    write.table( fullExprData[ , c( 1:3, testSamples ) ], file = testDataFile, row.names = FALSE, col.names = TRUE, quote = FALSE, dec = \".\", sep = \"\\t\" )\n",
    "    cat(\"saved to \",testDataFile,\"\\n\")\n",
    "    \n",
    "    # Methylation Data:\n",
    "    # save training data set\n",
    "    trainDataFile = paste0( dataPath, \"TrainSet_MethylationData_regNet_Run_\", dataSetNb, \".txt\" )\n",
    "    write.table( fullMethData[ , c( 1:3, trainSamples ) ], file = trainDataFile, row.names = FALSE, col.names = TRUE, quote = FALSE, dec = \".\", sep = \"\\t\" )\n",
    "    cat(\"saved to \",trainDataFile,\"\\n\")\n",
    "    \n",
    "    # save test data set\n",
    "    testDataFile = paste0( dataPath, \"TestSet_MethylationData_regNet_Run_\", dataSetNb, \".txt\" )\n",
    "    write.table( fullMethData[ , c( 1:3, testSamples ) ], file = testDataFile, row.names = FALSE, col.names = TRUE, quote = FALSE, dec = \".\", sep = \"\\t\" )\n",
    "    cat(\"saved to \",testDataFile,\"\\n\")\n",
    "}"
   ]
  },
  {
   "cell_type": "code",
   "execution_count": 9,
   "id": "51db2f82",
   "metadata": {},
   "outputs": [
    {
     "name": "stdout",
     "output_type": "stream",
     "text": [
      "data set number 1 \n",
      "training samples\n",
      " 65 174 7 179 239 121 83 153 14 22 82 173 227 8 183 256 268 36 138 54 70 96 148 167 169 223 51 186 92 131 159 20 180 218 251 97 19 116 21 266 202 38 219 63 238 4 113 123 42 127 216 172 181 185 258 229 189 145 114 164 134 235 222 190 252 101 171 9 104 16 135 112 141 220 208 62 56 77 10 115 237 106 246 43 46 28 163 270 271 188 87 109 199 110 272 13 23 247 129 90 245 249 264 32 191 49 168 241 161 233 232 260 166 149 44 192 85 31 198 84 57 132 107 143 221 255 80 225 37 154 99 40 15 81 152 72 130 74 175 207 133 151 205 5 128 170 248 226 55 25 67 91 209 273 242 122 52 140 146 86 60 18 93 139 102 71 157 47 35 41 267 39 210 156 29 100 78 34 66 117 224 200 269 6 213 262 195 176 79 155 147 17 24 59 236 212 228 124 30 214 206 150 \n",
      "test samples\n",
      " 11 12 26 27 33 45 48 50 53 58 61 64 68 69 73 75 76 88 89 94 95 98 103 105 108 111 118 119 120 125 126 136 137 142 144 158 160 162 165 177 178 182 184 187 193 194 196 197 201 203 204 211 215 217 230 231 234 240 243 244 250 253 254 257 259 261 263 265 \n",
      "saved to  regNet/Data/TrainSet_ExpressionData_regNet_Run_1.txt \n",
      "saved to  regNet/Data/TestSet_ExpressionData_regNet_Run_1.txt \n",
      "saved to  regNet/Data/TrainSet_MethylationData_regNet_Run_1.txt \n",
      "saved to  regNet/Data/TestSet_MethylationData_regNet_Run_1.txt \n",
      "data set number 2 \n",
      "training samples\n",
      " 217 229 104 84 151 78 220 257 61 48 176 199 83 108 116 12 262 244 237 171 67 254 8 248 225 39 10 148 6 180 172 80 140 235 63 95 53 26 87 157 266 135 41 245 33 233 134 11 86 113 44 179 145 178 114 115 106 268 169 258 105 219 184 118 111 243 161 20 82 150 23 183 203 200 37 234 205 85 141 117 13 226 77 19 250 5 81 110 167 194 201 153 224 138 259 210 92 230 261 271 50 228 147 240 28 242 40 94 101 146 232 238 214 103 158 253 69 239 127 190 193 216 34 68 96 191 120 129 60 231 206 272 208 149 264 270 263 121 255 88 181 71 156 79 57 159 152 47 24 273 100 195 251 66 137 213 109 54 29 236 38 4 177 31 124 168 122 222 211 215 185 22 192 131 123 136 70 173 45 142 9 35 75 189 154 32 102 27 43 42 125 49 227 97 52 128 14 182 196 249 17 187 \n",
      "test samples\n",
      " 7 15 16 18 21 25 30 36 46 51 55 56 58 59 62 64 65 72 73 74 76 89 90 91 93 98 99 107 112 119 126 130 132 133 139 143 144 155 160 162 163 164 165 166 170 174 175 186 188 197 198 202 204 207 209 212 218 221 223 241 246 247 252 256 260 265 267 269 \n",
      "saved to  regNet/Data/TrainSet_ExpressionData_regNet_Run_2.txt \n",
      "saved to  regNet/Data/TestSet_ExpressionData_regNet_Run_2.txt \n",
      "saved to  regNet/Data/TrainSet_MethylationData_regNet_Run_2.txt \n",
      "saved to  regNet/Data/TestSet_MethylationData_regNet_Run_2.txt \n",
      "data set number 3 \n",
      "training samples\n",
      " 174 32 214 37 219 131 72 74 247 59 253 231 132 9 147 204 50 135 38 51 26 202 57 190 71 205 191 89 226 137 206 16 6 95 201 52 85 145 76 155 197 8 129 11 40 194 199 168 213 25 237 79 186 80 146 29 121 184 183 69 14 220 99 223 244 224 212 97 46 83 198 43 140 227 66 240 243 39 45 222 260 236 41 228 102 187 173 152 207 82 112 256 160 225 255 192 49 47 87 130 179 268 86 90 100 77 171 111 234 35 251 151 250 78 53 246 263 42 248 210 19 115 242 107 101 93 33 65 73 27 96 133 195 30 159 12 94 48 273 106 119 91 166 200 221 162 182 267 177 158 211 216 233 164 88 149 63 118 7 144 5 269 15 157 138 116 126 252 4 153 272 75 189 10 218 249 84 36 241 175 170 105 120 13 196 270 143 124 92 31 117 254 64 113 23 188 150 264 60 109 232 56 \n",
      "test samples\n",
      " 17 18 20 21 22 24 28 34 44 54 55 58 61 62 67 68 70 81 98 103 104 108 110 114 122 123 125 127 128 134 136 139 141 142 148 154 156 161 163 165 167 169 172 176 178 180 181 185 193 203 208 209 215 217 229 230 235 238 239 245 257 258 259 261 262 265 266 271 \n",
      "saved to  regNet/Data/TrainSet_ExpressionData_regNet_Run_3.txt \n",
      "saved to  regNet/Data/TestSet_ExpressionData_regNet_Run_3.txt \n",
      "saved to  regNet/Data/TrainSet_MethylationData_regNet_Run_3.txt \n",
      "saved to  regNet/Data/TestSet_MethylationData_regNet_Run_3.txt \n",
      "data set number 4 \n",
      "training samples\n",
      " 162 118 239 112 116 133 257 245 266 29 217 234 103 189 66 163 83 227 45 122 59 231 73 186 244 11 101 169 147 173 87 136 181 166 208 262 146 64 79 237 175 57 61 80 255 109 124 254 36 49 211 150 22 214 226 230 120 250 47 142 71 40 72 248 7 91 158 96 31 205 246 196 145 235 138 165 42 128 132 131 263 135 212 55 82 8 74 54 26 95 185 252 102 267 126 167 41 43 134 177 75 76 39 60 265 27 188 179 24 98 15 89 88 68 113 172 38 170 84 129 53 10 182 105 18 97 144 110 21 203 19 148 140 125 236 137 218 12 151 130 215 247 164 238 152 224 100 220 51 14 127 154 258 260 153 50 28 92 48 46 194 155 273 249 268 213 159 115 44 259 65 32 251 229 216 195 180 106 225 23 108 270 9 233 52 104 209 20 199 4 269 171 143 90 200 30 261 160 107 243 197 178 \n",
      "test samples\n",
      " 5 6 13 16 17 25 33 34 35 37 56 58 62 63 67 69 70 77 78 81 85 86 93 94 99 111 114 117 119 121 123 139 141 149 156 157 161 168 174 176 183 184 187 190 191 192 193 198 201 202 204 206 207 210 219 221 222 223 228 232 240 241 242 253 256 264 271 272 \n",
      "saved to  regNet/Data/TrainSet_ExpressionData_regNet_Run_4.txt \n",
      "saved to  regNet/Data/TestSet_ExpressionData_regNet_Run_4.txt \n",
      "saved to  regNet/Data/TrainSet_MethylationData_regNet_Run_4.txt \n",
      "saved to  regNet/Data/TestSet_MethylationData_regNet_Run_4.txt \n",
      "data set number 5 \n",
      "training samples\n",
      " 216 141 100 92 153 17 267 53 80 116 54 246 159 52 111 193 273 221 97 215 13 81 149 87 164 114 270 148 227 11 248 189 14 138 88 226 188 194 268 126 187 113 154 235 57 243 259 130 129 70 48 228 28 240 137 33 196 24 112 260 59 8 73 152 60 206 230 16 103 202 119 32 209 181 172 90 186 15 25 162 225 174 68 95 251 29 51 43 135 142 79 156 98 207 39 4 31 177 169 109 134 107 264 158 106 10 56 37 34 19 179 190 128 213 242 131 36 71 166 191 145 63 42 261 47 30 118 214 50 265 205 55 197 61 247 86 170 272 125 269 136 234 171 46 67 200 239 44 132 167 258 115 250 173 76 252 91 69 74 26 12 223 253 124 89 49 249 208 211 122 175 40 218 198 204 85 257 266 244 157 102 232 168 262 165 231 217 150 65 58 64 9 176 18 151 139 35 108 229 185 212 7 \n",
      "test samples\n",
      " 5 6 20 21 22 23 27 38 41 45 62 66 72 75 77 78 82 83 84 93 94 96 99 101 104 105 110 117 120 121 123 127 133 140 143 144 146 147 155 160 161 163 178 180 182 183 184 192 195 199 201 203 210 219 220 222 224 233 236 237 238 241 245 254 255 256 263 271 \n",
      "saved to  regNet/Data/TrainSet_ExpressionData_regNet_Run_5.txt \n",
      "saved to  regNet/Data/TestSet_ExpressionData_regNet_Run_5.txt \n",
      "saved to  regNet/Data/TrainSet_MethylationData_regNet_Run_5.txt \n",
      "saved to  regNet/Data/TestSet_MethylationData_regNet_Run_5.txt \n",
      "data set number 6 \n",
      "training samples\n",
      " 264 186 134 90 9 114 38 24 239 211 112 223 245 129 73 108 255 229 117 162 269 47 26 243 53 12 69 208 57 11 252 99 96 119 45 30 236 238 260 246 131 253 36 122 146 257 15 154 268 86 80 237 263 230 40 145 232 138 48 64 133 115 28 149 247 214 109 105 39 126 124 272 219 23 171 50 102 79 212 113 167 244 249 233 142 140 266 175 183 170 137 87 111 157 224 103 29 203 231 184 60 218 194 25 150 166 6 82 76 130 135 148 250 8 155 189 251 192 235 198 77 22 17 273 32 196 199 226 254 202 128 106 19 256 100 33 204 84 54 259 200 221 141 61 143 59 215 144 20 197 185 156 56 67 136 85 262 89 46 207 120 37 49 125 139 228 152 27 101 193 71 75 94 72 52 270 182 10 153 74 62 58 91 220 174 240 42 116 164 158 258 216 173 81 97 78 7 205 210 180 271 44 \n",
      "test samples\n",
      " 4 5 13 14 16 18 21 31 34 35 41 43 51 55 63 65 66 68 70 83 88 92 93 95 98 104 107 110 118 121 123 127 132 147 151 159 160 161 163 165 168 169 172 176 177 178 179 181 187 188 190 191 195 201 206 209 213 217 222 225 227 234 241 242 248 261 265 267 \n",
      "saved to  regNet/Data/TrainSet_ExpressionData_regNet_Run_6.txt \n",
      "saved to  regNet/Data/TestSet_ExpressionData_regNet_Run_6.txt \n",
      "saved to  regNet/Data/TrainSet_MethylationData_regNet_Run_6.txt \n",
      "saved to  regNet/Data/TestSet_MethylationData_regNet_Run_6.txt \n",
      "data set number 7 \n",
      "training samples\n",
      " 70 117 205 125 20 246 110 179 198 137 77 203 165 254 48 221 229 130 243 158 121 180 141 239 214 38 207 184 31 197 175 190 211 126 183 156 27 153 133 186 167 119 272 263 157 140 103 50 215 86 227 124 173 174 257 102 24 60 163 251 218 99 201 162 172 39 134 29 91 11 80 22 166 127 253 191 37 208 262 33 107 12 264 265 6 256 194 261 64 176 111 225 187 150 69 152 61 52 170 113 241 100 84 189 42 247 118 270 51 81 171 160 222 74 79 14 94 68 43 161 45 181 237 34 35 114 89 255 97 269 267 63 248 268 217 192 116 149 55 7 67 23 235 193 209 245 232 115 204 129 231 213 47 56 219 92 249 87 101 259 159 202 32 200 178 138 36 93 71 210 258 228 128 44 13 19 206 54 250 4 26 145 5 226 266 168 66 78 185 75 28 135 147 230 188 143 21 40 10 216 223 234 \n",
      "test samples\n",
      " 8 9 15 16 17 18 25 30 41 46 49 53 57 58 59 62 65 72 73 76 82 83 85 88 90 95 96 98 104 105 106 108 109 112 120 122 123 131 132 136 139 142 144 146 148 151 154 155 164 169 177 182 195 196 199 212 220 224 233 236 238 240 242 244 252 260 271 273 \n",
      "saved to  regNet/Data/TrainSet_ExpressionData_regNet_Run_7.txt \n",
      "saved to  regNet/Data/TestSet_ExpressionData_regNet_Run_7.txt \n",
      "saved to  regNet/Data/TrainSet_MethylationData_regNet_Run_7.txt \n",
      "saved to  regNet/Data/TestSet_MethylationData_regNet_Run_7.txt \n",
      "data set number 8 \n",
      "training samples\n",
      " 32 65 257 240 14 261 18 187 176 100 169 33 158 104 154 105 180 138 177 172 148 201 235 267 61 249 244 123 60 41 171 223 136 85 228 174 268 49 178 239 262 151 57 91 211 245 241 137 51 207 227 76 47 144 109 43 16 204 272 195 143 73 146 93 153 118 266 58 71 12 196 81 19 62 182 170 221 224 190 69 114 122 212 124 84 42 156 7 197 236 107 145 157 161 165 98 28 108 5 21 142 186 94 181 87 6 256 199 168 264 259 67 160 213 214 15 155 216 102 250 234 273 8 86 243 231 110 63 116 90 217 247 208 130 141 238 215 22 82 119 56 64 149 164 54 242 13 131 163 209 96 206 150 270 126 79 189 233 45 30 232 265 229 50 38 222 48 112 39 198 248 184 52 263 101 166 88 113 10 225 27 103 255 219 226 191 59 152 205 115 78 36 230 20 34 258 25 220 194 106 260 269 \n",
      "test samples\n",
      " 4 9 11 17 23 24 26 29 31 35 37 40 44 46 53 55 66 68 70 72 74 75 77 80 83 89 92 95 97 99 111 117 120 121 125 127 128 129 132 133 134 135 139 140 147 159 162 167 173 175 179 183 185 188 192 193 200 202 203 210 218 237 246 251 252 253 254 271 \n",
      "saved to  regNet/Data/TrainSet_ExpressionData_regNet_Run_8.txt \n",
      "saved to  regNet/Data/TestSet_ExpressionData_regNet_Run_8.txt \n",
      "saved to  regNet/Data/TrainSet_MethylationData_regNet_Run_8.txt \n",
      "saved to  regNet/Data/TestSet_MethylationData_regNet_Run_8.txt \n",
      "data set number 9 \n",
      "training samples\n",
      " 19 105 210 47 235 64 160 194 250 206 209 102 141 224 178 66 226 107 237 164 204 101 201 135 76 30 163 120 230 227 248 243 149 242 58 45 82 79 81 72 269 18 34 156 147 267 24 127 136 28 98 260 152 70 74 93 171 218 44 255 124 190 106 17 62 252 184 231 43 50 112 216 175 239 271 140 111 158 270 103 134 110 261 159 9 114 179 142 256 263 38 65 150 132 172 59 6 249 125 245 40 202 14 78 27 247 128 83 232 223 214 91 80 31 88 85 4 15 109 241 253 77 145 63 36 265 187 225 68 33 186 123 233 220 166 185 138 22 48 126 177 8 95 13 89 162 238 189 118 55 143 139 116 217 122 273 42 196 258 130 37 219 180 182 165 104 5 198 53 167 155 240 57 117 154 86 115 7 208 21 73 32 173 200 266 113 199 205 54 191 87 90 251 108 60 97 262 207 119 51 133 46 \n",
      "test samples\n",
      " 10 11 12 16 20 23 25 26 29 35 39 41 49 52 56 61 67 69 71 75 84 92 94 96 99 100 121 129 131 137 144 146 148 151 153 157 161 168 169 170 174 176 181 183 188 192 193 195 197 203 211 212 213 215 221 222 228 229 234 236 244 246 254 257 259 264 268 272 \n",
      "saved to  regNet/Data/TrainSet_ExpressionData_regNet_Run_9.txt \n",
      "saved to  regNet/Data/TestSet_ExpressionData_regNet_Run_9.txt \n",
      "saved to  regNet/Data/TrainSet_MethylationData_regNet_Run_9.txt \n",
      "saved to  regNet/Data/TestSet_MethylationData_regNet_Run_9.txt \n",
      "data set number 10 \n",
      "training samples\n",
      " 254 90 71 171 131 74 110 106 149 49 104 234 259 72 117 165 116 212 27 54 223 124 240 188 77 246 175 14 209 195 161 244 241 80 226 196 134 180 133 25 257 193 67 56 261 239 21 216 126 35 191 197 273 63 109 203 271 179 176 248 7 268 88 170 183 83 84 65 200 258 34 118 164 217 177 39 22 11 115 148 266 18 94 173 105 128 267 85 163 194 50 91 249 242 30 26 181 28 108 205 154 139 219 19 23 79 95 178 135 224 174 97 17 68 69 52 143 24 33 229 211 113 199 264 43 159 206 204 29 53 87 272 36 6 100 86 96 256 245 187 202 144 230 10 16 220 57 152 129 151 60 213 158 228 132 215 13 58 201 122 15 9 243 4 142 214 251 231 55 8 51 253 75 61 262 172 252 112 233 208 20 238 81 182 12 103 140 82 138 147 156 184 137 76 225 162 198 64 66 270 32 227 \n",
      "test samples\n",
      " 5 31 37 38 40 41 42 44 45 46 47 48 59 62 70 73 78 89 92 93 98 99 101 102 107 111 114 119 120 121 123 125 127 130 136 141 145 146 150 153 155 157 160 166 167 168 169 185 186 189 190 192 207 210 218 221 222 232 235 236 237 247 250 255 260 263 265 269 \n",
      "saved to  regNet/Data/TrainSet_ExpressionData_regNet_Run_10.txt \n",
      "saved to  regNet/Data/TestSet_ExpressionData_regNet_Run_10.txt \n",
      "saved to  regNet/Data/TrainSet_MethylationData_regNet_Run_10.txt \n",
      "saved to  regNet/Data/TestSet_MethylationData_regNet_Run_10.txt \n"
     ]
    }
   ],
   "source": [
    "# create data set 1..10\n",
    "nbDataSets = 10\n",
    "for( i in 1:nbDataSets ) {\n",
    "    createTraining_and_TestDataSets( dataSetNb = i)\n",
    "}"
   ]
  },
  {
   "cell_type": "code",
   "execution_count": null,
   "id": "50f032b7",
   "metadata": {},
   "outputs": [],
   "source": []
  },
  {
   "cell_type": "code",
   "execution_count": null,
   "id": "56b57d42",
   "metadata": {},
   "outputs": [],
   "source": []
  },
  {
   "cell_type": "code",
   "execution_count": null,
   "id": "fc443581",
   "metadata": {},
   "outputs": [],
   "source": []
  },
  {
   "cell_type": "code",
   "execution_count": null,
   "id": "007c9e22",
   "metadata": {},
   "outputs": [],
   "source": []
  },
  {
   "cell_type": "code",
   "execution_count": null,
   "id": "48555dc1",
   "metadata": {},
   "outputs": [],
   "source": []
  }
 ],
 "metadata": {
  "kernelspec": {
   "display_name": "R",
   "language": "R",
   "name": "ir"
  },
  "language_info": {
   "codemirror_mode": "r",
   "file_extension": ".r",
   "mimetype": "text/x-r-source",
   "name": "R",
   "pygments_lexer": "r",
   "version": "4.2.2"
  }
 },
 "nbformat": 4,
 "nbformat_minor": 5
}
