{
 "cells": [
  {
   "cell_type": "code",
   "execution_count": 62,
   "id": "fd905b95",
   "metadata": {},
   "outputs": [],
   "source": [
    "library(parallel)\n",
    "library(pheatmap)\n",
    "library(xlsx)"
   ]
  },
  {
   "cell_type": "code",
   "execution_count": 2,
   "id": "e0e9b4dd",
   "metadata": {},
   "outputs": [],
   "source": [
    "basePath = \"/data/bcu_projects/MelBrainSys_PostdocProject_Gruetzmann/publications/2022-my-MelBrainSys-paper/scripts-etc-for-publication/\"\n",
    "myPath = paste0(basePath,\"regNet/validation-cohort/\")\n",
    "setwd(myPath)"
   ]
  },
  {
   "cell_type": "code",
   "execution_count": 5,
   "id": "c21a842a",
   "metadata": {},
   "outputs": [],
   "source": [
    "localRlibs = paste0(basePath,\"conda/lib/R/library/\")\n",
    "library(regNet)"
   ]
  },
  {
   "cell_type": "code",
   "execution_count": 4,
   "id": "fcf19164",
   "metadata": {},
   "outputs": [],
   "source": [
    "outDirectory = paste0(basePath,\"FiguresTables/\")"
   ]
  },
  {
   "cell_type": "code",
   "execution_count": 32,
   "id": "fef503a1",
   "metadata": {},
   "outputs": [],
   "source": [
    "# define met. pairs, and annotation colors \n",
    "tmp = readRDS(file = \"../../annotation/samplePairs-annotation-colors-clusters.rds\")\n",
    "patient_colors = tmp$patient_colors\n",
    "tissue_colors = tmp$tissue_colors\n",
    "discSampleMapping = tmp$sampleMapping\n",
    "discSubgroupPerSamplePair = tmp$subgroupPerSamplePair\n",
    "colAnnot = tmp$colAnnot\n",
    "annotColors = tmp$annotColors"
   ]
  },
  {
   "cell_type": "code",
   "execution_count": 10,
   "id": "4dc98857",
   "metadata": {
    "scrolled": true
   },
   "outputs": [
    {
     "data": {
      "text/html": [
       "<dl>\n",
       "\t<dt>$P78_BIn</dt>\n",
       "\t\t<dd><style>\n",
       ".list-inline {list-style: none; margin:0; padding: 0}\n",
       ".list-inline>li {display: inline-block}\n",
       ".list-inline>li:not(:last-child)::after {content: \"\\00b7\"; padding: 0 .5ex}\n",
       "</style>\n",
       "<ol class=list-inline><li>'P78_Br_1a'</li><li>'P78_In_3d'</li></ol>\n",
       "</dd>\n",
       "\t<dt>$P77_BLy</dt>\n",
       "\t\t<dd><style>\n",
       ".list-inline {list-style: none; margin:0; padding: 0}\n",
       ".list-inline>li {display: inline-block}\n",
       ".list-inline>li:not(:last-child)::after {content: \"\\00b7\"; padding: 0 .5ex}\n",
       "</style>\n",
       "<ol class=list-inline><li>'P77_Br_e'</li><li>'P77_Ly_1d'</li></ol>\n",
       "</dd>\n",
       "\t<dt>$P74_BLy</dt>\n",
       "\t\t<dd><style>\n",
       ".list-inline {list-style: none; margin:0; padding: 0}\n",
       ".list-inline>li {display: inline-block}\n",
       ".list-inline>li:not(:last-child)::after {content: \"\\00b7\"; padding: 0 .5ex}\n",
       "</style>\n",
       "<ol class=list-inline><li>'P74_Br_1a'</li><li>'P74_Ly_1a'</li></ol>\n",
       "</dd>\n",
       "\t<dt>$P13_BLy</dt>\n",
       "\t\t<dd><style>\n",
       ".list-inline {list-style: none; margin:0; padding: 0}\n",
       ".list-inline>li {display: inline-block}\n",
       ".list-inline>li:not(:last-child)::after {content: \"\\00b7\"; padding: 0 .5ex}\n",
       "</style>\n",
       "<ol class=list-inline><li>'P13_Br_2'</li><li>'P13_Ly_e'</li></ol>\n",
       "</dd>\n",
       "\t<dt>$P111_BLy</dt>\n",
       "\t\t<dd><style>\n",
       ".list-inline {list-style: none; margin:0; padding: 0}\n",
       ".list-inline>li {display: inline-block}\n",
       ".list-inline>li:not(:last-child)::after {content: \"\\00b7\"; padding: 0 .5ex}\n",
       "</style>\n",
       "<ol class=list-inline><li>'P111_Br_b'</li><li>'P111_Ly_1b'</li></ol>\n",
       "</dd>\n",
       "\t<dt>$P108_BLy</dt>\n",
       "\t\t<dd><style>\n",
       ".list-inline {list-style: none; margin:0; padding: 0}\n",
       ".list-inline>li {display: inline-block}\n",
       ".list-inline>li:not(:last-child)::after {content: \"\\00b7\"; padding: 0 .5ex}\n",
       "</style>\n",
       "<ol class=list-inline><li>'P108_Br_a'</li><li>'P108_Ly_2a'</li></ol>\n",
       "</dd>\n",
       "\t<dt>$P101_BLi</dt>\n",
       "\t\t<dd><style>\n",
       ".list-inline {list-style: none; margin:0; padding: 0}\n",
       ".list-inline>li {display: inline-block}\n",
       ".list-inline>li:not(:last-child)::after {content: \"\\00b7\"; padding: 0 .5ex}\n",
       "</style>\n",
       "<ol class=list-inline><li>'P101_Br_a'</li><li>'P101_Li_b'</li></ol>\n",
       "</dd>\n",
       "\t<dt>$P106_BLy</dt>\n",
       "\t\t<dd><style>\n",
       ".list-inline {list-style: none; margin:0; padding: 0}\n",
       ".list-inline>li {display: inline-block}\n",
       ".list-inline>li:not(:last-child)::after {content: \"\\00b7\"; padding: 0 .5ex}\n",
       "</style>\n",
       "<ol class=list-inline><li>'P106_Br_ns1'</li><li>'P106_Ly_1b'</li></ol>\n",
       "</dd>\n",
       "\t<dt>$P107_BLu</dt>\n",
       "\t\t<dd><style>\n",
       ".list-inline {list-style: none; margin:0; padding: 0}\n",
       ".list-inline>li {display: inline-block}\n",
       ".list-inline>li:not(:last-child)::after {content: \"\\00b7\"; padding: 0 .5ex}\n",
       "</style>\n",
       "<ol class=list-inline><li>'P107_Br_c'</li><li>'P107_Lu_a'</li></ol>\n",
       "</dd>\n",
       "</dl>\n"
      ],
      "text/latex": [
       "\\begin{description}\n",
       "\\item[\\$P78\\_BIn] \\begin{enumerate*}\n",
       "\\item 'P78\\_Br\\_1a'\n",
       "\\item 'P78\\_In\\_3d'\n",
       "\\end{enumerate*}\n",
       "\n",
       "\\item[\\$P77\\_BLy] \\begin{enumerate*}\n",
       "\\item 'P77\\_Br\\_e'\n",
       "\\item 'P77\\_Ly\\_1d'\n",
       "\\end{enumerate*}\n",
       "\n",
       "\\item[\\$P74\\_BLy] \\begin{enumerate*}\n",
       "\\item 'P74\\_Br\\_1a'\n",
       "\\item 'P74\\_Ly\\_1a'\n",
       "\\end{enumerate*}\n",
       "\n",
       "\\item[\\$P13\\_BLy] \\begin{enumerate*}\n",
       "\\item 'P13\\_Br\\_2'\n",
       "\\item 'P13\\_Ly\\_e'\n",
       "\\end{enumerate*}\n",
       "\n",
       "\\item[\\$P111\\_BLy] \\begin{enumerate*}\n",
       "\\item 'P111\\_Br\\_b'\n",
       "\\item 'P111\\_Ly\\_1b'\n",
       "\\end{enumerate*}\n",
       "\n",
       "\\item[\\$P108\\_BLy] \\begin{enumerate*}\n",
       "\\item 'P108\\_Br\\_a'\n",
       "\\item 'P108\\_Ly\\_2a'\n",
       "\\end{enumerate*}\n",
       "\n",
       "\\item[\\$P101\\_BLi] \\begin{enumerate*}\n",
       "\\item 'P101\\_Br\\_a'\n",
       "\\item 'P101\\_Li\\_b'\n",
       "\\end{enumerate*}\n",
       "\n",
       "\\item[\\$P106\\_BLy] \\begin{enumerate*}\n",
       "\\item 'P106\\_Br\\_ns1'\n",
       "\\item 'P106\\_Ly\\_1b'\n",
       "\\end{enumerate*}\n",
       "\n",
       "\\item[\\$P107\\_BLu] \\begin{enumerate*}\n",
       "\\item 'P107\\_Br\\_c'\n",
       "\\item 'P107\\_Lu\\_a'\n",
       "\\end{enumerate*}\n",
       "\n",
       "\\end{description}\n"
      ],
      "text/markdown": [
       "$P78_BIn\n",
       ":   1. 'P78_Br_1a'\n",
       "2. 'P78_In_3d'\n",
       "\n",
       "\n",
       "\n",
       "$P77_BLy\n",
       ":   1. 'P77_Br_e'\n",
       "2. 'P77_Ly_1d'\n",
       "\n",
       "\n",
       "\n",
       "$P74_BLy\n",
       ":   1. 'P74_Br_1a'\n",
       "2. 'P74_Ly_1a'\n",
       "\n",
       "\n",
       "\n",
       "$P13_BLy\n",
       ":   1. 'P13_Br_2'\n",
       "2. 'P13_Ly_e'\n",
       "\n",
       "\n",
       "\n",
       "$P111_BLy\n",
       ":   1. 'P111_Br_b'\n",
       "2. 'P111_Ly_1b'\n",
       "\n",
       "\n",
       "\n",
       "$P108_BLy\n",
       ":   1. 'P108_Br_a'\n",
       "2. 'P108_Ly_2a'\n",
       "\n",
       "\n",
       "\n",
       "$P101_BLi\n",
       ":   1. 'P101_Br_a'\n",
       "2. 'P101_Li_b'\n",
       "\n",
       "\n",
       "\n",
       "$P106_BLy\n",
       ":   1. 'P106_Br_ns1'\n",
       "2. 'P106_Ly_1b'\n",
       "\n",
       "\n",
       "\n",
       "$P107_BLu\n",
       ":   1. 'P107_Br_c'\n",
       "2. 'P107_Lu_a'\n",
       "\n",
       "\n",
       "\n",
       "\n",
       "\n"
      ],
      "text/plain": [
       "$P78_BIn\n",
       "[1] \"P78_Br_1a\" \"P78_In_3d\"\n",
       "\n",
       "$P77_BLy\n",
       "[1] \"P77_Br_e\"  \"P77_Ly_1d\"\n",
       "\n",
       "$P74_BLy\n",
       "[1] \"P74_Br_1a\" \"P74_Ly_1a\"\n",
       "\n",
       "$P13_BLy\n",
       "[1] \"P13_Br_2\" \"P13_Ly_e\"\n",
       "\n",
       "$P111_BLy\n",
       "[1] \"P111_Br_b\"  \"P111_Ly_1b\"\n",
       "\n",
       "$P108_BLy\n",
       "[1] \"P108_Br_a\"  \"P108_Ly_2a\"\n",
       "\n",
       "$P101_BLi\n",
       "[1] \"P101_Br_a\" \"P101_Li_b\"\n",
       "\n",
       "$P106_BLy\n",
       "[1] \"P106_Br_ns1\" \"P106_Ly_1b\" \n",
       "\n",
       "$P107_BLu\n",
       "[1] \"P107_Br_c\" \"P107_Lu_a\"\n"
      ]
     },
     "metadata": {},
     "output_type": "display_data"
    }
   ],
   "source": [
    "valiSampleMapping = list(P78_BIn = c('P78_Br_1a','P78_In_3d'), P77_BLy = c('P77_Br_e','P77_Ly_1d'),\n",
    "                  P74_BLy = c('P74_Br_1a','P74_Ly_1a'), P13_BLy = c('P13_Br_2','P13_Ly_e'),\n",
    "                  P111_BLy = c('P111_Br_b','P111_Ly_1b'), P108_BLy = c('P108_Br_a','P108_Ly_2a'),\n",
    "                  P101_BLi = c('P101_Br_a','P101_Li_b'),P106_BLy = c('P106_Br_ns1','P106_Ly_1b'),\n",
    "                   P107_BLu = c('P107_Br_c','P107_Lu_a'))\n",
    "valiSampleMapping"
   ]
  },
  {
   "cell_type": "code",
   "execution_count": 11,
   "id": "0df1eee9",
   "metadata": {},
   "outputs": [],
   "source": [
    "nbCPUs = 25\n",
    "localGeneCutoff = 30\n",
    "pValCutoff = 0.001\n",
    "colSumsThreshold = 0.001\n",
    "numOfNWs = 2\n",
    "networkName = \"TcgaMelanomaExprMeth\"\n",
    "dataSetName = \"MelBrainSys\""
   ]
  },
  {
   "cell_type": "markdown",
   "id": "c0d631c8",
   "metadata": {},
   "source": [
    "### define source genes\n",
    "these are all discovery cohort altered genes together"
   ]
  },
  {
   "cell_type": "code",
   "execution_count": 13,
   "id": "aaa53379",
   "metadata": {
    "scrolled": true
   },
   "outputs": [
    {
     "data": {
      "text/html": [
       "<style>\n",
       ".list-inline {list-style: none; margin:0; padding: 0}\n",
       ".list-inline>li {display: inline-block}\n",
       ".list-inline>li:not(:last-child)::after {content: \"\\00b7\"; padding: 0 .5ex}\n",
       "</style>\n",
       "<ol class=list-inline><li>'ABAT'</li><li>'ABCD2'</li><li>'ABCG1'</li><li>'ABI3'</li><li>'ABLIM1'</li><li>'ACSF2'</li></ol>\n"
      ],
      "text/latex": [
       "\\begin{enumerate*}\n",
       "\\item 'ABAT'\n",
       "\\item 'ABCD2'\n",
       "\\item 'ABCG1'\n",
       "\\item 'ABI3'\n",
       "\\item 'ABLIM1'\n",
       "\\item 'ACSF2'\n",
       "\\end{enumerate*}\n"
      ],
      "text/markdown": [
       "1. 'ABAT'\n",
       "2. 'ABCD2'\n",
       "3. 'ABCG1'\n",
       "4. 'ABI3'\n",
       "5. 'ABLIM1'\n",
       "6. 'ACSF2'\n",
       "\n",
       "\n"
      ],
      "text/plain": [
       "[1] \"ABAT\"   \"ABCD2\"  \"ABCG1\"  \"ABI3\"   \"ABLIM1\" \"ACSF2\" "
      ]
     },
     "metadata": {},
     "output_type": "display_data"
    },
    {
     "data": {
      "text/html": [
       "672"
      ],
      "text/latex": [
       "672"
      ],
      "text/markdown": [
       "672"
      ],
      "text/plain": [
       "[1] 672"
      ]
     },
     "metadata": {},
     "output_type": "display_data"
    },
    {
     "data": {
      "text/html": [
       "<style>\n",
       ".dl-inline {width: auto; margin:0; padding: 0}\n",
       ".dl-inline>dt, .dl-inline>dd {float: none; width: auto; display: inline-block}\n",
       ".dl-inline>dt::after {content: \":\\0020\"; padding-right: .5ex}\n",
       ".dl-inline>dt:not(:first-of-type) {padding-left: .5ex}\n",
       "</style><dl class=dl-inline><dt>P03_BLun</dt><dd>32</dd><dt>P04_BSki_1</dt><dd>59</dd><dt>P08_BSof_1</dt><dd>67</dd><dt>P08_BSof_2</dt><dd>66</dd><dt>P08_BSof_3</dt><dd>99</dd><dt>P16_BLun</dt><dd>18</dd><dt>P18_BLun_1</dt><dd>29</dd><dt>P18_BLun_2</dt><dd>41</dd><dt>P39_BLun</dt><dd>116</dd><dt>P42_BLym_1</dt><dd>340</dd><dt>P42_BLym_2</dt><dd>63</dd></dl>\n"
      ],
      "text/latex": [
       "\\begin{description*}\n",
       "\\item[P03\\textbackslash{}\\_BLun] 32\n",
       "\\item[P04\\textbackslash{}\\_BSki\\textbackslash{}\\_1] 59\n",
       "\\item[P08\\textbackslash{}\\_BSof\\textbackslash{}\\_1] 67\n",
       "\\item[P08\\textbackslash{}\\_BSof\\textbackslash{}\\_2] 66\n",
       "\\item[P08\\textbackslash{}\\_BSof\\textbackslash{}\\_3] 99\n",
       "\\item[P16\\textbackslash{}\\_BLun] 18\n",
       "\\item[P18\\textbackslash{}\\_BLun\\textbackslash{}\\_1] 29\n",
       "\\item[P18\\textbackslash{}\\_BLun\\textbackslash{}\\_2] 41\n",
       "\\item[P39\\textbackslash{}\\_BLun] 116\n",
       "\\item[P42\\textbackslash{}\\_BLym\\textbackslash{}\\_1] 340\n",
       "\\item[P42\\textbackslash{}\\_BLym\\textbackslash{}\\_2] 63\n",
       "\\end{description*}\n"
      ],
      "text/markdown": [
       "P03_BLun\n",
       ":   32P04_BSki_1\n",
       ":   59P08_BSof_1\n",
       ":   67P08_BSof_2\n",
       ":   66P08_BSof_3\n",
       ":   99P16_BLun\n",
       ":   18P18_BLun_1\n",
       ":   29P18_BLun_2\n",
       ":   41P39_BLun\n",
       ":   116P42_BLym_1\n",
       ":   340P42_BLym_2\n",
       ":   63\n",
       "\n"
      ],
      "text/plain": [
       "  P03_BLun P04_BSki_1 P08_BSof_1 P08_BSof_2 P08_BSof_3   P16_BLun P18_BLun_1 \n",
       "        32         59         67         66         99         18         29 \n",
       "P18_BLun_2   P39_BLun P42_BLym_1 P42_BLym_2 \n",
       "        41        116        340         63 "
      ]
     },
     "metadata": {},
     "output_type": "display_data"
    }
   ],
   "source": [
    "tmp = readRDS(file = \"../../altered-genes-per-patient.rds\")\n",
    "regGenesPerPat = tmp$regGenesPerPat\n",
    "formerRegGenes = unique(sort(unname(unlist(regGenesPerPat))))\n",
    "head(formerRegGenes)\n",
    "length(formerRegGenes)\n",
    "sapply(regGenesPerPat,length)"
   ]
  },
  {
   "cell_type": "code",
   "execution_count": 14,
   "id": "36ee6d33",
   "metadata": {},
   "outputs": [],
   "source": [
    "myFullDataSet = loadGeneExpressionAndCopyNumberDataSet(\n",
    "    geneExpressionFile = \"MelBrainSys_ExpressionData_2022_allNeededGenes_regNet.txt\", \n",
    "    geneCopyNumberFile = \"MelBrainSys_MethylationData_2022_allNeededGenes_regNet.txt\", \n",
    "    path = \"Data/\" )\n",
    "allGenesNWs = myFullDataSet$genes\n",
    "numGenes = length(allGenesNWs)"
   ]
  },
  {
   "cell_type": "markdown",
   "id": "354b8f7e",
   "metadata": {},
   "source": [
    "## impacts on all genes"
   ]
  },
  {
   "cell_type": "code",
   "execution_count": 15,
   "id": "f3d4ea91",
   "metadata": {},
   "outputs": [],
   "source": [
    "calc1sampleImpacts = function(paramSets=paramSets,DGEsDMPs=DGEsDMPs,nbCPUs=nbCPUs) {\n",
    "    allImpacts1 = mclapply(X = paramSets, mc.cores = nbCPUs, FUN = function(params) {\n",
    "        sample = params[\"sample\"]\n",
    "        nw = params[\"nw\"]\n",
    "        path = paste0(myPath,\"TrainNetwork-\",nw,\"/\")\n",
    "        impacts = getImpacts_PatientSpecificAbsoluteImpacts(\n",
    "            patient = sample, sourceGenes = DGEsDMPs, targetGenes = allGenesNWs, \n",
    "            dataSetName = dataSetName,networkName = networkName, \n",
    "            pValCutoff = pValCutoff, localGeneCutoff = localGeneCutoff, \n",
    "            colSumsThreshold = colSumsThreshold, path = path, \n",
    "            outputFile =  paste0(\"tmp-\",nw,\"-\",sample), output=F )\n",
    "        f = file(description = logFile,open = \"a\")\n",
    "        writeLines(con = f,text = paste0(\"netw \",nw,\", sample \",sample))\n",
    "        close(f)\n",
    "        rownames(impacts) = DGEsDMPs\n",
    "        as.matrix(impacts[,-1])\n",
    "    })\n",
    "}"
   ]
  },
  {
   "cell_type": "code",
   "execution_count": 16,
   "id": "07f6ff08",
   "metadata": {
    "scrolled": true
   },
   "outputs": [
    {
     "name": "stderr",
     "output_type": "stream",
     "text": [
      "P78_BIn\n",
      "\n",
      "  P78_Br_1a\n",
      "\n",
      "    513 DGEsDMPs\n",
      "\n",
      "  P78_In_3d\n",
      "\n",
      "P77_BLy\n",
      "\n",
      "  P77_Br_e\n",
      "\n",
      "    513 DGEsDMPs\n",
      "\n",
      "  P77_Ly_1d\n",
      "\n",
      "P74_BLy\n",
      "\n",
      "  P74_Br_1a\n",
      "\n",
      "    513 DGEsDMPs\n",
      "\n",
      "  P74_Ly_1a\n",
      "\n",
      "P13_BLy\n",
      "\n",
      "  P13_Br_2\n",
      "\n",
      "    513 DGEsDMPs\n",
      "\n",
      "  P13_Ly_e\n",
      "\n",
      "P111_BLy\n",
      "\n",
      "  P111_Br_b\n",
      "\n",
      "    513 DGEsDMPs\n",
      "\n",
      "  P111_Ly_1b\n",
      "\n",
      "P108_BLy\n",
      "\n",
      "  P108_Br_a\n",
      "\n",
      "    513 DGEsDMPs\n",
      "\n",
      "  P108_Ly_2a\n",
      "\n",
      "P101_BLi\n",
      "\n",
      "  P101_Br_a\n",
      "\n",
      "    513 DGEsDMPs\n",
      "\n",
      "  P101_Li_b\n",
      "\n",
      "P106_BLy\n",
      "\n",
      "  P106_Br_ns1\n",
      "\n",
      "    513 DGEsDMPs\n",
      "\n",
      "  P106_Ly_1b\n",
      "\n",
      "P107_BLu\n",
      "\n",
      "  P107_Br_c\n",
      "\n",
      "    513 DGEsDMPs\n",
      "\n",
      "  P107_Lu_a\n",
      "\n"
     ]
    },
    {
     "data": {
      "text/plain": [
       "Time difference of 3 mins"
      ]
     },
     "metadata": {},
     "output_type": "display_data"
    }
   ],
   "source": [
    "# extract for each sample pair, each sample, each one of the 25 NWs, DGEsDMPs impacts on all other genes:\n",
    "logFile=\"log-getImpacts.txt\";\n",
    "if(file.exists(logFile)){file.remove(logFile)}\n",
    "startt = Sys.time()\n",
    "allImpacts = NULL\n",
    "for( samplePair in names(valiSampleMapping)) {\n",
    "    message(samplePair)\n",
    "    samples = valiSampleMapping[[samplePair]]\n",
    "    message(\"  \",samples[1])\n",
    "    paramSets = lapply(samples[1], function(sample) lapply(1:numOfNWs, function(nw) c(sample=sample, nw=nw)))\n",
    "    paramSets = unlist(paramSets,recursive = F)\n",
    "    DGEsDMPs = formerRegGenes\n",
    "    DGEsDMPs = intersect(DGEsDMPs, allGenesNWs) # only DGEs that are in our data\n",
    "    message(\"    \",length(DGEsDMPs), \" DGEsDMPs\")\n",
    "    brainImpacts = calc1sampleImpacts(paramSets = paramSets, DGEsDMPs = DGEsDMPs,nbCPUs = nbCPUs)\n",
    "\n",
    "    message(\"  \",samples[2])\n",
    "    paramSets = lapply(samples[2], function(sample) lapply(1:numOfNWs, function(nw) c(sample=sample, nw=nw)))\n",
    "    paramSets = unlist(paramSets,recursive = F)\n",
    "    nonBrainImpacts = calc1sampleImpacts(paramSets = paramSets, DGEsDMPs = DGEsDMPs,nbCPUs = nbCPUs)\n",
    "    tmp = list(brainImpacts, nonBrainImpacts)\n",
    "    names(tmp) = samples\n",
    "    allImpacts[[length(allImpacts)+1]] = tmp\n",
    "}\n",
    "endt = Sys.time()\n",
    "round(difftime(endt, startt,units=\"min\"))\n",
    "names(allImpacts) = names(valiSampleMapping)\n",
    "# ca 5 min for 2 networks and 10 met. pairs"
   ]
  },
  {
   "cell_type": "code",
   "execution_count": 17,
   "id": "71426108",
   "metadata": {
    "scrolled": true
   },
   "outputs": [
    {
     "data": {
      "text/html": [
       "TRUE"
      ],
      "text/latex": [
       "TRUE"
      ],
      "text/markdown": [
       "TRUE"
      ],
      "text/plain": [
       "[1] TRUE"
      ]
     },
     "metadata": {},
     "output_type": "display_data"
    },
    {
     "name": "stderr",
     "output_type": "stream",
     "text": [
      "P78_BIn\n",
      "\n",
      "   P78_Br_1a\n",
      "\n",
      "   2\n",
      "\n",
      "   P78_In_3d\n",
      "\n",
      "   2\n",
      "\n",
      "P77_BLy\n",
      "\n",
      "   P77_Br_e\n",
      "\n",
      "   2\n",
      "\n",
      "   P77_Ly_1d\n",
      "\n",
      "   2\n",
      "\n",
      "P74_BLy\n",
      "\n",
      "   P74_Br_1a\n",
      "\n",
      "   2\n",
      "\n",
      "   P74_Ly_1a\n",
      "\n",
      "   2\n",
      "\n",
      "P13_BLy\n",
      "\n",
      "   P13_Br_2\n",
      "\n",
      "   2\n",
      "\n",
      "   P13_Ly_e\n",
      "\n",
      "   2\n",
      "\n",
      "P111_BLy\n",
      "\n",
      "   P111_Br_b\n",
      "\n",
      "   2\n",
      "\n",
      "   P111_Ly_1b\n",
      "\n",
      "   2\n",
      "\n",
      "P108_BLy\n",
      "\n",
      "   P108_Br_a\n",
      "\n",
      "   2\n",
      "\n",
      "   P108_Ly_2a\n",
      "\n",
      "   2\n",
      "\n",
      "P101_BLi\n",
      "\n",
      "   P101_Br_a\n",
      "\n",
      "   2\n",
      "\n",
      "   P101_Li_b\n",
      "\n",
      "   2\n",
      "\n",
      "P106_BLy\n",
      "\n",
      "   P106_Br_ns1\n",
      "\n",
      "   2\n",
      "\n",
      "   P106_Ly_1b\n",
      "\n",
      "   2\n",
      "\n",
      "P107_BLu\n",
      "\n",
      "   P107_Br_c\n",
      "\n",
      "   2\n",
      "\n",
      "   P107_Lu_a\n",
      "\n",
      "   2\n",
      "\n"
     ]
    },
    {
     "data": {
      "text/plain": [
       "Time difference of 4 mins"
      ]
     },
     "metadata": {},
     "output_type": "display_data"
    }
   ],
   "source": [
    "# calc. median impacts for each sample over all networks\n",
    "#  and from these calc. log median impact ratios for each sample pair\n",
    "nbCPUs=8\n",
    "if(file.exists(logFile)){file.remove(logFile)}\n",
    "startt=Sys.time()\n",
    "logMedianImpRatios = NULL\n",
    "\n",
    "for(sp in names(allImpacts)) {\n",
    "    message(sp)\n",
    "    medianImpacts = NULL\n",
    "    for( sampleName in names(allImpacts[[sp]])) {\n",
    "        message(\"   \",sampleName)\n",
    "        impacts = allImpacts[[sp]][[sampleName]]\n",
    "        message(\"   \",length(impacts))\n",
    "        numSourcGenes = nrow(impacts[[1]])\n",
    "        #numSourcGenes\n",
    "        arr = array(data = NA,dim = c(numOfNWs,numSourcGenes,numGenes))\n",
    "        for(j in 1:length(impacts)) {\n",
    "            arr[j,,]=impacts[[j]]\n",
    "        }\n",
    "        medianSampleImpacts = mclapply(1:numGenes,mc.cores = nbCPUs,function(c) {\n",
    "            sapply(1:numSourcGenes, function(r)\n",
    "                median(x=arr[,r,c], na.rm=T)\n",
    "            )\n",
    "        })\n",
    "        medianSampleImpacts = do.call(cbind,medianSampleImpacts)\n",
    "        rownames(medianSampleImpacts)=rownames(impacts[[1]])\n",
    "        colnames(medianSampleImpacts)=allGenesNWs\n",
    "        medianImpacts[[length(medianImpacts)+1]] = medianSampleImpacts\n",
    "        f = file(description = logFile,open = \"a\")\n",
    "        writeLines(con = f,text = paste0(\"sample \",sampleName))\n",
    "        close(f)\n",
    "    }\n",
    "    names(medianImpacts) = names(allImpacts[[sp]])\n",
    "    # calc. log median impact ratios \n",
    "    logMedianImpRatios[[length(logMedianImpRatios)+1]] = \n",
    "            log2(medianImpacts[[1]]/medianImpacts[[2]])\n",
    "}\n",
    "# 1-3 min\n",
    "names(logMedianImpRatios) = names(allImpacts)\n",
    "endt=Sys.time()\n",
    "round(difftime(endt, startt,units=\"min\"))"
   ]
  },
  {
   "cell_type": "code",
   "execution_count": 18,
   "id": "3d92f8bb",
   "metadata": {},
   "outputs": [
    {
     "data": {
      "text/html": [
       "<table class=\"dataframe\">\n",
       "<caption>A matrix: 2 × 5 of type dbl</caption>\n",
       "<thead>\n",
       "\t<tr><th></th><th scope=col>NOC2L</th><th scope=col>KLHL17</th><th scope=col>HES4</th><th scope=col>ISG15</th><th scope=col>AGRN</th></tr>\n",
       "</thead>\n",
       "<tbody>\n",
       "\t<tr><th scope=row>ABAT</th><td> 0.325141</td><td> 0.6462678</td><td> 1.427062</td><td> 0.6297808</td><td>-0.2784627</td></tr>\n",
       "\t<tr><th scope=row>ABCG1</th><td>-1.354390</td><td>-1.9244860</td><td>-1.757669</td><td>-1.5916911</td><td>-1.6629344</td></tr>\n",
       "</tbody>\n",
       "</table>\n"
      ],
      "text/latex": [
       "A matrix: 2 × 5 of type dbl\n",
       "\\begin{tabular}{r|lllll}\n",
       "  & NOC2L & KLHL17 & HES4 & ISG15 & AGRN\\\\\n",
       "\\hline\n",
       "\tABAT &  0.325141 &  0.6462678 &  1.427062 &  0.6297808 & -0.2784627\\\\\n",
       "\tABCG1 & -1.354390 & -1.9244860 & -1.757669 & -1.5916911 & -1.6629344\\\\\n",
       "\\end{tabular}\n"
      ],
      "text/markdown": [
       "\n",
       "A matrix: 2 × 5 of type dbl\n",
       "\n",
       "| <!--/--> | NOC2L | KLHL17 | HES4 | ISG15 | AGRN |\n",
       "|---|---|---|---|---|---|\n",
       "| ABAT |  0.325141 |  0.6462678 |  1.427062 |  0.6297808 | -0.2784627 |\n",
       "| ABCG1 | -1.354390 | -1.9244860 | -1.757669 | -1.5916911 | -1.6629344 |\n",
       "\n"
      ],
      "text/plain": [
       "      NOC2L     KLHL17     HES4      ISG15      AGRN      \n",
       "ABAT   0.325141  0.6462678  1.427062  0.6297808 -0.2784627\n",
       "ABCG1 -1.354390 -1.9244860 -1.757669 -1.5916911 -1.6629344"
      ]
     },
     "metadata": {},
     "output_type": "display_data"
    }
   ],
   "source": [
    "logMedianImpRatios[[1]][1:2,1:5]\n",
    "# for each metastases pair source genes x target genes matrix with impact log ratios on these target genes"
   ]
  },
  {
   "cell_type": "code",
   "execution_count": 19,
   "id": "cc73b6f9",
   "metadata": {},
   "outputs": [
    {
     "data": {
      "text/html": [
       "<style>\n",
       ".list-inline {list-style: none; margin:0; padding: 0}\n",
       ".list-inline>li {display: inline-block}\n",
       ".list-inline>li:not(:last-child)::after {content: \"\\00b7\"; padding: 0 .5ex}\n",
       "</style>\n",
       "<ol class=list-inline><li>'P78_BIn'</li><li>'P77_BLy'</li><li>'P74_BLy'</li></ol>\n"
      ],
      "text/latex": [
       "\\begin{enumerate*}\n",
       "\\item 'P78\\_BIn'\n",
       "\\item 'P77\\_BLy'\n",
       "\\item 'P74\\_BLy'\n",
       "\\end{enumerate*}\n"
      ],
      "text/markdown": [
       "1. 'P78_BIn'\n",
       "2. 'P77_BLy'\n",
       "3. 'P74_BLy'\n",
       "\n",
       "\n"
      ],
      "text/plain": [
       "[1] \"P78_BIn\" \"P77_BLy\" \"P74_BLy\""
      ]
     },
     "metadata": {},
     "output_type": "display_data"
    },
    {
     "data": {
      "text/html": [
       "<style>\n",
       ".dl-inline {width: auto; margin:0; padding: 0}\n",
       ".dl-inline>dt, .dl-inline>dd {float: none; width: auto; display: inline-block}\n",
       ".dl-inline>dt::after {content: \":\\0020\"; padding-right: .5ex}\n",
       ".dl-inline>dt:not(:first-of-type) {padding-left: .5ex}\n",
       "</style><dl class=dl-inline><dt>NOC2L</dt><dd>-0.263023630286988</dd><dt>KLHL17</dt><dd>0.0968714963669013</dd><dt>HES4</dt><dd>0.340658334206528</dd><dt>ISG15</dt><dd>0.00695157481559187</dd></dl>\n"
      ],
      "text/latex": [
       "\\begin{description*}\n",
       "\\item[NOC2L] -0.263023630286988\n",
       "\\item[KLHL17] 0.0968714963669013\n",
       "\\item[HES4] 0.340658334206528\n",
       "\\item[ISG15] 0.00695157481559187\n",
       "\\end{description*}\n"
      ],
      "text/markdown": [
       "NOC2L\n",
       ":   -0.263023630286988KLHL17\n",
       ":   0.0968714963669013HES4\n",
       ":   0.340658334206528ISG15\n",
       ":   0.00695157481559187\n",
       "\n"
      ],
      "text/plain": [
       "       NOC2L       KLHL17         HES4        ISG15 \n",
       "-0.263023630  0.096871496  0.340658334  0.006951575 "
      ]
     },
     "metadata": {},
     "output_type": "display_data"
    },
    {
     "data": {
      "text/html": [
       "<table class=\"dataframe\">\n",
       "<caption>A matrix: 3 × 9 of type dbl</caption>\n",
       "<thead>\n",
       "\t<tr><th></th><th scope=col>P78_BIn</th><th scope=col>P77_BLy</th><th scope=col>P74_BLy</th><th scope=col>P13_BLy</th><th scope=col>P111_BLy</th><th scope=col>P108_BLy</th><th scope=col>P101_BLi</th><th scope=col>P106_BLy</th><th scope=col>P107_BLu</th></tr>\n",
       "</thead>\n",
       "<tbody>\n",
       "\t<tr><th scope=row>NOC2L</th><td>-0.2630236</td><td>-0.17565551</td><td>-0.38669388</td><td>-0.9313210</td><td>-0.18054574</td><td>-0.9543406</td><td>-0.1814806</td><td> 0.1546366</td><td>-0.3399521</td></tr>\n",
       "\t<tr><th scope=row>KLHL17</th><td> 0.0968715</td><td> 0.03899255</td><td>-0.02719528</td><td>-0.7743659</td><td> 0.10563785</td><td>-0.9168528</td><td>-0.1678398</td><td>-0.3410315</td><td> 0.3941055</td></tr>\n",
       "\t<tr><th scope=row>HES4</th><td> 0.3406583</td><td>-0.35491624</td><td>-0.32162921</td><td>-2.8308872</td><td> 0.09440823</td><td>-1.3237892</td><td>-1.4193797</td><td> 0.6941876</td><td>-0.7919846</td></tr>\n",
       "</tbody>\n",
       "</table>\n"
      ],
      "text/latex": [
       "A matrix: 3 × 9 of type dbl\n",
       "\\begin{tabular}{r|lllllllll}\n",
       "  & P78\\_BIn & P77\\_BLy & P74\\_BLy & P13\\_BLy & P111\\_BLy & P108\\_BLy & P101\\_BLi & P106\\_BLy & P107\\_BLu\\\\\n",
       "\\hline\n",
       "\tNOC2L & -0.2630236 & -0.17565551 & -0.38669388 & -0.9313210 & -0.18054574 & -0.9543406 & -0.1814806 &  0.1546366 & -0.3399521\\\\\n",
       "\tKLHL17 &  0.0968715 &  0.03899255 & -0.02719528 & -0.7743659 &  0.10563785 & -0.9168528 & -0.1678398 & -0.3410315 &  0.3941055\\\\\n",
       "\tHES4 &  0.3406583 & -0.35491624 & -0.32162921 & -2.8308872 &  0.09440823 & -1.3237892 & -1.4193797 &  0.6941876 & -0.7919846\\\\\n",
       "\\end{tabular}\n"
      ],
      "text/markdown": [
       "\n",
       "A matrix: 3 × 9 of type dbl\n",
       "\n",
       "| <!--/--> | P78_BIn | P77_BLy | P74_BLy | P13_BLy | P111_BLy | P108_BLy | P101_BLi | P106_BLy | P107_BLu |\n",
       "|---|---|---|---|---|---|---|---|---|---|\n",
       "| NOC2L | -0.2630236 | -0.17565551 | -0.38669388 | -0.9313210 | -0.18054574 | -0.9543406 | -0.1814806 |  0.1546366 | -0.3399521 |\n",
       "| KLHL17 |  0.0968715 |  0.03899255 | -0.02719528 | -0.7743659 |  0.10563785 | -0.9168528 | -0.1678398 | -0.3410315 |  0.3941055 |\n",
       "| HES4 |  0.3406583 | -0.35491624 | -0.32162921 | -2.8308872 |  0.09440823 | -1.3237892 | -1.4193797 |  0.6941876 | -0.7919846 |\n",
       "\n"
      ],
      "text/plain": [
       "       P78_BIn    P77_BLy     P74_BLy     P13_BLy    P111_BLy    P108_BLy  \n",
       "NOC2L  -0.2630236 -0.17565551 -0.38669388 -0.9313210 -0.18054574 -0.9543406\n",
       "KLHL17  0.0968715  0.03899255 -0.02719528 -0.7743659  0.10563785 -0.9168528\n",
       "HES4    0.3406583 -0.35491624 -0.32162921 -2.8308872  0.09440823 -1.3237892\n",
       "       P101_BLi   P106_BLy   P107_BLu  \n",
       "NOC2L  -0.1814806  0.1546366 -0.3399521\n",
       "KLHL17 -0.1678398 -0.3410315  0.3941055\n",
       "HES4   -1.4193797  0.6941876 -0.7919846"
      ]
     },
     "metadata": {},
     "output_type": "display_data"
    },
    {
     "data": {
      "text/html": [
       "<style>\n",
       ".list-inline {list-style: none; margin:0; padding: 0}\n",
       ".list-inline>li {display: inline-block}\n",
       ".list-inline>li:not(:last-child)::after {content: \"\\00b7\"; padding: 0 .5ex}\n",
       "</style>\n",
       "<ol class=list-inline><li>8251</li><li>9</li></ol>\n"
      ],
      "text/latex": [
       "\\begin{enumerate*}\n",
       "\\item 8251\n",
       "\\item 9\n",
       "\\end{enumerate*}\n"
      ],
      "text/markdown": [
       "1. 8251\n",
       "2. 9\n",
       "\n",
       "\n"
      ],
      "text/plain": [
       "[1] 8251    9"
      ]
     },
     "metadata": {},
     "output_type": "display_data"
    }
   ],
   "source": [
    "# and now mean of log median imp ratio over source genes\n",
    "meanLogMedianImpRatios=NULL\n",
    "for(sp in names(logMedianImpRatios)) {\n",
    "    meanLogMedianImpRatios[[length(meanLogMedianImpRatios)+1]] = \n",
    "        apply(logMedianImpRatios[[sp]], 2,function(m) mean(m,na.rm=T))\n",
    "}\n",
    "names(meanLogMedianImpRatios) = names(logMedianImpRatios)\n",
    "names(meanLogMedianImpRatios)[1:3]\n",
    "head(meanLogMedianImpRatios[[1]],4)\n",
    "meanLogMedianImpRatiosMat = sapply(meanLogMedianImpRatios,function(v) v)\n",
    "head(meanLogMedianImpRatiosMat,3)\n",
    "dim(meanLogMedianImpRatiosMat)"
   ]
  },
  {
   "cell_type": "code",
   "execution_count": 20,
   "id": "4af1c483",
   "metadata": {},
   "outputs": [],
   "source": [
    "meanLogMedianImpRatiosMatValiCoh = meanLogMedianImpRatiosMat"
   ]
  },
  {
   "cell_type": "markdown",
   "id": "60a97dff",
   "metadata": {},
   "source": [
    "### impact ratios within discovery cohort"
   ]
  },
  {
   "cell_type": "code",
   "execution_count": 21,
   "id": "d63eaebc",
   "metadata": {},
   "outputs": [
    {
     "data": {
      "text/html": [
       "<table class=\"dataframe\">\n",
       "<caption>A matrix: 2 × 11 of type dbl</caption>\n",
       "<thead>\n",
       "\t<tr><th></th><th scope=col>P03_BLun</th><th scope=col>P04_BSki_1</th><th scope=col>P08_BSof_1</th><th scope=col>P08_BSof_2</th><th scope=col>P08_BSof_3</th><th scope=col>P16_BLun</th><th scope=col>P18_BLun_1</th><th scope=col>P18_BLun_2</th><th scope=col>P39_BLun</th><th scope=col>P42_BLym_1</th><th scope=col>P42_BLym_2</th></tr>\n",
       "</thead>\n",
       "<tbody>\n",
       "\t<tr><th scope=row>NOC2L</th><td>-0.5131848</td><td>0.2623647</td><td>-0.8237658</td><td>-0.04970504</td><td>-0.3760514</td><td> 0.197820589</td><td>-0.2918643</td><td>-0.6056519</td><td>-1.000944</td><td>0.4271530</td><td>-0.3100993</td></tr>\n",
       "\t<tr><th scope=row>KLHL17</th><td>-0.3754720</td><td>0.5195951</td><td>-0.8366981</td><td>-0.26829236</td><td>-0.3536398</td><td>-0.008449568</td><td>-0.9086794</td><td>-0.5893162</td><td>-1.120816</td><td>0.3428841</td><td>-0.2997867</td></tr>\n",
       "</tbody>\n",
       "</table>\n"
      ],
      "text/latex": [
       "A matrix: 2 × 11 of type dbl\n",
       "\\begin{tabular}{r|lllllllllll}\n",
       "  & P03\\_BLun & P04\\_BSki\\_1 & P08\\_BSof\\_1 & P08\\_BSof\\_2 & P08\\_BSof\\_3 & P16\\_BLun & P18\\_BLun\\_1 & P18\\_BLun\\_2 & P39\\_BLun & P42\\_BLym\\_1 & P42\\_BLym\\_2\\\\\n",
       "\\hline\n",
       "\tNOC2L & -0.5131848 & 0.2623647 & -0.8237658 & -0.04970504 & -0.3760514 &  0.197820589 & -0.2918643 & -0.6056519 & -1.000944 & 0.4271530 & -0.3100993\\\\\n",
       "\tKLHL17 & -0.3754720 & 0.5195951 & -0.8366981 & -0.26829236 & -0.3536398 & -0.008449568 & -0.9086794 & -0.5893162 & -1.120816 & 0.3428841 & -0.2997867\\\\\n",
       "\\end{tabular}\n"
      ],
      "text/markdown": [
       "\n",
       "A matrix: 2 × 11 of type dbl\n",
       "\n",
       "| <!--/--> | P03_BLun | P04_BSki_1 | P08_BSof_1 | P08_BSof_2 | P08_BSof_3 | P16_BLun | P18_BLun_1 | P18_BLun_2 | P39_BLun | P42_BLym_1 | P42_BLym_2 |\n",
       "|---|---|---|---|---|---|---|---|---|---|---|---|\n",
       "| NOC2L | -0.5131848 | 0.2623647 | -0.8237658 | -0.04970504 | -0.3760514 |  0.197820589 | -0.2918643 | -0.6056519 | -1.000944 | 0.4271530 | -0.3100993 |\n",
       "| KLHL17 | -0.3754720 | 0.5195951 | -0.8366981 | -0.26829236 | -0.3536398 | -0.008449568 | -0.9086794 | -0.5893162 | -1.120816 | 0.3428841 | -0.2997867 |\n",
       "\n"
      ],
      "text/plain": [
       "       P03_BLun   P04_BSki_1 P08_BSof_1 P08_BSof_2  P08_BSof_3 P16_BLun    \n",
       "NOC2L  -0.5131848 0.2623647  -0.8237658 -0.04970504 -0.3760514  0.197820589\n",
       "KLHL17 -0.3754720 0.5195951  -0.8366981 -0.26829236 -0.3536398 -0.008449568\n",
       "       P18_BLun_1 P18_BLun_2 P39_BLun  P42_BLym_1 P42_BLym_2\n",
       "NOC2L  -0.2918643 -0.6056519 -1.000944 0.4271530  -0.3100993\n",
       "KLHL17 -0.9086794 -0.5893162 -1.120816 0.3428841  -0.2997867"
      ]
     },
     "metadata": {},
     "output_type": "display_data"
    }
   ],
   "source": [
    "tmp = readRDS(file=\"../../metPairs-impactRatios-onAllTargetGenes.rds\")\n",
    "meanLogMedianImpRatiosMatDiscCoh = tmp$meanLogMedianImpRatiosMat\n",
    "head(meanLogMedianImpRatiosMatDiscCoh,2)"
   ]
  },
  {
   "cell_type": "code",
   "execution_count": 22,
   "id": "5995f621",
   "metadata": {},
   "outputs": [
    {
     "data": {
      "text/html": [
       "8251"
      ],
      "text/latex": [
       "8251"
      ],
      "text/markdown": [
       "8251"
      ],
      "text/plain": [
       "[1] 8251"
      ]
     },
     "metadata": {},
     "output_type": "display_data"
    }
   ],
   "source": [
    "commonGenes = intersect(rownames(meanLogMedianImpRatiosMatDiscCoh), \n",
    "                        rownames(meanLogMedianImpRatiosMatValiCoh))\n",
    "length(commonGenes)"
   ]
  },
  {
   "cell_type": "code",
   "execution_count": 23,
   "id": "ff02da71",
   "metadata": {},
   "outputs": [
    {
     "data": {
      "text/html": [
       "<table class=\"dataframe\">\n",
       "<caption>A matrix: 3 × 20 of type dbl</caption>\n",
       "<thead>\n",
       "\t<tr><th></th><th scope=col>P78_BIn</th><th scope=col>P77_BLy</th><th scope=col>P74_BLy</th><th scope=col>P13_BLy</th><th scope=col>P111_BLy</th><th scope=col>P108_BLy</th><th scope=col>P101_BLi</th><th scope=col>P106_BLy</th><th scope=col>P107_BLu</th><th scope=col>P03_BLun</th><th scope=col>P04_BSki_1</th><th scope=col>P08_BSof_1</th><th scope=col>P08_BSof_2</th><th scope=col>P08_BSof_3</th><th scope=col>P16_BLun</th><th scope=col>P18_BLun_1</th><th scope=col>P18_BLun_2</th><th scope=col>P39_BLun</th><th scope=col>P42_BLym_1</th><th scope=col>P42_BLym_2</th></tr>\n",
       "</thead>\n",
       "<tbody>\n",
       "\t<tr><th scope=row>NOC2L</th><td>-0.2630236</td><td>-0.17565551</td><td>-0.38669388</td><td>-0.9313210</td><td>-0.18054574</td><td>-0.9543406</td><td>-0.1814806</td><td> 0.1546366</td><td>-0.3399521</td><td>-0.5131848</td><td>0.2623647</td><td>-0.8237658</td><td>-0.04970504</td><td>-0.3760514</td><td> 0.197820589</td><td>-0.2918643</td><td>-0.6056519</td><td>-1.000944</td><td> 0.4271530</td><td>-0.3100993</td></tr>\n",
       "\t<tr><th scope=row>KLHL17</th><td> 0.0968715</td><td> 0.03899255</td><td>-0.02719528</td><td>-0.7743659</td><td> 0.10563785</td><td>-0.9168528</td><td>-0.1678398</td><td>-0.3410315</td><td> 0.3941055</td><td>-0.3754720</td><td>0.5195951</td><td>-0.8366981</td><td>-0.26829236</td><td>-0.3536398</td><td>-0.008449568</td><td>-0.9086794</td><td>-0.5893162</td><td>-1.120816</td><td> 0.3428841</td><td>-0.2997867</td></tr>\n",
       "\t<tr><th scope=row>HES4</th><td> 0.3406583</td><td>-0.35491624</td><td>-0.32162921</td><td>-2.8308872</td><td> 0.09440823</td><td>-1.3237892</td><td>-1.4193797</td><td> 0.6941876</td><td>-0.7919846</td><td>-1.0220673</td><td>0.3757407</td><td>-0.7503114</td><td>-0.01497900</td><td> 0.2059771</td><td>-1.191426658</td><td>-0.1602704</td><td>-0.8164230</td><td>-1.936973</td><td>-1.0808609</td><td>-0.5177954</td></tr>\n",
       "</tbody>\n",
       "</table>\n"
      ],
      "text/latex": [
       "A matrix: 3 × 20 of type dbl\n",
       "\\begin{tabular}{r|llllllllllllllllllll}\n",
       "  & P78\\_BIn & P77\\_BLy & P74\\_BLy & P13\\_BLy & P111\\_BLy & P108\\_BLy & P101\\_BLi & P106\\_BLy & P107\\_BLu & P03\\_BLun & P04\\_BSki\\_1 & P08\\_BSof\\_1 & P08\\_BSof\\_2 & P08\\_BSof\\_3 & P16\\_BLun & P18\\_BLun\\_1 & P18\\_BLun\\_2 & P39\\_BLun & P42\\_BLym\\_1 & P42\\_BLym\\_2\\\\\n",
       "\\hline\n",
       "\tNOC2L & -0.2630236 & -0.17565551 & -0.38669388 & -0.9313210 & -0.18054574 & -0.9543406 & -0.1814806 &  0.1546366 & -0.3399521 & -0.5131848 & 0.2623647 & -0.8237658 & -0.04970504 & -0.3760514 &  0.197820589 & -0.2918643 & -0.6056519 & -1.000944 &  0.4271530 & -0.3100993\\\\\n",
       "\tKLHL17 &  0.0968715 &  0.03899255 & -0.02719528 & -0.7743659 &  0.10563785 & -0.9168528 & -0.1678398 & -0.3410315 &  0.3941055 & -0.3754720 & 0.5195951 & -0.8366981 & -0.26829236 & -0.3536398 & -0.008449568 & -0.9086794 & -0.5893162 & -1.120816 &  0.3428841 & -0.2997867\\\\\n",
       "\tHES4 &  0.3406583 & -0.35491624 & -0.32162921 & -2.8308872 &  0.09440823 & -1.3237892 & -1.4193797 &  0.6941876 & -0.7919846 & -1.0220673 & 0.3757407 & -0.7503114 & -0.01497900 &  0.2059771 & -1.191426658 & -0.1602704 & -0.8164230 & -1.936973 & -1.0808609 & -0.5177954\\\\\n",
       "\\end{tabular}\n"
      ],
      "text/markdown": [
       "\n",
       "A matrix: 3 × 20 of type dbl\n",
       "\n",
       "| <!--/--> | P78_BIn | P77_BLy | P74_BLy | P13_BLy | P111_BLy | P108_BLy | P101_BLi | P106_BLy | P107_BLu | P03_BLun | P04_BSki_1 | P08_BSof_1 | P08_BSof_2 | P08_BSof_3 | P16_BLun | P18_BLun_1 | P18_BLun_2 | P39_BLun | P42_BLym_1 | P42_BLym_2 |\n",
       "|---|---|---|---|---|---|---|---|---|---|---|---|---|---|---|---|---|---|---|---|---|\n",
       "| NOC2L | -0.2630236 | -0.17565551 | -0.38669388 | -0.9313210 | -0.18054574 | -0.9543406 | -0.1814806 |  0.1546366 | -0.3399521 | -0.5131848 | 0.2623647 | -0.8237658 | -0.04970504 | -0.3760514 |  0.197820589 | -0.2918643 | -0.6056519 | -1.000944 |  0.4271530 | -0.3100993 |\n",
       "| KLHL17 |  0.0968715 |  0.03899255 | -0.02719528 | -0.7743659 |  0.10563785 | -0.9168528 | -0.1678398 | -0.3410315 |  0.3941055 | -0.3754720 | 0.5195951 | -0.8366981 | -0.26829236 | -0.3536398 | -0.008449568 | -0.9086794 | -0.5893162 | -1.120816 |  0.3428841 | -0.2997867 |\n",
       "| HES4 |  0.3406583 | -0.35491624 | -0.32162921 | -2.8308872 |  0.09440823 | -1.3237892 | -1.4193797 |  0.6941876 | -0.7919846 | -1.0220673 | 0.3757407 | -0.7503114 | -0.01497900 |  0.2059771 | -1.191426658 | -0.1602704 | -0.8164230 | -1.936973 | -1.0808609 | -0.5177954 |\n",
       "\n"
      ],
      "text/plain": [
       "       P78_BIn    P77_BLy     P74_BLy     P13_BLy    P111_BLy    P108_BLy  \n",
       "NOC2L  -0.2630236 -0.17565551 -0.38669388 -0.9313210 -0.18054574 -0.9543406\n",
       "KLHL17  0.0968715  0.03899255 -0.02719528 -0.7743659  0.10563785 -0.9168528\n",
       "HES4    0.3406583 -0.35491624 -0.32162921 -2.8308872  0.09440823 -1.3237892\n",
       "       P101_BLi   P106_BLy   P107_BLu   P03_BLun   P04_BSki_1 P08_BSof_1\n",
       "NOC2L  -0.1814806  0.1546366 -0.3399521 -0.5131848 0.2623647  -0.8237658\n",
       "KLHL17 -0.1678398 -0.3410315  0.3941055 -0.3754720 0.5195951  -0.8366981\n",
       "HES4   -1.4193797  0.6941876 -0.7919846 -1.0220673 0.3757407  -0.7503114\n",
       "       P08_BSof_2  P08_BSof_3 P16_BLun     P18_BLun_1 P18_BLun_2 P39_BLun \n",
       "NOC2L  -0.04970504 -0.3760514  0.197820589 -0.2918643 -0.6056519 -1.000944\n",
       "KLHL17 -0.26829236 -0.3536398 -0.008449568 -0.9086794 -0.5893162 -1.120816\n",
       "HES4   -0.01497900  0.2059771 -1.191426658 -0.1602704 -0.8164230 -1.936973\n",
       "       P42_BLym_1 P42_BLym_2\n",
       "NOC2L   0.4271530 -0.3100993\n",
       "KLHL17  0.3428841 -0.2997867\n",
       "HES4   -1.0808609 -0.5177954"
      ]
     },
     "metadata": {},
     "output_type": "display_data"
    }
   ],
   "source": [
    "impRatiosDiscValid = cbind(meanLogMedianImpRatiosMatValiCoh[ commonGenes,],\n",
    "                                  meanLogMedianImpRatiosMatDiscCoh[ commonGenes,])\n",
    "head(impRatiosDiscValid,3)"
   ]
  },
  {
   "cell_type": "code",
   "execution_count": 25,
   "id": "4de8f4de",
   "metadata": {},
   "outputs": [],
   "source": [
    "valiSamples = names(valiSampleMapping)\n",
    "discSamples = names(discSampleMapping)"
   ]
  },
  {
   "cell_type": "code",
   "execution_count": 34,
   "id": "866aab74",
   "metadata": {},
   "outputs": [
    {
     "data": {
      "text/html": [
       "<style>\n",
       ".dl-inline {width: auto; margin:0; padding: 0}\n",
       ".dl-inline>dt, .dl-inline>dd {float: none; width: auto; display: inline-block}\n",
       ".dl-inline>dt::after {content: \":\\0020\"; padding-right: .5ex}\n",
       ".dl-inline>dt:not(:first-of-type) {padding-left: .5ex}\n",
       "</style><dl class=dl-inline><dt>P13_BLy</dt><dd>'SG2'</dd><dt>P108_BLy</dt><dd>'SG2'</dd><dt>P78_BIn</dt><dd>'SG3'</dd><dt>P77_BLy</dt><dd>'SG3'</dd><dt>P74_BLy</dt><dd>'SG3'</dd><dt>P111_BLy</dt><dd>'SG3'</dd><dt>P101_BLi</dt><dd>'SG3'</dd><dt>P106_BLy</dt><dd>'SG3'</dd><dt>P107_BLu</dt><dd>'SG3'</dd></dl>\n"
      ],
      "text/latex": [
       "\\begin{description*}\n",
       "\\item[P13\\textbackslash{}\\_BLy] 'SG2'\n",
       "\\item[P108\\textbackslash{}\\_BLy] 'SG2'\n",
       "\\item[P78\\textbackslash{}\\_BIn] 'SG3'\n",
       "\\item[P77\\textbackslash{}\\_BLy] 'SG3'\n",
       "\\item[P74\\textbackslash{}\\_BLy] 'SG3'\n",
       "\\item[P111\\textbackslash{}\\_BLy] 'SG3'\n",
       "\\item[P101\\textbackslash{}\\_BLi] 'SG3'\n",
       "\\item[P106\\textbackslash{}\\_BLy] 'SG3'\n",
       "\\item[P107\\textbackslash{}\\_BLu] 'SG3'\n",
       "\\end{description*}\n"
      ],
      "text/markdown": [
       "P13_BLy\n",
       ":   'SG2'P108_BLy\n",
       ":   'SG2'P78_BIn\n",
       ":   'SG3'P77_BLy\n",
       ":   'SG3'P74_BLy\n",
       ":   'SG3'P111_BLy\n",
       ":   'SG3'P101_BLi\n",
       ":   'SG3'P106_BLy\n",
       ":   'SG3'P107_BLu\n",
       ":   'SG3'\n",
       "\n"
      ],
      "text/plain": [
       " P13_BLy P108_BLy  P78_BIn  P77_BLy  P74_BLy P111_BLy P101_BLi P106_BLy \n",
       "   \"SG2\"    \"SG2\"    \"SG3\"    \"SG3\"    \"SG3\"    \"SG3\"    \"SG3\"    \"SG3\" \n",
       "P107_BLu \n",
       "   \"SG3\" "
      ]
     },
     "metadata": {},
     "output_type": "display_data"
    }
   ],
   "source": [
    "# assign subgroups to met. pairs for valid. cohort.\n",
    "# do this manually depending an where they cluster in the heatmap below\n",
    "#  I didn't do this here, because it will be different anyway when using 25 instead of 2 networks\n",
    "valiSubgroupPerSamplePair = c(\"SG2\",\"SG2\",\"SG3\",\"SG3\",\"SG3\",\"SG3\",\"SG3\",\"SG3\",\"SG3\")\n",
    "names(valiSubgroupPerSamplePair) = c('P13_BLy','P108_BLy','P78_BIn','P77_BLy','P74_BLy','P111_BLy',\n",
    "                         'P101_BLi','P106_BLy','P107_BLu')\n",
    "valiSubgroupPerSamplePair"
   ]
  },
  {
   "cell_type": "code",
   "execution_count": 39,
   "id": "6caafe5e",
   "metadata": {},
   "outputs": [],
   "source": [
    "colAnnotNew = data.frame( \n",
    "    cohort = c(rep(\"validation cohort\",length(valiSamples)), \n",
    "               rep(\"discovery cohort\",length(discSamples)) ), \n",
    "        row.names =  c(valiSamples, discSamples ),\n",
    "    subgroup = c(discSubgroupPerSamplePair[discSamples], valiSubgroupPerSamplePair[valiSamples]) )\n",
    "# use colors of the circos plot, better group colors: green orange\n",
    "colAnnotColorNew = list(\n",
    "    cohort = c(\"discovery cohort\"=\"#eebb77\", \"validation cohort\"=\"#22CC77\"),\n",
    "    subgroup = c(\"SG1\"=\"tomato1\",\"SG2\"=\"cornflowerblue\",\"SG3\"=\"lightskyblue1\"))"
   ]
  },
  {
   "cell_type": "code",
   "execution_count": 41,
   "id": "a3176ea9",
   "metadata": {},
   "outputs": [
    {
     "data": {
      "image/png": "[encoded data removed]",
      "text/plain": [
       "plot without title"
      ]
     },
     "metadata": {
      "image/png": {
       "height": 420,
       "width": 420
      }
     },
     "output_type": "display_data"
    }
   ],
   "source": [
    "drows = dist(impRatiosDiscValid, method = \"euclidean\", )\n",
    "dcols = dist(t(impRatiosDiscValid), method = \"euclidean\")\n",
    "rg=range(impRatiosDiscValid, na.rm=T)\n",
    "ph = pheatmap(mat = impRatiosDiscValid,clustering_distance_rows = drows, \n",
    "              cellwidth = 23, #cellheight=0.01,\n",
    "    annotation_colors = colAnnotColorNew,\n",
    "    annotation_col = colAnnotNew,\n",
    "    cluster_rows = F, show_rownames = F,\n",
    "    clustering_distance_cols = dcols, display_numbers = F, angle_col = 45, \n",
    "    color = colorRampPalette(c(\"blue\",\"white\",\"red\"))(100),\n",
    "    breaks = c(seq(rg[1],0,length.out = 51),seq(0,rg[2],length.out = 50)[-1]))"
   ]
  },
  {
   "cell_type": "code",
   "execution_count": 43,
   "id": "d3cad7db",
   "metadata": {},
   "outputs": [
    {
     "data": {
      "text/html": [
       "<strong>png:</strong> 2"
      ],
      "text/latex": [
       "\\textbf{png:} 2"
      ],
      "text/markdown": [
       "**png:** 2"
      ],
      "text/plain": [
       "png \n",
       "  2 "
      ]
     },
     "metadata": {},
     "output_type": "display_data"
    }
   ],
   "source": [
    "png(file = paste0(outDirectory, \"SupplFigure-S7-MeanLogImp-clustering-discovery-validation-cohort.png\"),\n",
    "    res = 250,width = 2400,height = 2000)\n",
    "ph\n",
    "dev.off()"
   ]
  },
  {
   "cell_type": "markdown",
   "id": "716f8514",
   "metadata": {},
   "source": [
    "### ranking of target genes in new cohort ..."
   ]
  },
  {
   "cell_type": "markdown",
   "id": "ad6c897e",
   "metadata": {},
   "source": [
    "## subgroup specific target genes for new cohort\n",
    "taking the lastly assigned subgroups"
   ]
  },
  {
   "cell_type": "code",
   "execution_count": 48,
   "id": "436c8e5b",
   "metadata": {},
   "outputs": [
    {
     "data": {
      "text/html": [
       "<dl>\n",
       "\t<dt>$SG2</dt>\n",
       "\t\t<dd><style>\n",
       ".list-inline {list-style: none; margin:0; padding: 0}\n",
       ".list-inline>li {display: inline-block}\n",
       ".list-inline>li:not(:last-child)::after {content: \"\\00b7\"; padding: 0 .5ex}\n",
       "</style>\n",
       "<ol class=list-inline><li>'P13_BLy'</li><li>'P108_BLy'</li></ol>\n",
       "</dd>\n",
       "\t<dt>$SG3</dt>\n",
       "\t\t<dd><style>\n",
       ".list-inline {list-style: none; margin:0; padding: 0}\n",
       ".list-inline>li {display: inline-block}\n",
       ".list-inline>li:not(:last-child)::after {content: \"\\00b7\"; padding: 0 .5ex}\n",
       "</style>\n",
       "<ol class=list-inline><li>'P78_BIn'</li><li>'P77_BLy'</li><li>'P74_BLy'</li><li>'P111_BLy'</li><li>'P101_BLi'</li><li>'P106_BLy'</li><li>'P107_BLu'</li></ol>\n",
       "</dd>\n",
       "</dl>\n"
      ],
      "text/latex": [
       "\\begin{description}\n",
       "\\item[\\$SG2] \\begin{enumerate*}\n",
       "\\item 'P13\\_BLy'\n",
       "\\item 'P108\\_BLy'\n",
       "\\end{enumerate*}\n",
       "\n",
       "\\item[\\$SG3] \\begin{enumerate*}\n",
       "\\item 'P78\\_BIn'\n",
       "\\item 'P77\\_BLy'\n",
       "\\item 'P74\\_BLy'\n",
       "\\item 'P111\\_BLy'\n",
       "\\item 'P101\\_BLi'\n",
       "\\item 'P106\\_BLy'\n",
       "\\item 'P107\\_BLu'\n",
       "\\end{enumerate*}\n",
       "\n",
       "\\end{description}\n"
      ],
      "text/markdown": [
       "$SG2\n",
       ":   1. 'P13_BLy'\n",
       "2. 'P108_BLy'\n",
       "\n",
       "\n",
       "\n",
       "$SG3\n",
       ":   1. 'P78_BIn'\n",
       "2. 'P77_BLy'\n",
       "3. 'P74_BLy'\n",
       "4. 'P111_BLy'\n",
       "5. 'P101_BLi'\n",
       "6. 'P106_BLy'\n",
       "7. 'P107_BLu'\n",
       "\n",
       "\n",
       "\n",
       "\n",
       "\n"
      ],
      "text/plain": [
       "$SG2\n",
       "[1] \"P13_BLy\"  \"P108_BLy\"\n",
       "\n",
       "$SG3\n",
       "[1] \"P78_BIn\"  \"P77_BLy\"  \"P74_BLy\"  \"P111_BLy\" \"P101_BLi\" \"P106_BLy\" \"P107_BLu\"\n"
      ]
     },
     "metadata": {},
     "output_type": "display_data"
    }
   ],
   "source": [
    "valiCohGroups = list(SG2 = c(names(valiSubgroupPerSamplePair[ which(valiSubgroupPerSamplePair == \"SG2\")])), \n",
    "                    SG3 = c(names(valiSubgroupPerSamplePair[ which(valiSubgroupPerSamplePair == \"SG3\")])))\n",
    "valiCohGroups"
   ]
  },
  {
   "cell_type": "markdown",
   "id": "462a5b18",
   "metadata": {},
   "source": [
    "### find top ranked target genes\n",
    "which are consistent over all met. pairs of each cluster, for SG2 and SG3"
   ]
  },
  {
   "cell_type": "code",
   "execution_count": 59,
   "id": "effb6a5a",
   "metadata": {},
   "outputs": [
    {
     "data": {
      "text/html": [
       "<style>\n",
       ".list-inline {list-style: none; margin:0; padding: 0}\n",
       ".list-inline>li {display: inline-block}\n",
       ".list-inline>li:not(:last-child)::after {content: \"\\00b7\"; padding: 0 .5ex}\n",
       "</style>\n",
       "<ol class=list-inline><li>7369</li><li>2</li></ol>\n"
      ],
      "text/latex": [
       "\\begin{enumerate*}\n",
       "\\item 7369\n",
       "\\item 2\n",
       "\\end{enumerate*}\n"
      ],
      "text/markdown": [
       "1. 7369\n",
       "2. 2\n",
       "\n",
       "\n"
      ],
      "text/plain": [
       "[1] 7369    2"
      ]
     },
     "metadata": {},
     "output_type": "display_data"
    },
    {
     "data": {
      "text/html": [
       "<style>\n",
       ".dl-inline {width: auto; margin:0; padding: 0}\n",
       ".dl-inline>dt, .dl-inline>dd {float: none; width: auto; display: inline-block}\n",
       ".dl-inline>dt::after {content: \":\\0020\"; padding-right: .5ex}\n",
       ".dl-inline>dt:not(:first-of-type) {padding-left: .5ex}\n",
       "</style><dl class=dl-inline><dt>ACAT1</dt><dd>-4.222</dd><dt>EI24</dt><dd>-4.167</dd><dt>ACTN1</dt><dd>-3.742</dd><dt>THAP9</dt><dd>-3.629</dd><dt>PPARGC1B</dt><dd>-3.509</dd><dt>ATPAF1</dt><dd>-3.389</dd></dl>\n"
      ],
      "text/latex": [
       "\\begin{description*}\n",
       "\\item[ACAT1] -4.222\n",
       "\\item[EI24] -4.167\n",
       "\\item[ACTN1] -3.742\n",
       "\\item[THAP9] -3.629\n",
       "\\item[PPARGC1B] -3.509\n",
       "\\item[ATPAF1] -3.389\n",
       "\\end{description*}\n"
      ],
      "text/markdown": [
       "ACAT1\n",
       ":   -4.222EI24\n",
       ":   -4.167ACTN1\n",
       ":   -3.742THAP9\n",
       ":   -3.629PPARGC1B\n",
       ":   -3.509ATPAF1\n",
       ":   -3.389\n",
       "\n"
      ],
      "text/plain": [
       "   ACAT1     EI24    ACTN1    THAP9 PPARGC1B   ATPAF1 \n",
       "  -4.222   -4.167   -3.742   -3.629   -3.509   -3.389 "
      ]
     },
     "metadata": {},
     "output_type": "display_data"
    }
   ],
   "source": [
    "SPs = valiCohGroups[['SG2']]\n",
    "m = meanLogMedianImpRatiosMatValiCoh[,SPs]\n",
    "m = m[which(apply(m,1,function(r) all(r<0))),]\n",
    "dim(m)\n",
    "o=order(rowMeans(m))\n",
    "valiCohSG2bottomGenes = rowMeans(m[o,])\n",
    "head(round(valiCohSG2bottomGenes,3))"
   ]
  },
  {
   "cell_type": "code",
   "execution_count": 60,
   "id": "0dacce0f",
   "metadata": {},
   "outputs": [
    {
     "data": {
      "text/html": [
       "<style>\n",
       ".list-inline {list-style: none; margin:0; padding: 0}\n",
       ".list-inline>li {display: inline-block}\n",
       ".list-inline>li:not(:last-child)::after {content: \"\\00b7\"; padding: 0 .5ex}\n",
       "</style>\n",
       "<ol class=list-inline><li>5314</li><li>7</li></ol>\n"
      ],
      "text/latex": [
       "\\begin{enumerate*}\n",
       "\\item 5314\n",
       "\\item 7\n",
       "\\end{enumerate*}\n"
      ],
      "text/markdown": [
       "1. 5314\n",
       "2. 7\n",
       "\n",
       "\n"
      ],
      "text/plain": [
       "[1] 5314    7"
      ]
     },
     "metadata": {},
     "output_type": "display_data"
    },
    {
     "data": {
      "text/html": [
       "<style>\n",
       ".dl-inline {width: auto; margin:0; padding: 0}\n",
       ".dl-inline>dt, .dl-inline>dd {float: none; width: auto; display: inline-block}\n",
       ".dl-inline>dt::after {content: \":\\0020\"; padding-right: .5ex}\n",
       ".dl-inline>dt:not(:first-of-type) {padding-left: .5ex}\n",
       "</style><dl class=dl-inline><dt>TFRC</dt><dd>-1.568</dd><dt>NCK1</dt><dd>-1.337</dd><dt>VCP</dt><dd>-1.173</dd><dt>TNK1</dt><dd>-1.168</dd><dt>PWWP2B</dt><dd>-1.107</dd><dt>ZNF225</dt><dd>-1.073</dd></dl>\n"
      ],
      "text/latex": [
       "\\begin{description*}\n",
       "\\item[TFRC] -1.568\n",
       "\\item[NCK1] -1.337\n",
       "\\item[VCP] -1.173\n",
       "\\item[TNK1] -1.168\n",
       "\\item[PWWP2B] -1.107\n",
       "\\item[ZNF225] -1.073\n",
       "\\end{description*}\n"
      ],
      "text/markdown": [
       "TFRC\n",
       ":   -1.568NCK1\n",
       ":   -1.337VCP\n",
       ":   -1.173TNK1\n",
       ":   -1.168PWWP2B\n",
       ":   -1.107ZNF225\n",
       ":   -1.073\n",
       "\n"
      ],
      "text/plain": [
       "  TFRC   NCK1    VCP   TNK1 PWWP2B ZNF225 \n",
       "-1.568 -1.337 -1.173 -1.168 -1.107 -1.073 "
      ]
     },
     "metadata": {},
     "output_type": "display_data"
    }
   ],
   "source": [
    "SPs = valiCohGroups[['SG3']]\n",
    "m = meanLogMedianImpRatiosMatValiCoh[,SPs]\n",
    "m = m[which(apply(m,1,function(r) length(which(r<0))>=6)),] \n",
    "#   this is the relaxed condition for SG3: \n",
    "#   in at least 6 of the 7 met. pairs the impact ratio must be consistent\n",
    "dim(m)\n",
    "o=order(rowMeans(m))\n",
    "valiCohSG3bottomGenesRelaxed = rowMeans(m[o,])\n",
    "head(round(valiCohSG3bottomGenesRelaxed,3))"
   ]
  },
  {
   "cell_type": "code",
   "execution_count": 84,
   "id": "b422f321",
   "metadata": {},
   "outputs": [],
   "source": [
    "# discovery cohort bottom target genes\n",
    "discCohSG2bottomGenes = read.xlsx(file = \"../../FiguresTables/SupplTable-S10-target-gene-candidates.xls\",\n",
    "                          sheetName = \"lower cluster\")\n",
    "discCohSG3bottomGenes = read.xlsx(file = \"../../FiguresTables/SupplTable-S10-target-gene-candidates.xls\",\n",
    "                          sheetName = \"sligthly lower cluster\")"
   ]
  },
  {
   "cell_type": "code",
   "execution_count": 85,
   "id": "c7f4f731",
   "metadata": {},
   "outputs": [
    {
     "data": {
      "text/html": [
       "<table class=\"dataframe\">\n",
       "<caption>A data.frame: 3 × 16</caption>\n",
       "<thead>\n",
       "\t<tr><th></th><th scope=col>gene</th><th scope=col>chr</th><th scope=col>start</th><th scope=col>end</th><th scope=col>strand</th><th scope=col>cluster</th><th scope=col>mean_log_impact</th><th scope=col>sd_log_impact</th><th scope=col>P08_BSof_1</th><th scope=col>P18_BLun_2</th><th scope=col>P39_BLun</th><th scope=col>mean_log_expression</th><th scope=col>sd_log_expression</th><th scope=col>P08_BSof_1.1</th><th scope=col>P18_BLun_2.1</th><th scope=col>P39_BLun.1</th></tr>\n",
       "\t<tr><th></th><th scope=col>&lt;chr&gt;</th><th scope=col>&lt;chr&gt;</th><th scope=col>&lt;dbl&gt;</th><th scope=col>&lt;dbl&gt;</th><th scope=col>&lt;chr&gt;</th><th scope=col>&lt;chr&gt;</th><th scope=col>&lt;dbl&gt;</th><th scope=col>&lt;dbl&gt;</th><th scope=col>&lt;dbl&gt;</th><th scope=col>&lt;dbl&gt;</th><th scope=col>&lt;dbl&gt;</th><th scope=col>&lt;dbl&gt;</th><th scope=col>&lt;dbl&gt;</th><th scope=col>&lt;dbl&gt;</th><th scope=col>&lt;dbl&gt;</th><th scope=col>&lt;dbl&gt;</th></tr>\n",
       "</thead>\n",
       "<tbody>\n",
       "\t<tr><th scope=row>1</th><td>SAMD13</td><td>chr1</td><td>84764049</td><td>84855640</td><td>+</td><td>lower</td><td>-2.801</td><td>3.246241</td><td>-6.549006</td><td>-0.9350216</td><td>-0.9177221</td><td> 0.08715356</td><td>1.6979214</td><td>-0.5621677</td><td>-1.1902856</td><td> 2.0139139</td></tr>\n",
       "\t<tr><th scope=row>2</th><td>PLB1  </td><td>chr2</td><td>28680012</td><td>28866654</td><td>+</td><td>lower</td><td>-3.008</td><td>2.574587</td><td>-2.121265</td><td>-0.9945599</td><td>-5.9091650</td><td>-0.40047570</td><td>0.1171446</td><td>-0.4631207</td><td>-0.4729778</td><td>-0.2653286</td></tr>\n",
       "\t<tr><th scope=row>4</th><td>EIF4E3</td><td>chr3</td><td>71724567</td><td>71803924</td><td>-</td><td>lower</td><td>-2.315</td><td>1.462283</td><td>-2.112243</td><td>-0.9652904</td><td>-3.8686137</td><td>-0.86028164</td><td>1.2161495</td><td>-0.6886642</td><td> 0.2609433</td><td>-2.1531240</td></tr>\n",
       "</tbody>\n",
       "</table>\n"
      ],
      "text/latex": [
       "A data.frame: 3 × 16\n",
       "\\begin{tabular}{r|llllllllllllllll}\n",
       "  & gene & chr & start & end & strand & cluster & mean\\_log\\_impact & sd\\_log\\_impact & P08\\_BSof\\_1 & P18\\_BLun\\_2 & P39\\_BLun & mean\\_log\\_expression & sd\\_log\\_expression & P08\\_BSof\\_1.1 & P18\\_BLun\\_2.1 & P39\\_BLun.1\\\\\n",
       "  & <chr> & <chr> & <dbl> & <dbl> & <chr> & <chr> & <dbl> & <dbl> & <dbl> & <dbl> & <dbl> & <dbl> & <dbl> & <dbl> & <dbl> & <dbl>\\\\\n",
       "\\hline\n",
       "\t1 & SAMD13 & chr1 & 84764049 & 84855640 & + & lower & -2.801 & 3.246241 & -6.549006 & -0.9350216 & -0.9177221 &  0.08715356 & 1.6979214 & -0.5621677 & -1.1902856 &  2.0139139\\\\\n",
       "\t2 & PLB1   & chr2 & 28680012 & 28866654 & + & lower & -3.008 & 2.574587 & -2.121265 & -0.9945599 & -5.9091650 & -0.40047570 & 0.1171446 & -0.4631207 & -0.4729778 & -0.2653286\\\\\n",
       "\t4 & EIF4E3 & chr3 & 71724567 & 71803924 & - & lower & -2.315 & 1.462283 & -2.112243 & -0.9652904 & -3.8686137 & -0.86028164 & 1.2161495 & -0.6886642 &  0.2609433 & -2.1531240\\\\\n",
       "\\end{tabular}\n"
      ],
      "text/markdown": [
       "\n",
       "A data.frame: 3 × 16\n",
       "\n",
       "| <!--/--> | gene &lt;chr&gt; | chr &lt;chr&gt; | start &lt;dbl&gt; | end &lt;dbl&gt; | strand &lt;chr&gt; | cluster &lt;chr&gt; | mean_log_impact &lt;dbl&gt; | sd_log_impact &lt;dbl&gt; | P08_BSof_1 &lt;dbl&gt; | P18_BLun_2 &lt;dbl&gt; | P39_BLun &lt;dbl&gt; | mean_log_expression &lt;dbl&gt; | sd_log_expression &lt;dbl&gt; | P08_BSof_1.1 &lt;dbl&gt; | P18_BLun_2.1 &lt;dbl&gt; | P39_BLun.1 &lt;dbl&gt; |\n",
       "|---|---|---|---|---|---|---|---|---|---|---|---|---|---|---|---|---|\n",
       "| 1 | SAMD13 | chr1 | 84764049 | 84855640 | + | lower | -2.801 | 3.246241 | -6.549006 | -0.9350216 | -0.9177221 |  0.08715356 | 1.6979214 | -0.5621677 | -1.1902856 |  2.0139139 |\n",
       "| 2 | PLB1   | chr2 | 28680012 | 28866654 | + | lower | -3.008 | 2.574587 | -2.121265 | -0.9945599 | -5.9091650 | -0.40047570 | 0.1171446 | -0.4631207 | -0.4729778 | -0.2653286 |\n",
       "| 4 | EIF4E3 | chr3 | 71724567 | 71803924 | - | lower | -2.315 | 1.462283 | -2.112243 | -0.9652904 | -3.8686137 | -0.86028164 | 1.2161495 | -0.6886642 |  0.2609433 | -2.1531240 |\n",
       "\n"
      ],
      "text/plain": [
       "  gene   chr  start    end      strand cluster mean_log_impact sd_log_impact\n",
       "1 SAMD13 chr1 84764049 84855640 +      lower   -2.801          3.246241     \n",
       "2 PLB1   chr2 28680012 28866654 +      lower   -3.008          2.574587     \n",
       "4 EIF4E3 chr3 71724567 71803924 -      lower   -2.315          1.462283     \n",
       "  P08_BSof_1 P18_BLun_2 P39_BLun   mean_log_expression sd_log_expression\n",
       "1 -6.549006  -0.9350216 -0.9177221  0.08715356         1.6979214        \n",
       "2 -2.121265  -0.9945599 -5.9091650 -0.40047570         0.1171446        \n",
       "4 -2.112243  -0.9652904 -3.8686137 -0.86028164         1.2161495        \n",
       "  P08_BSof_1.1 P18_BLun_2.1 P39_BLun.1\n",
       "1 -0.5621677   -1.1902856    2.0139139\n",
       "2 -0.4631207   -0.4729778   -0.2653286\n",
       "4 -0.6886642    0.2609433   -2.1531240"
      ]
     },
     "metadata": {},
     "output_type": "display_data"
    },
    {
     "data": {
      "text/html": [
       "<table class=\"dataframe\">\n",
       "<caption>A data.frame: 3 × 18</caption>\n",
       "<thead>\n",
       "\t<tr><th></th><th scope=col>gene</th><th scope=col>chr</th><th scope=col>start</th><th scope=col>end</th><th scope=col>strand</th><th scope=col>cluster</th><th scope=col>mean_log_impact</th><th scope=col>sd_log_impact</th><th scope=col>P03_BLun</th><th scope=col>P08_BSof_3</th><th scope=col>P18_BLun_1</th><th scope=col>P42_BLym_2</th><th scope=col>mean_log_expression</th><th scope=col>sd_log_expression</th><th scope=col>P03_BLun.1</th><th scope=col>P08_BSof_3.1</th><th scope=col>P18_BLun_1.1</th><th scope=col>P42_BLym_2.1</th></tr>\n",
       "\t<tr><th></th><th scope=col>&lt;chr&gt;</th><th scope=col>&lt;chr&gt;</th><th scope=col>&lt;dbl&gt;</th><th scope=col>&lt;dbl&gt;</th><th scope=col>&lt;chr&gt;</th><th scope=col>&lt;chr&gt;</th><th scope=col>&lt;dbl&gt;</th><th scope=col>&lt;dbl&gt;</th><th scope=col>&lt;dbl&gt;</th><th scope=col>&lt;dbl&gt;</th><th scope=col>&lt;dbl&gt;</th><th scope=col>&lt;dbl&gt;</th><th scope=col>&lt;dbl&gt;</th><th scope=col>&lt;dbl&gt;</th><th scope=col>&lt;dbl&gt;</th><th scope=col>&lt;dbl&gt;</th><th scope=col>&lt;dbl&gt;</th><th scope=col>&lt;dbl&gt;</th></tr>\n",
       "</thead>\n",
       "<tbody>\n",
       "\t<tr><th scope=row>3</th><td>EIF4E3</td><td>chr3</td><td> 71724567</td><td> 71803924</td><td>-</td><td>slightly lower</td><td>-1.214</td><td>0.903156</td><td>-1.751569</td><td>-2.109564</td><td>-0.90149539</td><td>-0.09221606</td><td> 0.03127001</td><td>0.9964098</td><td>-0.9620492</td><td>0.1879499</td><td>-0.4496554</td><td> 1.3488347</td></tr>\n",
       "\t<tr><th scope=row>5</th><td>GGCT  </td><td>chr7</td><td> 30536237</td><td> 30591095</td><td>-</td><td>slightly lower</td><td>-0.970</td><td>1.023922</td><td>-1.431090</td><td>-2.196865</td><td>-0.09167294</td><td>-0.16006869</td><td> 0.29334190</td><td>0.7561563</td><td> 1.1968395</td><td>0.6360701</td><td>-0.3798079</td><td>-0.2797341</td></tr>\n",
       "\t<tr><th scope=row>7</th><td>ENOX2 </td><td>chrX</td><td>129757350</td><td>130037208</td><td>-</td><td>slightly lower</td><td>-1.005</td><td>0.787719</td><td>-1.753764</td><td>-1.584340</td><td>-0.13616106</td><td>-0.54637199</td><td>-0.03417450</td><td>0.4342085</td><td> 0.2975731</td><td>0.3773415</td><td>-0.4764773</td><td>-0.3351353</td></tr>\n",
       "</tbody>\n",
       "</table>\n"
      ],
      "text/latex": [
       "A data.frame: 3 × 18\n",
       "\\begin{tabular}{r|llllllllllllllllll}\n",
       "  & gene & chr & start & end & strand & cluster & mean\\_log\\_impact & sd\\_log\\_impact & P03\\_BLun & P08\\_BSof\\_3 & P18\\_BLun\\_1 & P42\\_BLym\\_2 & mean\\_log\\_expression & sd\\_log\\_expression & P03\\_BLun.1 & P08\\_BSof\\_3.1 & P18\\_BLun\\_1.1 & P42\\_BLym\\_2.1\\\\\n",
       "  & <chr> & <chr> & <dbl> & <dbl> & <chr> & <chr> & <dbl> & <dbl> & <dbl> & <dbl> & <dbl> & <dbl> & <dbl> & <dbl> & <dbl> & <dbl> & <dbl> & <dbl>\\\\\n",
       "\\hline\n",
       "\t3 & EIF4E3 & chr3 &  71724567 &  71803924 & - & slightly lower & -1.214 & 0.903156 & -1.751569 & -2.109564 & -0.90149539 & -0.09221606 &  0.03127001 & 0.9964098 & -0.9620492 & 0.1879499 & -0.4496554 &  1.3488347\\\\\n",
       "\t5 & GGCT   & chr7 &  30536237 &  30591095 & - & slightly lower & -0.970 & 1.023922 & -1.431090 & -2.196865 & -0.09167294 & -0.16006869 &  0.29334190 & 0.7561563 &  1.1968395 & 0.6360701 & -0.3798079 & -0.2797341\\\\\n",
       "\t7 & ENOX2  & chrX & 129757350 & 130037208 & - & slightly lower & -1.005 & 0.787719 & -1.753764 & -1.584340 & -0.13616106 & -0.54637199 & -0.03417450 & 0.4342085 &  0.2975731 & 0.3773415 & -0.4764773 & -0.3351353\\\\\n",
       "\\end{tabular}\n"
      ],
      "text/markdown": [
       "\n",
       "A data.frame: 3 × 18\n",
       "\n",
       "| <!--/--> | gene &lt;chr&gt; | chr &lt;chr&gt; | start &lt;dbl&gt; | end &lt;dbl&gt; | strand &lt;chr&gt; | cluster &lt;chr&gt; | mean_log_impact &lt;dbl&gt; | sd_log_impact &lt;dbl&gt; | P03_BLun &lt;dbl&gt; | P08_BSof_3 &lt;dbl&gt; | P18_BLun_1 &lt;dbl&gt; | P42_BLym_2 &lt;dbl&gt; | mean_log_expression &lt;dbl&gt; | sd_log_expression &lt;dbl&gt; | P03_BLun.1 &lt;dbl&gt; | P08_BSof_3.1 &lt;dbl&gt; | P18_BLun_1.1 &lt;dbl&gt; | P42_BLym_2.1 &lt;dbl&gt; |\n",
       "|---|---|---|---|---|---|---|---|---|---|---|---|---|---|---|---|---|---|---|\n",
       "| 3 | EIF4E3 | chr3 |  71724567 |  71803924 | - | slightly lower | -1.214 | 0.903156 | -1.751569 | -2.109564 | -0.90149539 | -0.09221606 |  0.03127001 | 0.9964098 | -0.9620492 | 0.1879499 | -0.4496554 |  1.3488347 |\n",
       "| 5 | GGCT   | chr7 |  30536237 |  30591095 | - | slightly lower | -0.970 | 1.023922 | -1.431090 | -2.196865 | -0.09167294 | -0.16006869 |  0.29334190 | 0.7561563 |  1.1968395 | 0.6360701 | -0.3798079 | -0.2797341 |\n",
       "| 7 | ENOX2  | chrX | 129757350 | 130037208 | - | slightly lower | -1.005 | 0.787719 | -1.753764 | -1.584340 | -0.13616106 | -0.54637199 | -0.03417450 | 0.4342085 |  0.2975731 | 0.3773415 | -0.4764773 | -0.3351353 |\n",
       "\n"
      ],
      "text/plain": [
       "  gene   chr  start     end       strand cluster        mean_log_impact\n",
       "3 EIF4E3 chr3  71724567  71803924 -      slightly lower -1.214         \n",
       "5 GGCT   chr7  30536237  30591095 -      slightly lower -0.970         \n",
       "7 ENOX2  chrX 129757350 130037208 -      slightly lower -1.005         \n",
       "  sd_log_impact P03_BLun  P08_BSof_3 P18_BLun_1  P42_BLym_2 \n",
       "3 0.903156      -1.751569 -2.109564  -0.90149539 -0.09221606\n",
       "5 1.023922      -1.431090 -2.196865  -0.09167294 -0.16006869\n",
       "7 0.787719      -1.753764 -1.584340  -0.13616106 -0.54637199\n",
       "  mean_log_expression sd_log_expression P03_BLun.1 P08_BSof_3.1 P18_BLun_1.1\n",
       "3  0.03127001         0.9964098         -0.9620492 0.1879499    -0.4496554  \n",
       "5  0.29334190         0.7561563          1.1968395 0.6360701    -0.3798079  \n",
       "7 -0.03417450         0.4342085          0.2975731 0.3773415    -0.4764773  \n",
       "  P42_BLym_2.1\n",
       "3  1.3488347  \n",
       "5 -0.2797341  \n",
       "7 -0.3351353  "
      ]
     },
     "metadata": {},
     "output_type": "display_data"
    }
   ],
   "source": [
    "# in the original analyses all candidate genes of SG2 and SG3 had negative mean impact log-ratio\n",
    "#  so also restrict here to only negative ones\n",
    "discCohSG2bottomGenes = discCohSG2bottomGenes[ which(discCohSG2bottomGenes$mean_log_impact<0),]\n",
    "discCohSG3bottomGenes = discCohSG3bottomGenes[ which(discCohSG3bottomGenes$mean_log_impact<0),]\n",
    "head(discCohSG2bottomGenes,3)\n",
    "head(discCohSG3bottomGenes,3)"
   ]
  },
  {
   "cell_type": "code",
   "execution_count": 86,
   "id": "ad41739e",
   "metadata": {},
   "outputs": [
    {
     "data": {
      "text/html": [
       "7"
      ],
      "text/latex": [
       "7"
      ],
      "text/markdown": [
       "7"
      ],
      "text/plain": [
       "[1] 7"
      ]
     },
     "metadata": {},
     "output_type": "display_data"
    },
    {
     "data": {
      "text/html": [
       "10"
      ],
      "text/latex": [
       "10"
      ],
      "text/markdown": [
       "10"
      ],
      "text/plain": [
       "[1] 10"
      ]
     },
     "metadata": {},
     "output_type": "display_data"
    },
    {
     "data": {
      "text/html": [
       "5"
      ],
      "text/latex": [
       "5"
      ],
      "text/markdown": [
       "5"
      ],
      "text/plain": [
       "[1] 5"
      ]
     },
     "metadata": {},
     "output_type": "display_data"
    },
    {
     "data": {
      "text/html": [
       "10"
      ],
      "text/latex": [
       "10"
      ],
      "text/markdown": [
       "10"
      ],
      "text/plain": [
       "[1] 10"
      ]
     },
     "metadata": {},
     "output_type": "display_data"
    }
   ],
   "source": [
    "# how many genes in discovery cohort are found in validation cohort\n",
    "length(intersect(discCohSG2bottomGenes$gene, names(valiCohSG2bottomGenes))) # 7 of 10 found again\n",
    "nrow(discCohSG2bottomGenes)\n",
    "length(intersect(discCohSG3bottomGenes$gene, names(valiCohSG3bottomGenesRelaxed))) # 5 of 10 found again\n",
    "nrow(discCohSG3bottomGenes)"
   ]
  },
  {
   "cell_type": "code",
   "execution_count": 87,
   "id": "72c0ebb0",
   "metadata": {},
   "outputs": [
    {
     "data": {
      "text/html": [
       "<style>\n",
       ".dl-inline {width: auto; margin:0; padding: 0}\n",
       ".dl-inline>dt, .dl-inline>dd {float: none; width: auto; display: inline-block}\n",
       ".dl-inline>dt::after {content: \":\\0020\"; padding-right: .5ex}\n",
       ".dl-inline>dt:not(:first-of-type) {padding-left: .5ex}\n",
       "</style><dl class=dl-inline><dt>SAMD13</dt><dd>41</dd><dt>PLB1</dt><dd>6</dd><dt>EIF4E3</dt><dd>2</dd><dt>FERMT3</dt><dd>26</dd><dt>TC2N</dt><dd>53</dd><dt>SKAP1</dt><dd>2</dd><dt>BZRAP1</dt><dd>0</dd></dl>\n"
      ],
      "text/latex": [
       "\\begin{description*}\n",
       "\\item[SAMD13] 41\n",
       "\\item[PLB1] 6\n",
       "\\item[EIF4E3] 2\n",
       "\\item[FERMT3] 26\n",
       "\\item[TC2N] 53\n",
       "\\item[SKAP1] 2\n",
       "\\item[BZRAP1] 0\n",
       "\\end{description*}\n"
      ],
      "text/markdown": [
       "SAMD13\n",
       ":   41PLB1\n",
       ":   6EIF4E3\n",
       ":   2FERMT3\n",
       ":   26TC2N\n",
       ":   53SKAP1\n",
       ":   2BZRAP1\n",
       ":   0\n",
       "\n"
      ],
      "text/plain": [
       "SAMD13   PLB1 EIF4E3 FERMT3   TC2N  SKAP1 BZRAP1 \n",
       "    41      6      2     26     53      2      0 "
      ]
     },
     "metadata": {},
     "output_type": "display_data"
    },
    {
     "data": {
      "text/html": [
       "<style>\n",
       ".dl-inline {width: auto; margin:0; padding: 0}\n",
       ".dl-inline>dt, .dl-inline>dd {float: none; width: auto; display: inline-block}\n",
       ".dl-inline>dt::after {content: \":\\0020\"; padding-right: .5ex}\n",
       ".dl-inline>dt:not(:first-of-type) {padding-left: .5ex}\n",
       "</style><dl class=dl-inline><dt>EIF4E3</dt><dd>2</dd><dt>GGCT</dt><dd>0</dd><dt>CDK8</dt><dd>51</dd><dt>APBA2</dt><dd>100</dd><dt>TNK1</dt><dd>0</dd></dl>\n"
      ],
      "text/latex": [
       "\\begin{description*}\n",
       "\\item[EIF4E3] 2\n",
       "\\item[GGCT] 0\n",
       "\\item[CDK8] 51\n",
       "\\item[APBA2] 100\n",
       "\\item[TNK1] 0\n",
       "\\end{description*}\n"
      ],
      "text/markdown": [
       "EIF4E3\n",
       ":   2GGCT\n",
       ":   0CDK8\n",
       ":   51APBA2\n",
       ":   100TNK1\n",
       ":   0\n",
       "\n"
      ],
      "text/plain": [
       "EIF4E3   GGCT   CDK8  APBA2   TNK1 \n",
       "     2      0     51    100      0 "
      ]
     },
     "metadata": {},
     "output_type": "display_data"
    }
   ],
   "source": [
    "# where do target genes of validation cohort rank in discovery cohort\n",
    "pos = unlist(sapply(discCohSG2bottomGenes$gene, function(g) which(names(valiCohSG2bottomGenes) == g)))\n",
    "round(pos/length(valiCohSG2bottomGenes)*100) # at the top n-percentile of the list\n",
    "\n",
    "pos = unlist(sapply(discCohSG3bottomGenes$gene, function(g) which(names(valiCohSG3bottomGenesRelaxed) == g)))\n",
    "round(pos/length(valiCohSG3bottomGenesRelaxed)*100) # at the top n-percentile of the list\n",
    "\n"
   ]
  },
  {
   "cell_type": "markdown",
   "id": "0bf4818e",
   "metadata": {},
   "source": [
    "## save to Suppl Table 12\n",
    "percentile rankings and impact log-ratios in valid. cohort"
   ]
  },
  {
   "cell_type": "code",
   "execution_count": 88,
   "id": "a96a3622",
   "metadata": {},
   "outputs": [
    {
     "data": {
      "text/html": [
       "<style>\n",
       ".list-inline {list-style: none; margin:0; padding: 0}\n",
       ".list-inline>li {display: inline-block}\n",
       ".list-inline>li:not(:last-child)::after {content: \"\\00b7\"; padding: 0 .5ex}\n",
       "</style>\n",
       "<ol class=list-inline><li>'SAMD13'</li><li>'PLB1'</li><li>'EIF4E3'</li><li>'FERMT3'</li><li>'TC2N'</li><li>'SKAP1'</li><li>'BZRAP1'</li></ol>\n"
      ],
      "text/latex": [
       "\\begin{enumerate*}\n",
       "\\item 'SAMD13'\n",
       "\\item 'PLB1'\n",
       "\\item 'EIF4E3'\n",
       "\\item 'FERMT3'\n",
       "\\item 'TC2N'\n",
       "\\item 'SKAP1'\n",
       "\\item 'BZRAP1'\n",
       "\\end{enumerate*}\n"
      ],
      "text/markdown": [
       "1. 'SAMD13'\n",
       "2. 'PLB1'\n",
       "3. 'EIF4E3'\n",
       "4. 'FERMT3'\n",
       "5. 'TC2N'\n",
       "6. 'SKAP1'\n",
       "7. 'BZRAP1'\n",
       "\n",
       "\n"
      ],
      "text/plain": [
       "[1] \"SAMD13\" \"PLB1\"   \"EIF4E3\" \"FERMT3\" \"TC2N\"   \"SKAP1\"  \"BZRAP1\""
      ]
     },
     "metadata": {},
     "output_type": "display_data"
    },
    {
     "data": {
      "text/html": [
       "<style>\n",
       ".list-inline {list-style: none; margin:0; padding: 0}\n",
       ".list-inline>li {display: inline-block}\n",
       ".list-inline>li:not(:last-child)::after {content: \"\\00b7\"; padding: 0 .5ex}\n",
       "</style>\n",
       "<ol class=list-inline><li>'EIF4E3'</li><li>'GGCT'</li><li>'CDK8'</li><li>'APBA2'</li><li>'TNK1'</li></ol>\n"
      ],
      "text/latex": [
       "\\begin{enumerate*}\n",
       "\\item 'EIF4E3'\n",
       "\\item 'GGCT'\n",
       "\\item 'CDK8'\n",
       "\\item 'APBA2'\n",
       "\\item 'TNK1'\n",
       "\\end{enumerate*}\n"
      ],
      "text/markdown": [
       "1. 'EIF4E3'\n",
       "2. 'GGCT'\n",
       "3. 'CDK8'\n",
       "4. 'APBA2'\n",
       "5. 'TNK1'\n",
       "\n",
       "\n"
      ],
      "text/plain": [
       "[1] \"EIF4E3\" \"GGCT\"   \"CDK8\"   \"APBA2\"  \"TNK1\"  "
      ]
     },
     "metadata": {},
     "output_type": "display_data"
    }
   ],
   "source": [
    "SG2candidates = intersect(discCohSG2bottomGenes$gene, names(valiCohSG2bottomGenes))\n",
    "SG3candidates = intersect(discCohSG3bottomGenes$gene, names(valiCohSG3bottomGenesRelaxed))\n",
    "SG2candidates\n",
    "SG3candidates"
   ]
  },
  {
   "cell_type": "markdown",
   "id": "891a77b9",
   "metadata": {},
   "source": [
    "### SG2"
   ]
  },
  {
   "cell_type": "code",
   "execution_count": 89,
   "id": "a915a409",
   "metadata": {
    "scrolled": true
   },
   "outputs": [
    {
     "data": {
      "text/html": [
       "<table class=\"dataframe\">\n",
       "<caption>A matrix: 7 × 2 of type dbl</caption>\n",
       "<thead>\n",
       "\t<tr><th></th><th scope=col>P13_BLy</th><th scope=col>P108_BLy</th></tr>\n",
       "</thead>\n",
       "<tbody>\n",
       "\t<tr><th scope=row>SAMD13</th><td>-0.9166443</td><td>-0.8695325</td></tr>\n",
       "\t<tr><th scope=row>PLB1</th><td>-0.8359840</td><td>-1.9628815</td></tr>\n",
       "\t<tr><th scope=row>EIF4E3</th><td>-1.5696281</td><td>-2.0994585</td></tr>\n",
       "\t<tr><th scope=row>FERMT3</th><td>-0.8031497</td><td>-1.2012049</td></tr>\n",
       "\t<tr><th scope=row>TC2N</th><td>-1.0920967</td><td>-0.5514502</td></tr>\n",
       "\t<tr><th scope=row>SKAP1</th><td>-1.7108102</td><td>-1.7194716</td></tr>\n",
       "\t<tr><th scope=row>BZRAP1</th><td>-3.0687608</td><td>-2.6198349</td></tr>\n",
       "</tbody>\n",
       "</table>\n"
      ],
      "text/latex": [
       "A matrix: 7 × 2 of type dbl\n",
       "\\begin{tabular}{r|ll}\n",
       "  & P13\\_BLy & P108\\_BLy\\\\\n",
       "\\hline\n",
       "\tSAMD13 & -0.9166443 & -0.8695325\\\\\n",
       "\tPLB1 & -0.8359840 & -1.9628815\\\\\n",
       "\tEIF4E3 & -1.5696281 & -2.0994585\\\\\n",
       "\tFERMT3 & -0.8031497 & -1.2012049\\\\\n",
       "\tTC2N & -1.0920967 & -0.5514502\\\\\n",
       "\tSKAP1 & -1.7108102 & -1.7194716\\\\\n",
       "\tBZRAP1 & -3.0687608 & -2.6198349\\\\\n",
       "\\end{tabular}\n"
      ],
      "text/markdown": [
       "\n",
       "A matrix: 7 × 2 of type dbl\n",
       "\n",
       "| <!--/--> | P13_BLy | P108_BLy |\n",
       "|---|---|---|\n",
       "| SAMD13 | -0.9166443 | -0.8695325 |\n",
       "| PLB1 | -0.8359840 | -1.9628815 |\n",
       "| EIF4E3 | -1.5696281 | -2.0994585 |\n",
       "| FERMT3 | -0.8031497 | -1.2012049 |\n",
       "| TC2N | -1.0920967 | -0.5514502 |\n",
       "| SKAP1 | -1.7108102 | -1.7194716 |\n",
       "| BZRAP1 | -3.0687608 | -2.6198349 |\n",
       "\n"
      ],
      "text/plain": [
       "       P13_BLy    P108_BLy  \n",
       "SAMD13 -0.9166443 -0.8695325\n",
       "PLB1   -0.8359840 -1.9628815\n",
       "EIF4E3 -1.5696281 -2.0994585\n",
       "FERMT3 -0.8031497 -1.2012049\n",
       "TC2N   -1.0920967 -0.5514502\n",
       "SKAP1  -1.7108102 -1.7194716\n",
       "BZRAP1 -3.0687608 -2.6198349"
      ]
     },
     "metadata": {},
     "output_type": "display_data"
    },
    {
     "data": {
      "text/html": [
       "<style>\n",
       ".dl-inline {width: auto; margin:0; padding: 0}\n",
       ".dl-inline>dt, .dl-inline>dd {float: none; width: auto; display: inline-block}\n",
       ".dl-inline>dt::after {content: \":\\0020\"; padding-right: .5ex}\n",
       ".dl-inline>dt:not(:first-of-type) {padding-left: .5ex}\n",
       "</style><dl class=dl-inline><dt>SAMD13</dt><dd>-0.893088425386701</dd><dt>PLB1</dt><dd>-1.3994327421394</dd><dt>EIF4E3</dt><dd>-1.83454331152803</dd><dt>FERMT3</dt><dd>-1.00217730567212</dd><dt>TC2N</dt><dd>-0.821773472440967</dd><dt>SKAP1</dt><dd>-1.7151409075714</dd><dt>BZRAP1</dt><dd>-2.84429784649901</dd></dl>\n"
      ],
      "text/latex": [
       "\\begin{description*}\n",
       "\\item[SAMD13] -0.893088425386701\n",
       "\\item[PLB1] -1.3994327421394\n",
       "\\item[EIF4E3] -1.83454331152803\n",
       "\\item[FERMT3] -1.00217730567212\n",
       "\\item[TC2N] -0.821773472440967\n",
       "\\item[SKAP1] -1.7151409075714\n",
       "\\item[BZRAP1] -2.84429784649901\n",
       "\\end{description*}\n"
      ],
      "text/markdown": [
       "SAMD13\n",
       ":   -0.893088425386701PLB1\n",
       ":   -1.3994327421394EIF4E3\n",
       ":   -1.83454331152803FERMT3\n",
       ":   -1.00217730567212TC2N\n",
       ":   -0.821773472440967SKAP1\n",
       ":   -1.7151409075714BZRAP1\n",
       ":   -2.84429784649901\n",
       "\n"
      ],
      "text/plain": [
       "    SAMD13       PLB1     EIF4E3     FERMT3       TC2N      SKAP1     BZRAP1 \n",
       "-0.8930884 -1.3994327 -1.8345433 -1.0021773 -0.8217735 -1.7151409 -2.8442978 "
      ]
     },
     "metadata": {},
     "output_type": "display_data"
    },
    {
     "data": {
      "text/html": [
       "<style>\n",
       ".dl-inline {width: auto; margin:0; padding: 0}\n",
       ".dl-inline>dt, .dl-inline>dd {float: none; width: auto; display: inline-block}\n",
       ".dl-inline>dt::after {content: \":\\0020\"; padding-right: .5ex}\n",
       ".dl-inline>dt:not(:first-of-type) {padding-left: .5ex}\n",
       "</style><dl class=dl-inline><dt>SAMD13</dt><dd>41.1</dd><dt>PLB1</dt><dd>5.8</dd><dt>EIF4E3</dt><dd>1.6</dd><dt>FERMT3</dt><dd>25.5</dd><dt>TC2N</dt><dd>53</dd><dt>SKAP1</dt><dd>2.2</dd><dt>BZRAP1</dt><dd>0.2</dd></dl>\n"
      ],
      "text/latex": [
       "\\begin{description*}\n",
       "\\item[SAMD13] 41.1\n",
       "\\item[PLB1] 5.8\n",
       "\\item[EIF4E3] 1.6\n",
       "\\item[FERMT3] 25.5\n",
       "\\item[TC2N] 53\n",
       "\\item[SKAP1] 2.2\n",
       "\\item[BZRAP1] 0.2\n",
       "\\end{description*}\n"
      ],
      "text/markdown": [
       "SAMD13\n",
       ":   41.1PLB1\n",
       ":   5.8EIF4E3\n",
       ":   1.6FERMT3\n",
       ":   25.5TC2N\n",
       ":   53SKAP1\n",
       ":   2.2BZRAP1\n",
       ":   0.2\n",
       "\n"
      ],
      "text/plain": [
       "SAMD13   PLB1 EIF4E3 FERMT3   TC2N  SKAP1 BZRAP1 \n",
       "  41.1    5.8    1.6   25.5   53.0    2.2    0.2 "
      ]
     },
     "metadata": {},
     "output_type": "display_data"
    },
    {
     "data": {
      "text/html": [
       "<table class=\"dataframe\">\n",
       "<caption>A data.frame: 7 × 5</caption>\n",
       "<thead>\n",
       "\t<tr><th></th><th scope=col>gene</th><th scope=col>meanLogIR</th><th scope=col>percentiles</th><th scope=col>P13_BLy</th><th scope=col>P108_BLy</th></tr>\n",
       "\t<tr><th></th><th scope=col>&lt;chr&gt;</th><th scope=col>&lt;dbl&gt;</th><th scope=col>&lt;dbl&gt;</th><th scope=col>&lt;dbl&gt;</th><th scope=col>&lt;dbl&gt;</th></tr>\n",
       "</thead>\n",
       "<tbody>\n",
       "\t<tr><th scope=row>SAMD13</th><td>SAMD13</td><td>-0.8930884</td><td>41.1</td><td>-0.9166443</td><td>-0.8695325</td></tr>\n",
       "\t<tr><th scope=row>PLB1</th><td>PLB1  </td><td>-1.3994327</td><td> 5.8</td><td>-0.8359840</td><td>-1.9628815</td></tr>\n",
       "\t<tr><th scope=row>EIF4E3</th><td>EIF4E3</td><td>-1.8345433</td><td> 1.6</td><td>-1.5696281</td><td>-2.0994585</td></tr>\n",
       "\t<tr><th scope=row>FERMT3</th><td>FERMT3</td><td>-1.0021773</td><td>25.5</td><td>-0.8031497</td><td>-1.2012049</td></tr>\n",
       "\t<tr><th scope=row>TC2N</th><td>TC2N  </td><td>-0.8217735</td><td>53.0</td><td>-1.0920967</td><td>-0.5514502</td></tr>\n",
       "\t<tr><th scope=row>SKAP1</th><td>SKAP1 </td><td>-1.7151409</td><td> 2.2</td><td>-1.7108102</td><td>-1.7194716</td></tr>\n",
       "\t<tr><th scope=row>BZRAP1</th><td>BZRAP1</td><td>-2.8442978</td><td> 0.2</td><td>-3.0687608</td><td>-2.6198349</td></tr>\n",
       "</tbody>\n",
       "</table>\n"
      ],
      "text/latex": [
       "A data.frame: 7 × 5\n",
       "\\begin{tabular}{r|lllll}\n",
       "  & gene & meanLogIR & percentiles & P13\\_BLy & P108\\_BLy\\\\\n",
       "  & <chr> & <dbl> & <dbl> & <dbl> & <dbl>\\\\\n",
       "\\hline\n",
       "\tSAMD13 & SAMD13 & -0.8930884 & 41.1 & -0.9166443 & -0.8695325\\\\\n",
       "\tPLB1 & PLB1   & -1.3994327 &  5.8 & -0.8359840 & -1.9628815\\\\\n",
       "\tEIF4E3 & EIF4E3 & -1.8345433 &  1.6 & -1.5696281 & -2.0994585\\\\\n",
       "\tFERMT3 & FERMT3 & -1.0021773 & 25.5 & -0.8031497 & -1.2012049\\\\\n",
       "\tTC2N & TC2N   & -0.8217735 & 53.0 & -1.0920967 & -0.5514502\\\\\n",
       "\tSKAP1 & SKAP1  & -1.7151409 &  2.2 & -1.7108102 & -1.7194716\\\\\n",
       "\tBZRAP1 & BZRAP1 & -2.8442978 &  0.2 & -3.0687608 & -2.6198349\\\\\n",
       "\\end{tabular}\n"
      ],
      "text/markdown": [
       "\n",
       "A data.frame: 7 × 5\n",
       "\n",
       "| <!--/--> | gene &lt;chr&gt; | meanLogIR &lt;dbl&gt; | percentiles &lt;dbl&gt; | P13_BLy &lt;dbl&gt; | P108_BLy &lt;dbl&gt; |\n",
       "|---|---|---|---|---|---|\n",
       "| SAMD13 | SAMD13 | -0.8930884 | 41.1 | -0.9166443 | -0.8695325 |\n",
       "| PLB1 | PLB1   | -1.3994327 |  5.8 | -0.8359840 | -1.9628815 |\n",
       "| EIF4E3 | EIF4E3 | -1.8345433 |  1.6 | -1.5696281 | -2.0994585 |\n",
       "| FERMT3 | FERMT3 | -1.0021773 | 25.5 | -0.8031497 | -1.2012049 |\n",
       "| TC2N | TC2N   | -0.8217735 | 53.0 | -1.0920967 | -0.5514502 |\n",
       "| SKAP1 | SKAP1  | -1.7151409 |  2.2 | -1.7108102 | -1.7194716 |\n",
       "| BZRAP1 | BZRAP1 | -2.8442978 |  0.2 | -3.0687608 | -2.6198349 |\n",
       "\n"
      ],
      "text/plain": [
       "       gene   meanLogIR  percentiles P13_BLy    P108_BLy  \n",
       "SAMD13 SAMD13 -0.8930884 41.1        -0.9166443 -0.8695325\n",
       "PLB1   PLB1   -1.3994327  5.8        -0.8359840 -1.9628815\n",
       "EIF4E3 EIF4E3 -1.8345433  1.6        -1.5696281 -2.0994585\n",
       "FERMT3 FERMT3 -1.0021773 25.5        -0.8031497 -1.2012049\n",
       "TC2N   TC2N   -0.8217735 53.0        -1.0920967 -0.5514502\n",
       "SKAP1  SKAP1  -1.7151409  2.2        -1.7108102 -1.7194716\n",
       "BZRAP1 BZRAP1 -2.8442978  0.2        -3.0687608 -2.6198349"
      ]
     },
     "metadata": {},
     "output_type": "display_data"
    }
   ],
   "source": [
    "SPs = valiCohGroups[[\"SG2\"]]\n",
    "m = meanLogMedianImpRatiosMatValiCoh[,SPs]\n",
    "m[ SG2candidates ,]\n",
    "meanLogIR = rowMeans(m[SG2candidates,])\n",
    "meanLogIR\n",
    "pos = unlist(sapply(SG2candidates, function(g) which(names(valiCohSG2bottomGenes) == g)))\n",
    "percentiles = round(pos/length(valiCohSG2bottomGenes)*100,1) # at the top n-percentile of the list\n",
    "percentiles\n",
    "outSG2 = data.frame(gene = SG2candidates, meanLogIR,percentiles,\n",
    "                    m[ SG2candidates ,])\n",
    "outSG2"
   ]
  },
  {
   "cell_type": "markdown",
   "id": "6e42d9d6",
   "metadata": {},
   "source": [
    "### SG3"
   ]
  },
  {
   "cell_type": "code",
   "execution_count": 90,
   "id": "29a7e5f3",
   "metadata": {
    "scrolled": true
   },
   "outputs": [
    {
     "data": {
      "text/html": [
       "<table class=\"dataframe\">\n",
       "<caption>A matrix: 5 × 7 of type dbl</caption>\n",
       "<thead>\n",
       "\t<tr><th></th><th scope=col>P78_BIn</th><th scope=col>P77_BLy</th><th scope=col>P74_BLy</th><th scope=col>P111_BLy</th><th scope=col>P101_BLi</th><th scope=col>P106_BLy</th><th scope=col>P107_BLu</th></tr>\n",
       "</thead>\n",
       "<tbody>\n",
       "\t<tr><th scope=row>EIF4E3</th><td>-0.1018439</td><td>-0.4328470</td><td>-0.6668841</td><td>-0.88831617</td><td>-0.19274620</td><td>-1.0073349</td><td>-0.10635048</td></tr>\n",
       "\t<tr><th scope=row>GGCT</th><td>-1.1713037</td><td>-1.0429862</td><td>-1.9246485</td><td> 0.40785046</td><td>-1.60383561</td><td>-0.8255977</td><td>-0.74735516</td></tr>\n",
       "\t<tr><th scope=row>CDK8</th><td>-0.6805446</td><td>-0.2084121</td><td>-0.3043002</td><td>-0.03094519</td><td>-0.13823763</td><td> 0.1447269</td><td>-0.24417691</td></tr>\n",
       "\t<tr><th scope=row>APBA2</th><td>-0.4688727</td><td>-0.2104512</td><td>-0.1705772</td><td>-0.12438813</td><td>-0.05777123</td><td> 0.6102601</td><td>-0.02091386</td></tr>\n",
       "\t<tr><th scope=row>TNK1</th><td> 0.3860151</td><td>-2.0820498</td><td>-1.5559572</td><td>-0.85999536</td><td>-2.74276448</td><td>-1.0462850</td><td>-0.27689181</td></tr>\n",
       "</tbody>\n",
       "</table>\n"
      ],
      "text/latex": [
       "A matrix: 5 × 7 of type dbl\n",
       "\\begin{tabular}{r|lllllll}\n",
       "  & P78\\_BIn & P77\\_BLy & P74\\_BLy & P111\\_BLy & P101\\_BLi & P106\\_BLy & P107\\_BLu\\\\\n",
       "\\hline\n",
       "\tEIF4E3 & -0.1018439 & -0.4328470 & -0.6668841 & -0.88831617 & -0.19274620 & -1.0073349 & -0.10635048\\\\\n",
       "\tGGCT & -1.1713037 & -1.0429862 & -1.9246485 &  0.40785046 & -1.60383561 & -0.8255977 & -0.74735516\\\\\n",
       "\tCDK8 & -0.6805446 & -0.2084121 & -0.3043002 & -0.03094519 & -0.13823763 &  0.1447269 & -0.24417691\\\\\n",
       "\tAPBA2 & -0.4688727 & -0.2104512 & -0.1705772 & -0.12438813 & -0.05777123 &  0.6102601 & -0.02091386\\\\\n",
       "\tTNK1 &  0.3860151 & -2.0820498 & -1.5559572 & -0.85999536 & -2.74276448 & -1.0462850 & -0.27689181\\\\\n",
       "\\end{tabular}\n"
      ],
      "text/markdown": [
       "\n",
       "A matrix: 5 × 7 of type dbl\n",
       "\n",
       "| <!--/--> | P78_BIn | P77_BLy | P74_BLy | P111_BLy | P101_BLi | P106_BLy | P107_BLu |\n",
       "|---|---|---|---|---|---|---|---|\n",
       "| EIF4E3 | -0.1018439 | -0.4328470 | -0.6668841 | -0.88831617 | -0.19274620 | -1.0073349 | -0.10635048 |\n",
       "| GGCT | -1.1713037 | -1.0429862 | -1.9246485 |  0.40785046 | -1.60383561 | -0.8255977 | -0.74735516 |\n",
       "| CDK8 | -0.6805446 | -0.2084121 | -0.3043002 | -0.03094519 | -0.13823763 |  0.1447269 | -0.24417691 |\n",
       "| APBA2 | -0.4688727 | -0.2104512 | -0.1705772 | -0.12438813 | -0.05777123 |  0.6102601 | -0.02091386 |\n",
       "| TNK1 |  0.3860151 | -2.0820498 | -1.5559572 | -0.85999536 | -2.74276448 | -1.0462850 | -0.27689181 |\n",
       "\n"
      ],
      "text/plain": [
       "       P78_BIn    P77_BLy    P74_BLy    P111_BLy    P101_BLi    P106_BLy  \n",
       "EIF4E3 -0.1018439 -0.4328470 -0.6668841 -0.88831617 -0.19274620 -1.0073349\n",
       "GGCT   -1.1713037 -1.0429862 -1.9246485  0.40785046 -1.60383561 -0.8255977\n",
       "CDK8   -0.6805446 -0.2084121 -0.3043002 -0.03094519 -0.13823763  0.1447269\n",
       "APBA2  -0.4688727 -0.2104512 -0.1705772 -0.12438813 -0.05777123  0.6102601\n",
       "TNK1    0.3860151 -2.0820498 -1.5559572 -0.85999536 -2.74276448 -1.0462850\n",
       "       P107_BLu   \n",
       "EIF4E3 -0.10635048\n",
       "GGCT   -0.74735516\n",
       "CDK8   -0.24417691\n",
       "APBA2  -0.02091386\n",
       "TNK1   -0.27689181"
      ]
     },
     "metadata": {},
     "output_type": "display_data"
    },
    {
     "data": {
      "text/html": [
       "<style>\n",
       ".dl-inline {width: auto; margin:0; padding: 0}\n",
       ".dl-inline>dt, .dl-inline>dd {float: none; width: auto; display: inline-block}\n",
       ".dl-inline>dt::after {content: \":\\0020\"; padding-right: .5ex}\n",
       ".dl-inline>dt:not(:first-of-type) {padding-left: .5ex}\n",
       "</style><dl class=dl-inline><dt>EIF4E3</dt><dd>-0.485188964845127</dd><dt>GGCT</dt><dd>-0.986839485867498</dd><dt>CDK8</dt><dd>-0.208841395430382</dd><dt>APBA2</dt><dd>-0.0632449005786528</dd><dt>TNK1</dt><dd>-1.16827552629703</dd></dl>\n"
      ],
      "text/latex": [
       "\\begin{description*}\n",
       "\\item[EIF4E3] -0.485188964845127\n",
       "\\item[GGCT] -0.986839485867498\n",
       "\\item[CDK8] -0.208841395430382\n",
       "\\item[APBA2] -0.0632449005786528\n",
       "\\item[TNK1] -1.16827552629703\n",
       "\\end{description*}\n"
      ],
      "text/markdown": [
       "EIF4E3\n",
       ":   -0.485188964845127GGCT\n",
       ":   -0.986839485867498CDK8\n",
       ":   -0.208841395430382APBA2\n",
       ":   -0.0632449005786528TNK1\n",
       ":   -1.16827552629703\n",
       "\n"
      ],
      "text/plain": [
       "    EIF4E3       GGCT       CDK8      APBA2       TNK1 \n",
       "-0.4851890 -0.9868395 -0.2088414 -0.0632449 -1.1682755 "
      ]
     },
     "metadata": {},
     "output_type": "display_data"
    },
    {
     "data": {
      "text/html": [
       "<style>\n",
       ".dl-inline {width: auto; margin:0; padding: 0}\n",
       ".dl-inline>dt, .dl-inline>dd {float: none; width: auto; display: inline-block}\n",
       ".dl-inline>dt::after {content: \":\\0020\"; padding-right: .5ex}\n",
       ".dl-inline>dt:not(:first-of-type) {padding-left: .5ex}\n",
       "</style><dl class=dl-inline><dt>EIF4E3</dt><dd>2</dd><dt>GGCT</dt><dd>0.2</dd><dt>CDK8</dt><dd>51.4</dd><dt>APBA2</dt><dd>99.9</dd><dt>TNK1</dt><dd>0.1</dd></dl>\n"
      ],
      "text/latex": [
       "\\begin{description*}\n",
       "\\item[EIF4E3] 2\n",
       "\\item[GGCT] 0.2\n",
       "\\item[CDK8] 51.4\n",
       "\\item[APBA2] 99.9\n",
       "\\item[TNK1] 0.1\n",
       "\\end{description*}\n"
      ],
      "text/markdown": [
       "EIF4E3\n",
       ":   2GGCT\n",
       ":   0.2CDK8\n",
       ":   51.4APBA2\n",
       ":   99.9TNK1\n",
       ":   0.1\n",
       "\n"
      ],
      "text/plain": [
       "EIF4E3   GGCT   CDK8  APBA2   TNK1 \n",
       "   2.0    0.2   51.4   99.9    0.1 "
      ]
     },
     "metadata": {},
     "output_type": "display_data"
    },
    {
     "data": {
      "text/html": [
       "<table class=\"dataframe\">\n",
       "<caption>A data.frame: 5 × 10</caption>\n",
       "<thead>\n",
       "\t<tr><th></th><th scope=col>gene</th><th scope=col>meanLogIR</th><th scope=col>percentiles</th><th scope=col>P78_BIn</th><th scope=col>P77_BLy</th><th scope=col>P74_BLy</th><th scope=col>P111_BLy</th><th scope=col>P101_BLi</th><th scope=col>P106_BLy</th><th scope=col>P107_BLu</th></tr>\n",
       "\t<tr><th></th><th scope=col>&lt;chr&gt;</th><th scope=col>&lt;dbl&gt;</th><th scope=col>&lt;dbl&gt;</th><th scope=col>&lt;dbl&gt;</th><th scope=col>&lt;dbl&gt;</th><th scope=col>&lt;dbl&gt;</th><th scope=col>&lt;dbl&gt;</th><th scope=col>&lt;dbl&gt;</th><th scope=col>&lt;dbl&gt;</th><th scope=col>&lt;dbl&gt;</th></tr>\n",
       "</thead>\n",
       "<tbody>\n",
       "\t<tr><th scope=row>EIF4E3</th><td>EIF4E3</td><td>-0.4851890</td><td> 2.0</td><td>-0.1018439</td><td>-0.4328470</td><td>-0.6668841</td><td>-0.88831617</td><td>-0.19274620</td><td>-1.0073349</td><td>-0.10635048</td></tr>\n",
       "\t<tr><th scope=row>GGCT</th><td>GGCT  </td><td>-0.9868395</td><td> 0.2</td><td>-1.1713037</td><td>-1.0429862</td><td>-1.9246485</td><td> 0.40785046</td><td>-1.60383561</td><td>-0.8255977</td><td>-0.74735516</td></tr>\n",
       "\t<tr><th scope=row>CDK8</th><td>CDK8  </td><td>-0.2088414</td><td>51.4</td><td>-0.6805446</td><td>-0.2084121</td><td>-0.3043002</td><td>-0.03094519</td><td>-0.13823763</td><td> 0.1447269</td><td>-0.24417691</td></tr>\n",
       "\t<tr><th scope=row>APBA2</th><td>APBA2 </td><td>-0.0632449</td><td>99.9</td><td>-0.4688727</td><td>-0.2104512</td><td>-0.1705772</td><td>-0.12438813</td><td>-0.05777123</td><td> 0.6102601</td><td>-0.02091386</td></tr>\n",
       "\t<tr><th scope=row>TNK1</th><td>TNK1  </td><td>-1.1682755</td><td> 0.1</td><td> 0.3860151</td><td>-2.0820498</td><td>-1.5559572</td><td>-0.85999536</td><td>-2.74276448</td><td>-1.0462850</td><td>-0.27689181</td></tr>\n",
       "</tbody>\n",
       "</table>\n"
      ],
      "text/latex": [
       "A data.frame: 5 × 10\n",
       "\\begin{tabular}{r|llllllllll}\n",
       "  & gene & meanLogIR & percentiles & P78\\_BIn & P77\\_BLy & P74\\_BLy & P111\\_BLy & P101\\_BLi & P106\\_BLy & P107\\_BLu\\\\\n",
       "  & <chr> & <dbl> & <dbl> & <dbl> & <dbl> & <dbl> & <dbl> & <dbl> & <dbl> & <dbl>\\\\\n",
       "\\hline\n",
       "\tEIF4E3 & EIF4E3 & -0.4851890 &  2.0 & -0.1018439 & -0.4328470 & -0.6668841 & -0.88831617 & -0.19274620 & -1.0073349 & -0.10635048\\\\\n",
       "\tGGCT & GGCT   & -0.9868395 &  0.2 & -1.1713037 & -1.0429862 & -1.9246485 &  0.40785046 & -1.60383561 & -0.8255977 & -0.74735516\\\\\n",
       "\tCDK8 & CDK8   & -0.2088414 & 51.4 & -0.6805446 & -0.2084121 & -0.3043002 & -0.03094519 & -0.13823763 &  0.1447269 & -0.24417691\\\\\n",
       "\tAPBA2 & APBA2  & -0.0632449 & 99.9 & -0.4688727 & -0.2104512 & -0.1705772 & -0.12438813 & -0.05777123 &  0.6102601 & -0.02091386\\\\\n",
       "\tTNK1 & TNK1   & -1.1682755 &  0.1 &  0.3860151 & -2.0820498 & -1.5559572 & -0.85999536 & -2.74276448 & -1.0462850 & -0.27689181\\\\\n",
       "\\end{tabular}\n"
      ],
      "text/markdown": [
       "\n",
       "A data.frame: 5 × 10\n",
       "\n",
       "| <!--/--> | gene &lt;chr&gt; | meanLogIR &lt;dbl&gt; | percentiles &lt;dbl&gt; | P78_BIn &lt;dbl&gt; | P77_BLy &lt;dbl&gt; | P74_BLy &lt;dbl&gt; | P111_BLy &lt;dbl&gt; | P101_BLi &lt;dbl&gt; | P106_BLy &lt;dbl&gt; | P107_BLu &lt;dbl&gt; |\n",
       "|---|---|---|---|---|---|---|---|---|---|---|\n",
       "| EIF4E3 | EIF4E3 | -0.4851890 |  2.0 | -0.1018439 | -0.4328470 | -0.6668841 | -0.88831617 | -0.19274620 | -1.0073349 | -0.10635048 |\n",
       "| GGCT | GGCT   | -0.9868395 |  0.2 | -1.1713037 | -1.0429862 | -1.9246485 |  0.40785046 | -1.60383561 | -0.8255977 | -0.74735516 |\n",
       "| CDK8 | CDK8   | -0.2088414 | 51.4 | -0.6805446 | -0.2084121 | -0.3043002 | -0.03094519 | -0.13823763 |  0.1447269 | -0.24417691 |\n",
       "| APBA2 | APBA2  | -0.0632449 | 99.9 | -0.4688727 | -0.2104512 | -0.1705772 | -0.12438813 | -0.05777123 |  0.6102601 | -0.02091386 |\n",
       "| TNK1 | TNK1   | -1.1682755 |  0.1 |  0.3860151 | -2.0820498 | -1.5559572 | -0.85999536 | -2.74276448 | -1.0462850 | -0.27689181 |\n",
       "\n"
      ],
      "text/plain": [
       "       gene   meanLogIR  percentiles P78_BIn    P77_BLy    P74_BLy   \n",
       "EIF4E3 EIF4E3 -0.4851890  2.0        -0.1018439 -0.4328470 -0.6668841\n",
       "GGCT   GGCT   -0.9868395  0.2        -1.1713037 -1.0429862 -1.9246485\n",
       "CDK8   CDK8   -0.2088414 51.4        -0.6805446 -0.2084121 -0.3043002\n",
       "APBA2  APBA2  -0.0632449 99.9        -0.4688727 -0.2104512 -0.1705772\n",
       "TNK1   TNK1   -1.1682755  0.1         0.3860151 -2.0820498 -1.5559572\n",
       "       P111_BLy    P101_BLi    P106_BLy   P107_BLu   \n",
       "EIF4E3 -0.88831617 -0.19274620 -1.0073349 -0.10635048\n",
       "GGCT    0.40785046 -1.60383561 -0.8255977 -0.74735516\n",
       "CDK8   -0.03094519 -0.13823763  0.1447269 -0.24417691\n",
       "APBA2  -0.12438813 -0.05777123  0.6102601 -0.02091386\n",
       "TNK1   -0.85999536 -2.74276448 -1.0462850 -0.27689181"
      ]
     },
     "metadata": {},
     "output_type": "display_data"
    }
   ],
   "source": [
    "SPs = valiCohGroups[[\"SG3\"]]\n",
    "m = meanLogMedianImpRatiosMatValiCoh[,SPs]\n",
    "m[ SG3candidates ,]\n",
    "meanLogIR = rowMeans(m[SG3candidates,])\n",
    "meanLogIR\n",
    "pos = unlist(sapply(SG3candidates, function(g) which(names(valiCohSG3bottomGenesRelaxed) == g)))\n",
    "percentiles = round(pos/length(valiCohSG3bottomGenesRelaxed)*100,1) # at the top n-percentile of the list\n",
    "percentiles\n",
    "outSG3 = data.frame(gene = SG3candidates, meanLogIR,percentiles,\n",
    "                    m[ SG3candidates ,])\n",
    "outSG3"
   ]
  },
  {
   "cell_type": "code",
   "execution_count": 91,
   "id": "1835148f",
   "metadata": {},
   "outputs": [],
   "source": [
    "write.xlsx(x = outSG2,file = paste0(outDirectory,\"Suppl-Table-S12-target-gene-ranking.xls\"),\n",
    "           sheetName = \"SG2\", row.names = F)\n",
    "write.xlsx(x = outSG3,file = paste0(outDirectory,\"Suppl-Table-S12-target-gene-ranking.xls\"),\n",
    "           sheetName = \"SG3\", row.names = F, append = T)"
   ]
  }
 ],
 "metadata": {
  "kernelspec": {
   "display_name": "R",
   "language": "R",
   "name": "ir"
  },
  "language_info": {
   "codemirror_mode": "r",
   "file_extension": ".r",
   "mimetype": "text/x-r-source",
   "name": "R",
   "pygments_lexer": "r",
   "version": "4.2.2"
  }
 },
 "nbformat": 4,
 "nbformat_minor": 5
}
