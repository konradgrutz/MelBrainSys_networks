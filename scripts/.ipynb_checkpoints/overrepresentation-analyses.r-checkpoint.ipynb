{
 "cells": [
  {
   "cell_type": "code",
   "execution_count": null,
   "id": "67b5e3b1",
   "metadata": {},
   "outputs": [],
   "source": [
    "# make overrepresentation analyses\n",
    "# create\n",
    "#  SupplTable-S8-overrepresentation-analysis.xls\n",
    "# "
   ]
  },
  {
   "cell_type": "code",
   "execution_count": 3,
   "id": "401eaa55",
   "metadata": {
    "collapsed": true
   },
   "outputs": [
    {
     "name": "stderr",
     "output_type": "stream",
     "text": [
      "\n",
      "\n",
      "clusterProfiler v4.6.0  For help: https://yulab-smu.top/biomedical-knowledge-mining-book/\n",
      "\n",
      "If you use clusterProfiler in published research, please cite:\n",
      "T Wu, E Hu, S Xu, M Chen, P Guo, Z Dai, T Feng, L Zhou, W Tang, L Zhan, X Fu, S Liu, X Bo, and G Yu. clusterProfiler 4.0: A universal enrichment tool for interpreting omics data. The Innovation. 2021, 2(3):100141\n",
      "\n",
      "\n",
      "Attaching package: ‘clusterProfiler’\n",
      "\n",
      "\n",
      "The following object is masked from ‘package:AnnotationDbi’:\n",
      "\n",
      "    select\n",
      "\n",
      "\n",
      "The following object is masked from ‘package:IRanges’:\n",
      "\n",
      "    slice\n",
      "\n",
      "\n",
      "The following object is masked from ‘package:S4Vectors’:\n",
      "\n",
      "    rename\n",
      "\n",
      "\n",
      "The following object is masked from ‘package:stats’:\n",
      "\n",
      "    filter\n",
      "\n",
      "\n"
     ]
    }
   ],
   "source": [
    "library(org.Hs.eg.db) # gene annotation, for mapping symbols to entrez/ensembl\n",
    "library(clusterProfiler) # GO enrichment analysis\n",
    "library(xlsx)\n",
    "library(parallel)"
   ]
  },
  {
   "cell_type": "code",
   "execution_count": 238,
   "id": "cddc870b",
   "metadata": {},
   "outputs": [],
   "source": [
    "basePath = \"/data/bcu_projects/MelBrainSys_PostdocProject_Gruetzmann/publications/2022-my-MelBrainSys-paper/scripts-etc-for-publication/\"\n",
    "myPath = paste0(basePath,\"regNet/\")\n",
    "setwd(basePath)"
   ]
  },
  {
   "cell_type": "code",
   "execution_count": 239,
   "id": "171a4318",
   "metadata": {},
   "outputs": [],
   "source": [
    "outDirectory = paste0(basePath,\"FiguresTables/\")"
   ]
  },
  {
   "cell_type": "code",
   "execution_count": 240,
   "id": "bc96fc48",
   "metadata": {},
   "outputs": [],
   "source": [
    "# define met. pairs, and annotation colors \n",
    "tmp = readRDS(file = \"annotation/samplePairs-annotation-colors-clusters.rds\")\n",
    "samplePairPerSubgroup = tmp$samplePairPerSubgroup\n",
    "subgroupNames = tmp$subgroupNames"
   ]
  },
  {
   "cell_type": "code",
   "execution_count": 241,
   "id": "eaef4f97",
   "metadata": {},
   "outputs": [
    {
     "data": {
      "text/html": [
       "<table class=\"dataframe\">\n",
       "<caption>A matrix: 6 × 11 of type dbl</caption>\n",
       "<thead>\n",
       "\t<tr><th></th><th scope=col>P03_BLun</th><th scope=col>P04_BSki_1</th><th scope=col>P08_BSof_1</th><th scope=col>P08_BSof_2</th><th scope=col>P08_BSof_3</th><th scope=col>P16_BLun</th><th scope=col>P18_BLun_1</th><th scope=col>P18_BLun_2</th><th scope=col>P39_BLun</th><th scope=col>P42_BLym_1</th><th scope=col>P42_BLym_2</th></tr>\n",
       "</thead>\n",
       "<tbody>\n",
       "\t<tr><th scope=row>NOC2L</th><td>-0.5131848</td><td>0.2623647</td><td>-0.8237658</td><td>-0.04970504</td><td>NaN</td><td> 0.197820589</td><td>-0.29186426</td><td>-0.6056519</td><td>NaN</td><td>NaN</td><td>-0.31009925</td></tr>\n",
       "\t<tr><th scope=row>KLHL17</th><td>-0.3754720</td><td>0.5195951</td><td>-0.8366981</td><td>-0.26829236</td><td>NaN</td><td>-0.008449568</td><td>-0.90867937</td><td>-0.5893162</td><td>NaN</td><td>NaN</td><td>-0.29978671</td></tr>\n",
       "\t<tr><th scope=row>HES4</th><td>-1.0220673</td><td>0.3757407</td><td>-0.7503114</td><td>-0.01497900</td><td>NaN</td><td>-1.191426658</td><td>-0.16027045</td><td>-0.8164230</td><td>NaN</td><td>NaN</td><td>-0.51779540</td></tr>\n",
       "\t<tr><th scope=row>ISG15</th><td>-0.4778416</td><td>0.2964649</td><td>-0.8558360</td><td> 0.30105722</td><td>NaN</td><td> 0.398693258</td><td> 0.05842640</td><td>-0.3556355</td><td>NaN</td><td>NaN</td><td>-0.37101770</td></tr>\n",
       "\t<tr><th scope=row>AGRN</th><td>-0.8571891</td><td>0.5567957</td><td>-0.9730449</td><td> 0.11305796</td><td>NaN</td><td>-0.111755277</td><td>-0.09810649</td><td>-0.4588938</td><td>NaN</td><td>NaN</td><td>-0.09384669</td></tr>\n",
       "\t<tr><th scope=row>C1orf159</th><td>       NaN</td><td>      NaN</td><td>       NaN</td><td>        NaN</td><td>NaN</td><td>         NaN</td><td>-0.21481722</td><td>       NaN</td><td>NaN</td><td>NaN</td><td>        NaN</td></tr>\n",
       "</tbody>\n",
       "</table>\n"
      ],
      "text/latex": [
       "A matrix: 6 × 11 of type dbl\n",
       "\\begin{tabular}{r|lllllllllll}\n",
       "  & P03\\_BLun & P04\\_BSki\\_1 & P08\\_BSof\\_1 & P08\\_BSof\\_2 & P08\\_BSof\\_3 & P16\\_BLun & P18\\_BLun\\_1 & P18\\_BLun\\_2 & P39\\_BLun & P42\\_BLym\\_1 & P42\\_BLym\\_2\\\\\n",
       "\\hline\n",
       "\tNOC2L & -0.5131848 & 0.2623647 & -0.8237658 & -0.04970504 & NaN &  0.197820589 & -0.29186426 & -0.6056519 & NaN & NaN & -0.31009925\\\\\n",
       "\tKLHL17 & -0.3754720 & 0.5195951 & -0.8366981 & -0.26829236 & NaN & -0.008449568 & -0.90867937 & -0.5893162 & NaN & NaN & -0.29978671\\\\\n",
       "\tHES4 & -1.0220673 & 0.3757407 & -0.7503114 & -0.01497900 & NaN & -1.191426658 & -0.16027045 & -0.8164230 & NaN & NaN & -0.51779540\\\\\n",
       "\tISG15 & -0.4778416 & 0.2964649 & -0.8558360 &  0.30105722 & NaN &  0.398693258 &  0.05842640 & -0.3556355 & NaN & NaN & -0.37101770\\\\\n",
       "\tAGRN & -0.8571891 & 0.5567957 & -0.9730449 &  0.11305796 & NaN & -0.111755277 & -0.09810649 & -0.4588938 & NaN & NaN & -0.09384669\\\\\n",
       "\tC1orf159 &        NaN &       NaN &        NaN &         NaN & NaN &          NaN & -0.21481722 &        NaN & NaN & NaN &         NaN\\\\\n",
       "\\end{tabular}\n"
      ],
      "text/markdown": [
       "\n",
       "A matrix: 6 × 11 of type dbl\n",
       "\n",
       "| <!--/--> | P03_BLun | P04_BSki_1 | P08_BSof_1 | P08_BSof_2 | P08_BSof_3 | P16_BLun | P18_BLun_1 | P18_BLun_2 | P39_BLun | P42_BLym_1 | P42_BLym_2 |\n",
       "|---|---|---|---|---|---|---|---|---|---|---|---|\n",
       "| NOC2L | -0.5131848 | 0.2623647 | -0.8237658 | -0.04970504 | NaN |  0.197820589 | -0.29186426 | -0.6056519 | NaN | NaN | -0.31009925 |\n",
       "| KLHL17 | -0.3754720 | 0.5195951 | -0.8366981 | -0.26829236 | NaN | -0.008449568 | -0.90867937 | -0.5893162 | NaN | NaN | -0.29978671 |\n",
       "| HES4 | -1.0220673 | 0.3757407 | -0.7503114 | -0.01497900 | NaN | -1.191426658 | -0.16027045 | -0.8164230 | NaN | NaN | -0.51779540 |\n",
       "| ISG15 | -0.4778416 | 0.2964649 | -0.8558360 |  0.30105722 | NaN |  0.398693258 |  0.05842640 | -0.3556355 | NaN | NaN | -0.37101770 |\n",
       "| AGRN | -0.8571891 | 0.5567957 | -0.9730449 |  0.11305796 | NaN | -0.111755277 | -0.09810649 | -0.4588938 | NaN | NaN | -0.09384669 |\n",
       "| C1orf159 |        NaN |       NaN |        NaN |         NaN | NaN |          NaN | -0.21481722 |        NaN | NaN | NaN |         NaN |\n",
       "\n"
      ],
      "text/plain": [
       "         P03_BLun   P04_BSki_1 P08_BSof_1 P08_BSof_2  P08_BSof_3 P16_BLun    \n",
       "NOC2L    -0.5131848 0.2623647  -0.8237658 -0.04970504 NaN         0.197820589\n",
       "KLHL17   -0.3754720 0.5195951  -0.8366981 -0.26829236 NaN        -0.008449568\n",
       "HES4     -1.0220673 0.3757407  -0.7503114 -0.01497900 NaN        -1.191426658\n",
       "ISG15    -0.4778416 0.2964649  -0.8558360  0.30105722 NaN         0.398693258\n",
       "AGRN     -0.8571891 0.5567957  -0.9730449  0.11305796 NaN        -0.111755277\n",
       "C1orf159        NaN       NaN         NaN         NaN NaN                 NaN\n",
       "         P18_BLun_1  P18_BLun_2 P39_BLun P42_BLym_1 P42_BLym_2 \n",
       "NOC2L    -0.29186426 -0.6056519 NaN      NaN        -0.31009925\n",
       "KLHL17   -0.90867937 -0.5893162 NaN      NaN        -0.29978671\n",
       "HES4     -0.16027045 -0.8164230 NaN      NaN        -0.51779540\n",
       "ISG15     0.05842640 -0.3556355 NaN      NaN        -0.37101770\n",
       "AGRN     -0.09810649 -0.4588938 NaN      NaN        -0.09384669\n",
       "C1orf159 -0.21481722        NaN NaN      NaN                NaN"
      ]
     },
     "metadata": {},
     "output_type": "display_data"
    }
   ],
   "source": [
    "impRatios = readRDS(file=\"metPairs-impactRatios-onAllTargetGenes.rds\")\n",
    "head(impRatios)"
   ]
  },
  {
   "cell_type": "code",
   "execution_count": 242,
   "id": "0672fa5e",
   "metadata": {},
   "outputs": [],
   "source": [
    "allGenesNWs = rownames(impRatios)"
   ]
  },
  {
   "cell_type": "code",
   "execution_count": 243,
   "id": "1d5e087c",
   "metadata": {},
   "outputs": [
    {
     "name": "stderr",
     "output_type": "stream",
     "text": [
      "'select()' returned 1:many mapping between keys and columns\n",
      "\n",
      "Warning message in bitr(allGenesNWs, fromType = \"SYMBOL\", toType = c(\"ENSEMBL\", :\n",
      "“6.08% of input gene IDs are fail to map...”\n"
     ]
    },
    {
     "data": {
      "text/html": [
       "311"
      ],
      "text/latex": [
       "311"
      ],
      "text/markdown": [
       "311"
      ],
      "text/plain": [
       "[1] 311"
      ]
     },
     "metadata": {},
     "output_type": "display_data"
    },
    {
     "data": {
      "text/html": [
       "<table class=\"dataframe\">\n",
       "<caption>A data.frame: 2 × 3</caption>\n",
       "<thead>\n",
       "\t<tr><th></th><th scope=col>SYMBOL</th><th scope=col>ENSEMBL</th><th scope=col>ENTREZID</th></tr>\n",
       "\t<tr><th></th><th scope=col>&lt;chr&gt;</th><th scope=col>&lt;chr&gt;</th><th scope=col>&lt;chr&gt;</th></tr>\n",
       "</thead>\n",
       "<tbody>\n",
       "\t<tr><th scope=row>NOC2L</th><td>NOC2L </td><td>ENSG00000188976</td><td>26155 </td></tr>\n",
       "\t<tr><th scope=row>KLHL17</th><td>KLHL17</td><td>ENSG00000187961</td><td>339451</td></tr>\n",
       "</tbody>\n",
       "</table>\n"
      ],
      "text/latex": [
       "A data.frame: 2 × 3\n",
       "\\begin{tabular}{r|lll}\n",
       "  & SYMBOL & ENSEMBL & ENTREZID\\\\\n",
       "  & <chr> & <chr> & <chr>\\\\\n",
       "\\hline\n",
       "\tNOC2L & NOC2L  & ENSG00000188976 & 26155 \\\\\n",
       "\tKLHL17 & KLHL17 & ENSG00000187961 & 339451\\\\\n",
       "\\end{tabular}\n"
      ],
      "text/markdown": [
       "\n",
       "A data.frame: 2 × 3\n",
       "\n",
       "| <!--/--> | SYMBOL &lt;chr&gt; | ENSEMBL &lt;chr&gt; | ENTREZID &lt;chr&gt; |\n",
       "|---|---|---|---|\n",
       "| NOC2L | NOC2L  | ENSG00000188976 | 26155  |\n",
       "| KLHL17 | KLHL17 | ENSG00000187961 | 339451 |\n",
       "\n"
      ],
      "text/plain": [
       "       SYMBOL ENSEMBL         ENTREZID\n",
       "NOC2L  NOC2L  ENSG00000188976 26155   \n",
       "KLHL17 KLHL17 ENSG00000187961 339451  "
      ]
     },
     "metadata": {},
     "output_type": "display_data"
    }
   ],
   "source": [
    "# mapping all genes to Entrez\n",
    "# \"ENTREZID\"\n",
    "allGenesNWsMapped <- bitr(allGenesNWs, fromType = \"SYMBOL\",toType = c(\"ENSEMBL\",\"ENTREZID\"),OrgDb = org.Hs.eg.db)\n",
    "# 5.2% failed mapping (when only mapping on ENSEMBL/ENTREZ it is 5.16 and 5.18%)\n",
    "wh = which(duplicated(allGenesNWsMapped$SYMBOL))\n",
    "length(wh) # 324 duplicated, remove the duplicates\n",
    "allGenesNWsMapped = allGenesNWsMapped[-wh,]\n",
    "rownames(allGenesNWsMapped) = allGenesNWsMapped$SYMBOL\n",
    "head(allGenesNWsMapped,2)"
   ]
  },
  {
   "cell_type": "code",
   "execution_count": 244,
   "id": "f976770d",
   "metadata": {},
   "outputs": [],
   "source": [
    "# GO ID / descr mapping:\n",
    "goIDdescrMap = function(res) {\n",
    "    tmp = res[,c(\"ID\",\"Description\")]\n",
    "    wh = which(duplicated(tmp$ID))\n",
    "    if(length(wh)>0) {tmp = tmp[-wh,]}\n",
    "    goIDdescr = tmp$Description; names(goIDdescr) = tmp$ID\n",
    "    return(goIDdescr)\n",
    "}"
   ]
  },
  {
   "cell_type": "code",
   "execution_count": 246,
   "id": "76a292bd",
   "metadata": {},
   "outputs": [],
   "source": [
    "calcOverrepr1set = function( geneSet, allGenesSet, maxQval) {\n",
    "    geneSetEnsg = na.omit(allGenesSet[geneSet, \"ENSEMBL\"])\n",
    "    geneSetEntr = na.omit(allGenesSet[geneSet, \"ENTREZID\"]) \n",
    "    res = NULL\n",
    "    for (goCateg in c(\"MF\",\"CC\",\"BP\")) {\n",
    "        go = enrichGO(gene = geneSetEnsg, universe = allGenesSet$ENSEMBL,\n",
    "                    OrgDb = org.Hs.eg.db, keyType = 'ENSEMBL', ont = goCateg, \n",
    "                    pAdjustMethod = \"BH\", pvalueCutoff  = 1, qvalueCutoff  = maxQval, readable = T)\n",
    "        if(class(go)!=\"NULL\" & nrow(go)>0) {\n",
    "            res = rbind(res,data.frame(stringsAsFactors=F, categ = goCateg,num_genes=length(geneSetEnsg),go))\n",
    "        }\n",
    "    }\n",
    "    kegg = enrichKEGG(gene = geneSetEntr, universe = allGenesSet$ENTREZID, qvalueCutoff = maxQval,\n",
    "             keyType = 'ncbi-geneid', organism = 'hsa',pvalueCutoff = 1)\n",
    "    if(class(kegg)!=\"NULL\" & nrow(kegg)>0) {\n",
    "        res = rbind(res,data.frame(stringsAsFactors=F, categ = \"KEGG\" ,num_genes=length(geneSetEntr) ,kegg))\n",
    "    }\n",
    "    res\n",
    "}"
   ]
  },
  {
   "cell_type": "code",
   "execution_count": 247,
   "id": "14e8410c",
   "metadata": {},
   "outputs": [],
   "source": [
    "calcOverReprWcutoff = function(impRatios, decreasing, nbCPUs, percentile) {\n",
    "    GOres = mclapply(mc.cores = nbCPUs,X = colnames(impRatios), FUN = function(samplePair) {\n",
    "            topGenes = head(sort(impRatios[,samplePair], decreasing = decreasing),\n",
    "                            round(percentile*nrow(allGenesNWsMapped)/100))\n",
    "            if(decreasing) { \n",
    "                topGenes = topGenes[ which(topGenes > 0)] \n",
    "            } else {\n",
    "                topGenes = topGenes[ which(topGenes < 0)] \n",
    "            }\n",
    "            message(samplePair,\" \",length(topGenes),\" topGenes\")\n",
    "            if (length(topGenes)>0) {\n",
    "                topGenes = names(topGenes)\n",
    "                tmp = calcOverrepr1set(geneSet = topGenes, allGenesSet = allGenesNWsMapped, maxQval = 0.1)\n",
    "                if(class(tmp)!=\"NULL\") {\n",
    "                    return(data.frame(stringsAsFactors = F,samplePair = samplePair,tmp))\n",
    "                } else { return(NULL) }\n",
    "            } else { return(NULL) }\n",
    "        })\n",
    "    do.call(rbind,GOres)\n",
    "}"
   ]
  },
  {
   "cell_type": "code",
   "execution_count": 249,
   "id": "f6289efe",
   "metadata": {},
   "outputs": [],
   "source": [
    "set.seed(seed = 42) # reproducible results"
   ]
  },
  {
   "cell_type": "code",
   "execution_count": 250,
   "id": "d5012372",
   "metadata": {},
   "outputs": [
    {
     "name": "stderr",
     "output_type": "stream",
     "text": [
      "P03_BLun 388 topGenes\n",
      "\n",
      "P04_BSki_1 388 topGenes\n",
      "\n",
      "P08_BSof_1 388 topGenes\n",
      "\n",
      "P08_BSof_2 388 topGenes\n",
      "\n",
      "P08_BSof_3 0 topGenes\n",
      "\n",
      "P16_BLun 388 topGenes\n",
      "\n",
      "P18_BLun_1 388 topGenes\n",
      "\n",
      "P18_BLun_2 388 topGenes\n",
      "\n",
      "P39_BLun 0 topGenes\n",
      "\n",
      "P42_BLym_1 0 topGenes\n",
      "\n",
      "P42_BLym_2 388 topGenes\n",
      "\n"
     ]
    }
   ],
   "source": [
    "nbCPUs = 1 # parallelization doesn't work, enrichment functions break with error \"database disk image is malformed\"\n",
    "allRevMeanGOres = calcOverReprWcutoff(impRatios = impRatios, decreasing = F,\n",
    "                                      nbCPUs = nbCPUs,percentile = 5 )\n",
    "# takes 15-30min"
   ]
  },
  {
   "cell_type": "code",
   "execution_count": 251,
   "id": "95279969",
   "metadata": {},
   "outputs": [
    {
     "name": "stderr",
     "output_type": "stream",
     "text": [
      "P03_BLun 388 topGenes\n",
      "\n",
      "P04_BSki_1 388 topGenes\n",
      "\n",
      "P08_BSof_1 19 topGenes\n",
      "\n",
      "P08_BSof_2 388 topGenes\n",
      "\n",
      "P08_BSof_3 0 topGenes\n",
      "\n",
      "P16_BLun 388 topGenes\n",
      "\n",
      "P18_BLun_1 388 topGenes\n",
      "\n",
      "P18_BLun_2 75 topGenes\n",
      "\n",
      "P39_BLun 0 topGenes\n",
      "\n",
      "P42_BLym_1 0 topGenes\n",
      "\n",
      "P42_BLym_2 388 topGenes\n",
      "\n"
     ]
    }
   ],
   "source": [
    "allFwdMeanGOres = calcOverReprWcutoff(impRatios = impRatios, decreasing = T,\n",
    "                                      nbCPUs = nbCPUs,percentile = 5 )\n",
    "# takes 15-30min"
   ]
  },
  {
   "cell_type": "code",
   "execution_count": 252,
   "id": "003f7db2",
   "metadata": {
    "scrolled": true
   },
   "outputs": [
    {
     "data": {
      "text/html": [
       "<table class=\"dataframe\">\n",
       "<caption>A data.frame: 2 × 12</caption>\n",
       "<thead>\n",
       "\t<tr><th></th><th scope=col>samplePair</th><th scope=col>categ</th><th scope=col>num_genes</th><th scope=col>ID</th><th scope=col>Description</th><th scope=col>GeneRatio</th><th scope=col>BgRatio</th><th scope=col>pvalue</th><th scope=col>p.adjust</th><th scope=col>qvalue</th><th scope=col>geneID</th><th scope=col>Count</th></tr>\n",
       "\t<tr><th></th><th scope=col>&lt;chr&gt;</th><th scope=col>&lt;chr&gt;</th><th scope=col>&lt;int&gt;</th><th scope=col>&lt;chr&gt;</th><th scope=col>&lt;chr&gt;</th><th scope=col>&lt;chr&gt;</th><th scope=col>&lt;chr&gt;</th><th scope=col>&lt;dbl&gt;</th><th scope=col>&lt;dbl&gt;</th><th scope=col>&lt;dbl&gt;</th><th scope=col>&lt;chr&gt;</th><th scope=col>&lt;int&gt;</th></tr>\n",
       "</thead>\n",
       "<tbody>\n",
       "\t<tr><th scope=row>GO:0015453</th><td>P03_BLun</td><td>MF</td><td>362</td><td>GO:0015453</td><td>oxidoreduction-driven active transmembrane transporter activity</td><td>14/350</td><td>44/7474</td><td>6.022257e-09</td><td>1.745503e-06</td><td>1.685142e-06</td><td>NDUFS8/COX6B1/NDUFA8/COX4I1/NDUFA4/NDUFB3/NDUFB7/NDUFB9/COX5B/COX6A1/NDUFB4/NDUFA1/CYC1/NDUFB10                </td><td>14</td></tr>\n",
       "\t<tr><th scope=row>GO:0009055</th><td>P03_BLun</td><td>MF</td><td>362</td><td>GO:0009055</td><td>electron transfer activity                                     </td><td>17/350</td><td>67/7474</td><td>6.726409e-09</td><td>1.745503e-06</td><td>1.685142e-06</td><td>NDUFS8/COX6B1/NDUFA8/COX4I1/NDUFA4/NDUFB3/AKR1B1/NDUFB7/NDUFB9/COX5B/COX6A1/NDUFB4/NDUFA1/CYC1/SDHB/GSR/NDUFB10</td><td>17</td></tr>\n",
       "</tbody>\n",
       "</table>\n"
      ],
      "text/latex": [
       "A data.frame: 2 × 12\n",
       "\\begin{tabular}{r|llllllllllll}\n",
       "  & samplePair & categ & num\\_genes & ID & Description & GeneRatio & BgRatio & pvalue & p.adjust & qvalue & geneID & Count\\\\\n",
       "  & <chr> & <chr> & <int> & <chr> & <chr> & <chr> & <chr> & <dbl> & <dbl> & <dbl> & <chr> & <int>\\\\\n",
       "\\hline\n",
       "\tGO:0015453 & P03\\_BLun & MF & 362 & GO:0015453 & oxidoreduction-driven active transmembrane transporter activity & 14/350 & 44/7474 & 6.022257e-09 & 1.745503e-06 & 1.685142e-06 & NDUFS8/COX6B1/NDUFA8/COX4I1/NDUFA4/NDUFB3/NDUFB7/NDUFB9/COX5B/COX6A1/NDUFB4/NDUFA1/CYC1/NDUFB10                 & 14\\\\\n",
       "\tGO:0009055 & P03\\_BLun & MF & 362 & GO:0009055 & electron transfer activity                                      & 17/350 & 67/7474 & 6.726409e-09 & 1.745503e-06 & 1.685142e-06 & NDUFS8/COX6B1/NDUFA8/COX4I1/NDUFA4/NDUFB3/AKR1B1/NDUFB7/NDUFB9/COX5B/COX6A1/NDUFB4/NDUFA1/CYC1/SDHB/GSR/NDUFB10 & 17\\\\\n",
       "\\end{tabular}\n"
      ],
      "text/markdown": [
       "\n",
       "A data.frame: 2 × 12\n",
       "\n",
       "| <!--/--> | samplePair &lt;chr&gt; | categ &lt;chr&gt; | num_genes &lt;int&gt; | ID &lt;chr&gt; | Description &lt;chr&gt; | GeneRatio &lt;chr&gt; | BgRatio &lt;chr&gt; | pvalue &lt;dbl&gt; | p.adjust &lt;dbl&gt; | qvalue &lt;dbl&gt; | geneID &lt;chr&gt; | Count &lt;int&gt; |\n",
       "|---|---|---|---|---|---|---|---|---|---|---|---|---|\n",
       "| GO:0015453 | P03_BLun | MF | 362 | GO:0015453 | oxidoreduction-driven active transmembrane transporter activity | 14/350 | 44/7474 | 6.022257e-09 | 1.745503e-06 | 1.685142e-06 | NDUFS8/COX6B1/NDUFA8/COX4I1/NDUFA4/NDUFB3/NDUFB7/NDUFB9/COX5B/COX6A1/NDUFB4/NDUFA1/CYC1/NDUFB10                 | 14 |\n",
       "| GO:0009055 | P03_BLun | MF | 362 | GO:0009055 | electron transfer activity                                      | 17/350 | 67/7474 | 6.726409e-09 | 1.745503e-06 | 1.685142e-06 | NDUFS8/COX6B1/NDUFA8/COX4I1/NDUFA4/NDUFB3/AKR1B1/NDUFB7/NDUFB9/COX5B/COX6A1/NDUFB4/NDUFA1/CYC1/SDHB/GSR/NDUFB10 | 17 |\n",
       "\n"
      ],
      "text/plain": [
       "           samplePair categ num_genes ID        \n",
       "GO:0015453 P03_BLun   MF    362       GO:0015453\n",
       "GO:0009055 P03_BLun   MF    362       GO:0009055\n",
       "           Description                                                    \n",
       "GO:0015453 oxidoreduction-driven active transmembrane transporter activity\n",
       "GO:0009055 electron transfer activity                                     \n",
       "           GeneRatio BgRatio pvalue       p.adjust     qvalue      \n",
       "GO:0015453 14/350    44/7474 6.022257e-09 1.745503e-06 1.685142e-06\n",
       "GO:0009055 17/350    67/7474 6.726409e-09 1.745503e-06 1.685142e-06\n",
       "           geneID                                                                                                         \n",
       "GO:0015453 NDUFS8/COX6B1/NDUFA8/COX4I1/NDUFA4/NDUFB3/NDUFB7/NDUFB9/COX5B/COX6A1/NDUFB4/NDUFA1/CYC1/NDUFB10                \n",
       "GO:0009055 NDUFS8/COX6B1/NDUFA8/COX4I1/NDUFA4/NDUFB3/AKR1B1/NDUFB7/NDUFB9/COX5B/COX6A1/NDUFB4/NDUFA1/CYC1/SDHB/GSR/NDUFB10\n",
       "           Count\n",
       "GO:0015453 14   \n",
       "GO:0009055 17   "
      ]
     },
     "metadata": {},
     "output_type": "display_data"
    },
    {
     "data": {
      "text/html": [
       "<table class=\"dataframe\">\n",
       "<caption>A data.frame: 2 × 12</caption>\n",
       "<thead>\n",
       "\t<tr><th></th><th scope=col>samplePair</th><th scope=col>categ</th><th scope=col>num_genes</th><th scope=col>ID</th><th scope=col>Description</th><th scope=col>GeneRatio</th><th scope=col>BgRatio</th><th scope=col>pvalue</th><th scope=col>p.adjust</th><th scope=col>qvalue</th><th scope=col>geneID</th><th scope=col>Count</th></tr>\n",
       "\t<tr><th></th><th scope=col>&lt;chr&gt;</th><th scope=col>&lt;chr&gt;</th><th scope=col>&lt;int&gt;</th><th scope=col>&lt;chr&gt;</th><th scope=col>&lt;chr&gt;</th><th scope=col>&lt;chr&gt;</th><th scope=col>&lt;chr&gt;</th><th scope=col>&lt;dbl&gt;</th><th scope=col>&lt;dbl&gt;</th><th scope=col>&lt;dbl&gt;</th><th scope=col>&lt;chr&gt;</th><th scope=col>&lt;int&gt;</th></tr>\n",
       "</thead>\n",
       "<tbody>\n",
       "\t<tr><th scope=row>GO:0038061</th><td>P42_BLym_2</td><td>BP</td><td>367</td><td>GO:0038061</td><td>NIK/NF-kappaB signaling          </td><td>9/339 </td><td>69/7283 </td><td>0.004424211</td><td>0.1023846</td><td>0.09351888</td><td>LGALS9/NOD2/RBCK1/TRAF6/AKT1/TRIP6/PTPN22/NMI/NFAT5                     </td><td> 9</td></tr>\n",
       "\t<tr><th scope=row>GO:0002573</th><td>P42_BLym_2</td><td>BP</td><td>367</td><td>GO:0002573</td><td>myeloid leukocyte differentiation</td><td>12/339</td><td>109/7283</td><td>0.004564736</td><td>0.1049276</td><td>0.09584171</td><td>TGFBR2/GATA3/TRAF6/CBFA2T3/KLF10/LRRK1/IL15/CEBPA/GPR183/CCR7/TCIRG1/ID2</td><td>12</td></tr>\n",
       "</tbody>\n",
       "</table>\n"
      ],
      "text/latex": [
       "A data.frame: 2 × 12\n",
       "\\begin{tabular}{r|llllllllllll}\n",
       "  & samplePair & categ & num\\_genes & ID & Description & GeneRatio & BgRatio & pvalue & p.adjust & qvalue & geneID & Count\\\\\n",
       "  & <chr> & <chr> & <int> & <chr> & <chr> & <chr> & <chr> & <dbl> & <dbl> & <dbl> & <chr> & <int>\\\\\n",
       "\\hline\n",
       "\tGO:0038061 & P42\\_BLym\\_2 & BP & 367 & GO:0038061 & NIK/NF-kappaB signaling           & 9/339  & 69/7283  & 0.004424211 & 0.1023846 & 0.09351888 & LGALS9/NOD2/RBCK1/TRAF6/AKT1/TRIP6/PTPN22/NMI/NFAT5                      &  9\\\\\n",
       "\tGO:0002573 & P42\\_BLym\\_2 & BP & 367 & GO:0002573 & myeloid leukocyte differentiation & 12/339 & 109/7283 & 0.004564736 & 0.1049276 & 0.09584171 & TGFBR2/GATA3/TRAF6/CBFA2T3/KLF10/LRRK1/IL15/CEBPA/GPR183/CCR7/TCIRG1/ID2 & 12\\\\\n",
       "\\end{tabular}\n"
      ],
      "text/markdown": [
       "\n",
       "A data.frame: 2 × 12\n",
       "\n",
       "| <!--/--> | samplePair &lt;chr&gt; | categ &lt;chr&gt; | num_genes &lt;int&gt; | ID &lt;chr&gt; | Description &lt;chr&gt; | GeneRatio &lt;chr&gt; | BgRatio &lt;chr&gt; | pvalue &lt;dbl&gt; | p.adjust &lt;dbl&gt; | qvalue &lt;dbl&gt; | geneID &lt;chr&gt; | Count &lt;int&gt; |\n",
       "|---|---|---|---|---|---|---|---|---|---|---|---|---|\n",
       "| GO:0038061 | P42_BLym_2 | BP | 367 | GO:0038061 | NIK/NF-kappaB signaling           | 9/339  | 69/7283  | 0.004424211 | 0.1023846 | 0.09351888 | LGALS9/NOD2/RBCK1/TRAF6/AKT1/TRIP6/PTPN22/NMI/NFAT5                      |  9 |\n",
       "| GO:0002573 | P42_BLym_2 | BP | 367 | GO:0002573 | myeloid leukocyte differentiation | 12/339 | 109/7283 | 0.004564736 | 0.1049276 | 0.09584171 | TGFBR2/GATA3/TRAF6/CBFA2T3/KLF10/LRRK1/IL15/CEBPA/GPR183/CCR7/TCIRG1/ID2 | 12 |\n",
       "\n"
      ],
      "text/plain": [
       "           samplePair categ num_genes ID        \n",
       "GO:0038061 P42_BLym_2 BP    367       GO:0038061\n",
       "GO:0002573 P42_BLym_2 BP    367       GO:0002573\n",
       "           Description                       GeneRatio BgRatio  pvalue     \n",
       "GO:0038061 NIK/NF-kappaB signaling           9/339     69/7283  0.004424211\n",
       "GO:0002573 myeloid leukocyte differentiation 12/339    109/7283 0.004564736\n",
       "           p.adjust  qvalue    \n",
       "GO:0038061 0.1023846 0.09351888\n",
       "GO:0002573 0.1049276 0.09584171\n",
       "           geneID                                                                  \n",
       "GO:0038061 LGALS9/NOD2/RBCK1/TRAF6/AKT1/TRIP6/PTPN22/NMI/NFAT5                     \n",
       "GO:0002573 TGFBR2/GATA3/TRAF6/CBFA2T3/KLF10/LRRK1/IL15/CEBPA/GPR183/CCR7/TCIRG1/ID2\n",
       "           Count\n",
       "GO:0038061  9   \n",
       "GO:0002573 12   "
      ]
     },
     "metadata": {},
     "output_type": "display_data"
    }
   ],
   "source": [
    "head(allFwdMeanGOres,2)\n",
    "tail(allFwdMeanGOres,2)"
   ]
  },
  {
   "cell_type": "code",
   "execution_count": 253,
   "id": "f9e9067c",
   "metadata": {},
   "outputs": [],
   "source": [
    "# save for paper\n",
    "write.xlsx(allFwdMeanGOres, sheetName=\"upper 5%\",append=F,\n",
    "           file = paste0(outDirectory,\"SupplTable-S8-overrepresentation-analysis.xls\"))\n",
    "# save for paper\n",
    "write.xlsx(allRevMeanGOres, sheetName=\"lower 5%\", append=T,\n",
    "           file = paste0(outDirectory,\"SupplTable-S8-overrepresentation-analysis.xls\"))"
   ]
  },
  {
   "cell_type": "markdown",
   "id": "5126622e",
   "metadata": {},
   "source": [
    "### exclusive GOs\n",
    "shared only among met. pairs of a subgroup"
   ]
  },
  {
   "cell_type": "code",
   "execution_count": 255,
   "id": "3e964c42",
   "metadata": {},
   "outputs": [],
   "source": [
    "goIDdescr = goIDdescrMap(res = rbind(allFwdMeanGOres, allRevMeanGOres))"
   ]
  },
  {
   "cell_type": "code",
   "execution_count": 256,
   "id": "8bab6f2b",
   "metadata": {},
   "outputs": [],
   "source": [
    "FwdAndRevResults = list(\"upper 5%\" = allFwdMeanGOres, \n",
    "                     \"lower 5%\"=allRevMeanGOres)"
   ]
  },
  {
   "cell_type": "code",
   "execution_count": 257,
   "id": "f038409c",
   "metadata": {
    "scrolled": true
   },
   "outputs": [
    {
     "name": "stderr",
     "output_type": "stream",
     "text": [
      "upper 5%\n",
      "\n",
      "subgroup SG1: P04_BSki_1 P08_BSof_2 P16_BLun P42_BLym_1, 58 shared categories\n",
      "\n",
      " | upper 5% | SG1 | 4 | 2 | GO:0001775 | cell activation |\n",
      " | upper 5% | SG1 | 4 | 2 | GO:0001816 | cytokine production |\n",
      " | upper 5% | SG1 | 4 | 2 | GO:0001817 | regulation of cytokine production |\n",
      " | upper 5% | SG1 | 4 | 2 | GO:0001819 | positive regulation of cytokine production |\n",
      " | upper 5% | SG1 | 4 | 2 | GO:0002250 | adaptive immune response |\n",
      " | upper 5% | SG1 | 4 | 2 | GO:0002252 | immune effector process |\n",
      " | upper 5% | SG1 | 4 | 2 | GO:0002460 | adaptive immune response based on somatic recombination of immune receptors built from immunoglobulin superfamily domains |\n",
      " | upper 5% | SG1 | 4 | 2 | GO:0002683 | negative regulation of immune system process |\n",
      " | upper 5% | SG1 | 4 | 2 | GO:0002684 | positive regulation of immune system process |\n",
      " | upper 5% | SG1 | 4 | 2 | GO:0002694 | regulation of leukocyte activation |\n",
      "\n",
      "\n",
      "subgroup SG2: P08_BSof_1 P18_BLun_2 P39_BLun, 0 shared categories\n",
      "\n",
      "subgroup SG3: P03_BLun P08_BSof_3 P18_BLun_1 P42_BLym_2, 121 shared categories\n",
      "\n",
      " | upper 5% | SG3 | 4 | 3 | GO:0001775 | cell activation |\n",
      " | upper 5% | SG3 | 4 | 3 | GO:0001816 | cytokine production |\n",
      " | upper 5% | SG3 | 4 | 3 | GO:0001817 | regulation of cytokine production |\n",
      " | upper 5% | SG3 | 4 | 3 | GO:0002696 | positive regulation of leukocyte activation |\n",
      " | upper 5% | SG3 | 4 | 3 | GO:0006954 | inflammatory response |\n",
      " | upper 5% | SG3 | 4 | 3 | GO:0030335 | positive regulation of cell migration |\n",
      " | upper 5% | SG3 | 4 | 3 | GO:0032943 | mononuclear cell proliferation |\n",
      " | upper 5% | SG3 | 4 | 3 | GO:0035710 | CD4-positive, alpha-beta T cell activation |\n",
      " | upper 5% | SG3 | 4 | 3 | GO:0040017 | positive regulation of locomotion |\n",
      " | upper 5% | SG3 | 4 | 3 | GO:0042098 | T cell proliferation |\n",
      "\n",
      "\n",
      "lower 5%\n",
      "\n",
      "subgroup SG1: P04_BSki_1 P08_BSof_2 P16_BLun P42_BLym_1, 430 shared categories\n",
      "\n",
      " | lower 5% | SG1 | 4 | 3 | GO:0001775 | cell activation |\n",
      " | lower 5% | SG1 | 4 | 3 | GO:0002263 | cell activation involved in immune response |\n",
      " | lower 5% | SG1 | 4 | 3 | GO:0002286 | T cell activation involved in immune response |\n",
      " | lower 5% | SG1 | 4 | 3 | GO:0002287 | alpha-beta T cell activation involved in immune response |\n",
      " | lower 5% | SG1 | 4 | 3 | GO:0002292 | T cell differentiation involved in immune response |\n",
      " | lower 5% | SG1 | 4 | 3 | GO:0002293 | alpha-beta T cell differentiation involved in immune response |\n",
      " | lower 5% | SG1 | 4 | 3 | GO:0002294 | CD4-positive, alpha-beta T cell differentiation involved in immune response |\n",
      " | lower 5% | SG1 | 4 | 3 | GO:0002366 | leukocyte activation involved in immune response |\n",
      " | lower 5% | SG1 | 4 | 3 | GO:0002521 | leukocyte differentiation |\n",
      " | lower 5% | SG1 | 4 | 3 | GO:0002573 | myeloid leukocyte differentiation |\n",
      "\n",
      "\n",
      "subgroup SG2: P08_BSof_1 P18_BLun_2 P39_BLun, 4 shared categories\n",
      "\n",
      " | lower 5% | SG2 | 3 | 2 | GO:0006954 | inflammatory response |\n",
      " | lower 5% | SG2 | 3 | 2 | GO:0032088 | negative regulation of NF-kappaB transcription factor activity |\n",
      " | lower 5% | SG2 | 3 | 2 | GO:0051241 | negative regulation of multicellular organismal process |\n",
      " | lower 5% | SG2 | 3 | 2 | hsa04060 | Cytokine-cytokine receptor interaction |\n",
      "\n",
      "\n",
      "subgroup SG3: P03_BLun P08_BSof_3 P18_BLun_1 P42_BLym_2, 10 shared categories\n",
      "\n",
      " | lower 5% | SG3 | 4 | 2 | GO:0001775 | cell activation |\n",
      " | lower 5% | SG3 | 4 | 2 | GO:0007159 | leukocyte cell-cell adhesion |\n",
      " | lower 5% | SG3 | 4 | 2 | GO:0022407 | regulation of cell-cell adhesion |\n",
      " | lower 5% | SG3 | 4 | 2 | GO:0030155 | regulation of cell adhesion |\n",
      " | lower 5% | SG3 | 4 | 2 | GO:0042110 | T cell activation |\n",
      " | lower 5% | SG3 | 4 | 2 | GO:0045321 | leukocyte activation |\n",
      " | lower 5% | SG3 | 4 | 2 | GO:0046649 | lymphocyte activation |\n",
      " | lower 5% | SG3 | 4 | 2 | GO:0050865 | regulation of cell activation |\n",
      " | lower 5% | SG3 | 4 | 2 | GO:0098609 | cell-cell adhesion |\n",
      " | lower 5% | SG3 | 4 | 2 | hsa04060 | Cytokine-cytokine receptor interaction |\n",
      "\n",
      "\n"
     ]
    }
   ],
   "source": [
    "sharedGOs = NULL # contains all results that are in >= 2 samples\n",
    "anyGOs = \n",
    "    list(\"upper 5%\" = NULL, \"lower 5%\"=NULL) \n",
    "    # anyGOs: for each list (upper/lower), and each SG, which GO terms are overrepresented\n",
    "    # needed later to get exclusive GO terms\n",
    "for(geneList in names(FwdAndRevResults)) {\n",
    "    message(geneList)\n",
    "    goRes = FwdAndRevResults[[geneList]]\n",
    "    for(SG in names(subgroupNames)) {\n",
    "        SPs = samplePairPerSubgroup[[SG]]\n",
    "        anyGOs[[geneList]][[SG]] = \n",
    "            unique(sort(goRes$ID[ goRes$samplePair %in% SPs]))\n",
    "        frqGO = sort(table(goRes$ID[ goRes$samplePair %in% SPs]), decreasing = T)\n",
    "        frqGO = frqGO[ frqGO > 1]\n",
    "        message(\"subgroup \",paste0(SG,\": \",paste0(SPs, collapse=\" \")),\n",
    "                \", \",length(frqGO),\" shared categories\")\n",
    "        if(length(frqGO)>0) {\n",
    "            tmp = data.frame(stringsAsFactors = F, gene_list= geneList, \n",
    "                        subgroup = SG, num_sample_pairs = length(SPs),\n",
    "                        num_sample_pairs_sharing = as.numeric(frqGO),\n",
    "                             GO_ID = names(frqGO),description = goIDdescr[names(frqGO)])\n",
    "            out = \"\"\n",
    "            for(i in 1:min(10,nrow(tmp))) { out = paste0(out,paste0(paste0(\" | \",tmp[i,],collapse=\"\"),collapse=\" | \"),\" |\\n\") }\n",
    "            message(out)\n",
    "            sharedGOs = rbind(sharedGOs,tmp)\n",
    "        }\n",
    "    }\n",
    "}"
   ]
  },
  {
   "cell_type": "code",
   "execution_count": 258,
   "id": "8eb599fb",
   "metadata": {},
   "outputs": [
    {
     "data": {
      "text/html": [
       "<table class=\"dataframe\">\n",
       "<caption>A data.frame: 3 × 6</caption>\n",
       "<thead>\n",
       "\t<tr><th></th><th scope=col>gene_list</th><th scope=col>subgroup</th><th scope=col>num_sample_pairs</th><th scope=col>num_sample_pairs_sharing</th><th scope=col>GO_ID</th><th scope=col>description</th></tr>\n",
       "\t<tr><th></th><th scope=col>&lt;chr&gt;</th><th scope=col>&lt;chr&gt;</th><th scope=col>&lt;int&gt;</th><th scope=col>&lt;dbl&gt;</th><th scope=col>&lt;chr&gt;</th><th scope=col>&lt;chr&gt;</th></tr>\n",
       "</thead>\n",
       "<tbody>\n",
       "\t<tr><th scope=row>GO:0001775</th><td>upper 5%</td><td>SG1</td><td>4</td><td>2</td><td>GO:0001775</td><td>cell activation                  </td></tr>\n",
       "\t<tr><th scope=row>GO:0001816</th><td>upper 5%</td><td>SG1</td><td>4</td><td>2</td><td>GO:0001816</td><td>cytokine production              </td></tr>\n",
       "\t<tr><th scope=row>GO:0001817</th><td>upper 5%</td><td>SG1</td><td>4</td><td>2</td><td>GO:0001817</td><td>regulation of cytokine production</td></tr>\n",
       "</tbody>\n",
       "</table>\n"
      ],
      "text/latex": [
       "A data.frame: 3 × 6\n",
       "\\begin{tabular}{r|llllll}\n",
       "  & gene\\_list & subgroup & num\\_sample\\_pairs & num\\_sample\\_pairs\\_sharing & GO\\_ID & description\\\\\n",
       "  & <chr> & <chr> & <int> & <dbl> & <chr> & <chr>\\\\\n",
       "\\hline\n",
       "\tGO:0001775 & upper 5\\% & SG1 & 4 & 2 & GO:0001775 & cell activation                  \\\\\n",
       "\tGO:0001816 & upper 5\\% & SG1 & 4 & 2 & GO:0001816 & cytokine production              \\\\\n",
       "\tGO:0001817 & upper 5\\% & SG1 & 4 & 2 & GO:0001817 & regulation of cytokine production\\\\\n",
       "\\end{tabular}\n"
      ],
      "text/markdown": [
       "\n",
       "A data.frame: 3 × 6\n",
       "\n",
       "| <!--/--> | gene_list &lt;chr&gt; | subgroup &lt;chr&gt; | num_sample_pairs &lt;int&gt; | num_sample_pairs_sharing &lt;dbl&gt; | GO_ID &lt;chr&gt; | description &lt;chr&gt; |\n",
       "|---|---|---|---|---|---|---|\n",
       "| GO:0001775 | upper 5% | SG1 | 4 | 2 | GO:0001775 | cell activation                   |\n",
       "| GO:0001816 | upper 5% | SG1 | 4 | 2 | GO:0001816 | cytokine production               |\n",
       "| GO:0001817 | upper 5% | SG1 | 4 | 2 | GO:0001817 | regulation of cytokine production |\n",
       "\n"
      ],
      "text/plain": [
       "           gene_list subgroup num_sample_pairs num_sample_pairs_sharing\n",
       "GO:0001775 upper 5%  SG1      4                2                       \n",
       "GO:0001816 upper 5%  SG1      4                2                       \n",
       "GO:0001817 upper 5%  SG1      4                2                       \n",
       "           GO_ID      description                      \n",
       "GO:0001775 GO:0001775 cell activation                  \n",
       "GO:0001816 GO:0001816 cytokine production              \n",
       "GO:0001817 GO:0001817 regulation of cytokine production"
      ]
     },
     "metadata": {},
     "output_type": "display_data"
    }
   ],
   "source": [
    "head(sharedGOs,3)"
   ]
  },
  {
   "cell_type": "code",
   "execution_count": 259,
   "id": "830b7457",
   "metadata": {},
   "outputs": [
    {
     "name": "stderr",
     "output_type": "stream",
     "text": [
      "upper 5%\n",
      "\n",
      "  SG1 -> other SGs: SG2 SG3, 609 unwanted GOs, 0 before 0 after removal\n",
      "\n",
      "  SG3 -> other SGs: SG1 SG2, 375 unwanted GOs, 0 before 0 after removal\n",
      "\n",
      "  SG2 -> other SGs: SG1 SG3, 762 unwanted GOs, 0 before 0 after removal\n",
      "\n",
      "lower 5%\n",
      "\n",
      "  SG1 -> other SGs: SG2 SG3, 694 unwanted GOs, 0 before 0 after removal\n",
      "\n",
      "  SG3 -> other SGs: SG1 SG2, 1039 unwanted GOs, 0 before 0 after removal\n",
      "\n",
      "  SG2 -> other SGs: SG1 SG3, 948 unwanted GOs, 0 before 0 after removal\n",
      "\n"
     ]
    }
   ],
   "source": [
    "exclSharedGOs = NULL\n",
    "for (geneList in unique(sharedGOs$gene_list)) {\n",
    "    message(geneList)\n",
    "    for(SG in unique(sharedGOs$subgroup)) {\n",
    "        otherSGs = setdiff(names(subgroupNames),SG)\n",
    "        unwantedGOs = unique(unlist(anyGOs[[geneList]][otherSGs]))\n",
    "        tmp = sharedGOs[ sharedGOs$gene_list==geneList & sharedGOs$subgroup==SG,]\n",
    "        a = length(unique(tmp$ID))\n",
    "        tmp = tmp[ !tmp$GO_ID %in% unwantedGOs,]\n",
    "        b = length(unique(tmp$ID))\n",
    "        message(\"  \",SG,\" -> other SGs: \", paste0(otherSGs, collapse=\" \"), \", \",\n",
    "                length(unwantedGOs),\" unwanted GOs, \", a, \" before \",b,\" after removal\" )\n",
    "        exclSharedGOs = rbind(exclSharedGOs,tmp)\n",
    "    }\n",
    "}"
   ]
  },
  {
   "cell_type": "code",
   "execution_count": 260,
   "id": "4a82278e",
   "metadata": {},
   "outputs": [
    {
     "data": {
      "text/html": [
       "<table class=\"dataframe\">\n",
       "<caption>A data.frame: 3 × 6</caption>\n",
       "<thead>\n",
       "\t<tr><th></th><th scope=col>gene_list</th><th scope=col>subgroup</th><th scope=col>num_sample_pairs</th><th scope=col>num_sample_pairs_sharing</th><th scope=col>GO_ID</th><th scope=col>description</th></tr>\n",
       "\t<tr><th></th><th scope=col>&lt;chr&gt;</th><th scope=col>&lt;chr&gt;</th><th scope=col>&lt;int&gt;</th><th scope=col>&lt;dbl&gt;</th><th scope=col>&lt;chr&gt;</th><th scope=col>&lt;chr&gt;</th></tr>\n",
       "</thead>\n",
       "<tbody>\n",
       "\t<tr><th scope=row>GO:0002831</th><td>upper 5%</td><td>SG1</td><td>4</td><td>2</td><td>GO:0002831</td><td>regulation of response to biotic stimulus</td></tr>\n",
       "\t<tr><th scope=row>GO:0009615</th><td>upper 5%</td><td>SG1</td><td>4</td><td>2</td><td>GO:0009615</td><td>response to virus                        </td></tr>\n",
       "\t<tr><th scope=row>GO:0030101</th><td>upper 5%</td><td>SG1</td><td>4</td><td>2</td><td>GO:0030101</td><td>natural killer cell activation           </td></tr>\n",
       "</tbody>\n",
       "</table>\n"
      ],
      "text/latex": [
       "A data.frame: 3 × 6\n",
       "\\begin{tabular}{r|llllll}\n",
       "  & gene\\_list & subgroup & num\\_sample\\_pairs & num\\_sample\\_pairs\\_sharing & GO\\_ID & description\\\\\n",
       "  & <chr> & <chr> & <int> & <dbl> & <chr> & <chr>\\\\\n",
       "\\hline\n",
       "\tGO:0002831 & upper 5\\% & SG1 & 4 & 2 & GO:0002831 & regulation of response to biotic stimulus\\\\\n",
       "\tGO:0009615 & upper 5\\% & SG1 & 4 & 2 & GO:0009615 & response to virus                        \\\\\n",
       "\tGO:0030101 & upper 5\\% & SG1 & 4 & 2 & GO:0030101 & natural killer cell activation           \\\\\n",
       "\\end{tabular}\n"
      ],
      "text/markdown": [
       "\n",
       "A data.frame: 3 × 6\n",
       "\n",
       "| <!--/--> | gene_list &lt;chr&gt; | subgroup &lt;chr&gt; | num_sample_pairs &lt;int&gt; | num_sample_pairs_sharing &lt;dbl&gt; | GO_ID &lt;chr&gt; | description &lt;chr&gt; |\n",
       "|---|---|---|---|---|---|---|\n",
       "| GO:0002831 | upper 5% | SG1 | 4 | 2 | GO:0002831 | regulation of response to biotic stimulus |\n",
       "| GO:0009615 | upper 5% | SG1 | 4 | 2 | GO:0009615 | response to virus                         |\n",
       "| GO:0030101 | upper 5% | SG1 | 4 | 2 | GO:0030101 | natural killer cell activation            |\n",
       "\n"
      ],
      "text/plain": [
       "           gene_list subgroup num_sample_pairs num_sample_pairs_sharing\n",
       "GO:0002831 upper 5%  SG1      4                2                       \n",
       "GO:0009615 upper 5%  SG1      4                2                       \n",
       "GO:0030101 upper 5%  SG1      4                2                       \n",
       "           GO_ID      description                              \n",
       "GO:0002831 GO:0002831 regulation of response to biotic stimulus\n",
       "GO:0009615 GO:0009615 response to virus                        \n",
       "GO:0030101 GO:0030101 natural killer cell activation           "
      ]
     },
     "metadata": {},
     "output_type": "display_data"
    }
   ],
   "source": [
    "head(exclSharedGOs,3)"
   ]
  },
  {
   "cell_type": "code",
   "execution_count": 261,
   "id": "9a188c1a",
   "metadata": {},
   "outputs": [
    {
     "data": {
      "text/plain": [
       "     \n",
       "      lower 5% upper 5%\n",
       "  SG1       69       11\n",
       "  SG3        0       48"
      ]
     },
     "metadata": {},
     "output_type": "display_data"
    }
   ],
   "source": [
    "table(exclSharedGOs$subgroup, exclSharedGOs$gene_list)"
   ]
  },
  {
   "cell_type": "code",
   "execution_count": 262,
   "id": "8b96fa40",
   "metadata": {},
   "outputs": [
    {
     "data": {
      "text/plain": [
       "     \n",
       "      lower 5% upper 5%\n",
       "  SG1      430       58\n",
       "  SG2        4        0\n",
       "  SG3       10      121"
      ]
     },
     "metadata": {},
     "output_type": "display_data"
    }
   ],
   "source": [
    "table(sharedGOs$subgroup, sharedGOs$gene_list)"
   ]
  },
  {
   "cell_type": "code",
   "execution_count": 263,
   "id": "2d954861",
   "metadata": {},
   "outputs": [],
   "source": [
    "exclSharedGOs$subgroup_ID = exclSharedGOs$subgroup\n",
    "exclSharedGOs$subgroup = paste(subgroupNames[ exclSharedGOs$subgroup],\"in brain\")"
   ]
  },
  {
   "cell_type": "code",
   "execution_count": 264,
   "id": "a10bde0f",
   "metadata": {},
   "outputs": [
    {
     "data": {
      "text/html": [
       "<table class=\"dataframe\">\n",
       "<caption>A data.frame: 6 × 7</caption>\n",
       "<thead>\n",
       "\t<tr><th></th><th scope=col>gene_list</th><th scope=col>subgroup</th><th scope=col>subgroup_ID</th><th scope=col>num_sample_pairs</th><th scope=col>num_sample_pairs_sharing</th><th scope=col>GO_ID</th><th scope=col>description</th></tr>\n",
       "\t<tr><th></th><th scope=col>&lt;chr&gt;</th><th scope=col>&lt;chr&gt;</th><th scope=col>&lt;chr&gt;</th><th scope=col>&lt;int&gt;</th><th scope=col>&lt;dbl&gt;</th><th scope=col>&lt;chr&gt;</th><th scope=col>&lt;chr&gt;</th></tr>\n",
       "</thead>\n",
       "<tbody>\n",
       "\t<tr><th scope=row>GO:0002831</th><td>upper 5%</td><td>higher in brain</td><td>SG1</td><td>4</td><td>2</td><td>GO:0002831</td><td>regulation of response to biotic stimulus</td></tr>\n",
       "\t<tr><th scope=row>GO:0009615</th><td>upper 5%</td><td>higher in brain</td><td>SG1</td><td>4</td><td>2</td><td>GO:0009615</td><td>response to virus                        </td></tr>\n",
       "\t<tr><th scope=row>GO:0030101</th><td>upper 5%</td><td>higher in brain</td><td>SG1</td><td>4</td><td>2</td><td>GO:0030101</td><td>natural killer cell activation           </td></tr>\n",
       "\t<tr><th scope=row>GO:0035456</th><td>upper 5%</td><td>higher in brain</td><td>SG1</td><td>4</td><td>2</td><td>GO:0035456</td><td>response to interferon-beta              </td></tr>\n",
       "\t<tr><th scope=row>GO:0045087</th><td>upper 5%</td><td>higher in brain</td><td>SG1</td><td>4</td><td>2</td><td>GO:0045087</td><td>innate immune response                   </td></tr>\n",
       "\t<tr><th scope=row>GO:0045088</th><td>upper 5%</td><td>higher in brain</td><td>SG1</td><td>4</td><td>2</td><td>GO:0045088</td><td>regulation of innate immune response     </td></tr>\n",
       "</tbody>\n",
       "</table>\n"
      ],
      "text/latex": [
       "A data.frame: 6 × 7\n",
       "\\begin{tabular}{r|lllllll}\n",
       "  & gene\\_list & subgroup & subgroup\\_ID & num\\_sample\\_pairs & num\\_sample\\_pairs\\_sharing & GO\\_ID & description\\\\\n",
       "  & <chr> & <chr> & <chr> & <int> & <dbl> & <chr> & <chr>\\\\\n",
       "\\hline\n",
       "\tGO:0002831 & upper 5\\% & higher in brain & SG1 & 4 & 2 & GO:0002831 & regulation of response to biotic stimulus\\\\\n",
       "\tGO:0009615 & upper 5\\% & higher in brain & SG1 & 4 & 2 & GO:0009615 & response to virus                        \\\\\n",
       "\tGO:0030101 & upper 5\\% & higher in brain & SG1 & 4 & 2 & GO:0030101 & natural killer cell activation           \\\\\n",
       "\tGO:0035456 & upper 5\\% & higher in brain & SG1 & 4 & 2 & GO:0035456 & response to interferon-beta              \\\\\n",
       "\tGO:0045087 & upper 5\\% & higher in brain & SG1 & 4 & 2 & GO:0045087 & innate immune response                   \\\\\n",
       "\tGO:0045088 & upper 5\\% & higher in brain & SG1 & 4 & 2 & GO:0045088 & regulation of innate immune response     \\\\\n",
       "\\end{tabular}\n"
      ],
      "text/markdown": [
       "\n",
       "A data.frame: 6 × 7\n",
       "\n",
       "| <!--/--> | gene_list &lt;chr&gt; | subgroup &lt;chr&gt; | subgroup_ID &lt;chr&gt; | num_sample_pairs &lt;int&gt; | num_sample_pairs_sharing &lt;dbl&gt; | GO_ID &lt;chr&gt; | description &lt;chr&gt; |\n",
       "|---|---|---|---|---|---|---|---|\n",
       "| GO:0002831 | upper 5% | higher in brain | SG1 | 4 | 2 | GO:0002831 | regulation of response to biotic stimulus |\n",
       "| GO:0009615 | upper 5% | higher in brain | SG1 | 4 | 2 | GO:0009615 | response to virus                         |\n",
       "| GO:0030101 | upper 5% | higher in brain | SG1 | 4 | 2 | GO:0030101 | natural killer cell activation            |\n",
       "| GO:0035456 | upper 5% | higher in brain | SG1 | 4 | 2 | GO:0035456 | response to interferon-beta               |\n",
       "| GO:0045087 | upper 5% | higher in brain | SG1 | 4 | 2 | GO:0045087 | innate immune response                    |\n",
       "| GO:0045088 | upper 5% | higher in brain | SG1 | 4 | 2 | GO:0045088 | regulation of innate immune response      |\n",
       "\n"
      ],
      "text/plain": [
       "           gene_list subgroup        subgroup_ID num_sample_pairs\n",
       "GO:0002831 upper 5%  higher in brain SG1         4               \n",
       "GO:0009615 upper 5%  higher in brain SG1         4               \n",
       "GO:0030101 upper 5%  higher in brain SG1         4               \n",
       "GO:0035456 upper 5%  higher in brain SG1         4               \n",
       "GO:0045087 upper 5%  higher in brain SG1         4               \n",
       "GO:0045088 upper 5%  higher in brain SG1         4               \n",
       "           num_sample_pairs_sharing GO_ID     \n",
       "GO:0002831 2                        GO:0002831\n",
       "GO:0009615 2                        GO:0009615\n",
       "GO:0030101 2                        GO:0030101\n",
       "GO:0035456 2                        GO:0035456\n",
       "GO:0045087 2                        GO:0045087\n",
       "GO:0045088 2                        GO:0045088\n",
       "           description                              \n",
       "GO:0002831 regulation of response to biotic stimulus\n",
       "GO:0009615 response to virus                        \n",
       "GO:0030101 natural killer cell activation           \n",
       "GO:0035456 response to interferon-beta              \n",
       "GO:0045087 innate immune response                   \n",
       "GO:0045088 regulation of innate immune response     "
      ]
     },
     "metadata": {},
     "output_type": "display_data"
    },
    {
     "data": {
      "text/plain": [
       "                         \n",
       "                          SG1 SG3\n",
       "  higher in brain          80   0\n",
       "  slightly lower in brain   0  48"
      ]
     },
     "metadata": {},
     "output_type": "display_data"
    }
   ],
   "source": [
    "exclSharedGOs = exclSharedGOs[,c('gene_list','subgroup','subgroup_ID',\n",
    "                                 'num_sample_pairs','num_sample_pairs_sharing','GO_ID','description')]\n",
    "head(exclSharedGOs)\n",
    "table(exclSharedGOs$subgroup, exclSharedGOs$subgroup_ID)"
   ]
  },
  {
   "cell_type": "code",
   "execution_count": 265,
   "id": "6718240c",
   "metadata": {},
   "outputs": [],
   "source": [
    "write.xlsx(exclSharedGOs, sheetName=\"exclusive categories\", append=T,\n",
    "           file = paste0(outDirectory,\"SupplTable-S8-overrepresentation-analysis.xls\"))"
   ]
  }
 ],
 "metadata": {
  "kernelspec": {
   "display_name": "R",
   "language": "R",
   "name": "ir"
  },
  "language_info": {
   "codemirror_mode": "r",
   "file_extension": ".r",
   "mimetype": "text/x-r-source",
   "name": "R",
   "pygments_lexer": "r",
   "version": "4.2.2"
  }
 },
 "nbformat": 4,
 "nbformat_minor": 5
}
