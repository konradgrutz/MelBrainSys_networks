{
 "cells": [
  {
   "cell_type": "code",
   "execution_count": null,
   "id": "77cb35a3",
   "metadata": {},
   "outputs": [],
   "source": [
    "# from redmine (end of ticket): https://imbredmine.medizin.tu-dresden.de/redmine/issues/187"
   ]
  },
  {
   "cell_type": "code",
   "execution_count": null,
   "id": "e9bfd5bb",
   "metadata": {},
   "outputs": [],
   "source": [
    "# for each of the 1-n networks: \n",
    "#  this will create the basic regNet folder structure\n",
    "#  and train a network with the corresponding training data (expression and methylation files)\n",
    "#  the results are split up into single parts for each network, which then are combined"
   ]
  },
  {
   "cell_type": "code",
   "execution_count": 38,
   "id": "ff76e417",
   "metadata": {},
   "outputs": [],
   "source": [
    "myPath = \"/data/bcu_projects/MelBrainSys_PostdocProject_Gruetzmann/publications/2022-my-MelBrainSys-paper/scripts-etc-for-publication/\""
   ]
  },
  {
   "cell_type": "code",
   "execution_count": 2,
   "id": "c1f51719",
   "metadata": {},
   "outputs": [],
   "source": [
    "library(parallel)"
   ]
  },
  {
   "cell_type": "code",
   "execution_count": 3,
   "id": "114a7295",
   "metadata": {
    "collapsed": true
   },
   "outputs": [
    {
     "name": "stderr",
     "output_type": "stream",
     "text": [
      "Loading required package: glmnet\n",
      "\n",
      "Loading required package: Matrix\n",
      "\n",
      "Loaded glmnet 4.1-6\n",
      "\n",
      "Loading required package: lars\n",
      "\n",
      "Loaded lars 1.3\n",
      "\n",
      "\n",
      "Loading required package: covTest\n",
      "\n",
      "Loading required package: glmpath\n",
      "\n",
      "Loading required package: survival\n",
      "\n",
      "Loading required package: MASS\n",
      "\n"
     ]
    }
   ],
   "source": [
    "localRlibs = paste0(myPath,\"conda/lib/R/library/\")\n",
    "library(regNet)"
   ]
  },
  {
   "cell_type": "code",
   "execution_count": 28,
   "id": "7e137dfd",
   "metadata": {},
   "outputs": [],
   "source": [
    "# we train 25 networks in total\n",
    "# here you set the range of which networks to train in the current run\n",
    "startRun = 1\n",
    "endRun = 2"
   ]
  },
  {
   "cell_type": "code",
   "execution_count": 13,
   "id": "07a38d0d",
   "metadata": {},
   "outputs": [],
   "source": [
    "dataSubPath = \"Data/\"\n",
    "regNetPath = paste0(myPath, \"regNet/\")\n",
    "output=T\n",
    "setwd(regNetPath)\n",
    "loadPath = paste0( regNetPath, dataSubPath )"
   ]
  },
  {
   "cell_type": "markdown",
   "id": "6e44db93",
   "metadata": {},
   "source": [
    "### check if expression and methylation training data set files exist\n",
    "if not, run scripts/create-training-test-data.r.ipynb"
   ]
  },
  {
   "cell_type": "code",
   "execution_count": 14,
   "id": "7d61d5e7",
   "metadata": {},
   "outputs": [
    {
     "data": {
      "text/html": [
       "<style>\n",
       ".list-inline {list-style: none; margin:0; padding: 0}\n",
       ".list-inline>li {display: inline-block}\n",
       ".list-inline>li:not(:last-child)::after {content: \"\\00b7\"; padding: 0 .5ex}\n",
       "</style>\n",
       "<ol class=list-inline><li>'TrainSet_ExpressionData_regNet_Run_1.txt'</li><li>'TrainSet_ExpressionData_regNet_Run_2.txt'</li><li>'TrainSet_ExpressionData_regNet_Run_3.txt'</li><li>'TrainSet_ExpressionData_regNet_Run_4.txt'</li><li>'TrainSet_ExpressionData_regNet_Run_5.txt'</li><li>'TrainSet_ExpressionData_regNet_Run_6.txt'</li><li>'TrainSet_ExpressionData_regNet_Run_7.txt'</li><li>'TrainSet_ExpressionData_regNet_Run_8.txt'</li><li>'TrainSet_ExpressionData_regNet_Run_9.txt'</li><li>'TrainSet_ExpressionData_regNet_Run_10.txt'</li></ol>\n"
      ],
      "text/latex": [
       "\\begin{enumerate*}\n",
       "\\item 'TrainSet\\_ExpressionData\\_regNet\\_Run\\_1.txt'\n",
       "\\item 'TrainSet\\_ExpressionData\\_regNet\\_Run\\_2.txt'\n",
       "\\item 'TrainSet\\_ExpressionData\\_regNet\\_Run\\_3.txt'\n",
       "\\item 'TrainSet\\_ExpressionData\\_regNet\\_Run\\_4.txt'\n",
       "\\item 'TrainSet\\_ExpressionData\\_regNet\\_Run\\_5.txt'\n",
       "\\item 'TrainSet\\_ExpressionData\\_regNet\\_Run\\_6.txt'\n",
       "\\item 'TrainSet\\_ExpressionData\\_regNet\\_Run\\_7.txt'\n",
       "\\item 'TrainSet\\_ExpressionData\\_regNet\\_Run\\_8.txt'\n",
       "\\item 'TrainSet\\_ExpressionData\\_regNet\\_Run\\_9.txt'\n",
       "\\item 'TrainSet\\_ExpressionData\\_regNet\\_Run\\_10.txt'\n",
       "\\end{enumerate*}\n"
      ],
      "text/markdown": [
       "1. 'TrainSet_ExpressionData_regNet_Run_1.txt'\n",
       "2. 'TrainSet_ExpressionData_regNet_Run_2.txt'\n",
       "3. 'TrainSet_ExpressionData_regNet_Run_3.txt'\n",
       "4. 'TrainSet_ExpressionData_regNet_Run_4.txt'\n",
       "5. 'TrainSet_ExpressionData_regNet_Run_5.txt'\n",
       "6. 'TrainSet_ExpressionData_regNet_Run_6.txt'\n",
       "7. 'TrainSet_ExpressionData_regNet_Run_7.txt'\n",
       "8. 'TrainSet_ExpressionData_regNet_Run_8.txt'\n",
       "9. 'TrainSet_ExpressionData_regNet_Run_9.txt'\n",
       "10. 'TrainSet_ExpressionData_regNet_Run_10.txt'\n",
       "\n",
       "\n"
      ],
      "text/plain": [
       " [1] \"TrainSet_ExpressionData_regNet_Run_1.txt\" \n",
       " [2] \"TrainSet_ExpressionData_regNet_Run_2.txt\" \n",
       " [3] \"TrainSet_ExpressionData_regNet_Run_3.txt\" \n",
       " [4] \"TrainSet_ExpressionData_regNet_Run_4.txt\" \n",
       " [5] \"TrainSet_ExpressionData_regNet_Run_5.txt\" \n",
       " [6] \"TrainSet_ExpressionData_regNet_Run_6.txt\" \n",
       " [7] \"TrainSet_ExpressionData_regNet_Run_7.txt\" \n",
       " [8] \"TrainSet_ExpressionData_regNet_Run_8.txt\" \n",
       " [9] \"TrainSet_ExpressionData_regNet_Run_9.txt\" \n",
       "[10] \"TrainSet_ExpressionData_regNet_Run_10.txt\""
      ]
     },
     "metadata": {},
     "output_type": "display_data"
    },
    {
     "name": "stdout",
     "output_type": "stream",
     "text": [
      "good: all gene expression training set files exist\n"
     ]
    }
   ],
   "source": [
    "# get data file directions:\n",
    "geneExprFiles = paste0(\"TrainSet_ExpressionData_regNet_Run_\",startRun:endRun,\".txt\")\n",
    "geneExprFiles\n",
    "if(all(file.exists(paste0(dataSubPath,geneExprFiles)))) {\n",
    "    cat(\"good: all gene expression training set files exist\\n\")\n",
    "} else {\n",
    "    cat(\"bad: not all gene expression training set files exist, please check:\\n\",\n",
    "        paste0(dataSubPath,geneExprFiles,collapse = \", \"),\"\\n\")\n",
    "    q(\"no\")\n",
    "}"
   ]
  },
  {
   "cell_type": "code",
   "execution_count": 15,
   "id": "67f09408",
   "metadata": {},
   "outputs": [
    {
     "data": {
      "text/html": [
       "<style>\n",
       ".list-inline {list-style: none; margin:0; padding: 0}\n",
       ".list-inline>li {display: inline-block}\n",
       ".list-inline>li:not(:last-child)::after {content: \"\\00b7\"; padding: 0 .5ex}\n",
       "</style>\n",
       "<ol class=list-inline><li>'TrainSet_MethylationData_regNet_Run_1.txt'</li><li>'TrainSet_MethylationData_regNet_Run_2.txt'</li><li>'TrainSet_MethylationData_regNet_Run_3.txt'</li><li>'TrainSet_MethylationData_regNet_Run_4.txt'</li><li>'TrainSet_MethylationData_regNet_Run_5.txt'</li><li>'TrainSet_MethylationData_regNet_Run_6.txt'</li><li>'TrainSet_MethylationData_regNet_Run_7.txt'</li><li>'TrainSet_MethylationData_regNet_Run_8.txt'</li><li>'TrainSet_MethylationData_regNet_Run_9.txt'</li><li>'TrainSet_MethylationData_regNet_Run_10.txt'</li></ol>\n"
      ],
      "text/latex": [
       "\\begin{enumerate*}\n",
       "\\item 'TrainSet\\_MethylationData\\_regNet\\_Run\\_1.txt'\n",
       "\\item 'TrainSet\\_MethylationData\\_regNet\\_Run\\_2.txt'\n",
       "\\item 'TrainSet\\_MethylationData\\_regNet\\_Run\\_3.txt'\n",
       "\\item 'TrainSet\\_MethylationData\\_regNet\\_Run\\_4.txt'\n",
       "\\item 'TrainSet\\_MethylationData\\_regNet\\_Run\\_5.txt'\n",
       "\\item 'TrainSet\\_MethylationData\\_regNet\\_Run\\_6.txt'\n",
       "\\item 'TrainSet\\_MethylationData\\_regNet\\_Run\\_7.txt'\n",
       "\\item 'TrainSet\\_MethylationData\\_regNet\\_Run\\_8.txt'\n",
       "\\item 'TrainSet\\_MethylationData\\_regNet\\_Run\\_9.txt'\n",
       "\\item 'TrainSet\\_MethylationData\\_regNet\\_Run\\_10.txt'\n",
       "\\end{enumerate*}\n"
      ],
      "text/markdown": [
       "1. 'TrainSet_MethylationData_regNet_Run_1.txt'\n",
       "2. 'TrainSet_MethylationData_regNet_Run_2.txt'\n",
       "3. 'TrainSet_MethylationData_regNet_Run_3.txt'\n",
       "4. 'TrainSet_MethylationData_regNet_Run_4.txt'\n",
       "5. 'TrainSet_MethylationData_regNet_Run_5.txt'\n",
       "6. 'TrainSet_MethylationData_regNet_Run_6.txt'\n",
       "7. 'TrainSet_MethylationData_regNet_Run_7.txt'\n",
       "8. 'TrainSet_MethylationData_regNet_Run_8.txt'\n",
       "9. 'TrainSet_MethylationData_regNet_Run_9.txt'\n",
       "10. 'TrainSet_MethylationData_regNet_Run_10.txt'\n",
       "\n",
       "\n"
      ],
      "text/plain": [
       " [1] \"TrainSet_MethylationData_regNet_Run_1.txt\" \n",
       " [2] \"TrainSet_MethylationData_regNet_Run_2.txt\" \n",
       " [3] \"TrainSet_MethylationData_regNet_Run_3.txt\" \n",
       " [4] \"TrainSet_MethylationData_regNet_Run_4.txt\" \n",
       " [5] \"TrainSet_MethylationData_regNet_Run_5.txt\" \n",
       " [6] \"TrainSet_MethylationData_regNet_Run_6.txt\" \n",
       " [7] \"TrainSet_MethylationData_regNet_Run_7.txt\" \n",
       " [8] \"TrainSet_MethylationData_regNet_Run_8.txt\" \n",
       " [9] \"TrainSet_MethylationData_regNet_Run_9.txt\" \n",
       "[10] \"TrainSet_MethylationData_regNet_Run_10.txt\""
      ]
     },
     "metadata": {},
     "output_type": "display_data"
    },
    {
     "name": "stdout",
     "output_type": "stream",
     "text": [
      "good: all gene methylation training set files exist\n"
     ]
    }
   ],
   "source": [
    "geneMethFiles = paste0(\"TrainSet_MethylationData_regNet_Run_\",startRun:endRun,\".txt\")\n",
    "geneMethFiles\n",
    "if(all(file.exists(paste0(dataSubPath,geneMethFiles)))) {\n",
    "    cat(\"good: all gene methylation training set files exist\\n\")\n",
    "} else {\n",
    "    cat(\"bad: not all gene methylation training set files exist, please check:\\n\",\n",
    "        paste0(dataSubPath,geneMethFiles,collapse = \", \"),\"\\n\")\n",
    "    q(\"no\")\n",
    "}"
   ]
  },
  {
   "cell_type": "code",
   "execution_count": null,
   "id": "64ca9ec4",
   "metadata": {},
   "outputs": [],
   "source": []
  },
  {
   "cell_type": "code",
   "execution_count": 16,
   "id": "0fe7384e",
   "metadata": {},
   "outputs": [],
   "source": [
    "networkName = \"TcgaMelanomaExprMeth\"\n",
    "# set low totalNumberOfJobs \n",
    "totalNumberOfJobs = 20 # number of regNetJobs\n",
    "# count number of jobs/genes in input data:\n",
    "nbParallelJobs = 10 #  how many jobs in parallel with mclapply\n",
    "# when totalNumberOfJobs == nbParallelJobs, all regNet jobs are calculated at the same time\n",
    "# if you have less CPUs and RAM, lower both totalNumberOfJobs and nbParallelJobs"
   ]
  },
  {
   "cell_type": "code",
   "execution_count": 26,
   "id": "08cc317e",
   "metadata": {},
   "outputs": [
    {
     "data": {
      "text/html": [
       "<style>\n",
       ".list-inline {list-style: none; margin:0; padding: 0}\n",
       ".list-inline>li {display: inline-block}\n",
       ".list-inline>li:not(:last-child)::after {content: \"\\00b7\"; padding: 0 .5ex}\n",
       "</style>\n",
       "<ol class=list-inline><li>887127</li><li>898531</li><li>934947</li><li>949362</li></ol>\n"
      ],
      "text/latex": [
       "\\begin{enumerate*}\n",
       "\\item 887127\n",
       "\\item 898531\n",
       "\\item 934947\n",
       "\\item 949362\n",
       "\\end{enumerate*}\n"
      ],
      "text/markdown": [
       "1. 887127\n",
       "2. 898531\n",
       "3. 934947\n",
       "4. 949362\n",
       "\n",
       "\n"
      ],
      "text/plain": [
       "[1] 887127 898531 934947 949362"
      ]
     },
     "metadata": {},
     "output_type": "display_data"
    }
   ],
   "source": [
    "data$loc[1:4]"
   ]
  },
  {
   "cell_type": "markdown",
   "id": "dd91fab6",
   "metadata": {},
   "source": [
    "### run training\n",
    "this can take several hours, CPUs and GB of RAM"
   ]
  },
  {
   "cell_type": "code",
   "execution_count": 27,
   "id": "186849df",
   "metadata": {},
   "outputs": [],
   "source": [
    "# start this with nohup and RScript, not in jupyter\n",
    "\n",
    "starttTotal = Sys.time()\n",
    "\n",
    "for( idx in 1:length(geneExprFiles)) {\n",
    "    projectName = paste0(\"TrainNetwork-\",(startRun:endRun)[idx])\n",
    "    cat(\"project\",projectName,\"\\n\")\n",
    "    cat(\"  \",geneExprFiles[idx],\"\\n\")\n",
    "    cat(\"  \",geneMethFiles[idx],\"\\n\")\n",
    "    \n",
    "    startt = Sys.time()\n",
    "    projectPath = createBasicFolderStructure( projectName = projectName, path = regNetPath, output = output )\n",
    "    \n",
    "    data = loadGeneExpressionAndCopyNumberDataSet( \n",
    "        geneExpressionFile = geneExprFiles[idx], \n",
    "        geneCopyNumberFile = geneMethFiles[idx], \n",
    "        path = loadPath )\n",
    "\n",
    "    # start parallel calculation of this training set:\n",
    "    tmp = mclapply(1:totalNumberOfJobs,mc.cores = nbParallelJobs, function(j) \n",
    "        learnNetwork_ParallelComputation( data = data, networkName = networkName, cores = totalNumberOfJobs, \n",
    "            job = j, path = projectPath, nfolds = 10, cvReplicates = 10, output = output ))\n",
    "\n",
    "    #save.image(file = paste0(\"TrainNetwork-\",(startRun:endRun)[j],\"-image.RData\"))\n",
    "    endt = Sys.time()\n",
    "    timeDiff = difftime(endt,startt,units = \"min\")\n",
    "    message(timeDiff,\" needed\")\n",
    "}\n",
    "\n",
    "endtTotal = Sys.time()\n",
    "cat(\"all network trainings done. Needed.\\n\")\n",
    "endtTotal - starttTotal\n",
    "\n",
    "# to see the progress, check the subdirectories \"TrainNetwork-*\" that appear in the regNet directory"
   ]
  },
  {
   "cell_type": "markdown",
   "id": "2499281c",
   "metadata": {},
   "source": [
    "### combine single network parts to whole network for each TrainNetwork"
   ]
  },
  {
   "cell_type": "code",
   "execution_count": 40,
   "id": "2b4f6fe5",
   "metadata": {},
   "outputs": [],
   "source": [
    "myPath = paste0(myPath,\"regNet/\")\n",
    "setwd(myPath)"
   ]
  },
  {
   "cell_type": "code",
   "execution_count": 42,
   "id": "7e3b0b71",
   "metadata": {
    "scrolled": true
   },
   "outputs": [
    {
     "name": "stderr",
     "output_type": "stream",
     "text": [
      "/data/bcu_projects/MelBrainSys_PostdocProject_Gruetzmann/publications/2022-my-MelBrainSys-paper/scripts-etc-for-publication/regNet/TrainNetwork-1\n",
      "\n",
      "\n"
     ]
    },
    {
     "name": "stdout",
     "output_type": "stream",
     "text": [
      "[1] \"Combine single jobs\"\n",
      "[1] \"1 of 20\"\n",
      "[1] \"2 of 20\"\n",
      "[1] \"3 of 20\"\n",
      "[1] \"4 of 20\"\n",
      "[1] \"5 of 20\"\n",
      "[1] \"6 of 20\"\n",
      "[1] \"7 of 20\"\n",
      "[1] \"8 of 20\"\n",
      "[1] \"9 of 20\"\n",
      "[1] \"10 of 20\"\n",
      "[1] \"11 of 20\"\n",
      "[1] \"12 of 20\"\n",
      "[1] \"13 of 20\"\n",
      "[1] \"14 of 20\"\n",
      "[1] \"15 of 20\"\n",
      "[1] \"16 of 20\"\n",
      "[1] \"17 of 20\"\n",
      "[1] \"18 of 20\"\n",
      "[1] \"19 of 20\"\n",
      "[1] \"20 of 20\"\n",
      "[1] \"Save network:\"\n",
      "[1] \"/data/bcu_projects/MelBrainSys_PostdocProject_Gruetzmann/publications/2022-my-MelBrainSys-paper/scripts-etc-for-publication/regNet/TrainNetwork-1/NetworkModel/WholeNetwork/TcgaMelanomaExprMeth_NetworkCreator.Rout\"\n",
      "[1] \"Save network statistics:\"\n",
      "[1] \"/data/bcu_projects/MelBrainSys_PostdocProject_Gruetzmann/publications/2022-my-MelBrainSys-paper/scripts-etc-for-publication/regNet/TrainNetwork-1/NetworkModel/WholeNetwork/TcgaMelanomaExprMeth_NetworkCreator_CVStatistics.txt\"\n"
     ]
    },
    {
     "name": "stderr",
     "output_type": "stream",
     "text": [
      "/data/bcu_projects/MelBrainSys_PostdocProject_Gruetzmann/publications/2022-my-MelBrainSys-paper/scripts-etc-for-publication/regNet/TrainNetwork-2\n",
      "\n",
      "\n"
     ]
    },
    {
     "name": "stdout",
     "output_type": "stream",
     "text": [
      "[1] \"Combine single jobs\"\n",
      "[1] \"1 of 20\"\n",
      "[1] \"2 of 20\"\n",
      "[1] \"3 of 20\"\n",
      "[1] \"4 of 20\"\n",
      "[1] \"5 of 20\"\n",
      "[1] \"6 of 20\"\n",
      "[1] \"7 of 20\"\n",
      "[1] \"8 of 20\"\n",
      "[1] \"9 of 20\"\n",
      "[1] \"10 of 20\"\n",
      "[1] \"11 of 20\"\n",
      "[1] \"12 of 20\"\n",
      "[1] \"13 of 20\"\n",
      "[1] \"14 of 20\"\n",
      "[1] \"15 of 20\"\n",
      "[1] \"16 of 20\"\n",
      "[1] \"17 of 20\"\n",
      "[1] \"18 of 20\"\n",
      "[1] \"19 of 20\"\n",
      "[1] \"20 of 20\"\n",
      "[1] \"Save network:\"\n",
      "[1] \"/data/bcu_projects/MelBrainSys_PostdocProject_Gruetzmann/publications/2022-my-MelBrainSys-paper/scripts-etc-for-publication/regNet/TrainNetwork-2/NetworkModel/WholeNetwork/TcgaMelanomaExprMeth_NetworkCreator.Rout\"\n",
      "[1] \"Save network statistics:\"\n",
      "[1] \"/data/bcu_projects/MelBrainSys_PostdocProject_Gruetzmann/publications/2022-my-MelBrainSys-paper/scripts-etc-for-publication/regNet/TrainNetwork-2/NetworkModel/WholeNetwork/TcgaMelanomaExprMeth_NetworkCreator_CVStatistics.txt\"\n"
     ]
    },
    {
     "data": {
      "text/plain": [
       "Time difference of 1.470975 mins"
      ]
     },
     "metadata": {},
     "output_type": "display_data"
    }
   ],
   "source": [
    "# combine single network parts from network-training.r to whole network, for each of the 1-n networks\n",
    "\n",
    "startt = Sys.time()\n",
    "for(nwSubdir in paste0(\"TrainNetwork-\",startRun:endRun)) {\n",
    "    path = paste0(myPath, nwSubdir)\n",
    "    message(path,\"\\n\")\n",
    "    combineSingleJobs(networkName = networkName, cores = totalNumberOfJobs, path = path, output = output)\n",
    "}\n",
    "endt = Sys.time()\n",
    "endt-startt# 1.5 min for 2 Networks\n",
    "# creates TcgaMelanomaExprMeth_NetworkCreator_CVStatistics.txt and TcgaMelanomaExprMeth_NetworkCreator.Rout\n",
    "#  in the TrainNetwork-*/NetworkModel/WholeNetwork/  subdirectories"
   ]
  }
 ],
 "metadata": {
  "kernelspec": {
   "display_name": "R",
   "language": "R",
   "name": "ir"
  },
  "language_info": {
   "codemirror_mode": "r",
   "file_extension": ".r",
   "mimetype": "text/x-r-source",
   "name": "R",
   "pygments_lexer": "r",
   "version": "4.2.2"
  }
 },
 "nbformat": 4,
 "nbformat_minor": 5
}
