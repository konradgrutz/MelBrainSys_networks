{
 "cells": [
  {
   "cell_type": "code",
   "execution_count": null,
   "id": "d0b5c586",
   "metadata": {},
   "outputs": [],
   "source": [
    "# predicts expression of the test data with the trained and random networks\n",
    "# predicts expression of MelBrainSys data\n",
    "# creates correlation plots: predicted and original expression:\n",
    "#   Figure-2-gene-expr-prediction-correl.png"
   ]
  },
  {
   "cell_type": "code",
   "execution_count": 2,
   "id": "fa7f1113",
   "metadata": {},
   "outputs": [],
   "source": [
    "library(ggplot2)\n",
    "library(gridExtra)\n",
    "library(parallel)"
   ]
  },
  {
   "cell_type": "code",
   "execution_count": 3,
   "id": "9246c479",
   "metadata": {},
   "outputs": [],
   "source": [
    "basePath = \"/data/bcu_projects/MelBrainSys_PostdocProject_Gruetzmann/publications/2022-my-MelBrainSys-paper/scripts-etc-for-publication/\"\n",
    "myPath = paste0(basePath,\"regNet/\")"
   ]
  },
  {
   "cell_type": "code",
   "execution_count": 4,
   "id": "572353ab",
   "metadata": {
    "collapsed": true
   },
   "outputs": [
    {
     "name": "stderr",
     "output_type": "stream",
     "text": [
      "Loading required package: glmnet\n",
      "\n",
      "Loading required package: Matrix\n",
      "\n",
      "Loaded glmnet 4.1-6\n",
      "\n",
      "Loading required package: lars\n",
      "\n",
      "Loaded lars 1.3\n",
      "\n",
      "\n",
      "Loading required package: covTest\n",
      "\n",
      "Loading required package: glmpath\n",
      "\n",
      "Loading required package: survival\n",
      "\n",
      "Loading required package: MASS\n",
      "\n"
     ]
    }
   ],
   "source": [
    "localRlibs = paste0(basePath,\"conda/lib/R/library/\")\n",
    "library(regNet)"
   ]
  },
  {
   "cell_type": "code",
   "execution_count": 5,
   "id": "dfa2bf44",
   "metadata": {},
   "outputs": [],
   "source": [
    "setwd(myPath)"
   ]
  },
  {
   "cell_type": "code",
   "execution_count": 6,
   "id": "d04aaf59",
   "metadata": {},
   "outputs": [],
   "source": [
    "outDirectory = paste0(basePath,\"FiguresTables/\")"
   ]
  },
  {
   "cell_type": "code",
   "execution_count": 15,
   "id": "0dc17d06",
   "metadata": {},
   "outputs": [],
   "source": [
    "output=T\n",
    "networkName = \"TcgaMelanomaExprMeth\""
   ]
  },
  {
   "cell_type": "code",
   "execution_count": 11,
   "id": "e4feba5d",
   "metadata": {},
   "outputs": [],
   "source": [
    "localGeneCutoff = 30\n",
    "pValCutoff = 0.001\n",
    "nbCPUs = 10 \n",
    "numOfNWs = 2"
   ]
  },
  {
   "cell_type": "markdown",
   "id": "25b28c91",
   "metadata": {},
   "source": [
    "### create random networks"
   ]
  },
  {
   "cell_type": "code",
   "execution_count": 10,
   "id": "73d164f0",
   "metadata": {},
   "outputs": [],
   "source": [
    "# random network instance is saved\n",
    "# under NetworkModel/WholeNetwork/ using a pre-defined file-naming convention with random\n",
    "# network name prefix paste0( \"RandomNetwork_\", randomNetworkInstance, \n",
    "#  \"_PVal-ueCutoff_\", pValCutoff, \"_BasedOn_\", networkName )\n",
    "\n",
    "create1randomNW = function(parameterSet) {\n",
    "    system(paste(\"echo 'calculating set:\",parameterSet$runningNumber,\"'\")) \n",
    "     #  -> progress output in console where you started jupyter notebook\n",
    "    determineRandomNetworkWithFilteringForSignificantPredictors(output = T,\n",
    "        networkName = parameterSet$networkName, pValCutoff =  parameterSet$pValCutoff, \n",
    "        randomNetworkInstance = parameterSet$nwInstanceNb, \n",
    "        path = parameterSet$path )\n",
    "}"
   ]
  },
  {
   "cell_type": "code",
   "execution_count": 16,
   "id": "0af18e16",
   "metadata": {},
   "outputs": [],
   "source": [
    "# make parameter sets for creation of random nw:\n",
    "numNWinstances = numOfNWs\n",
    "nwRange = 1:numOfNWs\n",
    "parameterSets = NULL\n",
    "i=0\n",
    "for(nwInstanceNb in 1:numNWinstances ) {\n",
    "    for(nwSubdir in paste0(\"TrainNetwork-\",nwRange)) {\n",
    "        i = i + 1\n",
    "        parameterSets[[i]] = list(networkName=networkName,pValCutoff=pValCutoff,\n",
    "                                path = nwSubdir, runningNumber=i, nwInstanceNb = nwInstanceNb)\n",
    "    }\n",
    "}"
   ]
  },
  {
   "cell_type": "code",
   "execution_count": 17,
   "id": "d3d49bc4",
   "metadata": {
    "scrolled": true
   },
   "outputs": [
    {
     "data": {
      "text/plain": [
       "Time difference of 1.122514 mins"
      ]
     },
     "metadata": {},
     "output_type": "display_data"
    }
   ],
   "source": [
    "startt = Sys.time()\n",
    "tmp = mclapply(X = parameterSets, create1randomNW, mc.cores = nbCPUs)\n",
    "endt = Sys.time()\n",
    "endt - startt\n",
    "# 1 min with 10 cpus for 2 nw instances, 2 trained networks"
   ]
  },
  {
   "cell_type": "markdown",
   "id": "2d645f9d",
   "metadata": {},
   "source": [
    "### predict gene expression with trained and thereof derived random networks\n",
    "outputs created in TrainNetwork-*/NetworkPrediction/"
   ]
  },
  {
   "cell_type": "code",
   "execution_count": 19,
   "id": "c5618ec0",
   "metadata": {},
   "outputs": [],
   "source": [
    "# n.b. already parallelized, don't over-parallelize, and uses 1.5% of RAM\n",
    "predict1nw = function(parameterSet) {\n",
    "    system(paste(\"echo 'calculating set:\",parameterSet$runningNumber,\"'\"))\n",
    "    \n",
    "    geneExFile = parameterSet$dataSetExpr\n",
    "    geneMthFile = parameterSet$dataSetMethyl\n",
    "    system(paste0(\"echo 'using: \",dataSetsPath,geneExFile,\" and \",dataSetsPath,geneMthFile,\"'\"))\n",
    "\n",
    "    if(! file.exists(paste0(dataSetsPath,geneExFile))) {\n",
    "        system(paste0(\"echo 'does not exist: \",dataSetsPath,geneExFile,\"'\"))\n",
    "    }\n",
    "    if(! file.exists(paste0(dataSetsPath,geneMthFile))) {\n",
    "        system(paste(\"echo 'does not exist:\",dataSetsPath,geneMthFile,\"'\"))\n",
    "    }\n",
    "    testDataSet = loadGeneExpressionAndCopyNumberDataSet( geneExpressionFile = geneExFile,\n",
    "        geneCopyNumberFile = geneMthFile, path = dataSetsPath )\n",
    "    predictGeneExpression(data = testDataSet, dataSetName = parameterSet$dataSetName, \n",
    "                          networkName = parameterSet$networkName, pValCutoff = parameterSet$pValCutoff, \n",
    "                          localGeneCutoff = parameterSet$localGeneCutoff, path = parameterSet$trainNWpath )\n",
    "}"
   ]
  },
  {
   "cell_type": "code",
   "execution_count": 20,
   "id": "8180e3a0",
   "metadata": {},
   "outputs": [],
   "source": [
    "# create parameter sets for prediction with trained networks\n",
    "createNormalPredictionSets = function(networkName,dataSetName,\n",
    "                                pValCutoffs,localGeneCutoffs,nwRange) {\n",
    "    parameterSets = NULL\n",
    "    i=0\n",
    "    for (pValCutoff in pValCutoffs) {\n",
    "        for (localGeneCutoff in localGeneCutoffs) {\n",
    "            for (networkNum in nwRange) {\n",
    "                i = i + 1\n",
    "                geneExFile = paste0(dataSetName, \"_ExpressionData_regNet_Run_\",networkNum,\".txt\")\n",
    "                geneMthFile = paste0(dataSetName , \"_MethylationData_regNet_Run_\",networkNum,\".txt\")\n",
    "                parameterSets[[i]] = list(dataSetExpr = geneExFile, dataSetMethyl = geneMthFile,\n",
    "                                          dataSetName = dataSetName, networkName=networkName,\n",
    "                                          pValCutoff=pValCutoff,localGeneCutoff = localGeneCutoff, \n",
    "                                         trainNWpath = paste0(\"TrainNetwork-\",networkNum),runningNumber=i)\n",
    "            }\n",
    "        }\n",
    "\n",
    "    }\n",
    "    return(parameterSets)\n",
    "}"
   ]
  },
  {
   "cell_type": "code",
   "execution_count": 21,
   "id": "7eedc8fd",
   "metadata": {},
   "outputs": [],
   "source": [
    "# create parameter sets for prediction with random networks\n",
    "## for each of the trained networks there will be several random networks\n",
    "createRandomPredictionSets = function(networkName,randomNameBase,dataSetName,\n",
    "                                pValCutoffs,localGeneCutoffs,numNWinstanceRange,nwRange) {\n",
    "    parameterSets = NULL\n",
    "    i=0\n",
    "    for (nwInstanceNb in numNWinstanceRange ) {\n",
    "        for (pValCutoff in pValCutoffs) {\n",
    "            for (localGeneCutoff in localGeneCutoffs) {\n",
    "                for (networkNum in nwRange) {\n",
    "                    i = i + 1\n",
    "                    randomNetworkName = paste0(randomNameBase,nwInstanceNb,\"_PValueCutoff_\",pValCutoff,\n",
    "                                               \"_BasedOn_\",networkName)\n",
    "                    geneExFile = paste0(dataSetName, \"_ExpressionData_regNet_Run_\",networkNum,\".txt\")\n",
    "                    geneMthFile = paste0(dataSetName , \"_MethylationData_regNet_Run_\",networkNum,\".txt\")\n",
    "                    parameterSets[[i]] = list(dataSetExpr = geneExFile, dataSetMethyl = geneMthFile,\n",
    "                                              dataSetName = dataSetName, networkName=randomNetworkName,\n",
    "                                              pValCutoff=pValCutoff,localGeneCutoff = localGeneCutoff, \n",
    "                                             trainNWpath = paste0(\"TrainNetwork-\",networkNum),runningNumber=i)\n",
    "                }\n",
    "            }\n",
    "           \n",
    "        }\n",
    "    }\n",
    "    return(parameterSets)\n",
    "}"
   ]
  },
  {
   "cell_type": "code",
   "execution_count": 28,
   "id": "ad167668",
   "metadata": {},
   "outputs": [],
   "source": [
    "# parameter sets for prediction of test data with normal networks:\n",
    "parameterSetsNormal = \n",
    "    createNormalPredictionSets(networkName = networkName,dataSetName = \"TestSet\", \n",
    "                               pValCutoffs = 0.001, localGeneCutoffs = 30, nwRange = 1:numOfNWs)"
   ]
  },
  {
   "cell_type": "code",
   "execution_count": 29,
   "id": "91093c67",
   "metadata": {},
   "outputs": [],
   "source": [
    "# parameter sets for prediction of random nteworks:\n",
    "networkNameBase = \"RandomNetwork_\" \n",
    "parameterSetsRandom = \n",
    "    createRandomPredictionSets(networkName = networkName, randomNameBase = \"RandomNetwork_\",\n",
    "                         dataSetName = \"TestSet\", pValCutoffs =  0.001,\n",
    "                         localGeneCutoffs = 30, numNWinstanceRange = 1:numOfNWs, nwRange = 1:numOfNWs)"
   ]
  },
  {
   "cell_type": "code",
   "execution_count": 31,
   "id": "806a1b52",
   "metadata": {
    "scrolled": true
   },
   "outputs": [
    {
     "data": {
      "text/html": [
       "<ol>\n",
       "\t<li><dl>\n",
       "\t<dt>$dataSetExpr</dt>\n",
       "\t\t<dd>'TestSet_ExpressionData_regNet_Run_1.txt'</dd>\n",
       "\t<dt>$dataSetMethyl</dt>\n",
       "\t\t<dd>'TestSet_MethylationData_regNet_Run_1.txt'</dd>\n",
       "\t<dt>$dataSetName</dt>\n",
       "\t\t<dd>'TestSet'</dd>\n",
       "\t<dt>$networkName</dt>\n",
       "\t\t<dd>'RandomNetwork_1_PValueCutoff_0.001_BasedOn_TcgaMelanomaExprMeth'</dd>\n",
       "\t<dt>$pValCutoff</dt>\n",
       "\t\t<dd>0.001</dd>\n",
       "\t<dt>$localGeneCutoff</dt>\n",
       "\t\t<dd>30</dd>\n",
       "\t<dt>$trainNWpath</dt>\n",
       "\t\t<dd>'TrainNetwork-1'</dd>\n",
       "\t<dt>$runningNumber</dt>\n",
       "\t\t<dd>1</dd>\n",
       "</dl>\n",
       "</li>\n",
       "\t<li><dl>\n",
       "\t<dt>$dataSetExpr</dt>\n",
       "\t\t<dd>'TestSet_ExpressionData_regNet_Run_2.txt'</dd>\n",
       "\t<dt>$dataSetMethyl</dt>\n",
       "\t\t<dd>'TestSet_MethylationData_regNet_Run_2.txt'</dd>\n",
       "\t<dt>$dataSetName</dt>\n",
       "\t\t<dd>'TestSet'</dd>\n",
       "\t<dt>$networkName</dt>\n",
       "\t\t<dd>'RandomNetwork_1_PValueCutoff_0.001_BasedOn_TcgaMelanomaExprMeth'</dd>\n",
       "\t<dt>$pValCutoff</dt>\n",
       "\t\t<dd>0.001</dd>\n",
       "\t<dt>$localGeneCutoff</dt>\n",
       "\t\t<dd>30</dd>\n",
       "\t<dt>$trainNWpath</dt>\n",
       "\t\t<dd>'TrainNetwork-2'</dd>\n",
       "\t<dt>$runningNumber</dt>\n",
       "\t\t<dd>2</dd>\n",
       "</dl>\n",
       "</li>\n",
       "\t<li><dl>\n",
       "\t<dt>$dataSetExpr</dt>\n",
       "\t\t<dd>'TestSet_ExpressionData_regNet_Run_1.txt'</dd>\n",
       "\t<dt>$dataSetMethyl</dt>\n",
       "\t\t<dd>'TestSet_MethylationData_regNet_Run_1.txt'</dd>\n",
       "\t<dt>$dataSetName</dt>\n",
       "\t\t<dd>'TestSet'</dd>\n",
       "\t<dt>$networkName</dt>\n",
       "\t\t<dd>'RandomNetwork_2_PValueCutoff_0.001_BasedOn_TcgaMelanomaExprMeth'</dd>\n",
       "\t<dt>$pValCutoff</dt>\n",
       "\t\t<dd>0.001</dd>\n",
       "\t<dt>$localGeneCutoff</dt>\n",
       "\t\t<dd>30</dd>\n",
       "\t<dt>$trainNWpath</dt>\n",
       "\t\t<dd>'TrainNetwork-1'</dd>\n",
       "\t<dt>$runningNumber</dt>\n",
       "\t\t<dd>3</dd>\n",
       "</dl>\n",
       "</li>\n",
       "\t<li><dl>\n",
       "\t<dt>$dataSetExpr</dt>\n",
       "\t\t<dd>'TestSet_ExpressionData_regNet_Run_2.txt'</dd>\n",
       "\t<dt>$dataSetMethyl</dt>\n",
       "\t\t<dd>'TestSet_MethylationData_regNet_Run_2.txt'</dd>\n",
       "\t<dt>$dataSetName</dt>\n",
       "\t\t<dd>'TestSet'</dd>\n",
       "\t<dt>$networkName</dt>\n",
       "\t\t<dd>'RandomNetwork_2_PValueCutoff_0.001_BasedOn_TcgaMelanomaExprMeth'</dd>\n",
       "\t<dt>$pValCutoff</dt>\n",
       "\t\t<dd>0.001</dd>\n",
       "\t<dt>$localGeneCutoff</dt>\n",
       "\t\t<dd>30</dd>\n",
       "\t<dt>$trainNWpath</dt>\n",
       "\t\t<dd>'TrainNetwork-2'</dd>\n",
       "\t<dt>$runningNumber</dt>\n",
       "\t\t<dd>4</dd>\n",
       "</dl>\n",
       "</li>\n",
       "</ol>\n"
      ],
      "text/latex": [
       "\\begin{enumerate}\n",
       "\\item \\begin{description}\n",
       "\\item[\\$dataSetExpr] 'TestSet\\_ExpressionData\\_regNet\\_Run\\_1.txt'\n",
       "\\item[\\$dataSetMethyl] 'TestSet\\_MethylationData\\_regNet\\_Run\\_1.txt'\n",
       "\\item[\\$dataSetName] 'TestSet'\n",
       "\\item[\\$networkName] 'RandomNetwork\\_1\\_PValueCutoff\\_0.001\\_BasedOn\\_TcgaMelanomaExprMeth'\n",
       "\\item[\\$pValCutoff] 0.001\n",
       "\\item[\\$localGeneCutoff] 30\n",
       "\\item[\\$trainNWpath] 'TrainNetwork-1'\n",
       "\\item[\\$runningNumber] 1\n",
       "\\end{description}\n",
       "\n",
       "\\item \\begin{description}\n",
       "\\item[\\$dataSetExpr] 'TestSet\\_ExpressionData\\_regNet\\_Run\\_2.txt'\n",
       "\\item[\\$dataSetMethyl] 'TestSet\\_MethylationData\\_regNet\\_Run\\_2.txt'\n",
       "\\item[\\$dataSetName] 'TestSet'\n",
       "\\item[\\$networkName] 'RandomNetwork\\_1\\_PValueCutoff\\_0.001\\_BasedOn\\_TcgaMelanomaExprMeth'\n",
       "\\item[\\$pValCutoff] 0.001\n",
       "\\item[\\$localGeneCutoff] 30\n",
       "\\item[\\$trainNWpath] 'TrainNetwork-2'\n",
       "\\item[\\$runningNumber] 2\n",
       "\\end{description}\n",
       "\n",
       "\\item \\begin{description}\n",
       "\\item[\\$dataSetExpr] 'TestSet\\_ExpressionData\\_regNet\\_Run\\_1.txt'\n",
       "\\item[\\$dataSetMethyl] 'TestSet\\_MethylationData\\_regNet\\_Run\\_1.txt'\n",
       "\\item[\\$dataSetName] 'TestSet'\n",
       "\\item[\\$networkName] 'RandomNetwork\\_2\\_PValueCutoff\\_0.001\\_BasedOn\\_TcgaMelanomaExprMeth'\n",
       "\\item[\\$pValCutoff] 0.001\n",
       "\\item[\\$localGeneCutoff] 30\n",
       "\\item[\\$trainNWpath] 'TrainNetwork-1'\n",
       "\\item[\\$runningNumber] 3\n",
       "\\end{description}\n",
       "\n",
       "\\item \\begin{description}\n",
       "\\item[\\$dataSetExpr] 'TestSet\\_ExpressionData\\_regNet\\_Run\\_2.txt'\n",
       "\\item[\\$dataSetMethyl] 'TestSet\\_MethylationData\\_regNet\\_Run\\_2.txt'\n",
       "\\item[\\$dataSetName] 'TestSet'\n",
       "\\item[\\$networkName] 'RandomNetwork\\_2\\_PValueCutoff\\_0.001\\_BasedOn\\_TcgaMelanomaExprMeth'\n",
       "\\item[\\$pValCutoff] 0.001\n",
       "\\item[\\$localGeneCutoff] 30\n",
       "\\item[\\$trainNWpath] 'TrainNetwork-2'\n",
       "\\item[\\$runningNumber] 4\n",
       "\\end{description}\n",
       "\n",
       "\\end{enumerate}\n"
      ],
      "text/markdown": [
       "1. $dataSetExpr\n",
       ":   'TestSet_ExpressionData_regNet_Run_1.txt'\n",
       "$dataSetMethyl\n",
       ":   'TestSet_MethylationData_regNet_Run_1.txt'\n",
       "$dataSetName\n",
       ":   'TestSet'\n",
       "$networkName\n",
       ":   'RandomNetwork_1_PValueCutoff_0.001_BasedOn_TcgaMelanomaExprMeth'\n",
       "$pValCutoff\n",
       ":   0.001\n",
       "$localGeneCutoff\n",
       ":   30\n",
       "$trainNWpath\n",
       ":   'TrainNetwork-1'\n",
       "$runningNumber\n",
       ":   1\n",
       "\n",
       "\n",
       "\n",
       "2. $dataSetExpr\n",
       ":   'TestSet_ExpressionData_regNet_Run_2.txt'\n",
       "$dataSetMethyl\n",
       ":   'TestSet_MethylationData_regNet_Run_2.txt'\n",
       "$dataSetName\n",
       ":   'TestSet'\n",
       "$networkName\n",
       ":   'RandomNetwork_1_PValueCutoff_0.001_BasedOn_TcgaMelanomaExprMeth'\n",
       "$pValCutoff\n",
       ":   0.001\n",
       "$localGeneCutoff\n",
       ":   30\n",
       "$trainNWpath\n",
       ":   'TrainNetwork-2'\n",
       "$runningNumber\n",
       ":   2\n",
       "\n",
       "\n",
       "\n",
       "3. $dataSetExpr\n",
       ":   'TestSet_ExpressionData_regNet_Run_1.txt'\n",
       "$dataSetMethyl\n",
       ":   'TestSet_MethylationData_regNet_Run_1.txt'\n",
       "$dataSetName\n",
       ":   'TestSet'\n",
       "$networkName\n",
       ":   'RandomNetwork_2_PValueCutoff_0.001_BasedOn_TcgaMelanomaExprMeth'\n",
       "$pValCutoff\n",
       ":   0.001\n",
       "$localGeneCutoff\n",
       ":   30\n",
       "$trainNWpath\n",
       ":   'TrainNetwork-1'\n",
       "$runningNumber\n",
       ":   3\n",
       "\n",
       "\n",
       "\n",
       "4. $dataSetExpr\n",
       ":   'TestSet_ExpressionData_regNet_Run_2.txt'\n",
       "$dataSetMethyl\n",
       ":   'TestSet_MethylationData_regNet_Run_2.txt'\n",
       "$dataSetName\n",
       ":   'TestSet'\n",
       "$networkName\n",
       ":   'RandomNetwork_2_PValueCutoff_0.001_BasedOn_TcgaMelanomaExprMeth'\n",
       "$pValCutoff\n",
       ":   0.001\n",
       "$localGeneCutoff\n",
       ":   30\n",
       "$trainNWpath\n",
       ":   'TrainNetwork-2'\n",
       "$runningNumber\n",
       ":   4\n",
       "\n",
       "\n",
       "\n",
       "\n",
       "\n"
      ],
      "text/plain": [
       "[[1]]\n",
       "[[1]]$dataSetExpr\n",
       "[1] \"TestSet_ExpressionData_regNet_Run_1.txt\"\n",
       "\n",
       "[[1]]$dataSetMethyl\n",
       "[1] \"TestSet_MethylationData_regNet_Run_1.txt\"\n",
       "\n",
       "[[1]]$dataSetName\n",
       "[1] \"TestSet\"\n",
       "\n",
       "[[1]]$networkName\n",
       "[1] \"RandomNetwork_1_PValueCutoff_0.001_BasedOn_TcgaMelanomaExprMeth\"\n",
       "\n",
       "[[1]]$pValCutoff\n",
       "[1] 0.001\n",
       "\n",
       "[[1]]$localGeneCutoff\n",
       "[1] 30\n",
       "\n",
       "[[1]]$trainNWpath\n",
       "[1] \"TrainNetwork-1\"\n",
       "\n",
       "[[1]]$runningNumber\n",
       "[1] 1\n",
       "\n",
       "\n",
       "[[2]]\n",
       "[[2]]$dataSetExpr\n",
       "[1] \"TestSet_ExpressionData_regNet_Run_2.txt\"\n",
       "\n",
       "[[2]]$dataSetMethyl\n",
       "[1] \"TestSet_MethylationData_regNet_Run_2.txt\"\n",
       "\n",
       "[[2]]$dataSetName\n",
       "[1] \"TestSet\"\n",
       "\n",
       "[[2]]$networkName\n",
       "[1] \"RandomNetwork_1_PValueCutoff_0.001_BasedOn_TcgaMelanomaExprMeth\"\n",
       "\n",
       "[[2]]$pValCutoff\n",
       "[1] 0.001\n",
       "\n",
       "[[2]]$localGeneCutoff\n",
       "[1] 30\n",
       "\n",
       "[[2]]$trainNWpath\n",
       "[1] \"TrainNetwork-2\"\n",
       "\n",
       "[[2]]$runningNumber\n",
       "[1] 2\n",
       "\n",
       "\n",
       "[[3]]\n",
       "[[3]]$dataSetExpr\n",
       "[1] \"TestSet_ExpressionData_regNet_Run_1.txt\"\n",
       "\n",
       "[[3]]$dataSetMethyl\n",
       "[1] \"TestSet_MethylationData_regNet_Run_1.txt\"\n",
       "\n",
       "[[3]]$dataSetName\n",
       "[1] \"TestSet\"\n",
       "\n",
       "[[3]]$networkName\n",
       "[1] \"RandomNetwork_2_PValueCutoff_0.001_BasedOn_TcgaMelanomaExprMeth\"\n",
       "\n",
       "[[3]]$pValCutoff\n",
       "[1] 0.001\n",
       "\n",
       "[[3]]$localGeneCutoff\n",
       "[1] 30\n",
       "\n",
       "[[3]]$trainNWpath\n",
       "[1] \"TrainNetwork-1\"\n",
       "\n",
       "[[3]]$runningNumber\n",
       "[1] 3\n",
       "\n",
       "\n",
       "[[4]]\n",
       "[[4]]$dataSetExpr\n",
       "[1] \"TestSet_ExpressionData_regNet_Run_2.txt\"\n",
       "\n",
       "[[4]]$dataSetMethyl\n",
       "[1] \"TestSet_MethylationData_regNet_Run_2.txt\"\n",
       "\n",
       "[[4]]$dataSetName\n",
       "[1] \"TestSet\"\n",
       "\n",
       "[[4]]$networkName\n",
       "[1] \"RandomNetwork_2_PValueCutoff_0.001_BasedOn_TcgaMelanomaExprMeth\"\n",
       "\n",
       "[[4]]$pValCutoff\n",
       "[1] 0.001\n",
       "\n",
       "[[4]]$localGeneCutoff\n",
       "[1] 30\n",
       "\n",
       "[[4]]$trainNWpath\n",
       "[1] \"TrainNetwork-2\"\n",
       "\n",
       "[[4]]$runningNumber\n",
       "[1] 4\n",
       "\n"
      ]
     },
     "metadata": {},
     "output_type": "display_data"
    }
   ],
   "source": [
    "parameterSetsRandom"
   ]
  },
  {
   "cell_type": "code",
   "execution_count": 37,
   "id": "9a718555",
   "metadata": {},
   "outputs": [],
   "source": [
    "# parameter sets for prediction of MelBrain Data with TCGA trained:\n",
    "parameterSetsMelBrainSys = \n",
    "    createNormalPredictionSets(networkName = networkName,\n",
    "                         dataSetName = \"MelBrainSys\", pValCutoffs = 0.001, \n",
    "                         localGeneCutoffs = 30, nwRange = 1:numOfNWs)"
   ]
  },
  {
   "cell_type": "code",
   "execution_count": 46,
   "id": "0e218545",
   "metadata": {},
   "outputs": [
    {
     "data": {
      "text/html": [
       "'MelBrainSys_ExpressionData_regNet.txt'"
      ],
      "text/latex": [
       "'MelBrainSys\\_ExpressionData\\_regNet.txt'"
      ],
      "text/markdown": [
       "'MelBrainSys_ExpressionData_regNet.txt'"
      ],
      "text/plain": [
       "[1] \"MelBrainSys_ExpressionData_regNet.txt\""
      ]
     },
     "metadata": {},
     "output_type": "display_data"
    },
    {
     "data": {
      "text/html": [
       "'MelBrainSys_MethylationData_regNet.txt'"
      ],
      "text/latex": [
       "'MelBrainSys\\_MethylationData\\_regNet.txt'"
      ],
      "text/markdown": [
       "'MelBrainSys_MethylationData_regNet.txt'"
      ],
      "text/plain": [
       "[1] \"MelBrainSys_MethylationData_regNet.txt\""
      ]
     },
     "metadata": {},
     "output_type": "display_data"
    }
   ],
   "source": [
    "# rename melBrainSys data sets, they don't follow the TrainNetwok number:\n",
    "parameterSetsMelBrainSys[[1]]$dataSetExpr\n",
    "parameterSetsMelBrainSys[[1]]$dataSetMethyl\n",
    "\n",
    "for(i in 1:length(parameterSetsMelBrainSys)) {\n",
    "    parameterSetsMelBrainSys[[i]]$dataSetExpr = \"MelBrainSys-expression.csv\"\n",
    "    parameterSetsMelBrainSys[[i]]$dataSetMethyl = \"MelBrainSys-methylation.csv\"\n",
    "}"
   ]
  },
  {
   "cell_type": "code",
   "execution_count": 33,
   "id": "f0943c73",
   "metadata": {},
   "outputs": [
    {
     "data": {
      "text/plain": [
       "Time difference of 33.88182 secs"
      ]
     },
     "metadata": {},
     "output_type": "display_data"
    }
   ],
   "source": [
    "# predict test data with trained network:\n",
    "dataSetsPath = \"Data/\"\n",
    "startt = Sys.time()\n",
    "tmp = mclapply(X = parameterSetsNormal, predict1nw, mc.cores = nbCPUs)\n",
    "endt = Sys.time()\n",
    "endt - startt\n",
    "# 35 sec with 19 cpus for 2 data sets (2 NWs each 1 NW instances)"
   ]
  },
  {
   "cell_type": "code",
   "execution_count": 35,
   "id": "5af90000",
   "metadata": {},
   "outputs": [
    {
     "data": {
      "text/plain": [
       "Time difference of 38.23217 secs"
      ]
     },
     "metadata": {},
     "output_type": "display_data"
    }
   ],
   "source": [
    "# predict test data with random networks:\n",
    "startt = Sys.time()\n",
    "tmp = mclapply(X = parameterSetsRandom, predict1nw, mc.cores = nbCPUs)\n",
    "endt = Sys.time()\n",
    "endt - startt\n",
    "# 39 sec with 19 cpus for 2 data sets (2 NWs each 2 NW instances)"
   ]
  },
  {
   "cell_type": "code",
   "execution_count": 47,
   "id": "1e9a8e8d",
   "metadata": {},
   "outputs": [
    {
     "data": {
      "text/plain": [
       "Time difference of 23.92259 secs"
      ]
     },
     "metadata": {},
     "output_type": "display_data"
    }
   ],
   "source": [
    "# predict MelBrainSys data with trained networks:\n",
    "startt = Sys.time()\n",
    "tmp = mclapply(X = parameterSetsMelBrainSys, predict1nw, mc.cores = nbCPUs)\n",
    "endt = Sys.time()\n",
    "endt - startt\n",
    "# 24 sec with 19 cpus for 2 data sets (2 NWs each 1 NW instances)"
   ]
  },
  {
   "cell_type": "markdown",
   "id": "08cb2f44",
   "metadata": {
    "scrolled": true
   },
   "source": [
    "### read in predictions"
   ]
  },
  {
   "cell_type": "code",
   "execution_count": 49,
   "id": "42cc5ac6",
   "metadata": {},
   "outputs": [],
   "source": [
    "readInNormalNWPredictions = function(dataSetName,networkName, pValCutoffs,\n",
    "                             localGeneCutoffs,nwRange) {\n",
    "    # first build list of files and check which files are there:\n",
    "    dataSets = NULL\n",
    "    for(localGeneCutoff in localGeneCutoffs) {\n",
    "        message(\"localGeneCutoff \",localGeneCutoff,\"\\n\")\n",
    "        for (pValCutoff in pValCutoffs) {\n",
    "            message(\"reading files of pValCutoff \",pValCutoff,\"...\\n\")\n",
    "            for (networkNum in nwRange) {\n",
    "                resultFile = \n",
    "                    paste0(\"TrainNetwork-\",networkNum,\"/NetworkPredictions/\",dataSetName,\n",
    "                           \"_PredictionOfGeneExpressionBasedOn_\",\n",
    "                           networkName,\"_PValueCutoff_\",\n",
    "                           pValCutoff,\"_LocalGeneCutoff_\",localGeneCutoff,\".txt\")\n",
    "                dataSets = rbind(dataSets,\n",
    "                                 data.frame(file=resultFile,networkNum=networkNum,pValCutoff=pValCutoff,\n",
    "                                           localGeneCutoff=localGeneCutoff, \n",
    "                                         stringsAsFactors = F))\n",
    "            }\n",
    "        }\n",
    "    }\n",
    "    message(\"class of file \",class(dataSets$file))\n",
    "    wh = which(! file.exists(dataSets$file))\n",
    "    if (length(wh)>0) {\n",
    "        message( length(wh), \" files do not exist: \\n\", paste0(dataSets$file[wh],collapse = \"\\n\"))\n",
    "        return(NULL)\n",
    "    }\n",
    "    predResults=NULL\n",
    "    for(i in 1:nrow(dataSets)) {\n",
    "        message(\"reading in: \",dataSets$file[i],\"\\n\")\n",
    "        dat = read.csv(file = dataSets$file[i],header = T,sep = \"\\t\",stringsAsFactors = F)\n",
    "        predResults = \n",
    "            rbind(predResults,data.frame(localGeneCutoff=dataSets$localGeneCutoff[i],\n",
    "                                         pValCutoff=dataSets$pValCutoff[i],\n",
    "                                         networkNum=dataSets$networkNum[i],dat))\n",
    "    }\n",
    "    return(predResults)\n",
    "}"
   ]
  },
  {
   "cell_type": "code",
   "execution_count": 52,
   "id": "8b2f8470",
   "metadata": {},
   "outputs": [],
   "source": [
    "readInRandomNWPredictions = function(dataSetName,networkNameBase,networkName, pValCutoffs,\n",
    "                             localGeneCutoffs,NWinstances,nwRange) {\n",
    "    # first build list of files and check which files are there:\n",
    "    dataSets = NULL\n",
    "    for(localGeneCutoff in localGeneCutoffs) {\n",
    "        message(\"localGeneCutoff \",localGeneCutoff,\"\\n\")\n",
    "        for (pValCutoff in pValCutoffs) {\n",
    "            message(\"  pValCutoff \",pValCutoff,\"...\\n\")\n",
    "            for(nwInstanceNb in NWinstances) {\n",
    "                for (networkNum in nwRange) {\n",
    "                    resultFile = \n",
    "                        paste0(\"TrainNetwork-\",networkNum,\"/NetworkPredictions/\",dataSetName,\n",
    "                               \"_PredictionOfGeneExpressionBasedOn_\",\n",
    "                               networkNameBase,nwInstanceNb,\"_PValueCutoff_\",pValCutoff,\n",
    "                               \"_BasedOn_\",networkName,\"_PValueCutoff_\",\n",
    "                               pValCutoff,\"_LocalGeneCutoff_\",localGeneCutoff,\".txt\")\n",
    "                    dataSets = \n",
    "                        rbind(dataSets,\n",
    "                              data.frame(file=resultFile,networkNum=networkNum,nwInstanceNb=nwInstanceNb,\n",
    "                                         pValCutoff=pValCutoff,localGeneCutoff=localGeneCutoff, stringsAsFactors = F))\n",
    "                }\n",
    "            }\n",
    "        }\n",
    "    }\n",
    "    message(\"class of file \",class(dataSets))\n",
    "\n",
    "    wh = which(! file.exists(dataSets$file))\n",
    "    if (length(wh)>0) {\n",
    "        message( length(wh), \" files do not exist: \\n\", paste0(dataSets$file[wh],collapse = \"\\n\"))\n",
    "        return(NULL)\n",
    "    }\n",
    "    predResults=NULL\n",
    "    for(i in 1:nrow(dataSets)) {\n",
    "        message(class(dataSets$file[i]))\n",
    "        message(\"reading in: \",dataSets$file[i],\"\\n\")\n",
    "        dat = read.csv(file = dataSets$file[i],header = T,sep = \"\\t\",stringsAsFactors = F)\n",
    "        predResults = \n",
    "            rbind(predResults,\n",
    "                  data.frame(localGeneCutoff = dataSets$localGeneCutoff[i],pValCutoff = dataSets$pValCutoff[i],\n",
    "                             networkNum = dataSets$networkNum[i],nwInstanceNb = dataSets$nwInstanceNb[i],dat))\n",
    "    }\n",
    "    return(predResults)\n",
    "}"
   ]
  },
  {
   "cell_type": "code",
   "execution_count": 50,
   "id": "8d893df7",
   "metadata": {},
   "outputs": [
    {
     "name": "stderr",
     "output_type": "stream",
     "text": [
      "localGeneCutoff 30\n",
      "\n",
      "\n",
      "reading files of pValCutoff 0.001...\n",
      "\n",
      "\n",
      "class of file character\n",
      "\n",
      "reading in: TrainNetwork-1/NetworkPredictions/TestSet_PredictionOfGeneExpressionBasedOn_TcgaMelanomaExprMeth_PValueCutoff_0.001_LocalGeneCutoff_30.txt\n",
      "\n",
      "\n",
      "reading in: TrainNetwork-2/NetworkPredictions/TestSet_PredictionOfGeneExpressionBasedOn_TcgaMelanomaExprMeth_PValueCutoff_0.001_LocalGeneCutoff_30.txt\n",
      "\n",
      "\n"
     ]
    }
   ],
   "source": [
    "normalPredTestResults = \n",
    "    readInNormalNWPredictions(dataSetName = \"TestSet\",networkName = networkName,\n",
    "                              pValCutoffs = \"0.001\", localGeneCutoffs = 30, nwRange = 1:numOfNWs)"
   ]
  },
  {
   "cell_type": "code",
   "execution_count": 51,
   "id": "93c9e2e8",
   "metadata": {},
   "outputs": [
    {
     "name": "stderr",
     "output_type": "stream",
     "text": [
      "localGeneCutoff 30\n",
      "\n",
      "\n",
      "reading files of pValCutoff 0.001...\n",
      "\n",
      "\n",
      "class of file character\n",
      "\n",
      "reading in: TrainNetwork-1/NetworkPredictions/MelBrainSys_PredictionOfGeneExpressionBasedOn_TcgaMelanomaExprMeth_PValueCutoff_0.001_LocalGeneCutoff_30.txt\n",
      "\n",
      "\n",
      "reading in: TrainNetwork-2/NetworkPredictions/MelBrainSys_PredictionOfGeneExpressionBasedOn_TcgaMelanomaExprMeth_PValueCutoff_0.001_LocalGeneCutoff_30.txt\n",
      "\n",
      "\n"
     ]
    }
   ],
   "source": [
    "melBrainPredResults = \n",
    "    readInNormalNWPredictions(dataSetName = \"MelBrainSys\",networkName = networkName, \n",
    "                              pValCutoffs = \"0.001\", localGeneCutoffs = 30, nwRange = 1:numOfNWs)"
   ]
  },
  {
   "cell_type": "code",
   "execution_count": 58,
   "id": "d867cf77",
   "metadata": {},
   "outputs": [
    {
     "name": "stderr",
     "output_type": "stream",
     "text": [
      "localGeneCutoff 30\n",
      "\n",
      "\n",
      "  pValCutoff 0.001...\n",
      "\n",
      "\n",
      "class of file data.frame\n",
      "\n",
      "character\n",
      "\n",
      "reading in: TrainNetwork-1/NetworkPredictions/TestSet_PredictionOfGeneExpressionBasedOn_RandomNetwork_1_PValueCutoff_0.001_BasedOn_TcgaMelanomaExprMeth_PValueCutoff_0.001_LocalGeneCutoff_30.txt\n",
      "\n",
      "\n",
      "character\n",
      "\n",
      "reading in: TrainNetwork-2/NetworkPredictions/TestSet_PredictionOfGeneExpressionBasedOn_RandomNetwork_1_PValueCutoff_0.001_BasedOn_TcgaMelanomaExprMeth_PValueCutoff_0.001_LocalGeneCutoff_30.txt\n",
      "\n",
      "\n",
      "character\n",
      "\n",
      "reading in: TrainNetwork-1/NetworkPredictions/TestSet_PredictionOfGeneExpressionBasedOn_RandomNetwork_2_PValueCutoff_0.001_BasedOn_TcgaMelanomaExprMeth_PValueCutoff_0.001_LocalGeneCutoff_30.txt\n",
      "\n",
      "\n",
      "character\n",
      "\n",
      "reading in: TrainNetwork-2/NetworkPredictions/TestSet_PredictionOfGeneExpressionBasedOn_RandomNetwork_2_PValueCutoff_0.001_BasedOn_TcgaMelanomaExprMeth_PValueCutoff_0.001_LocalGeneCutoff_30.txt\n",
      "\n",
      "\n"
     ]
    }
   ],
   "source": [
    "randomPredTestResults = \n",
    "    readInRandomNWPredictions(dataSetName = \"TestSet\",networkNameBase = \"RandomNetwork_\",\n",
    "                      networkName = networkName, pValCutoffs = \"0.001\",\n",
    "                      localGeneCutoffs = 30, nwRange=1:numOfNWs , NWinstances = 1:numOfNWs)"
   ]
  },
  {
   "cell_type": "code",
   "execution_count": 59,
   "id": "b823f969",
   "metadata": {},
   "outputs": [
    {
     "data": {
      "text/html": [
       "<table class=\"dataframe\">\n",
       "<caption>A data.frame: 3 × 6</caption>\n",
       "<thead>\n",
       "\t<tr><th></th><th scope=col>localGeneCutoff</th><th scope=col>pValCutoff</th><th scope=col>networkNum</th><th scope=col>Gene</th><th scope=col>Correlation</th><th scope=col>P.Value</th></tr>\n",
       "\t<tr><th></th><th scope=col>&lt;dbl&gt;</th><th scope=col>&lt;chr&gt;</th><th scope=col>&lt;int&gt;</th><th scope=col>&lt;chr&gt;</th><th scope=col>&lt;dbl&gt;</th><th scope=col>&lt;dbl&gt;</th></tr>\n",
       "</thead>\n",
       "<tbody>\n",
       "\t<tr><th scope=row>1</th><td>30</td><td>0.001</td><td>1</td><td>NOC2L </td><td>0.3599541</td><td>0.02995320</td></tr>\n",
       "\t<tr><th scope=row>2</th><td>30</td><td>0.001</td><td>1</td><td>KLHL17</td><td>0.3863287</td><td>0.02114429</td></tr>\n",
       "\t<tr><th scope=row>3</th><td>30</td><td>0.001</td><td>1</td><td>HES4  </td><td>0.2478758</td><td>0.10172311</td></tr>\n",
       "</tbody>\n",
       "</table>\n"
      ],
      "text/latex": [
       "A data.frame: 3 × 6\n",
       "\\begin{tabular}{r|llllll}\n",
       "  & localGeneCutoff & pValCutoff & networkNum & Gene & Correlation & P.Value\\\\\n",
       "  & <dbl> & <chr> & <int> & <chr> & <dbl> & <dbl>\\\\\n",
       "\\hline\n",
       "\t1 & 30 & 0.001 & 1 & NOC2L  & 0.3599541 & 0.02995320\\\\\n",
       "\t2 & 30 & 0.001 & 1 & KLHL17 & 0.3863287 & 0.02114429\\\\\n",
       "\t3 & 30 & 0.001 & 1 & HES4   & 0.2478758 & 0.10172311\\\\\n",
       "\\end{tabular}\n"
      ],
      "text/markdown": [
       "\n",
       "A data.frame: 3 × 6\n",
       "\n",
       "| <!--/--> | localGeneCutoff &lt;dbl&gt; | pValCutoff &lt;chr&gt; | networkNum &lt;int&gt; | Gene &lt;chr&gt; | Correlation &lt;dbl&gt; | P.Value &lt;dbl&gt; |\n",
       "|---|---|---|---|---|---|---|\n",
       "| 1 | 30 | 0.001 | 1 | NOC2L  | 0.3599541 | 0.02995320 |\n",
       "| 2 | 30 | 0.001 | 1 | KLHL17 | 0.3863287 | 0.02114429 |\n",
       "| 3 | 30 | 0.001 | 1 | HES4   | 0.2478758 | 0.10172311 |\n",
       "\n"
      ],
      "text/plain": [
       "  localGeneCutoff pValCutoff networkNum Gene   Correlation P.Value   \n",
       "1 30              0.001      1          NOC2L  0.3599541   0.02995320\n",
       "2 30              0.001      1          KLHL17 0.3863287   0.02114429\n",
       "3 30              0.001      1          HES4   0.2478758   0.10172311"
      ]
     },
     "metadata": {},
     "output_type": "display_data"
    },
    {
     "data": {
      "text/html": [
       "<table class=\"dataframe\">\n",
       "<caption>A data.frame: 3 × 6</caption>\n",
       "<thead>\n",
       "\t<tr><th></th><th scope=col>localGeneCutoff</th><th scope=col>pValCutoff</th><th scope=col>networkNum</th><th scope=col>Gene</th><th scope=col>Correlation</th><th scope=col>P.Value</th></tr>\n",
       "\t<tr><th></th><th scope=col>&lt;dbl&gt;</th><th scope=col>&lt;chr&gt;</th><th scope=col>&lt;int&gt;</th><th scope=col>&lt;chr&gt;</th><th scope=col>&lt;dbl&gt;</th><th scope=col>&lt;dbl&gt;</th></tr>\n",
       "</thead>\n",
       "<tbody>\n",
       "\t<tr><th scope=row>1</th><td>30</td><td>0.001</td><td>1</td><td>NOC2L </td><td>0.7391533</td><td>3.072329e-13</td></tr>\n",
       "\t<tr><th scope=row>2</th><td>30</td><td>0.001</td><td>1</td><td>KLHL17</td><td>0.4856743</td><td>1.345156e-05</td></tr>\n",
       "\t<tr><th scope=row>3</th><td>30</td><td>0.001</td><td>1</td><td>HES4  </td><td>0.5666659</td><td>2.360092e-07</td></tr>\n",
       "</tbody>\n",
       "</table>\n"
      ],
      "text/latex": [
       "A data.frame: 3 × 6\n",
       "\\begin{tabular}{r|llllll}\n",
       "  & localGeneCutoff & pValCutoff & networkNum & Gene & Correlation & P.Value\\\\\n",
       "  & <dbl> & <chr> & <int> & <chr> & <dbl> & <dbl>\\\\\n",
       "\\hline\n",
       "\t1 & 30 & 0.001 & 1 & NOC2L  & 0.7391533 & 3.072329e-13\\\\\n",
       "\t2 & 30 & 0.001 & 1 & KLHL17 & 0.4856743 & 1.345156e-05\\\\\n",
       "\t3 & 30 & 0.001 & 1 & HES4   & 0.5666659 & 2.360092e-07\\\\\n",
       "\\end{tabular}\n"
      ],
      "text/markdown": [
       "\n",
       "A data.frame: 3 × 6\n",
       "\n",
       "| <!--/--> | localGeneCutoff &lt;dbl&gt; | pValCutoff &lt;chr&gt; | networkNum &lt;int&gt; | Gene &lt;chr&gt; | Correlation &lt;dbl&gt; | P.Value &lt;dbl&gt; |\n",
       "|---|---|---|---|---|---|---|\n",
       "| 1 | 30 | 0.001 | 1 | NOC2L  | 0.7391533 | 3.072329e-13 |\n",
       "| 2 | 30 | 0.001 | 1 | KLHL17 | 0.4856743 | 1.345156e-05 |\n",
       "| 3 | 30 | 0.001 | 1 | HES4   | 0.5666659 | 2.360092e-07 |\n",
       "\n"
      ],
      "text/plain": [
       "  localGeneCutoff pValCutoff networkNum Gene   Correlation P.Value     \n",
       "1 30              0.001      1          NOC2L  0.7391533   3.072329e-13\n",
       "2 30              0.001      1          KLHL17 0.4856743   1.345156e-05\n",
       "3 30              0.001      1          HES4   0.5666659   2.360092e-07"
      ]
     },
     "metadata": {},
     "output_type": "display_data"
    },
    {
     "data": {
      "text/html": [
       "<table class=\"dataframe\">\n",
       "<caption>A data.frame: 3 × 7</caption>\n",
       "<thead>\n",
       "\t<tr><th></th><th scope=col>localGeneCutoff</th><th scope=col>pValCutoff</th><th scope=col>networkNum</th><th scope=col>nwInstanceNb</th><th scope=col>Gene</th><th scope=col>Correlation</th><th scope=col>P.Value</th></tr>\n",
       "\t<tr><th></th><th scope=col>&lt;dbl&gt;</th><th scope=col>&lt;chr&gt;</th><th scope=col>&lt;int&gt;</th><th scope=col>&lt;int&gt;</th><th scope=col>&lt;chr&gt;</th><th scope=col>&lt;dbl&gt;</th><th scope=col>&lt;dbl&gt;</th></tr>\n",
       "</thead>\n",
       "<tbody>\n",
       "\t<tr><th scope=row>1</th><td>30</td><td>0.001</td><td>1</td><td>1</td><td>NOC2L </td><td> 0.2116147</td><td>0.04160605</td></tr>\n",
       "\t<tr><th scope=row>2</th><td>30</td><td>0.001</td><td>1</td><td>1</td><td>KLHL17</td><td>-0.2507733</td><td>0.98042830</td></tr>\n",
       "\t<tr><th scope=row>3</th><td>30</td><td>0.001</td><td>1</td><td>1</td><td>HES4  </td><td>-0.1930749</td><td>0.94265990</td></tr>\n",
       "</tbody>\n",
       "</table>\n"
      ],
      "text/latex": [
       "A data.frame: 3 × 7\n",
       "\\begin{tabular}{r|lllllll}\n",
       "  & localGeneCutoff & pValCutoff & networkNum & nwInstanceNb & Gene & Correlation & P.Value\\\\\n",
       "  & <dbl> & <chr> & <int> & <int> & <chr> & <dbl> & <dbl>\\\\\n",
       "\\hline\n",
       "\t1 & 30 & 0.001 & 1 & 1 & NOC2L  &  0.2116147 & 0.04160605\\\\\n",
       "\t2 & 30 & 0.001 & 1 & 1 & KLHL17 & -0.2507733 & 0.98042830\\\\\n",
       "\t3 & 30 & 0.001 & 1 & 1 & HES4   & -0.1930749 & 0.94265990\\\\\n",
       "\\end{tabular}\n"
      ],
      "text/markdown": [
       "\n",
       "A data.frame: 3 × 7\n",
       "\n",
       "| <!--/--> | localGeneCutoff &lt;dbl&gt; | pValCutoff &lt;chr&gt; | networkNum &lt;int&gt; | nwInstanceNb &lt;int&gt; | Gene &lt;chr&gt; | Correlation &lt;dbl&gt; | P.Value &lt;dbl&gt; |\n",
       "|---|---|---|---|---|---|---|---|\n",
       "| 1 | 30 | 0.001 | 1 | 1 | NOC2L  |  0.2116147 | 0.04160605 |\n",
       "| 2 | 30 | 0.001 | 1 | 1 | KLHL17 | -0.2507733 | 0.98042830 |\n",
       "| 3 | 30 | 0.001 | 1 | 1 | HES4   | -0.1930749 | 0.94265990 |\n",
       "\n"
      ],
      "text/plain": [
       "  localGeneCutoff pValCutoff networkNum nwInstanceNb Gene   Correlation\n",
       "1 30              0.001      1          1            NOC2L   0.2116147 \n",
       "2 30              0.001      1          1            KLHL17 -0.2507733 \n",
       "3 30              0.001      1          1            HES4   -0.1930749 \n",
       "  P.Value   \n",
       "1 0.04160605\n",
       "2 0.98042830\n",
       "3 0.94265990"
      ]
     },
     "metadata": {},
     "output_type": "display_data"
    }
   ],
   "source": [
    "head(melBrainPredResults,3)\n",
    "head(normalPredTestResults,3)\n",
    "head(randomPredTestResults,3)"
   ]
  },
  {
   "cell_type": "markdown",
   "id": "69298693",
   "metadata": {},
   "source": [
    "### data wrangling to create data.frame for ggplot"
   ]
  },
  {
   "cell_type": "code",
   "execution_count": 78,
   "id": "c29b9633",
   "metadata": {},
   "outputs": [
    {
     "data": {
      "text/html": [
       "8251"
      ],
      "text/latex": [
       "8251"
      ],
      "text/markdown": [
       "8251"
      ],
      "text/plain": [
       "[1] 8251"
      ]
     },
     "metadata": {},
     "output_type": "display_data"
    }
   ],
   "source": [
    "# now get median for each gene in each random network (nwInstanceNb) of networkNum networks\n",
    "allGenes = unique(sort(randomPredTestResults$Gene))\n",
    "length(allGenes)\n",
    "medianrandomPredTestResults = NULL\n",
    "for (networkNum in 1:numOfNWs) {\n",
    "    dat = randomPredTestResults[randomPredTestResults$localGeneCutoff == localGeneCutoff & \n",
    "                      randomPredTestResults$pValCutoff == pValCutoff & \n",
    "                                randomPredTestResults$networkNum == networkNum,]\n",
    "    median_correlation = sapply(allGenes, function(g) median(dat[ dat$Gene == g,\"Correlation\" ]))\n",
    "    median_pvalue = sapply(allGenes, function(g) median(dat[ dat$Gene == g,\"P.Value\" ]))\n",
    "    medianrandomPredTestResults = \n",
    "        rbind(medianrandomPredTestResults,\n",
    "              data.frame(gene=allGenes,localGeneCutoff=localGeneCutoff,pValCutoff=pValCutoff,\n",
    "                         networkNum=networkNum,median_correlation=median_correlation, \n",
    "                         median_pvalue=median_pvalue))\n",
    "}\n",
    "# takes ca. 3 minutes, maybe we could programm it better or parallelize"
   ]
  },
  {
   "cell_type": "code",
   "execution_count": 77,
   "id": "0a017bf7",
   "metadata": {},
   "outputs": [
    {
     "data": {
      "text/html": [
       "<table class=\"dataframe\">\n",
       "<caption>A data.frame: 3 × 6</caption>\n",
       "<thead>\n",
       "\t<tr><th></th><th scope=col>gene</th><th scope=col>localGeneCutoff</th><th scope=col>pValCutoff</th><th scope=col>networkNum</th><th scope=col>median_correlation</th><th scope=col>median_pvalue</th></tr>\n",
       "\t<tr><th></th><th scope=col>&lt;chr&gt;</th><th scope=col>&lt;dbl&gt;</th><th scope=col>&lt;dbl&gt;</th><th scope=col>&lt;int&gt;</th><th scope=col>&lt;dbl&gt;</th><th scope=col>&lt;dbl&gt;</th></tr>\n",
       "</thead>\n",
       "<tbody>\n",
       "\t<tr><th scope=row>A1BG</th><td>A1BG</td><td>30</td><td>0.001</td><td>1</td><td>-0.189787271</td><td>0.6311568</td></tr>\n",
       "\t<tr><th scope=row>AAAS</th><td>AAAS</td><td>30</td><td>0.001</td><td>1</td><td> 0.008401999</td><td>0.4992348</td></tr>\n",
       "\t<tr><th scope=row>AACS</th><td>AACS</td><td>30</td><td>0.001</td><td>1</td><td> 0.079063621</td><td>0.2652767</td></tr>\n",
       "</tbody>\n",
       "</table>\n"
      ],
      "text/latex": [
       "A data.frame: 3 × 6\n",
       "\\begin{tabular}{r|llllll}\n",
       "  & gene & localGeneCutoff & pValCutoff & networkNum & median\\_correlation & median\\_pvalue\\\\\n",
       "  & <chr> & <dbl> & <dbl> & <int> & <dbl> & <dbl>\\\\\n",
       "\\hline\n",
       "\tA1BG & A1BG & 30 & 0.001 & 1 & -0.189787271 & 0.6311568\\\\\n",
       "\tAAAS & AAAS & 30 & 0.001 & 1 &  0.008401999 & 0.4992348\\\\\n",
       "\tAACS & AACS & 30 & 0.001 & 1 &  0.079063621 & 0.2652767\\\\\n",
       "\\end{tabular}\n"
      ],
      "text/markdown": [
       "\n",
       "A data.frame: 3 × 6\n",
       "\n",
       "| <!--/--> | gene &lt;chr&gt; | localGeneCutoff &lt;dbl&gt; | pValCutoff &lt;dbl&gt; | networkNum &lt;int&gt; | median_correlation &lt;dbl&gt; | median_pvalue &lt;dbl&gt; |\n",
       "|---|---|---|---|---|---|---|\n",
       "| A1BG | A1BG | 30 | 0.001 | 1 | -0.189787271 | 0.6311568 |\n",
       "| AAAS | AAAS | 30 | 0.001 | 1 |  0.008401999 | 0.4992348 |\n",
       "| AACS | AACS | 30 | 0.001 | 1 |  0.079063621 | 0.2652767 |\n",
       "\n"
      ],
      "text/plain": [
       "     gene localGeneCutoff pValCutoff networkNum median_correlation\n",
       "A1BG A1BG 30              0.001      1          -0.189787271      \n",
       "AAAS AAAS 30              0.001      1           0.008401999      \n",
       "AACS AACS 30              0.001      1           0.079063621      \n",
       "     median_pvalue\n",
       "A1BG 0.6311568    \n",
       "AAAS 0.4992348    \n",
       "AACS 0.2652767    "
      ]
     },
     "metadata": {},
     "output_type": "display_data"
    }
   ],
   "source": [
    "head(medianrandomPredTestResults,3)"
   ]
  },
  {
   "cell_type": "code",
   "execution_count": 63,
   "id": "cf4eae95",
   "metadata": {},
   "outputs": [
    {
     "data": {
      "text/html": [
       "<table class=\"dataframe\">\n",
       "<caption>A data.frame: 3 × 7</caption>\n",
       "<thead>\n",
       "\t<tr><th></th><th scope=col>type</th><th scope=col>localGeneCutoff</th><th scope=col>pValCutoff</th><th scope=col>networkNum</th><th scope=col>Gene</th><th scope=col>Correlation</th><th scope=col>P.Value</th></tr>\n",
       "\t<tr><th></th><th scope=col>&lt;chr&gt;</th><th scope=col>&lt;dbl&gt;</th><th scope=col>&lt;dbl&gt;</th><th scope=col>&lt;int&gt;</th><th scope=col>&lt;chr&gt;</th><th scope=col>&lt;dbl&gt;</th><th scope=col>&lt;dbl&gt;</th></tr>\n",
       "</thead>\n",
       "<tbody>\n",
       "\t<tr><th scope=row>ZYX24</th><td>Random networks</td><td>30</td><td>0.001</td><td>25</td><td>ZYX  </td><td>NA</td><td>NA</td></tr>\n",
       "\t<tr><th scope=row>ZZEF124</th><td>Random networks</td><td>30</td><td>0.001</td><td>25</td><td>ZZEF1</td><td>NA</td><td>NA</td></tr>\n",
       "\t<tr><th scope=row>ZZZ324</th><td>Random networks</td><td>30</td><td>0.001</td><td>25</td><td>ZZZ3 </td><td>NA</td><td>NA</td></tr>\n",
       "</tbody>\n",
       "</table>\n"
      ],
      "text/latex": [
       "A data.frame: 3 × 7\n",
       "\\begin{tabular}{r|lllllll}\n",
       "  & type & localGeneCutoff & pValCutoff & networkNum & Gene & Correlation & P.Value\\\\\n",
       "  & <chr> & <dbl> & <dbl> & <int> & <chr> & <dbl> & <dbl>\\\\\n",
       "\\hline\n",
       "\tZYX24 & Random networks & 30 & 0.001 & 25 & ZYX   & NA & NA\\\\\n",
       "\tZZEF124 & Random networks & 30 & 0.001 & 25 & ZZEF1 & NA & NA\\\\\n",
       "\tZZZ324 & Random networks & 30 & 0.001 & 25 & ZZZ3  & NA & NA\\\\\n",
       "\\end{tabular}\n"
      ],
      "text/markdown": [
       "\n",
       "A data.frame: 3 × 7\n",
       "\n",
       "| <!--/--> | type &lt;chr&gt; | localGeneCutoff &lt;dbl&gt; | pValCutoff &lt;dbl&gt; | networkNum &lt;int&gt; | Gene &lt;chr&gt; | Correlation &lt;dbl&gt; | P.Value &lt;dbl&gt; |\n",
       "|---|---|---|---|---|---|---|---|\n",
       "| ZYX24 | Random networks | 30 | 0.001 | 25 | ZYX   | NA | NA |\n",
       "| ZZEF124 | Random networks | 30 | 0.001 | 25 | ZZEF1 | NA | NA |\n",
       "| ZZZ324 | Random networks | 30 | 0.001 | 25 | ZZZ3  | NA | NA |\n",
       "\n"
      ],
      "text/plain": [
       "        type            localGeneCutoff pValCutoff networkNum Gene  Correlation\n",
       "ZYX24   Random networks 30              0.001      25         ZYX   NA         \n",
       "ZZEF124 Random networks 30              0.001      25         ZZEF1 NA         \n",
       "ZZZ324  Random networks 30              0.001      25         ZZZ3  NA         \n",
       "        P.Value\n",
       "ZYX24   NA     \n",
       "ZZEF124 NA     \n",
       "ZZZ324  NA     "
      ]
     },
     "metadata": {},
     "output_type": "display_data"
    },
    {
     "data": {
      "text/html": [
       "<table class=\"dataframe\">\n",
       "<caption>A data.frame: 3 × 7</caption>\n",
       "<thead>\n",
       "\t<tr><th></th><th scope=col>type</th><th scope=col>localGeneCutoff</th><th scope=col>pValCutoff</th><th scope=col>networkNum</th><th scope=col>Gene</th><th scope=col>Correlation</th><th scope=col>P.Value</th></tr>\n",
       "\t<tr><th></th><th scope=col>&lt;chr&gt;</th><th scope=col>&lt;dbl&gt;</th><th scope=col>&lt;chr&gt;</th><th scope=col>&lt;int&gt;</th><th scope=col>&lt;chr&gt;</th><th scope=col>&lt;dbl&gt;</th><th scope=col>&lt;dbl&gt;</th></tr>\n",
       "</thead>\n",
       "<tbody>\n",
       "\t<tr><th scope=row>16500</th><td>MelBrainSys cohort</td><td>30</td><td>0.001</td><td>2</td><td>VMA21</td><td>0.2931107</td><td>6.504402e-02</td></tr>\n",
       "\t<tr><th scope=row>16501</th><td>MelBrainSys cohort</td><td>30</td><td>0.001</td><td>2</td><td>ZFY  </td><td>0.8539359</td><td>3.771599e-09</td></tr>\n",
       "\t<tr><th scope=row>16502</th><td>MelBrainSys cohort</td><td>30</td><td>0.001</td><td>2</td><td>UTY  </td><td>0.8733792</td><td>6.607535e-10</td></tr>\n",
       "</tbody>\n",
       "</table>\n"
      ],
      "text/latex": [
       "A data.frame: 3 × 7\n",
       "\\begin{tabular}{r|lllllll}\n",
       "  & type & localGeneCutoff & pValCutoff & networkNum & Gene & Correlation & P.Value\\\\\n",
       "  & <chr> & <dbl> & <chr> & <int> & <chr> & <dbl> & <dbl>\\\\\n",
       "\\hline\n",
       "\t16500 & MelBrainSys cohort & 30 & 0.001 & 2 & VMA21 & 0.2931107 & 6.504402e-02\\\\\n",
       "\t16501 & MelBrainSys cohort & 30 & 0.001 & 2 & ZFY   & 0.8539359 & 3.771599e-09\\\\\n",
       "\t16502 & MelBrainSys cohort & 30 & 0.001 & 2 & UTY   & 0.8733792 & 6.607535e-10\\\\\n",
       "\\end{tabular}\n"
      ],
      "text/markdown": [
       "\n",
       "A data.frame: 3 × 7\n",
       "\n",
       "| <!--/--> | type &lt;chr&gt; | localGeneCutoff &lt;dbl&gt; | pValCutoff &lt;chr&gt; | networkNum &lt;int&gt; | Gene &lt;chr&gt; | Correlation &lt;dbl&gt; | P.Value &lt;dbl&gt; |\n",
       "|---|---|---|---|---|---|---|---|\n",
       "| 16500 | MelBrainSys cohort | 30 | 0.001 | 2 | VMA21 | 0.2931107 | 6.504402e-02 |\n",
       "| 16501 | MelBrainSys cohort | 30 | 0.001 | 2 | ZFY   | 0.8539359 | 3.771599e-09 |\n",
       "| 16502 | MelBrainSys cohort | 30 | 0.001 | 2 | UTY   | 0.8733792 | 6.607535e-10 |\n",
       "\n"
      ],
      "text/plain": [
       "      type               localGeneCutoff pValCutoff networkNum Gene \n",
       "16500 MelBrainSys cohort 30              0.001      2          VMA21\n",
       "16501 MelBrainSys cohort 30              0.001      2          ZFY  \n",
       "16502 MelBrainSys cohort 30              0.001      2          UTY  \n",
       "      Correlation P.Value     \n",
       "16500 0.2931107   6.504402e-02\n",
       "16501 0.8539359   3.771599e-09\n",
       "16502 0.8733792   6.607535e-10"
      ]
     },
     "metadata": {},
     "output_type": "display_data"
    },
    {
     "data": {
      "text/html": [
       "<table class=\"dataframe\">\n",
       "<caption>A data.frame: 3 × 7</caption>\n",
       "<thead>\n",
       "\t<tr><th></th><th scope=col>type</th><th scope=col>localGeneCutoff</th><th scope=col>pValCutoff</th><th scope=col>networkNum</th><th scope=col>Gene</th><th scope=col>Correlation</th><th scope=col>P.Value</th></tr>\n",
       "\t<tr><th></th><th scope=col>&lt;chr&gt;</th><th scope=col>&lt;dbl&gt;</th><th scope=col>&lt;chr&gt;</th><th scope=col>&lt;int&gt;</th><th scope=col>&lt;chr&gt;</th><th scope=col>&lt;dbl&gt;</th><th scope=col>&lt;dbl&gt;</th></tr>\n",
       "</thead>\n",
       "<tbody>\n",
       "\t<tr><th scope=row>165001</th><td>TCGA test data</td><td>30</td><td>0.001</td><td>2</td><td>VMA21</td><td>0.7975942</td><td>1.969298e-16</td></tr>\n",
       "\t<tr><th scope=row>165011</th><td>TCGA test data</td><td>30</td><td>0.001</td><td>2</td><td>ZFY  </td><td>0.9588678</td><td>4.086580e-38</td></tr>\n",
       "\t<tr><th scope=row>165021</th><td>TCGA test data</td><td>30</td><td>0.001</td><td>2</td><td>UTY  </td><td>0.9643658</td><td>3.914760e-40</td></tr>\n",
       "</tbody>\n",
       "</table>\n"
      ],
      "text/latex": [
       "A data.frame: 3 × 7\n",
       "\\begin{tabular}{r|lllllll}\n",
       "  & type & localGeneCutoff & pValCutoff & networkNum & Gene & Correlation & P.Value\\\\\n",
       "  & <chr> & <dbl> & <chr> & <int> & <chr> & <dbl> & <dbl>\\\\\n",
       "\\hline\n",
       "\t165001 & TCGA test data & 30 & 0.001 & 2 & VMA21 & 0.7975942 & 1.969298e-16\\\\\n",
       "\t165011 & TCGA test data & 30 & 0.001 & 2 & ZFY   & 0.9588678 & 4.086580e-38\\\\\n",
       "\t165021 & TCGA test data & 30 & 0.001 & 2 & UTY   & 0.9643658 & 3.914760e-40\\\\\n",
       "\\end{tabular}\n"
      ],
      "text/markdown": [
       "\n",
       "A data.frame: 3 × 7\n",
       "\n",
       "| <!--/--> | type &lt;chr&gt; | localGeneCutoff &lt;dbl&gt; | pValCutoff &lt;chr&gt; | networkNum &lt;int&gt; | Gene &lt;chr&gt; | Correlation &lt;dbl&gt; | P.Value &lt;dbl&gt; |\n",
       "|---|---|---|---|---|---|---|---|\n",
       "| 165001 | TCGA test data | 30 | 0.001 | 2 | VMA21 | 0.7975942 | 1.969298e-16 |\n",
       "| 165011 | TCGA test data | 30 | 0.001 | 2 | ZFY   | 0.9588678 | 4.086580e-38 |\n",
       "| 165021 | TCGA test data | 30 | 0.001 | 2 | UTY   | 0.9643658 | 3.914760e-40 |\n",
       "\n"
      ],
      "text/plain": [
       "       type           localGeneCutoff pValCutoff networkNum Gene  Correlation\n",
       "165001 TCGA test data 30              0.001      2          VMA21 0.7975942  \n",
       "165011 TCGA test data 30              0.001      2          ZFY   0.9588678  \n",
       "165021 TCGA test data 30              0.001      2          UTY   0.9643658  \n",
       "       P.Value     \n",
       "165001 1.969298e-16\n",
       "165011 4.086580e-38\n",
       "165021 3.914760e-40"
      ]
     },
     "metadata": {},
     "output_type": "display_data"
    }
   ],
   "source": [
    "# put all results into 1 data.frame for ggplot\n",
    "mergedPredResultsOwnNW = \n",
    "    data.frame(stringsAsFactors = F, type=\"Random networks\",\n",
    "               medianrandomPredTestResults[,c(\"localGeneCutoff\",\"pValCutoff\",\"networkNum\",\"gene\",\"median_correlation\",\"median_pvalue\")])\n",
    "\n",
    "colnames(mergedPredResultsOwnNW) = c(\"type\",\"localGeneCutoff\",\"pValCutoff\",\"networkNum\",\"Gene\",\"Correlation\", \"P.Value\")\n",
    "tail(mergedPredResultsOwnNW,3)\n",
    "mergedPredResultsOwnNW = \n",
    "    rbind(mergedPredResultsOwnNW,\n",
    "          data.frame(stringsAsFactors = F, type=\"MelBrainSys cohort\",\n",
    "                     melBrainPredResults[,c(\"localGeneCutoff\",\"pValCutoff\",\"networkNum\",\"Gene\",\"Correlation\", \"P.Value\")]))\n",
    "tail(mergedPredResultsOwnNW,3)\n",
    "\n",
    "mergedPredResultsOwnNW = \n",
    "    rbind(mergedPredResultsOwnNW,\n",
    "          data.frame(stringsAsFactors = F, type=\"TCGA test data\",\n",
    "                     normalPredTestResults[,c(\"localGeneCutoff\",\"pValCutoff\",\"networkNum\",\"Gene\",\"Correlation\", \"P.Value\")]))\n",
    "tail(mergedPredResultsOwnNW,3)"
   ]
  },
  {
   "cell_type": "code",
   "execution_count": 65,
   "id": "32f4081b",
   "metadata": {},
   "outputs": [
    {
     "data": {
      "text/html": [
       "47219"
      ],
      "text/latex": [
       "47219"
      ],
      "text/markdown": [
       "47219"
      ],
      "text/plain": [
       "[1] 47219"
      ]
     },
     "metadata": {},
     "output_type": "display_data"
    },
    {
     "data": {
      "text/html": [
       "239279"
      ],
      "text/latex": [
       "239279"
      ],
      "text/markdown": [
       "239279"
      ],
      "text/plain": [
       "[1] 239279"
      ]
     },
     "metadata": {},
     "output_type": "display_data"
    },
    {
     "data": {
      "text/plain": [
       "\n",
       "MelBrainSys cohort    Random networks     TCGA test data \n",
       "             15521              16177              15521 "
      ]
     },
     "metadata": {},
     "output_type": "display_data"
    }
   ],
   "source": [
    "# only results without NA values\n",
    "mergedPredResultsOwnNWNoNA = mergedPredResultsOwnNW[which(!is.na(mergedPredResultsOwnNW$Correlation)),]\n",
    "nrow(mergedPredResultsOwnNWNoNA); nrow(mergedPredResultsOwnNW)\n",
    "table(mergedPredResultsOwnNWNoNA$type)"
   ]
  },
  {
   "cell_type": "code",
   "execution_count": 70,
   "id": "1aaa23e0",
   "metadata": {},
   "outputs": [
    {
     "name": "stderr",
     "output_type": "stream",
     "text": [
      "Random networks\n",
      "\n",
      "MelBrainSys cohort\n",
      "\n",
      "TCGA test data\n",
      "\n"
     ]
    }
   ],
   "source": [
    "# now calculate mean correlations over all trained networks:\n",
    "mergedPredResultsOwnNWNoNAmean = NULL\n",
    "for(type in unique(mergedPredResultsOwnNWNoNA$type)) {\n",
    "    message(type)\n",
    "    tmp = mergedPredResultsOwnNWNoNA[ mergedPredResultsOwnNWNoNA$pValCutoff == pValCutoff & \n",
    "                                     mergedPredResultsOwnNWNoNA$localGeneCutoff == localGeneCutoff &\n",
    "                      mergedPredResultsOwnNWNoNA$type == type,c(\"Gene\",\"Correlation\",\"networkNum\")]\n",
    "    tmpWide = reshape(tmp, idvar = \"Gene\", timevar = \"networkNum\", direction = \"wide\")\n",
    "    meanCor = rowMeans(tmpWide[,-1], na.rm = T)\n",
    "    mergedPredResultsOwnNWNoNAmean = \n",
    "        rbind(mergedPredResultsOwnNWNoNAmean,\n",
    "                  data.frame(type=type,localGeneCutoff=localGeneCutoff,\n",
    "                             pValCutoff=pValCutoff,Gene=names(meanCor),Correlation=meanCor))\n",
    "}"
   ]
  },
  {
   "cell_type": "code",
   "execution_count": 71,
   "id": "f687b6e1",
   "metadata": {},
   "outputs": [
    {
     "data": {
      "text/html": [
       "<table class=\"dataframe\">\n",
       "<caption>A data.frame: 6 × 5</caption>\n",
       "<thead>\n",
       "\t<tr><th></th><th scope=col>type</th><th scope=col>localGeneCutoff</th><th scope=col>pValCutoff</th><th scope=col>Gene</th><th scope=col>Correlation</th></tr>\n",
       "\t<tr><th></th><th scope=col>&lt;chr&gt;</th><th scope=col>&lt;dbl&gt;</th><th scope=col>&lt;dbl&gt;</th><th scope=col>&lt;chr&gt;</th><th scope=col>&lt;dbl&gt;</th></tr>\n",
       "</thead>\n",
       "<tbody>\n",
       "\t<tr><th scope=row>A1BG</th><td>Random networks</td><td>30</td><td>0.001</td><td>A1BG </td><td> 0.194219060</td></tr>\n",
       "\t<tr><th scope=row>AAAS</th><td>Random networks</td><td>30</td><td>0.001</td><td>AAAS </td><td> 0.001662626</td></tr>\n",
       "\t<tr><th scope=row>AACS</th><td>Random networks</td><td>30</td><td>0.001</td><td>AACS </td><td> 0.016682996</td></tr>\n",
       "\t<tr><th scope=row>AAGAB</th><td>Random networks</td><td>30</td><td>0.001</td><td>AAGAB</td><td>-0.102753163</td></tr>\n",
       "\t<tr><th scope=row>AAK1</th><td>Random networks</td><td>30</td><td>0.001</td><td>AAK1 </td><td> 0.144066887</td></tr>\n",
       "\t<tr><th scope=row>AAMP</th><td>Random networks</td><td>30</td><td>0.001</td><td>AAMP </td><td> 0.088179058</td></tr>\n",
       "</tbody>\n",
       "</table>\n"
      ],
      "text/latex": [
       "A data.frame: 6 × 5\n",
       "\\begin{tabular}{r|lllll}\n",
       "  & type & localGeneCutoff & pValCutoff & Gene & Correlation\\\\\n",
       "  & <chr> & <dbl> & <dbl> & <chr> & <dbl>\\\\\n",
       "\\hline\n",
       "\tA1BG & Random networks & 30 & 0.001 & A1BG  &  0.194219060\\\\\n",
       "\tAAAS & Random networks & 30 & 0.001 & AAAS  &  0.001662626\\\\\n",
       "\tAACS & Random networks & 30 & 0.001 & AACS  &  0.016682996\\\\\n",
       "\tAAGAB & Random networks & 30 & 0.001 & AAGAB & -0.102753163\\\\\n",
       "\tAAK1 & Random networks & 30 & 0.001 & AAK1  &  0.144066887\\\\\n",
       "\tAAMP & Random networks & 30 & 0.001 & AAMP  &  0.088179058\\\\\n",
       "\\end{tabular}\n"
      ],
      "text/markdown": [
       "\n",
       "A data.frame: 6 × 5\n",
       "\n",
       "| <!--/--> | type &lt;chr&gt; | localGeneCutoff &lt;dbl&gt; | pValCutoff &lt;dbl&gt; | Gene &lt;chr&gt; | Correlation &lt;dbl&gt; |\n",
       "|---|---|---|---|---|---|\n",
       "| A1BG | Random networks | 30 | 0.001 | A1BG  |  0.194219060 |\n",
       "| AAAS | Random networks | 30 | 0.001 | AAAS  |  0.001662626 |\n",
       "| AACS | Random networks | 30 | 0.001 | AACS  |  0.016682996 |\n",
       "| AAGAB | Random networks | 30 | 0.001 | AAGAB | -0.102753163 |\n",
       "| AAK1 | Random networks | 30 | 0.001 | AAK1  |  0.144066887 |\n",
       "| AAMP | Random networks | 30 | 0.001 | AAMP  |  0.088179058 |\n",
       "\n"
      ],
      "text/plain": [
       "      type            localGeneCutoff pValCutoff Gene  Correlation \n",
       "A1BG  Random networks 30              0.001      A1BG   0.194219060\n",
       "AAAS  Random networks 30              0.001      AAAS   0.001662626\n",
       "AACS  Random networks 30              0.001      AACS   0.016682996\n",
       "AAGAB Random networks 30              0.001      AAGAB -0.102753163\n",
       "AAK1  Random networks 30              0.001      AAK1   0.144066887\n",
       "AAMP  Random networks 30              0.001      AAMP   0.088179058"
      ]
     },
     "metadata": {},
     "output_type": "display_data"
    }
   ],
   "source": [
    "head(mergedPredResultsOwnNWNoNAmean)"
   ]
  },
  {
   "cell_type": "code",
   "execution_count": 72,
   "id": "97ff3ab4",
   "metadata": {},
   "outputs": [],
   "source": [
    "correlRange = c(-1,1)"
   ]
  },
  {
   "cell_type": "code",
   "execution_count": 73,
   "id": "102a1a7c",
   "metadata": {},
   "outputs": [
    {
     "data": {
      "image/png": "[encoded data removed]",
      "text/plain": [
       "plot without title"
      ]
     },
     "metadata": {
      "image/png": {
       "height": 420,
       "width": 420
      }
     },
     "output_type": "display_data"
    }
   ],
   "source": [
    "# now plot mean correlation between predicted and real gene expression\n",
    "\n",
    "p1 = ggplot(data = mergedPredResultsOwnNWNoNAmean,\n",
    "           mapping = aes(x=Correlation, fill=type)) + \n",
    "    geom_histogram(position=\"identity\",alpha=0.4, bins = 100) + \n",
    "    scale_fill_manual(breaks =c(\"Random networks\",\"TCGA test data\",\"MelBrainSys cohort\"),\n",
    "                      values = c(\"#666666\",\"aquamarine4\",\"blue\")) +\n",
    "    scale_y_sqrt(breaks=c(10,100,250,500,1000,2000), name=\"Number of genes\")+\n",
    "    scale_x_continuous( name=\"Correlation: predicted vs. original expression\", limits=c(-1,1)) + \n",
    "    #theme(axis.text.x=element_text(angle=90,vjust=0.5,hjust=1)) + # axis labels perpendicular\n",
    "    theme(legend.title=element_blank(), \n",
    "          legend.spacing.x = unit(0.25, 'cm')) # more space between legend label and colored box\n",
    "p1"
   ]
  },
  {
   "cell_type": "code",
   "execution_count": 75,
   "id": "a2d94ea9",
   "metadata": {},
   "outputs": [
    {
     "data": {
      "text/html": [
       "<strong>png:</strong> 2"
      ],
      "text/latex": [
       "\\textbf{png:} 2"
      ],
      "text/markdown": [
       "**png:** 2"
      ],
      "text/plain": [
       "png \n",
       "  2 "
      ]
     },
     "metadata": {},
     "output_type": "display_data"
    }
   ],
   "source": [
    "# for paper:\n",
    "png(filename = paste0(outDirectory,\"Figure-2-gene-expr-prediction-correl.png\"),\n",
    "    width = 2000,height = 1000, res=300)\n",
    "p1\n",
    "dev.off()"
   ]
  }
 ],
 "metadata": {
  "kernelspec": {
   "display_name": "R",
   "language": "R",
   "name": "ir"
  },
  "language_info": {
   "codemirror_mode": "r",
   "file_extension": ".r",
   "mimetype": "text/x-r-source",
   "name": "R",
   "pygments_lexer": "r",
   "version": "4.2.2"
  }
 },
 "nbformat": 4,
 "nbformat_minor": 5
}
