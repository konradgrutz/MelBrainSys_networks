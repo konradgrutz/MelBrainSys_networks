{
 "cells": [
  {
   "cell_type": "code",
   "execution_count": 2,
   "id": "5c45c506",
   "metadata": {
    "scrolled": true
   },
   "outputs": [],
   "source": [
    "library(ggplot2)\n",
    "library(gridExtra)\n",
    "library(xlsx)\n",
    "library(dplyr)\n",
    "library(scales)\n",
    "library(ggplotify)\n",
    "library(survival)\n",
    "library(survminer)"
   ]
  },
  {
   "cell_type": "code",
   "execution_count": 3,
   "id": "4f9df54f",
   "metadata": {},
   "outputs": [],
   "source": [
    "basePath = \"/data/bcu_projects/MelBrainSys_PostdocProject_Gruetzmann/publications/2022-my-MelBrainSys-paper/scripts-etc-for-publication/\"\n",
    "setwd(basePath)"
   ]
  },
  {
   "cell_type": "code",
   "execution_count": 4,
   "id": "c175496e",
   "metadata": {},
   "outputs": [],
   "source": [
    "outDirectory = paste0(basePath,\"FiguresTables/\")"
   ]
  },
  {
   "cell_type": "code",
   "execution_count": 5,
   "id": "28791f07",
   "metadata": {},
   "outputs": [
    {
     "data": {
      "text/html": [
       "<style>\n",
       ".dl-inline {width: auto; margin:0; padding: 0}\n",
       ".dl-inline>dt, .dl-inline>dd {float: none; width: auto; display: inline-block}\n",
       ".dl-inline>dt::after {content: \":\\0020\"; padding-right: .5ex}\n",
       ".dl-inline>dt:not(:first-of-type) {padding-left: .5ex}\n",
       "</style><dl class=dl-inline><dt>P04_Br</dt><dd>'SG1'</dd><dt>P04_Sk_GA</dt><dd>'SG1'</dd><dt>P08_Br</dt><dd>'SG1 | SG2 | SG3'</dd><dt>P08_St_BA</dt><dd>'SG1'</dd><dt>P16_Br</dt><dd>'SG1'</dd><dt>P16_Lu</dt><dd>'SG1'</dd><dt>P42_Br_GA</dt><dd>'SG1 | SG3'</dd><dt>P42_Ly_GA</dt><dd>'SG1'</dd><dt>P08_St_GA</dt><dd>'SG2'</dd><dt>P18_Br</dt><dd>'SG2 | SG3'</dd><dt>P18_Lu_YA</dt><dd>'SG2'</dd><dt>P39_Br</dt><dd>'SG2'</dd><dt>P39_Lu</dt><dd>'SG2'</dd><dt>P03_Br</dt><dd>'SG3'</dd><dt>P03_Lu</dt><dd>'SG3'</dd><dt>P08_St_YA</dt><dd>'SG3'</dd><dt>P18_Lu_GA</dt><dd>'SG3'</dd><dt>P42_Ly_YA</dt><dd>'SG3'</dd></dl>\n"
      ],
      "text/latex": [
       "\\begin{description*}\n",
       "\\item[P04\\textbackslash{}\\_Br] 'SG1'\n",
       "\\item[P04\\textbackslash{}\\_Sk\\textbackslash{}\\_GA] 'SG1'\n",
       "\\item[P08\\textbackslash{}\\_Br] 'SG1 \\textbar{} SG2 \\textbar{} SG3'\n",
       "\\item[P08\\textbackslash{}\\_St\\textbackslash{}\\_BA] 'SG1'\n",
       "\\item[P16\\textbackslash{}\\_Br] 'SG1'\n",
       "\\item[P16\\textbackslash{}\\_Lu] 'SG1'\n",
       "\\item[P42\\textbackslash{}\\_Br\\textbackslash{}\\_GA] 'SG1 \\textbar{} SG3'\n",
       "\\item[P42\\textbackslash{}\\_Ly\\textbackslash{}\\_GA] 'SG1'\n",
       "\\item[P08\\textbackslash{}\\_St\\textbackslash{}\\_GA] 'SG2'\n",
       "\\item[P18\\textbackslash{}\\_Br] 'SG2 \\textbar{} SG3'\n",
       "\\item[P18\\textbackslash{}\\_Lu\\textbackslash{}\\_YA] 'SG2'\n",
       "\\item[P39\\textbackslash{}\\_Br] 'SG2'\n",
       "\\item[P39\\textbackslash{}\\_Lu] 'SG2'\n",
       "\\item[P03\\textbackslash{}\\_Br] 'SG3'\n",
       "\\item[P03\\textbackslash{}\\_Lu] 'SG3'\n",
       "\\item[P08\\textbackslash{}\\_St\\textbackslash{}\\_YA] 'SG3'\n",
       "\\item[P18\\textbackslash{}\\_Lu\\textbackslash{}\\_GA] 'SG3'\n",
       "\\item[P42\\textbackslash{}\\_Ly\\textbackslash{}\\_YA] 'SG3'\n",
       "\\end{description*}\n"
      ],
      "text/markdown": [
       "P04_Br\n",
       ":   'SG1'P04_Sk_GA\n",
       ":   'SG1'P08_Br\n",
       ":   'SG1 | SG2 | SG3'P08_St_BA\n",
       ":   'SG1'P16_Br\n",
       ":   'SG1'P16_Lu\n",
       ":   'SG1'P42_Br_GA\n",
       ":   'SG1 | SG3'P42_Ly_GA\n",
       ":   'SG1'P08_St_GA\n",
       ":   'SG2'P18_Br\n",
       ":   'SG2 | SG3'P18_Lu_YA\n",
       ":   'SG2'P39_Br\n",
       ":   'SG2'P39_Lu\n",
       ":   'SG2'P03_Br\n",
       ":   'SG3'P03_Lu\n",
       ":   'SG3'P08_St_YA\n",
       ":   'SG3'P18_Lu_GA\n",
       ":   'SG3'P42_Ly_YA\n",
       ":   'SG3'\n",
       "\n"
      ],
      "text/plain": [
       "           P04_Br         P04_Sk_GA            P08_Br         P08_St_BA \n",
       "            \"SG1\"             \"SG1\" \"SG1 | SG2 | SG3\"             \"SG1\" \n",
       "           P16_Br            P16_Lu         P42_Br_GA         P42_Ly_GA \n",
       "            \"SG1\"             \"SG1\"       \"SG1 | SG3\"             \"SG1\" \n",
       "        P08_St_GA            P18_Br         P18_Lu_YA            P39_Br \n",
       "            \"SG2\"       \"SG2 | SG3\"             \"SG2\"             \"SG2\" \n",
       "           P39_Lu            P03_Br            P03_Lu         P08_St_YA \n",
       "            \"SG2\"             \"SG3\"             \"SG3\"             \"SG3\" \n",
       "        P18_Lu_GA         P42_Ly_YA \n",
       "            \"SG3\"             \"SG3\" "
      ]
     },
     "metadata": {},
     "output_type": "display_data"
    },
    {
     "data": {
      "text/html": [
       "<style>\n",
       ".dl-inline {width: auto; margin:0; padding: 0}\n",
       ".dl-inline>dt, .dl-inline>dd {float: none; width: auto; display: inline-block}\n",
       ".dl-inline>dt::after {content: \":\\0020\"; padding-right: .5ex}\n",
       ".dl-inline>dt:not(:first-of-type) {padding-left: .5ex}\n",
       "</style><dl class=dl-inline><dt>P04_Br</dt><dd>'SG1'</dd><dt>P04_Sk_GA</dt><dd>'SG1'</dd><dt>P08_Br</dt><dd>'NA'</dd><dt>P08_St_BA</dt><dd>'SG1'</dd><dt>P16_Br</dt><dd>'SG1'</dd><dt>P16_Lu</dt><dd>'SG1'</dd><dt>P42_Br_GA</dt><dd>'NA'</dd><dt>P42_Ly_GA</dt><dd>'SG1'</dd><dt>P08_St_GA</dt><dd>'SG2'</dd><dt>P18_Br</dt><dd>'NA'</dd><dt>P18_Lu_YA</dt><dd>'SG2'</dd><dt>P39_Br</dt><dd>'SG2'</dd><dt>P39_Lu</dt><dd>'SG2'</dd><dt>P03_Br</dt><dd>'SG3'</dd><dt>P03_Lu</dt><dd>'SG3'</dd><dt>P08_St_YA</dt><dd>'SG3'</dd><dt>P18_Lu_GA</dt><dd>'SG3'</dd><dt>P42_Ly_YA</dt><dd>'SG3'</dd></dl>\n"
      ],
      "text/latex": [
       "\\begin{description*}\n",
       "\\item[P04\\textbackslash{}\\_Br] 'SG1'\n",
       "\\item[P04\\textbackslash{}\\_Sk\\textbackslash{}\\_GA] 'SG1'\n",
       "\\item[P08\\textbackslash{}\\_Br] 'NA'\n",
       "\\item[P08\\textbackslash{}\\_St\\textbackslash{}\\_BA] 'SG1'\n",
       "\\item[P16\\textbackslash{}\\_Br] 'SG1'\n",
       "\\item[P16\\textbackslash{}\\_Lu] 'SG1'\n",
       "\\item[P42\\textbackslash{}\\_Br\\textbackslash{}\\_GA] 'NA'\n",
       "\\item[P42\\textbackslash{}\\_Ly\\textbackslash{}\\_GA] 'SG1'\n",
       "\\item[P08\\textbackslash{}\\_St\\textbackslash{}\\_GA] 'SG2'\n",
       "\\item[P18\\textbackslash{}\\_Br] 'NA'\n",
       "\\item[P18\\textbackslash{}\\_Lu\\textbackslash{}\\_YA] 'SG2'\n",
       "\\item[P39\\textbackslash{}\\_Br] 'SG2'\n",
       "\\item[P39\\textbackslash{}\\_Lu] 'SG2'\n",
       "\\item[P03\\textbackslash{}\\_Br] 'SG3'\n",
       "\\item[P03\\textbackslash{}\\_Lu] 'SG3'\n",
       "\\item[P08\\textbackslash{}\\_St\\textbackslash{}\\_YA] 'SG3'\n",
       "\\item[P18\\textbackslash{}\\_Lu\\textbackslash{}\\_GA] 'SG3'\n",
       "\\item[P42\\textbackslash{}\\_Ly\\textbackslash{}\\_YA] 'SG3'\n",
       "\\end{description*}\n"
      ],
      "text/markdown": [
       "P04_Br\n",
       ":   'SG1'P04_Sk_GA\n",
       ":   'SG1'P08_Br\n",
       ":   'NA'P08_St_BA\n",
       ":   'SG1'P16_Br\n",
       ":   'SG1'P16_Lu\n",
       ":   'SG1'P42_Br_GA\n",
       ":   'NA'P42_Ly_GA\n",
       ":   'SG1'P08_St_GA\n",
       ":   'SG2'P18_Br\n",
       ":   'NA'P18_Lu_YA\n",
       ":   'SG2'P39_Br\n",
       ":   'SG2'P39_Lu\n",
       ":   'SG2'P03_Br\n",
       ":   'SG3'P03_Lu\n",
       ":   'SG3'P08_St_YA\n",
       ":   'SG3'P18_Lu_GA\n",
       ":   'SG3'P42_Ly_YA\n",
       ":   'SG3'\n",
       "\n"
      ],
      "text/plain": [
       "   P04_Br P04_Sk_GA    P08_Br P08_St_BA    P16_Br    P16_Lu P42_Br_GA P42_Ly_GA \n",
       "    \"SG1\"     \"SG1\"      \"NA\"     \"SG1\"     \"SG1\"     \"SG1\"      \"NA\"     \"SG1\" \n",
       "P08_St_GA    P18_Br P18_Lu_YA    P39_Br    P39_Lu    P03_Br    P03_Lu P08_St_YA \n",
       "    \"SG2\"      \"NA\"     \"SG2\"     \"SG2\"     \"SG2\"     \"SG3\"     \"SG3\"     \"SG3\" \n",
       "P18_Lu_GA P42_Ly_YA \n",
       "    \"SG3\"     \"SG3\" "
      ]
     },
     "metadata": {},
     "output_type": "display_data"
    },
    {
     "data": {
      "text/html": [
       "<style>\n",
       ".list-inline {list-style: none; margin:0; padding: 0}\n",
       ".list-inline>li {display: inline-block}\n",
       ".list-inline>li:not(:last-child)::after {content: \"\\00b7\"; padding: 0 .5ex}\n",
       "</style>\n",
       "<ol class=list-inline><li>'P04_Br'</li><li>'P04_Sk_GA'</li><li>'P08_Br'</li><li>'P08_St_BA'</li><li>'P16_Br'</li><li>'P16_Lu'</li><li>'P42_Br_GA'</li><li>'P42_Ly_GA'</li><li>'P08_St_GA'</li><li>'P18_Br'</li><li>'P18_Lu_YA'</li><li>'P39_Br'</li><li>'P39_Lu'</li><li>'P03_Br'</li><li>'P03_Lu'</li><li>'P08_St_YA'</li><li>'P18_Lu_GA'</li><li>'P42_Ly_YA'</li></ol>\n"
      ],
      "text/latex": [
       "\\begin{enumerate*}\n",
       "\\item 'P04\\_Br'\n",
       "\\item 'P04\\_Sk\\_GA'\n",
       "\\item 'P08\\_Br'\n",
       "\\item 'P08\\_St\\_BA'\n",
       "\\item 'P16\\_Br'\n",
       "\\item 'P16\\_Lu'\n",
       "\\item 'P42\\_Br\\_GA'\n",
       "\\item 'P42\\_Ly\\_GA'\n",
       "\\item 'P08\\_St\\_GA'\n",
       "\\item 'P18\\_Br'\n",
       "\\item 'P18\\_Lu\\_YA'\n",
       "\\item 'P39\\_Br'\n",
       "\\item 'P39\\_Lu'\n",
       "\\item 'P03\\_Br'\n",
       "\\item 'P03\\_Lu'\n",
       "\\item 'P08\\_St\\_YA'\n",
       "\\item 'P18\\_Lu\\_GA'\n",
       "\\item 'P42\\_Ly\\_YA'\n",
       "\\end{enumerate*}\n"
      ],
      "text/markdown": [
       "1. 'P04_Br'\n",
       "2. 'P04_Sk_GA'\n",
       "3. 'P08_Br'\n",
       "4. 'P08_St_BA'\n",
       "5. 'P16_Br'\n",
       "6. 'P16_Lu'\n",
       "7. 'P42_Br_GA'\n",
       "8. 'P42_Ly_GA'\n",
       "9. 'P08_St_GA'\n",
       "10. 'P18_Br'\n",
       "11. 'P18_Lu_YA'\n",
       "12. 'P39_Br'\n",
       "13. 'P39_Lu'\n",
       "14. 'P03_Br'\n",
       "15. 'P03_Lu'\n",
       "16. 'P08_St_YA'\n",
       "17. 'P18_Lu_GA'\n",
       "18. 'P42_Ly_YA'\n",
       "\n",
       "\n"
      ],
      "text/plain": [
       " [1] \"P04_Br\"    \"P04_Sk_GA\" \"P08_Br\"    \"P08_St_BA\" \"P16_Br\"    \"P16_Lu\"   \n",
       " [7] \"P42_Br_GA\" \"P42_Ly_GA\" \"P08_St_GA\" \"P18_Br\"    \"P18_Lu_YA\" \"P39_Br\"   \n",
       "[13] \"P39_Lu\"    \"P03_Br\"    \"P03_Lu\"    \"P08_St_YA\" \"P18_Lu_GA\" \"P42_Ly_YA\""
      ]
     },
     "metadata": {},
     "output_type": "display_data"
    }
   ],
   "source": [
    "# for each samples -> which subgroup it belongs to \n",
    "subgroupPerSample = c(P04_Br = 'SG1', P04_Sk_GA = 'SG1', P08_Br = 'SG1 | SG2 | SG3', P08_St_BA = 'SG1', P16_Br = 'SG1', P16_Lu='SG1', \n",
    "  P42_Br_GA = 'SG1 | SG3', P42_Ly_GA = 'SG1', P08_St_GA = 'SG2', P18_Br = 'SG2 | SG3',\n",
    "  P18_Lu_YA = 'SG2', P39_Br = 'SG2', P39_Lu = 'SG2', P03_Br = 'SG3', P03_Lu = 'SG3', \n",
    "  P08_St_YA = 'SG3', P18_Lu_GA = 'SG3', P42_Ly_YA ='SG3')\n",
    "subgroupPerSample\n",
    "subgroupPerSampleNA = c(P04_Br = 'SG1', P04_Sk_GA = 'SG1', P08_Br = \"NA\", P08_St_BA = 'SG1', P16_Br = 'SG1', P16_Lu='SG1', \n",
    "  P42_Br_GA = \"NA\", P42_Ly_GA = 'SG1', P08_St_GA = 'SG2', P18_Br = \"NA\",\n",
    "  P18_Lu_YA = 'SG2', P39_Br = 'SG2', P39_Lu = 'SG2', P03_Br = 'SG3', P03_Lu = 'SG3', \n",
    "  P08_St_YA = 'SG3', P18_Lu_GA = 'SG3', P42_Ly_YA ='SG3')\n",
    "subgroupPerSampleNA\n",
    "melBrainSysSamples = names(subgroupPerSample)\n",
    "melBrainSysSamples"
   ]
  },
  {
   "cell_type": "markdown",
   "id": "64e013c5",
   "metadata": {},
   "source": [
    "### TCGA clinical info"
   ]
  },
  {
   "cell_type": "code",
   "execution_count": 6,
   "id": "658bc40c",
   "metadata": {},
   "outputs": [
    {
     "data": {
      "text/html": [
       "<table class=\"dataframe\">\n",
       "<caption>A data.frame: 3 × 112</caption>\n",
       "<thead>\n",
       "\t<tr><th></th><th scope=col>Name</th><th scope=col>ALL_SAMPLES</th><th scope=col>MUTATIONSUBTYPES</th><th scope=col>ALL_PRIMARY_VS_METASTATIC</th><th scope=col>REGIONAL_VS_PRIMARY</th><th scope=col>UV.signature</th><th scope=col>RNASEQ.CLUSTER_CONSENHIER</th><th scope=col>MethTypes.201408</th><th scope=col>MIRCluster</th><th scope=col>ProteinCluster</th><th scope=col>⋯</th><th scope=col>CURATED_DISTANT_ANATOMIC_SITE</th><th scope=col>CURATED_VITAL_STATUS</th><th scope=col>CURATED_DAYS_TO_DEATH_OR_LAST_FU</th><th scope=col>CURATED_TCGA_DAYS_TO_DEATH_OR_LAST_FU</th><th scope=col>CURATED_MELANOMA_SPECIFIC_VITAL_STATUS..0....ALIVE.OR.CENSORED...1....DEAD.OF.MELANOMA..</th><th scope=col>CURATED_TCGA_SPECIMEN_Distant</th><th scope=col>CC.TT.nTotal.Mut</th><th scope=col>DIPYRIM.C.T.nTotal.Mut</th><th scope=col>DIPYRIM.C.T.n.C.T..mut</th><th scope=col>SHATTERSEEK_Chromothripsis_calls</th></tr>\n",
       "\t<tr><th></th><th scope=col>&lt;chr&gt;</th><th scope=col>&lt;chr&gt;</th><th scope=col>&lt;chr&gt;</th><th scope=col>&lt;chr&gt;</th><th scope=col>&lt;chr&gt;</th><th scope=col>&lt;chr&gt;</th><th scope=col>&lt;chr&gt;</th><th scope=col>&lt;chr&gt;</th><th scope=col>&lt;chr&gt;</th><th scope=col>&lt;chr&gt;</th><th scope=col>⋯</th><th scope=col>&lt;chr&gt;</th><th scope=col>&lt;chr&gt;</th><th scope=col>&lt;chr&gt;</th><th scope=col>&lt;chr&gt;</th><th scope=col>&lt;chr&gt;</th><th scope=col>&lt;chr&gt;</th><th scope=col>&lt;chr&gt;</th><th scope=col>&lt;chr&gt;</th><th scope=col>&lt;chr&gt;</th><th scope=col>&lt;chr&gt;</th></tr>\n",
       "</thead>\n",
       "<tbody>\n",
       "\t<tr><th scope=row>1</th><td>TCGA-ER-A194-01</td><td>Yes</td><td>RAS_Hotspot_Mutants</td><td>All_Primaries </td><td>Primary_Disease    </td><td>UV signature</td><td>immune</td><td>hyper-methylated</td><td>MIR.type.2</td><td>PROT.type.3</td><td>⋯</td><td>[Not Available]</td><td>Dead </td><td>1354</td><td>1276</td><td>1</td><td>Primary Tumor      </td><td>0.047344111</td><td>0.846420323</td><td>0.98787062 </td><td>negative</td></tr>\n",
       "\t<tr><th scope=row>2</th><td>TCGA-EE-A2MR-06</td><td>Yes</td><td>Triple_WT          </td><td>All_Metastases</td><td>Regional_Lymph_Node</td><td>UV signature</td><td>immune</td><td>normal-like     </td><td>MIR.type.2</td><td>PROT.type.3</td><td>⋯</td><td>[Not Available]</td><td>Alive</td><td>3150</td><td>885 </td><td>0</td><td>Regional Lymph Node</td><td>0.032851115</td><td>0.891500904</td><td>0.998986829</td><td>n/a     </td></tr>\n",
       "\t<tr><th scope=row>3</th><td>TCGA-ER-A19N-06</td><td>Yes</td><td>RAS_Hotspot_Mutants</td><td>All_Metastases</td><td>Regional_Lymph_Node</td><td>UV signature</td><td>immune</td><td>normal-like     </td><td>MIR.type.3</td><td>PROT.type.3</td><td>⋯</td><td>[Not Available]</td><td>Alive</td><td>1340</td><td>1303</td><td>0</td><td>Regional Lymph Node</td><td>0.067741935</td><td>0.783870968</td><td>0.983805668</td><td>negative</td></tr>\n",
       "</tbody>\n",
       "</table>\n"
      ],
      "text/latex": [
       "A data.frame: 3 × 112\n",
       "\\begin{tabular}{r|lllllllllllllllllllll}\n",
       "  & Name & ALL\\_SAMPLES & MUTATIONSUBTYPES & ALL\\_PRIMARY\\_VS\\_METASTATIC & REGIONAL\\_VS\\_PRIMARY & UV.signature & RNASEQ.CLUSTER\\_CONSENHIER & MethTypes.201408 & MIRCluster & ProteinCluster & ⋯ & CURATED\\_DISTANT\\_ANATOMIC\\_SITE & CURATED\\_VITAL\\_STATUS & CURATED\\_DAYS\\_TO\\_DEATH\\_OR\\_LAST\\_FU & CURATED\\_TCGA\\_DAYS\\_TO\\_DEATH\\_OR\\_LAST\\_FU & CURATED\\_MELANOMA\\_SPECIFIC\\_VITAL\\_STATUS..0....ALIVE.OR.CENSORED...1....DEAD.OF.MELANOMA.. & CURATED\\_TCGA\\_SPECIMEN\\_Distant & CC.TT.nTotal.Mut & DIPYRIM.C.T.nTotal.Mut & DIPYRIM.C.T.n.C.T..mut & SHATTERSEEK\\_Chromothripsis\\_calls\\\\\n",
       "  & <chr> & <chr> & <chr> & <chr> & <chr> & <chr> & <chr> & <chr> & <chr> & <chr> & ⋯ & <chr> & <chr> & <chr> & <chr> & <chr> & <chr> & <chr> & <chr> & <chr> & <chr>\\\\\n",
       "\\hline\n",
       "\t1 & TCGA-ER-A194-01 & Yes & RAS\\_Hotspot\\_Mutants & All\\_Primaries  & Primary\\_Disease     & UV signature & immune & hyper-methylated & MIR.type.2 & PROT.type.3 & ⋯ & {[}Not Available{]} & Dead  & 1354 & 1276 & 1 & Primary Tumor       & 0.047344111 & 0.846420323 & 0.98787062  & negative\\\\\n",
       "\t2 & TCGA-EE-A2MR-06 & Yes & Triple\\_WT           & All\\_Metastases & Regional\\_Lymph\\_Node & UV signature & immune & normal-like      & MIR.type.2 & PROT.type.3 & ⋯ & {[}Not Available{]} & Alive & 3150 & 885  & 0 & Regional Lymph Node & 0.032851115 & 0.891500904 & 0.998986829 & n/a     \\\\\n",
       "\t3 & TCGA-ER-A19N-06 & Yes & RAS\\_Hotspot\\_Mutants & All\\_Metastases & Regional\\_Lymph\\_Node & UV signature & immune & normal-like      & MIR.type.3 & PROT.type.3 & ⋯ & {[}Not Available{]} & Alive & 1340 & 1303 & 0 & Regional Lymph Node & 0.067741935 & 0.783870968 & 0.983805668 & negative\\\\\n",
       "\\end{tabular}\n"
      ],
      "text/markdown": [
       "\n",
       "A data.frame: 3 × 112\n",
       "\n",
       "| <!--/--> | Name &lt;chr&gt; | ALL_SAMPLES &lt;chr&gt; | MUTATIONSUBTYPES &lt;chr&gt; | ALL_PRIMARY_VS_METASTATIC &lt;chr&gt; | REGIONAL_VS_PRIMARY &lt;chr&gt; | UV.signature &lt;chr&gt; | RNASEQ.CLUSTER_CONSENHIER &lt;chr&gt; | MethTypes.201408 &lt;chr&gt; | MIRCluster &lt;chr&gt; | ProteinCluster &lt;chr&gt; | ⋯ ⋯ | CURATED_DISTANT_ANATOMIC_SITE &lt;chr&gt; | CURATED_VITAL_STATUS &lt;chr&gt; | CURATED_DAYS_TO_DEATH_OR_LAST_FU &lt;chr&gt; | CURATED_TCGA_DAYS_TO_DEATH_OR_LAST_FU &lt;chr&gt; | CURATED_MELANOMA_SPECIFIC_VITAL_STATUS..0....ALIVE.OR.CENSORED...1....DEAD.OF.MELANOMA.. &lt;chr&gt; | CURATED_TCGA_SPECIMEN_Distant &lt;chr&gt; | CC.TT.nTotal.Mut &lt;chr&gt; | DIPYRIM.C.T.nTotal.Mut &lt;chr&gt; | DIPYRIM.C.T.n.C.T..mut &lt;chr&gt; | SHATTERSEEK_Chromothripsis_calls &lt;chr&gt; |\n",
       "|---|---|---|---|---|---|---|---|---|---|---|---|---|---|---|---|---|---|---|---|---|---|\n",
       "| 1 | TCGA-ER-A194-01 | Yes | RAS_Hotspot_Mutants | All_Primaries  | Primary_Disease     | UV signature | immune | hyper-methylated | MIR.type.2 | PROT.type.3 | ⋯ | [Not Available] | Dead  | 1354 | 1276 | 1 | Primary Tumor       | 0.047344111 | 0.846420323 | 0.98787062  | negative |\n",
       "| 2 | TCGA-EE-A2MR-06 | Yes | Triple_WT           | All_Metastases | Regional_Lymph_Node | UV signature | immune | normal-like      | MIR.type.2 | PROT.type.3 | ⋯ | [Not Available] | Alive | 3150 | 885  | 0 | Regional Lymph Node | 0.032851115 | 0.891500904 | 0.998986829 | n/a      |\n",
       "| 3 | TCGA-ER-A19N-06 | Yes | RAS_Hotspot_Mutants | All_Metastases | Regional_Lymph_Node | UV signature | immune | normal-like      | MIR.type.3 | PROT.type.3 | ⋯ | [Not Available] | Alive | 1340 | 1303 | 0 | Regional Lymph Node | 0.067741935 | 0.783870968 | 0.983805668 | negative |\n",
       "\n"
      ],
      "text/plain": [
       "  Name            ALL_SAMPLES MUTATIONSUBTYPES    ALL_PRIMARY_VS_METASTATIC\n",
       "1 TCGA-ER-A194-01 Yes         RAS_Hotspot_Mutants All_Primaries            \n",
       "2 TCGA-EE-A2MR-06 Yes         Triple_WT           All_Metastases           \n",
       "3 TCGA-ER-A19N-06 Yes         RAS_Hotspot_Mutants All_Metastases           \n",
       "  REGIONAL_VS_PRIMARY UV.signature RNASEQ.CLUSTER_CONSENHIER MethTypes.201408\n",
       "1 Primary_Disease     UV signature immune                    hyper-methylated\n",
       "2 Regional_Lymph_Node UV signature immune                    normal-like     \n",
       "3 Regional_Lymph_Node UV signature immune                    normal-like     \n",
       "  MIRCluster ProteinCluster ⋯ CURATED_DISTANT_ANATOMIC_SITE\n",
       "1 MIR.type.2 PROT.type.3    ⋯ [Not Available]              \n",
       "2 MIR.type.2 PROT.type.3    ⋯ [Not Available]              \n",
       "3 MIR.type.3 PROT.type.3    ⋯ [Not Available]              \n",
       "  CURATED_VITAL_STATUS CURATED_DAYS_TO_DEATH_OR_LAST_FU\n",
       "1 Dead                 1354                            \n",
       "2 Alive                3150                            \n",
       "3 Alive                1340                            \n",
       "  CURATED_TCGA_DAYS_TO_DEATH_OR_LAST_FU\n",
       "1 1276                                 \n",
       "2 885                                  \n",
       "3 1303                                 \n",
       "  CURATED_MELANOMA_SPECIFIC_VITAL_STATUS..0....ALIVE.OR.CENSORED...1....DEAD.OF.MELANOMA..\n",
       "1 1                                                                                       \n",
       "2 0                                                                                       \n",
       "3 0                                                                                       \n",
       "  CURATED_TCGA_SPECIMEN_Distant CC.TT.nTotal.Mut DIPYRIM.C.T.nTotal.Mut\n",
       "1 Primary Tumor                 0.047344111      0.846420323           \n",
       "2 Regional Lymph Node           0.032851115      0.891500904           \n",
       "3 Regional Lymph Node           0.067741935      0.783870968           \n",
       "  DIPYRIM.C.T.n.C.T..mut SHATTERSEEK_Chromothripsis_calls\n",
       "1 0.98787062             negative                        \n",
       "2 0.998986829            n/a                             \n",
       "3 0.983805668            negative                        "
      ]
     },
     "metadata": {},
     "output_type": "display_data"
    }
   ],
   "source": [
    "TCGAinfo = read.xlsx(file = \"annotation/NIHMS698912-supplement-3.xlsx\", \n",
    "                     sheetName = \"Supplemental Table S1D\" , startRow = 2, as.data.frame = T, stringsAsFactors=F)\n",
    "head(TCGAinfo,3)"
   ]
  },
  {
   "cell_type": "markdown",
   "id": "6ea7376f",
   "metadata": {},
   "source": [
    "### MelBrainSys + TCGA sample expression"
   ]
  },
  {
   "cell_type": "code",
   "execution_count": 7,
   "id": "77700ebf",
   "metadata": {},
   "outputs": [
    {
     "data": {
      "text/html": [
       "<table class=\"dataframe\">\n",
       "<caption>A data.frame: 3 × 31</caption>\n",
       "<thead>\n",
       "\t<tr><th></th><th scope=col>geneSymbol</th><th scope=col>chr</th><th scope=col>pos</th><th scope=col>P16_Br</th><th scope=col>P16_Lu</th><th scope=col>P17_Ly_YA</th><th scope=col>P17_Ly_GA</th><th scope=col>P18_Br</th><th scope=col>P18_Lu_YA</th><th scope=col>P18_Lu_GA</th><th scope=col>⋯</th><th scope=col>P06_Br_YA</th><th scope=col>P06_Br_GA</th><th scope=col>P06_Ly</th><th scope=col>P64_Lu</th><th scope=col>P67_Br_BA</th><th scope=col>P67_Br_GA</th><th scope=col>P08_Br</th><th scope=col>P08_St_GA</th><th scope=col>P08_St_BA</th><th scope=col>P08_St_YA</th></tr>\n",
       "\t<tr><th></th><th scope=col>&lt;chr&gt;</th><th scope=col>&lt;chr&gt;</th><th scope=col>&lt;int&gt;</th><th scope=col>&lt;dbl&gt;</th><th scope=col>&lt;dbl&gt;</th><th scope=col>&lt;dbl&gt;</th><th scope=col>&lt;dbl&gt;</th><th scope=col>&lt;dbl&gt;</th><th scope=col>&lt;dbl&gt;</th><th scope=col>&lt;dbl&gt;</th><th scope=col>⋯</th><th scope=col>&lt;dbl&gt;</th><th scope=col>&lt;dbl&gt;</th><th scope=col>&lt;dbl&gt;</th><th scope=col>&lt;dbl&gt;</th><th scope=col>&lt;dbl&gt;</th><th scope=col>&lt;dbl&gt;</th><th scope=col>&lt;dbl&gt;</th><th scope=col>&lt;dbl&gt;</th><th scope=col>&lt;dbl&gt;</th><th scope=col>&lt;dbl&gt;</th></tr>\n",
       "</thead>\n",
       "<tbody>\n",
       "\t<tr><th scope=row>1</th><td>NOC2L </td><td>chr1</td><td>887127</td><td> 5.8322955</td><td> 6.037453</td><td> 6.303197</td><td>6.7279647</td><td>6.335936</td><td>6.7659108</td><td>6.865148</td><td>⋯</td><td> 6.923254</td><td> 6.642663</td><td>6.6936242</td><td> 6.2764296</td><td> 6.729276</td><td>6.579624</td><td>7.265025</td><td>7.3369872</td><td> 7.2165933</td><td>7.135830</td></tr>\n",
       "\t<tr><th scope=row>2</th><td>KLHL17</td><td>chr1</td><td>898531</td><td>-0.5621772</td><td> 1.468977</td><td> 1.713494</td><td>2.3754134</td><td>1.321752</td><td>3.1430347</td><td>2.167239</td><td>⋯</td><td> 2.422577</td><td> 2.254659</td><td>2.6668530</td><td> 1.0399100</td><td> 2.383997</td><td>3.006990</td><td>2.923033</td><td>3.5478819</td><td> 2.7090631</td><td>2.852682</td></tr>\n",
       "\t<tr><th scope=row>3</th><td>HES4  </td><td>chr1</td><td>934947</td><td>-0.6395067</td><td>-4.283633</td><td>-1.501055</td><td>0.9912391</td><td>1.398305</td><td>0.1379307</td><td>1.940562</td><td>⋯</td><td>-1.113011</td><td>-1.175142</td><td>0.0334023</td><td>-0.9092056</td><td>-2.308214</td><td>2.237329</td><td>2.026139</td><td>0.5083688</td><td>-0.6707293</td><td>1.881657</td></tr>\n",
       "</tbody>\n",
       "</table>\n"
      ],
      "text/latex": [
       "A data.frame: 3 × 31\n",
       "\\begin{tabular}{r|lllllllllllllllllllll}\n",
       "  & geneSymbol & chr & pos & P16\\_Br & P16\\_Lu & P17\\_Ly\\_YA & P17\\_Ly\\_GA & P18\\_Br & P18\\_Lu\\_YA & P18\\_Lu\\_GA & ⋯ & P06\\_Br\\_YA & P06\\_Br\\_GA & P06\\_Ly & P64\\_Lu & P67\\_Br\\_BA & P67\\_Br\\_GA & P08\\_Br & P08\\_St\\_GA & P08\\_St\\_BA & P08\\_St\\_YA\\\\\n",
       "  & <chr> & <chr> & <int> & <dbl> & <dbl> & <dbl> & <dbl> & <dbl> & <dbl> & <dbl> & ⋯ & <dbl> & <dbl> & <dbl> & <dbl> & <dbl> & <dbl> & <dbl> & <dbl> & <dbl> & <dbl>\\\\\n",
       "\\hline\n",
       "\t1 & NOC2L  & chr1 & 887127 &  5.8322955 &  6.037453 &  6.303197 & 6.7279647 & 6.335936 & 6.7659108 & 6.865148 & ⋯ &  6.923254 &  6.642663 & 6.6936242 &  6.2764296 &  6.729276 & 6.579624 & 7.265025 & 7.3369872 &  7.2165933 & 7.135830\\\\\n",
       "\t2 & KLHL17 & chr1 & 898531 & -0.5621772 &  1.468977 &  1.713494 & 2.3754134 & 1.321752 & 3.1430347 & 2.167239 & ⋯ &  2.422577 &  2.254659 & 2.6668530 &  1.0399100 &  2.383997 & 3.006990 & 2.923033 & 3.5478819 &  2.7090631 & 2.852682\\\\\n",
       "\t3 & HES4   & chr1 & 934947 & -0.6395067 & -4.283633 & -1.501055 & 0.9912391 & 1.398305 & 0.1379307 & 1.940562 & ⋯ & -1.113011 & -1.175142 & 0.0334023 & -0.9092056 & -2.308214 & 2.237329 & 2.026139 & 0.5083688 & -0.6707293 & 1.881657\\\\\n",
       "\\end{tabular}\n"
      ],
      "text/markdown": [
       "\n",
       "A data.frame: 3 × 31\n",
       "\n",
       "| <!--/--> | geneSymbol &lt;chr&gt; | chr &lt;chr&gt; | pos &lt;int&gt; | P16_Br &lt;dbl&gt; | P16_Lu &lt;dbl&gt; | P17_Ly_YA &lt;dbl&gt; | P17_Ly_GA &lt;dbl&gt; | P18_Br &lt;dbl&gt; | P18_Lu_YA &lt;dbl&gt; | P18_Lu_GA &lt;dbl&gt; | ⋯ ⋯ | P06_Br_YA &lt;dbl&gt; | P06_Br_GA &lt;dbl&gt; | P06_Ly &lt;dbl&gt; | P64_Lu &lt;dbl&gt; | P67_Br_BA &lt;dbl&gt; | P67_Br_GA &lt;dbl&gt; | P08_Br &lt;dbl&gt; | P08_St_GA &lt;dbl&gt; | P08_St_BA &lt;dbl&gt; | P08_St_YA &lt;dbl&gt; |\n",
       "|---|---|---|---|---|---|---|---|---|---|---|---|---|---|---|---|---|---|---|---|---|---|\n",
       "| 1 | NOC2L  | chr1 | 887127 |  5.8322955 |  6.037453 |  6.303197 | 6.7279647 | 6.335936 | 6.7659108 | 6.865148 | ⋯ |  6.923254 |  6.642663 | 6.6936242 |  6.2764296 |  6.729276 | 6.579624 | 7.265025 | 7.3369872 |  7.2165933 | 7.135830 |\n",
       "| 2 | KLHL17 | chr1 | 898531 | -0.5621772 |  1.468977 |  1.713494 | 2.3754134 | 1.321752 | 3.1430347 | 2.167239 | ⋯ |  2.422577 |  2.254659 | 2.6668530 |  1.0399100 |  2.383997 | 3.006990 | 2.923033 | 3.5478819 |  2.7090631 | 2.852682 |\n",
       "| 3 | HES4   | chr1 | 934947 | -0.6395067 | -4.283633 | -1.501055 | 0.9912391 | 1.398305 | 0.1379307 | 1.940562 | ⋯ | -1.113011 | -1.175142 | 0.0334023 | -0.9092056 | -2.308214 | 2.237329 | 2.026139 | 0.5083688 | -0.6707293 | 1.881657 |\n",
       "\n"
      ],
      "text/plain": [
       "  geneSymbol chr  pos    P16_Br     P16_Lu    P17_Ly_YA P17_Ly_GA P18_Br  \n",
       "1 NOC2L      chr1 887127  5.8322955  6.037453  6.303197 6.7279647 6.335936\n",
       "2 KLHL17     chr1 898531 -0.5621772  1.468977  1.713494 2.3754134 1.321752\n",
       "3 HES4       chr1 934947 -0.6395067 -4.283633 -1.501055 0.9912391 1.398305\n",
       "  P18_Lu_YA P18_Lu_GA ⋯ P06_Br_YA P06_Br_GA P06_Ly    P64_Lu     P67_Br_BA\n",
       "1 6.7659108 6.865148  ⋯  6.923254  6.642663 6.6936242  6.2764296  6.729276\n",
       "2 3.1430347 2.167239  ⋯  2.422577  2.254659 2.6668530  1.0399100  2.383997\n",
       "3 0.1379307 1.940562  ⋯ -1.113011 -1.175142 0.0334023 -0.9092056 -2.308214\n",
       "  P67_Br_GA P08_Br   P08_St_GA P08_St_BA  P08_St_YA\n",
       "1 6.579624  7.265025 7.3369872  7.2165933 7.135830 \n",
       "2 3.006990  2.923033 3.5478819  2.7090631 2.852682 \n",
       "3 2.237329  2.026139 0.5083688 -0.6707293 1.881657 "
      ]
     },
     "metadata": {},
     "output_type": "display_data"
    },
    {
     "data": {
      "text/html": [
       "<table class=\"dataframe\">\n",
       "<caption>A data.frame: 3 × 18</caption>\n",
       "<thead>\n",
       "\t<tr><th></th><th scope=col>P04_Br</th><th scope=col>P04_Sk_GA</th><th scope=col>P08_Br</th><th scope=col>P08_St_BA</th><th scope=col>P16_Br</th><th scope=col>P16_Lu</th><th scope=col>P42_Br_GA</th><th scope=col>P42_Ly_GA</th><th scope=col>P08_St_GA</th><th scope=col>P18_Br</th><th scope=col>P18_Lu_YA</th><th scope=col>P39_Br</th><th scope=col>P39_Lu</th><th scope=col>P03_Br</th><th scope=col>P03_Lu</th><th scope=col>P08_St_YA</th><th scope=col>P18_Lu_GA</th><th scope=col>P42_Ly_YA</th></tr>\n",
       "\t<tr><th></th><th scope=col>&lt;dbl&gt;</th><th scope=col>&lt;dbl&gt;</th><th scope=col>&lt;dbl&gt;</th><th scope=col>&lt;dbl&gt;</th><th scope=col>&lt;dbl&gt;</th><th scope=col>&lt;dbl&gt;</th><th scope=col>&lt;dbl&gt;</th><th scope=col>&lt;dbl&gt;</th><th scope=col>&lt;dbl&gt;</th><th scope=col>&lt;dbl&gt;</th><th scope=col>&lt;dbl&gt;</th><th scope=col>&lt;dbl&gt;</th><th scope=col>&lt;dbl&gt;</th><th scope=col>&lt;dbl&gt;</th><th scope=col>&lt;dbl&gt;</th><th scope=col>&lt;dbl&gt;</th><th scope=col>&lt;dbl&gt;</th><th scope=col>&lt;dbl&gt;</th></tr>\n",
       "</thead>\n",
       "<tbody>\n",
       "\t<tr><th scope=row>1</th><td> 7.2305103</td><td>7.38327304</td><td>7.265025</td><td> 7.2165933</td><td> 5.8322955</td><td> 6.037453</td><td>6.8176631</td><td> 6.6803685</td><td>7.3369872</td><td>6.335936</td><td>6.7659108</td><td> 7.0824940</td><td>7.0615024</td><td> 6.270591</td><td> 6.422676</td><td>7.135830</td><td>6.865148</td><td>6.060505</td></tr>\n",
       "\t<tr><th scope=row>2</th><td> 2.6105013</td><td>3.05571510</td><td>2.923033</td><td> 2.7090631</td><td>-0.5621772</td><td> 1.468977</td><td>2.9757518</td><td> 3.6794055</td><td>3.5478819</td><td>1.321752</td><td>3.1430347</td><td> 1.2910222</td><td>1.8072757</td><td> 2.014892</td><td> 2.478935</td><td>2.852682</td><td>2.167239</td><td>2.354218</td></tr>\n",
       "\t<tr><th scope=row>3</th><td>-0.2636839</td><td>0.01585192</td><td>2.026139</td><td>-0.6707293</td><td>-0.6395067</td><td>-4.283633</td><td>0.7942271</td><td>-0.2713107</td><td>0.5083688</td><td>1.398305</td><td>0.1379307</td><td>-0.3141385</td><td>0.7767652</td><td>-1.604842</td><td>-2.830589</td><td>1.881657</td><td>1.940562</td><td>2.432413</td></tr>\n",
       "</tbody>\n",
       "</table>\n"
      ],
      "text/latex": [
       "A data.frame: 3 × 18\n",
       "\\begin{tabular}{r|llllllllllllllllll}\n",
       "  & P04\\_Br & P04\\_Sk\\_GA & P08\\_Br & P08\\_St\\_BA & P16\\_Br & P16\\_Lu & P42\\_Br\\_GA & P42\\_Ly\\_GA & P08\\_St\\_GA & P18\\_Br & P18\\_Lu\\_YA & P39\\_Br & P39\\_Lu & P03\\_Br & P03\\_Lu & P08\\_St\\_YA & P18\\_Lu\\_GA & P42\\_Ly\\_YA\\\\\n",
       "  & <dbl> & <dbl> & <dbl> & <dbl> & <dbl> & <dbl> & <dbl> & <dbl> & <dbl> & <dbl> & <dbl> & <dbl> & <dbl> & <dbl> & <dbl> & <dbl> & <dbl> & <dbl>\\\\\n",
       "\\hline\n",
       "\t1 &  7.2305103 & 7.38327304 & 7.265025 &  7.2165933 &  5.8322955 &  6.037453 & 6.8176631 &  6.6803685 & 7.3369872 & 6.335936 & 6.7659108 &  7.0824940 & 7.0615024 &  6.270591 &  6.422676 & 7.135830 & 6.865148 & 6.060505\\\\\n",
       "\t2 &  2.6105013 & 3.05571510 & 2.923033 &  2.7090631 & -0.5621772 &  1.468977 & 2.9757518 &  3.6794055 & 3.5478819 & 1.321752 & 3.1430347 &  1.2910222 & 1.8072757 &  2.014892 &  2.478935 & 2.852682 & 2.167239 & 2.354218\\\\\n",
       "\t3 & -0.2636839 & 0.01585192 & 2.026139 & -0.6707293 & -0.6395067 & -4.283633 & 0.7942271 & -0.2713107 & 0.5083688 & 1.398305 & 0.1379307 & -0.3141385 & 0.7767652 & -1.604842 & -2.830589 & 1.881657 & 1.940562 & 2.432413\\\\\n",
       "\\end{tabular}\n"
      ],
      "text/markdown": [
       "\n",
       "A data.frame: 3 × 18\n",
       "\n",
       "| <!--/--> | P04_Br &lt;dbl&gt; | P04_Sk_GA &lt;dbl&gt; | P08_Br &lt;dbl&gt; | P08_St_BA &lt;dbl&gt; | P16_Br &lt;dbl&gt; | P16_Lu &lt;dbl&gt; | P42_Br_GA &lt;dbl&gt; | P42_Ly_GA &lt;dbl&gt; | P08_St_GA &lt;dbl&gt; | P18_Br &lt;dbl&gt; | P18_Lu_YA &lt;dbl&gt; | P39_Br &lt;dbl&gt; | P39_Lu &lt;dbl&gt; | P03_Br &lt;dbl&gt; | P03_Lu &lt;dbl&gt; | P08_St_YA &lt;dbl&gt; | P18_Lu_GA &lt;dbl&gt; | P42_Ly_YA &lt;dbl&gt; |\n",
       "|---|---|---|---|---|---|---|---|---|---|---|---|---|---|---|---|---|---|---|\n",
       "| 1 |  7.2305103 | 7.38327304 | 7.265025 |  7.2165933 |  5.8322955 |  6.037453 | 6.8176631 |  6.6803685 | 7.3369872 | 6.335936 | 6.7659108 |  7.0824940 | 7.0615024 |  6.270591 |  6.422676 | 7.135830 | 6.865148 | 6.060505 |\n",
       "| 2 |  2.6105013 | 3.05571510 | 2.923033 |  2.7090631 | -0.5621772 |  1.468977 | 2.9757518 |  3.6794055 | 3.5478819 | 1.321752 | 3.1430347 |  1.2910222 | 1.8072757 |  2.014892 |  2.478935 | 2.852682 | 2.167239 | 2.354218 |\n",
       "| 3 | -0.2636839 | 0.01585192 | 2.026139 | -0.6707293 | -0.6395067 | -4.283633 | 0.7942271 | -0.2713107 | 0.5083688 | 1.398305 | 0.1379307 | -0.3141385 | 0.7767652 | -1.604842 | -2.830589 | 1.881657 | 1.940562 | 2.432413 |\n",
       "\n"
      ],
      "text/plain": [
       "  P04_Br     P04_Sk_GA  P08_Br   P08_St_BA  P16_Br     P16_Lu    P42_Br_GA\n",
       "1  7.2305103 7.38327304 7.265025  7.2165933  5.8322955  6.037453 6.8176631\n",
       "2  2.6105013 3.05571510 2.923033  2.7090631 -0.5621772  1.468977 2.9757518\n",
       "3 -0.2636839 0.01585192 2.026139 -0.6707293 -0.6395067 -4.283633 0.7942271\n",
       "  P42_Ly_GA  P08_St_GA P18_Br   P18_Lu_YA P39_Br     P39_Lu    P03_Br   \n",
       "1  6.6803685 7.3369872 6.335936 6.7659108  7.0824940 7.0615024  6.270591\n",
       "2  3.6794055 3.5478819 1.321752 3.1430347  1.2910222 1.8072757  2.014892\n",
       "3 -0.2713107 0.5083688 1.398305 0.1379307 -0.3141385 0.7767652 -1.604842\n",
       "  P03_Lu    P08_St_YA P18_Lu_GA P42_Ly_YA\n",
       "1  6.422676 7.135830  6.865148  6.060505 \n",
       "2  2.478935 2.852682  2.167239  2.354218 \n",
       "3 -2.830589 1.881657  1.940562  2.432413 "
      ]
     },
     "metadata": {},
     "output_type": "display_data"
    },
    {
     "data": {
      "text/html": [
       "8251"
      ],
      "text/latex": [
       "8251"
      ],
      "text/markdown": [
       "8251"
      ],
      "text/plain": [
       "[1] 8251"
      ]
     },
     "metadata": {},
     "output_type": "display_data"
    }
   ],
   "source": [
    "melBrainSysExpr = read.csv(file = \"data/MelBrainSys-expression.csv\", header = T,sep = \"\\t\", stringsAsFactors = F)\n",
    "head(melBrainSysExpr,3)\n",
    "melBrainSysExpr = melBrainSysExpr[ ,melBrainSysSamples ]\n",
    "head(melBrainSysExpr,3)\n",
    "nrow(melBrainSysExpr)"
   ]
  },
  {
   "cell_type": "code",
   "execution_count": 8,
   "id": "d1f542b9",
   "metadata": {},
   "outputs": [
    {
     "data": {
      "text/html": [
       "<table class=\"dataframe\">\n",
       "<caption>A data.frame: 3 × 273</caption>\n",
       "<thead>\n",
       "\t<tr><th></th><th scope=col>geneSymbol</th><th scope=col>chr</th><th scope=col>pos</th><th scope=col>TCGA.BF.A1PU.01</th><th scope=col>TCGA.BF.A1PV.01</th><th scope=col>TCGA.BF.A1PX.01</th><th scope=col>TCGA.BF.A1PZ.01</th><th scope=col>TCGA.BF.A3DJ.01</th><th scope=col>TCGA.BF.A3DM.01</th><th scope=col>TCGA.BF.A3DN.01</th><th scope=col>⋯</th><th scope=col>TCGA.GF.A2C7.01</th><th scope=col>TCGA.GF.A3OT.06</th><th scope=col>TCGA.GN.A262.06</th><th scope=col>TCGA.GN.A263.01</th><th scope=col>TCGA.GN.A265.06</th><th scope=col>TCGA.GN.A267.06</th><th scope=col>TCGA.GN.A268.06</th><th scope=col>TCGA.GN.A26A.06</th><th scope=col>TCGA.GN.A26D.06</th><th scope=col>TCGA.HR.A5NC.01</th></tr>\n",
       "\t<tr><th></th><th scope=col>&lt;chr&gt;</th><th scope=col>&lt;chr&gt;</th><th scope=col>&lt;int&gt;</th><th scope=col>&lt;dbl&gt;</th><th scope=col>&lt;dbl&gt;</th><th scope=col>&lt;dbl&gt;</th><th scope=col>&lt;dbl&gt;</th><th scope=col>&lt;dbl&gt;</th><th scope=col>&lt;dbl&gt;</th><th scope=col>&lt;dbl&gt;</th><th scope=col>⋯</th><th scope=col>&lt;dbl&gt;</th><th scope=col>&lt;dbl&gt;</th><th scope=col>&lt;dbl&gt;</th><th scope=col>&lt;dbl&gt;</th><th scope=col>&lt;dbl&gt;</th><th scope=col>&lt;dbl&gt;</th><th scope=col>&lt;dbl&gt;</th><th scope=col>&lt;dbl&gt;</th><th scope=col>&lt;dbl&gt;</th><th scope=col>&lt;dbl&gt;</th></tr>\n",
       "</thead>\n",
       "<tbody>\n",
       "\t<tr><th scope=row>1</th><td>NOC2L </td><td>chr1</td><td>887127</td><td>6.702927</td><td>7.506216</td><td>7.3536418</td><td>7.5527593</td><td> 6.7940935</td><td>7.8001608</td><td> 6.438719</td><td>⋯</td><td> 6.320593</td><td>7.774894</td><td>7.869414</td><td> 5.85987063</td><td>8.0767768</td><td>7.698355</td><td>7.609606</td><td> 8.2928188</td><td> 6.689367</td><td> 6.129037</td></tr>\n",
       "\t<tr><th scope=row>2</th><td>KLHL17</td><td>chr1</td><td>898531</td><td>2.524458</td><td>3.581854</td><td>1.8863971</td><td>3.3867555</td><td> 2.5493458</td><td>2.4142473</td><td> 1.246689</td><td>⋯</td><td> 2.304777</td><td>4.523496</td><td>3.997421</td><td> 0.04818819</td><td>3.2792568</td><td>3.688836</td><td>4.444516</td><td> 3.1149303</td><td> 1.624958</td><td> 2.909801</td></tr>\n",
       "\t<tr><th scope=row>3</th><td>HES4  </td><td>chr1</td><td>934947</td><td>1.030696</td><td>3.166422</td><td>0.3773996</td><td>0.9425393</td><td>-0.9829983</td><td>0.9366146</td><td>-2.111562</td><td>⋯</td><td>-1.218591</td><td>2.376759</td><td>1.699015</td><td>-0.06880224</td><td>0.1592957</td><td>2.768496</td><td>1.789248</td><td>-0.4265386</td><td>-1.908413</td><td>-2.078192</td></tr>\n",
       "</tbody>\n",
       "</table>\n"
      ],
      "text/latex": [
       "A data.frame: 3 × 273\n",
       "\\begin{tabular}{r|lllllllllllllllllllll}\n",
       "  & geneSymbol & chr & pos & TCGA.BF.A1PU.01 & TCGA.BF.A1PV.01 & TCGA.BF.A1PX.01 & TCGA.BF.A1PZ.01 & TCGA.BF.A3DJ.01 & TCGA.BF.A3DM.01 & TCGA.BF.A3DN.01 & ⋯ & TCGA.GF.A2C7.01 & TCGA.GF.A3OT.06 & TCGA.GN.A262.06 & TCGA.GN.A263.01 & TCGA.GN.A265.06 & TCGA.GN.A267.06 & TCGA.GN.A268.06 & TCGA.GN.A26A.06 & TCGA.GN.A26D.06 & TCGA.HR.A5NC.01\\\\\n",
       "  & <chr> & <chr> & <int> & <dbl> & <dbl> & <dbl> & <dbl> & <dbl> & <dbl> & <dbl> & ⋯ & <dbl> & <dbl> & <dbl> & <dbl> & <dbl> & <dbl> & <dbl> & <dbl> & <dbl> & <dbl>\\\\\n",
       "\\hline\n",
       "\t1 & NOC2L  & chr1 & 887127 & 6.702927 & 7.506216 & 7.3536418 & 7.5527593 &  6.7940935 & 7.8001608 &  6.438719 & ⋯ &  6.320593 & 7.774894 & 7.869414 &  5.85987063 & 8.0767768 & 7.698355 & 7.609606 &  8.2928188 &  6.689367 &  6.129037\\\\\n",
       "\t2 & KLHL17 & chr1 & 898531 & 2.524458 & 3.581854 & 1.8863971 & 3.3867555 &  2.5493458 & 2.4142473 &  1.246689 & ⋯ &  2.304777 & 4.523496 & 3.997421 &  0.04818819 & 3.2792568 & 3.688836 & 4.444516 &  3.1149303 &  1.624958 &  2.909801\\\\\n",
       "\t3 & HES4   & chr1 & 934947 & 1.030696 & 3.166422 & 0.3773996 & 0.9425393 & -0.9829983 & 0.9366146 & -2.111562 & ⋯ & -1.218591 & 2.376759 & 1.699015 & -0.06880224 & 0.1592957 & 2.768496 & 1.789248 & -0.4265386 & -1.908413 & -2.078192\\\\\n",
       "\\end{tabular}\n"
      ],
      "text/markdown": [
       "\n",
       "A data.frame: 3 × 273\n",
       "\n",
       "| <!--/--> | geneSymbol &lt;chr&gt; | chr &lt;chr&gt; | pos &lt;int&gt; | TCGA.BF.A1PU.01 &lt;dbl&gt; | TCGA.BF.A1PV.01 &lt;dbl&gt; | TCGA.BF.A1PX.01 &lt;dbl&gt; | TCGA.BF.A1PZ.01 &lt;dbl&gt; | TCGA.BF.A3DJ.01 &lt;dbl&gt; | TCGA.BF.A3DM.01 &lt;dbl&gt; | TCGA.BF.A3DN.01 &lt;dbl&gt; | ⋯ ⋯ | TCGA.GF.A2C7.01 &lt;dbl&gt; | TCGA.GF.A3OT.06 &lt;dbl&gt; | TCGA.GN.A262.06 &lt;dbl&gt; | TCGA.GN.A263.01 &lt;dbl&gt; | TCGA.GN.A265.06 &lt;dbl&gt; | TCGA.GN.A267.06 &lt;dbl&gt; | TCGA.GN.A268.06 &lt;dbl&gt; | TCGA.GN.A26A.06 &lt;dbl&gt; | TCGA.GN.A26D.06 &lt;dbl&gt; | TCGA.HR.A5NC.01 &lt;dbl&gt; |\n",
       "|---|---|---|---|---|---|---|---|---|---|---|---|---|---|---|---|---|---|---|---|---|---|\n",
       "| 1 | NOC2L  | chr1 | 887127 | 6.702927 | 7.506216 | 7.3536418 | 7.5527593 |  6.7940935 | 7.8001608 |  6.438719 | ⋯ |  6.320593 | 7.774894 | 7.869414 |  5.85987063 | 8.0767768 | 7.698355 | 7.609606 |  8.2928188 |  6.689367 |  6.129037 |\n",
       "| 2 | KLHL17 | chr1 | 898531 | 2.524458 | 3.581854 | 1.8863971 | 3.3867555 |  2.5493458 | 2.4142473 |  1.246689 | ⋯ |  2.304777 | 4.523496 | 3.997421 |  0.04818819 | 3.2792568 | 3.688836 | 4.444516 |  3.1149303 |  1.624958 |  2.909801 |\n",
       "| 3 | HES4   | chr1 | 934947 | 1.030696 | 3.166422 | 0.3773996 | 0.9425393 | -0.9829983 | 0.9366146 | -2.111562 | ⋯ | -1.218591 | 2.376759 | 1.699015 | -0.06880224 | 0.1592957 | 2.768496 | 1.789248 | -0.4265386 | -1.908413 | -2.078192 |\n",
       "\n"
      ],
      "text/plain": [
       "  geneSymbol chr  pos    TCGA.BF.A1PU.01 TCGA.BF.A1PV.01 TCGA.BF.A1PX.01\n",
       "1 NOC2L      chr1 887127 6.702927        7.506216        7.3536418      \n",
       "2 KLHL17     chr1 898531 2.524458        3.581854        1.8863971      \n",
       "3 HES4       chr1 934947 1.030696        3.166422        0.3773996      \n",
       "  TCGA.BF.A1PZ.01 TCGA.BF.A3DJ.01 TCGA.BF.A3DM.01 TCGA.BF.A3DN.01 ⋯\n",
       "1 7.5527593        6.7940935      7.8001608        6.438719       ⋯\n",
       "2 3.3867555        2.5493458      2.4142473        1.246689       ⋯\n",
       "3 0.9425393       -0.9829983      0.9366146       -2.111562       ⋯\n",
       "  TCGA.GF.A2C7.01 TCGA.GF.A3OT.06 TCGA.GN.A262.06 TCGA.GN.A263.01\n",
       "1  6.320593       7.774894        7.869414         5.85987063    \n",
       "2  2.304777       4.523496        3.997421         0.04818819    \n",
       "3 -1.218591       2.376759        1.699015        -0.06880224    \n",
       "  TCGA.GN.A265.06 TCGA.GN.A267.06 TCGA.GN.A268.06 TCGA.GN.A26A.06\n",
       "1 8.0767768       7.698355        7.609606         8.2928188     \n",
       "2 3.2792568       3.688836        4.444516         3.1149303     \n",
       "3 0.1592957       2.768496        1.789248        -0.4265386     \n",
       "  TCGA.GN.A26D.06 TCGA.HR.A5NC.01\n",
       "1  6.689367        6.129037      \n",
       "2  1.624958        2.909801      \n",
       "3 -1.908413       -2.078192      "
      ]
     },
     "metadata": {},
     "output_type": "display_data"
    }
   ],
   "source": [
    "tcgaExpr = read.csv(file = \"data/TCGA-expression.csv\", header = T,sep = \"\\t\", stringsAsFactors = F)\n",
    "head(tcgaExpr,3)\n",
    "colnames(tcgaExpr) = gsub(\"\\\\.\",\"\\\\-\",colnames(tcgaExpr))"
   ]
  },
  {
   "cell_type": "markdown",
   "id": "8f08f34e",
   "metadata": {},
   "source": [
    "### assignment of MelBrainSys and TCGA samples by expression"
   ]
  },
  {
   "cell_type": "code",
   "execution_count": 9,
   "id": "2cb72a36",
   "metadata": {},
   "outputs": [
    {
     "data": {
      "text/html": [
       "<table class=\"dataframe\">\n",
       "<caption>A matrix: 2 × 18 of type lgl</caption>\n",
       "<thead>\n",
       "\t<tr><th></th><th scope=col>P04_Br</th><th scope=col>P04_Sk_GA</th><th scope=col>P08_Br</th><th scope=col>P08_St_BA</th><th scope=col>P16_Br</th><th scope=col>P16_Lu</th><th scope=col>P42_Br_GA</th><th scope=col>P42_Ly_GA</th><th scope=col>P08_St_GA</th><th scope=col>P18_Br</th><th scope=col>P18_Lu_YA</th><th scope=col>P39_Br</th><th scope=col>P39_Lu</th><th scope=col>P03_Br</th><th scope=col>P03_Lu</th><th scope=col>P08_St_YA</th><th scope=col>P18_Lu_GA</th><th scope=col>P42_Ly_YA</th></tr>\n",
       "</thead>\n",
       "<tbody>\n",
       "\t<tr><th scope=row>TCGA-BF-A1PU-01</th><td>NA</td><td>NA</td><td>NA</td><td>NA</td><td>NA</td><td>NA</td><td>NA</td><td>NA</td><td>NA</td><td>NA</td><td>NA</td><td>NA</td><td>NA</td><td>NA</td><td>NA</td><td>NA</td><td>NA</td><td>NA</td></tr>\n",
       "\t<tr><th scope=row>TCGA-BF-A1PV-01</th><td>NA</td><td>NA</td><td>NA</td><td>NA</td><td>NA</td><td>NA</td><td>NA</td><td>NA</td><td>NA</td><td>NA</td><td>NA</td><td>NA</td><td>NA</td><td>NA</td><td>NA</td><td>NA</td><td>NA</td><td>NA</td></tr>\n",
       "</tbody>\n",
       "</table>\n"
      ],
      "text/latex": [
       "A matrix: 2 × 18 of type lgl\n",
       "\\begin{tabular}{r|llllllllllllllllll}\n",
       "  & P04\\_Br & P04\\_Sk\\_GA & P08\\_Br & P08\\_St\\_BA & P16\\_Br & P16\\_Lu & P42\\_Br\\_GA & P42\\_Ly\\_GA & P08\\_St\\_GA & P18\\_Br & P18\\_Lu\\_YA & P39\\_Br & P39\\_Lu & P03\\_Br & P03\\_Lu & P08\\_St\\_YA & P18\\_Lu\\_GA & P42\\_Ly\\_YA\\\\\n",
       "\\hline\n",
       "\tTCGA-BF-A1PU-01 & NA & NA & NA & NA & NA & NA & NA & NA & NA & NA & NA & NA & NA & NA & NA & NA & NA & NA\\\\\n",
       "\tTCGA-BF-A1PV-01 & NA & NA & NA & NA & NA & NA & NA & NA & NA & NA & NA & NA & NA & NA & NA & NA & NA & NA\\\\\n",
       "\\end{tabular}\n"
      ],
      "text/markdown": [
       "\n",
       "A matrix: 2 × 18 of type lgl\n",
       "\n",
       "| <!--/--> | P04_Br | P04_Sk_GA | P08_Br | P08_St_BA | P16_Br | P16_Lu | P42_Br_GA | P42_Ly_GA | P08_St_GA | P18_Br | P18_Lu_YA | P39_Br | P39_Lu | P03_Br | P03_Lu | P08_St_YA | P18_Lu_GA | P42_Ly_YA |\n",
       "|---|---|---|---|---|---|---|---|---|---|---|---|---|---|---|---|---|---|---|\n",
       "| TCGA-BF-A1PU-01 | NA | NA | NA | NA | NA | NA | NA | NA | NA | NA | NA | NA | NA | NA | NA | NA | NA | NA |\n",
       "| TCGA-BF-A1PV-01 | NA | NA | NA | NA | NA | NA | NA | NA | NA | NA | NA | NA | NA | NA | NA | NA | NA | NA |\n",
       "\n"
      ],
      "text/plain": [
       "                P04_Br P04_Sk_GA P08_Br P08_St_BA P16_Br P16_Lu P42_Br_GA\n",
       "TCGA-BF-A1PU-01 NA     NA        NA     NA        NA     NA     NA       \n",
       "TCGA-BF-A1PV-01 NA     NA        NA     NA        NA     NA     NA       \n",
       "                P42_Ly_GA P08_St_GA P18_Br P18_Lu_YA P39_Br P39_Lu P03_Br\n",
       "TCGA-BF-A1PU-01 NA        NA        NA     NA        NA     NA     NA    \n",
       "TCGA-BF-A1PV-01 NA        NA        NA     NA        NA     NA     NA    \n",
       "                P03_Lu P08_St_YA P18_Lu_GA P42_Ly_YA\n",
       "TCGA-BF-A1PU-01 NA     NA        NA        NA       \n",
       "TCGA-BF-A1PV-01 NA     NA        NA        NA       "
      ]
     },
     "metadata": {},
     "output_type": "display_data"
    }
   ],
   "source": [
    "sampleCor = matrix(data=NA, nrow=ncol(tcgaExpr)-3, ncol=length(melBrainSysSamples), \n",
    "                   dimnames = c(list(colnames(tcgaExpr)[-c(1:3)]), list(melBrainSysSamples)))\n",
    "sampleCorPval = matrix(data=NA, nrow=ncol(tcgaExpr)-3, ncol=length(melBrainSysSamples), \n",
    "                   dimnames = c(list(colnames(tcgaExpr)[-c(1:3)]), list(melBrainSysSamples)))\n",
    "head(sampleCor,2)"
   ]
  },
  {
   "cell_type": "code",
   "execution_count": 10,
   "id": "b2a64a6f",
   "metadata": {},
   "outputs": [],
   "source": [
    "for(s1 in rownames(sampleCor)) {\n",
    "    for(s2 in melBrainSysSamples) {\n",
    "        sampleCor[ s1, s2] = cor(x = tcgaExpr[,s1], y = melBrainSysExpr[,s2] )\n",
    "        sampleCorPval[ s1, s2] = cor.test(x = tcgaExpr[,s1], y = melBrainSysExpr[,s2] )$p.value\n",
    "    }\n",
    "}"
   ]
  },
  {
   "cell_type": "code",
   "execution_count": 11,
   "id": "b841cbdd",
   "metadata": {},
   "outputs": [
    {
     "data": {
      "text/html": [
       "<style>\n",
       ".dl-inline {width: auto; margin:0; padding: 0}\n",
       ".dl-inline>dt, .dl-inline>dd {float: none; width: auto; display: inline-block}\n",
       ".dl-inline>dt::after {content: \":\\0020\"; padding-right: .5ex}\n",
       ".dl-inline>dt:not(:first-of-type) {padding-left: .5ex}\n",
       "</style><dl class=dl-inline><dt>0%</dt><dd>0</dd><dt>50%</dt><dd>0</dd><dt>97%</dt><dd>0</dd><dt>98%</dt><dd>2.05384032633985e-282</dd><dt>99%</dt><dd>5.53552191014853e-233</dd><dt>100%</dt><dd>4.2209411319482e-83</dd></dl>\n"
      ],
      "text/latex": [
       "\\begin{description*}\n",
       "\\item[0\\textbackslash{}\\%] 0\n",
       "\\item[50\\textbackslash{}\\%] 0\n",
       "\\item[97\\textbackslash{}\\%] 0\n",
       "\\item[98\\textbackslash{}\\%] 2.05384032633985e-282\n",
       "\\item[99\\textbackslash{}\\%] 5.53552191014853e-233\n",
       "\\item[100\\textbackslash{}\\%] 4.2209411319482e-83\n",
       "\\end{description*}\n"
      ],
      "text/markdown": [
       "0%\n",
       ":   050%\n",
       ":   097%\n",
       ":   098%\n",
       ":   2.05384032633985e-28299%\n",
       ":   5.53552191014853e-233100%\n",
       ":   4.2209411319482e-83\n",
       "\n"
      ],
      "text/plain": [
       "           0%           50%           97%           98%           99% \n",
       " 0.000000e+00  0.000000e+00  0.000000e+00 2.053840e-282 5.535522e-233 \n",
       "         100% \n",
       " 4.220941e-83 "
      ]
     },
     "metadata": {},
     "output_type": "display_data"
    },
    {
     "data": {
      "text/html": [
       "<table class=\"dataframe\">\n",
       "<caption>A matrix: 2 × 18 of type dbl</caption>\n",
       "<thead>\n",
       "\t<tr><th></th><th scope=col>P04_Br</th><th scope=col>P04_Sk_GA</th><th scope=col>P08_Br</th><th scope=col>P08_St_BA</th><th scope=col>P16_Br</th><th scope=col>P16_Lu</th><th scope=col>P42_Br_GA</th><th scope=col>P42_Ly_GA</th><th scope=col>P08_St_GA</th><th scope=col>P18_Br</th><th scope=col>P18_Lu_YA</th><th scope=col>P39_Br</th><th scope=col>P39_Lu</th><th scope=col>P03_Br</th><th scope=col>P03_Lu</th><th scope=col>P08_St_YA</th><th scope=col>P18_Lu_GA</th><th scope=col>P42_Ly_YA</th></tr>\n",
       "</thead>\n",
       "<tbody>\n",
       "\t<tr><th scope=row>TCGA-BF-A1PU-01</th><td>0.5595378</td><td>0.5339674</td><td>0.6018146</td><td>0.5681202</td><td>0.4972946</td><td>0.5297915</td><td>0.5182335</td><td>0.5210563</td><td>0.5644523</td><td>0.5554960</td><td>0.5723036</td><td>0.5947895</td><td>0.5441170</td><td>0.5143048</td><td>0.5596739</td><td>0.5537790</td><td>0.5361107</td><td>0.4613617</td></tr>\n",
       "\t<tr><th scope=row>TCGA-BF-A1PV-01</th><td>0.6395730</td><td>0.6341119</td><td>0.6882146</td><td>0.6657361</td><td>0.6113490</td><td>0.6370941</td><td>0.6071157</td><td>0.6561371</td><td>0.6633554</td><td>0.6518355</td><td>0.6655169</td><td>0.6657637</td><td>0.6149521</td><td>0.6045844</td><td>0.6248896</td><td>0.6424141</td><td>0.6457306</td><td>0.6024716</td></tr>\n",
       "</tbody>\n",
       "</table>\n"
      ],
      "text/latex": [
       "A matrix: 2 × 18 of type dbl\n",
       "\\begin{tabular}{r|llllllllllllllllll}\n",
       "  & P04\\_Br & P04\\_Sk\\_GA & P08\\_Br & P08\\_St\\_BA & P16\\_Br & P16\\_Lu & P42\\_Br\\_GA & P42\\_Ly\\_GA & P08\\_St\\_GA & P18\\_Br & P18\\_Lu\\_YA & P39\\_Br & P39\\_Lu & P03\\_Br & P03\\_Lu & P08\\_St\\_YA & P18\\_Lu\\_GA & P42\\_Ly\\_YA\\\\\n",
       "\\hline\n",
       "\tTCGA-BF-A1PU-01 & 0.5595378 & 0.5339674 & 0.6018146 & 0.5681202 & 0.4972946 & 0.5297915 & 0.5182335 & 0.5210563 & 0.5644523 & 0.5554960 & 0.5723036 & 0.5947895 & 0.5441170 & 0.5143048 & 0.5596739 & 0.5537790 & 0.5361107 & 0.4613617\\\\\n",
       "\tTCGA-BF-A1PV-01 & 0.6395730 & 0.6341119 & 0.6882146 & 0.6657361 & 0.6113490 & 0.6370941 & 0.6071157 & 0.6561371 & 0.6633554 & 0.6518355 & 0.6655169 & 0.6657637 & 0.6149521 & 0.6045844 & 0.6248896 & 0.6424141 & 0.6457306 & 0.6024716\\\\\n",
       "\\end{tabular}\n"
      ],
      "text/markdown": [
       "\n",
       "A matrix: 2 × 18 of type dbl\n",
       "\n",
       "| <!--/--> | P04_Br | P04_Sk_GA | P08_Br | P08_St_BA | P16_Br | P16_Lu | P42_Br_GA | P42_Ly_GA | P08_St_GA | P18_Br | P18_Lu_YA | P39_Br | P39_Lu | P03_Br | P03_Lu | P08_St_YA | P18_Lu_GA | P42_Ly_YA |\n",
       "|---|---|---|---|---|---|---|---|---|---|---|---|---|---|---|---|---|---|---|\n",
       "| TCGA-BF-A1PU-01 | 0.5595378 | 0.5339674 | 0.6018146 | 0.5681202 | 0.4972946 | 0.5297915 | 0.5182335 | 0.5210563 | 0.5644523 | 0.5554960 | 0.5723036 | 0.5947895 | 0.5441170 | 0.5143048 | 0.5596739 | 0.5537790 | 0.5361107 | 0.4613617 |\n",
       "| TCGA-BF-A1PV-01 | 0.6395730 | 0.6341119 | 0.6882146 | 0.6657361 | 0.6113490 | 0.6370941 | 0.6071157 | 0.6561371 | 0.6633554 | 0.6518355 | 0.6655169 | 0.6657637 | 0.6149521 | 0.6045844 | 0.6248896 | 0.6424141 | 0.6457306 | 0.6024716 |\n",
       "\n"
      ],
      "text/plain": [
       "                P04_Br    P04_Sk_GA P08_Br    P08_St_BA P16_Br    P16_Lu   \n",
       "TCGA-BF-A1PU-01 0.5595378 0.5339674 0.6018146 0.5681202 0.4972946 0.5297915\n",
       "TCGA-BF-A1PV-01 0.6395730 0.6341119 0.6882146 0.6657361 0.6113490 0.6370941\n",
       "                P42_Br_GA P42_Ly_GA P08_St_GA P18_Br    P18_Lu_YA P39_Br   \n",
       "TCGA-BF-A1PU-01 0.5182335 0.5210563 0.5644523 0.5554960 0.5723036 0.5947895\n",
       "TCGA-BF-A1PV-01 0.6071157 0.6561371 0.6633554 0.6518355 0.6655169 0.6657637\n",
       "                P39_Lu    P03_Br    P03_Lu    P08_St_YA P18_Lu_GA P42_Ly_YA\n",
       "TCGA-BF-A1PU-01 0.5441170 0.5143048 0.5596739 0.5537790 0.5361107 0.4613617\n",
       "TCGA-BF-A1PV-01 0.6149521 0.6045844 0.6248896 0.6424141 0.6457306 0.6024716"
      ]
     },
     "metadata": {},
     "output_type": "display_data"
    },
    {
     "data": {
      "text/html": [
       "<style>\n",
       ".dl-inline {width: auto; margin:0; padding: 0}\n",
       ".dl-inline>dt, .dl-inline>dd {float: none; width: auto; display: inline-block}\n",
       ".dl-inline>dt::after {content: \":\\0020\"; padding-right: .5ex}\n",
       ".dl-inline>dt:not(:first-of-type) {padding-left: .5ex}\n",
       "</style><dl class=dl-inline><dt>0%</dt><dd>0.210261089487289</dd><dt>25%</dt><dd>0.583770457240788</dd><dt>50%</dt><dd>0.627231047596561</dd><dt>75%</dt><dd>0.658158530557716</dd><dt>100%</dt><dd>0.742266905423297</dd></dl>\n"
      ],
      "text/latex": [
       "\\begin{description*}\n",
       "\\item[0\\textbackslash{}\\%] 0.210261089487289\n",
       "\\item[25\\textbackslash{}\\%] 0.583770457240788\n",
       "\\item[50\\textbackslash{}\\%] 0.627231047596561\n",
       "\\item[75\\textbackslash{}\\%] 0.658158530557716\n",
       "\\item[100\\textbackslash{}\\%] 0.742266905423297\n",
       "\\end{description*}\n"
      ],
      "text/markdown": [
       "0%\n",
       ":   0.21026108948728925%\n",
       ":   0.58377045724078850%\n",
       ":   0.62723104759656175%\n",
       ":   0.658158530557716100%\n",
       ":   0.742266905423297\n",
       "\n"
      ],
      "text/plain": [
       "       0%       25%       50%       75%      100% \n",
       "0.2102611 0.5837705 0.6272310 0.6581585 0.7422669 "
      ]
     },
     "metadata": {},
     "output_type": "display_data"
    }
   ],
   "source": [
    "quantile(sampleCorPval, probs = c(0,50,97,98,99,100)/100) # all cor. are highly signif\n",
    "head(sampleCor,2)\n",
    "quantile(sampleCor) # 0.21 .. 0.74, median 0.63"
   ]
  },
  {
   "cell_type": "code",
   "execution_count": 12,
   "id": "1e9ea403",
   "metadata": {},
   "outputs": [
    {
     "data": {
      "text/html": [
       "<table class=\"dataframe\">\n",
       "<caption>A matrix: 2 × 3 of type dbl</caption>\n",
       "<thead>\n",
       "\t<tr><th></th><th scope=col>P04_Br</th><th scope=col>P04_Sk_GA</th><th scope=col>P08_Br</th></tr>\n",
       "</thead>\n",
       "<tbody>\n",
       "\t<tr><th scope=row>TCGA-BF-A1PU-01</th><td>0.5595378</td><td>0.5339674</td><td>0.6018146</td></tr>\n",
       "\t<tr><th scope=row>TCGA-BF-A1PV-01</th><td>0.6395730</td><td>0.6341119</td><td>0.6882146</td></tr>\n",
       "</tbody>\n",
       "</table>\n"
      ],
      "text/latex": [
       "A matrix: 2 × 3 of type dbl\n",
       "\\begin{tabular}{r|lll}\n",
       "  & P04\\_Br & P04\\_Sk\\_GA & P08\\_Br\\\\\n",
       "\\hline\n",
       "\tTCGA-BF-A1PU-01 & 0.5595378 & 0.5339674 & 0.6018146\\\\\n",
       "\tTCGA-BF-A1PV-01 & 0.6395730 & 0.6341119 & 0.6882146\\\\\n",
       "\\end{tabular}\n"
      ],
      "text/markdown": [
       "\n",
       "A matrix: 2 × 3 of type dbl\n",
       "\n",
       "| <!--/--> | P04_Br | P04_Sk_GA | P08_Br |\n",
       "|---|---|---|---|\n",
       "| TCGA-BF-A1PU-01 | 0.5595378 | 0.5339674 | 0.6018146 |\n",
       "| TCGA-BF-A1PV-01 | 0.6395730 | 0.6341119 | 0.6882146 |\n",
       "\n"
      ],
      "text/plain": [
       "                P04_Br    P04_Sk_GA P08_Br   \n",
       "TCGA-BF-A1PU-01 0.5595378 0.5339674 0.6018146\n",
       "TCGA-BF-A1PV-01 0.6395730 0.6341119 0.6882146"
      ]
     },
     "metadata": {},
     "output_type": "display_data"
    },
    {
     "data": {
      "text/plain": [
       "\n",
       "  1 \n",
       "270 "
      ]
     },
     "metadata": {},
     "output_type": "display_data"
    },
    {
     "data": {
      "text/plain": [
       "sampleCorWhMax\n",
       " 1  3  4  6 11 12 13 15 17 \n",
       " 3 80 16 25 55 38 22 30  1 "
      ]
     },
     "metadata": {},
     "output_type": "display_data"
    }
   ],
   "source": [
    "sampleCor[1:2,1:3]\n",
    "sampleCorWhMax = apply(sampleCor,1,which.max)\n",
    "table(sapply(1:length(sampleCorWhMax), function(i) length(which(sampleCor[i,] == sampleCor[i,sampleCorWhMax[i]]))))\n",
    "# for each TCGA sample, there is exactly 1 MelBrainSys sample with max correl., not ambiguous\n",
    "#  cbind(sampleCorWhMax,sampleCor)  \n",
    "table(sampleCorWhMax); # 18 MelBrainSys samples, TCGA samples are assigned to 9 of them"
   ]
  },
  {
   "cell_type": "code",
   "execution_count": 13,
   "id": "4e6229a4",
   "metadata": {},
   "outputs": [
    {
     "data": {
      "text/plain": [
       "TCGAassignSubgroups\n",
       "            SG1 SG1 | SG2 | SG3             SG2             SG3 \n",
       "             44              80             115              31 "
      ]
     },
     "metadata": {},
     "output_type": "display_data"
    },
    {
     "data": {
      "text/plain": [
       "TCGAassignSubgroups\n",
       " NA SG1 SG2 SG3 \n",
       " 80  44 115  31 "
      ]
     },
     "metadata": {},
     "output_type": "display_data"
    },
    {
     "data": {
      "text/html": [
       "<style>\n",
       ".dl-inline {width: auto; margin:0; padding: 0}\n",
       ".dl-inline>dt, .dl-inline>dd {float: none; width: auto; display: inline-block}\n",
       ".dl-inline>dt::after {content: \":\\0020\"; padding-right: .5ex}\n",
       ".dl-inline>dt:not(:first-of-type) {padding-left: .5ex}\n",
       "</style><dl class=dl-inline><dt>TCGA-BF-A1PX-01</dt><dd>'SG2'</dd><dt>TCGA-BF-A3DJ-01</dt><dd>'SG3'</dd><dt>TCGA-BF-A3DM-01</dt><dd>'SG2'</dd><dt>TCGA-BF-A3DN-01</dt><dd>'SG2'</dd><dt>TCGA-BF-A5ES-01</dt><dd>'SG2'</dd><dt>TCGA-D3-A1Q4-06</dt><dd>'SG2'</dd></dl>\n"
      ],
      "text/latex": [
       "\\begin{description*}\n",
       "\\item[TCGA-BF-A1PX-01] 'SG2'\n",
       "\\item[TCGA-BF-A3DJ-01] 'SG3'\n",
       "\\item[TCGA-BF-A3DM-01] 'SG2'\n",
       "\\item[TCGA-BF-A3DN-01] 'SG2'\n",
       "\\item[TCGA-BF-A5ES-01] 'SG2'\n",
       "\\item[TCGA-D3-A1Q4-06] 'SG2'\n",
       "\\end{description*}\n"
      ],
      "text/markdown": [
       "TCGA-BF-A1PX-01\n",
       ":   'SG2'TCGA-BF-A3DJ-01\n",
       ":   'SG3'TCGA-BF-A3DM-01\n",
       ":   'SG2'TCGA-BF-A3DN-01\n",
       ":   'SG2'TCGA-BF-A5ES-01\n",
       ":   'SG2'TCGA-D3-A1Q4-06\n",
       ":   'SG2'\n",
       "\n"
      ],
      "text/plain": [
       "TCGA-BF-A1PX-01 TCGA-BF-A3DJ-01 TCGA-BF-A3DM-01 TCGA-BF-A3DN-01 TCGA-BF-A5ES-01 \n",
       "          \"SG2\"           \"SG3\"           \"SG2\"           \"SG2\"           \"SG2\" \n",
       "TCGA-D3-A1Q4-06 \n",
       "          \"SG2\" "
      ]
     },
     "metadata": {},
     "output_type": "display_data"
    },
    {
     "data": {
      "text/plain": [
       "TCGAassignSubgroups\n",
       "SG1 SG2 SG3 \n",
       " 44 115  31 "
      ]
     },
     "metadata": {},
     "output_type": "display_data"
    }
   ],
   "source": [
    "TCGAassignSubgroups = unname(subgroupPerSample[melBrainSysSamples[sampleCorWhMax]])\n",
    "table(TCGAassignSubgroups) \n",
    "TCGAassignSubgroups = unname(subgroupPerSampleNA[melBrainSysSamples[sampleCorWhMax]])\n",
    "table(TCGAassignSubgroups) # 80 of 270 cannot be assigned unambiguously\n",
    "# -> omit these TCGE samples\n",
    "\n",
    "names(TCGAassignSubgroups) = rownames(sampleCor)\n",
    "TCGAassignSubgroups = TCGAassignSubgroups[ which(!TCGAassignSubgroups==\"NA\")]\n",
    "head(TCGAassignSubgroups)\n",
    "table(TCGAassignSubgroups) # each subgroup is present, none marginally frequent"
   ]
  },
  {
   "cell_type": "code",
   "execution_count": 14,
   "id": "25250d75",
   "metadata": {},
   "outputs": [
    {
     "data": {
      "text/html": [
       "190"
      ],
      "text/latex": [
       "190"
      ],
      "text/markdown": [
       "190"
      ],
      "text/plain": [
       "[1] 190"
      ]
     },
     "metadata": {},
     "output_type": "display_data"
    },
    {
     "data": {
      "text/plain": [
       "\n",
       " TCGA: NA TCGA: SG1 TCGA: SG2 TCGA: SG3 \n",
       "      143        44       115        31 "
      ]
     },
     "metadata": {},
     "output_type": "display_data"
    },
    {
     "data": {
      "text/plain": [
       "\n",
       "TCGA: SG1 TCGA: SG2 TCGA: SG3 \n",
       "       44       115        31 "
      ]
     },
     "metadata": {},
     "output_type": "display_data"
    }
   ],
   "source": [
    "length(intersect(TCGAinfo$Name, names(TCGAassignSubgroups))) # 190 of 270 patients have subgroup\n",
    "TCGAinfo$Subgroup = paste0(\"TCGA: \",TCGAassignSubgroups[TCGAinfo$Name]) \n",
    "table(TCGAinfo$Subgroup)\n",
    "TCGAinfoClean = TCGAinfo[ !(TCGAinfo$Subgroup==\"TCGA: NA\"),]\n",
    "table(TCGAinfoClean$Subgroup)"
   ]
  },
  {
   "cell_type": "markdown",
   "id": "d531f235",
   "metadata": {},
   "source": [
    "### test and plot associations"
   ]
  },
  {
   "cell_type": "markdown",
   "id": "cf4aaff2",
   "metadata": {},
   "source": [
    "#### T stage"
   ]
  },
  {
   "cell_type": "code",
   "execution_count": 15,
   "id": "3a12119a",
   "metadata": {},
   "outputs": [
    {
     "data": {
      "text/html": [
       "<style>\n",
       ".list-inline {list-style: none; margin:0; padding: 0}\n",
       ".list-inline>li {display: inline-block}\n",
       ".list-inline>li:not(:last-child)::after {content: \"\\00b7\"; padding: 0 .5ex}\n",
       "</style>\n",
       "<ol class=list-inline><li>'-'</li><li>'-'</li><li>'-'</li><li>'T2'</li><li>'T0'</li><li>'T4'</li></ol>\n"
      ],
      "text/latex": [
       "\\begin{enumerate*}\n",
       "\\item '-'\n",
       "\\item '-'\n",
       "\\item '-'\n",
       "\\item 'T2'\n",
       "\\item 'T0'\n",
       "\\item 'T4'\n",
       "\\end{enumerate*}\n"
      ],
      "text/markdown": [
       "1. '-'\n",
       "2. '-'\n",
       "3. '-'\n",
       "4. 'T2'\n",
       "5. 'T0'\n",
       "6. 'T4'\n",
       "\n",
       "\n"
      ],
      "text/plain": [
       "[1] \"-\"  \"-\"  \"-\"  \"T2\" \"T0\" \"T4\""
      ]
     },
     "metadata": {},
     "output_type": "display_data"
    },
    {
     "data": {
      "text/plain": [
       "\n",
       "[ERROR]      T0      T1      T2      T3      T4 \n",
       "      2      22      26      31      26      39 "
      ]
     },
     "metadata": {},
     "output_type": "display_data"
    }
   ],
   "source": [
    "head(TCGAinfoClean$CURATED_T_STAGE_AT_DIAGNOSIS_SIMPLE)\n",
    "TCGAinfoClean$T_STAGE = as.character(TCGAinfoClean$CURATED_T_STAGE_AT_DIAGNOSIS_SIMPLE)\n",
    "TCGAinfoClean$T_STAGE[ grep(\"A\", TCGAinfoClean$T_STAGE)] = NA\n",
    "TCGAinfoClean$T_STAGE[ grep(\"\\\\-\", TCGAinfoClean$T_STAGE)] = NA\n",
    "table(TCGAinfoClean$T_STAGE)\n",
    "TCGAinfoClean$T_STAGE_ord = factor(TCGAinfoClean$T_STAGE, ordered = T, \n",
    "                                       levels=c(\"T0\", \"T1\", \"T2\", \"T3\", \"T4\" ))"
   ]
  },
  {
   "cell_type": "code",
   "execution_count": 16,
   "id": "8d4ab82e",
   "metadata": {},
   "outputs": [
    {
     "data": {
      "text/html": [
       "<table class=\"dataframe\">\n",
       "<caption>A tibble: 3 × 6</caption>\n",
       "<thead>\n",
       "\t<tr><th scope=col>Subgroup</th><th scope=col>T_stage_T0</th><th scope=col>T_stage_T1</th><th scope=col>T_stage_T2</th><th scope=col>T_stage_T3</th><th scope=col>T_stage_T4</th></tr>\n",
       "\t<tr><th scope=col>&lt;chr&gt;</th><th scope=col>&lt;int&gt;</th><th scope=col>&lt;int&gt;</th><th scope=col>&lt;int&gt;</th><th scope=col>&lt;int&gt;</th><th scope=col>&lt;int&gt;</th></tr>\n",
       "</thead>\n",
       "<tbody>\n",
       "\t<tr><td>TCGA: SG1</td><td>5</td><td> 9</td><td> 9</td><td> 4</td><td> 4</td></tr>\n",
       "\t<tr><td>TCGA: SG2</td><td>9</td><td>16</td><td>17</td><td>16</td><td>29</td></tr>\n",
       "\t<tr><td>TCGA: SG3</td><td>8</td><td> 1</td><td> 5</td><td> 6</td><td> 6</td></tr>\n",
       "</tbody>\n",
       "</table>\n"
      ],
      "text/latex": [
       "A tibble: 3 × 6\n",
       "\\begin{tabular}{llllll}\n",
       " Subgroup & T\\_stage\\_T0 & T\\_stage\\_T1 & T\\_stage\\_T2 & T\\_stage\\_T3 & T\\_stage\\_T4\\\\\n",
       " <chr> & <int> & <int> & <int> & <int> & <int>\\\\\n",
       "\\hline\n",
       "\t TCGA: SG1 & 5 &  9 &  9 &  4 &  4\\\\\n",
       "\t TCGA: SG2 & 9 & 16 & 17 & 16 & 29\\\\\n",
       "\t TCGA: SG3 & 8 &  1 &  5 &  6 &  6\\\\\n",
       "\\end{tabular}\n"
      ],
      "text/markdown": [
       "\n",
       "A tibble: 3 × 6\n",
       "\n",
       "| Subgroup &lt;chr&gt; | T_stage_T0 &lt;int&gt; | T_stage_T1 &lt;int&gt; | T_stage_T2 &lt;int&gt; | T_stage_T3 &lt;int&gt; | T_stage_T4 &lt;int&gt; |\n",
       "|---|---|---|---|---|---|\n",
       "| TCGA: SG1 | 5 |  9 |  9 |  4 |  4 |\n",
       "| TCGA: SG2 | 9 | 16 | 17 | 16 | 29 |\n",
       "| TCGA: SG3 | 8 |  1 |  5 |  6 |  6 |\n",
       "\n"
      ],
      "text/plain": [
       "  Subgroup  T_stage_T0 T_stage_T1 T_stage_T2 T_stage_T3 T_stage_T4\n",
       "1 TCGA: SG1 5           9          9          4          4        \n",
       "2 TCGA: SG2 9          16         17         16         29        \n",
       "3 TCGA: SG3 8           1          5          6          6        "
      ]
     },
     "metadata": {},
     "output_type": "display_data"
    }
   ],
   "source": [
    "tStageDistrib = TCGAinfoClean %>% group_by(Subgroup) %>% \n",
    "    summarise(T_stage_T0 = length(which(T_STAGE == \"T0\")),\n",
    "              T_stage_T1 = length(which(T_STAGE == \"T1\")),\n",
    "              T_stage_T2 = length(which(T_STAGE == \"T2\")),\n",
    "              T_stage_T3 = length(which(T_STAGE == \"T3\")),\n",
    "              T_stage_T4 = length(which(T_STAGE == \"T4\")))\n",
    "tStageDistrib"
   ]
  },
  {
   "cell_type": "code",
   "execution_count": 17,
   "id": "175e2b2b",
   "metadata": {},
   "outputs": [
    {
     "data": {
      "text/plain": [
       "\n",
       "\tKruskal-Wallis rank sum test\n",
       "\n",
       "data:  T_STAGE_ord by Subgroup\n",
       "Kruskal-Wallis chi-squared = 6.0514, df = 2, p-value = 0.04852\n"
      ]
     },
     "metadata": {},
     "output_type": "display_data"
    },
    {
     "data": {
      "text/plain": [
       "\n",
       "\tKruskal-Wallis rank sum test\n",
       "\n",
       "data:  T_STAGE_ord by Subgroup\n",
       "Kruskal-Wallis chi-squared = 5.7195, df = 1, p-value = 0.01678\n"
      ]
     },
     "metadata": {},
     "output_type": "display_data"
    },
    {
     "data": {
      "text/plain": [
       "\n",
       "\tKruskal-Wallis rank sum test\n",
       "\n",
       "data:  T_STAGE_ord by Subgroup\n",
       "Kruskal-Wallis chi-squared = 0.49574, df = 1, p-value = 0.4814\n"
      ]
     },
     "metadata": {},
     "output_type": "display_data"
    },
    {
     "data": {
      "text/plain": [
       "\n",
       "\tKruskal-Wallis rank sum test\n",
       "\n",
       "data:  T_STAGE_ord by Subgroup\n",
       "Kruskal-Wallis chi-squared = 1.5107, df = 1, p-value = 0.219\n"
      ]
     },
     "metadata": {},
     "output_type": "display_data"
    }
   ],
   "source": [
    "# Kruskal Wallis test:\n",
    "kruskal.test(T_STAGE_ord ~ Subgroup, data=TCGAinfoClean ) # 0.0465\n",
    "kruskal.test(T_STAGE_ord ~ Subgroup, \n",
    "                 data=TCGAinfoClean[ TCGAinfoClean$Subgroup %in% c(\"TCGA: SG1\",\"TCGA: SG2\"),] ) # 0.01678\n",
    "kruskal.test(T_STAGE_ord ~ Subgroup, \n",
    "                 data=TCGAinfoClean[ TCGAinfoClean$Subgroup %in% c(\"TCGA: SG1\",\"TCGA: SG3\"),] ) # 0.48\n",
    "kruskal.test(T_STAGE_ord ~ Subgroup, \n",
    "                 data=TCGAinfoClean[ TCGAinfoClean$Subgroup %in% c(\"TCGA: SG2\",\"TCGA: SG3\"),] ) # 0.22"
   ]
  },
  {
   "cell_type": "code",
   "execution_count": 18,
   "id": "0b782cff",
   "metadata": {},
   "outputs": [
    {
     "data": {
      "image/png": "[encoded data removed]",
      "text/plain": [
       "plot without title"
      ]
     },
     "metadata": {
      "image/png": {
       "height": 420,
       "width": 420
      }
     },
     "output_type": "display_data"
    }
   ],
   "source": [
    "plotTstage = ggplot(TCGAinfoClean[ !is.na(TCGAinfoClean$T_STAGE_ord),], aes(x=T_STAGE_ord, fill=T_STAGE_ord)) + \n",
    "    geom_bar() + facet_wrap(~Subgroup, ncol = 1) + xlab(\"T stage\") + ylab(\"Number of patients\") + \n",
    "    theme(plot.margin = margin(2,0,0,1, \"cm\"))\n",
    "    #+ theme(plot.background = element_rect(colour = \"grey\", fill=NA, size=5))\n",
    "plotTstage  = plotTstage + guides(fill=guide_legend(title=\"T stage\"))\n",
    "plotTstage = plotTstage + labs(tag = \"D\") + theme(plot.tag.position = c(0.0, 1.08))\n",
    "plotTstage\n",
    "#png(filename = paste0(outDirectory,\"Figure-tumor-stage-vs-subgroup.png\"), width = 600,height = 400)\n",
    "#plotTstage + guides(fill=guide_legend(title=\"T stage\"))\n",
    "#dev.off()"
   ]
  },
  {
   "cell_type": "markdown",
   "id": "cb8e5e80",
   "metadata": {},
   "source": [
    "### mutation subtypes "
   ]
  },
  {
   "cell_type": "code",
   "execution_count": 19,
   "id": "c5b3b8bd",
   "metadata": {},
   "outputs": [
    {
     "data": {
      "text/plain": [
       "\n",
       "                   - BRAF_Hotspot_Mutants      NF1_Any_Mutants \n",
       "                   7                   95                   11 \n",
       " RAS_Hotspot_Mutants            Triple_WT \n",
       "                  52                   25 "
      ]
     },
     "metadata": {},
     "output_type": "display_data"
    }
   ],
   "source": [
    "table(TCGAinfoClean$MUTATIONSUBTYPES)\n",
    "TCGAinfoClean$MUTATIONSUBTYPES[ which(TCGAinfoClean$MUTATIONSUBTYPES==\"-\")] = NA"
   ]
  },
  {
   "cell_type": "code",
   "execution_count": 20,
   "id": "e0471864",
   "metadata": {},
   "outputs": [
    {
     "data": {
      "image/png": "[encoded data removed]",
      "text/plain": [
       "plot without title"
      ]
     },
     "metadata": {
      "image/png": {
       "height": 420,
       "width": 420
      }
     },
     "output_type": "display_data"
    }
   ],
   "source": [
    "plotMutSubtype = ggplot(TCGAinfoClean[ !is.na(TCGAinfoClean$MUTATIONSUBTYPES),], aes(x=Subgroup,fill=MUTATIONSUBTYPES)) + \n",
    "    geom_bar(position = \"fill\") + ylab(\"Ratio of patients\") + \n",
    "    theme(axis.text.x = element_text(angle = 45, vjust = 1, hjust=1), \n",
    "         plot.margin = margin(1,0,0,1, \"cm\"))\n",
    "#, \n",
    "         #plot.background = element_rect(colour = \"grey\", fill=NA, size=5))\n",
    "plotMutSubtype = plotMutSubtype + guides(fill=guide_legend(title=\"Mutation subtype\"))\n",
    "plotMutSubtype = plotMutSubtype + labs(tag = \"A\") + theme(plot.tag.position = c(-0.05, 1.05))\n",
    "plotMutSubtype\n",
    "#grid.arrange(p1, p2, widths=c(1,1.5), ncol=2)\n",
    "#png(filename = paste0(outDirectory,\"mutationsubtypes-vs-subgroup.png\"), width=700)\n",
    "#grid.arrange(p1, p2, widths=c(1,1.55), ncol=2)\n",
    "#dev.off()"
   ]
  },
  {
   "cell_type": "code",
   "execution_count": 21,
   "id": "e1c0da7b",
   "metadata": {},
   "outputs": [
    {
     "data": {
      "text/plain": [
       "                      \n",
       "                       TCGA: SG1 TCGA: SG2 TCGA: SG3\n",
       "  BRAF_Hotspot_Mutants        14        60        21\n",
       "  NF1_Any_Mutants              1        10         0\n",
       "  RAS_Hotspot_Mutants         19        26         7\n",
       "  Triple_WT                    8        15         2"
      ]
     },
     "metadata": {},
     "output_type": "display_data"
    },
    {
     "name": "stderr",
     "output_type": "stream",
     "text": [
      "Warning message in chisq.test(m):\n",
      "“Chi-squared approximation may be incorrect”\n"
     ]
    },
    {
     "data": {
      "text/plain": [
       "\n",
       "\tPearson's Chi-squared test\n",
       "\n",
       "data:  m\n",
       "X-squared = 16.563, df = 6, p-value = 0.01103\n"
      ]
     },
     "metadata": {},
     "output_type": "display_data"
    }
   ],
   "source": [
    "m = table(TCGAinfoClean$MUTATIONSUBTYPES, TCGAinfoClean$Subgroup)\n",
    "m\n",
    "chisq.test(m) # p-value = 0.01103"
   ]
  },
  {
   "cell_type": "markdown",
   "id": "d61ad681",
   "metadata": {},
   "source": [
    "### methylation subtypes"
   ]
  },
  {
   "cell_type": "code",
   "execution_count": 22,
   "id": "82fca317",
   "metadata": {},
   "outputs": [
    {
     "data": {
      "text/plain": [
       "\n",
       "CpG island-methylated      hyper-methylated       hypo-methylated \n",
       "                   32                    61                    55 \n",
       "          normal-like \n",
       "                   42 "
      ]
     },
     "metadata": {},
     "output_type": "display_data"
    }
   ],
   "source": [
    "table(TCGAinfoClean$MethTypes.201408)"
   ]
  },
  {
   "cell_type": "code",
   "execution_count": 23,
   "id": "2f665723",
   "metadata": {},
   "outputs": [
    {
     "data": {
      "image/png": "[encoded data removed]",
      "text/plain": [
       "plot without title"
      ]
     },
     "metadata": {
      "image/png": {
       "height": 420,
       "width": 420
      }
     },
     "output_type": "display_data"
    }
   ],
   "source": [
    "plotMethSubtype = ggplot(TCGAinfoClean[ !is.na(TCGAinfoClean$MethTypes.201408),], aes(x=Subgroup,fill=MethTypes.201408)) + \n",
    "    geom_bar(position = \"fill\") + theme(axis.text.x = element_text(angle = 45, vjust = 1, hjust=1), \n",
    "         plot.margin = margin(1,0,0,1, \"cm\")) + \n",
    "    ylab(\"Ratio of patients\") #, \n",
    "         #plot.background = element_rect(colour = \"grey\", fill=NA, size=5))\n",
    "plotMethSubtype = plotMethSubtype + guides(fill=guide_legend(title=\"Methylation subtype\"))\n",
    "plotMethSubtype = plotMethSubtype + labs(tag = \"B\") + theme(plot.tag.position = c(-0.05, 1.05))\n",
    "plotMethSubtype\n",
    "#grid.arrange(p1, p2, widths=c(1,1.5), ncol=2)\n",
    "#png(filename = paste0(outDirectory,\"meth-types-vs-subgroup-barplot.png\"), width=700)\n",
    "#grid.arrange(p1, p2, widths=c(1,1.55), ncol=2)\n",
    "#dev.off()"
   ]
  },
  {
   "cell_type": "code",
   "execution_count": 24,
   "id": "b9ccecc4",
   "metadata": {},
   "outputs": [
    {
     "data": {
      "text/plain": [
       "                       \n",
       "                        TCGA: SG1 TCGA: SG2 TCGA: SG3\n",
       "  CpG island-methylated        10        18         4\n",
       "  hyper-methylated             10        39        12\n",
       "  hypo-methylated               8        34        13\n",
       "  normal-like                  16        24         2"
      ]
     },
     "metadata": {},
     "output_type": "display_data"
    },
    {
     "data": {
      "text/plain": [
       "\n",
       "\tPearson's Chi-squared test\n",
       "\n",
       "data:  m\n",
       "X-squared = 14.176, df = 6, p-value = 0.02773\n"
      ]
     },
     "metadata": {},
     "output_type": "display_data"
    }
   ],
   "source": [
    "m = table(TCGAinfoClean$MethTypes.201408, TCGAinfoClean$Subgroup)\n",
    "m\n",
    "chisq.test(m) # p-value =  0.02773"
   ]
  },
  {
   "cell_type": "markdown",
   "id": "6d2a07c5",
   "metadata": {},
   "source": [
    "### total mutations"
   ]
  },
  {
   "cell_type": "code",
   "execution_count": 25,
   "id": "9da695a9",
   "metadata": {},
   "outputs": [
    {
     "name": "stderr",
     "output_type": "stream",
     "text": [
      "Warning message in eval(expr, envir, enclos):\n",
      "“NAs introduced by coercion”\n"
     ]
    },
    {
     "data": {
      "text/html": [
       "<style>\n",
       ".dl-inline {width: auto; margin:0; padding: 0}\n",
       ".dl-inline>dt, .dl-inline>dd {float: none; width: auto; display: inline-block}\n",
       ".dl-inline>dt::after {content: \":\\0020\"; padding-right: .5ex}\n",
       ".dl-inline>dt:not(:first-of-type) {padding-left: .5ex}\n",
       "</style><dl class=dl-inline><dt>0%</dt><dd>24</dd><dt>25%</dt><dd>198</dd><dt>50%</dt><dd>396</dd><dt>75%</dt><dd>687</dd><dt>100%</dt><dd>4728</dd></dl>\n"
      ],
      "text/latex": [
       "\\begin{description*}\n",
       "\\item[0\\textbackslash{}\\%] 24\n",
       "\\item[25\\textbackslash{}\\%] 198\n",
       "\\item[50\\textbackslash{}\\%] 396\n",
       "\\item[75\\textbackslash{}\\%] 687\n",
       "\\item[100\\textbackslash{}\\%] 4728\n",
       "\\end{description*}\n"
      ],
      "text/markdown": [
       "0%\n",
       ":   2425%\n",
       ":   19850%\n",
       ":   39675%\n",
       ":   687100%\n",
       ":   4728\n",
       "\n"
      ],
      "text/plain": [
       "  0%  25%  50%  75% 100% \n",
       "  24  198  396  687 4728 "
      ]
     },
     "metadata": {},
     "output_type": "display_data"
    }
   ],
   "source": [
    "TCGAinfoClean$TOTAL.MUTATIONS = as.numeric(TCGAinfoClean$TOTAL.MUTATIONS)\n",
    "quantile(TCGAinfoClean$TOTAL.MUTATIONS,na.rm = T)"
   ]
  },
  {
   "cell_type": "code",
   "execution_count": 26,
   "id": "bd30c4fe",
   "metadata": {},
   "outputs": [
    {
     "name": "stderr",
     "output_type": "stream",
     "text": [
      "Warning message:\n",
      "“\u001b[1m\u001b[22mRemoved 5 rows containing non-finite values (`stat_ydensity()`).”\n"
     ]
    },
    {
     "data": {
      "image/png": "[encoded data removed]",
      "text/plain": [
       "plot without title"
      ]
     },
     "metadata": {
      "image/png": {
       "height": 420,
       "width": 420
      }
     },
     "output_type": "display_data"
    }
   ],
   "source": [
    "p = ggplot(TCGAinfoClean, aes(x=TOTAL.MUTATIONS, y=Subgroup, fill=Subgroup)) + geom_violin(scale = \"count\")\n",
    "p "
   ]
  },
  {
   "cell_type": "code",
   "execution_count": 27,
   "id": "46534f2b",
   "metadata": {},
   "outputs": [
    {
     "data": {
      "text/plain": [
       "\n",
       "\tKruskal-Wallis rank sum test\n",
       "\n",
       "data:  TOTAL.MUTATIONS by Subgroup\n",
       "Kruskal-Wallis chi-squared = 1.6454, df = 2, p-value = 0.4392\n"
      ]
     },
     "metadata": {},
     "output_type": "display_data"
    }
   ],
   "source": [
    "kruskal.test(TOTAL.MUTATIONS ~ Subgroup, data=TCGAinfoClean ) # 0.4392"
   ]
  },
  {
   "cell_type": "markdown",
   "id": "34ca520c",
   "metadata": {},
   "source": [
    "### RNA seq consensus hierarch clusters"
   ]
  },
  {
   "cell_type": "code",
   "execution_count": 28,
   "id": "b5f3ea97",
   "metadata": {},
   "outputs": [
    {
     "data": {
      "text/plain": [
       "\n",
       "  immune  keratin MITF-low \n",
       "     110       41       37 "
      ]
     },
     "metadata": {},
     "output_type": "display_data"
    }
   ],
   "source": [
    "TCGAinfoClean$RNASEQ.CLUSTER_CONSENHIER[ which(TCGAinfoClean$RNASEQ.CLUSTER_CONSENHIER==\"-\")] = NA\n",
    "table(TCGAinfoClean$RNASEQ.CLUSTER_CONSENHIER)"
   ]
  },
  {
   "cell_type": "code",
   "execution_count": 29,
   "id": "2d0db904",
   "metadata": {},
   "outputs": [
    {
     "data": {
      "text/plain": [
       "          \n",
       "           TCGA: SG1 TCGA: SG2 TCGA: SG3\n",
       "  immune          32        64        14\n",
       "  keratin          7        28         6\n",
       "  MITF-low         3        23        11"
      ]
     },
     "metadata": {},
     "output_type": "display_data"
    },
    {
     "data": {
      "text/plain": [
       "\n",
       "\tPearson's Chi-squared test\n",
       "\n",
       "data:  m\n",
       "X-squared = 11.578, df = 4, p-value = 0.02078\n"
      ]
     },
     "metadata": {},
     "output_type": "display_data"
    },
    {
     "data": {
      "image/png": "[encoded data removed]",
      "text/plain": [
       "plot without title"
      ]
     },
     "metadata": {
      "image/png": {
       "height": 420,
       "width": 420
      }
     },
     "output_type": "display_data"
    }
   ],
   "source": [
    "m = table(TCGAinfoClean$RNASEQ.CLUSTER_CONSENHIER, TCGAinfoClean$Subgroup)\n",
    "m\n",
    "chisq.test(m) # p-value = 0.02078\n",
    "\n",
    "plotExprCluster = ggplot(TCGAinfoClean[ !is.na(TCGAinfoClean$RNASEQ.CLUSTER_CONSENHIER),], aes(x=Subgroup,fill=RNASEQ.CLUSTER_CONSENHIER)) + \n",
    "    geom_bar(position = \"fill\") + theme(axis.text.x = element_text(angle = 45, vjust = 1, hjust=1), \n",
    "         plot.margin = margin(1,0,0,1, \"cm\")) + \n",
    "    ylab(\"Ratio of patients\") #, \n",
    "         #plot.background = element_rect(colour = \"grey\", fill=NA, size=5))\n",
    "plotExprCluster = plotExprCluster + guides(fill=guide_legend(title=\"Expression cluster\"))\n",
    "plotExprCluster = plotExprCluster + labs(tag = \"C\") + theme(plot.tag.position = c(-0.05, 1.05))\n",
    "plotExprCluster\n",
    "# grid.arrange(p1, p2, widths=c(1,1.5), ncol=2)\n",
    "# png(filename = paste0(outDirectory,\"RNAseq-clusters-vs-subgroup-barplot.png\"), width=700)\n",
    "# grid.arrange(p1, p2, widths=c(1,1.55), ncol=2)\n",
    "# dev.off()"
   ]
  },
  {
   "cell_type": "code",
   "execution_count": 41,
   "id": "dbbda7c7",
   "metadata": {},
   "outputs": [
    {
     "data": {
      "text/html": [
       "<strong>png:</strong> 2"
      ],
      "text/latex": [
       "\\textbf{png:} 2"
      ],
      "text/markdown": [
       "**png:** 2"
      ],
      "text/plain": [
       "png \n",
       "  2 "
      ]
     },
     "metadata": {},
     "output_type": "display_data"
    }
   ],
   "source": [
    "# main text figure A-D\n",
    "png(paste0(outDirectory,\"Figure-6-TCGA-associations.png\"), width = 2400, height = 2400, res=210)\n",
    "margin = theme(plot.margin = unit(c(1,1,1,1), \"cm\"))\n",
    "pl = list(plotMutSubtype,plotMethSubtype, plotExprCluster,\n",
    "          plotTstage)\n",
    "grid.arrange(grobs = lapply(pl, \"+\", margin),  ncol=2)\n",
    "dev.off()"
   ]
  },
  {
   "cell_type": "markdown",
   "id": "5f44c8d5",
   "metadata": {},
   "source": [
    "### survival"
   ]
  },
  {
   "cell_type": "code",
   "execution_count": 32,
   "id": "bd32af00",
   "metadata": {},
   "outputs": [
    {
     "data": {
      "text/plain": [
       "\n",
       " 0  1 \n",
       "94 73 "
      ]
     },
     "metadata": {},
     "output_type": "display_data"
    }
   ],
   "source": [
    "TCGAinfoClean$vital_status = ifelse(TCGAinfoClean$CURATED_VITAL_STATUS==\"Alive\",0,\n",
    "                                    ifelse(TCGAinfoClean$CURATED_VITAL_STATUS==\"Dead\",1,NA))\n",
    "table(TCGAinfoClean$vital_status)"
   ]
  },
  {
   "cell_type": "code",
   "execution_count": 33,
   "id": "1b8ebe9c",
   "metadata": {},
   "outputs": [
    {
     "name": "stderr",
     "output_type": "stream",
     "text": [
      "Warning message in eval(expr, envir, enclos):\n",
      "“NAs introduced by coercion”\n"
     ]
    },
    {
     "data": {
      "text/html": [
       "<style>\n",
       ".dl-inline {width: auto; margin:0; padding: 0}\n",
       ".dl-inline>dt, .dl-inline>dd {float: none; width: auto; display: inline-block}\n",
       ".dl-inline>dt::after {content: \":\\0020\"; padding-right: .5ex}\n",
       ".dl-inline>dt:not(:first-of-type) {padding-left: .5ex}\n",
       "</style><dl class=dl-inline><dt>0%</dt><dd>0</dd><dt>25%</dt><dd>225.75</dd><dt>50%</dt><dd>430.5</dd><dt>75%</dt><dd>939.75</dd><dt>100%</dt><dd>3752</dd></dl>\n"
      ],
      "text/latex": [
       "\\begin{description*}\n",
       "\\item[0\\textbackslash{}\\%] 0\n",
       "\\item[25\\textbackslash{}\\%] 225.75\n",
       "\\item[50\\textbackslash{}\\%] 430.5\n",
       "\\item[75\\textbackslash{}\\%] 939.75\n",
       "\\item[100\\textbackslash{}\\%] 3752\n",
       "\\end{description*}\n"
      ],
      "text/markdown": [
       "0%\n",
       ":   025%\n",
       ":   225.7550%\n",
       ":   430.575%\n",
       ":   939.75100%\n",
       ":   3752\n",
       "\n"
      ],
      "text/plain": [
       "     0%     25%     50%     75%    100% \n",
       "   0.00  225.75  430.50  939.75 3752.00 "
      ]
     },
     "metadata": {},
     "output_type": "display_data"
    }
   ],
   "source": [
    "TCGAinfoClean$CURATED_TCGA_DAYS_TO_DEATH_OR_LAST_FU = as.numeric(TCGAinfoClean$CURATED_TCGA_DAYS_TO_DEATH_OR_LAST_FU)\n",
    "quantile(TCGAinfoClean$CURATED_TCGA_DAYS_TO_DEATH_OR_LAST_FU, na.rm = T)"
   ]
  },
  {
   "cell_type": "code",
   "execution_count": 34,
   "id": "4e7b1ae3",
   "metadata": {},
   "outputs": [],
   "source": [
    "fit <- survfit(Surv(CURATED_TCGA_DAYS_TO_DEATH_OR_LAST_FU, vital_status) ~ Subgroup,\n",
    "               data = TCGAinfoClean)"
   ]
  },
  {
   "cell_type": "code",
   "execution_count": 35,
   "id": "607d4be1",
   "metadata": {},
   "outputs": [
    {
     "name": "stderr",
     "output_type": "stream",
     "text": [
      "Warning message:\n",
      "“\u001b[1m\u001b[22mVectorized input to `element_text()` is not officially supported.\n",
      "\u001b[36mℹ\u001b[39m Results may be unexpected or may change in future versions of ggplot2.”\n"
     ]
    },
    {
     "data": {
      "image/png": "[encoded data removed]",
      "text/plain": [
       "plot without title"
      ]
     },
     "metadata": {
      "image/png": {
       "height": 420,
       "width": 420
      }
     },
     "output_type": "display_data"
    }
   ],
   "source": [
    "plotSurvival = ggsurvplot(fit, data = TCGAinfoClean, risk.table = T, pval = T, \n",
    "               conf.int = F, break.time.by = 1000, ggtheme = theme_minimal(), \n",
    "               risk.table.y.text.col = T, risk.table.y.text = F)\n",
    "#plotSurvival$plot =  plotSurvival$plot + theme(plot.margin = margin(1,0,0,1, \"cm\"))\n",
    "#plotSurvival$plot = plotSurvival$plot + labs(tag = \"E\") + theme(plot.tag.position = c(0, 0.97))\n",
    "plotSurvival\n",
    "#png(paste0(outDirectory,\"Figure-Kaplan-Meier-subgroup.png\"), width=1000,height=700, res = 100)\n",
    "#p\n",
    "#dev.off()"
   ]
  },
  {
   "cell_type": "code",
   "execution_count": 40,
   "id": "84ff3eb3",
   "metadata": {},
   "outputs": [
    {
     "data": {
      "text/html": [
       "<strong>png:</strong> 2"
      ],
      "text/latex": [
       "\\textbf{png:} 2"
      ],
      "text/markdown": [
       "**png:** 2"
      ],
      "text/plain": [
       "png \n",
       "  2 "
      ]
     },
     "metadata": {},
     "output_type": "display_data"
    }
   ],
   "source": [
    "# supplement figure E\n",
    "plSurv = list(plotSurvival$plot, plotSurvival$table)\n",
    "png(paste0(outDirectory,\"SupplFigure-S8-TCGA-survival.png\"), width = 3500, height = 1800, res=320)\n",
    "grid.arrange(grobs = plSurv, ncol=1, heights=c(3,1))\n",
    "dev.off()"
   ]
  }
 ],
 "metadata": {
  "kernelspec": {
   "display_name": "R",
   "language": "R",
   "name": "ir"
  },
  "language_info": {
   "codemirror_mode": "r",
   "file_extension": ".r",
   "mimetype": "text/x-r-source",
   "name": "R",
   "pygments_lexer": "r",
   "version": "3.6.1"
  }
 },
 "nbformat": 4,
 "nbformat_minor": 5
}
