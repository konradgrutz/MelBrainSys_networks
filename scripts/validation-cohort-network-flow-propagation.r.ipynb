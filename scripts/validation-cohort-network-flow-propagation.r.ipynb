{
 "cells": [
  {
   "cell_type": "code",
   "execution_count": 2,
   "id": "0a2285f1",
   "metadata": {},
   "outputs": [],
   "source": [
    "library(parallel)"
   ]
  },
  {
   "cell_type": "code",
   "execution_count": 3,
   "id": "2857df10",
   "metadata": {},
   "outputs": [],
   "source": [
    "basePath = \"/data/bcu_projects/MelBrainSys_PostdocProject_Gruetzmann/publications/2022-my-MelBrainSys-paper/scripts-etc-for-publication/\"\n",
    "myPath = paste0(basePath,\"regNet/validation-cohort/\")"
   ]
  },
  {
   "cell_type": "code",
   "execution_count": 6,
   "id": "674e3fcd",
   "metadata": {
    "scrolled": true
   },
   "outputs": [],
   "source": [
    "localRlibs = paste0(basePath,\"conda/lib/R/library/\")\n",
    "library(regNet)"
   ]
  },
  {
   "cell_type": "code",
   "execution_count": 5,
   "id": "b740b6e5",
   "metadata": {},
   "outputs": [],
   "source": [
    "setwd(myPath)"
   ]
  },
  {
   "cell_type": "code",
   "execution_count": 14,
   "id": "c501e700",
   "metadata": {},
   "outputs": [],
   "source": [
    "localGeneCutoff = 30\n",
    "pValCutoff = 0.001\n",
    "colSumsThreshold = 0.001\n",
    "numOfNWs = 2\n",
    "networkName = \"TcgaMelanomaExprMeth\""
   ]
  },
  {
   "cell_type": "code",
   "execution_count": 9,
   "id": "727236ae",
   "metadata": {},
   "outputs": [
    {
     "data": {
      "text/html": [
       "<style>\n",
       ".list-inline {list-style: none; margin:0; padding: 0}\n",
       ".list-inline>li {display: inline-block}\n",
       ".list-inline>li:not(:last-child)::after {content: \"\\00b7\"; padding: 0 .5ex}\n",
       "</style>\n",
       "<ol class=list-inline><li>'TrainNetwork-1/'</li><li>'TrainNetwork-2/'</li></ol>\n"
      ],
      "text/latex": [
       "\\begin{enumerate*}\n",
       "\\item 'TrainNetwork-1/'\n",
       "\\item 'TrainNetwork-2/'\n",
       "\\end{enumerate*}\n"
      ],
      "text/markdown": [
       "1. 'TrainNetwork-1/'\n",
       "2. 'TrainNetwork-2/'\n",
       "\n",
       "\n"
      ],
      "text/plain": [
       "[1] \"TrainNetwork-1/\" \"TrainNetwork-2/\""
      ]
     },
     "metadata": {},
     "output_type": "display_data"
    }
   ],
   "source": [
    "# create standard folder structure for regNet\n",
    "projectNames = paste0(\"TrainNetwork-\",1:numOfNWs,\"/\")\n",
    "projectNames"
   ]
  },
  {
   "cell_type": "code",
   "execution_count": 26,
   "id": "0e6b0163",
   "metadata": {},
   "outputs": [
    {
     "name": "stderr",
     "output_type": "stream",
     "text": [
      "Warning message in dir.create(paste(projectPath, \"/NetworkModel/WholeNetwork\", sep = \"\")):\n",
      "“'/data/bcu_projects/MelBrainSys_PostdocProject_Gruetzmann/publications/2022-my-MelBrainSys-paper/scripts-etc-for-publication/regNet/validation-cohort/TrainNetwork-1//NetworkModel/WholeNetwork' already exists”\n",
      "Warning message in dir.create(paste(projectPath, \"/NetworkModel/WholeNetwork\", sep = \"\")):\n",
      "“'/data/bcu_projects/MelBrainSys_PostdocProject_Gruetzmann/publications/2022-my-MelBrainSys-paper/scripts-etc-for-publication/regNet/validation-cohort/TrainNetwork-2//NetworkModel/WholeNetwork' already exists”\n"
     ]
    }
   ],
   "source": [
    "# Create basic folder structure\n",
    "path = \"/data/bcu-projects/gruetzmko/MelBrainSys/regNet/new-sample-pairs/\"\n",
    "for(projectName in projectNames) {\n",
    "    createBasicFolderStructure( projectName = projectName, path = myPath,output = F)    \n",
    "}"
   ]
  },
  {
   "cell_type": "code",
   "execution_count": 18,
   "id": "b61d692a",
   "metadata": {},
   "outputs": [
    {
     "data": {
      "text/html": [
       "<style>\n",
       ".list-inline {list-style: none; margin:0; padding: 0}\n",
       ".list-inline>li {display: inline-block}\n",
       ".list-inline>li:not(:last-child)::after {content: \"\\00b7\"; padding: 0 .5ex}\n",
       "</style>\n",
       "<ol class=list-inline><li>'P78_Br_1a'</li><li>'P78_In_3d'</li><li>'P77_Br_e'</li><li>'P77_Ly_1d'</li><li>'P74_Br_1a'</li><li>'P74_Ly_1a'</li><li>'P13_Br_2'</li><li>'P13_Ly_e'</li><li>'P111_Br_b'</li><li>'P111_Ly_1b'</li><li>'P108_Br_a'</li><li>'P108_Ly_2a'</li><li>'P101_Br_a'</li><li>'P101_Li_b'</li><li>'P106_Br_ns1'</li><li>'P106_Ly_1b'</li><li>'P107_Br_c'</li><li>'P107_Lu_a'</li></ol>\n"
      ],
      "text/latex": [
       "\\begin{enumerate*}\n",
       "\\item 'P78\\_Br\\_1a'\n",
       "\\item 'P78\\_In\\_3d'\n",
       "\\item 'P77\\_Br\\_e'\n",
       "\\item 'P77\\_Ly\\_1d'\n",
       "\\item 'P74\\_Br\\_1a'\n",
       "\\item 'P74\\_Ly\\_1a'\n",
       "\\item 'P13\\_Br\\_2'\n",
       "\\item 'P13\\_Ly\\_e'\n",
       "\\item 'P111\\_Br\\_b'\n",
       "\\item 'P111\\_Ly\\_1b'\n",
       "\\item 'P108\\_Br\\_a'\n",
       "\\item 'P108\\_Ly\\_2a'\n",
       "\\item 'P101\\_Br\\_a'\n",
       "\\item 'P101\\_Li\\_b'\n",
       "\\item 'P106\\_Br\\_ns1'\n",
       "\\item 'P106\\_Ly\\_1b'\n",
       "\\item 'P107\\_Br\\_c'\n",
       "\\item 'P107\\_Lu\\_a'\n",
       "\\end{enumerate*}\n"
      ],
      "text/markdown": [
       "1. 'P78_Br_1a'\n",
       "2. 'P78_In_3d'\n",
       "3. 'P77_Br_e'\n",
       "4. 'P77_Ly_1d'\n",
       "5. 'P74_Br_1a'\n",
       "6. 'P74_Ly_1a'\n",
       "7. 'P13_Br_2'\n",
       "8. 'P13_Ly_e'\n",
       "9. 'P111_Br_b'\n",
       "10. 'P111_Ly_1b'\n",
       "11. 'P108_Br_a'\n",
       "12. 'P108_Ly_2a'\n",
       "13. 'P101_Br_a'\n",
       "14. 'P101_Li_b'\n",
       "15. 'P106_Br_ns1'\n",
       "16. 'P106_Ly_1b'\n",
       "17. 'P107_Br_c'\n",
       "18. 'P107_Lu_a'\n",
       "\n",
       "\n"
      ],
      "text/plain": [
       " [1] \"P78_Br_1a\"   \"P78_In_3d\"   \"P77_Br_e\"    \"P77_Ly_1d\"   \"P74_Br_1a\"  \n",
       " [6] \"P74_Ly_1a\"   \"P13_Br_2\"    \"P13_Ly_e\"    \"P111_Br_b\"   \"P111_Ly_1b\" \n",
       "[11] \"P108_Br_a\"   \"P108_Ly_2a\"  \"P101_Br_a\"   \"P101_Li_b\"   \"P106_Br_ns1\"\n",
       "[16] \"P106_Ly_1b\"  \"P107_Br_c\"   \"P107_Lu_a\"  "
      ]
     },
     "metadata": {},
     "output_type": "display_data"
    }
   ],
   "source": [
    "samplePairs = list(P78_BIn = c('P78_Br_1a','P78_In_3d'), P77_BLy = c('P77_Br_e','P77_Ly_1d'),\n",
    "                  P74_BLy = c('P74_Br_1a','P74_Ly_1a'), P13_BLy = c('P13_Br_2','P13_Ly_e'),\n",
    "                  P111_BLy = c('P111_Br_b','P111_Ly_1b'), P108_B_Ly = c('P108_Br_a','P108_Ly_2a'),\n",
    "                  P101_BLi = c('P101_Br_a','P101_Li_b'),P106_BLy = c('P106_Br_ns1','P106_Ly_1b'),\n",
    "                   P107_BLu = c('P107_Br_c','P107_Lu_a'))\n",
    "usedSamples = unname(unlist(samplePairs))\n",
    "usedSamples"
   ]
  },
  {
   "cell_type": "code",
   "execution_count": 19,
   "id": "2db6f3ad",
   "metadata": {},
   "outputs": [],
   "source": [
    "myFullDataSet = loadGeneExpressionAndCopyNumberDataSet(\n",
    "    geneExpressionFile = \"MelBrainSys_ExpressionData_2022_allNeededGenes_regNet.txt\", \n",
    "    geneCopyNumberFile = \"MelBrainSys_MethylationData_2022_allNeededGenes_regNet.txt\", path = \"Data/\" )"
   ]
  },
  {
   "cell_type": "code",
   "execution_count": 27,
   "id": "0bcd767b",
   "metadata": {},
   "outputs": [],
   "source": [
    "nwFlow1sample = function(sample, logFile) {\n",
    "    starttotal = Sys.time()\n",
    "    for (netwNum in 1:numOfNWs) {\n",
    "        startt = Sys.time()\n",
    "        nwSubdir = paste0(\"TrainNetwork-\",netwNum)\n",
    "        f = file(logFile,open = \"a\")\n",
    "        writeLines(text = paste0(sample,\" \",netwNum,\" started\"), con = f)\n",
    "        close(f)\n",
    "        \n",
    "        computeBasicNetworkFlowMatrix_PatientSpecificAbsoluteImpacts(\n",
    "            patient = sample, data = myFullDataSet, dataSetName = \"MelBrainSys\", \n",
    "            networkName = networkName, pValCutoff = pValCutoff, \n",
    "            localGeneCutoff = localGeneCutoff, path = nwSubdir)\n",
    "        computeNetworkFlow_PatientSpecificAbsoluteImpacts(\n",
    "            patient = sample, dataSetName = \"MelBrainSys\", \n",
    "            networkName = networkName, pValCutoff = pValCutoff, \n",
    "            localGeneCutoff = localGeneCutoff, colSumsThreshold = colSumsThreshold, \n",
    "            path = nwSubdir, output=T)\n",
    "        \n",
    "        endt = Sys.time()\n",
    "        f = file(logFile,open = \"a\")\n",
    "        writeLines(text = paste0(\n",
    "            \"  \",as.character(round(difftime(endt, startt, units = \"min\"),1)),\n",
    "            \" min needed for NW \",netwNum,\" of sample \",sample),\n",
    "                   con = f)\n",
    "        close(f)\n",
    "        \n",
    "    }\n",
    "    endt = Sys.time()\n",
    "    f = file(logFile,open = \"a\")\n",
    "    writeLines(text = paste0(sample,\" DONE  \",\n",
    "                            as.character(round(difftime(endt, starttotal, units = \"min\"))),\n",
    "                            \"needed in total\"), con = f)\n",
    "    close(f)\n",
    "}"
   ]
  },
  {
   "cell_type": "code",
   "execution_count": 28,
   "id": "6f6148e1",
   "metadata": {},
   "outputs": [
    {
     "data": {
      "text/html": [
       "TRUE"
      ],
      "text/latex": [
       "TRUE"
      ],
      "text/markdown": [
       "TRUE"
      ],
      "text/plain": [
       "[1] TRUE"
      ]
     },
     "metadata": {},
     "output_type": "display_data"
    },
    {
     "data": {
      "text/html": [
       "'53 min needed'"
      ],
      "text/latex": [
       "'53 min needed'"
      ],
      "text/markdown": [
       "'53 min needed'"
      ],
      "text/plain": [
       "[1] \"53 min needed\""
      ]
     },
     "metadata": {},
     "output_type": "display_data"
    }
   ],
   "source": [
    "nbCPUs = 3 # already parallelized internally, don't overdo\n",
    "logFile = \"nwFlowParallel.log\"\n",
    "if(file.exists(logFile)) { file.remove(logFile)}\n",
    "\n",
    "startt = Sys.time()\n",
    "log_mclapply = mclapply(X = usedSamples, mc.cores = nbCPUs, FUN = function(sample) nwFlow1sample(sample,logFile))\n",
    "endt = Sys.time()\n",
    "\n",
    "paste0(as.character(round(difftime(endt, startt, units = \"min\"))),\" min needed\")\n",
    "# about 90 min for 10 samples, 2 networks, 160 CPUs in total"
   ]
  },
  {
   "cell_type": "code",
   "execution_count": null,
   "id": "d650dcbc",
   "metadata": {},
   "outputs": [],
   "source": []
  }
 ],
 "metadata": {
  "kernelspec": {
   "display_name": "R",
   "language": "R",
   "name": "ir"
  },
  "language_info": {
   "codemirror_mode": "r",
   "file_extension": ".r",
   "mimetype": "text/x-r-source",
   "name": "R",
   "pygments_lexer": "r",
   "version": "4.2.2"
  }
 },
 "nbformat": 4,
 "nbformat_minor": 5
}
