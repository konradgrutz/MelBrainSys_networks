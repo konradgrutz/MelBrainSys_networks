{
 "cells": [
  {
   "cell_type": "markdown",
   "id": "0e6019e5",
   "metadata": {},
   "source": [
    "### install regNet and covTest packages after having downloaded them"
   ]
  },
  {
   "cell_type": "code",
   "execution_count": 18,
   "id": "eb05669c",
   "metadata": {},
   "outputs": [],
   "source": [
    "myPath = \"/data/bcu_projects/MelBrainSys_PostdocProject_Gruetzmann/publications/2022-my-MelBrainSys-paper/scripts-etc-for-publication/\""
   ]
  },
  {
   "cell_type": "code",
   "execution_count": 20,
   "id": "47d92f59",
   "metadata": {},
   "outputs": [],
   "source": [
    "setwd(myPath)"
   ]
  },
  {
   "cell_type": "markdown",
   "id": "66747373",
   "metadata": {},
   "source": [
    "#### install covTest"
   ]
  },
  {
   "cell_type": "code",
   "execution_count": 4,
   "id": "ab6e2145",
   "metadata": {},
   "outputs": [],
   "source": [
    "install.packages(\"bin/covTest/\", repos = NULL, type=\"source\")"
   ]
  },
  {
   "cell_type": "code",
   "execution_count": 17,
   "id": "552bba00",
   "metadata": {
    "collapsed": true
   },
   "outputs": [
    {
     "name": "stderr",
     "output_type": "stream",
     "text": [
      "Loading required package: lars\n",
      "\n",
      "Loaded lars 1.3\n",
      "\n",
      "\n",
      "Loading required package: glmnet\n",
      "\n",
      "Loading required package: Matrix\n",
      "\n",
      "Loaded glmnet 4.1-6\n",
      "\n",
      "Loading required package: glmpath\n",
      "\n",
      "Loading required package: survival\n",
      "\n",
      "Loading required package: MASS\n",
      "\n"
     ]
    }
   ],
   "source": [
    "library(covTest)"
   ]
  },
  {
   "cell_type": "markdown",
   "id": "f8acbc85",
   "metadata": {},
   "source": [
    "#### install regNet"
   ]
  },
  {
   "cell_type": "code",
   "execution_count": 11,
   "id": "87c9dd22",
   "metadata": {},
   "outputs": [
    {
     "name": "stderr",
     "output_type": "stream",
     "text": [
      "Loading required package: usethis\n",
      "\n"
     ]
    }
   ],
   "source": [
    "library(devtools) # for function install()"
   ]
  },
  {
   "cell_type": "code",
   "execution_count": 9,
   "id": "f688436d",
   "metadata": {},
   "outputs": [
    {
     "data": {
      "text/html": [
       "'/data/bcu_projects/MelBrainSys_PostdocProject_Gruetzmann/publications/2022-my-MelBrainSys-paper/scripts-etc-for-publication/conda/lib/R/library'"
      ],
      "text/latex": [
       "'/data/bcu\\_projects/MelBrainSys\\_PostdocProject\\_Gruetzmann/publications/2022-my-MelBrainSys-paper/scripts-etc-for-publication/conda/lib/R/library'"
      ],
      "text/markdown": [
       "'/data/bcu_projects/MelBrainSys_PostdocProject_Gruetzmann/publications/2022-my-MelBrainSys-paper/scripts-etc-for-publication/conda/lib/R/library'"
      ],
      "text/plain": [
       "[1] \"/data/bcu_projects/MelBrainSys_PostdocProject_Gruetzmann/publications/2022-my-MelBrainSys-paper/scripts-etc-for-publication/conda/lib/R/library\""
      ]
     },
     "metadata": {},
     "output_type": "display_data"
    }
   ],
   "source": [
    ".libPaths()"
   ]
  },
  {
   "cell_type": "code",
   "execution_count": 21,
   "id": "bf2cdc6f",
   "metadata": {},
   "outputs": [
    {
     "name": "stdout",
     "output_type": "stream",
     "text": [
      "\n"
     ]
    },
    {
     "name": "stderr",
     "output_type": "stream",
     "text": [
      "Skipping 1 packages not available: covTest\n",
      "\n"
     ]
    },
    {
     "name": "stdout",
     "output_type": "stream",
     "text": [
      "\u001b[36m──\u001b[39m \u001b[36mR CMD build\u001b[39m \u001b[36m──────────────────────────────────────────────────────────────────────────────────────────────────────────────────────────────────────────────────────────────────────────────────────────────────────────────────────────────────────────────\u001b[39m\n",
      "\u001b[32m✔\u001b[39m  \u001b[90mchecking for file ‘/data/bcu_projects/MelBrainSys_PostdocProject_Gruetzmann/publications/2022-my-MelBrainSys-paper/scripts-etc-for-publication/bin/regNet-master/regNet/DESCRIPTION’\u001b[39m\u001b[36m\u001b[36m (352ms)\u001b[36m\u001b[39m\n",
      "\u001b[90m─\u001b[39m\u001b[90m  \u001b[39m\u001b[90mpreparing ‘regNet’:\u001b[39m\u001b[36m\u001b[39m\n",
      "\u001b[32m✔\u001b[39m  \u001b[90mchecking DESCRIPTION meta-information\u001b[39m\u001b[36m\u001b[39m\n",
      "\u001b[90m─\u001b[39m\u001b[90m  \u001b[39m\u001b[90mchecking for LF line-endings in source and make files and shell scripts\u001b[39m\u001b[36m\u001b[39m\n",
      "\u001b[90m─\u001b[39m\u001b[90m  \u001b[39m\u001b[90mchecking for empty or unneeded directories\u001b[39m\u001b[36m\u001b[39m\n",
      "   Omitted ‘LazyData’ from DESCRIPTION\n",
      "\u001b[90m─\u001b[39m\u001b[90m  \u001b[39m\u001b[90mbuilding ‘regNet_1.0.tar.gz’\u001b[39m\u001b[36m\u001b[39m\n",
      "   \n",
      "Running \\\n",
      "  /data/bcu_projects/MelBrainSys_PostdocProject_Gruetzmann/publications/2022-my-MelBrainSys-paper/scripts-etc-for-publication/conda/lib/R/bin/R \\\n",
      "  CMD INSTALL /tmp/RtmpYiHsh3/regNet_1.0.tar.gz --install-tests \\\n",
      "  '--library=/data/bcu_projects/MelBrainSys_PostdocProject_Gruetzmann/publications/2022-my-MelBrainSys-paper/scripts-etc-for-publication/conda/lib/R/library/'\n",
      "* installing *source* package ‘regNet’ ...\n",
      "** using staged installation\n",
      "** R\n",
      "** byte-compile and prepare package for lazy loading\n",
      "** help\n",
      "*** installing help indices\n",
      "** building package indices\n",
      "** testing if installed package can be loaded from temporary location\n",
      "** testing if installed package can be loaded from final location\n",
      "** testing if installed package keeps a record of temporary installation path\n",
      "* DONE (regNet)\n"
     ]
    }
   ],
   "source": [
    "regNetParentDir = \"bin/regNet-master/\" \n",
    "setwd(regNetParentDir)\n",
    "localRlibs = paste0(myPath,\"conda/lib/R/library/\")\n",
    "install( pkg = \"regNet\", args = c( paste0(\"--library=\",localRlibs ) ) )"
   ]
  },
  {
   "cell_type": "code",
   "execution_count": 22,
   "id": "8c46d41f",
   "metadata": {},
   "outputs": [
    {
     "data": {
      "text/html": [
       "'/data/bcu_projects/MelBrainSys_PostdocProject_Gruetzmann/publications/2022-my-MelBrainSys-paper/scripts-etc-for-publication/bin/regNet-master'"
      ],
      "text/latex": [
       "'/data/bcu\\_projects/MelBrainSys\\_PostdocProject\\_Gruetzmann/publications/2022-my-MelBrainSys-paper/scripts-etc-for-publication/bin/regNet-master'"
      ],
      "text/markdown": [
       "'/data/bcu_projects/MelBrainSys_PostdocProject_Gruetzmann/publications/2022-my-MelBrainSys-paper/scripts-etc-for-publication/bin/regNet-master'"
      ],
      "text/plain": [
       "[1] \"/data/bcu_projects/MelBrainSys_PostdocProject_Gruetzmann/publications/2022-my-MelBrainSys-paper/scripts-etc-for-publication/bin/regNet-master\""
      ]
     },
     "metadata": {},
     "output_type": "display_data"
    }
   ],
   "source": [
    "getwd()"
   ]
  }
 ],
 "metadata": {
  "kernelspec": {
   "display_name": "R",
   "language": "R",
   "name": "ir"
  },
  "language_info": {
   "codemirror_mode": "r",
   "file_extension": ".r",
   "mimetype": "text/x-r-source",
   "name": "R",
   "pygments_lexer": "r",
   "version": "4.2.2"
  }
 },
 "nbformat": 4,
 "nbformat_minor": 5
}
