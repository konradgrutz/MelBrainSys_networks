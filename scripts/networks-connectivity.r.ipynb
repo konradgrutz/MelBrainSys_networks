{
 "cells": [
  {
   "cell_type": "code",
   "execution_count": null,
   "id": "7bde71a1",
   "metadata": {},
   "outputs": [],
   "source": [
    "# creates \n",
    "#  - connectivity table for paper - SupplTable-S5-connectivity-stats.xls\n",
    "#  - DotPlot of connections - SupplFigure-S5-source-target-interactions.png\n",
    "#  - known melanoma driver gene ranking in networks - SupplTable-S6-key-driver-ranks.xls"
   ]
  },
  {
   "cell_type": "code",
   "execution_count": 71,
   "id": "76edba29",
   "metadata": {},
   "outputs": [],
   "source": [
    "library(ggplot2)\n",
    "library(gridExtra)\n",
    "library(parallel)\n",
    "library(xlsx)\n",
    "library(pheatmap)"
   ]
  },
  {
   "cell_type": "code",
   "execution_count": 82,
   "id": "61227687",
   "metadata": {},
   "outputs": [],
   "source": [
    "basePath = \"/data/bcu_projects/MelBrainSys_PostdocProject_Gruetzmann/publications/2022-my-MelBrainSys-paper/scripts-etc-for-publication/\"\n",
    "myPath = paste0(basePath,\"regNet/\")"
   ]
  },
  {
   "cell_type": "code",
   "execution_count": 83,
   "id": "88d2f3e8",
   "metadata": {},
   "outputs": [],
   "source": [
    "localRlibs = paste0(basePath,\"conda/lib/R/library/\")\n",
    "library(regNet)"
   ]
  },
  {
   "cell_type": "code",
   "execution_count": 84,
   "id": "6dd061cb",
   "metadata": {},
   "outputs": [],
   "source": [
    "setwd(myPath)"
   ]
  },
  {
   "cell_type": "code",
   "execution_count": 85,
   "id": "ae9c13fc",
   "metadata": {},
   "outputs": [],
   "source": [
    "outDirectory = paste0(basePath,\"FiguresTables/\")"
   ]
  },
  {
   "cell_type": "code",
   "execution_count": 12,
   "id": "4261e2b3",
   "metadata": {},
   "outputs": [],
   "source": [
    "output=T\n",
    "projectName = \"MyNetwork-1\"\n",
    "networkName = \"TcgaMelanomaExprMeth\"\n",
    "numOfNWs = 2"
   ]
  },
  {
   "cell_type": "code",
   "execution_count": 29,
   "id": "7ad2ad2a",
   "metadata": {},
   "outputs": [
    {
     "data": {
      "text/html": [
       "'/data/bcu_projects/MelBrainSys_PostdocProject_Gruetzmann/publications/2022-my-MelBrainSys-paper/scripts-etc-for-publication/regNet/'"
      ],
      "text/latex": [
       "'/data/bcu\\_projects/MelBrainSys\\_PostdocProject\\_Gruetzmann/publications/2022-my-MelBrainSys-paper/scripts-etc-for-publication/regNet/'"
      ],
      "text/markdown": [
       "'/data/bcu_projects/MelBrainSys_PostdocProject_Gruetzmann/publications/2022-my-MelBrainSys-paper/scripts-etc-for-publication/regNet/'"
      ],
      "text/plain": [
       "[1] \"/data/bcu_projects/MelBrainSys_PostdocProject_Gruetzmann/publications/2022-my-MelBrainSys-paper/scripts-etc-for-publication/regNet/\""
      ]
     },
     "metadata": {},
     "output_type": "display_data"
    }
   ],
   "source": [
    "myPath"
   ]
  },
  {
   "cell_type": "markdown",
   "id": "61dae880",
   "metadata": {},
   "source": [
    "### create connectivity tables"
   ]
  },
  {
   "cell_type": "code",
   "execution_count": 35,
   "id": "77913312",
   "metadata": {
    "scrolled": true
   },
   "outputs": [
    {
     "name": "stderr",
     "output_type": "stream",
     "text": [
      "calculating for TrainNetwork-1\n",
      "\n"
     ]
    },
    {
     "name": "stdout",
     "output_type": "stream",
     "text": [
      "[1] \"Load network\"\n",
      "[1] \"Remove local predictors\"\n",
      "[1] \"Determine gene-specific network connections\"\n",
      "[1] \"Save network connections:\"\n",
      "[1] \"/data/bcu_projects/MelBrainSys_PostdocProject_Gruetzmann/publications/2022-my-MelBrainSys-paper/scripts-etc-for-publication/regNet/TrainNetwork-1/NetworkConnectivity/TcgaMelanomaExprMeth_GeneSpecificNetworkConnections_PValueCutoff_TrainNetwork-1_LocalGeneCutoff_30.txt\"\n"
     ]
    },
    {
     "name": "stderr",
     "output_type": "stream",
     "text": [
      "calculating for TrainNetwork-2\n",
      "\n"
     ]
    },
    {
     "name": "stdout",
     "output_type": "stream",
     "text": [
      "[1] \"Load network\"\n",
      "[1] \"Remove local predictors\"\n",
      "[1] \"Determine gene-specific network connections\"\n",
      "[1] \"Save network connections:\"\n",
      "[1] \"/data/bcu_projects/MelBrainSys_PostdocProject_Gruetzmann/publications/2022-my-MelBrainSys-paper/scripts-etc-for-publication/regNet/TrainNetwork-2/NetworkConnectivity/TcgaMelanomaExprMeth_GeneSpecificNetworkConnections_PValueCutoff_TrainNetwork-2_LocalGeneCutoff_30.txt\"\n"
     ]
    },
    {
     "data": {
      "text/plain": [
       "Time difference of 5.037326 mins"
      ]
     },
     "metadata": {},
     "output_type": "display_data"
    }
   ],
   "source": [
    "localGeneCutoff = 30\n",
    "pValCutoff = 0.001\n",
    "nbCPUs = 10 \n",
    "\n",
    "startt = Sys.time()\n",
    "for(nwSubdir in paste0(\"TrainNetwork-\",1:numOfNWs)) {\n",
    "    path = paste0(myPath, nwSubdir)\n",
    "    message(\"calculating for \",nwSubdir)\n",
    "    getNetworkConnections( networkName = networkName, pValCutoff = nwSubdir,\n",
    "                                 localGeneCutoff = localGeneCutoff, path = path )\n",
    "}\n",
    "endt = Sys.time()\n",
    "endt-startt # 5 min for 2 networks"
   ]
  },
  {
   "cell_type": "markdown",
   "id": "b2dba00f",
   "metadata": {},
   "source": [
    "### statistics about connectivity"
   ]
  },
  {
   "cell_type": "code",
   "execution_count": 39,
   "id": "3eba3e8b",
   "metadata": {},
   "outputs": [
    {
     "data": {
      "text/html": [
       "TRUE"
      ],
      "text/latex": [
       "TRUE"
      ],
      "text/markdown": [
       "TRUE"
      ],
      "text/plain": [
       "[1] TRUE"
      ]
     },
     "metadata": {},
     "output_type": "display_data"
    }
   ],
   "source": [
    "connectFiles = paste0(\"TrainNetwork-\",1:numOfNWs,\n",
    "                      \"/NetworkConnectivity/\",networkName,\"_GeneSpecificNetworkConnections_PValueCutoff_\",pValCutoff,\n",
    "                      \"_LocalGeneCutoff_30.txt\")\n",
    "all(file.exists(connectFiles))"
   ]
  },
  {
   "cell_type": "code",
   "execution_count": 45,
   "id": "f760787a",
   "metadata": {},
   "outputs": [],
   "source": [
    "connectStats = data.frame()\n",
    "for( f in connectFiles) {\n",
    "    conn = read.csv(file = f, header = T,sep = \"\\t\",stringsAsFactors = F)\n",
    "    connectStats = \n",
    "        rbind(connectStats, \n",
    "              data.frame(inRep = sum(conn$IncomingRepressorLinks), \n",
    "                         outRep = sum(conn$OutgoingRepressorLinks),\n",
    "                         inAct = sum(conn$IncomingActivatorLinks), \n",
    "                         ourAct = sum(conn$OutgoingActivatorLinks),\n",
    "                         inLinks = sum(conn$IncomingLinks), \n",
    "                         outLinks = sum(conn$OutgoingLinks)))\n",
    "}"
   ]
  },
  {
   "cell_type": "code",
   "execution_count": 46,
   "id": "4b947a43",
   "metadata": {},
   "outputs": [
    {
     "data": {
      "text/html": [
       "<table class=\"dataframe\">\n",
       "<caption>A data.frame: 2 × 6</caption>\n",
       "<thead>\n",
       "\t<tr><th></th><th scope=col>inRep</th><th scope=col>outRep</th><th scope=col>inAct</th><th scope=col>ourAct</th><th scope=col>inLinks</th><th scope=col>outLinks</th></tr>\n",
       "\t<tr><th></th><th scope=col>&lt;int&gt;</th><th scope=col>&lt;int&gt;</th><th scope=col>&lt;int&gt;</th><th scope=col>&lt;int&gt;</th><th scope=col>&lt;int&gt;</th><th scope=col>&lt;int&gt;</th></tr>\n",
       "</thead>\n",
       "<tbody>\n",
       "\t<tr><th scope=row>1</th><td>7651</td><td>7002</td><td>25223</td><td>25212</td><td>32874</td><td>32214</td></tr>\n",
       "\t<tr><th scope=row>2</th><td>7934</td><td>7354</td><td>26108</td><td>26093</td><td>34042</td><td>33447</td></tr>\n",
       "</tbody>\n",
       "</table>\n"
      ],
      "text/latex": [
       "A data.frame: 2 × 6\n",
       "\\begin{tabular}{r|llllll}\n",
       "  & inRep & outRep & inAct & ourAct & inLinks & outLinks\\\\\n",
       "  & <int> & <int> & <int> & <int> & <int> & <int>\\\\\n",
       "\\hline\n",
       "\t1 & 7651 & 7002 & 25223 & 25212 & 32874 & 32214\\\\\n",
       "\t2 & 7934 & 7354 & 26108 & 26093 & 34042 & 33447\\\\\n",
       "\\end{tabular}\n"
      ],
      "text/markdown": [
       "\n",
       "A data.frame: 2 × 6\n",
       "\n",
       "| <!--/--> | inRep &lt;int&gt; | outRep &lt;int&gt; | inAct &lt;int&gt; | ourAct &lt;int&gt; | inLinks &lt;int&gt; | outLinks &lt;int&gt; |\n",
       "|---|---|---|---|---|---|---|\n",
       "| 1 | 7651 | 7002 | 25223 | 25212 | 32874 | 32214 |\n",
       "| 2 | 7934 | 7354 | 26108 | 26093 | 34042 | 33447 |\n",
       "\n"
      ],
      "text/plain": [
       "  inRep outRep inAct ourAct inLinks outLinks\n",
       "1 7651  7002   25223 25212  32874   32214   \n",
       "2 7934  7354   26108 26093  34042   33447   "
      ]
     },
     "metadata": {},
     "output_type": "display_data"
    },
    {
     "data": {
      "text/html": [
       "<style>\n",
       ".dl-inline {width: auto; margin:0; padding: 0}\n",
       ".dl-inline>dt, .dl-inline>dd {float: none; width: auto; display: inline-block}\n",
       ".dl-inline>dt::after {content: \":\\0020\"; padding-right: .5ex}\n",
       ".dl-inline>dt:not(:first-of-type) {padding-left: .5ex}\n",
       "</style><dl class=dl-inline><dt>inRep</dt><dd>7792</dd><dt>outRep</dt><dd>7178</dd><dt>inAct</dt><dd>25666</dd><dt>ourAct</dt><dd>25652</dd><dt>inLinks</dt><dd>33458</dd><dt>outLinks</dt><dd>32830</dd></dl>\n"
      ],
      "text/latex": [
       "\\begin{description*}\n",
       "\\item[inRep] 7792\n",
       "\\item[outRep] 7178\n",
       "\\item[inAct] 25666\n",
       "\\item[ourAct] 25652\n",
       "\\item[inLinks] 33458\n",
       "\\item[outLinks] 32830\n",
       "\\end{description*}\n"
      ],
      "text/markdown": [
       "inRep\n",
       ":   7792outRep\n",
       ":   7178inAct\n",
       ":   25666ourAct\n",
       ":   25652inLinks\n",
       ":   33458outLinks\n",
       ":   32830\n",
       "\n"
      ],
      "text/plain": [
       "   inRep   outRep    inAct   ourAct  inLinks outLinks \n",
       "    7792     7178    25666    25652    33458    32830 "
      ]
     },
     "metadata": {},
     "output_type": "display_data"
    },
    {
     "data": {
      "text/html": [
       "33458"
      ],
      "text/latex": [
       "33458"
      ],
      "text/markdown": [
       "33458"
      ],
      "text/plain": [
       "[1] 33458"
      ]
     },
     "metadata": {},
     "output_type": "display_data"
    },
    {
     "data": {
      "text/html": [
       "32830"
      ],
      "text/latex": [
       "32830"
      ],
      "text/markdown": [
       "32830"
      ],
      "text/plain": [
       "[1] 32830"
      ]
     },
     "metadata": {},
     "output_type": "display_data"
    },
    {
     "data": {
      "text/html": [
       "32830"
      ],
      "text/latex": [
       "32830"
      ],
      "text/markdown": [
       "32830"
      ],
      "text/plain": [
       "[1] 32830"
      ]
     },
     "metadata": {},
     "output_type": "display_data"
    },
    {
     "data": {
      "text/html": [
       "872"
      ],
      "text/latex": [
       "872"
      ],
      "text/markdown": [
       "872"
      ],
      "text/plain": [
       "[1] 872"
      ]
     },
     "metadata": {},
     "output_type": "display_data"
    },
    {
     "data": {
      "text/html": [
       "28"
      ],
      "text/latex": [
       "28"
      ],
      "text/markdown": [
       "28"
      ],
      "text/plain": [
       "[1] 28"
      ]
     },
     "metadata": {},
     "output_type": "display_data"
    },
    {
     "data": {
      "text/html": [
       "0"
      ],
      "text/latex": [
       "0"
      ],
      "text/markdown": [
       "0"
      ],
      "text/plain": [
       "[1] 0"
      ]
     },
     "metadata": {},
     "output_type": "display_data"
    }
   ],
   "source": [
    "head(connectStats,3)\n",
    "round(apply(connectStats,2,mean))\n",
    "sum(round(apply(connectStats,2,mean))[c(1,3)]) # sum incoming\n",
    "sum(round(apply(connectStats,2,mean))[c(2,4)]) # sum outgoing\n",
    "round(mean(apply(connectStats[c(2,4)],1,sum))) # mean of sum of outgoing\n",
    "round(sd (apply(connectStats[,c(2,4)],1,sum))) # s.d. of sum of outgoing\n",
    "round(mean(connectStats[,2]/connectStats[,4]*100)) # mean ratio of outgoing repr. vs. act\n",
    "round(sd(connectStats[,2]/connectStats[,4]*100)) # s.d. ratio of outgoing repr. vs. act"
   ]
  },
  {
   "cell_type": "code",
   "execution_count": 47,
   "id": "1ab48a16",
   "metadata": {},
   "outputs": [
    {
     "data": {
      "text/html": [
       "TRUE"
      ],
      "text/latex": [
       "TRUE"
      ],
      "text/markdown": [
       "TRUE"
      ],
      "text/plain": [
       "[1] TRUE"
      ]
     },
     "metadata": {},
     "output_type": "display_data"
    }
   ],
   "source": [
    "all(connectStats$inLinks > connectStats$outLinks)\n",
    "# there are more inbound than outbound links"
   ]
  },
  {
   "cell_type": "code",
   "execution_count": 51,
   "id": "16e06936",
   "metadata": {},
   "outputs": [
    {
     "data": {
      "text/html": [
       "<table class=\"dataframe\">\n",
       "<caption>A data.frame: 2 × 11</caption>\n",
       "<thead>\n",
       "\t<tr><th></th><th scope=col>Gene</th><th scope=col>IncomingRepressorLinks</th><th scope=col>IncomingActivatorLinks</th><th scope=col>IncomingLinks</th><th scope=col>OutgoingRepressorLinks</th><th scope=col>OutgoingActivatorLinks</th><th scope=col>OutgoingLinks</th><th scope=col>IncomingRepressorLinkGenes</th><th scope=col>IncomingActivatorLinkGenes</th><th scope=col>OutgoingRepressorLinkGenes</th><th scope=col>OutgoingActivatorLinkGenes</th></tr>\n",
       "\t<tr><th></th><th scope=col>&lt;chr&gt;</th><th scope=col>&lt;int&gt;</th><th scope=col>&lt;int&gt;</th><th scope=col>&lt;int&gt;</th><th scope=col>&lt;int&gt;</th><th scope=col>&lt;int&gt;</th><th scope=col>&lt;int&gt;</th><th scope=col>&lt;chr&gt;</th><th scope=col>&lt;chr&gt;</th><th scope=col>&lt;chr&gt;</th><th scope=col>&lt;chr&gt;</th></tr>\n",
       "</thead>\n",
       "<tbody>\n",
       "\t<tr><th scope=row>1</th><td>NOC2L </td><td>1</td><td>3</td><td>4</td><td>0</td><td>8</td><td>8</td><td>NHLRC3</td><td>ENO1;TMEM69;RRP12</td><td>     </td><td>DNAJC11;SRM;MRTO4;NUDC;DPH2;TMEM69;RRP12;NOL6</td></tr>\n",
       "\t<tr><th scope=row>2</th><td>KLHL17</td><td>0</td><td>1</td><td>1</td><td>1</td><td>5</td><td>6</td><td>      </td><td>CCDC130          </td><td>SIN3A</td><td>RNF207;ATXN7L2;PRR14;KIAA0895L;FRS3          </td></tr>\n",
       "</tbody>\n",
       "</table>\n"
      ],
      "text/latex": [
       "A data.frame: 2 × 11\n",
       "\\begin{tabular}{r|lllllllllll}\n",
       "  & Gene & IncomingRepressorLinks & IncomingActivatorLinks & IncomingLinks & OutgoingRepressorLinks & OutgoingActivatorLinks & OutgoingLinks & IncomingRepressorLinkGenes & IncomingActivatorLinkGenes & OutgoingRepressorLinkGenes & OutgoingActivatorLinkGenes\\\\\n",
       "  & <chr> & <int> & <int> & <int> & <int> & <int> & <int> & <chr> & <chr> & <chr> & <chr>\\\\\n",
       "\\hline\n",
       "\t1 & NOC2L  & 1 & 3 & 4 & 0 & 8 & 8 & NHLRC3 & ENO1;TMEM69;RRP12 &       & DNAJC11;SRM;MRTO4;NUDC;DPH2;TMEM69;RRP12;NOL6\\\\\n",
       "\t2 & KLHL17 & 0 & 1 & 1 & 1 & 5 & 6 &        & CCDC130           & SIN3A & RNF207;ATXN7L2;PRR14;KIAA0895L;FRS3          \\\\\n",
       "\\end{tabular}\n"
      ],
      "text/markdown": [
       "\n",
       "A data.frame: 2 × 11\n",
       "\n",
       "| <!--/--> | Gene &lt;chr&gt; | IncomingRepressorLinks &lt;int&gt; | IncomingActivatorLinks &lt;int&gt; | IncomingLinks &lt;int&gt; | OutgoingRepressorLinks &lt;int&gt; | OutgoingActivatorLinks &lt;int&gt; | OutgoingLinks &lt;int&gt; | IncomingRepressorLinkGenes &lt;chr&gt; | IncomingActivatorLinkGenes &lt;chr&gt; | OutgoingRepressorLinkGenes &lt;chr&gt; | OutgoingActivatorLinkGenes &lt;chr&gt; |\n",
       "|---|---|---|---|---|---|---|---|---|---|---|---|\n",
       "| 1 | NOC2L  | 1 | 3 | 4 | 0 | 8 | 8 | NHLRC3 | ENO1;TMEM69;RRP12 | <!----> | DNAJC11;SRM;MRTO4;NUDC;DPH2;TMEM69;RRP12;NOL6 |\n",
       "| 2 | KLHL17 | 0 | 1 | 1 | 1 | 5 | 6 | <!----> | CCDC130           | SIN3A | RNF207;ATXN7L2;PRR14;KIAA0895L;FRS3           |\n",
       "\n"
      ],
      "text/plain": [
       "  Gene   IncomingRepressorLinks IncomingActivatorLinks IncomingLinks\n",
       "1 NOC2L  1                      3                      4            \n",
       "2 KLHL17 0                      1                      1            \n",
       "  OutgoingRepressorLinks OutgoingActivatorLinks OutgoingLinks\n",
       "1 0                      8                      8            \n",
       "2 1                      5                      6            \n",
       "  IncomingRepressorLinkGenes IncomingActivatorLinkGenes\n",
       "1 NHLRC3                     ENO1;TMEM69;RRP12         \n",
       "2                            CCDC130                   \n",
       "  OutgoingRepressorLinkGenes OutgoingActivatorLinkGenes                   \n",
       "1                            DNAJC11;SRM;MRTO4;NUDC;DPH2;TMEM69;RRP12;NOL6\n",
       "2 SIN3A                      RNF207;ATXN7L2;PRR14;KIAA0895L;FRS3          "
      ]
     },
     "metadata": {},
     "output_type": "display_data"
    },
    {
     "data": {
      "text/html": [
       "649"
      ],
      "text/latex": [
       "649"
      ],
      "text/markdown": [
       "649"
      ],
      "text/plain": [
       "[1] 649"
      ]
     },
     "metadata": {},
     "output_type": "display_data"
    },
    {
     "data": {
      "text/html": [
       "11"
      ],
      "text/latex": [
       "11"
      ],
      "text/markdown": [
       "11"
      ],
      "text/plain": [
       "[1] 11"
      ]
     },
     "metadata": {},
     "output_type": "display_data"
    },
    {
     "data": {
      "text/html": [
       "0"
      ],
      "text/latex": [
       "0"
      ],
      "text/markdown": [
       "0"
      ],
      "text/plain": [
       "[1] 0"
      ]
     },
     "metadata": {},
     "output_type": "display_data"
    },
    {
     "data": {
      "text/html": [
       "0"
      ],
      "text/latex": [
       "0"
      ],
      "text/markdown": [
       "0"
      ],
      "text/plain": [
       "[1] 0"
      ]
     },
     "metadata": {},
     "output_type": "display_data"
    }
   ],
   "source": [
    "# for inLinks the promoter methylation is counted extra, while for outLinks not\n",
    "conn = read.csv(file = connectFiles[1], header = T,sep = \"\\t\",stringsAsFactors = F)\n",
    "head(conn,2)\n",
    "length(grep(\"GeneSpecificCopyNumber\",conn$IncomingRepressorLinkGenes))\n",
    "length(grep(\"GeneSpecificCopyNumber\",conn$IncomingActivatorLinkGenes))\n",
    "length(grep(\"GeneSpecificCopyNumber\",conn$OutgoingRepressorLinkGenes))\n",
    "length(grep(\"GeneSpecificCopyNumber\",conn$OutgoingActivatorLinkGenes))\n",
    "# only incomming links marked with methylation (\"copynumber\" in the original regNet paper)"
   ]
  },
  {
   "cell_type": "code",
   "execution_count": 52,
   "id": "b6a51073",
   "metadata": {},
   "outputs": [],
   "source": [
    "promMethPerNW = NULL\n",
    "for (f in connectFiles) {\n",
    "    conn = read.csv(file = f, header = T,sep = \"\\t\",stringsAsFactors = F)\n",
    "    promMethPerNW = c(promMethPerNW,\n",
    "                      length(grep(\"GeneSpecificCopyNumber\",conn$IncomingRepressorLinkGenes)) + \n",
    "                      length(grep(\"GeneSpecificCopyNumber\",conn$IncomingActivatorLinkGenes)))\n",
    "}"
   ]
  },
  {
   "cell_type": "code",
   "execution_count": 54,
   "id": "b9f94ee4",
   "metadata": {},
   "outputs": [
    {
     "data": {
      "text/html": [
       "<style>\n",
       ".list-inline {list-style: none; margin:0; padding: 0}\n",
       ".list-inline>li {display: inline-block}\n",
       ".list-inline>li:not(:last-child)::after {content: \"\\00b7\"; padding: 0 .5ex}\n",
       "</style>\n",
       "<ol class=list-inline><li>660</li><li>595</li></ol>\n"
      ],
      "text/latex": [
       "\\begin{enumerate*}\n",
       "\\item 660\n",
       "\\item 595\n",
       "\\end{enumerate*}\n"
      ],
      "text/markdown": [
       "1. 660\n",
       "2. 595\n",
       "\n",
       "\n"
      ],
      "text/plain": [
       "[1] 660 595"
      ]
     },
     "metadata": {},
     "output_type": "display_data"
    },
    {
     "data": {
      "text/html": [
       "628"
      ],
      "text/latex": [
       "628"
      ],
      "text/markdown": [
       "628"
      ],
      "text/plain": [
       "[1] 628"
      ]
     },
     "metadata": {},
     "output_type": "display_data"
    },
    {
     "data": {
      "text/html": [
       "46"
      ],
      "text/latex": [
       "46"
      ],
      "text/markdown": [
       "46"
      ],
      "text/plain": [
       "[1] 46"
      ]
     },
     "metadata": {},
     "output_type": "display_data"
    },
    {
     "data": {
      "text/html": [
       "2"
      ],
      "text/latex": [
       "2"
      ],
      "text/markdown": [
       "2"
      ],
      "text/plain": [
       "[1] 2"
      ]
     },
     "metadata": {},
     "output_type": "display_data"
    },
    {
     "data": {
      "text/html": [
       "<table class=\"dataframe\">\n",
       "<caption>A data.frame: 2 × 6</caption>\n",
       "<thead>\n",
       "\t<tr><th scope=col>inRep</th><th scope=col>outRep</th><th scope=col>inAct</th><th scope=col>ourAct</th><th scope=col>inLinks</th><th scope=col>outLinks</th></tr>\n",
       "\t<tr><th scope=col>&lt;int&gt;</th><th scope=col>&lt;int&gt;</th><th scope=col>&lt;int&gt;</th><th scope=col>&lt;int&gt;</th><th scope=col>&lt;int&gt;</th><th scope=col>&lt;int&gt;</th></tr>\n",
       "</thead>\n",
       "<tbody>\n",
       "\t<tr><td>7651</td><td>7002</td><td>25223</td><td>25212</td><td>32874</td><td>32214</td></tr>\n",
       "\t<tr><td>7934</td><td>7354</td><td>26108</td><td>26093</td><td>34042</td><td>33447</td></tr>\n",
       "</tbody>\n",
       "</table>\n"
      ],
      "text/latex": [
       "A data.frame: 2 × 6\n",
       "\\begin{tabular}{llllll}\n",
       " inRep & outRep & inAct & ourAct & inLinks & outLinks\\\\\n",
       " <int> & <int> & <int> & <int> & <int> & <int>\\\\\n",
       "\\hline\n",
       "\t 7651 & 7002 & 25223 & 25212 & 32874 & 32214\\\\\n",
       "\t 7934 & 7354 & 26108 & 26093 & 34042 & 33447\\\\\n",
       "\\end{tabular}\n"
      ],
      "text/markdown": [
       "\n",
       "A data.frame: 2 × 6\n",
       "\n",
       "| inRep &lt;int&gt; | outRep &lt;int&gt; | inAct &lt;int&gt; | ourAct &lt;int&gt; | inLinks &lt;int&gt; | outLinks &lt;int&gt; |\n",
       "|---|---|---|---|---|---|\n",
       "| 7651 | 7002 | 25223 | 25212 | 32874 | 32214 |\n",
       "| 7934 | 7354 | 26108 | 26093 | 34042 | 33447 |\n",
       "\n"
      ],
      "text/plain": [
       "  inRep outRep inAct ourAct inLinks outLinks\n",
       "1 7651  7002   25223 25212  32874   32214   \n",
       "2 7934  7354   26108 26093  34042   33447   "
      ]
     },
     "metadata": {},
     "output_type": "display_data"
    },
    {
     "data": {
      "text/html": [
       "TRUE"
      ],
      "text/latex": [
       "TRUE"
      ],
      "text/markdown": [
       "TRUE"
      ],
      "text/plain": [
       "[1] TRUE"
      ]
     },
     "metadata": {},
     "output_type": "display_data"
    }
   ],
   "source": [
    "promMethPerNW\n",
    "round(mean(promMethPerNW)); round(sd(promMethPerNW))\n",
    "length(promMethPerNW)\n",
    "connectStats\n",
    "all(connectStats$inLinks == connectStats$outLinks + promMethPerNW)\n",
    "# incoming links are as many more as there are promoter methyl. links"
   ]
  },
  {
   "cell_type": "code",
   "execution_count": 61,
   "id": "26f3c507",
   "metadata": {},
   "outputs": [],
   "source": [
    "# for each gene and each of the 25 NWs, how many outgoing links\n",
    "outgoingLinksPerNW = NULL\n",
    "for( f in connectFiles) {\n",
    "    tmp = read.csv(file = f, header = T,sep = \"\\t\",stringsAsFactors = F)\n",
    "    if(is.null(outgoingLinksPerNW)) { \n",
    "        outgoingLinksPerNW = matrix(data = tmp$OutgoingLinks, ncol = 1)\n",
    "        rownames(outgoingLinksPerNW) = tmp$Gene\n",
    "    } else {\n",
    "        rownames(tmp) = tmp$Gene\n",
    "        outgoingLinksPerNW = cbind(outgoingLinksPerNW,tmp[ rownames(outgoingLinksPerNW),\"OutgoingLinks\"])\n",
    "    }\n",
    "}"
   ]
  },
  {
   "cell_type": "code",
   "execution_count": 64,
   "id": "32349d1a",
   "metadata": {},
   "outputs": [
    {
     "data": {
      "text/html": [
       "<table class=\"dataframe\">\n",
       "<caption>A matrix: 6 × 2 of type int</caption>\n",
       "<tbody>\n",
       "\t<tr><th scope=row>NOC2L</th><td>8</td><td> 8</td></tr>\n",
       "\t<tr><th scope=row>KLHL17</th><td>6</td><td> 7</td></tr>\n",
       "\t<tr><th scope=row>HES4</th><td>3</td><td> 3</td></tr>\n",
       "\t<tr><th scope=row>ISG15</th><td>8</td><td>10</td></tr>\n",
       "\t<tr><th scope=row>AGRN</th><td>3</td><td> 5</td></tr>\n",
       "\t<tr><th scope=row>C1orf159</th><td>5</td><td> 4</td></tr>\n",
       "</tbody>\n",
       "</table>\n"
      ],
      "text/latex": [
       "A matrix: 6 × 2 of type int\n",
       "\\begin{tabular}{r|ll}\n",
       "\tNOC2L & 8 &  8\\\\\n",
       "\tKLHL17 & 6 &  7\\\\\n",
       "\tHES4 & 3 &  3\\\\\n",
       "\tISG15 & 8 & 10\\\\\n",
       "\tAGRN & 3 &  5\\\\\n",
       "\tC1orf159 & 5 &  4\\\\\n",
       "\\end{tabular}\n"
      ],
      "text/markdown": [
       "\n",
       "A matrix: 6 × 2 of type int\n",
       "\n",
       "| NOC2L | 8 |  8 |\n",
       "| KLHL17 | 6 |  7 |\n",
       "| HES4 | 3 |  3 |\n",
       "| ISG15 | 8 | 10 |\n",
       "| AGRN | 3 |  5 |\n",
       "| C1orf159 | 5 |  4 |\n",
       "\n"
      ],
      "text/plain": [
       "         [,1] [,2]\n",
       "NOC2L    8     8  \n",
       "KLHL17   6     7  \n",
       "HES4     3     3  \n",
       "ISG15    8    10  \n",
       "AGRN     3     5  \n",
       "C1orf159 5     4  "
      ]
     },
     "metadata": {},
     "output_type": "display_data"
    },
    {
     "data": {
      "text/html": [
       "<style>\n",
       ".dl-inline {width: auto; margin:0; padding: 0}\n",
       ".dl-inline>dt, .dl-inline>dd {float: none; width: auto; display: inline-block}\n",
       ".dl-inline>dt::after {content: \":\\0020\"; padding-right: .5ex}\n",
       ".dl-inline>dt:not(:first-of-type) {padding-left: .5ex}\n",
       "</style><dl class=dl-inline><dt>NOC2L</dt><dd>8</dd><dt>KLHL17</dt><dd>6.5</dd><dt>HES4</dt><dd>3</dd><dt>ISG15</dt><dd>9</dd><dt>AGRN</dt><dd>4</dd><dt>C1orf159</dt><dd>4.5</dd></dl>\n"
      ],
      "text/latex": [
       "\\begin{description*}\n",
       "\\item[NOC2L] 8\n",
       "\\item[KLHL17] 6.5\n",
       "\\item[HES4] 3\n",
       "\\item[ISG15] 9\n",
       "\\item[AGRN] 4\n",
       "\\item[C1orf159] 4.5\n",
       "\\end{description*}\n"
      ],
      "text/markdown": [
       "NOC2L\n",
       ":   8KLHL17\n",
       ":   6.5HES4\n",
       ":   3ISG15\n",
       ":   9AGRN\n",
       ":   4C1orf159\n",
       ":   4.5\n",
       "\n"
      ],
      "text/plain": [
       "   NOC2L   KLHL17     HES4    ISG15     AGRN C1orf159 \n",
       "     8.0      6.5      3.0      9.0      4.0      4.5 "
      ]
     },
     "metadata": {},
     "output_type": "display_data"
    },
    {
     "data": {
      "text/html": [
       "<style>\n",
       ".dl-inline {width: auto; margin:0; padding: 0}\n",
       ".dl-inline>dt, .dl-inline>dd {float: none; width: auto; display: inline-block}\n",
       ".dl-inline>dt::after {content: \":\\0020\"; padding-right: .5ex}\n",
       ".dl-inline>dt:not(:first-of-type) {padding-left: .5ex}\n",
       "</style><dl class=dl-inline><dt>NOC2L</dt><dd>8</dd><dt>KLHL17</dt><dd>6.5</dd><dt>HES4</dt><dd>3</dd><dt>ISG15</dt><dd>9</dd><dt>AGRN</dt><dd>4</dd><dt>C1orf159</dt><dd>4.5</dd></dl>\n"
      ],
      "text/latex": [
       "\\begin{description*}\n",
       "\\item[NOC2L] 8\n",
       "\\item[KLHL17] 6.5\n",
       "\\item[HES4] 3\n",
       "\\item[ISG15] 9\n",
       "\\item[AGRN] 4\n",
       "\\item[C1orf159] 4.5\n",
       "\\end{description*}\n"
      ],
      "text/markdown": [
       "NOC2L\n",
       ":   8KLHL17\n",
       ":   6.5HES4\n",
       ":   3ISG15\n",
       ":   9AGRN\n",
       ":   4C1orf159\n",
       ":   4.5\n",
       "\n"
      ],
      "text/plain": [
       "   NOC2L   KLHL17     HES4    ISG15     AGRN C1orf159 \n",
       "     8.0      6.5      3.0      9.0      4.0      4.5 "
      ]
     },
     "metadata": {},
     "output_type": "display_data"
    },
    {
     "data": {
      "text/html": [
       "<style>\n",
       ".dl-inline {width: auto; margin:0; padding: 0}\n",
       ".dl-inline>dt, .dl-inline>dd {float: none; width: auto; display: inline-block}\n",
       ".dl-inline>dt::after {content: \":\\0020\"; padding-right: .5ex}\n",
       ".dl-inline>dt:not(:first-of-type) {padding-left: .5ex}\n",
       "</style><dl class=dl-inline><dt>NOC2L</dt><dd>0</dd><dt>KLHL17</dt><dd>0.707106781186548</dd><dt>HES4</dt><dd>0</dd><dt>ISG15</dt><dd>1.4142135623731</dd><dt>AGRN</dt><dd>1.4142135623731</dd><dt>C1orf159</dt><dd>0.707106781186548</dd></dl>\n"
      ],
      "text/latex": [
       "\\begin{description*}\n",
       "\\item[NOC2L] 0\n",
       "\\item[KLHL17] 0.707106781186548\n",
       "\\item[HES4] 0\n",
       "\\item[ISG15] 1.4142135623731\n",
       "\\item[AGRN] 1.4142135623731\n",
       "\\item[C1orf159] 0.707106781186548\n",
       "\\end{description*}\n"
      ],
      "text/markdown": [
       "NOC2L\n",
       ":   0KLHL17\n",
       ":   0.707106781186548HES4\n",
       ":   0ISG15\n",
       ":   1.4142135623731AGRN\n",
       ":   1.4142135623731C1orf159\n",
       ":   0.707106781186548\n",
       "\n"
      ],
      "text/plain": [
       "    NOC2L    KLHL17      HES4     ISG15      AGRN  C1orf159 \n",
       "0.0000000 0.7071068 0.0000000 1.4142136 1.4142136 0.7071068 "
      ]
     },
     "metadata": {},
     "output_type": "display_data"
    },
    {
     "data": {
      "text/html": [
       "<style>\n",
       ".dl-inline {width: auto; margin:0; padding: 0}\n",
       ".dl-inline>dt, .dl-inline>dd {float: none; width: auto; display: inline-block}\n",
       ".dl-inline>dt::after {content: \":\\0020\"; padding-right: .5ex}\n",
       ".dl-inline>dt:not(:first-of-type) {padding-left: .5ex}\n",
       "</style><dl class=dl-inline><dt>0%</dt><dd>0</dd><dt>5%</dt><dd>1</dd><dt>10%</dt><dd>1.5</dd><dt>15%</dt><dd>2</dd><dt>20%</dt><dd>2</dd><dt>25%</dt><dd>2.5</dd><dt>30%</dt><dd>2.5</dd><dt>35%</dt><dd>3</dd><dt>40%</dt><dd>3</dd><dt>45%</dt><dd>3.5</dd><dt>50%</dt><dd>3.5</dd><dt>55%</dt><dd>4</dd><dt>60%</dt><dd>4</dd><dt>65%</dt><dd>4.5</dd><dt>70%</dt><dd>5</dd><dt>75%</dt><dd>5</dd><dt>80%</dt><dd>5.5</dd><dt>85%</dt><dd>6</dd><dt>90%</dt><dd>7</dd><dt>95%</dt><dd>8</dd><dt>100%</dt><dd>18</dd></dl>\n"
      ],
      "text/latex": [
       "\\begin{description*}\n",
       "\\item[0\\textbackslash{}\\%] 0\n",
       "\\item[5\\textbackslash{}\\%] 1\n",
       "\\item[10\\textbackslash{}\\%] 1.5\n",
       "\\item[15\\textbackslash{}\\%] 2\n",
       "\\item[20\\textbackslash{}\\%] 2\n",
       "\\item[25\\textbackslash{}\\%] 2.5\n",
       "\\item[30\\textbackslash{}\\%] 2.5\n",
       "\\item[35\\textbackslash{}\\%] 3\n",
       "\\item[40\\textbackslash{}\\%] 3\n",
       "\\item[45\\textbackslash{}\\%] 3.5\n",
       "\\item[50\\textbackslash{}\\%] 3.5\n",
       "\\item[55\\textbackslash{}\\%] 4\n",
       "\\item[60\\textbackslash{}\\%] 4\n",
       "\\item[65\\textbackslash{}\\%] 4.5\n",
       "\\item[70\\textbackslash{}\\%] 5\n",
       "\\item[75\\textbackslash{}\\%] 5\n",
       "\\item[80\\textbackslash{}\\%] 5.5\n",
       "\\item[85\\textbackslash{}\\%] 6\n",
       "\\item[90\\textbackslash{}\\%] 7\n",
       "\\item[95\\textbackslash{}\\%] 8\n",
       "\\item[100\\textbackslash{}\\%] 18\n",
       "\\end{description*}\n"
      ],
      "text/markdown": [
       "0%\n",
       ":   05%\n",
       ":   110%\n",
       ":   1.515%\n",
       ":   220%\n",
       ":   225%\n",
       ":   2.530%\n",
       ":   2.535%\n",
       ":   340%\n",
       ":   345%\n",
       ":   3.550%\n",
       ":   3.555%\n",
       ":   460%\n",
       ":   465%\n",
       ":   4.570%\n",
       ":   575%\n",
       ":   580%\n",
       ":   5.585%\n",
       ":   690%\n",
       ":   795%\n",
       ":   8100%\n",
       ":   18\n",
       "\n"
      ],
      "text/plain": [
       "  0%   5%  10%  15%  20%  25%  30%  35%  40%  45%  50%  55%  60%  65%  70%  75% \n",
       " 0.0  1.0  1.5  2.0  2.0  2.5  2.5  3.0  3.0  3.5  3.5  4.0  4.0  4.5  5.0  5.0 \n",
       " 80%  85%  90%  95% 100% \n",
       " 5.5  6.0  7.0  8.0 18.0 "
      ]
     },
     "metadata": {},
     "output_type": "display_data"
    }
   ],
   "source": [
    "head(outgoingLinksPerNW)\n",
    "outgoingLinksMedian = apply(outgoingLinksPerNW,1,median)\n",
    "outgoingLinksMean = apply(outgoingLinksPerNW,1,mean)\n",
    "outgoingLinksSD = apply(outgoingLinksPerNW,1,sd)\n",
    "head(outgoingLinksMedian)\n",
    "head(outgoingLinksMean)\n",
    "head(outgoingLinksSD)\n",
    "quantile(outgoingLinksMean, 0:20/20)"
   ]
  },
  {
   "cell_type": "markdown",
   "id": "bd20a8c3",
   "metadata": {},
   "source": [
    "## known major regulators among top genes in our NW - SupplTable-S6-key-driver-ranks.xls\n",
    "https://www.nature.com/articles/s41388-020-01490-x  presents \"key drivers of transcriptional alterations of mRNA expression in melanoma\"; transcription factors, co-activators, and chromatin regulators; they do melanoma initiation, progression or are driver genes\n",
    "MITF, TP53, CREB, MYC, cFOS, SOX10, BRN2, DNMT3A, DNMT3B, TET1, TET2, EHMT2, IDH1, ARID2, CTCF, TERT, SDHD\n",
    "\n",
    "ATF3 is Master Regulator in Metabolic Homeostasis and Cancer https://www.frontiersin.org/articles/10.3389/fendo.2020.00556/full\n",
    "\n",
    "other important genes BRAF1, NRAS, KIT, NF1"
   ]
  },
  {
   "cell_type": "code",
   "execution_count": 56,
   "id": "b427a572",
   "metadata": {},
   "outputs": [],
   "source": [
    "genesAndAliasesForPaper = list(\n",
    "    \"KIT\" = c(\"SCFR\",\"CD117\",\"C-Kit\",\"P145\",\"MASTC\"),\n",
    "    \"BRAF\" = c(\"BRAF1\", \"BRAF-1\",\"RAFB1\",\"B-RAF1\",\"B-Raf\",\"NS7\",\"P94\"), \n",
    "    \"NRAS\" = c(\"N-Ras\",\"ALPS4\",\"NRAS1\",\"HRAS1\",\"CMNS\",\"NCMS\",\"NS6\"), \n",
    "    #\"KRAS\" = c(\"KRAS\",\"C-Ki-Ras2\",\"C-K-RAS\",\"K-RAS2A\",\"K-RAS2B\",\"K-RAS4A\",\"K-RAS4B\",\"C-K-Ras\",\"KI-RAS\",\"K-Ras\",\"CFC2\",\"RALD\",\"NS3\",\"OES\",\"NS\"), \n",
    "    \"NF1\" = c(\"NFNS\",\"VRNF\",\"WSS\"), \n",
    "    \"TP53\" = c(\"P53\",\"LFS1\",\"BMFS5\",\"TRP53\",\"BCC7\"), \n",
    "    \"DNMT3A\" = c(\"DNMT3A2\",\"HESJAS\",\"TBRS\"), \n",
    "    \"DNMT3B\" = c(\"FSHD4\",\"ICF1\",\"ICF\"), \n",
    "    \"TET1\" = c(\"BA119F7.1\",\"KIAA1676\",\"CXXC6\"), \n",
    "    \"IDH1\" = c(\"PICD\",\"IDH\",\"IDCD\",\"IDPC\",\"IDP\"), \n",
    "    \"ARID2\" = c(\"BAF200\",\"KIAA1557\",\"SMARCF3\",\"FLJ30619\",\"CSS6\",\"P200\"), \n",
    "    \"CTCF\" = c(\"CFAP108\",\"FAP108\",\"MRD21\"), \n",
    "    \"CDKN2A\" = c(\"P14ARF\",\"CDK4I\",\"MTS1\",\"ARF\",\"MTS1\",\"CDKN2\",\"CMM2\",\"INK4\",\"P16\",\"P19\",\"P16INK4a\",\"MLM\",\"P19Arf\",\"INK4a\",\"TP16\"), \n",
    "    \"PTEN\" = c(\"MMAC1\",\"TEP1\",\"PTEN1\",\"MHAM\",\"BZS\",\"PTENepsilon\",\"PTENbeta\",\"CWS1\",\"GLM2\",\"DEC\"), \n",
    "    \"ATF3\" = c(\"GC01P211461\",\"GC01P208625\"),\n",
    "    \"MITF\"=c(\"BHLHe32\",\"WS2A\",\"BHLHE32\",\"WS2\",\"COMMAD\",\"MITF-A\",\"CMM8\"),\n",
    "    \"CREB\" = c(\"CREB1\",\"CREB-1\"),\n",
    "    \"MYC\" = c(\"BHLHe39\",\"C-Myc\",\"MYCC\",\"BHLHE39\",\"MRTL\"),\n",
    "    \"FOS\" = c(\"cFOS\",\"AP-1\",\"C-Fos\",\"P55\",\"G0S7\"),\n",
    "    \"SOX10\" = c(\"WS2E\",\"DOM\",\"WS4\",\"PCWH\",\"WS4C\",\"SOX-10\",\"SRY-Box 10\",\"SRY\"),\n",
    "    \"BRN2\" = c(\"POU3F2\",\"OCT7\",\"POUF3\",\"OTF7\",\"OTF-7\",\"Brain-2\",\"Brn-2\",\"Oct-7\",\"N-Oct3\"),\n",
    "    \"TET2\" = c(\"KIAA1546\",\"MDS\",\"IMD75\",\"FLJ20032\"),\n",
    "    \"EHMT2\" = c(\"KMT1C\",\"G9A\",\"C6orf30\",\"BAT8\",\"NG36\",\"G9a\",\"NG36/G9a\",\"GAT8\"),\n",
    "    \"TERT\" = c(\"HEST2\",\"TCS1\",\"EST2\",\"TRT\",\"TP2\",\"PFBMFT1\",\"DKCA2\",\"DKCB4\",\"CMM9\",\"HTRT\"),\n",
    "    \"SDHD\" = c(\"CybS\",\"CII-4\",\"PGL1\",\"QPs3\",\"SDH4\",\"PGL\",\"MC2DN3\",\"CBT1\",\"CWS3\"))"
   ]
  },
  {
   "cell_type": "code",
   "execution_count": 65,
   "id": "1071b156",
   "metadata": {},
   "outputs": [
    {
     "data": {
      "text/html": [
       "'KIT'"
      ],
      "text/latex": [
       "'KIT'"
      ],
      "text/markdown": [
       "'KIT'"
      ],
      "text/plain": [
       "[1] \"KIT\""
      ]
     },
     "metadata": {},
     "output_type": "display_data"
    },
    {
     "data": {
      "text/html": [
       "<style>\n",
       ".list-inline {list-style: none; margin:0; padding: 0}\n",
       ".list-inline>li {display: inline-block}\n",
       ".list-inline>li:not(:last-child)::after {content: \"\\00b7\"; padding: 0 .5ex}\n",
       "</style>\n",
       "<ol class=list-inline><li>'KIT'</li><li>'SCFR'</li><li>'CD117'</li><li>'C-Kit'</li><li>'P145'</li><li>'MASTC'</li></ol>\n"
      ],
      "text/latex": [
       "\\begin{enumerate*}\n",
       "\\item 'KIT'\n",
       "\\item 'SCFR'\n",
       "\\item 'CD117'\n",
       "\\item 'C-Kit'\n",
       "\\item 'P145'\n",
       "\\item 'MASTC'\n",
       "\\end{enumerate*}\n"
      ],
      "text/markdown": [
       "1. 'KIT'\n",
       "2. 'SCFR'\n",
       "3. 'CD117'\n",
       "4. 'C-Kit'\n",
       "5. 'P145'\n",
       "6. 'MASTC'\n",
       "\n",
       "\n"
      ],
      "text/plain": [
       "[1] \"KIT\"   \"SCFR\"  \"CD117\" \"C-Kit\" \"P145\"  \"MASTC\""
      ]
     },
     "metadata": {},
     "output_type": "display_data"
    },
    {
     "data": {
      "text/html": [],
      "text/latex": [],
      "text/markdown": [],
      "text/plain": [
       "integer(0)"
      ]
     },
     "metadata": {},
     "output_type": "display_data"
    }
   ],
   "source": [
    "g = names(genesAndAliasesForPaper)[1]\n",
    "g\n",
    "aliases = c(g,genesAndAliasesForPaper[[g]])\n",
    "aliases\n",
    "wh = which(toupper(aliases) %in% toupper(names(outgoingLinksMean)))\n",
    "wh"
   ]
  },
  {
   "cell_type": "code",
   "execution_count": 69,
   "id": "9e2934bf",
   "metadata": {},
   "outputs": [],
   "source": [
    "outDF = NULL\n",
    "for(g in names(genesAndAliasesForPaper)) {\n",
    "    aliases = c(g,genesAndAliasesForPaper[[g]])\n",
    "    wh = which(toupper(aliases) %in% toupper(names(outgoingLinksMean)))\n",
    "    if(length(wh)>0) {\n",
    "        \n",
    "        # find average percentile of the gene's number of outgoing links via ecdf() function\n",
    "        mean_percentile = mean(\n",
    "            sapply(1:ncol(outgoingLinksPerNW), function(i) {\n",
    "                n = outgoingLinksPerNW[aliases[wh[1]],i]\n",
    "                100*ecdf(x = outgoingLinksPerNW[,i])(n)\n",
    "            })\n",
    "        )\n",
    "\n",
    "        outDF = rbind(outDF,\n",
    "                      data.frame(stringsAsFactors = F,gene=g, aliases=paste0(aliases[-1],collapse=\",\"), \n",
    "                        mean_outgoing_links = outgoingLinksMean[aliases[wh[1]]], \n",
    "                                 sd_outgoing_links = outgoingLinksSD[aliases[wh[1]]], \n",
    "                                mean_percentile_outgoing_links = mean_percentile))\n",
    "    } else {\n",
    "        outDF = rbind(outDF,data.frame(stringsAsFactors = F,gene=g, \n",
    "               aliases=paste0(aliases[-1],collapse=\",\"), mean_outgoing_links=NA, sd_outgoing_links=NA, \n",
    "                                mean_percentile_outgoing_links = NA))\n",
    "    }\n",
    "}"
   ]
  },
  {
   "cell_type": "code",
   "execution_count": 70,
   "id": "4e29a7a0",
   "metadata": {
    "scrolled": true
   },
   "outputs": [
    {
     "data": {
      "text/html": [
       "<table class=\"dataframe\">\n",
       "<caption>A data.frame: 24 × 5</caption>\n",
       "<thead>\n",
       "\t<tr><th></th><th scope=col>gene</th><th scope=col>aliases</th><th scope=col>mean_outgoing_links</th><th scope=col>sd_outgoing_links</th><th scope=col>mean_percentile_outgoing_links</th></tr>\n",
       "\t<tr><th></th><th scope=col>&lt;chr&gt;</th><th scope=col>&lt;chr&gt;</th><th scope=col>&lt;dbl&gt;</th><th scope=col>&lt;dbl&gt;</th><th scope=col>&lt;dbl&gt;</th></tr>\n",
       "</thead>\n",
       "<tbody>\n",
       "\t<tr><th scope=row>ATF3</th><td>ATF3  </td><td>GC01P211461,GC01P208625                                                          </td><td>9.0</td><td>2.8284271</td><td>95.01879</td></tr>\n",
       "\t<tr><th scope=row>DNMT3B</th><td>DNMT3B</td><td>FSHD4,ICF1,ICF                                                                   </td><td>7.0</td><td>1.4142136</td><td>89.37099</td></tr>\n",
       "\t<tr><th scope=row>ARID2</th><td>ARID2 </td><td>BAF200,KIAA1557,SMARCF3,FLJ30619,CSS6,P200                                       </td><td>6.0</td><td>1.4142136</td><td>83.63835</td></tr>\n",
       "\t<tr><th scope=row>TET1</th><td>TET1  </td><td>BA119F7.1,KIAA1676,CXXC6                                                         </td><td>6.5</td><td>3.5355339</td><td>80.92352</td></tr>\n",
       "\t<tr><th scope=row>BRAF</th><td>BRAF  </td><td>BRAF1,BRAF-1,RAFB1,B-RAF1,B-Raf,NS7,P94                                          </td><td>6.0</td><td>2.8284271</td><td>78.63289</td></tr>\n",
       "\t<tr><th scope=row>CTCF</th><td>CTCF  </td><td>CFAP108,FAP108,MRD21                                                             </td><td>5.5</td><td>2.1213203</td><td>77.77845</td></tr>\n",
       "\t<tr><th scope=row>CREB</th><td>CREB  </td><td>CREB1,CREB-1                                                                     </td><td>4.5</td><td>2.1213203</td><td>66.94946</td></tr>\n",
       "\t<tr><th scope=row>FOS</th><td>FOS   </td><td>cFOS,AP-1,C-Fos,P55,G0S7                                                         </td><td>3.5</td><td>0.7071068</td><td>56.21137</td></tr>\n",
       "\t<tr><th scope=row>DNMT3A</th><td>DNMT3A</td><td>DNMT3A2,HESJAS,TBRS                                                              </td><td>3.5</td><td>2.1213203</td><td>53.90256</td></tr>\n",
       "\t<tr><th scope=row>IDH1</th><td>IDH1  </td><td>PICD,IDH,IDCD,IDPC,IDP                                                           </td><td>3.5</td><td>3.5355339</td><td>50.53327</td></tr>\n",
       "\t<tr><th scope=row>CDKN2A</th><td>CDKN2A</td><td>P14ARF,CDK4I,MTS1,ARF,MTS1,CDKN2,CMM2,INK4,P16,P19,P16INK4a,MLM,P19Arf,INK4a,TP16</td><td>3.0</td><td>1.4142136</td><td>47.43061</td></tr>\n",
       "\t<tr><th scope=row>BRN2</th><td>BRN2  </td><td>POU3F2,OCT7,POUF3,OTF7,OTF-7,Brain-2,Brn-2,Oct-7,N-Oct3                          </td><td>3.0</td><td>2.8284271</td><td>46.21864</td></tr>\n",
       "\t<tr><th scope=row>TP53</th><td>TP53  </td><td>P53,LFS1,BMFS5,TRP53,BCC7                                                        </td><td>2.5</td><td>0.7071068</td><td>40.30421</td></tr>\n",
       "\t<tr><th scope=row>PTEN</th><td>PTEN  </td><td>MMAC1,TEP1,PTEN1,MHAM,BZS,PTENepsilon,PTENbeta,CWS1,GLM2,DEC                     </td><td>1.5</td><td>0.7071068</td><td>23.83953</td></tr>\n",
       "\t<tr><th scope=row>NF1</th><td>NF1   </td><td>NFNS,VRNF,WSS                                                                    </td><td>1.0</td><td>0.0000000</td><td>15.76779</td></tr>\n",
       "\t<tr><th scope=row>EHMT2</th><td>EHMT2 </td><td>KMT1C,G9A,C6orf30,BAT8,NG36,G9a,NG36/G9a,GAT8                                    </td><td> NA</td><td>       NA</td><td>      NA</td></tr>\n",
       "\t<tr><th scope=row>KIT</th><td>KIT   </td><td>SCFR,CD117,C-Kit,P145,MASTC                                                      </td><td> NA</td><td>       NA</td><td>      NA</td></tr>\n",
       "\t<tr><th scope=row>MITF</th><td>MITF  </td><td>BHLHe32,WS2A,BHLHE32,WS2,COMMAD,MITF-A,CMM8                                      </td><td> NA</td><td>       NA</td><td>      NA</td></tr>\n",
       "\t<tr><th scope=row>MYC</th><td>MYC   </td><td>BHLHe39,C-Myc,MYCC,BHLHE39,MRTL                                                  </td><td> NA</td><td>       NA</td><td>      NA</td></tr>\n",
       "\t<tr><th scope=row>NRAS</th><td>NRAS  </td><td>N-Ras,ALPS4,NRAS1,HRAS1,CMNS,NCMS,NS6                                            </td><td> NA</td><td>       NA</td><td>      NA</td></tr>\n",
       "\t<tr><th scope=row>SDHD</th><td>SDHD  </td><td>CybS,CII-4,PGL1,QPs3,SDH4,PGL,MC2DN3,CBT1,CWS3                                   </td><td> NA</td><td>       NA</td><td>      NA</td></tr>\n",
       "\t<tr><th scope=row>SOX10</th><td>SOX10 </td><td>WS2E,DOM,WS4,PCWH,WS4C,SOX-10,SRY-Box 10,SRY                                     </td><td> NA</td><td>       NA</td><td>      NA</td></tr>\n",
       "\t<tr><th scope=row>TERT</th><td>TERT  </td><td>HEST2,TCS1,EST2,TRT,TP2,PFBMFT1,DKCA2,DKCB4,CMM9,HTRT                            </td><td> NA</td><td>       NA</td><td>      NA</td></tr>\n",
       "\t<tr><th scope=row>TET2</th><td>TET2  </td><td>KIAA1546,MDS,IMD75,FLJ20032                                                      </td><td> NA</td><td>       NA</td><td>      NA</td></tr>\n",
       "</tbody>\n",
       "</table>\n"
      ],
      "text/latex": [
       "A data.frame: 24 × 5\n",
       "\\begin{tabular}{r|lllll}\n",
       "  & gene & aliases & mean\\_outgoing\\_links & sd\\_outgoing\\_links & mean\\_percentile\\_outgoing\\_links\\\\\n",
       "  & <chr> & <chr> & <dbl> & <dbl> & <dbl>\\\\\n",
       "\\hline\n",
       "\tATF3 & ATF3   & GC01P211461,GC01P208625                                                           & 9.0 & 2.8284271 & 95.01879\\\\\n",
       "\tDNMT3B & DNMT3B & FSHD4,ICF1,ICF                                                                    & 7.0 & 1.4142136 & 89.37099\\\\\n",
       "\tARID2 & ARID2  & BAF200,KIAA1557,SMARCF3,FLJ30619,CSS6,P200                                        & 6.0 & 1.4142136 & 83.63835\\\\\n",
       "\tTET1 & TET1   & BA119F7.1,KIAA1676,CXXC6                                                          & 6.5 & 3.5355339 & 80.92352\\\\\n",
       "\tBRAF & BRAF   & BRAF1,BRAF-1,RAFB1,B-RAF1,B-Raf,NS7,P94                                           & 6.0 & 2.8284271 & 78.63289\\\\\n",
       "\tCTCF & CTCF   & CFAP108,FAP108,MRD21                                                              & 5.5 & 2.1213203 & 77.77845\\\\\n",
       "\tCREB & CREB   & CREB1,CREB-1                                                                      & 4.5 & 2.1213203 & 66.94946\\\\\n",
       "\tFOS & FOS    & cFOS,AP-1,C-Fos,P55,G0S7                                                          & 3.5 & 0.7071068 & 56.21137\\\\\n",
       "\tDNMT3A & DNMT3A & DNMT3A2,HESJAS,TBRS                                                               & 3.5 & 2.1213203 & 53.90256\\\\\n",
       "\tIDH1 & IDH1   & PICD,IDH,IDCD,IDPC,IDP                                                            & 3.5 & 3.5355339 & 50.53327\\\\\n",
       "\tCDKN2A & CDKN2A & P14ARF,CDK4I,MTS1,ARF,MTS1,CDKN2,CMM2,INK4,P16,P19,P16INK4a,MLM,P19Arf,INK4a,TP16 & 3.0 & 1.4142136 & 47.43061\\\\\n",
       "\tBRN2 & BRN2   & POU3F2,OCT7,POUF3,OTF7,OTF-7,Brain-2,Brn-2,Oct-7,N-Oct3                           & 3.0 & 2.8284271 & 46.21864\\\\\n",
       "\tTP53 & TP53   & P53,LFS1,BMFS5,TRP53,BCC7                                                         & 2.5 & 0.7071068 & 40.30421\\\\\n",
       "\tPTEN & PTEN   & MMAC1,TEP1,PTEN1,MHAM,BZS,PTENepsilon,PTENbeta,CWS1,GLM2,DEC                      & 1.5 & 0.7071068 & 23.83953\\\\\n",
       "\tNF1 & NF1    & NFNS,VRNF,WSS                                                                     & 1.0 & 0.0000000 & 15.76779\\\\\n",
       "\tEHMT2 & EHMT2  & KMT1C,G9A,C6orf30,BAT8,NG36,G9a,NG36/G9a,GAT8                                     &  NA &        NA &       NA\\\\\n",
       "\tKIT & KIT    & SCFR,CD117,C-Kit,P145,MASTC                                                       &  NA &        NA &       NA\\\\\n",
       "\tMITF & MITF   & BHLHe32,WS2A,BHLHE32,WS2,COMMAD,MITF-A,CMM8                                       &  NA &        NA &       NA\\\\\n",
       "\tMYC & MYC    & BHLHe39,C-Myc,MYCC,BHLHE39,MRTL                                                   &  NA &        NA &       NA\\\\\n",
       "\tNRAS & NRAS   & N-Ras,ALPS4,NRAS1,HRAS1,CMNS,NCMS,NS6                                             &  NA &        NA &       NA\\\\\n",
       "\tSDHD & SDHD   & CybS,CII-4,PGL1,QPs3,SDH4,PGL,MC2DN3,CBT1,CWS3                                    &  NA &        NA &       NA\\\\\n",
       "\tSOX10 & SOX10  & WS2E,DOM,WS4,PCWH,WS4C,SOX-10,SRY-Box 10,SRY                                      &  NA &        NA &       NA\\\\\n",
       "\tTERT & TERT   & HEST2,TCS1,EST2,TRT,TP2,PFBMFT1,DKCA2,DKCB4,CMM9,HTRT                             &  NA &        NA &       NA\\\\\n",
       "\tTET2 & TET2   & KIAA1546,MDS,IMD75,FLJ20032                                                       &  NA &        NA &       NA\\\\\n",
       "\\end{tabular}\n"
      ],
      "text/markdown": [
       "\n",
       "A data.frame: 24 × 5\n",
       "\n",
       "| <!--/--> | gene &lt;chr&gt; | aliases &lt;chr&gt; | mean_outgoing_links &lt;dbl&gt; | sd_outgoing_links &lt;dbl&gt; | mean_percentile_outgoing_links &lt;dbl&gt; |\n",
       "|---|---|---|---|---|---|\n",
       "| ATF3 | ATF3   | GC01P211461,GC01P208625                                                           | 9.0 | 2.8284271 | 95.01879 |\n",
       "| DNMT3B | DNMT3B | FSHD4,ICF1,ICF                                                                    | 7.0 | 1.4142136 | 89.37099 |\n",
       "| ARID2 | ARID2  | BAF200,KIAA1557,SMARCF3,FLJ30619,CSS6,P200                                        | 6.0 | 1.4142136 | 83.63835 |\n",
       "| TET1 | TET1   | BA119F7.1,KIAA1676,CXXC6                                                          | 6.5 | 3.5355339 | 80.92352 |\n",
       "| BRAF | BRAF   | BRAF1,BRAF-1,RAFB1,B-RAF1,B-Raf,NS7,P94                                           | 6.0 | 2.8284271 | 78.63289 |\n",
       "| CTCF | CTCF   | CFAP108,FAP108,MRD21                                                              | 5.5 | 2.1213203 | 77.77845 |\n",
       "| CREB | CREB   | CREB1,CREB-1                                                                      | 4.5 | 2.1213203 | 66.94946 |\n",
       "| FOS | FOS    | cFOS,AP-1,C-Fos,P55,G0S7                                                          | 3.5 | 0.7071068 | 56.21137 |\n",
       "| DNMT3A | DNMT3A | DNMT3A2,HESJAS,TBRS                                                               | 3.5 | 2.1213203 | 53.90256 |\n",
       "| IDH1 | IDH1   | PICD,IDH,IDCD,IDPC,IDP                                                            | 3.5 | 3.5355339 | 50.53327 |\n",
       "| CDKN2A | CDKN2A | P14ARF,CDK4I,MTS1,ARF,MTS1,CDKN2,CMM2,INK4,P16,P19,P16INK4a,MLM,P19Arf,INK4a,TP16 | 3.0 | 1.4142136 | 47.43061 |\n",
       "| BRN2 | BRN2   | POU3F2,OCT7,POUF3,OTF7,OTF-7,Brain-2,Brn-2,Oct-7,N-Oct3                           | 3.0 | 2.8284271 | 46.21864 |\n",
       "| TP53 | TP53   | P53,LFS1,BMFS5,TRP53,BCC7                                                         | 2.5 | 0.7071068 | 40.30421 |\n",
       "| PTEN | PTEN   | MMAC1,TEP1,PTEN1,MHAM,BZS,PTENepsilon,PTENbeta,CWS1,GLM2,DEC                      | 1.5 | 0.7071068 | 23.83953 |\n",
       "| NF1 | NF1    | NFNS,VRNF,WSS                                                                     | 1.0 | 0.0000000 | 15.76779 |\n",
       "| EHMT2 | EHMT2  | KMT1C,G9A,C6orf30,BAT8,NG36,G9a,NG36/G9a,GAT8                                     |  NA |        NA |       NA |\n",
       "| KIT | KIT    | SCFR,CD117,C-Kit,P145,MASTC                                                       |  NA |        NA |       NA |\n",
       "| MITF | MITF   | BHLHe32,WS2A,BHLHE32,WS2,COMMAD,MITF-A,CMM8                                       |  NA |        NA |       NA |\n",
       "| MYC | MYC    | BHLHe39,C-Myc,MYCC,BHLHE39,MRTL                                                   |  NA |        NA |       NA |\n",
       "| NRAS | NRAS   | N-Ras,ALPS4,NRAS1,HRAS1,CMNS,NCMS,NS6                                             |  NA |        NA |       NA |\n",
       "| SDHD | SDHD   | CybS,CII-4,PGL1,QPs3,SDH4,PGL,MC2DN3,CBT1,CWS3                                    |  NA |        NA |       NA |\n",
       "| SOX10 | SOX10  | WS2E,DOM,WS4,PCWH,WS4C,SOX-10,SRY-Box 10,SRY                                      |  NA |        NA |       NA |\n",
       "| TERT | TERT   | HEST2,TCS1,EST2,TRT,TP2,PFBMFT1,DKCA2,DKCB4,CMM9,HTRT                             |  NA |        NA |       NA |\n",
       "| TET2 | TET2   | KIAA1546,MDS,IMD75,FLJ20032                                                       |  NA |        NA |       NA |\n",
       "\n"
      ],
      "text/plain": [
       "       gene  \n",
       "ATF3   ATF3  \n",
       "DNMT3B DNMT3B\n",
       "ARID2  ARID2 \n",
       "TET1   TET1  \n",
       "BRAF   BRAF  \n",
       "CTCF   CTCF  \n",
       "CREB   CREB  \n",
       "FOS    FOS   \n",
       "DNMT3A DNMT3A\n",
       "IDH1   IDH1  \n",
       "CDKN2A CDKN2A\n",
       "BRN2   BRN2  \n",
       "TP53   TP53  \n",
       "PTEN   PTEN  \n",
       "NF1    NF1   \n",
       "EHMT2  EHMT2 \n",
       "KIT    KIT   \n",
       "MITF   MITF  \n",
       "MYC    MYC   \n",
       "NRAS   NRAS  \n",
       "SDHD   SDHD  \n",
       "SOX10  SOX10 \n",
       "TERT   TERT  \n",
       "TET2   TET2  \n",
       "       aliases                                                                          \n",
       "ATF3   GC01P211461,GC01P208625                                                          \n",
       "DNMT3B FSHD4,ICF1,ICF                                                                   \n",
       "ARID2  BAF200,KIAA1557,SMARCF3,FLJ30619,CSS6,P200                                       \n",
       "TET1   BA119F7.1,KIAA1676,CXXC6                                                         \n",
       "BRAF   BRAF1,BRAF-1,RAFB1,B-RAF1,B-Raf,NS7,P94                                          \n",
       "CTCF   CFAP108,FAP108,MRD21                                                             \n",
       "CREB   CREB1,CREB-1                                                                     \n",
       "FOS    cFOS,AP-1,C-Fos,P55,G0S7                                                         \n",
       "DNMT3A DNMT3A2,HESJAS,TBRS                                                              \n",
       "IDH1   PICD,IDH,IDCD,IDPC,IDP                                                           \n",
       "CDKN2A P14ARF,CDK4I,MTS1,ARF,MTS1,CDKN2,CMM2,INK4,P16,P19,P16INK4a,MLM,P19Arf,INK4a,TP16\n",
       "BRN2   POU3F2,OCT7,POUF3,OTF7,OTF-7,Brain-2,Brn-2,Oct-7,N-Oct3                          \n",
       "TP53   P53,LFS1,BMFS5,TRP53,BCC7                                                        \n",
       "PTEN   MMAC1,TEP1,PTEN1,MHAM,BZS,PTENepsilon,PTENbeta,CWS1,GLM2,DEC                     \n",
       "NF1    NFNS,VRNF,WSS                                                                    \n",
       "EHMT2  KMT1C,G9A,C6orf30,BAT8,NG36,G9a,NG36/G9a,GAT8                                    \n",
       "KIT    SCFR,CD117,C-Kit,P145,MASTC                                                      \n",
       "MITF   BHLHe32,WS2A,BHLHE32,WS2,COMMAD,MITF-A,CMM8                                      \n",
       "MYC    BHLHe39,C-Myc,MYCC,BHLHE39,MRTL                                                  \n",
       "NRAS   N-Ras,ALPS4,NRAS1,HRAS1,CMNS,NCMS,NS6                                            \n",
       "SDHD   CybS,CII-4,PGL1,QPs3,SDH4,PGL,MC2DN3,CBT1,CWS3                                   \n",
       "SOX10  WS2E,DOM,WS4,PCWH,WS4C,SOX-10,SRY-Box 10,SRY                                     \n",
       "TERT   HEST2,TCS1,EST2,TRT,TP2,PFBMFT1,DKCA2,DKCB4,CMM9,HTRT                            \n",
       "TET2   KIAA1546,MDS,IMD75,FLJ20032                                                      \n",
       "       mean_outgoing_links sd_outgoing_links mean_percentile_outgoing_links\n",
       "ATF3   9.0                 2.8284271         95.01879                      \n",
       "DNMT3B 7.0                 1.4142136         89.37099                      \n",
       "ARID2  6.0                 1.4142136         83.63835                      \n",
       "TET1   6.5                 3.5355339         80.92352                      \n",
       "BRAF   6.0                 2.8284271         78.63289                      \n",
       "CTCF   5.5                 2.1213203         77.77845                      \n",
       "CREB   4.5                 2.1213203         66.94946                      \n",
       "FOS    3.5                 0.7071068         56.21137                      \n",
       "DNMT3A 3.5                 2.1213203         53.90256                      \n",
       "IDH1   3.5                 3.5355339         50.53327                      \n",
       "CDKN2A 3.0                 1.4142136         47.43061                      \n",
       "BRN2   3.0                 2.8284271         46.21864                      \n",
       "TP53   2.5                 0.7071068         40.30421                      \n",
       "PTEN   1.5                 0.7071068         23.83953                      \n",
       "NF1    1.0                 0.0000000         15.76779                      \n",
       "EHMT2   NA                        NA               NA                      \n",
       "KIT     NA                        NA               NA                      \n",
       "MITF    NA                        NA               NA                      \n",
       "MYC     NA                        NA               NA                      \n",
       "NRAS    NA                        NA               NA                      \n",
       "SDHD    NA                        NA               NA                      \n",
       "SOX10   NA                        NA               NA                      \n",
       "TERT    NA                        NA               NA                      \n",
       "TET2    NA                        NA               NA                      "
      ]
     },
     "metadata": {},
     "output_type": "display_data"
    }
   ],
   "source": [
    "rownames(outDF) = outDF$gene\n",
    "outDF = outDF[ order(-outDF$mean_percentile_outgoing_links,outDF$gene),]\n",
    "outDF"
   ]
  },
  {
   "cell_type": "code",
   "execution_count": 86,
   "id": "284b0994",
   "metadata": {},
   "outputs": [],
   "source": [
    "write.xlsx(outDF, file = paste0(outDirectory,\"SupplTable-S6-key-driver-ranks.xls\"))"
   ]
  },
  {
   "cell_type": "markdown",
   "id": "ed32ac90",
   "metadata": {},
   "source": [
    "## DotPlot of connections  - SupplFigure-S5-source-target-interactions.png"
   ]
  },
  {
   "cell_type": "code",
   "execution_count": 88,
   "id": "7eca33ae",
   "metadata": {},
   "outputs": [
    {
     "name": "stderr",
     "output_type": "stream",
     "text": [
      "1 of 2\n",
      "\n",
      "2 of 2\n",
      "\n"
     ]
    }
   ],
   "source": [
    "conn = read.csv(file = connectFiles[1], header = T,sep = \"\\t\",stringsAsFactors = F)\n",
    "activatorConn = matrix(data=0,nrow=nrow(conn),ncol=nrow(conn),\n",
    "                       dimnames = c(list(conn$Gene),list(conn$Gene)))\n",
    "repressorConn = activatorConn\n",
    "fileCount=0\n",
    "for(f in connectFiles) {\n",
    "    fileCount = fileCount + 1\n",
    "    message(fileCount,\" of \",length(connectFiles))\n",
    "    conn = read.csv(file = f, header = T,sep = \"\\t\",stringsAsFactors = F)\n",
    "    for(i in 1:nrow(conn)) {\n",
    "        #if(i %% 1000 == 0) { message(\"   line \",i,\" of \",nrow(conn))}\n",
    "        sourceGene = conn$Gene[i]\n",
    "        targetRepressedGenes = unlist(strsplit(conn$OutgoingRepressorLinkGenes[i],\";\"))\n",
    "        targetActivatedGenes = unlist(strsplit(conn$OutgoingActivatorLinkGenes[i],\";\"))\n",
    "        if(length(targetRepressedGenes)>0) {\n",
    "            repressorConn[sourceGene,targetRepressedGenes] = repressorConn[sourceGene,targetRepressedGenes] + 1\n",
    "        }\n",
    "        if(length(targetActivatedGenes)>0) {\n",
    "            activatorConn[sourceGene,targetActivatedGenes] = activatorConn[sourceGene,targetActivatedGenes] + 1\n",
    "        }\n",
    "    }\n",
    "}\n",
    "# 1-2 min"
   ]
  },
  {
   "cell_type": "code",
   "execution_count": 89,
   "id": "612cd925",
   "metadata": {},
   "outputs": [],
   "source": [
    "# connections in > 50% of NWs:\n",
    "activatorConnBinary = ifelse(activatorConn>length(connectFiles)/2,1,0)\n",
    "repressorConnBinary = ifelse(repressorConn>length(connectFiles)/2,1,0)"
   ]
  },
  {
   "cell_type": "code",
   "execution_count": 90,
   "id": "cd827801",
   "metadata": {},
   "outputs": [
    {
     "data": {
      "text/html": [
       "7573"
      ],
      "text/latex": [
       "7573"
      ],
      "text/markdown": [
       "7573"
      ],
      "text/plain": [
       "[1] 7573"
      ]
     },
     "metadata": {},
     "output_type": "display_data"
    },
    {
     "data": {
      "text/html": [
       "51305"
      ],
      "text/latex": [
       "51305"
      ],
      "text/markdown": [
       "51305"
      ],
      "text/plain": [
       "[1] 51305"
      ]
     },
     "metadata": {},
     "output_type": "display_data"
    },
    {
     "data": {
      "text/html": [
       "771"
      ],
      "text/latex": [
       "771"
      ],
      "text/markdown": [
       "771"
      ],
      "text/plain": [
       "[1] 771"
      ]
     },
     "metadata": {},
     "output_type": "display_data"
    },
    {
     "data": {
      "text/html": [
       "14356"
      ],
      "text/latex": [
       "14356"
      ],
      "text/markdown": [
       "14356"
      ],
      "text/plain": [
       "[1] 14356"
      ]
     },
     "metadata": {},
     "output_type": "display_data"
    }
   ],
   "source": [
    "sum(activatorConnBinary) # number of consistent activators, 8658\n",
    "sum(activatorConn)\n",
    "sum(repressorConnBinary) # number of consistent repressors, 477\n",
    "sum(repressorConn)"
   ]
  },
  {
   "cell_type": "code",
   "execution_count": 92,
   "id": "1c5511e5",
   "metadata": {},
   "outputs": [
    {
     "data": {
      "text/html": [
       "4259"
      ],
      "text/latex": [
       "4259"
      ],
      "text/markdown": [
       "4259"
      ],
      "text/plain": [
       "[1] 4259"
      ]
     },
     "metadata": {},
     "output_type": "display_data"
    }
   ],
   "source": [
    "# convert to long format for plotting:\n",
    "\n",
    "connectionsActive = NULL \n",
    "for(i in 1:nrow(activatorConnBinary)){\n",
    "    wh = which(activatorConnBinary[i,]>0)\n",
    "    if(length(wh)>=1) {\n",
    "        connectionsActive =  \n",
    "            c(connectionsActive,list(\n",
    "                data.frame(stringsAsFactors = F, source = rownames(activatorConnBinary)[i], \n",
    "                             target=colnames(activatorConnBinary)[wh], type=\"activator\")))\n",
    "    }\n",
    "}\n",
    "length(connectionsActive)\n",
    "connections = do.call(rbind,connectionsActive)"
   ]
  },
  {
   "cell_type": "code",
   "execution_count": 93,
   "id": "63743cf9",
   "metadata": {},
   "outputs": [
    {
     "data": {
      "text/html": [
       "704"
      ],
      "text/latex": [
       "704"
      ],
      "text/markdown": [
       "704"
      ],
      "text/plain": [
       "[1] 704"
      ]
     },
     "metadata": {},
     "output_type": "display_data"
    }
   ],
   "source": [
    "connectionsRepr = NULL \n",
    "for(i in 1:nrow(repressorConnBinary)){\n",
    "    wh = which(repressorConnBinary[i,]>0)\n",
    "    if(length(wh)>=1) {\n",
    "        connectionsRepr =  \n",
    "            c(connectionsRepr,list(\n",
    "                data.frame(stringsAsFactors = F, source = rownames(repressorConnBinary)[i], \n",
    "                             target=colnames(repressorConnBinary)[wh], type=\"repressor\")))\n",
    "    }\n",
    "}\n",
    "length(connectionsRepr)\n",
    "connections = rbind(connections,do.call(rbind,connectionsRepr))"
   ]
  },
  {
   "cell_type": "code",
   "execution_count": 94,
   "id": "e3716405",
   "metadata": {},
   "outputs": [
    {
     "data": {
      "text/html": [
       "<table class=\"dataframe\">\n",
       "<caption>A data.frame: 100 × 3</caption>\n",
       "<thead>\n",
       "\t<tr><th></th><th scope=col>source</th><th scope=col>target</th><th scope=col>type</th></tr>\n",
       "\t<tr><th></th><th scope=col>&lt;chr&gt;</th><th scope=col>&lt;chr&gt;</th><th scope=col>&lt;chr&gt;</th></tr>\n",
       "</thead>\n",
       "<tbody>\n",
       "\t<tr><th scope=row>1</th><td>NOC2L   </td><td>NUDC   </td><td>activator</td></tr>\n",
       "\t<tr><th scope=row>2</th><td>NOC2L   </td><td>DPH2   </td><td>activator</td></tr>\n",
       "\t<tr><th scope=row>3</th><td>NOC2L   </td><td>RRP12  </td><td>activator</td></tr>\n",
       "\t<tr><th scope=row>4</th><td>NOC2L   </td><td>NOL6   </td><td>activator</td></tr>\n",
       "\t<tr><th scope=row>5</th><td>KLHL17  </td><td>RNF207 </td><td>activator</td></tr>\n",
       "\t<tr><th scope=row>6</th><td>KLHL17  </td><td>ATXN7L2</td><td>activator</td></tr>\n",
       "\t<tr><th scope=row>7</th><td>HES4    </td><td>RPP25  </td><td>activator</td></tr>\n",
       "\t<tr><th scope=row>8</th><td>ISG15   </td><td>IFI6   </td><td>activator</td></tr>\n",
       "\t<tr><th scope=row>9</th><td>ISG15   </td><td>IFITM1 </td><td>activator</td></tr>\n",
       "\t<tr><th scope=row>10</th><td>ISG15   </td><td>IRF7   </td><td>activator</td></tr>\n",
       "\t<tr><th scope=row>11</th><td>ISG15   </td><td>SP110  </td><td>activator</td></tr>\n",
       "\t<tr><th scope=row>12</th><td>ISG15   </td><td>OGFR   </td><td>activator</td></tr>\n",
       "\t<tr><th scope=row>13</th><td>C1orf159</td><td>ULK1   </td><td>activator</td></tr>\n",
       "\t<tr><th scope=row>14</th><td>C1orf159</td><td>RABEP2 </td><td>activator</td></tr>\n",
       "\t<tr><th scope=row>15</th><td>C1orf159</td><td>CAPN10 </td><td>activator</td></tr>\n",
       "\t<tr><th scope=row>16</th><td>CPSF3L  </td><td>ZBTB48 </td><td>activator</td></tr>\n",
       "\t<tr><th scope=row>17</th><td>DVL1    </td><td>PLEKHM2</td><td>activator</td></tr>\n",
       "\t<tr><th scope=row>18</th><td>DVL1    </td><td>RFNG   </td><td>activator</td></tr>\n",
       "\t<tr><th scope=row>19</th><td>DVL1    </td><td>MFSD10 </td><td>activator</td></tr>\n",
       "\t<tr><th scope=row>20</th><td>MRPL20  </td><td>PARK7  </td><td>activator</td></tr>\n",
       "\t<tr><th scope=row>21</th><td>GNB1    </td><td>KIF1B  </td><td>activator</td></tr>\n",
       "\t<tr><th scope=row>22</th><td>GNB1    </td><td>EXOSC10</td><td>activator</td></tr>\n",
       "\t<tr><th scope=row>23</th><td>C1orf86 </td><td>ZBTB17 </td><td>activator</td></tr>\n",
       "\t<tr><th scope=row>24</th><td>C1orf86 </td><td>ZNF668 </td><td>activator</td></tr>\n",
       "\t<tr><th scope=row>25</th><td>C1orf86 </td><td>ADAT3  </td><td>activator</td></tr>\n",
       "\t<tr><th scope=row>26</th><td>C1orf86 </td><td>MIF    </td><td>activator</td></tr>\n",
       "\t<tr><th scope=row>27</th><td>SKI     </td><td>ZNF436 </td><td>activator</td></tr>\n",
       "\t<tr><th scope=row>28</th><td>MORN1   </td><td>LRRC56 </td><td>activator</td></tr>\n",
       "\t<tr><th scope=row>29</th><td>LRRC47  </td><td>UBIAD1 </td><td>activator</td></tr>\n",
       "\t<tr><th scope=row>30</th><td>C1orf174</td><td>SDHB   </td><td>activator</td></tr>\n",
       "\t<tr><th scope=row>⋮</th><td>⋮</td><td>⋮</td><td>⋮</td></tr>\n",
       "\t<tr><th scope=row>71</th><td>MFN2    </td><td>TCEB3   </td><td>activator</td></tr>\n",
       "\t<tr><th scope=row>72</th><td>MFN2    </td><td>DHDDS   </td><td>activator</td></tr>\n",
       "\t<tr><th scope=row>73</th><td>TNFRSF1B</td><td>C10orf54</td><td>activator</td></tr>\n",
       "\t<tr><th scope=row>74</th><td>TNFRSF1B</td><td>IL10RA  </td><td>activator</td></tr>\n",
       "\t<tr><th scope=row>75</th><td>VPS13D  </td><td>ZNF436  </td><td>activator</td></tr>\n",
       "\t<tr><th scope=row>76</th><td>VPS13D  </td><td>JAK1    </td><td>activator</td></tr>\n",
       "\t<tr><th scope=row>77</th><td>EFHD2   </td><td>PLEKHF1 </td><td>activator</td></tr>\n",
       "\t<tr><th scope=row>78</th><td>EFHD2   </td><td>TTC7A   </td><td>activator</td></tr>\n",
       "\t<tr><th scope=row>79</th><td>DNAJC16 </td><td>PAFAH2  </td><td>activator</td></tr>\n",
       "\t<tr><th scope=row>80</th><td>DNAJC16 </td><td>SLC35D1 </td><td>activator</td></tr>\n",
       "\t<tr><th scope=row>81</th><td>AGMAT   </td><td>SH2D2A  </td><td>activator</td></tr>\n",
       "\t<tr><th scope=row>82</th><td>DDI2    </td><td>PRKAR2A </td><td>activator</td></tr>\n",
       "\t<tr><th scope=row>83</th><td>DDI2    </td><td>C9orf41 </td><td>activator</td></tr>\n",
       "\t<tr><th scope=row>84</th><td>SPEN    </td><td>RERE    </td><td>activator</td></tr>\n",
       "\t<tr><th scope=row>85</th><td>SPEN    </td><td>ARID1A  </td><td>activator</td></tr>\n",
       "\t<tr><th scope=row>86</th><td>SPEN    </td><td>INO80   </td><td>activator</td></tr>\n",
       "\t<tr><th scope=row>87</th><td>SPEN    </td><td>MAML1   </td><td>activator</td></tr>\n",
       "\t<tr><th scope=row>88</th><td>SPEN    </td><td>BCOR    </td><td>activator</td></tr>\n",
       "\t<tr><th scope=row>89</th><td>ZBTB17  </td><td>ZBTB48  </td><td>activator</td></tr>\n",
       "\t<tr><th scope=row>90</th><td>SDHB    </td><td>C1orf174</td><td>activator</td></tr>\n",
       "\t<tr><th scope=row>91</th><td>RCC2    </td><td>TDG     </td><td>activator</td></tr>\n",
       "\t<tr><th scope=row>92</th><td>RCC2    </td><td>MAZ     </td><td>activator</td></tr>\n",
       "\t<tr><th scope=row>93</th><td>IFFO2   </td><td>GLTP    </td><td>activator</td></tr>\n",
       "\t<tr><th scope=row>94</th><td>MRTO4   </td><td>ENO1    </td><td>activator</td></tr>\n",
       "\t<tr><th scope=row>95</th><td>MRTO4   </td><td>PA2G4   </td><td>activator</td></tr>\n",
       "\t<tr><th scope=row>96</th><td>OTUD3   </td><td>FAM168B </td><td>activator</td></tr>\n",
       "\t<tr><th scope=row>97</th><td>MUL1    </td><td>SLC9A1  </td><td>activator</td></tr>\n",
       "\t<tr><th scope=row>98</th><td>MUL1    </td><td>TFIP11  </td><td>activator</td></tr>\n",
       "\t<tr><th scope=row>99</th><td>KIF17   </td><td>TADA2B  </td><td>activator</td></tr>\n",
       "\t<tr><th scope=row>100</th><td>HP1BP3  </td><td>EXOSC10 </td><td>activator</td></tr>\n",
       "</tbody>\n",
       "</table>\n"
      ],
      "text/latex": [
       "A data.frame: 100 × 3\n",
       "\\begin{tabular}{r|lll}\n",
       "  & source & target & type\\\\\n",
       "  & <chr> & <chr> & <chr>\\\\\n",
       "\\hline\n",
       "\t1 & NOC2L    & NUDC    & activator\\\\\n",
       "\t2 & NOC2L    & DPH2    & activator\\\\\n",
       "\t3 & NOC2L    & RRP12   & activator\\\\\n",
       "\t4 & NOC2L    & NOL6    & activator\\\\\n",
       "\t5 & KLHL17   & RNF207  & activator\\\\\n",
       "\t6 & KLHL17   & ATXN7L2 & activator\\\\\n",
       "\t7 & HES4     & RPP25   & activator\\\\\n",
       "\t8 & ISG15    & IFI6    & activator\\\\\n",
       "\t9 & ISG15    & IFITM1  & activator\\\\\n",
       "\t10 & ISG15    & IRF7    & activator\\\\\n",
       "\t11 & ISG15    & SP110   & activator\\\\\n",
       "\t12 & ISG15    & OGFR    & activator\\\\\n",
       "\t13 & C1orf159 & ULK1    & activator\\\\\n",
       "\t14 & C1orf159 & RABEP2  & activator\\\\\n",
       "\t15 & C1orf159 & CAPN10  & activator\\\\\n",
       "\t16 & CPSF3L   & ZBTB48  & activator\\\\\n",
       "\t17 & DVL1     & PLEKHM2 & activator\\\\\n",
       "\t18 & DVL1     & RFNG    & activator\\\\\n",
       "\t19 & DVL1     & MFSD10  & activator\\\\\n",
       "\t20 & MRPL20   & PARK7   & activator\\\\\n",
       "\t21 & GNB1     & KIF1B   & activator\\\\\n",
       "\t22 & GNB1     & EXOSC10 & activator\\\\\n",
       "\t23 & C1orf86  & ZBTB17  & activator\\\\\n",
       "\t24 & C1orf86  & ZNF668  & activator\\\\\n",
       "\t25 & C1orf86  & ADAT3   & activator\\\\\n",
       "\t26 & C1orf86  & MIF     & activator\\\\\n",
       "\t27 & SKI      & ZNF436  & activator\\\\\n",
       "\t28 & MORN1    & LRRC56  & activator\\\\\n",
       "\t29 & LRRC47   & UBIAD1  & activator\\\\\n",
       "\t30 & C1orf174 & SDHB    & activator\\\\\n",
       "\t⋮ & ⋮ & ⋮ & ⋮\\\\\n",
       "\t71 & MFN2     & TCEB3    & activator\\\\\n",
       "\t72 & MFN2     & DHDDS    & activator\\\\\n",
       "\t73 & TNFRSF1B & C10orf54 & activator\\\\\n",
       "\t74 & TNFRSF1B & IL10RA   & activator\\\\\n",
       "\t75 & VPS13D   & ZNF436   & activator\\\\\n",
       "\t76 & VPS13D   & JAK1     & activator\\\\\n",
       "\t77 & EFHD2    & PLEKHF1  & activator\\\\\n",
       "\t78 & EFHD2    & TTC7A    & activator\\\\\n",
       "\t79 & DNAJC16  & PAFAH2   & activator\\\\\n",
       "\t80 & DNAJC16  & SLC35D1  & activator\\\\\n",
       "\t81 & AGMAT    & SH2D2A   & activator\\\\\n",
       "\t82 & DDI2     & PRKAR2A  & activator\\\\\n",
       "\t83 & DDI2     & C9orf41  & activator\\\\\n",
       "\t84 & SPEN     & RERE     & activator\\\\\n",
       "\t85 & SPEN     & ARID1A   & activator\\\\\n",
       "\t86 & SPEN     & INO80    & activator\\\\\n",
       "\t87 & SPEN     & MAML1    & activator\\\\\n",
       "\t88 & SPEN     & BCOR     & activator\\\\\n",
       "\t89 & ZBTB17   & ZBTB48   & activator\\\\\n",
       "\t90 & SDHB     & C1orf174 & activator\\\\\n",
       "\t91 & RCC2     & TDG      & activator\\\\\n",
       "\t92 & RCC2     & MAZ      & activator\\\\\n",
       "\t93 & IFFO2    & GLTP     & activator\\\\\n",
       "\t94 & MRTO4    & ENO1     & activator\\\\\n",
       "\t95 & MRTO4    & PA2G4    & activator\\\\\n",
       "\t96 & OTUD3    & FAM168B  & activator\\\\\n",
       "\t97 & MUL1     & SLC9A1   & activator\\\\\n",
       "\t98 & MUL1     & TFIP11   & activator\\\\\n",
       "\t99 & KIF17    & TADA2B   & activator\\\\\n",
       "\t100 & HP1BP3   & EXOSC10  & activator\\\\\n",
       "\\end{tabular}\n"
      ],
      "text/markdown": [
       "\n",
       "A data.frame: 100 × 3\n",
       "\n",
       "| <!--/--> | source &lt;chr&gt; | target &lt;chr&gt; | type &lt;chr&gt; |\n",
       "|---|---|---|---|\n",
       "| 1 | NOC2L    | NUDC    | activator |\n",
       "| 2 | NOC2L    | DPH2    | activator |\n",
       "| 3 | NOC2L    | RRP12   | activator |\n",
       "| 4 | NOC2L    | NOL6    | activator |\n",
       "| 5 | KLHL17   | RNF207  | activator |\n",
       "| 6 | KLHL17   | ATXN7L2 | activator |\n",
       "| 7 | HES4     | RPP25   | activator |\n",
       "| 8 | ISG15    | IFI6    | activator |\n",
       "| 9 | ISG15    | IFITM1  | activator |\n",
       "| 10 | ISG15    | IRF7    | activator |\n",
       "| 11 | ISG15    | SP110   | activator |\n",
       "| 12 | ISG15    | OGFR    | activator |\n",
       "| 13 | C1orf159 | ULK1    | activator |\n",
       "| 14 | C1orf159 | RABEP2  | activator |\n",
       "| 15 | C1orf159 | CAPN10  | activator |\n",
       "| 16 | CPSF3L   | ZBTB48  | activator |\n",
       "| 17 | DVL1     | PLEKHM2 | activator |\n",
       "| 18 | DVL1     | RFNG    | activator |\n",
       "| 19 | DVL1     | MFSD10  | activator |\n",
       "| 20 | MRPL20   | PARK7   | activator |\n",
       "| 21 | GNB1     | KIF1B   | activator |\n",
       "| 22 | GNB1     | EXOSC10 | activator |\n",
       "| 23 | C1orf86  | ZBTB17  | activator |\n",
       "| 24 | C1orf86  | ZNF668  | activator |\n",
       "| 25 | C1orf86  | ADAT3   | activator |\n",
       "| 26 | C1orf86  | MIF     | activator |\n",
       "| 27 | SKI      | ZNF436  | activator |\n",
       "| 28 | MORN1    | LRRC56  | activator |\n",
       "| 29 | LRRC47   | UBIAD1  | activator |\n",
       "| 30 | C1orf174 | SDHB    | activator |\n",
       "| ⋮ | ⋮ | ⋮ | ⋮ |\n",
       "| 71 | MFN2     | TCEB3    | activator |\n",
       "| 72 | MFN2     | DHDDS    | activator |\n",
       "| 73 | TNFRSF1B | C10orf54 | activator |\n",
       "| 74 | TNFRSF1B | IL10RA   | activator |\n",
       "| 75 | VPS13D   | ZNF436   | activator |\n",
       "| 76 | VPS13D   | JAK1     | activator |\n",
       "| 77 | EFHD2    | PLEKHF1  | activator |\n",
       "| 78 | EFHD2    | TTC7A    | activator |\n",
       "| 79 | DNAJC16  | PAFAH2   | activator |\n",
       "| 80 | DNAJC16  | SLC35D1  | activator |\n",
       "| 81 | AGMAT    | SH2D2A   | activator |\n",
       "| 82 | DDI2     | PRKAR2A  | activator |\n",
       "| 83 | DDI2     | C9orf41  | activator |\n",
       "| 84 | SPEN     | RERE     | activator |\n",
       "| 85 | SPEN     | ARID1A   | activator |\n",
       "| 86 | SPEN     | INO80    | activator |\n",
       "| 87 | SPEN     | MAML1    | activator |\n",
       "| 88 | SPEN     | BCOR     | activator |\n",
       "| 89 | ZBTB17   | ZBTB48   | activator |\n",
       "| 90 | SDHB     | C1orf174 | activator |\n",
       "| 91 | RCC2     | TDG      | activator |\n",
       "| 92 | RCC2     | MAZ      | activator |\n",
       "| 93 | IFFO2    | GLTP     | activator |\n",
       "| 94 | MRTO4    | ENO1     | activator |\n",
       "| 95 | MRTO4    | PA2G4    | activator |\n",
       "| 96 | OTUD3    | FAM168B  | activator |\n",
       "| 97 | MUL1     | SLC9A1   | activator |\n",
       "| 98 | MUL1     | TFIP11   | activator |\n",
       "| 99 | KIF17    | TADA2B   | activator |\n",
       "| 100 | HP1BP3   | EXOSC10  | activator |\n",
       "\n"
      ],
      "text/plain": [
       "    source   target   type     \n",
       "1   NOC2L    NUDC     activator\n",
       "2   NOC2L    DPH2     activator\n",
       "3   NOC2L    RRP12    activator\n",
       "4   NOC2L    NOL6     activator\n",
       "5   KLHL17   RNF207   activator\n",
       "6   KLHL17   ATXN7L2  activator\n",
       "7   HES4     RPP25    activator\n",
       "8   ISG15    IFI6     activator\n",
       "9   ISG15    IFITM1   activator\n",
       "10  ISG15    IRF7     activator\n",
       "11  ISG15    SP110    activator\n",
       "12  ISG15    OGFR     activator\n",
       "13  C1orf159 ULK1     activator\n",
       "14  C1orf159 RABEP2   activator\n",
       "15  C1orf159 CAPN10   activator\n",
       "16  CPSF3L   ZBTB48   activator\n",
       "17  DVL1     PLEKHM2  activator\n",
       "18  DVL1     RFNG     activator\n",
       "19  DVL1     MFSD10   activator\n",
       "20  MRPL20   PARK7    activator\n",
       "21  GNB1     KIF1B    activator\n",
       "22  GNB1     EXOSC10  activator\n",
       "23  C1orf86  ZBTB17   activator\n",
       "24  C1orf86  ZNF668   activator\n",
       "25  C1orf86  ADAT3    activator\n",
       "26  C1orf86  MIF      activator\n",
       "27  SKI      ZNF436   activator\n",
       "28  MORN1    LRRC56   activator\n",
       "29  LRRC47   UBIAD1   activator\n",
       "30  C1orf174 SDHB     activator\n",
       "⋮   ⋮        ⋮        ⋮        \n",
       "71  MFN2     TCEB3    activator\n",
       "72  MFN2     DHDDS    activator\n",
       "73  TNFRSF1B C10orf54 activator\n",
       "74  TNFRSF1B IL10RA   activator\n",
       "75  VPS13D   ZNF436   activator\n",
       "76  VPS13D   JAK1     activator\n",
       "77  EFHD2    PLEKHF1  activator\n",
       "78  EFHD2    TTC7A    activator\n",
       "79  DNAJC16  PAFAH2   activator\n",
       "80  DNAJC16  SLC35D1  activator\n",
       "81  AGMAT    SH2D2A   activator\n",
       "82  DDI2     PRKAR2A  activator\n",
       "83  DDI2     C9orf41  activator\n",
       "84  SPEN     RERE     activator\n",
       "85  SPEN     ARID1A   activator\n",
       "86  SPEN     INO80    activator\n",
       "87  SPEN     MAML1    activator\n",
       "88  SPEN     BCOR     activator\n",
       "89  ZBTB17   ZBTB48   activator\n",
       "90  SDHB     C1orf174 activator\n",
       "91  RCC2     TDG      activator\n",
       "92  RCC2     MAZ      activator\n",
       "93  IFFO2    GLTP     activator\n",
       "94  MRTO4    ENO1     activator\n",
       "95  MRTO4    PA2G4    activator\n",
       "96  OTUD3    FAM168B  activator\n",
       "97  MUL1     SLC9A1   activator\n",
       "98  MUL1     TFIP11   activator\n",
       "99  KIF17    TADA2B   activator\n",
       "100 HP1BP3   EXOSC10  activator"
      ]
     },
     "metadata": {},
     "output_type": "display_data"
    }
   ],
   "source": [
    "head(connections,100)"
   ]
  },
  {
   "cell_type": "markdown",
   "id": "4a954647",
   "metadata": {},
   "source": [
    "### sort geneAnnot by chr and pos"
   ]
  },
  {
   "cell_type": "code",
   "execution_count": 96,
   "id": "774dd513",
   "metadata": {},
   "outputs": [
    {
     "data": {
      "text/html": [
       "<table class=\"dataframe\">\n",
       "<caption>A data.frame: 3 × 3</caption>\n",
       "<thead>\n",
       "\t<tr><th></th><th scope=col>geneSymbol</th><th scope=col>chr</th><th scope=col>pos</th></tr>\n",
       "\t<tr><th></th><th scope=col>&lt;chr&gt;</th><th scope=col>&lt;chr&gt;</th><th scope=col>&lt;int&gt;</th></tr>\n",
       "</thead>\n",
       "<tbody>\n",
       "\t<tr><th scope=row>NOC2L</th><td>NOC2L </td><td>chr1</td><td>887127</td></tr>\n",
       "\t<tr><th scope=row>KLHL17</th><td>KLHL17</td><td>chr1</td><td>898531</td></tr>\n",
       "\t<tr><th scope=row>HES4</th><td>HES4  </td><td>chr1</td><td>934947</td></tr>\n",
       "</tbody>\n",
       "</table>\n"
      ],
      "text/latex": [
       "A data.frame: 3 × 3\n",
       "\\begin{tabular}{r|lll}\n",
       "  & geneSymbol & chr & pos\\\\\n",
       "  & <chr> & <chr> & <int>\\\\\n",
       "\\hline\n",
       "\tNOC2L & NOC2L  & chr1 & 887127\\\\\n",
       "\tKLHL17 & KLHL17 & chr1 & 898531\\\\\n",
       "\tHES4 & HES4   & chr1 & 934947\\\\\n",
       "\\end{tabular}\n"
      ],
      "text/markdown": [
       "\n",
       "A data.frame: 3 × 3\n",
       "\n",
       "| <!--/--> | geneSymbol &lt;chr&gt; | chr &lt;chr&gt; | pos &lt;int&gt; |\n",
       "|---|---|---|---|\n",
       "| NOC2L | NOC2L  | chr1 | 887127 |\n",
       "| KLHL17 | KLHL17 | chr1 | 898531 |\n",
       "| HES4 | HES4   | chr1 | 934947 |\n",
       "\n"
      ],
      "text/plain": [
       "       geneSymbol chr  pos   \n",
       "NOC2L  NOC2L      chr1 887127\n",
       "KLHL17 KLHL17     chr1 898531\n",
       "HES4   HES4       chr1 934947"
      ]
     },
     "metadata": {},
     "output_type": "display_data"
    },
    {
     "data": {
      "text/html": [
       "<style>\n",
       ".list-inline {list-style: none; margin:0; padding: 0}\n",
       ".list-inline>li {display: inline-block}\n",
       ".list-inline>li:not(:last-child)::after {content: \"\\00b7\"; padding: 0 .5ex}\n",
       "</style>\n",
       "<ol class=list-inline><li>'chr1'</li><li>'chr10'</li><li>'chr11'</li><li>'chr12'</li><li>'chr13'</li><li>'chr14'</li><li>'chr15'</li><li>'chr16'</li><li>'chr17'</li><li>'chr18'</li><li>'chr19'</li><li>'chr2'</li><li>'chr20'</li><li>'chr21'</li><li>'chr22'</li><li>'chr3'</li><li>'chr4'</li><li>'chr5'</li><li>'chr6'</li><li>'chr7'</li><li>'chr8'</li><li>'chr9'</li><li>'chrX'</li><li>'chrY'</li></ol>\n"
      ],
      "text/latex": [
       "\\begin{enumerate*}\n",
       "\\item 'chr1'\n",
       "\\item 'chr10'\n",
       "\\item 'chr11'\n",
       "\\item 'chr12'\n",
       "\\item 'chr13'\n",
       "\\item 'chr14'\n",
       "\\item 'chr15'\n",
       "\\item 'chr16'\n",
       "\\item 'chr17'\n",
       "\\item 'chr18'\n",
       "\\item 'chr19'\n",
       "\\item 'chr2'\n",
       "\\item 'chr20'\n",
       "\\item 'chr21'\n",
       "\\item 'chr22'\n",
       "\\item 'chr3'\n",
       "\\item 'chr4'\n",
       "\\item 'chr5'\n",
       "\\item 'chr6'\n",
       "\\item 'chr7'\n",
       "\\item 'chr8'\n",
       "\\item 'chr9'\n",
       "\\item 'chrX'\n",
       "\\item 'chrY'\n",
       "\\end{enumerate*}\n"
      ],
      "text/markdown": [
       "1. 'chr1'\n",
       "2. 'chr10'\n",
       "3. 'chr11'\n",
       "4. 'chr12'\n",
       "5. 'chr13'\n",
       "6. 'chr14'\n",
       "7. 'chr15'\n",
       "8. 'chr16'\n",
       "9. 'chr17'\n",
       "10. 'chr18'\n",
       "11. 'chr19'\n",
       "12. 'chr2'\n",
       "13. 'chr20'\n",
       "14. 'chr21'\n",
       "15. 'chr22'\n",
       "16. 'chr3'\n",
       "17. 'chr4'\n",
       "18. 'chr5'\n",
       "19. 'chr6'\n",
       "20. 'chr7'\n",
       "21. 'chr8'\n",
       "22. 'chr9'\n",
       "23. 'chrX'\n",
       "24. 'chrY'\n",
       "\n",
       "\n"
      ],
      "text/plain": [
       " [1] \"chr1\"  \"chr10\" \"chr11\" \"chr12\" \"chr13\" \"chr14\" \"chr15\" \"chr16\" \"chr17\"\n",
       "[10] \"chr18\" \"chr19\" \"chr2\"  \"chr20\" \"chr21\" \"chr22\" \"chr3\"  \"chr4\"  \"chr5\" \n",
       "[19] \"chr6\"  \"chr7\"  \"chr8\"  \"chr9\"  \"chrX\"  \"chrY\" "
      ]
     },
     "metadata": {},
     "output_type": "display_data"
    }
   ],
   "source": [
    "# gene annotation from expression file\n",
    "geneAnnot = read.csv(file = \"Data/MelBrainSys-expression.csv\", header = T,sep = \"\\t\",stringsAsFactors = F)\n",
    "geneAnnot = geneAnnot[,1:3]\n",
    "rownames(geneAnnot) = geneAnnot$geneSymbol\n",
    "head(geneAnnot,3)\n",
    "unique(geneAnnot$chr)"
   ]
  },
  {
   "cell_type": "code",
   "execution_count": 107,
   "id": "e5460c34",
   "metadata": {},
   "outputs": [
    {
     "name": "stderr",
     "output_type": "stream",
     "text": [
      "Warning message in order(as.numeric(gsub(\"chr\", \"\", geneAnnot$chr)), geneAnnot$pos):\n",
      "“NAs introduced by coercion”\n"
     ]
    },
    {
     "data": {
      "text/html": [
       "<style>\n",
       ".list-inline {list-style: none; margin:0; padding: 0}\n",
       ".list-inline>li {display: inline-block}\n",
       ".list-inline>li:not(:last-child)::after {content: \"\\00b7\"; padding: 0 .5ex}\n",
       "</style>\n",
       "<ol class=list-inline><li>'chr1'</li><li>'chr2'</li><li>'chr3'</li><li>'chr4'</li><li>'chr5'</li><li>'chr6'</li><li>'chr7'</li><li>'chr8'</li><li>'chr9'</li><li>'chr10'</li><li>'chr11'</li><li>'chr12'</li><li>'chr13'</li><li>'chr14'</li><li>'chr15'</li><li>'chr16'</li><li>'chr17'</li><li>'chr18'</li><li>'chr19'</li><li>'chr20'</li><li>'chr21'</li><li>'chr22'</li><li>'chrY'</li><li>'chrX'</li></ol>\n"
      ],
      "text/latex": [
       "\\begin{enumerate*}\n",
       "\\item 'chr1'\n",
       "\\item 'chr2'\n",
       "\\item 'chr3'\n",
       "\\item 'chr4'\n",
       "\\item 'chr5'\n",
       "\\item 'chr6'\n",
       "\\item 'chr7'\n",
       "\\item 'chr8'\n",
       "\\item 'chr9'\n",
       "\\item 'chr10'\n",
       "\\item 'chr11'\n",
       "\\item 'chr12'\n",
       "\\item 'chr13'\n",
       "\\item 'chr14'\n",
       "\\item 'chr15'\n",
       "\\item 'chr16'\n",
       "\\item 'chr17'\n",
       "\\item 'chr18'\n",
       "\\item 'chr19'\n",
       "\\item 'chr20'\n",
       "\\item 'chr21'\n",
       "\\item 'chr22'\n",
       "\\item 'chrY'\n",
       "\\item 'chrX'\n",
       "\\end{enumerate*}\n"
      ],
      "text/markdown": [
       "1. 'chr1'\n",
       "2. 'chr2'\n",
       "3. 'chr3'\n",
       "4. 'chr4'\n",
       "5. 'chr5'\n",
       "6. 'chr6'\n",
       "7. 'chr7'\n",
       "8. 'chr8'\n",
       "9. 'chr9'\n",
       "10. 'chr10'\n",
       "11. 'chr11'\n",
       "12. 'chr12'\n",
       "13. 'chr13'\n",
       "14. 'chr14'\n",
       "15. 'chr15'\n",
       "16. 'chr16'\n",
       "17. 'chr17'\n",
       "18. 'chr18'\n",
       "19. 'chr19'\n",
       "20. 'chr20'\n",
       "21. 'chr21'\n",
       "22. 'chr22'\n",
       "23. 'chrY'\n",
       "24. 'chrX'\n",
       "\n",
       "\n"
      ],
      "text/plain": [
       " [1] \"chr1\"  \"chr2\"  \"chr3\"  \"chr4\"  \"chr5\"  \"chr6\"  \"chr7\"  \"chr8\"  \"chr9\" \n",
       "[10] \"chr10\" \"chr11\" \"chr12\" \"chr13\" \"chr14\" \"chr15\" \"chr16\" \"chr17\" \"chr18\"\n",
       "[19] \"chr19\" \"chr20\" \"chr21\" \"chr22\" \"chrY\"  \"chrX\" "
      ]
     },
     "metadata": {},
     "output_type": "display_data"
    },
    {
     "data": {
      "text/html": [
       "<style>\n",
       ".list-inline {list-style: none; margin:0; padding: 0}\n",
       ".list-inline>li {display: inline-block}\n",
       ".list-inline>li:not(:last-child)::after {content: \"\\00b7\"; padding: 0 .5ex}\n",
       "</style>\n",
       "<ol class=list-inline><li>'chr1'</li><li>'chr2'</li><li>'chr3'</li><li>'chr4'</li><li>'chr5'</li><li>'chr6'</li><li>'chr7'</li><li>'chr8'</li><li>'chr9'</li><li>'chr10'</li><li>'chr11'</li><li>'chr12'</li><li>'chr13'</li><li>'chr14'</li><li>'chr15'</li><li>'chr16'</li><li>'chr17'</li><li>'chr18'</li><li>'chr19'</li><li>'chr20'</li><li>'chr21'</li><li>'chr22'</li><li>'chrX'</li><li>'chrY'</li></ol>\n"
      ],
      "text/latex": [
       "\\begin{enumerate*}\n",
       "\\item 'chr1'\n",
       "\\item 'chr2'\n",
       "\\item 'chr3'\n",
       "\\item 'chr4'\n",
       "\\item 'chr5'\n",
       "\\item 'chr6'\n",
       "\\item 'chr7'\n",
       "\\item 'chr8'\n",
       "\\item 'chr9'\n",
       "\\item 'chr10'\n",
       "\\item 'chr11'\n",
       "\\item 'chr12'\n",
       "\\item 'chr13'\n",
       "\\item 'chr14'\n",
       "\\item 'chr15'\n",
       "\\item 'chr16'\n",
       "\\item 'chr17'\n",
       "\\item 'chr18'\n",
       "\\item 'chr19'\n",
       "\\item 'chr20'\n",
       "\\item 'chr21'\n",
       "\\item 'chr22'\n",
       "\\item 'chrX'\n",
       "\\item 'chrY'\n",
       "\\end{enumerate*}\n"
      ],
      "text/markdown": [
       "1. 'chr1'\n",
       "2. 'chr2'\n",
       "3. 'chr3'\n",
       "4. 'chr4'\n",
       "5. 'chr5'\n",
       "6. 'chr6'\n",
       "7. 'chr7'\n",
       "8. 'chr8'\n",
       "9. 'chr9'\n",
       "10. 'chr10'\n",
       "11. 'chr11'\n",
       "12. 'chr12'\n",
       "13. 'chr13'\n",
       "14. 'chr14'\n",
       "15. 'chr15'\n",
       "16. 'chr16'\n",
       "17. 'chr17'\n",
       "18. 'chr18'\n",
       "19. 'chr19'\n",
       "20. 'chr20'\n",
       "21. 'chr21'\n",
       "22. 'chr22'\n",
       "23. 'chrX'\n",
       "24. 'chrY'\n",
       "\n",
       "\n"
      ],
      "text/plain": [
       " [1] \"chr1\"  \"chr2\"  \"chr3\"  \"chr4\"  \"chr5\"  \"chr6\"  \"chr7\"  \"chr8\"  \"chr9\" \n",
       "[10] \"chr10\" \"chr11\" \"chr12\" \"chr13\" \"chr14\" \"chr15\" \"chr16\" \"chr17\" \"chr18\"\n",
       "[19] \"chr19\" \"chr20\" \"chr21\" \"chr22\" \"chrX\"  \"chrY\" "
      ]
     },
     "metadata": {},
     "output_type": "display_data"
    }
   ],
   "source": [
    "# sort annotation by chromosomes:\n",
    "o = order(as.numeric(gsub(\"chr\",\"\",geneAnnot$chr)), geneAnnot$pos)\n",
    "geneAnnot = geneAnnot[o,]\n",
    "unique(geneAnnot$chr)\n",
    "# move chrY last\n",
    "wh = which(geneAnnot$chr == \"chrY\")\n",
    "geneAnnot = geneAnnot[ c(1:(min(wh)-1),(max(wh)+1):nrow(geneAnnot),wh),]\n",
    "unique(geneAnnot$chr)"
   ]
  },
  {
   "cell_type": "code",
   "execution_count": 109,
   "id": "c1d29116",
   "metadata": {},
   "outputs": [
    {
     "data": {
      "text/html": [
       "<style>\n",
       ".dl-inline {width: auto; margin:0; padding: 0}\n",
       ".dl-inline>dt, .dl-inline>dd {float: none; width: auto; display: inline-block}\n",
       ".dl-inline>dt::after {content: \":\\0020\"; padding-right: .5ex}\n",
       ".dl-inline>dt:not(:first-of-type) {padding-left: .5ex}\n",
       "</style><dl class=dl-inline><dt>NOC2L</dt><dd>1</dd><dt>KLHL17</dt><dd>2</dd><dt>HES4</dt><dd>3</dd><dt>ISG15</dt><dd>4</dd><dt>AGRN</dt><dd>5</dd><dt>C1orf159</dt><dd>6</dd></dl>\n"
      ],
      "text/latex": [
       "\\begin{description*}\n",
       "\\item[NOC2L] 1\n",
       "\\item[KLHL17] 2\n",
       "\\item[HES4] 3\n",
       "\\item[ISG15] 4\n",
       "\\item[AGRN] 5\n",
       "\\item[C1orf159] 6\n",
       "\\end{description*}\n"
      ],
      "text/markdown": [
       "NOC2L\n",
       ":   1KLHL17\n",
       ":   2HES4\n",
       ":   3ISG15\n",
       ":   4AGRN\n",
       ":   5C1orf159\n",
       ":   6\n",
       "\n"
      ],
      "text/plain": [
       "   NOC2L   KLHL17     HES4    ISG15     AGRN C1orf159 \n",
       "       1        2        3        4        5        6 "
      ]
     },
     "metadata": {},
     "output_type": "display_data"
    },
    {
     "data": {
      "text/html": [
       "<style>\n",
       ".list-inline {list-style: none; margin:0; padding: 0}\n",
       ".list-inline>li {display: inline-block}\n",
       ".list-inline>li:not(:last-child)::after {content: \"\\00b7\"; padding: 0 .5ex}\n",
       "</style>\n",
       "<ol class=list-inline><li>1</li><li>2</li><li>3</li><li>4</li><li>5</li><li>6</li></ol>\n"
      ],
      "text/latex": [
       "\\begin{enumerate*}\n",
       "\\item 1\n",
       "\\item 2\n",
       "\\item 3\n",
       "\\item 4\n",
       "\\item 5\n",
       "\\item 6\n",
       "\\end{enumerate*}\n"
      ],
      "text/markdown": [
       "1. 1\n",
       "2. 2\n",
       "3. 3\n",
       "4. 4\n",
       "5. 5\n",
       "6. 6\n",
       "\n",
       "\n"
      ],
      "text/plain": [
       "[1] 1 2 3 4 5 6"
      ]
     },
     "metadata": {},
     "output_type": "display_data"
    }
   ],
   "source": [
    "# get 1 number for each gene, so we can plot them normally\n",
    "genesNum = 1:nrow(geneAnnot)\n",
    "names(genesNum) = geneAnnot$geneSymbol\n",
    "head(genesNum[ geneAnnot$geneSymbol[1:10]])\n",
    "head(as.numeric(genesNum))"
   ]
  },
  {
   "cell_type": "code",
   "execution_count": 98,
   "id": "ee238b57",
   "metadata": {},
   "outputs": [],
   "source": [
    "typeCol = c(\"activator\"=\"red\", \"repressor\"=\"blue\")"
   ]
  },
  {
   "cell_type": "code",
   "execution_count": 110,
   "id": "6795e459",
   "metadata": {},
   "outputs": [],
   "source": [
    "chrBorders = c(0,sapply(unique(geneAnnot$chr),function(chr) max(which(geneAnnot$chr == chr)))+0.5)\n",
    "chrMiddles = sapply(unique(geneAnnot$chr),function(chr) mean(range(which(geneAnnot$chr == chr))))"
   ]
  },
  {
   "cell_type": "code",
   "execution_count": 111,
   "id": "054c3bf7",
   "metadata": {},
   "outputs": [],
   "source": [
    "plotInteractions = function() {\n",
    "    par(mar=c(4,4,1,1)) # slim border\n",
    "    # empty plot to get the limit right:\n",
    "    plot(NA, xlim=c(1,nrow(geneAnnot)), ylim=c(1,nrow(geneAnnot)),\n",
    "         xlab = \"source genes\", ylab  = \"target genes\", xaxt='n', yaxt='n')\n",
    "    # rectangles for chromosomes:\n",
    "    for(i in 1:(length(chrBorders-1))) {\n",
    "        rect(xleft = chrBorders[i], ybottom = chrBorders[i], xright = chrBorders[i+1], ytop = chrBorders[i+1])\n",
    "    }\n",
    "    # points for interactions;\n",
    "    points(x = genesNum[connections$source], y = genesNum[ connections$target],\n",
    "         bg = typeCol[connections$type], pch=22, col=NA,cex=0.3)\n",
    "    axis(side = 1,at = chrBorders, labels=F, tick = T)\n",
    "    axis(side = 1,at = chrMiddles, labels = gsub(\"chr\",\"\",unique(geneAnnot$chr)), tick = F)\n",
    "    axis(side = 2,at = chrBorders, labels=F)\n",
    "    axis(side = 2,at = chrMiddles, labels = gsub(\"chr\",\"\",unique(geneAnnot$chr)), tick = F)\n",
    "    \n",
    "}"
   ]
  },
  {
   "cell_type": "code",
   "execution_count": 112,
   "id": "49ced242",
   "metadata": {},
   "outputs": [
    {
     "data": {
      "image/png": "[encoded data removed]",
      "text/plain": [
       "plot without title"
      ]
     },
     "metadata": {
      "image/png": {
       "height": 420,
       "width": 420
      }
     },
     "output_type": "display_data"
    }
   ],
   "source": [
    "plotInteractions()"
   ]
  },
  {
   "cell_type": "code",
   "execution_count": 113,
   "id": "7bfb678d",
   "metadata": {},
   "outputs": [
    {
     "data": {
      "text/html": [
       "<strong>png:</strong> 2"
      ],
      "text/latex": [
       "\\textbf{png:} 2"
      ],
      "text/markdown": [
       "**png:** 2"
      ],
      "text/plain": [
       "png \n",
       "  2 "
      ]
     },
     "metadata": {},
     "output_type": "display_data"
    }
   ],
   "source": [
    "png(width = 2400, height = 2400, res = 300, \n",
    "    filename = paste0(outDirectory,\"/SupplFigure-S6-source-target-interactions.png\"))\n",
    "plotInteractions()\n",
    "dev.off()"
   ]
  },
  {
   "cell_type": "markdown",
   "id": "a2ac87bc",
   "metadata": {},
   "source": [
    "## connectivity table for paper  - SupplTable-S5-connectivity-stats.xls\n",
    "average out/in links, and genes that appear in >50% of networks"
   ]
  },
  {
   "cell_type": "code",
   "execution_count": 121,
   "id": "8f175af5",
   "metadata": {},
   "outputs": [
    {
     "data": {
      "text/html": [
       "2"
      ],
      "text/latex": [
       "2"
      ],
      "text/markdown": [
       "2"
      ],
      "text/plain": [
       "[1] 2"
      ]
     },
     "metadata": {},
     "output_type": "display_data"
    }
   ],
   "source": [
    "numOfNWs"
   ]
  },
  {
   "cell_type": "code",
   "execution_count": 122,
   "id": "12c40717",
   "metadata": {},
   "outputs": [],
   "source": [
    "linkStat3d = array(data=0,dim=c(nrow(conn),6,numOfNWs), \n",
    "      dimnames = c(list(conn$Gene),\n",
    "                   list(c(\"IncomingRepressorLinks\",\"IncomingActivatorLinks\",\"IncomingLinks\",\"OutgoingRepressorLinks\",\n",
    "                        \"OutgoingActivatorLinks\",\"OutgoingLinks\")),\n",
    "                      list(as.character(1:numOfNWs))))"
   ]
  },
  {
   "cell_type": "code",
   "execution_count": 123,
   "id": "6f7c58f8",
   "metadata": {},
   "outputs": [],
   "source": [
    "nwIdx = 0\n",
    "for( f in connectFiles) {\n",
    "    nwIdx = nwIdx + 1\n",
    "    conn = read.csv(file = f, header = T,sep = \"\\t\",stringsAsFactors = F)\n",
    "    rownames(conn) = conn$Gene\n",
    "    linkStat3d[ conn$Gene,,nwIdx] = as.matrix(conn[,dimnames(linkStat3d)[[2]]])\n",
    "}"
   ]
  },
  {
   "cell_type": "code",
   "execution_count": 124,
   "id": "e2de21c9",
   "metadata": {},
   "outputs": [
    {
     "data": {
      "text/html": [
       "<style>\n",
       ".dl-inline {width: auto; margin:0; padding: 0}\n",
       ".dl-inline>dt, .dl-inline>dd {float: none; width: auto; display: inline-block}\n",
       ".dl-inline>dt::after {content: \":\\0020\"; padding-right: .5ex}\n",
       ".dl-inline>dt:not(:first-of-type) {padding-left: .5ex}\n",
       "</style><dl class=dl-inline><dt>NOC2L</dt><dd>0.5</dd><dt>KLHL17</dt><dd>0</dd><dt>HES4</dt><dd>0.5</dd><dt>ISG15</dt><dd>0.5</dd><dt>AGRN</dt><dd>0</dd><dt>C1orf159</dt><dd>0</dd></dl>\n"
      ],
      "text/latex": [
       "\\begin{description*}\n",
       "\\item[NOC2L] 0.5\n",
       "\\item[KLHL17] 0\n",
       "\\item[HES4] 0.5\n",
       "\\item[ISG15] 0.5\n",
       "\\item[AGRN] 0\n",
       "\\item[C1orf159] 0\n",
       "\\end{description*}\n"
      ],
      "text/markdown": [
       "NOC2L\n",
       ":   0.5KLHL17\n",
       ":   0HES4\n",
       ":   0.5ISG15\n",
       ":   0.5AGRN\n",
       ":   0C1orf159\n",
       ":   0\n",
       "\n"
      ],
      "text/plain": [
       "   NOC2L   KLHL17     HES4    ISG15     AGRN C1orf159 \n",
       "     0.5      0.0      0.5      0.5      0.0      0.0 "
      ]
     },
     "metadata": {},
     "output_type": "display_data"
    }
   ],
   "source": [
    "rowMeans(linkStat3d[1:6,1,])"
   ]
  },
  {
   "cell_type": "code",
   "execution_count": 125,
   "id": "efff9f97",
   "metadata": {},
   "outputs": [],
   "source": [
    "linkStatMeans = sapply(1:dim(linkStat3d)[2], function(i) rowMeans(linkStat3d[,i,]))\n",
    "colnames(linkStatMeans) = dimnames(linkStat3d)[[2]]"
   ]
  },
  {
   "cell_type": "code",
   "execution_count": 126,
   "id": "d1876485",
   "metadata": {},
   "outputs": [
    {
     "data": {
      "text/html": [
       "<table class=\"dataframe\">\n",
       "<caption>A matrix: 6 × 6 of type dbl</caption>\n",
       "<thead>\n",
       "\t<tr><th></th><th scope=col>IncomingRepressorLinks</th><th scope=col>IncomingActivatorLinks</th><th scope=col>IncomingLinks</th><th scope=col>OutgoingRepressorLinks</th><th scope=col>OutgoingActivatorLinks</th><th scope=col>OutgoingLinks</th></tr>\n",
       "</thead>\n",
       "<tbody>\n",
       "\t<tr><th scope=row>NOC2L</th><td>0.5</td><td>4.0</td><td>4.5</td><td>1.0</td><td>7.0</td><td>8.0</td></tr>\n",
       "\t<tr><th scope=row>KLHL17</th><td>0.0</td><td>2.5</td><td>2.5</td><td>1.0</td><td>5.5</td><td>6.5</td></tr>\n",
       "\t<tr><th scope=row>HES4</th><td>0.5</td><td>2.5</td><td>3.0</td><td>0.5</td><td>2.5</td><td>3.0</td></tr>\n",
       "\t<tr><th scope=row>ISG15</th><td>0.5</td><td>6.5</td><td>7.0</td><td>0.0</td><td>9.0</td><td>9.0</td></tr>\n",
       "\t<tr><th scope=row>AGRN</th><td>0.0</td><td>2.0</td><td>2.0</td><td>1.0</td><td>3.0</td><td>4.0</td></tr>\n",
       "\t<tr><th scope=row>C1orf159</th><td>0.0</td><td>1.5</td><td>1.5</td><td>0.0</td><td>4.5</td><td>4.5</td></tr>\n",
       "</tbody>\n",
       "</table>\n"
      ],
      "text/latex": [
       "A matrix: 6 × 6 of type dbl\n",
       "\\begin{tabular}{r|llllll}\n",
       "  & IncomingRepressorLinks & IncomingActivatorLinks & IncomingLinks & OutgoingRepressorLinks & OutgoingActivatorLinks & OutgoingLinks\\\\\n",
       "\\hline\n",
       "\tNOC2L & 0.5 & 4.0 & 4.5 & 1.0 & 7.0 & 8.0\\\\\n",
       "\tKLHL17 & 0.0 & 2.5 & 2.5 & 1.0 & 5.5 & 6.5\\\\\n",
       "\tHES4 & 0.5 & 2.5 & 3.0 & 0.5 & 2.5 & 3.0\\\\\n",
       "\tISG15 & 0.5 & 6.5 & 7.0 & 0.0 & 9.0 & 9.0\\\\\n",
       "\tAGRN & 0.0 & 2.0 & 2.0 & 1.0 & 3.0 & 4.0\\\\\n",
       "\tC1orf159 & 0.0 & 1.5 & 1.5 & 0.0 & 4.5 & 4.5\\\\\n",
       "\\end{tabular}\n"
      ],
      "text/markdown": [
       "\n",
       "A matrix: 6 × 6 of type dbl\n",
       "\n",
       "| <!--/--> | IncomingRepressorLinks | IncomingActivatorLinks | IncomingLinks | OutgoingRepressorLinks | OutgoingActivatorLinks | OutgoingLinks |\n",
       "|---|---|---|---|---|---|---|\n",
       "| NOC2L | 0.5 | 4.0 | 4.5 | 1.0 | 7.0 | 8.0 |\n",
       "| KLHL17 | 0.0 | 2.5 | 2.5 | 1.0 | 5.5 | 6.5 |\n",
       "| HES4 | 0.5 | 2.5 | 3.0 | 0.5 | 2.5 | 3.0 |\n",
       "| ISG15 | 0.5 | 6.5 | 7.0 | 0.0 | 9.0 | 9.0 |\n",
       "| AGRN | 0.0 | 2.0 | 2.0 | 1.0 | 3.0 | 4.0 |\n",
       "| C1orf159 | 0.0 | 1.5 | 1.5 | 0.0 | 4.5 | 4.5 |\n",
       "\n"
      ],
      "text/plain": [
       "         IncomingRepressorLinks IncomingActivatorLinks IncomingLinks\n",
       "NOC2L    0.5                    4.0                    4.5          \n",
       "KLHL17   0.0                    2.5                    2.5          \n",
       "HES4     0.5                    2.5                    3.0          \n",
       "ISG15    0.5                    6.5                    7.0          \n",
       "AGRN     0.0                    2.0                    2.0          \n",
       "C1orf159 0.0                    1.5                    1.5          \n",
       "         OutgoingRepressorLinks OutgoingActivatorLinks OutgoingLinks\n",
       "NOC2L    1.0                    7.0                    8.0          \n",
       "KLHL17   1.0                    5.5                    6.5          \n",
       "HES4     0.5                    2.5                    3.0          \n",
       "ISG15    0.0                    9.0                    9.0          \n",
       "AGRN     1.0                    3.0                    4.0          \n",
       "C1orf159 0.0                    4.5                    4.5          "
      ]
     },
     "metadata": {},
     "output_type": "display_data"
    }
   ],
   "source": [
    "head(linkStatMeans)"
   ]
  },
  {
   "cell_type": "code",
   "execution_count": 127,
   "id": "b838f4cc",
   "metadata": {},
   "outputs": [],
   "source": [
    "# merge activated and repressed target genes that appear in > 50% of NWs\n",
    "wh = which(connections$type==\"activator\")\n",
    "commonActivatedGenes = sapply( conn$Gene, function(gene) {\n",
    "    wh2=which(connections$source==gene)\n",
    "    paste0(connections[ intersect(wh,wh2),\"target\"],collapse=\";\")\n",
    "})\n",
    "wh = which(connections$type==\"repressor\")\n",
    "commonRepressedGenes = sapply( conn$Gene, function(gene) {\n",
    "    wh2=which(connections$source==gene)\n",
    "    paste0(connections[ intersect(wh,wh2),\"target\"],collapse=\";\")\n",
    "})"
   ]
  },
  {
   "cell_type": "code",
   "execution_count": 128,
   "id": "4113b53a",
   "metadata": {},
   "outputs": [
    {
     "data": {
      "text/html": [
       "<table class=\"dataframe\">\n",
       "<caption>A data.frame: 6 × 3</caption>\n",
       "<thead>\n",
       "\t<tr><th></th><th scope=col>source</th><th scope=col>target</th><th scope=col>type</th></tr>\n",
       "\t<tr><th></th><th scope=col>&lt;chr&gt;</th><th scope=col>&lt;chr&gt;</th><th scope=col>&lt;chr&gt;</th></tr>\n",
       "</thead>\n",
       "<tbody>\n",
       "\t<tr><th scope=row>7574</th><td>KCNAB2 </td><td>GDF11  </td><td>repressor</td></tr>\n",
       "\t<tr><th scope=row>7575</th><td>NOL9   </td><td>RPAIN  </td><td>repressor</td></tr>\n",
       "\t<tr><th scope=row>7576</th><td>THAP3  </td><td>SEC23IP</td><td>repressor</td></tr>\n",
       "\t<tr><th scope=row>7577</th><td>TMEM201</td><td>ERCC5  </td><td>repressor</td></tr>\n",
       "\t<tr><th scope=row>7578</th><td>PIK3CD </td><td>PRKCA  </td><td>repressor</td></tr>\n",
       "\t<tr><th scope=row>7579</th><td>SRM    </td><td>WAC    </td><td>repressor</td></tr>\n",
       "</tbody>\n",
       "</table>\n"
      ],
      "text/latex": [
       "A data.frame: 6 × 3\n",
       "\\begin{tabular}{r|lll}\n",
       "  & source & target & type\\\\\n",
       "  & <chr> & <chr> & <chr>\\\\\n",
       "\\hline\n",
       "\t7574 & KCNAB2  & GDF11   & repressor\\\\\n",
       "\t7575 & NOL9    & RPAIN   & repressor\\\\\n",
       "\t7576 & THAP3   & SEC23IP & repressor\\\\\n",
       "\t7577 & TMEM201 & ERCC5   & repressor\\\\\n",
       "\t7578 & PIK3CD  & PRKCA   & repressor\\\\\n",
       "\t7579 & SRM     & WAC     & repressor\\\\\n",
       "\\end{tabular}\n"
      ],
      "text/markdown": [
       "\n",
       "A data.frame: 6 × 3\n",
       "\n",
       "| <!--/--> | source &lt;chr&gt; | target &lt;chr&gt; | type &lt;chr&gt; |\n",
       "|---|---|---|---|\n",
       "| 7574 | KCNAB2  | GDF11   | repressor |\n",
       "| 7575 | NOL9    | RPAIN   | repressor |\n",
       "| 7576 | THAP3   | SEC23IP | repressor |\n",
       "| 7577 | TMEM201 | ERCC5   | repressor |\n",
       "| 7578 | PIK3CD  | PRKCA   | repressor |\n",
       "| 7579 | SRM     | WAC     | repressor |\n",
       "\n"
      ],
      "text/plain": [
       "     source  target  type     \n",
       "7574 KCNAB2  GDF11   repressor\n",
       "7575 NOL9    RPAIN   repressor\n",
       "7576 THAP3   SEC23IP repressor\n",
       "7577 TMEM201 ERCC5   repressor\n",
       "7578 PIK3CD  PRKCA   repressor\n",
       "7579 SRM     WAC     repressor"
      ]
     },
     "metadata": {},
     "output_type": "display_data"
    }
   ],
   "source": [
    "head(connections[ connections$type==\"repressor\",])"
   ]
  },
  {
   "cell_type": "markdown",
   "id": "962556e8",
   "metadata": {},
   "source": [
    "### add gene annotation"
   ]
  },
  {
   "cell_type": "code",
   "execution_count": 130,
   "id": "71f3db2e",
   "metadata": {},
   "outputs": [
    {
     "data": {
      "text/html": [
       "'/data/bcu_projects/MelBrainSys_PostdocProject_Gruetzmann/publications/2022-my-MelBrainSys-paper/scripts-etc-for-publication/'"
      ],
      "text/latex": [
       "'/data/bcu\\_projects/MelBrainSys\\_PostdocProject\\_Gruetzmann/publications/2022-my-MelBrainSys-paper/scripts-etc-for-publication/'"
      ],
      "text/markdown": [
       "'/data/bcu_projects/MelBrainSys_PostdocProject_Gruetzmann/publications/2022-my-MelBrainSys-paper/scripts-etc-for-publication/'"
      ],
      "text/plain": [
       "[1] \"/data/bcu_projects/MelBrainSys_PostdocProject_Gruetzmann/publications/2022-my-MelBrainSys-paper/scripts-etc-for-publication/\""
      ]
     },
     "metadata": {},
     "output_type": "display_data"
    }
   ],
   "source": [
    "basePath"
   ]
  },
  {
   "cell_type": "code",
   "execution_count": 131,
   "id": "340dcd4c",
   "metadata": {},
   "outputs": [],
   "source": [
    "currGeneAnnot = geneAnnot\n",
    "load(paste0(basePath,\"annotation/Homo_sapiens.GRCh37.75-chrRename-noHaplo.RData\"))\n",
    "geneAnnotFull = geneAnnot\n",
    "geneAnnot = currGeneAnnot"
   ]
  },
  {
   "cell_type": "code",
   "execution_count": 132,
   "id": "dcb1d7d2",
   "metadata": {},
   "outputs": [],
   "source": [
    "geneAnnotFull = geneAnnotFull[ geneAnnotFull$V3==\"gene\",c(\"V1\",\"V2\",\"V4\",\"V5\",\"V7\",\"V9\")]"
   ]
  },
  {
   "cell_type": "code",
   "execution_count": 133,
   "id": "18a99919",
   "metadata": {},
   "outputs": [],
   "source": [
    "colnames(geneAnnotFull) = c(\"chr\",\"type\",\"start\",\"end\",\"strand\",\"V9\")\n",
    "geneAnnotFull$chr = as.character(geneAnnotFull$chr)\n",
    "geneAnnotFull$strand = as.character(geneAnnotFull$strand)\n",
    "geneAnnotFull$type = as.character(geneAnnotFull$type)\n",
    "geneAnnotFull$V9 = as.character(geneAnnotFull$V9)"
   ]
  },
  {
   "cell_type": "code",
   "execution_count": 134,
   "id": "3d55b6e9",
   "metadata": {},
   "outputs": [],
   "source": [
    "geneAnnotFull$EnsemblID = gsub(\".*(ENSG[^;]+).*\",\"\\\\1\",geneAnnotFull$V9)\n",
    "geneAnnotFull$gene = gsub(\".*gene_name ([^;]+).*\",\"\\\\1\",geneAnnotFull$V9)"
   ]
  },
  {
   "cell_type": "code",
   "execution_count": 135,
   "id": "313c8039",
   "metadata": {},
   "outputs": [
    {
     "data": {
      "text/html": [
       "2023"
      ],
      "text/latex": [
       "2023"
      ],
      "text/markdown": [
       "2023"
      ],
      "text/plain": [
       "[1] 2023"
      ]
     },
     "metadata": {},
     "output_type": "display_data"
    }
   ],
   "source": [
    "wh = which(duplicated(geneAnnotFull$gene))\n",
    "length(wh)\n",
    "geneAnnotFull = geneAnnotFull[-wh,]"
   ]
  },
  {
   "cell_type": "code",
   "execution_count": 136,
   "id": "bf447123",
   "metadata": {},
   "outputs": [],
   "source": [
    "rownames(geneAnnotFull) = geneAnnotFull$gene"
   ]
  },
  {
   "cell_type": "code",
   "execution_count": 137,
   "id": "e046f030",
   "metadata": {},
   "outputs": [
    {
     "data": {
      "text/html": [
       "<table class=\"dataframe\">\n",
       "<caption>A data.frame: 6 × 8</caption>\n",
       "<thead>\n",
       "\t<tr><th></th><th scope=col>chr</th><th scope=col>type</th><th scope=col>start</th><th scope=col>end</th><th scope=col>strand</th><th scope=col>V9</th><th scope=col>EnsemblID</th><th scope=col>gene</th></tr>\n",
       "\t<tr><th></th><th scope=col>&lt;chr&gt;</th><th scope=col>&lt;chr&gt;</th><th scope=col>&lt;int&gt;</th><th scope=col>&lt;int&gt;</th><th scope=col>&lt;chr&gt;</th><th scope=col>&lt;chr&gt;</th><th scope=col>&lt;chr&gt;</th><th scope=col>&lt;chr&gt;</th></tr>\n",
       "</thead>\n",
       "<tbody>\n",
       "\t<tr><th scope=row>DDX11L1</th><td>chr1</td><td>pseudogene</td><td>11869</td><td>14412</td><td>+</td><td>gene_id ENSG00000223972; gene_name DDX11L1; gene_source ensembl_havana; gene_biotype pseudogene;</td><td>ENSG00000223972</td><td>DDX11L1   </td></tr>\n",
       "\t<tr><th scope=row>WASH7P</th><td>chr1</td><td>pseudogene</td><td>14363</td><td>29806</td><td>-</td><td>gene_id ENSG00000227232; gene_name WASH7P; gene_source ensembl_havana; gene_biotype pseudogene; </td><td>ENSG00000227232</td><td>WASH7P    </td></tr>\n",
       "\t<tr><th scope=row>MIR1302-10</th><td>chr1</td><td>lincRNA   </td><td>29554</td><td>31109</td><td>+</td><td>gene_id ENSG00000243485; gene_name MIR1302-10; gene_source ensembl_havana; gene_biotype lincRNA;</td><td>ENSG00000243485</td><td>MIR1302-10</td></tr>\n",
       "\t<tr><th scope=row>FAM138A</th><td>chr1</td><td>lincRNA   </td><td>34554</td><td>36081</td><td>-</td><td>gene_id ENSG00000237613; gene_name FAM138A; gene_source ensembl_havana; gene_biotype lincRNA;   </td><td>ENSG00000237613</td><td>FAM138A   </td></tr>\n",
       "\t<tr><th scope=row>OR4G4P</th><td>chr1</td><td>pseudogene</td><td>52473</td><td>54936</td><td>+</td><td>gene_id ENSG00000268020; gene_name OR4G4P; gene_source ensembl_havana; gene_biotype pseudogene; </td><td>ENSG00000268020</td><td>OR4G4P    </td></tr>\n",
       "\t<tr><th scope=row>OR4G11P</th><td>chr1</td><td>pseudogene</td><td>62948</td><td>63887</td><td>+</td><td>gene_id ENSG00000240361; gene_name OR4G11P; gene_source havana; gene_biotype pseudogene;        </td><td>ENSG00000240361</td><td>OR4G11P   </td></tr>\n",
       "</tbody>\n",
       "</table>\n"
      ],
      "text/latex": [
       "A data.frame: 6 × 8\n",
       "\\begin{tabular}{r|llllllll}\n",
       "  & chr & type & start & end & strand & V9 & EnsemblID & gene\\\\\n",
       "  & <chr> & <chr> & <int> & <int> & <chr> & <chr> & <chr> & <chr>\\\\\n",
       "\\hline\n",
       "\tDDX11L1 & chr1 & pseudogene & 11869 & 14412 & + & gene\\_id ENSG00000223972; gene\\_name DDX11L1; gene\\_source ensembl\\_havana; gene\\_biotype pseudogene; & ENSG00000223972 & DDX11L1   \\\\\n",
       "\tWASH7P & chr1 & pseudogene & 14363 & 29806 & - & gene\\_id ENSG00000227232; gene\\_name WASH7P; gene\\_source ensembl\\_havana; gene\\_biotype pseudogene;  & ENSG00000227232 & WASH7P    \\\\\n",
       "\tMIR1302-10 & chr1 & lincRNA    & 29554 & 31109 & + & gene\\_id ENSG00000243485; gene\\_name MIR1302-10; gene\\_source ensembl\\_havana; gene\\_biotype lincRNA; & ENSG00000243485 & MIR1302-10\\\\\n",
       "\tFAM138A & chr1 & lincRNA    & 34554 & 36081 & - & gene\\_id ENSG00000237613; gene\\_name FAM138A; gene\\_source ensembl\\_havana; gene\\_biotype lincRNA;    & ENSG00000237613 & FAM138A   \\\\\n",
       "\tOR4G4P & chr1 & pseudogene & 52473 & 54936 & + & gene\\_id ENSG00000268020; gene\\_name OR4G4P; gene\\_source ensembl\\_havana; gene\\_biotype pseudogene;  & ENSG00000268020 & OR4G4P    \\\\\n",
       "\tOR4G11P & chr1 & pseudogene & 62948 & 63887 & + & gene\\_id ENSG00000240361; gene\\_name OR4G11P; gene\\_source havana; gene\\_biotype pseudogene;         & ENSG00000240361 & OR4G11P   \\\\\n",
       "\\end{tabular}\n"
      ],
      "text/markdown": [
       "\n",
       "A data.frame: 6 × 8\n",
       "\n",
       "| <!--/--> | chr &lt;chr&gt; | type &lt;chr&gt; | start &lt;int&gt; | end &lt;int&gt; | strand &lt;chr&gt; | V9 &lt;chr&gt; | EnsemblID &lt;chr&gt; | gene &lt;chr&gt; |\n",
       "|---|---|---|---|---|---|---|---|---|\n",
       "| DDX11L1 | chr1 | pseudogene | 11869 | 14412 | + | gene_id ENSG00000223972; gene_name DDX11L1; gene_source ensembl_havana; gene_biotype pseudogene; | ENSG00000223972 | DDX11L1    |\n",
       "| WASH7P | chr1 | pseudogene | 14363 | 29806 | - | gene_id ENSG00000227232; gene_name WASH7P; gene_source ensembl_havana; gene_biotype pseudogene;  | ENSG00000227232 | WASH7P     |\n",
       "| MIR1302-10 | chr1 | lincRNA    | 29554 | 31109 | + | gene_id ENSG00000243485; gene_name MIR1302-10; gene_source ensembl_havana; gene_biotype lincRNA; | ENSG00000243485 | MIR1302-10 |\n",
       "| FAM138A | chr1 | lincRNA    | 34554 | 36081 | - | gene_id ENSG00000237613; gene_name FAM138A; gene_source ensembl_havana; gene_biotype lincRNA;    | ENSG00000237613 | FAM138A    |\n",
       "| OR4G4P | chr1 | pseudogene | 52473 | 54936 | + | gene_id ENSG00000268020; gene_name OR4G4P; gene_source ensembl_havana; gene_biotype pseudogene;  | ENSG00000268020 | OR4G4P     |\n",
       "| OR4G11P | chr1 | pseudogene | 62948 | 63887 | + | gene_id ENSG00000240361; gene_name OR4G11P; gene_source havana; gene_biotype pseudogene;         | ENSG00000240361 | OR4G11P    |\n",
       "\n"
      ],
      "text/plain": [
       "           chr  type       start end   strand\n",
       "DDX11L1    chr1 pseudogene 11869 14412 +     \n",
       "WASH7P     chr1 pseudogene 14363 29806 -     \n",
       "MIR1302-10 chr1 lincRNA    29554 31109 +     \n",
       "FAM138A    chr1 lincRNA    34554 36081 -     \n",
       "OR4G4P     chr1 pseudogene 52473 54936 +     \n",
       "OR4G11P    chr1 pseudogene 62948 63887 +     \n",
       "           V9                                                                                              \n",
       "DDX11L1    gene_id ENSG00000223972; gene_name DDX11L1; gene_source ensembl_havana; gene_biotype pseudogene;\n",
       "WASH7P     gene_id ENSG00000227232; gene_name WASH7P; gene_source ensembl_havana; gene_biotype pseudogene; \n",
       "MIR1302-10 gene_id ENSG00000243485; gene_name MIR1302-10; gene_source ensembl_havana; gene_biotype lincRNA;\n",
       "FAM138A    gene_id ENSG00000237613; gene_name FAM138A; gene_source ensembl_havana; gene_biotype lincRNA;   \n",
       "OR4G4P     gene_id ENSG00000268020; gene_name OR4G4P; gene_source ensembl_havana; gene_biotype pseudogene; \n",
       "OR4G11P    gene_id ENSG00000240361; gene_name OR4G11P; gene_source havana; gene_biotype pseudogene;        \n",
       "           EnsemblID       gene      \n",
       "DDX11L1    ENSG00000223972 DDX11L1   \n",
       "WASH7P     ENSG00000227232 WASH7P    \n",
       "MIR1302-10 ENSG00000243485 MIR1302-10\n",
       "FAM138A    ENSG00000237613 FAM138A   \n",
       "OR4G4P     ENSG00000268020 OR4G4P    \n",
       "OR4G11P    ENSG00000240361 OR4G11P   "
      ]
     },
     "metadata": {},
     "output_type": "display_data"
    }
   ],
   "source": [
    "head(geneAnnotFull)"
   ]
  },
  {
   "cell_type": "code",
   "execution_count": 138,
   "id": "43d0cc3a",
   "metadata": {},
   "outputs": [
    {
     "data": {
      "text/html": [
       "<table class=\"dataframe\">\n",
       "<caption>A data.frame: 8251 × 11</caption>\n",
       "<thead>\n",
       "\t<tr><th></th><th scope=col>source_gene</th><th scope=col>EnsemblID</th><th scope=col>chr</th><th scope=col>type</th><th scope=col>start</th><th scope=col>end</th><th scope=col>strand</th><th scope=col>OutgoingRepressorLinks</th><th scope=col>OutgoingActivatorLinks</th><th scope=col>activated_target_genes</th><th scope=col>repressed_target_genes</th></tr>\n",
       "\t<tr><th></th><th scope=col>&lt;chr&gt;</th><th scope=col>&lt;chr&gt;</th><th scope=col>&lt;chr&gt;</th><th scope=col>&lt;chr&gt;</th><th scope=col>&lt;int&gt;</th><th scope=col>&lt;int&gt;</th><th scope=col>&lt;chr&gt;</th><th scope=col>&lt;dbl&gt;</th><th scope=col>&lt;dbl&gt;</th><th scope=col>&lt;chr&gt;</th><th scope=col>&lt;chr&gt;</th></tr>\n",
       "</thead>\n",
       "<tbody>\n",
       "\t<tr><th scope=row>NOC2L</th><td>NOC2L   </td><td>ENSG00000188976</td><td>chr1</td><td>protein_coding</td><td> 879584</td><td> 894689</td><td>-</td><td>1.0</td><td>7.0</td><td>NUDC;DPH2;RRP12;NOL6       </td><td></td></tr>\n",
       "\t<tr><th scope=row>KLHL17</th><td>KLHL17  </td><td>ENSG00000187961</td><td>chr1</td><td>protein_coding</td><td> 895967</td><td> 901095</td><td>+</td><td>1.0</td><td>5.5</td><td>RNF207;ATXN7L2             </td><td></td></tr>\n",
       "\t<tr><th scope=row>HES4</th><td>HES4    </td><td>ENSG00000188290</td><td>chr1</td><td>protein_coding</td><td> 934342</td><td> 935552</td><td>-</td><td>0.5</td><td>2.5</td><td>RPP25                      </td><td></td></tr>\n",
       "\t<tr><th scope=row>ISG15</th><td>ISG15   </td><td>ENSG00000187608</td><td>chr1</td><td>protein_coding</td><td> 948803</td><td> 949920</td><td>+</td><td>0.0</td><td>9.0</td><td>IFI6;IFITM1;IRF7;SP110;OGFR</td><td></td></tr>\n",
       "\t<tr><th scope=row>AGRN</th><td>AGRN    </td><td>ENSG00000188157</td><td>chr1</td><td>protein_coding</td><td> 955503</td><td> 991496</td><td>+</td><td>1.0</td><td>3.0</td><td>                           </td><td></td></tr>\n",
       "\t<tr><th scope=row>C1orf159</th><td>C1orf159</td><td>ENSG00000131591</td><td>chr1</td><td>protein_coding</td><td>1017198</td><td>1051741</td><td>-</td><td>0.0</td><td>4.5</td><td>ULK1;RABEP2;CAPN10         </td><td></td></tr>\n",
       "\t<tr><th scope=row>UBE2J2</th><td>UBE2J2  </td><td>ENSG00000160087</td><td>chr1</td><td>protein_coding</td><td>1189289</td><td>1209265</td><td>-</td><td>0.0</td><td>1.5</td><td>                           </td><td></td></tr>\n",
       "\t<tr><th scope=row>PUSL1</th><td>PUSL1   </td><td>ENSG00000169972</td><td>chr1</td><td>protein_coding</td><td>1243947</td><td>1247057</td><td>+</td><td>1.0</td><td>0.5</td><td>                           </td><td></td></tr>\n",
       "\t<tr><th scope=row>CPSF3L</th><td>CPSF3L  </td><td>ENSG00000127054</td><td>chr1</td><td>protein_coding</td><td>1246965</td><td>1260071</td><td>-</td><td>0.0</td><td>2.5</td><td>ZBTB48                     </td><td></td></tr>\n",
       "\t<tr><th scope=row>GLTPD1</th><td>GLTPD1  </td><td>ENSG00000224051</td><td>chr1</td><td>protein_coding</td><td>1260136</td><td>1264277</td><td>+</td><td>0.5</td><td>2.0</td><td>                           </td><td></td></tr>\n",
       "\t<tr><th scope=row>DVL1</th><td>DVL1    </td><td>ENSG00000107404</td><td>chr1</td><td>protein_coding</td><td>1270656</td><td>1284730</td><td>-</td><td>2.0</td><td>6.5</td><td>PLEKHM2;RFNG;MFSD10        </td><td></td></tr>\n",
       "\t<tr><th scope=row>AURKAIP1</th><td>AURKAIP1</td><td>ENSG00000175756</td><td>chr1</td><td>protein_coding</td><td>1309110</td><td>1310875</td><td>-</td><td>0.0</td><td>1.5</td><td>                           </td><td></td></tr>\n",
       "\t<tr><th scope=row>MRPL20</th><td>MRPL20  </td><td>ENSG00000242485</td><td>chr1</td><td>protein_coding</td><td>1337288</td><td>1342693</td><td>-</td><td>0.0</td><td>2.0</td><td>PARK7                      </td><td></td></tr>\n",
       "\t<tr><th scope=row>ATAD3B</th><td>ATAD3B  </td><td>ENSG00000160072</td><td>chr1</td><td>protein_coding</td><td>1407143</td><td>1433228</td><td>+</td><td>2.0</td><td>1.0</td><td>                           </td><td></td></tr>\n",
       "\t<tr><th scope=row>ATAD3A</th><td>ATAD3A  </td><td>ENSG00000197785</td><td>chr1</td><td>protein_coding</td><td>1447531</td><td>1470067</td><td>+</td><td>0.5</td><td>2.0</td><td>                           </td><td></td></tr>\n",
       "\t<tr><th scope=row>SSU72</th><td>SSU72   </td><td>ENSG00000160075</td><td>chr1</td><td>protein_coding</td><td>1477053</td><td>1510249</td><td>-</td><td>2.0</td><td>0.5</td><td>                           </td><td></td></tr>\n",
       "\t<tr><th scope=row>CDK11B</th><td>CDK11B  </td><td>ENSG00000248333</td><td>chr1</td><td>protein_coding</td><td>1570603</td><td>1590473</td><td>-</td><td>0.0</td><td>2.0</td><td>                           </td><td></td></tr>\n",
       "\t<tr><th scope=row>CDK11A</th><td>CDK11A  </td><td>ENSG00000008128</td><td>chr1</td><td>protein_coding</td><td>1634169</td><td>1655766</td><td>-</td><td>1.0</td><td>0.5</td><td>                           </td><td></td></tr>\n",
       "\t<tr><th scope=row>NADK</th><td>NADK    </td><td>ENSG00000008130</td><td>chr1</td><td>protein_coding</td><td>1682671</td><td>1711896</td><td>-</td><td>0.5</td><td>3.0</td><td>                           </td><td></td></tr>\n",
       "\t<tr><th scope=row>GNB1</th><td>GNB1    </td><td>ENSG00000078369</td><td>chr1</td><td>protein_coding</td><td>1716729</td><td>1822495</td><td>-</td><td>2.0</td><td>3.5</td><td>KIF1B;EXOSC10              </td><td></td></tr>\n",
       "\t<tr><th scope=row>PRKCZ</th><td>PRKCZ   </td><td>ENSG00000067606</td><td>chr1</td><td>protein_coding</td><td>1981909</td><td>2116834</td><td>+</td><td>0.5</td><td>0.5</td><td>                           </td><td></td></tr>\n",
       "\t<tr><th scope=row>C1orf86</th><td>C1orf86 </td><td>ENSG00000162585</td><td>chr1</td><td>protein_coding</td><td>2115903</td><td>2144159</td><td>-</td><td>0.0</td><td>7.0</td><td>ZBTB17;ZNF668;ADAT3;MIF    </td><td></td></tr>\n",
       "\t<tr><th scope=row>SKI</th><td>SKI     </td><td>ENSG00000157933</td><td>chr1</td><td>protein_coding</td><td>2160134</td><td>2241558</td><td>+</td><td>0.0</td><td>2.5</td><td>ZNF436                     </td><td></td></tr>\n",
       "\t<tr><th scope=row>MORN1</th><td>MORN1   </td><td>ENSG00000116151</td><td>chr1</td><td>protein_coding</td><td>2252692</td><td>2323146</td><td>-</td><td>0.5</td><td>1.5</td><td>LRRC56                     </td><td></td></tr>\n",
       "\t<tr><th scope=row>RER1</th><td>RER1    </td><td>ENSG00000157916</td><td>chr1</td><td>protein_coding</td><td>2323267</td><td>2336883</td><td>+</td><td>0.5</td><td>2.5</td><td>                           </td><td></td></tr>\n",
       "\t<tr><th scope=row>PEX10</th><td>PEX10   </td><td>ENSG00000157911</td><td>chr1</td><td>protein_coding</td><td>2336236</td><td>2345236</td><td>-</td><td>0.0</td><td>1.5</td><td>                           </td><td></td></tr>\n",
       "\t<tr><th scope=row>PANK4</th><td>PANK4   </td><td>ENSG00000157881</td><td>chr1</td><td>protein_coding</td><td>2439972</td><td>2458039</td><td>-</td><td>0.0</td><td>0.5</td><td>                           </td><td></td></tr>\n",
       "\t<tr><th scope=row>TPRG1L</th><td>TPRG1L  </td><td>ENSG00000158109</td><td>chr1</td><td>protein_coding</td><td>3541566</td><td>3546691</td><td>+</td><td>0.0</td><td>1.5</td><td>                           </td><td></td></tr>\n",
       "\t<tr><th scope=row>LRRC47</th><td>LRRC47  </td><td>ENSG00000130764</td><td>chr1</td><td>protein_coding</td><td>3696784</td><td>3713068</td><td>-</td><td>0.5</td><td>1.5</td><td>UBIAD1                     </td><td></td></tr>\n",
       "\t<tr><th scope=row>DFFB</th><td>DFFB    </td><td>ENSG00000169598</td><td>chr1</td><td>protein_coding</td><td>3773845</td><td>3801993</td><td>+</td><td>0.5</td><td>1.0</td><td>                           </td><td></td></tr>\n",
       "\t<tr><th scope=row>⋮</th><td>⋮</td><td>⋮</td><td>⋮</td><td>⋮</td><td>⋮</td><td>⋮</td><td>⋮</td><td>⋮</td><td>⋮</td><td>⋮</td><td>⋮</td></tr>\n",
       "\t<tr><th scope=row>XIAP</th><td>XIAP    </td><td>ENSG00000101966</td><td>chrX</td><td>protein_coding</td><td>122993574</td><td>123047829</td><td>+</td><td>0.0</td><td>4.0</td><td>UBXN4                              </td><td>     </td></tr>\n",
       "\t<tr><th scope=row>STAG2</th><td>STAG2   </td><td>ENSG00000101972</td><td>chrX</td><td>protein_coding</td><td>123094062</td><td>123556514</td><td>+</td><td>0.5</td><td>2.5</td><td>MANEA                              </td><td>     </td></tr>\n",
       "\t<tr><th scope=row>SASH3</th><td>SASH3   </td><td>ENSG00000122122</td><td>chrX</td><td>protein_coding</td><td>128913955</td><td>128929177</td><td>+</td><td>0.0</td><td>6.0</td><td>ARHGAP30;CORO1A;VAV1;CD37;IKZF1    </td><td>     </td></tr>\n",
       "\t<tr><th scope=row>ZDHHC9</th><td>ZDHHC9  </td><td>ENSG00000188706</td><td>chrX</td><td>protein_coding</td><td>128937264</td><td>128977885</td><td>-</td><td>1.0</td><td>4.0</td><td>USP27X;SNX12                       </td><td>     </td></tr>\n",
       "\t<tr><th scope=row>UTP14A</th><td>UTP14A  </td><td>ENSG00000156697</td><td>chrX</td><td>protein_coding</td><td>129040097</td><td>129063737</td><td>+</td><td>3.5</td><td>3.0</td><td>                                   </td><td>     </td></tr>\n",
       "\t<tr><th scope=row>BCORL1</th><td>BCORL1  </td><td>ENSG00000085185</td><td>chrX</td><td>protein_coding</td><td>129115083</td><td>129192058</td><td>+</td><td>1.0</td><td>1.5</td><td>                                   </td><td>     </td></tr>\n",
       "\t<tr><th scope=row>ELF4</th><td>ELF4    </td><td>ENSG00000102034</td><td>chrX</td><td>protein_coding</td><td>129198849</td><td>129244691</td><td>-</td><td>0.5</td><td>2.0</td><td>                                   </td><td>     </td></tr>\n",
       "\t<tr><th scope=row>AIFM1</th><td>AIFM1   </td><td>ENSG00000156709</td><td>chrX</td><td>protein_coding</td><td>129263337</td><td>129299861</td><td>-</td><td>2.0</td><td>5.5</td><td>                                   </td><td>     </td></tr>\n",
       "\t<tr><th scope=row>ZNF280C</th><td>ZNF280C </td><td>ENSG00000056277</td><td>chrX</td><td>protein_coding</td><td>129336685</td><td>129402873</td><td>-</td><td>1.5</td><td>2.0</td><td>                                   </td><td>     </td></tr>\n",
       "\t<tr><th scope=row>SLC25A14</th><td>SLC25A14</td><td>ENSG00000102078</td><td>chrX</td><td>protein_coding</td><td>129473874</td><td>129507335</td><td>+</td><td>1.0</td><td>3.0</td><td>                                   </td><td>     </td></tr>\n",
       "\t<tr><th scope=row>RBMX2</th><td>RBMX2   </td><td>ENSG00000134597</td><td>chrX</td><td>protein_coding</td><td>129535943</td><td>129547317</td><td>+</td><td>0.0</td><td>3.5</td><td>MRPL11                             </td><td>     </td></tr>\n",
       "\t<tr><th scope=row>ENOX2</th><td>ENOX2   </td><td>ENSG00000165675</td><td>chrX</td><td>protein_coding</td><td>129757350</td><td>130037208</td><td>-</td><td>1.0</td><td>0.5</td><td>                                   </td><td>     </td></tr>\n",
       "\t<tr><th scope=row>MST4</th><td>MST4    </td><td>ENSG00000134602</td><td>chrX</td><td>protein_coding</td><td>131157293</td><td>131209971</td><td>+</td><td>0.5</td><td>4.5</td><td>RAB3IP                             </td><td>     </td></tr>\n",
       "\t<tr><th scope=row>RAP2C</th><td>RAP2C   </td><td>ENSG00000123728</td><td>chrX</td><td>protein_coding</td><td>131337053</td><td>131353471</td><td>-</td><td>0.0</td><td>1.5</td><td>                                   </td><td>     </td></tr>\n",
       "\t<tr><th scope=row>MBNL3</th><td>MBNL3   </td><td>ENSG00000076770</td><td>chrX</td><td>protein_coding</td><td>131503345</td><td>131623996</td><td>-</td><td>0.5</td><td>2.0</td><td>                                   </td><td>     </td></tr>\n",
       "\t<tr><th scope=row>PHF6</th><td>PHF6    </td><td>ENSG00000156531</td><td>chrX</td><td>protein_coding</td><td>133507283</td><td>133562820</td><td>+</td><td>0.5</td><td>1.5</td><td>GABPA                              </td><td>     </td></tr>\n",
       "\t<tr><th scope=row>HPRT1</th><td>HPRT1   </td><td>ENSG00000165704</td><td>chrX</td><td>protein_coding</td><td>133594183</td><td>133654543</td><td>+</td><td>1.5</td><td>0.5</td><td>                                   </td><td>     </td></tr>\n",
       "\t<tr><th scope=row>FAM122B</th><td>FAM122B </td><td>ENSG00000156504</td><td>chrX</td><td>protein_coding</td><td>133903596</td><td>133931262</td><td>-</td><td>0.0</td><td>4.5</td><td>IRAK4;HNRNPA2B1                    </td><td>     </td></tr>\n",
       "\t<tr><th scope=row>FAM122C</th><td>FAM122C </td><td>ENSG00000156500</td><td>chrX</td><td>protein_coding</td><td>133930819</td><td>133988640</td><td>+</td><td>1.5</td><td>2.0</td><td>LMBRD2                             </td><td>     </td></tr>\n",
       "\t<tr><th scope=row>MOSPD1</th><td>MOSPD1  </td><td>ENSG00000101928</td><td>chrX</td><td>protein_coding</td><td>134021656</td><td>134049297</td><td>-</td><td>1.0</td><td>5.0</td><td>CPEB2                              </td><td>     </td></tr>\n",
       "\t<tr><th scope=row>FAM127A</th><td>FAM127A </td><td>ENSG00000134590</td><td>chrX</td><td>protein_coding</td><td>134166333</td><td>134167576</td><td>+</td><td>3.0</td><td>4.0</td><td>                                   </td><td>RBM27</td></tr>\n",
       "\t<tr><th scope=row>FAM127B</th><td>FAM127B </td><td>ENSG00000203950</td><td>chrX</td><td>protein_coding</td><td>134184962</td><td>134186226</td><td>-</td><td>0.5</td><td>1.5</td><td>                                   </td><td>     </td></tr>\n",
       "\t<tr><th scope=row>MAP7D3</th><td>MAP7D3  </td><td>ENSG00000129680</td><td>chrX</td><td>protein_coding</td><td>135295381</td><td>135338641</td><td>-</td><td>0.0</td><td>1.5</td><td>                                   </td><td>     </td></tr>\n",
       "\t<tr><th scope=row>HTATSF1</th><td>HTATSF1 </td><td>ENSG00000102241</td><td>chrX</td><td>protein_coding</td><td>135579238</td><td>135594505</td><td>+</td><td>0.5</td><td>2.5</td><td>PGRMC1                             </td><td>     </td></tr>\n",
       "\t<tr><th scope=row>ARHGEF6</th><td>ARHGEF6 </td><td>ENSG00000129675</td><td>chrX</td><td>protein_coding</td><td>135747706</td><td>135864247</td><td>-</td><td>1.0</td><td>2.5</td><td>                                   </td><td>     </td></tr>\n",
       "\t<tr><th scope=row>RBMX</th><td>RBMX    </td><td>ENSG00000147274</td><td>chrX</td><td>protein_coding</td><td>135930163</td><td>135962923</td><td>-</td><td>0.5</td><td>5.0</td><td>ILF3                               </td><td>     </td></tr>\n",
       "\t<tr><th scope=row>TMEM185A</th><td>TMEM185A</td><td>ENSG00000155984</td><td>chrX</td><td>protein_coding</td><td>148678216</td><td>148713568</td><td>-</td><td>2.0</td><td>1.5</td><td>                                   </td><td>     </td></tr>\n",
       "\t<tr><th scope=row>VMA21</th><td>VMA21   </td><td>ENSG00000160131</td><td>chrX</td><td>protein_coding</td><td>150564987</td><td>150577836</td><td>+</td><td>2.0</td><td>8.5</td><td>C14orf142;APOL6;LYRM7;EIF1AX;PSMD10</td><td>GMPPB</td></tr>\n",
       "\t<tr><th scope=row>ZFY</th><td>ZFY     </td><td>ENSG00000067646</td><td>chrY</td><td>protein_coding</td><td>  2803112</td><td>  2850547</td><td>+</td><td>1.0</td><td>0.5</td><td>                                   </td><td>     </td></tr>\n",
       "\t<tr><th scope=row>UTY</th><td>UTY     </td><td>ENSG00000183878</td><td>chrY</td><td>protein_coding</td><td> 15360259</td><td> 15592553</td><td>-</td><td>1.5</td><td>1.0</td><td>                                   </td><td>RPS4X</td></tr>\n",
       "</tbody>\n",
       "</table>\n"
      ],
      "text/latex": [
       "A data.frame: 8251 × 11\n",
       "\\begin{tabular}{r|lllllllllll}\n",
       "  & source\\_gene & EnsemblID & chr & type & start & end & strand & OutgoingRepressorLinks & OutgoingActivatorLinks & activated\\_target\\_genes & repressed\\_target\\_genes\\\\\n",
       "  & <chr> & <chr> & <chr> & <chr> & <int> & <int> & <chr> & <dbl> & <dbl> & <chr> & <chr>\\\\\n",
       "\\hline\n",
       "\tNOC2L & NOC2L    & ENSG00000188976 & chr1 & protein\\_coding &  879584 &  894689 & - & 1.0 & 7.0 & NUDC;DPH2;RRP12;NOL6        & \\\\\n",
       "\tKLHL17 & KLHL17   & ENSG00000187961 & chr1 & protein\\_coding &  895967 &  901095 & + & 1.0 & 5.5 & RNF207;ATXN7L2              & \\\\\n",
       "\tHES4 & HES4     & ENSG00000188290 & chr1 & protein\\_coding &  934342 &  935552 & - & 0.5 & 2.5 & RPP25                       & \\\\\n",
       "\tISG15 & ISG15    & ENSG00000187608 & chr1 & protein\\_coding &  948803 &  949920 & + & 0.0 & 9.0 & IFI6;IFITM1;IRF7;SP110;OGFR & \\\\\n",
       "\tAGRN & AGRN     & ENSG00000188157 & chr1 & protein\\_coding &  955503 &  991496 & + & 1.0 & 3.0 &                             & \\\\\n",
       "\tC1orf159 & C1orf159 & ENSG00000131591 & chr1 & protein\\_coding & 1017198 & 1051741 & - & 0.0 & 4.5 & ULK1;RABEP2;CAPN10          & \\\\\n",
       "\tUBE2J2 & UBE2J2   & ENSG00000160087 & chr1 & protein\\_coding & 1189289 & 1209265 & - & 0.0 & 1.5 &                             & \\\\\n",
       "\tPUSL1 & PUSL1    & ENSG00000169972 & chr1 & protein\\_coding & 1243947 & 1247057 & + & 1.0 & 0.5 &                             & \\\\\n",
       "\tCPSF3L & CPSF3L   & ENSG00000127054 & chr1 & protein\\_coding & 1246965 & 1260071 & - & 0.0 & 2.5 & ZBTB48                      & \\\\\n",
       "\tGLTPD1 & GLTPD1   & ENSG00000224051 & chr1 & protein\\_coding & 1260136 & 1264277 & + & 0.5 & 2.0 &                             & \\\\\n",
       "\tDVL1 & DVL1     & ENSG00000107404 & chr1 & protein\\_coding & 1270656 & 1284730 & - & 2.0 & 6.5 & PLEKHM2;RFNG;MFSD10         & \\\\\n",
       "\tAURKAIP1 & AURKAIP1 & ENSG00000175756 & chr1 & protein\\_coding & 1309110 & 1310875 & - & 0.0 & 1.5 &                             & \\\\\n",
       "\tMRPL20 & MRPL20   & ENSG00000242485 & chr1 & protein\\_coding & 1337288 & 1342693 & - & 0.0 & 2.0 & PARK7                       & \\\\\n",
       "\tATAD3B & ATAD3B   & ENSG00000160072 & chr1 & protein\\_coding & 1407143 & 1433228 & + & 2.0 & 1.0 &                             & \\\\\n",
       "\tATAD3A & ATAD3A   & ENSG00000197785 & chr1 & protein\\_coding & 1447531 & 1470067 & + & 0.5 & 2.0 &                             & \\\\\n",
       "\tSSU72 & SSU72    & ENSG00000160075 & chr1 & protein\\_coding & 1477053 & 1510249 & - & 2.0 & 0.5 &                             & \\\\\n",
       "\tCDK11B & CDK11B   & ENSG00000248333 & chr1 & protein\\_coding & 1570603 & 1590473 & - & 0.0 & 2.0 &                             & \\\\\n",
       "\tCDK11A & CDK11A   & ENSG00000008128 & chr1 & protein\\_coding & 1634169 & 1655766 & - & 1.0 & 0.5 &                             & \\\\\n",
       "\tNADK & NADK     & ENSG00000008130 & chr1 & protein\\_coding & 1682671 & 1711896 & - & 0.5 & 3.0 &                             & \\\\\n",
       "\tGNB1 & GNB1     & ENSG00000078369 & chr1 & protein\\_coding & 1716729 & 1822495 & - & 2.0 & 3.5 & KIF1B;EXOSC10               & \\\\\n",
       "\tPRKCZ & PRKCZ    & ENSG00000067606 & chr1 & protein\\_coding & 1981909 & 2116834 & + & 0.5 & 0.5 &                             & \\\\\n",
       "\tC1orf86 & C1orf86  & ENSG00000162585 & chr1 & protein\\_coding & 2115903 & 2144159 & - & 0.0 & 7.0 & ZBTB17;ZNF668;ADAT3;MIF     & \\\\\n",
       "\tSKI & SKI      & ENSG00000157933 & chr1 & protein\\_coding & 2160134 & 2241558 & + & 0.0 & 2.5 & ZNF436                      & \\\\\n",
       "\tMORN1 & MORN1    & ENSG00000116151 & chr1 & protein\\_coding & 2252692 & 2323146 & - & 0.5 & 1.5 & LRRC56                      & \\\\\n",
       "\tRER1 & RER1     & ENSG00000157916 & chr1 & protein\\_coding & 2323267 & 2336883 & + & 0.5 & 2.5 &                             & \\\\\n",
       "\tPEX10 & PEX10    & ENSG00000157911 & chr1 & protein\\_coding & 2336236 & 2345236 & - & 0.0 & 1.5 &                             & \\\\\n",
       "\tPANK4 & PANK4    & ENSG00000157881 & chr1 & protein\\_coding & 2439972 & 2458039 & - & 0.0 & 0.5 &                             & \\\\\n",
       "\tTPRG1L & TPRG1L   & ENSG00000158109 & chr1 & protein\\_coding & 3541566 & 3546691 & + & 0.0 & 1.5 &                             & \\\\\n",
       "\tLRRC47 & LRRC47   & ENSG00000130764 & chr1 & protein\\_coding & 3696784 & 3713068 & - & 0.5 & 1.5 & UBIAD1                      & \\\\\n",
       "\tDFFB & DFFB     & ENSG00000169598 & chr1 & protein\\_coding & 3773845 & 3801993 & + & 0.5 & 1.0 &                             & \\\\\n",
       "\t⋮ & ⋮ & ⋮ & ⋮ & ⋮ & ⋮ & ⋮ & ⋮ & ⋮ & ⋮ & ⋮ & ⋮\\\\\n",
       "\tXIAP & XIAP     & ENSG00000101966 & chrX & protein\\_coding & 122993574 & 123047829 & + & 0.0 & 4.0 & UBXN4                               &      \\\\\n",
       "\tSTAG2 & STAG2    & ENSG00000101972 & chrX & protein\\_coding & 123094062 & 123556514 & + & 0.5 & 2.5 & MANEA                               &      \\\\\n",
       "\tSASH3 & SASH3    & ENSG00000122122 & chrX & protein\\_coding & 128913955 & 128929177 & + & 0.0 & 6.0 & ARHGAP30;CORO1A;VAV1;CD37;IKZF1     &      \\\\\n",
       "\tZDHHC9 & ZDHHC9   & ENSG00000188706 & chrX & protein\\_coding & 128937264 & 128977885 & - & 1.0 & 4.0 & USP27X;SNX12                        &      \\\\\n",
       "\tUTP14A & UTP14A   & ENSG00000156697 & chrX & protein\\_coding & 129040097 & 129063737 & + & 3.5 & 3.0 &                                     &      \\\\\n",
       "\tBCORL1 & BCORL1   & ENSG00000085185 & chrX & protein\\_coding & 129115083 & 129192058 & + & 1.0 & 1.5 &                                     &      \\\\\n",
       "\tELF4 & ELF4     & ENSG00000102034 & chrX & protein\\_coding & 129198849 & 129244691 & - & 0.5 & 2.0 &                                     &      \\\\\n",
       "\tAIFM1 & AIFM1    & ENSG00000156709 & chrX & protein\\_coding & 129263337 & 129299861 & - & 2.0 & 5.5 &                                     &      \\\\\n",
       "\tZNF280C & ZNF280C  & ENSG00000056277 & chrX & protein\\_coding & 129336685 & 129402873 & - & 1.5 & 2.0 &                                     &      \\\\\n",
       "\tSLC25A14 & SLC25A14 & ENSG00000102078 & chrX & protein\\_coding & 129473874 & 129507335 & + & 1.0 & 3.0 &                                     &      \\\\\n",
       "\tRBMX2 & RBMX2    & ENSG00000134597 & chrX & protein\\_coding & 129535943 & 129547317 & + & 0.0 & 3.5 & MRPL11                              &      \\\\\n",
       "\tENOX2 & ENOX2    & ENSG00000165675 & chrX & protein\\_coding & 129757350 & 130037208 & - & 1.0 & 0.5 &                                     &      \\\\\n",
       "\tMST4 & MST4     & ENSG00000134602 & chrX & protein\\_coding & 131157293 & 131209971 & + & 0.5 & 4.5 & RAB3IP                              &      \\\\\n",
       "\tRAP2C & RAP2C    & ENSG00000123728 & chrX & protein\\_coding & 131337053 & 131353471 & - & 0.0 & 1.5 &                                     &      \\\\\n",
       "\tMBNL3 & MBNL3    & ENSG00000076770 & chrX & protein\\_coding & 131503345 & 131623996 & - & 0.5 & 2.0 &                                     &      \\\\\n",
       "\tPHF6 & PHF6     & ENSG00000156531 & chrX & protein\\_coding & 133507283 & 133562820 & + & 0.5 & 1.5 & GABPA                               &      \\\\\n",
       "\tHPRT1 & HPRT1    & ENSG00000165704 & chrX & protein\\_coding & 133594183 & 133654543 & + & 1.5 & 0.5 &                                     &      \\\\\n",
       "\tFAM122B & FAM122B  & ENSG00000156504 & chrX & protein\\_coding & 133903596 & 133931262 & - & 0.0 & 4.5 & IRAK4;HNRNPA2B1                     &      \\\\\n",
       "\tFAM122C & FAM122C  & ENSG00000156500 & chrX & protein\\_coding & 133930819 & 133988640 & + & 1.5 & 2.0 & LMBRD2                              &      \\\\\n",
       "\tMOSPD1 & MOSPD1   & ENSG00000101928 & chrX & protein\\_coding & 134021656 & 134049297 & - & 1.0 & 5.0 & CPEB2                               &      \\\\\n",
       "\tFAM127A & FAM127A  & ENSG00000134590 & chrX & protein\\_coding & 134166333 & 134167576 & + & 3.0 & 4.0 &                                     & RBM27\\\\\n",
       "\tFAM127B & FAM127B  & ENSG00000203950 & chrX & protein\\_coding & 134184962 & 134186226 & - & 0.5 & 1.5 &                                     &      \\\\\n",
       "\tMAP7D3 & MAP7D3   & ENSG00000129680 & chrX & protein\\_coding & 135295381 & 135338641 & - & 0.0 & 1.5 &                                     &      \\\\\n",
       "\tHTATSF1 & HTATSF1  & ENSG00000102241 & chrX & protein\\_coding & 135579238 & 135594505 & + & 0.5 & 2.5 & PGRMC1                              &      \\\\\n",
       "\tARHGEF6 & ARHGEF6  & ENSG00000129675 & chrX & protein\\_coding & 135747706 & 135864247 & - & 1.0 & 2.5 &                                     &      \\\\\n",
       "\tRBMX & RBMX     & ENSG00000147274 & chrX & protein\\_coding & 135930163 & 135962923 & - & 0.5 & 5.0 & ILF3                                &      \\\\\n",
       "\tTMEM185A & TMEM185A & ENSG00000155984 & chrX & protein\\_coding & 148678216 & 148713568 & - & 2.0 & 1.5 &                                     &      \\\\\n",
       "\tVMA21 & VMA21    & ENSG00000160131 & chrX & protein\\_coding & 150564987 & 150577836 & + & 2.0 & 8.5 & C14orf142;APOL6;LYRM7;EIF1AX;PSMD10 & GMPPB\\\\\n",
       "\tZFY & ZFY      & ENSG00000067646 & chrY & protein\\_coding &   2803112 &   2850547 & + & 1.0 & 0.5 &                                     &      \\\\\n",
       "\tUTY & UTY      & ENSG00000183878 & chrY & protein\\_coding &  15360259 &  15592553 & - & 1.5 & 1.0 &                                     & RPS4X\\\\\n",
       "\\end{tabular}\n"
      ],
      "text/markdown": [
       "\n",
       "A data.frame: 8251 × 11\n",
       "\n",
       "| <!--/--> | source_gene &lt;chr&gt; | EnsemblID &lt;chr&gt; | chr &lt;chr&gt; | type &lt;chr&gt; | start &lt;int&gt; | end &lt;int&gt; | strand &lt;chr&gt; | OutgoingRepressorLinks &lt;dbl&gt; | OutgoingActivatorLinks &lt;dbl&gt; | activated_target_genes &lt;chr&gt; | repressed_target_genes &lt;chr&gt; |\n",
       "|---|---|---|---|---|---|---|---|---|---|---|---|\n",
       "| NOC2L | NOC2L    | ENSG00000188976 | chr1 | protein_coding |  879584 |  894689 | - | 1.0 | 7.0 | NUDC;DPH2;RRP12;NOL6        | <!----> |\n",
       "| KLHL17 | KLHL17   | ENSG00000187961 | chr1 | protein_coding |  895967 |  901095 | + | 1.0 | 5.5 | RNF207;ATXN7L2              | <!----> |\n",
       "| HES4 | HES4     | ENSG00000188290 | chr1 | protein_coding |  934342 |  935552 | - | 0.5 | 2.5 | RPP25                       | <!----> |\n",
       "| ISG15 | ISG15    | ENSG00000187608 | chr1 | protein_coding |  948803 |  949920 | + | 0.0 | 9.0 | IFI6;IFITM1;IRF7;SP110;OGFR | <!----> |\n",
       "| AGRN | AGRN     | ENSG00000188157 | chr1 | protein_coding |  955503 |  991496 | + | 1.0 | 3.0 | <!----> | <!----> |\n",
       "| C1orf159 | C1orf159 | ENSG00000131591 | chr1 | protein_coding | 1017198 | 1051741 | - | 0.0 | 4.5 | ULK1;RABEP2;CAPN10          | <!----> |\n",
       "| UBE2J2 | UBE2J2   | ENSG00000160087 | chr1 | protein_coding | 1189289 | 1209265 | - | 0.0 | 1.5 | <!----> | <!----> |\n",
       "| PUSL1 | PUSL1    | ENSG00000169972 | chr1 | protein_coding | 1243947 | 1247057 | + | 1.0 | 0.5 | <!----> | <!----> |\n",
       "| CPSF3L | CPSF3L   | ENSG00000127054 | chr1 | protein_coding | 1246965 | 1260071 | - | 0.0 | 2.5 | ZBTB48                      | <!----> |\n",
       "| GLTPD1 | GLTPD1   | ENSG00000224051 | chr1 | protein_coding | 1260136 | 1264277 | + | 0.5 | 2.0 | <!----> | <!----> |\n",
       "| DVL1 | DVL1     | ENSG00000107404 | chr1 | protein_coding | 1270656 | 1284730 | - | 2.0 | 6.5 | PLEKHM2;RFNG;MFSD10         | <!----> |\n",
       "| AURKAIP1 | AURKAIP1 | ENSG00000175756 | chr1 | protein_coding | 1309110 | 1310875 | - | 0.0 | 1.5 | <!----> | <!----> |\n",
       "| MRPL20 | MRPL20   | ENSG00000242485 | chr1 | protein_coding | 1337288 | 1342693 | - | 0.0 | 2.0 | PARK7                       | <!----> |\n",
       "| ATAD3B | ATAD3B   | ENSG00000160072 | chr1 | protein_coding | 1407143 | 1433228 | + | 2.0 | 1.0 | <!----> | <!----> |\n",
       "| ATAD3A | ATAD3A   | ENSG00000197785 | chr1 | protein_coding | 1447531 | 1470067 | + | 0.5 | 2.0 | <!----> | <!----> |\n",
       "| SSU72 | SSU72    | ENSG00000160075 | chr1 | protein_coding | 1477053 | 1510249 | - | 2.0 | 0.5 | <!----> | <!----> |\n",
       "| CDK11B | CDK11B   | ENSG00000248333 | chr1 | protein_coding | 1570603 | 1590473 | - | 0.0 | 2.0 | <!----> | <!----> |\n",
       "| CDK11A | CDK11A   | ENSG00000008128 | chr1 | protein_coding | 1634169 | 1655766 | - | 1.0 | 0.5 | <!----> | <!----> |\n",
       "| NADK | NADK     | ENSG00000008130 | chr1 | protein_coding | 1682671 | 1711896 | - | 0.5 | 3.0 | <!----> | <!----> |\n",
       "| GNB1 | GNB1     | ENSG00000078369 | chr1 | protein_coding | 1716729 | 1822495 | - | 2.0 | 3.5 | KIF1B;EXOSC10               | <!----> |\n",
       "| PRKCZ | PRKCZ    | ENSG00000067606 | chr1 | protein_coding | 1981909 | 2116834 | + | 0.5 | 0.5 | <!----> | <!----> |\n",
       "| C1orf86 | C1orf86  | ENSG00000162585 | chr1 | protein_coding | 2115903 | 2144159 | - | 0.0 | 7.0 | ZBTB17;ZNF668;ADAT3;MIF     | <!----> |\n",
       "| SKI | SKI      | ENSG00000157933 | chr1 | protein_coding | 2160134 | 2241558 | + | 0.0 | 2.5 | ZNF436                      | <!----> |\n",
       "| MORN1 | MORN1    | ENSG00000116151 | chr1 | protein_coding | 2252692 | 2323146 | - | 0.5 | 1.5 | LRRC56                      | <!----> |\n",
       "| RER1 | RER1     | ENSG00000157916 | chr1 | protein_coding | 2323267 | 2336883 | + | 0.5 | 2.5 | <!----> | <!----> |\n",
       "| PEX10 | PEX10    | ENSG00000157911 | chr1 | protein_coding | 2336236 | 2345236 | - | 0.0 | 1.5 | <!----> | <!----> |\n",
       "| PANK4 | PANK4    | ENSG00000157881 | chr1 | protein_coding | 2439972 | 2458039 | - | 0.0 | 0.5 | <!----> | <!----> |\n",
       "| TPRG1L | TPRG1L   | ENSG00000158109 | chr1 | protein_coding | 3541566 | 3546691 | + | 0.0 | 1.5 | <!----> | <!----> |\n",
       "| LRRC47 | LRRC47   | ENSG00000130764 | chr1 | protein_coding | 3696784 | 3713068 | - | 0.5 | 1.5 | UBIAD1                      | <!----> |\n",
       "| DFFB | DFFB     | ENSG00000169598 | chr1 | protein_coding | 3773845 | 3801993 | + | 0.5 | 1.0 | <!----> | <!----> |\n",
       "| ⋮ | ⋮ | ⋮ | ⋮ | ⋮ | ⋮ | ⋮ | ⋮ | ⋮ | ⋮ | ⋮ | ⋮ |\n",
       "| XIAP | XIAP     | ENSG00000101966 | chrX | protein_coding | 122993574 | 123047829 | + | 0.0 | 4.0 | UBXN4                               | <!----> |\n",
       "| STAG2 | STAG2    | ENSG00000101972 | chrX | protein_coding | 123094062 | 123556514 | + | 0.5 | 2.5 | MANEA                               | <!----> |\n",
       "| SASH3 | SASH3    | ENSG00000122122 | chrX | protein_coding | 128913955 | 128929177 | + | 0.0 | 6.0 | ARHGAP30;CORO1A;VAV1;CD37;IKZF1     | <!----> |\n",
       "| ZDHHC9 | ZDHHC9   | ENSG00000188706 | chrX | protein_coding | 128937264 | 128977885 | - | 1.0 | 4.0 | USP27X;SNX12                        | <!----> |\n",
       "| UTP14A | UTP14A   | ENSG00000156697 | chrX | protein_coding | 129040097 | 129063737 | + | 3.5 | 3.0 | <!----> | <!----> |\n",
       "| BCORL1 | BCORL1   | ENSG00000085185 | chrX | protein_coding | 129115083 | 129192058 | + | 1.0 | 1.5 | <!----> | <!----> |\n",
       "| ELF4 | ELF4     | ENSG00000102034 | chrX | protein_coding | 129198849 | 129244691 | - | 0.5 | 2.0 | <!----> | <!----> |\n",
       "| AIFM1 | AIFM1    | ENSG00000156709 | chrX | protein_coding | 129263337 | 129299861 | - | 2.0 | 5.5 | <!----> | <!----> |\n",
       "| ZNF280C | ZNF280C  | ENSG00000056277 | chrX | protein_coding | 129336685 | 129402873 | - | 1.5 | 2.0 | <!----> | <!----> |\n",
       "| SLC25A14 | SLC25A14 | ENSG00000102078 | chrX | protein_coding | 129473874 | 129507335 | + | 1.0 | 3.0 | <!----> | <!----> |\n",
       "| RBMX2 | RBMX2    | ENSG00000134597 | chrX | protein_coding | 129535943 | 129547317 | + | 0.0 | 3.5 | MRPL11                              | <!----> |\n",
       "| ENOX2 | ENOX2    | ENSG00000165675 | chrX | protein_coding | 129757350 | 130037208 | - | 1.0 | 0.5 | <!----> | <!----> |\n",
       "| MST4 | MST4     | ENSG00000134602 | chrX | protein_coding | 131157293 | 131209971 | + | 0.5 | 4.5 | RAB3IP                              | <!----> |\n",
       "| RAP2C | RAP2C    | ENSG00000123728 | chrX | protein_coding | 131337053 | 131353471 | - | 0.0 | 1.5 | <!----> | <!----> |\n",
       "| MBNL3 | MBNL3    | ENSG00000076770 | chrX | protein_coding | 131503345 | 131623996 | - | 0.5 | 2.0 | <!----> | <!----> |\n",
       "| PHF6 | PHF6     | ENSG00000156531 | chrX | protein_coding | 133507283 | 133562820 | + | 0.5 | 1.5 | GABPA                               | <!----> |\n",
       "| HPRT1 | HPRT1    | ENSG00000165704 | chrX | protein_coding | 133594183 | 133654543 | + | 1.5 | 0.5 | <!----> | <!----> |\n",
       "| FAM122B | FAM122B  | ENSG00000156504 | chrX | protein_coding | 133903596 | 133931262 | - | 0.0 | 4.5 | IRAK4;HNRNPA2B1                     | <!----> |\n",
       "| FAM122C | FAM122C  | ENSG00000156500 | chrX | protein_coding | 133930819 | 133988640 | + | 1.5 | 2.0 | LMBRD2                              | <!----> |\n",
       "| MOSPD1 | MOSPD1   | ENSG00000101928 | chrX | protein_coding | 134021656 | 134049297 | - | 1.0 | 5.0 | CPEB2                               | <!----> |\n",
       "| FAM127A | FAM127A  | ENSG00000134590 | chrX | protein_coding | 134166333 | 134167576 | + | 3.0 | 4.0 | <!----> | RBM27 |\n",
       "| FAM127B | FAM127B  | ENSG00000203950 | chrX | protein_coding | 134184962 | 134186226 | - | 0.5 | 1.5 | <!----> | <!----> |\n",
       "| MAP7D3 | MAP7D3   | ENSG00000129680 | chrX | protein_coding | 135295381 | 135338641 | - | 0.0 | 1.5 | <!----> | <!----> |\n",
       "| HTATSF1 | HTATSF1  | ENSG00000102241 | chrX | protein_coding | 135579238 | 135594505 | + | 0.5 | 2.5 | PGRMC1                              | <!----> |\n",
       "| ARHGEF6 | ARHGEF6  | ENSG00000129675 | chrX | protein_coding | 135747706 | 135864247 | - | 1.0 | 2.5 | <!----> | <!----> |\n",
       "| RBMX | RBMX     | ENSG00000147274 | chrX | protein_coding | 135930163 | 135962923 | - | 0.5 | 5.0 | ILF3                                | <!----> |\n",
       "| TMEM185A | TMEM185A | ENSG00000155984 | chrX | protein_coding | 148678216 | 148713568 | - | 2.0 | 1.5 | <!----> | <!----> |\n",
       "| VMA21 | VMA21    | ENSG00000160131 | chrX | protein_coding | 150564987 | 150577836 | + | 2.0 | 8.5 | C14orf142;APOL6;LYRM7;EIF1AX;PSMD10 | GMPPB |\n",
       "| ZFY | ZFY      | ENSG00000067646 | chrY | protein_coding |   2803112 |   2850547 | + | 1.0 | 0.5 | <!----> | <!----> |\n",
       "| UTY | UTY      | ENSG00000183878 | chrY | protein_coding |  15360259 |  15592553 | - | 1.5 | 1.0 | <!----> | RPS4X |\n",
       "\n"
      ],
      "text/plain": [
       "         source_gene EnsemblID       chr  type           start     end      \n",
       "NOC2L    NOC2L       ENSG00000188976 chr1 protein_coding  879584    894689  \n",
       "KLHL17   KLHL17      ENSG00000187961 chr1 protein_coding  895967    901095  \n",
       "HES4     HES4        ENSG00000188290 chr1 protein_coding  934342    935552  \n",
       "ISG15    ISG15       ENSG00000187608 chr1 protein_coding  948803    949920  \n",
       "AGRN     AGRN        ENSG00000188157 chr1 protein_coding  955503    991496  \n",
       "C1orf159 C1orf159    ENSG00000131591 chr1 protein_coding 1017198   1051741  \n",
       "UBE2J2   UBE2J2      ENSG00000160087 chr1 protein_coding 1189289   1209265  \n",
       "PUSL1    PUSL1       ENSG00000169972 chr1 protein_coding 1243947   1247057  \n",
       "CPSF3L   CPSF3L      ENSG00000127054 chr1 protein_coding 1246965   1260071  \n",
       "GLTPD1   GLTPD1      ENSG00000224051 chr1 protein_coding 1260136   1264277  \n",
       "DVL1     DVL1        ENSG00000107404 chr1 protein_coding 1270656   1284730  \n",
       "AURKAIP1 AURKAIP1    ENSG00000175756 chr1 protein_coding 1309110   1310875  \n",
       "MRPL20   MRPL20      ENSG00000242485 chr1 protein_coding 1337288   1342693  \n",
       "ATAD3B   ATAD3B      ENSG00000160072 chr1 protein_coding 1407143   1433228  \n",
       "ATAD3A   ATAD3A      ENSG00000197785 chr1 protein_coding 1447531   1470067  \n",
       "SSU72    SSU72       ENSG00000160075 chr1 protein_coding 1477053   1510249  \n",
       "CDK11B   CDK11B      ENSG00000248333 chr1 protein_coding 1570603   1590473  \n",
       "CDK11A   CDK11A      ENSG00000008128 chr1 protein_coding 1634169   1655766  \n",
       "NADK     NADK        ENSG00000008130 chr1 protein_coding 1682671   1711896  \n",
       "GNB1     GNB1        ENSG00000078369 chr1 protein_coding 1716729   1822495  \n",
       "PRKCZ    PRKCZ       ENSG00000067606 chr1 protein_coding 1981909   2116834  \n",
       "C1orf86  C1orf86     ENSG00000162585 chr1 protein_coding 2115903   2144159  \n",
       "SKI      SKI         ENSG00000157933 chr1 protein_coding 2160134   2241558  \n",
       "MORN1    MORN1       ENSG00000116151 chr1 protein_coding 2252692   2323146  \n",
       "RER1     RER1        ENSG00000157916 chr1 protein_coding 2323267   2336883  \n",
       "PEX10    PEX10       ENSG00000157911 chr1 protein_coding 2336236   2345236  \n",
       "PANK4    PANK4       ENSG00000157881 chr1 protein_coding 2439972   2458039  \n",
       "TPRG1L   TPRG1L      ENSG00000158109 chr1 protein_coding 3541566   3546691  \n",
       "LRRC47   LRRC47      ENSG00000130764 chr1 protein_coding 3696784   3713068  \n",
       "DFFB     DFFB        ENSG00000169598 chr1 protein_coding 3773845   3801993  \n",
       "⋮        ⋮           ⋮               ⋮    ⋮              ⋮         ⋮        \n",
       "XIAP     XIAP        ENSG00000101966 chrX protein_coding 122993574 123047829\n",
       "STAG2    STAG2       ENSG00000101972 chrX protein_coding 123094062 123556514\n",
       "SASH3    SASH3       ENSG00000122122 chrX protein_coding 128913955 128929177\n",
       "ZDHHC9   ZDHHC9      ENSG00000188706 chrX protein_coding 128937264 128977885\n",
       "UTP14A   UTP14A      ENSG00000156697 chrX protein_coding 129040097 129063737\n",
       "BCORL1   BCORL1      ENSG00000085185 chrX protein_coding 129115083 129192058\n",
       "ELF4     ELF4        ENSG00000102034 chrX protein_coding 129198849 129244691\n",
       "AIFM1    AIFM1       ENSG00000156709 chrX protein_coding 129263337 129299861\n",
       "ZNF280C  ZNF280C     ENSG00000056277 chrX protein_coding 129336685 129402873\n",
       "SLC25A14 SLC25A14    ENSG00000102078 chrX protein_coding 129473874 129507335\n",
       "RBMX2    RBMX2       ENSG00000134597 chrX protein_coding 129535943 129547317\n",
       "ENOX2    ENOX2       ENSG00000165675 chrX protein_coding 129757350 130037208\n",
       "MST4     MST4        ENSG00000134602 chrX protein_coding 131157293 131209971\n",
       "RAP2C    RAP2C       ENSG00000123728 chrX protein_coding 131337053 131353471\n",
       "MBNL3    MBNL3       ENSG00000076770 chrX protein_coding 131503345 131623996\n",
       "PHF6     PHF6        ENSG00000156531 chrX protein_coding 133507283 133562820\n",
       "HPRT1    HPRT1       ENSG00000165704 chrX protein_coding 133594183 133654543\n",
       "FAM122B  FAM122B     ENSG00000156504 chrX protein_coding 133903596 133931262\n",
       "FAM122C  FAM122C     ENSG00000156500 chrX protein_coding 133930819 133988640\n",
       "MOSPD1   MOSPD1      ENSG00000101928 chrX protein_coding 134021656 134049297\n",
       "FAM127A  FAM127A     ENSG00000134590 chrX protein_coding 134166333 134167576\n",
       "FAM127B  FAM127B     ENSG00000203950 chrX protein_coding 134184962 134186226\n",
       "MAP7D3   MAP7D3      ENSG00000129680 chrX protein_coding 135295381 135338641\n",
       "HTATSF1  HTATSF1     ENSG00000102241 chrX protein_coding 135579238 135594505\n",
       "ARHGEF6  ARHGEF6     ENSG00000129675 chrX protein_coding 135747706 135864247\n",
       "RBMX     RBMX        ENSG00000147274 chrX protein_coding 135930163 135962923\n",
       "TMEM185A TMEM185A    ENSG00000155984 chrX protein_coding 148678216 148713568\n",
       "VMA21    VMA21       ENSG00000160131 chrX protein_coding 150564987 150577836\n",
       "ZFY      ZFY         ENSG00000067646 chrY protein_coding   2803112   2850547\n",
       "UTY      UTY         ENSG00000183878 chrY protein_coding  15360259  15592553\n",
       "         strand OutgoingRepressorLinks OutgoingActivatorLinks\n",
       "NOC2L    -      1.0                    7.0                   \n",
       "KLHL17   +      1.0                    5.5                   \n",
       "HES4     -      0.5                    2.5                   \n",
       "ISG15    +      0.0                    9.0                   \n",
       "AGRN     +      1.0                    3.0                   \n",
       "C1orf159 -      0.0                    4.5                   \n",
       "UBE2J2   -      0.0                    1.5                   \n",
       "PUSL1    +      1.0                    0.5                   \n",
       "CPSF3L   -      0.0                    2.5                   \n",
       "GLTPD1   +      0.5                    2.0                   \n",
       "DVL1     -      2.0                    6.5                   \n",
       "AURKAIP1 -      0.0                    1.5                   \n",
       "MRPL20   -      0.0                    2.0                   \n",
       "ATAD3B   +      2.0                    1.0                   \n",
       "ATAD3A   +      0.5                    2.0                   \n",
       "SSU72    -      2.0                    0.5                   \n",
       "CDK11B   -      0.0                    2.0                   \n",
       "CDK11A   -      1.0                    0.5                   \n",
       "NADK     -      0.5                    3.0                   \n",
       "GNB1     -      2.0                    3.5                   \n",
       "PRKCZ    +      0.5                    0.5                   \n",
       "C1orf86  -      0.0                    7.0                   \n",
       "SKI      +      0.0                    2.5                   \n",
       "MORN1    -      0.5                    1.5                   \n",
       "RER1     +      0.5                    2.5                   \n",
       "PEX10    -      0.0                    1.5                   \n",
       "PANK4    -      0.0                    0.5                   \n",
       "TPRG1L   +      0.0                    1.5                   \n",
       "LRRC47   -      0.5                    1.5                   \n",
       "DFFB     +      0.5                    1.0                   \n",
       "⋮        ⋮      ⋮                      ⋮                     \n",
       "XIAP     +      0.0                    4.0                   \n",
       "STAG2    +      0.5                    2.5                   \n",
       "SASH3    +      0.0                    6.0                   \n",
       "ZDHHC9   -      1.0                    4.0                   \n",
       "UTP14A   +      3.5                    3.0                   \n",
       "BCORL1   +      1.0                    1.5                   \n",
       "ELF4     -      0.5                    2.0                   \n",
       "AIFM1    -      2.0                    5.5                   \n",
       "ZNF280C  -      1.5                    2.0                   \n",
       "SLC25A14 +      1.0                    3.0                   \n",
       "RBMX2    +      0.0                    3.5                   \n",
       "ENOX2    -      1.0                    0.5                   \n",
       "MST4     +      0.5                    4.5                   \n",
       "RAP2C    -      0.0                    1.5                   \n",
       "MBNL3    -      0.5                    2.0                   \n",
       "PHF6     +      0.5                    1.5                   \n",
       "HPRT1    +      1.5                    0.5                   \n",
       "FAM122B  -      0.0                    4.5                   \n",
       "FAM122C  +      1.5                    2.0                   \n",
       "MOSPD1   -      1.0                    5.0                   \n",
       "FAM127A  +      3.0                    4.0                   \n",
       "FAM127B  -      0.5                    1.5                   \n",
       "MAP7D3   -      0.0                    1.5                   \n",
       "HTATSF1  +      0.5                    2.5                   \n",
       "ARHGEF6  -      1.0                    2.5                   \n",
       "RBMX     -      0.5                    5.0                   \n",
       "TMEM185A -      2.0                    1.5                   \n",
       "VMA21    +      2.0                    8.5                   \n",
       "ZFY      +      1.0                    0.5                   \n",
       "UTY      -      1.5                    1.0                   \n",
       "         activated_target_genes              repressed_target_genes\n",
       "NOC2L    NUDC;DPH2;RRP12;NOL6                                      \n",
       "KLHL17   RNF207;ATXN7L2                                            \n",
       "HES4     RPP25                                                     \n",
       "ISG15    IFI6;IFITM1;IRF7;SP110;OGFR                               \n",
       "AGRN                                                               \n",
       "C1orf159 ULK1;RABEP2;CAPN10                                        \n",
       "UBE2J2                                                             \n",
       "PUSL1                                                              \n",
       "CPSF3L   ZBTB48                                                    \n",
       "GLTPD1                                                             \n",
       "DVL1     PLEKHM2;RFNG;MFSD10                                       \n",
       "AURKAIP1                                                           \n",
       "MRPL20   PARK7                                                     \n",
       "ATAD3B                                                             \n",
       "ATAD3A                                                             \n",
       "SSU72                                                              \n",
       "CDK11B                                                             \n",
       "CDK11A                                                             \n",
       "NADK                                                               \n",
       "GNB1     KIF1B;EXOSC10                                             \n",
       "PRKCZ                                                              \n",
       "C1orf86  ZBTB17;ZNF668;ADAT3;MIF                                   \n",
       "SKI      ZNF436                                                    \n",
       "MORN1    LRRC56                                                    \n",
       "RER1                                                               \n",
       "PEX10                                                              \n",
       "PANK4                                                              \n",
       "TPRG1L                                                             \n",
       "LRRC47   UBIAD1                                                    \n",
       "DFFB                                                               \n",
       "⋮        ⋮                                   ⋮                     \n",
       "XIAP     UBXN4                                                     \n",
       "STAG2    MANEA                                                     \n",
       "SASH3    ARHGAP30;CORO1A;VAV1;CD37;IKZF1                           \n",
       "ZDHHC9   USP27X;SNX12                                              \n",
       "UTP14A                                                             \n",
       "BCORL1                                                             \n",
       "ELF4                                                               \n",
       "AIFM1                                                              \n",
       "ZNF280C                                                            \n",
       "SLC25A14                                                           \n",
       "RBMX2    MRPL11                                                    \n",
       "ENOX2                                                              \n",
       "MST4     RAB3IP                                                    \n",
       "RAP2C                                                              \n",
       "MBNL3                                                              \n",
       "PHF6     GABPA                                                     \n",
       "HPRT1                                                              \n",
       "FAM122B  IRAK4;HNRNPA2B1                                           \n",
       "FAM122C  LMBRD2                                                    \n",
       "MOSPD1   CPEB2                                                     \n",
       "FAM127A                                      RBM27                 \n",
       "FAM127B                                                            \n",
       "MAP7D3                                                             \n",
       "HTATSF1  PGRMC1                                                    \n",
       "ARHGEF6                                                            \n",
       "RBMX     ILF3                                                      \n",
       "TMEM185A                                                           \n",
       "VMA21    C14orf142;APOL6;LYRM7;EIF1AX;PSMD10 GMPPB                 \n",
       "ZFY                                                                \n",
       "UTY                                          RPS4X                 "
      ]
     },
     "metadata": {},
     "output_type": "display_data"
    }
   ],
   "source": [
    "connectStatsOut = data.frame(stringsAsFactors = F, source_gene = conn$Gene, \n",
    "                             geneAnnotFull[conn$Gene,c(\"EnsemblID\",\"chr\",\"type\",\"start\",\"end\",\"strand\")],\n",
    "                             linkStatMeans[,c(\"OutgoingRepressorLinks\",\"OutgoingActivatorLinks\")], \n",
    "                            activated_target_genes=commonActivatedGenes, \n",
    "                            repressed_target_genes = commonRepressedGenes)\n",
    "connectStatsOut"
   ]
  },
  {
   "cell_type": "code",
   "execution_count": 139,
   "id": "36e6a7d7",
   "metadata": {},
   "outputs": [],
   "source": [
    "# load gene pathway memberships (from circos plot notbook)\n",
    "geneList = readRDS(file = paste0(basePath,\"annotation/gene-pathways-membership-lists.rds\"))"
   ]
  },
  {
   "cell_type": "code",
   "execution_count": 140,
   "id": "9a02ee7a",
   "metadata": {},
   "outputs": [
    {
     "data": {
      "text/html": [
       "<style>\n",
       ".list-inline {list-style: none; margin:0; padding: 0}\n",
       ".list-inline>li {display: inline-block}\n",
       ".list-inline>li:not(:last-child)::after {content: \"\\00b7\"; padding: 0 .5ex}\n",
       "</style>\n",
       "<ol class=list-inline><li>'immuneGenes'</li><li>'metabolicGenes'</li><li>'signalingGenes'</li><li>'cancerCensus'</li><li>'oncogene'</li><li>'tumorsuppr'</li><li>'TFs'</li></ol>\n"
      ],
      "text/latex": [
       "\\begin{enumerate*}\n",
       "\\item 'immuneGenes'\n",
       "\\item 'metabolicGenes'\n",
       "\\item 'signalingGenes'\n",
       "\\item 'cancerCensus'\n",
       "\\item 'oncogene'\n",
       "\\item 'tumorsuppr'\n",
       "\\item 'TFs'\n",
       "\\end{enumerate*}\n"
      ],
      "text/markdown": [
       "1. 'immuneGenes'\n",
       "2. 'metabolicGenes'\n",
       "3. 'signalingGenes'\n",
       "4. 'cancerCensus'\n",
       "5. 'oncogene'\n",
       "6. 'tumorsuppr'\n",
       "7. 'TFs'\n",
       "\n",
       "\n"
      ],
      "text/plain": [
       "[1] \"immuneGenes\"    \"metabolicGenes\" \"signalingGenes\" \"cancerCensus\"  \n",
       "[5] \"oncogene\"       \"tumorsuppr\"     \"TFs\"           "
      ]
     },
     "metadata": {},
     "output_type": "display_data"
    },
    {
     "data": {
      "text/html": [
       "<style>\n",
       ".list-inline {list-style: none; margin:0; padding: 0}\n",
       ".list-inline>li {display: inline-block}\n",
       ".list-inline>li:not(:last-child)::after {content: \"\\00b7\"; padding: 0 .5ex}\n",
       "</style>\n",
       "<ol class=list-inline><li>'SKI'</li><li>'TNFRSF14'</li><li>'PRDM16'</li><li>'RPL22'</li><li>'CAMTA1'</li><li>'MTOR'</li></ol>\n"
      ],
      "text/latex": [
       "\\begin{enumerate*}\n",
       "\\item 'SKI'\n",
       "\\item 'TNFRSF14'\n",
       "\\item 'PRDM16'\n",
       "\\item 'RPL22'\n",
       "\\item 'CAMTA1'\n",
       "\\item 'MTOR'\n",
       "\\end{enumerate*}\n"
      ],
      "text/markdown": [
       "1. 'SKI'\n",
       "2. 'TNFRSF14'\n",
       "3. 'PRDM16'\n",
       "4. 'RPL22'\n",
       "5. 'CAMTA1'\n",
       "6. 'MTOR'\n",
       "\n",
       "\n"
      ],
      "text/plain": [
       "[1] \"SKI\"      \"TNFRSF14\" \"PRDM16\"   \"RPL22\"    \"CAMTA1\"   \"MTOR\"    "
      ]
     },
     "metadata": {},
     "output_type": "display_data"
    }
   ],
   "source": [
    "names(geneList)\n",
    "head(geneList$cancerCensus)"
   ]
  },
  {
   "cell_type": "code",
   "execution_count": 141,
   "id": "0671f7fc",
   "metadata": {},
   "outputs": [],
   "source": [
    "genePWannot = data.frame(stringsAsFactors = F,matrix(\n",
    "    data = \"no\",nrow = nrow(connectStatsOut), ncol = length(geneList),\n",
    "    dimnames = c(list(connectStatsOut$source_gene), list(colnames=names(geneList))) ))"
   ]
  },
  {
   "cell_type": "code",
   "execution_count": 142,
   "id": "a2e008ab",
   "metadata": {},
   "outputs": [],
   "source": [
    "for(i in 1:length(geneList)) {\n",
    "    wh = which(connectStatsOut$source_gene %in% geneList[[i]])\n",
    "    if(length(wh)>0) {\n",
    "        genePWannot[wh,i] = \"yes\"\n",
    "    }\n",
    "}"
   ]
  },
  {
   "cell_type": "code",
   "execution_count": 143,
   "id": "e6e0506b",
   "metadata": {},
   "outputs": [
    {
     "data": {
      "text/html": [
       "<table class=\"dataframe\">\n",
       "<caption>A data.frame: 8251 × 7</caption>\n",
       "<thead>\n",
       "\t<tr><th></th><th scope=col>immune system</th><th scope=col>metabolism</th><th scope=col>signaling pathway</th><th scope=col>cancer census</th><th scope=col>oncogene</th><th scope=col>tumor suppressor</th><th scope=col>transcription factor</th></tr>\n",
       "\t<tr><th></th><th scope=col>&lt;chr&gt;</th><th scope=col>&lt;chr&gt;</th><th scope=col>&lt;chr&gt;</th><th scope=col>&lt;chr&gt;</th><th scope=col>&lt;chr&gt;</th><th scope=col>&lt;chr&gt;</th><th scope=col>&lt;chr&gt;</th></tr>\n",
       "</thead>\n",
       "<tbody>\n",
       "\t<tr><th scope=row>NOC2L</th><td>no </td><td>no</td><td>no </td><td>no </td><td>no</td><td>no</td><td>no </td></tr>\n",
       "\t<tr><th scope=row>KLHL17</th><td>no </td><td>no</td><td>no </td><td>no </td><td>no</td><td>no</td><td>no </td></tr>\n",
       "\t<tr><th scope=row>HES4</th><td>no </td><td>no</td><td>no </td><td>no </td><td>no</td><td>no</td><td>yes</td></tr>\n",
       "\t<tr><th scope=row>ISG15</th><td>yes</td><td>no</td><td>no </td><td>no </td><td>no</td><td>no</td><td>no </td></tr>\n",
       "\t<tr><th scope=row>AGRN</th><td>no </td><td>no</td><td>yes</td><td>no </td><td>no</td><td>no</td><td>no </td></tr>\n",
       "\t<tr><th scope=row>C1orf159</th><td>no </td><td>no</td><td>no </td><td>no </td><td>no</td><td>no</td><td>no </td></tr>\n",
       "\t<tr><th scope=row>UBE2J2</th><td>no </td><td>no</td><td>no </td><td>no </td><td>no</td><td>no</td><td>no </td></tr>\n",
       "\t<tr><th scope=row>PUSL1</th><td>no </td><td>no</td><td>no </td><td>no </td><td>no</td><td>no</td><td>no </td></tr>\n",
       "\t<tr><th scope=row>CPSF3L</th><td>no </td><td>no</td><td>no </td><td>no </td><td>no</td><td>no</td><td>no </td></tr>\n",
       "\t<tr><th scope=row>GLTPD1</th><td>no </td><td>no</td><td>no </td><td>no </td><td>no</td><td>no</td><td>no </td></tr>\n",
       "\t<tr><th scope=row>DVL1</th><td>no </td><td>no</td><td>yes</td><td>no </td><td>no</td><td>no</td><td>yes</td></tr>\n",
       "\t<tr><th scope=row>AURKAIP1</th><td>no </td><td>no</td><td>no </td><td>no </td><td>no</td><td>no</td><td>no </td></tr>\n",
       "\t<tr><th scope=row>MRPL20</th><td>no </td><td>no</td><td>no </td><td>no </td><td>no</td><td>no</td><td>no </td></tr>\n",
       "\t<tr><th scope=row>ATAD3B</th><td>no </td><td>no</td><td>no </td><td>no </td><td>no</td><td>no</td><td>yes</td></tr>\n",
       "\t<tr><th scope=row>ATAD3A</th><td>no </td><td>no</td><td>no </td><td>no </td><td>no</td><td>no</td><td>yes</td></tr>\n",
       "\t<tr><th scope=row>SSU72</th><td>no </td><td>no</td><td>no </td><td>no </td><td>no</td><td>no</td><td>no </td></tr>\n",
       "\t<tr><th scope=row>CDK11B</th><td>no </td><td>no</td><td>no </td><td>no </td><td>no</td><td>no</td><td>no </td></tr>\n",
       "\t<tr><th scope=row>CDK11A</th><td>no </td><td>no</td><td>no </td><td>no </td><td>no</td><td>no</td><td>no </td></tr>\n",
       "\t<tr><th scope=row>NADK</th><td>no </td><td>no</td><td>no </td><td>no </td><td>no</td><td>no</td><td>no </td></tr>\n",
       "\t<tr><th scope=row>GNB1</th><td>no </td><td>no</td><td>yes</td><td>no </td><td>no</td><td>no</td><td>no </td></tr>\n",
       "\t<tr><th scope=row>PRKCZ</th><td>no </td><td>no</td><td>yes</td><td>no </td><td>no</td><td>no</td><td>no </td></tr>\n",
       "\t<tr><th scope=row>C1orf86</th><td>no </td><td>no</td><td>no </td><td>no </td><td>no</td><td>no</td><td>no </td></tr>\n",
       "\t<tr><th scope=row>SKI</th><td>no </td><td>no</td><td>no </td><td>yes</td><td>no</td><td>no</td><td>yes</td></tr>\n",
       "\t<tr><th scope=row>MORN1</th><td>no </td><td>no</td><td>no </td><td>no </td><td>no</td><td>no</td><td>no </td></tr>\n",
       "\t<tr><th scope=row>RER1</th><td>no </td><td>no</td><td>no </td><td>no </td><td>no</td><td>no</td><td>no </td></tr>\n",
       "\t<tr><th scope=row>PEX10</th><td>no </td><td>no</td><td>no </td><td>no </td><td>no</td><td>no</td><td>no </td></tr>\n",
       "\t<tr><th scope=row>PANK4</th><td>no </td><td>no</td><td>no </td><td>no </td><td>no</td><td>no</td><td>no </td></tr>\n",
       "\t<tr><th scope=row>TPRG1L</th><td>no </td><td>no</td><td>no </td><td>no </td><td>no</td><td>no</td><td>no </td></tr>\n",
       "\t<tr><th scope=row>LRRC47</th><td>no </td><td>no</td><td>no </td><td>no </td><td>no</td><td>no</td><td>no </td></tr>\n",
       "\t<tr><th scope=row>DFFB</th><td>no </td><td>no</td><td>yes</td><td>no </td><td>no</td><td>no</td><td>no </td></tr>\n",
       "\t<tr><th scope=row>⋮</th><td>⋮</td><td>⋮</td><td>⋮</td><td>⋮</td><td>⋮</td><td>⋮</td><td>⋮</td></tr>\n",
       "\t<tr><th scope=row>XIAP</th><td>yes</td><td>no </td><td>yes</td><td>no </td><td>no</td><td>no </td><td>no </td></tr>\n",
       "\t<tr><th scope=row>STAG2</th><td>no </td><td>no </td><td>yes</td><td>yes</td><td>no</td><td>yes</td><td>no </td></tr>\n",
       "\t<tr><th scope=row>SASH3</th><td>no </td><td>no </td><td>no </td><td>no </td><td>no</td><td>no </td><td>no </td></tr>\n",
       "\t<tr><th scope=row>ZDHHC9</th><td>no </td><td>no </td><td>no </td><td>no </td><td>no</td><td>no </td><td>no </td></tr>\n",
       "\t<tr><th scope=row>UTP14A</th><td>no </td><td>no </td><td>no </td><td>no </td><td>no</td><td>no </td><td>no </td></tr>\n",
       "\t<tr><th scope=row>BCORL1</th><td>no </td><td>no </td><td>no </td><td>yes</td><td>no</td><td>yes</td><td>no </td></tr>\n",
       "\t<tr><th scope=row>ELF4</th><td>no </td><td>no </td><td>no </td><td>yes</td><td>no</td><td>no </td><td>yes</td></tr>\n",
       "\t<tr><th scope=row>AIFM1</th><td>no </td><td>no </td><td>yes</td><td>no </td><td>no</td><td>no </td><td>no </td></tr>\n",
       "\t<tr><th scope=row>ZNF280C</th><td>no </td><td>no </td><td>no </td><td>no </td><td>no</td><td>no </td><td>yes</td></tr>\n",
       "\t<tr><th scope=row>SLC25A14</th><td>no </td><td>no </td><td>no </td><td>no </td><td>no</td><td>no </td><td>no </td></tr>\n",
       "\t<tr><th scope=row>RBMX2</th><td>no </td><td>no </td><td>no </td><td>no </td><td>no</td><td>no </td><td>no </td></tr>\n",
       "\t<tr><th scope=row>ENOX2</th><td>no </td><td>no </td><td>no </td><td>no </td><td>no</td><td>no </td><td>no </td></tr>\n",
       "\t<tr><th scope=row>MST4</th><td>no </td><td>no </td><td>no </td><td>no </td><td>no</td><td>no </td><td>no </td></tr>\n",
       "\t<tr><th scope=row>RAP2C</th><td>no </td><td>no </td><td>no </td><td>no </td><td>no</td><td>no </td><td>no </td></tr>\n",
       "\t<tr><th scope=row>MBNL3</th><td>no </td><td>no </td><td>no </td><td>no </td><td>no</td><td>no </td><td>yes</td></tr>\n",
       "\t<tr><th scope=row>PHF6</th><td>no </td><td>no </td><td>no </td><td>yes</td><td>no</td><td>yes</td><td>no </td></tr>\n",
       "\t<tr><th scope=row>HPRT1</th><td>no </td><td>yes</td><td>no </td><td>no </td><td>no</td><td>no </td><td>no </td></tr>\n",
       "\t<tr><th scope=row>FAM122B</th><td>no </td><td>no </td><td>no </td><td>no </td><td>no</td><td>no </td><td>no </td></tr>\n",
       "\t<tr><th scope=row>FAM122C</th><td>no </td><td>no </td><td>no </td><td>no </td><td>no</td><td>no </td><td>no </td></tr>\n",
       "\t<tr><th scope=row>MOSPD1</th><td>no </td><td>no </td><td>no </td><td>no </td><td>no</td><td>no </td><td>no </td></tr>\n",
       "\t<tr><th scope=row>FAM127A</th><td>no </td><td>no </td><td>no </td><td>no </td><td>no</td><td>no </td><td>no </td></tr>\n",
       "\t<tr><th scope=row>FAM127B</th><td>no </td><td>no </td><td>no </td><td>no </td><td>no</td><td>no </td><td>no </td></tr>\n",
       "\t<tr><th scope=row>MAP7D3</th><td>no </td><td>no </td><td>no </td><td>no </td><td>no</td><td>no </td><td>no </td></tr>\n",
       "\t<tr><th scope=row>HTATSF1</th><td>no </td><td>no </td><td>no </td><td>no </td><td>no</td><td>no </td><td>no </td></tr>\n",
       "\t<tr><th scope=row>ARHGEF6</th><td>no </td><td>no </td><td>no </td><td>no </td><td>no</td><td>no </td><td>no </td></tr>\n",
       "\t<tr><th scope=row>RBMX</th><td>no </td><td>no </td><td>no </td><td>no </td><td>no</td><td>yes</td><td>no </td></tr>\n",
       "\t<tr><th scope=row>TMEM185A</th><td>no </td><td>no </td><td>no </td><td>no </td><td>no</td><td>no </td><td>no </td></tr>\n",
       "\t<tr><th scope=row>VMA21</th><td>no </td><td>no </td><td>no </td><td>no </td><td>no</td><td>no </td><td>no </td></tr>\n",
       "\t<tr><th scope=row>ZFY</th><td>no </td><td>no </td><td>no </td><td>no </td><td>no</td><td>no </td><td>no </td></tr>\n",
       "\t<tr><th scope=row>UTY</th><td>no </td><td>no </td><td>no </td><td>no </td><td>no</td><td>no </td><td>no </td></tr>\n",
       "</tbody>\n",
       "</table>\n"
      ],
      "text/latex": [
       "A data.frame: 8251 × 7\n",
       "\\begin{tabular}{r|lllllll}\n",
       "  & immune system & metabolism & signaling pathway & cancer census & oncogene & tumor suppressor & transcription factor\\\\\n",
       "  & <chr> & <chr> & <chr> & <chr> & <chr> & <chr> & <chr>\\\\\n",
       "\\hline\n",
       "\tNOC2L & no  & no & no  & no  & no & no & no \\\\\n",
       "\tKLHL17 & no  & no & no  & no  & no & no & no \\\\\n",
       "\tHES4 & no  & no & no  & no  & no & no & yes\\\\\n",
       "\tISG15 & yes & no & no  & no  & no & no & no \\\\\n",
       "\tAGRN & no  & no & yes & no  & no & no & no \\\\\n",
       "\tC1orf159 & no  & no & no  & no  & no & no & no \\\\\n",
       "\tUBE2J2 & no  & no & no  & no  & no & no & no \\\\\n",
       "\tPUSL1 & no  & no & no  & no  & no & no & no \\\\\n",
       "\tCPSF3L & no  & no & no  & no  & no & no & no \\\\\n",
       "\tGLTPD1 & no  & no & no  & no  & no & no & no \\\\\n",
       "\tDVL1 & no  & no & yes & no  & no & no & yes\\\\\n",
       "\tAURKAIP1 & no  & no & no  & no  & no & no & no \\\\\n",
       "\tMRPL20 & no  & no & no  & no  & no & no & no \\\\\n",
       "\tATAD3B & no  & no & no  & no  & no & no & yes\\\\\n",
       "\tATAD3A & no  & no & no  & no  & no & no & yes\\\\\n",
       "\tSSU72 & no  & no & no  & no  & no & no & no \\\\\n",
       "\tCDK11B & no  & no & no  & no  & no & no & no \\\\\n",
       "\tCDK11A & no  & no & no  & no  & no & no & no \\\\\n",
       "\tNADK & no  & no & no  & no  & no & no & no \\\\\n",
       "\tGNB1 & no  & no & yes & no  & no & no & no \\\\\n",
       "\tPRKCZ & no  & no & yes & no  & no & no & no \\\\\n",
       "\tC1orf86 & no  & no & no  & no  & no & no & no \\\\\n",
       "\tSKI & no  & no & no  & yes & no & no & yes\\\\\n",
       "\tMORN1 & no  & no & no  & no  & no & no & no \\\\\n",
       "\tRER1 & no  & no & no  & no  & no & no & no \\\\\n",
       "\tPEX10 & no  & no & no  & no  & no & no & no \\\\\n",
       "\tPANK4 & no  & no & no  & no  & no & no & no \\\\\n",
       "\tTPRG1L & no  & no & no  & no  & no & no & no \\\\\n",
       "\tLRRC47 & no  & no & no  & no  & no & no & no \\\\\n",
       "\tDFFB & no  & no & yes & no  & no & no & no \\\\\n",
       "\t⋮ & ⋮ & ⋮ & ⋮ & ⋮ & ⋮ & ⋮ & ⋮\\\\\n",
       "\tXIAP & yes & no  & yes & no  & no & no  & no \\\\\n",
       "\tSTAG2 & no  & no  & yes & yes & no & yes & no \\\\\n",
       "\tSASH3 & no  & no  & no  & no  & no & no  & no \\\\\n",
       "\tZDHHC9 & no  & no  & no  & no  & no & no  & no \\\\\n",
       "\tUTP14A & no  & no  & no  & no  & no & no  & no \\\\\n",
       "\tBCORL1 & no  & no  & no  & yes & no & yes & no \\\\\n",
       "\tELF4 & no  & no  & no  & yes & no & no  & yes\\\\\n",
       "\tAIFM1 & no  & no  & yes & no  & no & no  & no \\\\\n",
       "\tZNF280C & no  & no  & no  & no  & no & no  & yes\\\\\n",
       "\tSLC25A14 & no  & no  & no  & no  & no & no  & no \\\\\n",
       "\tRBMX2 & no  & no  & no  & no  & no & no  & no \\\\\n",
       "\tENOX2 & no  & no  & no  & no  & no & no  & no \\\\\n",
       "\tMST4 & no  & no  & no  & no  & no & no  & no \\\\\n",
       "\tRAP2C & no  & no  & no  & no  & no & no  & no \\\\\n",
       "\tMBNL3 & no  & no  & no  & no  & no & no  & yes\\\\\n",
       "\tPHF6 & no  & no  & no  & yes & no & yes & no \\\\\n",
       "\tHPRT1 & no  & yes & no  & no  & no & no  & no \\\\\n",
       "\tFAM122B & no  & no  & no  & no  & no & no  & no \\\\\n",
       "\tFAM122C & no  & no  & no  & no  & no & no  & no \\\\\n",
       "\tMOSPD1 & no  & no  & no  & no  & no & no  & no \\\\\n",
       "\tFAM127A & no  & no  & no  & no  & no & no  & no \\\\\n",
       "\tFAM127B & no  & no  & no  & no  & no & no  & no \\\\\n",
       "\tMAP7D3 & no  & no  & no  & no  & no & no  & no \\\\\n",
       "\tHTATSF1 & no  & no  & no  & no  & no & no  & no \\\\\n",
       "\tARHGEF6 & no  & no  & no  & no  & no & no  & no \\\\\n",
       "\tRBMX & no  & no  & no  & no  & no & yes & no \\\\\n",
       "\tTMEM185A & no  & no  & no  & no  & no & no  & no \\\\\n",
       "\tVMA21 & no  & no  & no  & no  & no & no  & no \\\\\n",
       "\tZFY & no  & no  & no  & no  & no & no  & no \\\\\n",
       "\tUTY & no  & no  & no  & no  & no & no  & no \\\\\n",
       "\\end{tabular}\n"
      ],
      "text/markdown": [
       "\n",
       "A data.frame: 8251 × 7\n",
       "\n",
       "| <!--/--> | immune system &lt;chr&gt; | metabolism &lt;chr&gt; | signaling pathway &lt;chr&gt; | cancer census &lt;chr&gt; | oncogene &lt;chr&gt; | tumor suppressor &lt;chr&gt; | transcription factor &lt;chr&gt; |\n",
       "|---|---|---|---|---|---|---|---|\n",
       "| NOC2L | no  | no | no  | no  | no | no | no  |\n",
       "| KLHL17 | no  | no | no  | no  | no | no | no  |\n",
       "| HES4 | no  | no | no  | no  | no | no | yes |\n",
       "| ISG15 | yes | no | no  | no  | no | no | no  |\n",
       "| AGRN | no  | no | yes | no  | no | no | no  |\n",
       "| C1orf159 | no  | no | no  | no  | no | no | no  |\n",
       "| UBE2J2 | no  | no | no  | no  | no | no | no  |\n",
       "| PUSL1 | no  | no | no  | no  | no | no | no  |\n",
       "| CPSF3L | no  | no | no  | no  | no | no | no  |\n",
       "| GLTPD1 | no  | no | no  | no  | no | no | no  |\n",
       "| DVL1 | no  | no | yes | no  | no | no | yes |\n",
       "| AURKAIP1 | no  | no | no  | no  | no | no | no  |\n",
       "| MRPL20 | no  | no | no  | no  | no | no | no  |\n",
       "| ATAD3B | no  | no | no  | no  | no | no | yes |\n",
       "| ATAD3A | no  | no | no  | no  | no | no | yes |\n",
       "| SSU72 | no  | no | no  | no  | no | no | no  |\n",
       "| CDK11B | no  | no | no  | no  | no | no | no  |\n",
       "| CDK11A | no  | no | no  | no  | no | no | no  |\n",
       "| NADK | no  | no | no  | no  | no | no | no  |\n",
       "| GNB1 | no  | no | yes | no  | no | no | no  |\n",
       "| PRKCZ | no  | no | yes | no  | no | no | no  |\n",
       "| C1orf86 | no  | no | no  | no  | no | no | no  |\n",
       "| SKI | no  | no | no  | yes | no | no | yes |\n",
       "| MORN1 | no  | no | no  | no  | no | no | no  |\n",
       "| RER1 | no  | no | no  | no  | no | no | no  |\n",
       "| PEX10 | no  | no | no  | no  | no | no | no  |\n",
       "| PANK4 | no  | no | no  | no  | no | no | no  |\n",
       "| TPRG1L | no  | no | no  | no  | no | no | no  |\n",
       "| LRRC47 | no  | no | no  | no  | no | no | no  |\n",
       "| DFFB | no  | no | yes | no  | no | no | no  |\n",
       "| ⋮ | ⋮ | ⋮ | ⋮ | ⋮ | ⋮ | ⋮ | ⋮ |\n",
       "| XIAP | yes | no  | yes | no  | no | no  | no  |\n",
       "| STAG2 | no  | no  | yes | yes | no | yes | no  |\n",
       "| SASH3 | no  | no  | no  | no  | no | no  | no  |\n",
       "| ZDHHC9 | no  | no  | no  | no  | no | no  | no  |\n",
       "| UTP14A | no  | no  | no  | no  | no | no  | no  |\n",
       "| BCORL1 | no  | no  | no  | yes | no | yes | no  |\n",
       "| ELF4 | no  | no  | no  | yes | no | no  | yes |\n",
       "| AIFM1 | no  | no  | yes | no  | no | no  | no  |\n",
       "| ZNF280C | no  | no  | no  | no  | no | no  | yes |\n",
       "| SLC25A14 | no  | no  | no  | no  | no | no  | no  |\n",
       "| RBMX2 | no  | no  | no  | no  | no | no  | no  |\n",
       "| ENOX2 | no  | no  | no  | no  | no | no  | no  |\n",
       "| MST4 | no  | no  | no  | no  | no | no  | no  |\n",
       "| RAP2C | no  | no  | no  | no  | no | no  | no  |\n",
       "| MBNL3 | no  | no  | no  | no  | no | no  | yes |\n",
       "| PHF6 | no  | no  | no  | yes | no | yes | no  |\n",
       "| HPRT1 | no  | yes | no  | no  | no | no  | no  |\n",
       "| FAM122B | no  | no  | no  | no  | no | no  | no  |\n",
       "| FAM122C | no  | no  | no  | no  | no | no  | no  |\n",
       "| MOSPD1 | no  | no  | no  | no  | no | no  | no  |\n",
       "| FAM127A | no  | no  | no  | no  | no | no  | no  |\n",
       "| FAM127B | no  | no  | no  | no  | no | no  | no  |\n",
       "| MAP7D3 | no  | no  | no  | no  | no | no  | no  |\n",
       "| HTATSF1 | no  | no  | no  | no  | no | no  | no  |\n",
       "| ARHGEF6 | no  | no  | no  | no  | no | no  | no  |\n",
       "| RBMX | no  | no  | no  | no  | no | yes | no  |\n",
       "| TMEM185A | no  | no  | no  | no  | no | no  | no  |\n",
       "| VMA21 | no  | no  | no  | no  | no | no  | no  |\n",
       "| ZFY | no  | no  | no  | no  | no | no  | no  |\n",
       "| UTY | no  | no  | no  | no  | no | no  | no  |\n",
       "\n"
      ],
      "text/plain": [
       "         immune system metabolism signaling pathway cancer census oncogene\n",
       "NOC2L    no            no         no                no            no      \n",
       "KLHL17   no            no         no                no            no      \n",
       "HES4     no            no         no                no            no      \n",
       "ISG15    yes           no         no                no            no      \n",
       "AGRN     no            no         yes               no            no      \n",
       "C1orf159 no            no         no                no            no      \n",
       "UBE2J2   no            no         no                no            no      \n",
       "PUSL1    no            no         no                no            no      \n",
       "CPSF3L   no            no         no                no            no      \n",
       "GLTPD1   no            no         no                no            no      \n",
       "DVL1     no            no         yes               no            no      \n",
       "AURKAIP1 no            no         no                no            no      \n",
       "MRPL20   no            no         no                no            no      \n",
       "ATAD3B   no            no         no                no            no      \n",
       "ATAD3A   no            no         no                no            no      \n",
       "SSU72    no            no         no                no            no      \n",
       "CDK11B   no            no         no                no            no      \n",
       "CDK11A   no            no         no                no            no      \n",
       "NADK     no            no         no                no            no      \n",
       "GNB1     no            no         yes               no            no      \n",
       "PRKCZ    no            no         yes               no            no      \n",
       "C1orf86  no            no         no                no            no      \n",
       "SKI      no            no         no                yes           no      \n",
       "MORN1    no            no         no                no            no      \n",
       "RER1     no            no         no                no            no      \n",
       "PEX10    no            no         no                no            no      \n",
       "PANK4    no            no         no                no            no      \n",
       "TPRG1L   no            no         no                no            no      \n",
       "LRRC47   no            no         no                no            no      \n",
       "DFFB     no            no         yes               no            no      \n",
       "⋮        ⋮             ⋮          ⋮                 ⋮             ⋮       \n",
       "XIAP     yes           no         yes               no            no      \n",
       "STAG2    no            no         yes               yes           no      \n",
       "SASH3    no            no         no                no            no      \n",
       "ZDHHC9   no            no         no                no            no      \n",
       "UTP14A   no            no         no                no            no      \n",
       "BCORL1   no            no         no                yes           no      \n",
       "ELF4     no            no         no                yes           no      \n",
       "AIFM1    no            no         yes               no            no      \n",
       "ZNF280C  no            no         no                no            no      \n",
       "SLC25A14 no            no         no                no            no      \n",
       "RBMX2    no            no         no                no            no      \n",
       "ENOX2    no            no         no                no            no      \n",
       "MST4     no            no         no                no            no      \n",
       "RAP2C    no            no         no                no            no      \n",
       "MBNL3    no            no         no                no            no      \n",
       "PHF6     no            no         no                yes           no      \n",
       "HPRT1    no            yes        no                no            no      \n",
       "FAM122B  no            no         no                no            no      \n",
       "FAM122C  no            no         no                no            no      \n",
       "MOSPD1   no            no         no                no            no      \n",
       "FAM127A  no            no         no                no            no      \n",
       "FAM127B  no            no         no                no            no      \n",
       "MAP7D3   no            no         no                no            no      \n",
       "HTATSF1  no            no         no                no            no      \n",
       "ARHGEF6  no            no         no                no            no      \n",
       "RBMX     no            no         no                no            no      \n",
       "TMEM185A no            no         no                no            no      \n",
       "VMA21    no            no         no                no            no      \n",
       "ZFY      no            no         no                no            no      \n",
       "UTY      no            no         no                no            no      \n",
       "         tumor suppressor transcription factor\n",
       "NOC2L    no               no                  \n",
       "KLHL17   no               no                  \n",
       "HES4     no               yes                 \n",
       "ISG15    no               no                  \n",
       "AGRN     no               no                  \n",
       "C1orf159 no               no                  \n",
       "UBE2J2   no               no                  \n",
       "PUSL1    no               no                  \n",
       "CPSF3L   no               no                  \n",
       "GLTPD1   no               no                  \n",
       "DVL1     no               yes                 \n",
       "AURKAIP1 no               no                  \n",
       "MRPL20   no               no                  \n",
       "ATAD3B   no               yes                 \n",
       "ATAD3A   no               yes                 \n",
       "SSU72    no               no                  \n",
       "CDK11B   no               no                  \n",
       "CDK11A   no               no                  \n",
       "NADK     no               no                  \n",
       "GNB1     no               no                  \n",
       "PRKCZ    no               no                  \n",
       "C1orf86  no               no                  \n",
       "SKI      no               yes                 \n",
       "MORN1    no               no                  \n",
       "RER1     no               no                  \n",
       "PEX10    no               no                  \n",
       "PANK4    no               no                  \n",
       "TPRG1L   no               no                  \n",
       "LRRC47   no               no                  \n",
       "DFFB     no               no                  \n",
       "⋮        ⋮                ⋮                   \n",
       "XIAP     no               no                  \n",
       "STAG2    yes              no                  \n",
       "SASH3    no               no                  \n",
       "ZDHHC9   no               no                  \n",
       "UTP14A   no               no                  \n",
       "BCORL1   yes              no                  \n",
       "ELF4     no               yes                 \n",
       "AIFM1    no               no                  \n",
       "ZNF280C  no               yes                 \n",
       "SLC25A14 no               no                  \n",
       "RBMX2    no               no                  \n",
       "ENOX2    no               no                  \n",
       "MST4     no               no                  \n",
       "RAP2C    no               no                  \n",
       "MBNL3    no               yes                 \n",
       "PHF6     yes              no                  \n",
       "HPRT1    no               no                  \n",
       "FAM122B  no               no                  \n",
       "FAM122C  no               no                  \n",
       "MOSPD1   no               no                  \n",
       "FAM127A  no               no                  \n",
       "FAM127B  no               no                  \n",
       "MAP7D3   no               no                  \n",
       "HTATSF1  no               no                  \n",
       "ARHGEF6  no               no                  \n",
       "RBMX     yes              no                  \n",
       "TMEM185A no               no                  \n",
       "VMA21    no               no                  \n",
       "ZFY      no               no                  \n",
       "UTY      no               no                  "
      ]
     },
     "metadata": {},
     "output_type": "display_data"
    }
   ],
   "source": [
    "colnames(genePWannot) = c(\"immune system\", \"metabolism\",\"signaling pathway\",\"cancer census\",\"oncogene\",\"tumor suppressor\",\"transcription factor\")\n",
    "genePWannot"
   ]
  },
  {
   "cell_type": "code",
   "execution_count": 144,
   "id": "5699c5db",
   "metadata": {
    "scrolled": true
   },
   "outputs": [
    {
     "data": {
      "text/html": [
       "<table class=\"dataframe\">\n",
       "<caption>A data.frame: 8251 × 18</caption>\n",
       "<thead>\n",
       "\t<tr><th></th><th scope=col>source_gene</th><th scope=col>EnsemblID</th><th scope=col>chr</th><th scope=col>type</th><th scope=col>start</th><th scope=col>end</th><th scope=col>strand</th><th scope=col>OutgoingRepressorLinks</th><th scope=col>OutgoingActivatorLinks</th><th scope=col>activated_target_genes</th><th scope=col>repressed_target_genes</th><th scope=col>immune system</th><th scope=col>metabolism</th><th scope=col>signaling pathway</th><th scope=col>cancer census</th><th scope=col>oncogene</th><th scope=col>tumor suppressor</th><th scope=col>transcription factor</th></tr>\n",
       "\t<tr><th></th><th scope=col>&lt;chr&gt;</th><th scope=col>&lt;chr&gt;</th><th scope=col>&lt;chr&gt;</th><th scope=col>&lt;chr&gt;</th><th scope=col>&lt;int&gt;</th><th scope=col>&lt;int&gt;</th><th scope=col>&lt;chr&gt;</th><th scope=col>&lt;dbl&gt;</th><th scope=col>&lt;dbl&gt;</th><th scope=col>&lt;chr&gt;</th><th scope=col>&lt;chr&gt;</th><th scope=col>&lt;chr&gt;</th><th scope=col>&lt;chr&gt;</th><th scope=col>&lt;chr&gt;</th><th scope=col>&lt;chr&gt;</th><th scope=col>&lt;chr&gt;</th><th scope=col>&lt;chr&gt;</th><th scope=col>&lt;chr&gt;</th></tr>\n",
       "</thead>\n",
       "<tbody>\n",
       "\t<tr><th scope=row>NOC2L</th><td>NOC2L   </td><td>ENSG00000188976</td><td>chr1</td><td>protein_coding</td><td> 879584</td><td> 894689</td><td>-</td><td>1.0</td><td>7.0</td><td>NUDC;DPH2;RRP12;NOL6       </td><td></td><td>no </td><td>no</td><td>no </td><td>no </td><td>no</td><td>no</td><td>no </td></tr>\n",
       "\t<tr><th scope=row>KLHL17</th><td>KLHL17  </td><td>ENSG00000187961</td><td>chr1</td><td>protein_coding</td><td> 895967</td><td> 901095</td><td>+</td><td>1.0</td><td>5.5</td><td>RNF207;ATXN7L2             </td><td></td><td>no </td><td>no</td><td>no </td><td>no </td><td>no</td><td>no</td><td>no </td></tr>\n",
       "\t<tr><th scope=row>HES4</th><td>HES4    </td><td>ENSG00000188290</td><td>chr1</td><td>protein_coding</td><td> 934342</td><td> 935552</td><td>-</td><td>0.5</td><td>2.5</td><td>RPP25                      </td><td></td><td>no </td><td>no</td><td>no </td><td>no </td><td>no</td><td>no</td><td>yes</td></tr>\n",
       "\t<tr><th scope=row>ISG15</th><td>ISG15   </td><td>ENSG00000187608</td><td>chr1</td><td>protein_coding</td><td> 948803</td><td> 949920</td><td>+</td><td>0.0</td><td>9.0</td><td>IFI6;IFITM1;IRF7;SP110;OGFR</td><td></td><td>yes</td><td>no</td><td>no </td><td>no </td><td>no</td><td>no</td><td>no </td></tr>\n",
       "\t<tr><th scope=row>AGRN</th><td>AGRN    </td><td>ENSG00000188157</td><td>chr1</td><td>protein_coding</td><td> 955503</td><td> 991496</td><td>+</td><td>1.0</td><td>3.0</td><td>                           </td><td></td><td>no </td><td>no</td><td>yes</td><td>no </td><td>no</td><td>no</td><td>no </td></tr>\n",
       "\t<tr><th scope=row>C1orf159</th><td>C1orf159</td><td>ENSG00000131591</td><td>chr1</td><td>protein_coding</td><td>1017198</td><td>1051741</td><td>-</td><td>0.0</td><td>4.5</td><td>ULK1;RABEP2;CAPN10         </td><td></td><td>no </td><td>no</td><td>no </td><td>no </td><td>no</td><td>no</td><td>no </td></tr>\n",
       "\t<tr><th scope=row>UBE2J2</th><td>UBE2J2  </td><td>ENSG00000160087</td><td>chr1</td><td>protein_coding</td><td>1189289</td><td>1209265</td><td>-</td><td>0.0</td><td>1.5</td><td>                           </td><td></td><td>no </td><td>no</td><td>no </td><td>no </td><td>no</td><td>no</td><td>no </td></tr>\n",
       "\t<tr><th scope=row>PUSL1</th><td>PUSL1   </td><td>ENSG00000169972</td><td>chr1</td><td>protein_coding</td><td>1243947</td><td>1247057</td><td>+</td><td>1.0</td><td>0.5</td><td>                           </td><td></td><td>no </td><td>no</td><td>no </td><td>no </td><td>no</td><td>no</td><td>no </td></tr>\n",
       "\t<tr><th scope=row>CPSF3L</th><td>CPSF3L  </td><td>ENSG00000127054</td><td>chr1</td><td>protein_coding</td><td>1246965</td><td>1260071</td><td>-</td><td>0.0</td><td>2.5</td><td>ZBTB48                     </td><td></td><td>no </td><td>no</td><td>no </td><td>no </td><td>no</td><td>no</td><td>no </td></tr>\n",
       "\t<tr><th scope=row>GLTPD1</th><td>GLTPD1  </td><td>ENSG00000224051</td><td>chr1</td><td>protein_coding</td><td>1260136</td><td>1264277</td><td>+</td><td>0.5</td><td>2.0</td><td>                           </td><td></td><td>no </td><td>no</td><td>no </td><td>no </td><td>no</td><td>no</td><td>no </td></tr>\n",
       "\t<tr><th scope=row>DVL1</th><td>DVL1    </td><td>ENSG00000107404</td><td>chr1</td><td>protein_coding</td><td>1270656</td><td>1284730</td><td>-</td><td>2.0</td><td>6.5</td><td>PLEKHM2;RFNG;MFSD10        </td><td></td><td>no </td><td>no</td><td>yes</td><td>no </td><td>no</td><td>no</td><td>yes</td></tr>\n",
       "\t<tr><th scope=row>AURKAIP1</th><td>AURKAIP1</td><td>ENSG00000175756</td><td>chr1</td><td>protein_coding</td><td>1309110</td><td>1310875</td><td>-</td><td>0.0</td><td>1.5</td><td>                           </td><td></td><td>no </td><td>no</td><td>no </td><td>no </td><td>no</td><td>no</td><td>no </td></tr>\n",
       "\t<tr><th scope=row>MRPL20</th><td>MRPL20  </td><td>ENSG00000242485</td><td>chr1</td><td>protein_coding</td><td>1337288</td><td>1342693</td><td>-</td><td>0.0</td><td>2.0</td><td>PARK7                      </td><td></td><td>no </td><td>no</td><td>no </td><td>no </td><td>no</td><td>no</td><td>no </td></tr>\n",
       "\t<tr><th scope=row>ATAD3B</th><td>ATAD3B  </td><td>ENSG00000160072</td><td>chr1</td><td>protein_coding</td><td>1407143</td><td>1433228</td><td>+</td><td>2.0</td><td>1.0</td><td>                           </td><td></td><td>no </td><td>no</td><td>no </td><td>no </td><td>no</td><td>no</td><td>yes</td></tr>\n",
       "\t<tr><th scope=row>ATAD3A</th><td>ATAD3A  </td><td>ENSG00000197785</td><td>chr1</td><td>protein_coding</td><td>1447531</td><td>1470067</td><td>+</td><td>0.5</td><td>2.0</td><td>                           </td><td></td><td>no </td><td>no</td><td>no </td><td>no </td><td>no</td><td>no</td><td>yes</td></tr>\n",
       "\t<tr><th scope=row>SSU72</th><td>SSU72   </td><td>ENSG00000160075</td><td>chr1</td><td>protein_coding</td><td>1477053</td><td>1510249</td><td>-</td><td>2.0</td><td>0.5</td><td>                           </td><td></td><td>no </td><td>no</td><td>no </td><td>no </td><td>no</td><td>no</td><td>no </td></tr>\n",
       "\t<tr><th scope=row>CDK11B</th><td>CDK11B  </td><td>ENSG00000248333</td><td>chr1</td><td>protein_coding</td><td>1570603</td><td>1590473</td><td>-</td><td>0.0</td><td>2.0</td><td>                           </td><td></td><td>no </td><td>no</td><td>no </td><td>no </td><td>no</td><td>no</td><td>no </td></tr>\n",
       "\t<tr><th scope=row>CDK11A</th><td>CDK11A  </td><td>ENSG00000008128</td><td>chr1</td><td>protein_coding</td><td>1634169</td><td>1655766</td><td>-</td><td>1.0</td><td>0.5</td><td>                           </td><td></td><td>no </td><td>no</td><td>no </td><td>no </td><td>no</td><td>no</td><td>no </td></tr>\n",
       "\t<tr><th scope=row>NADK</th><td>NADK    </td><td>ENSG00000008130</td><td>chr1</td><td>protein_coding</td><td>1682671</td><td>1711896</td><td>-</td><td>0.5</td><td>3.0</td><td>                           </td><td></td><td>no </td><td>no</td><td>no </td><td>no </td><td>no</td><td>no</td><td>no </td></tr>\n",
       "\t<tr><th scope=row>GNB1</th><td>GNB1    </td><td>ENSG00000078369</td><td>chr1</td><td>protein_coding</td><td>1716729</td><td>1822495</td><td>-</td><td>2.0</td><td>3.5</td><td>KIF1B;EXOSC10              </td><td></td><td>no </td><td>no</td><td>yes</td><td>no </td><td>no</td><td>no</td><td>no </td></tr>\n",
       "\t<tr><th scope=row>PRKCZ</th><td>PRKCZ   </td><td>ENSG00000067606</td><td>chr1</td><td>protein_coding</td><td>1981909</td><td>2116834</td><td>+</td><td>0.5</td><td>0.5</td><td>                           </td><td></td><td>no </td><td>no</td><td>yes</td><td>no </td><td>no</td><td>no</td><td>no </td></tr>\n",
       "\t<tr><th scope=row>C1orf86</th><td>C1orf86 </td><td>ENSG00000162585</td><td>chr1</td><td>protein_coding</td><td>2115903</td><td>2144159</td><td>-</td><td>0.0</td><td>7.0</td><td>ZBTB17;ZNF668;ADAT3;MIF    </td><td></td><td>no </td><td>no</td><td>no </td><td>no </td><td>no</td><td>no</td><td>no </td></tr>\n",
       "\t<tr><th scope=row>SKI</th><td>SKI     </td><td>ENSG00000157933</td><td>chr1</td><td>protein_coding</td><td>2160134</td><td>2241558</td><td>+</td><td>0.0</td><td>2.5</td><td>ZNF436                     </td><td></td><td>no </td><td>no</td><td>no </td><td>yes</td><td>no</td><td>no</td><td>yes</td></tr>\n",
       "\t<tr><th scope=row>MORN1</th><td>MORN1   </td><td>ENSG00000116151</td><td>chr1</td><td>protein_coding</td><td>2252692</td><td>2323146</td><td>-</td><td>0.5</td><td>1.5</td><td>LRRC56                     </td><td></td><td>no </td><td>no</td><td>no </td><td>no </td><td>no</td><td>no</td><td>no </td></tr>\n",
       "\t<tr><th scope=row>RER1</th><td>RER1    </td><td>ENSG00000157916</td><td>chr1</td><td>protein_coding</td><td>2323267</td><td>2336883</td><td>+</td><td>0.5</td><td>2.5</td><td>                           </td><td></td><td>no </td><td>no</td><td>no </td><td>no </td><td>no</td><td>no</td><td>no </td></tr>\n",
       "\t<tr><th scope=row>PEX10</th><td>PEX10   </td><td>ENSG00000157911</td><td>chr1</td><td>protein_coding</td><td>2336236</td><td>2345236</td><td>-</td><td>0.0</td><td>1.5</td><td>                           </td><td></td><td>no </td><td>no</td><td>no </td><td>no </td><td>no</td><td>no</td><td>no </td></tr>\n",
       "\t<tr><th scope=row>PANK4</th><td>PANK4   </td><td>ENSG00000157881</td><td>chr1</td><td>protein_coding</td><td>2439972</td><td>2458039</td><td>-</td><td>0.0</td><td>0.5</td><td>                           </td><td></td><td>no </td><td>no</td><td>no </td><td>no </td><td>no</td><td>no</td><td>no </td></tr>\n",
       "\t<tr><th scope=row>TPRG1L</th><td>TPRG1L  </td><td>ENSG00000158109</td><td>chr1</td><td>protein_coding</td><td>3541566</td><td>3546691</td><td>+</td><td>0.0</td><td>1.5</td><td>                           </td><td></td><td>no </td><td>no</td><td>no </td><td>no </td><td>no</td><td>no</td><td>no </td></tr>\n",
       "\t<tr><th scope=row>LRRC47</th><td>LRRC47  </td><td>ENSG00000130764</td><td>chr1</td><td>protein_coding</td><td>3696784</td><td>3713068</td><td>-</td><td>0.5</td><td>1.5</td><td>UBIAD1                     </td><td></td><td>no </td><td>no</td><td>no </td><td>no </td><td>no</td><td>no</td><td>no </td></tr>\n",
       "\t<tr><th scope=row>DFFB</th><td>DFFB    </td><td>ENSG00000169598</td><td>chr1</td><td>protein_coding</td><td>3773845</td><td>3801993</td><td>+</td><td>0.5</td><td>1.0</td><td>                           </td><td></td><td>no </td><td>no</td><td>yes</td><td>no </td><td>no</td><td>no</td><td>no </td></tr>\n",
       "\t<tr><th scope=row>⋮</th><td>⋮</td><td>⋮</td><td>⋮</td><td>⋮</td><td>⋮</td><td>⋮</td><td>⋮</td><td>⋮</td><td>⋮</td><td>⋮</td><td>⋮</td><td>⋮</td><td>⋮</td><td>⋮</td><td>⋮</td><td>⋮</td><td>⋮</td><td>⋮</td></tr>\n",
       "\t<tr><th scope=row>XIAP</th><td>XIAP    </td><td>ENSG00000101966</td><td>chrX</td><td>protein_coding</td><td>122993574</td><td>123047829</td><td>+</td><td>0.0</td><td>4.0</td><td>UBXN4                              </td><td>     </td><td>yes</td><td>no </td><td>yes</td><td>no </td><td>no</td><td>no </td><td>no </td></tr>\n",
       "\t<tr><th scope=row>STAG2</th><td>STAG2   </td><td>ENSG00000101972</td><td>chrX</td><td>protein_coding</td><td>123094062</td><td>123556514</td><td>+</td><td>0.5</td><td>2.5</td><td>MANEA                              </td><td>     </td><td>no </td><td>no </td><td>yes</td><td>yes</td><td>no</td><td>yes</td><td>no </td></tr>\n",
       "\t<tr><th scope=row>SASH3</th><td>SASH3   </td><td>ENSG00000122122</td><td>chrX</td><td>protein_coding</td><td>128913955</td><td>128929177</td><td>+</td><td>0.0</td><td>6.0</td><td>ARHGAP30;CORO1A;VAV1;CD37;IKZF1    </td><td>     </td><td>no </td><td>no </td><td>no </td><td>no </td><td>no</td><td>no </td><td>no </td></tr>\n",
       "\t<tr><th scope=row>ZDHHC9</th><td>ZDHHC9  </td><td>ENSG00000188706</td><td>chrX</td><td>protein_coding</td><td>128937264</td><td>128977885</td><td>-</td><td>1.0</td><td>4.0</td><td>USP27X;SNX12                       </td><td>     </td><td>no </td><td>no </td><td>no </td><td>no </td><td>no</td><td>no </td><td>no </td></tr>\n",
       "\t<tr><th scope=row>UTP14A</th><td>UTP14A  </td><td>ENSG00000156697</td><td>chrX</td><td>protein_coding</td><td>129040097</td><td>129063737</td><td>+</td><td>3.5</td><td>3.0</td><td>                                   </td><td>     </td><td>no </td><td>no </td><td>no </td><td>no </td><td>no</td><td>no </td><td>no </td></tr>\n",
       "\t<tr><th scope=row>BCORL1</th><td>BCORL1  </td><td>ENSG00000085185</td><td>chrX</td><td>protein_coding</td><td>129115083</td><td>129192058</td><td>+</td><td>1.0</td><td>1.5</td><td>                                   </td><td>     </td><td>no </td><td>no </td><td>no </td><td>yes</td><td>no</td><td>yes</td><td>no </td></tr>\n",
       "\t<tr><th scope=row>ELF4</th><td>ELF4    </td><td>ENSG00000102034</td><td>chrX</td><td>protein_coding</td><td>129198849</td><td>129244691</td><td>-</td><td>0.5</td><td>2.0</td><td>                                   </td><td>     </td><td>no </td><td>no </td><td>no </td><td>yes</td><td>no</td><td>no </td><td>yes</td></tr>\n",
       "\t<tr><th scope=row>AIFM1</th><td>AIFM1   </td><td>ENSG00000156709</td><td>chrX</td><td>protein_coding</td><td>129263337</td><td>129299861</td><td>-</td><td>2.0</td><td>5.5</td><td>                                   </td><td>     </td><td>no </td><td>no </td><td>yes</td><td>no </td><td>no</td><td>no </td><td>no </td></tr>\n",
       "\t<tr><th scope=row>ZNF280C</th><td>ZNF280C </td><td>ENSG00000056277</td><td>chrX</td><td>protein_coding</td><td>129336685</td><td>129402873</td><td>-</td><td>1.5</td><td>2.0</td><td>                                   </td><td>     </td><td>no </td><td>no </td><td>no </td><td>no </td><td>no</td><td>no </td><td>yes</td></tr>\n",
       "\t<tr><th scope=row>SLC25A14</th><td>SLC25A14</td><td>ENSG00000102078</td><td>chrX</td><td>protein_coding</td><td>129473874</td><td>129507335</td><td>+</td><td>1.0</td><td>3.0</td><td>                                   </td><td>     </td><td>no </td><td>no </td><td>no </td><td>no </td><td>no</td><td>no </td><td>no </td></tr>\n",
       "\t<tr><th scope=row>RBMX2</th><td>RBMX2   </td><td>ENSG00000134597</td><td>chrX</td><td>protein_coding</td><td>129535943</td><td>129547317</td><td>+</td><td>0.0</td><td>3.5</td><td>MRPL11                             </td><td>     </td><td>no </td><td>no </td><td>no </td><td>no </td><td>no</td><td>no </td><td>no </td></tr>\n",
       "\t<tr><th scope=row>ENOX2</th><td>ENOX2   </td><td>ENSG00000165675</td><td>chrX</td><td>protein_coding</td><td>129757350</td><td>130037208</td><td>-</td><td>1.0</td><td>0.5</td><td>                                   </td><td>     </td><td>no </td><td>no </td><td>no </td><td>no </td><td>no</td><td>no </td><td>no </td></tr>\n",
       "\t<tr><th scope=row>MST4</th><td>MST4    </td><td>ENSG00000134602</td><td>chrX</td><td>protein_coding</td><td>131157293</td><td>131209971</td><td>+</td><td>0.5</td><td>4.5</td><td>RAB3IP                             </td><td>     </td><td>no </td><td>no </td><td>no </td><td>no </td><td>no</td><td>no </td><td>no </td></tr>\n",
       "\t<tr><th scope=row>RAP2C</th><td>RAP2C   </td><td>ENSG00000123728</td><td>chrX</td><td>protein_coding</td><td>131337053</td><td>131353471</td><td>-</td><td>0.0</td><td>1.5</td><td>                                   </td><td>     </td><td>no </td><td>no </td><td>no </td><td>no </td><td>no</td><td>no </td><td>no </td></tr>\n",
       "\t<tr><th scope=row>MBNL3</th><td>MBNL3   </td><td>ENSG00000076770</td><td>chrX</td><td>protein_coding</td><td>131503345</td><td>131623996</td><td>-</td><td>0.5</td><td>2.0</td><td>                                   </td><td>     </td><td>no </td><td>no </td><td>no </td><td>no </td><td>no</td><td>no </td><td>yes</td></tr>\n",
       "\t<tr><th scope=row>PHF6</th><td>PHF6    </td><td>ENSG00000156531</td><td>chrX</td><td>protein_coding</td><td>133507283</td><td>133562820</td><td>+</td><td>0.5</td><td>1.5</td><td>GABPA                              </td><td>     </td><td>no </td><td>no </td><td>no </td><td>yes</td><td>no</td><td>yes</td><td>no </td></tr>\n",
       "\t<tr><th scope=row>HPRT1</th><td>HPRT1   </td><td>ENSG00000165704</td><td>chrX</td><td>protein_coding</td><td>133594183</td><td>133654543</td><td>+</td><td>1.5</td><td>0.5</td><td>                                   </td><td>     </td><td>no </td><td>yes</td><td>no </td><td>no </td><td>no</td><td>no </td><td>no </td></tr>\n",
       "\t<tr><th scope=row>FAM122B</th><td>FAM122B </td><td>ENSG00000156504</td><td>chrX</td><td>protein_coding</td><td>133903596</td><td>133931262</td><td>-</td><td>0.0</td><td>4.5</td><td>IRAK4;HNRNPA2B1                    </td><td>     </td><td>no </td><td>no </td><td>no </td><td>no </td><td>no</td><td>no </td><td>no </td></tr>\n",
       "\t<tr><th scope=row>FAM122C</th><td>FAM122C </td><td>ENSG00000156500</td><td>chrX</td><td>protein_coding</td><td>133930819</td><td>133988640</td><td>+</td><td>1.5</td><td>2.0</td><td>LMBRD2                             </td><td>     </td><td>no </td><td>no </td><td>no </td><td>no </td><td>no</td><td>no </td><td>no </td></tr>\n",
       "\t<tr><th scope=row>MOSPD1</th><td>MOSPD1  </td><td>ENSG00000101928</td><td>chrX</td><td>protein_coding</td><td>134021656</td><td>134049297</td><td>-</td><td>1.0</td><td>5.0</td><td>CPEB2                              </td><td>     </td><td>no </td><td>no </td><td>no </td><td>no </td><td>no</td><td>no </td><td>no </td></tr>\n",
       "\t<tr><th scope=row>FAM127A</th><td>FAM127A </td><td>ENSG00000134590</td><td>chrX</td><td>protein_coding</td><td>134166333</td><td>134167576</td><td>+</td><td>3.0</td><td>4.0</td><td>                                   </td><td>RBM27</td><td>no </td><td>no </td><td>no </td><td>no </td><td>no</td><td>no </td><td>no </td></tr>\n",
       "\t<tr><th scope=row>FAM127B</th><td>FAM127B </td><td>ENSG00000203950</td><td>chrX</td><td>protein_coding</td><td>134184962</td><td>134186226</td><td>-</td><td>0.5</td><td>1.5</td><td>                                   </td><td>     </td><td>no </td><td>no </td><td>no </td><td>no </td><td>no</td><td>no </td><td>no </td></tr>\n",
       "\t<tr><th scope=row>MAP7D3</th><td>MAP7D3  </td><td>ENSG00000129680</td><td>chrX</td><td>protein_coding</td><td>135295381</td><td>135338641</td><td>-</td><td>0.0</td><td>1.5</td><td>                                   </td><td>     </td><td>no </td><td>no </td><td>no </td><td>no </td><td>no</td><td>no </td><td>no </td></tr>\n",
       "\t<tr><th scope=row>HTATSF1</th><td>HTATSF1 </td><td>ENSG00000102241</td><td>chrX</td><td>protein_coding</td><td>135579238</td><td>135594505</td><td>+</td><td>0.5</td><td>2.5</td><td>PGRMC1                             </td><td>     </td><td>no </td><td>no </td><td>no </td><td>no </td><td>no</td><td>no </td><td>no </td></tr>\n",
       "\t<tr><th scope=row>ARHGEF6</th><td>ARHGEF6 </td><td>ENSG00000129675</td><td>chrX</td><td>protein_coding</td><td>135747706</td><td>135864247</td><td>-</td><td>1.0</td><td>2.5</td><td>                                   </td><td>     </td><td>no </td><td>no </td><td>no </td><td>no </td><td>no</td><td>no </td><td>no </td></tr>\n",
       "\t<tr><th scope=row>RBMX</th><td>RBMX    </td><td>ENSG00000147274</td><td>chrX</td><td>protein_coding</td><td>135930163</td><td>135962923</td><td>-</td><td>0.5</td><td>5.0</td><td>ILF3                               </td><td>     </td><td>no </td><td>no </td><td>no </td><td>no </td><td>no</td><td>yes</td><td>no </td></tr>\n",
       "\t<tr><th scope=row>TMEM185A</th><td>TMEM185A</td><td>ENSG00000155984</td><td>chrX</td><td>protein_coding</td><td>148678216</td><td>148713568</td><td>-</td><td>2.0</td><td>1.5</td><td>                                   </td><td>     </td><td>no </td><td>no </td><td>no </td><td>no </td><td>no</td><td>no </td><td>no </td></tr>\n",
       "\t<tr><th scope=row>VMA21</th><td>VMA21   </td><td>ENSG00000160131</td><td>chrX</td><td>protein_coding</td><td>150564987</td><td>150577836</td><td>+</td><td>2.0</td><td>8.5</td><td>C14orf142;APOL6;LYRM7;EIF1AX;PSMD10</td><td>GMPPB</td><td>no </td><td>no </td><td>no </td><td>no </td><td>no</td><td>no </td><td>no </td></tr>\n",
       "\t<tr><th scope=row>ZFY</th><td>ZFY     </td><td>ENSG00000067646</td><td>chrY</td><td>protein_coding</td><td>  2803112</td><td>  2850547</td><td>+</td><td>1.0</td><td>0.5</td><td>                                   </td><td>     </td><td>no </td><td>no </td><td>no </td><td>no </td><td>no</td><td>no </td><td>no </td></tr>\n",
       "\t<tr><th scope=row>UTY</th><td>UTY     </td><td>ENSG00000183878</td><td>chrY</td><td>protein_coding</td><td> 15360259</td><td> 15592553</td><td>-</td><td>1.5</td><td>1.0</td><td>                                   </td><td>RPS4X</td><td>no </td><td>no </td><td>no </td><td>no </td><td>no</td><td>no </td><td>no </td></tr>\n",
       "</tbody>\n",
       "</table>\n"
      ],
      "text/latex": [
       "A data.frame: 8251 × 18\n",
       "\\begin{tabular}{r|llllllllllllllllll}\n",
       "  & source\\_gene & EnsemblID & chr & type & start & end & strand & OutgoingRepressorLinks & OutgoingActivatorLinks & activated\\_target\\_genes & repressed\\_target\\_genes & immune system & metabolism & signaling pathway & cancer census & oncogene & tumor suppressor & transcription factor\\\\\n",
       "  & <chr> & <chr> & <chr> & <chr> & <int> & <int> & <chr> & <dbl> & <dbl> & <chr> & <chr> & <chr> & <chr> & <chr> & <chr> & <chr> & <chr> & <chr>\\\\\n",
       "\\hline\n",
       "\tNOC2L & NOC2L    & ENSG00000188976 & chr1 & protein\\_coding &  879584 &  894689 & - & 1.0 & 7.0 & NUDC;DPH2;RRP12;NOL6        &  & no  & no & no  & no  & no & no & no \\\\\n",
       "\tKLHL17 & KLHL17   & ENSG00000187961 & chr1 & protein\\_coding &  895967 &  901095 & + & 1.0 & 5.5 & RNF207;ATXN7L2              &  & no  & no & no  & no  & no & no & no \\\\\n",
       "\tHES4 & HES4     & ENSG00000188290 & chr1 & protein\\_coding &  934342 &  935552 & - & 0.5 & 2.5 & RPP25                       &  & no  & no & no  & no  & no & no & yes\\\\\n",
       "\tISG15 & ISG15    & ENSG00000187608 & chr1 & protein\\_coding &  948803 &  949920 & + & 0.0 & 9.0 & IFI6;IFITM1;IRF7;SP110;OGFR &  & yes & no & no  & no  & no & no & no \\\\\n",
       "\tAGRN & AGRN     & ENSG00000188157 & chr1 & protein\\_coding &  955503 &  991496 & + & 1.0 & 3.0 &                             &  & no  & no & yes & no  & no & no & no \\\\\n",
       "\tC1orf159 & C1orf159 & ENSG00000131591 & chr1 & protein\\_coding & 1017198 & 1051741 & - & 0.0 & 4.5 & ULK1;RABEP2;CAPN10          &  & no  & no & no  & no  & no & no & no \\\\\n",
       "\tUBE2J2 & UBE2J2   & ENSG00000160087 & chr1 & protein\\_coding & 1189289 & 1209265 & - & 0.0 & 1.5 &                             &  & no  & no & no  & no  & no & no & no \\\\\n",
       "\tPUSL1 & PUSL1    & ENSG00000169972 & chr1 & protein\\_coding & 1243947 & 1247057 & + & 1.0 & 0.5 &                             &  & no  & no & no  & no  & no & no & no \\\\\n",
       "\tCPSF3L & CPSF3L   & ENSG00000127054 & chr1 & protein\\_coding & 1246965 & 1260071 & - & 0.0 & 2.5 & ZBTB48                      &  & no  & no & no  & no  & no & no & no \\\\\n",
       "\tGLTPD1 & GLTPD1   & ENSG00000224051 & chr1 & protein\\_coding & 1260136 & 1264277 & + & 0.5 & 2.0 &                             &  & no  & no & no  & no  & no & no & no \\\\\n",
       "\tDVL1 & DVL1     & ENSG00000107404 & chr1 & protein\\_coding & 1270656 & 1284730 & - & 2.0 & 6.5 & PLEKHM2;RFNG;MFSD10         &  & no  & no & yes & no  & no & no & yes\\\\\n",
       "\tAURKAIP1 & AURKAIP1 & ENSG00000175756 & chr1 & protein\\_coding & 1309110 & 1310875 & - & 0.0 & 1.5 &                             &  & no  & no & no  & no  & no & no & no \\\\\n",
       "\tMRPL20 & MRPL20   & ENSG00000242485 & chr1 & protein\\_coding & 1337288 & 1342693 & - & 0.0 & 2.0 & PARK7                       &  & no  & no & no  & no  & no & no & no \\\\\n",
       "\tATAD3B & ATAD3B   & ENSG00000160072 & chr1 & protein\\_coding & 1407143 & 1433228 & + & 2.0 & 1.0 &                             &  & no  & no & no  & no  & no & no & yes\\\\\n",
       "\tATAD3A & ATAD3A   & ENSG00000197785 & chr1 & protein\\_coding & 1447531 & 1470067 & + & 0.5 & 2.0 &                             &  & no  & no & no  & no  & no & no & yes\\\\\n",
       "\tSSU72 & SSU72    & ENSG00000160075 & chr1 & protein\\_coding & 1477053 & 1510249 & - & 2.0 & 0.5 &                             &  & no  & no & no  & no  & no & no & no \\\\\n",
       "\tCDK11B & CDK11B   & ENSG00000248333 & chr1 & protein\\_coding & 1570603 & 1590473 & - & 0.0 & 2.0 &                             &  & no  & no & no  & no  & no & no & no \\\\\n",
       "\tCDK11A & CDK11A   & ENSG00000008128 & chr1 & protein\\_coding & 1634169 & 1655766 & - & 1.0 & 0.5 &                             &  & no  & no & no  & no  & no & no & no \\\\\n",
       "\tNADK & NADK     & ENSG00000008130 & chr1 & protein\\_coding & 1682671 & 1711896 & - & 0.5 & 3.0 &                             &  & no  & no & no  & no  & no & no & no \\\\\n",
       "\tGNB1 & GNB1     & ENSG00000078369 & chr1 & protein\\_coding & 1716729 & 1822495 & - & 2.0 & 3.5 & KIF1B;EXOSC10               &  & no  & no & yes & no  & no & no & no \\\\\n",
       "\tPRKCZ & PRKCZ    & ENSG00000067606 & chr1 & protein\\_coding & 1981909 & 2116834 & + & 0.5 & 0.5 &                             &  & no  & no & yes & no  & no & no & no \\\\\n",
       "\tC1orf86 & C1orf86  & ENSG00000162585 & chr1 & protein\\_coding & 2115903 & 2144159 & - & 0.0 & 7.0 & ZBTB17;ZNF668;ADAT3;MIF     &  & no  & no & no  & no  & no & no & no \\\\\n",
       "\tSKI & SKI      & ENSG00000157933 & chr1 & protein\\_coding & 2160134 & 2241558 & + & 0.0 & 2.5 & ZNF436                      &  & no  & no & no  & yes & no & no & yes\\\\\n",
       "\tMORN1 & MORN1    & ENSG00000116151 & chr1 & protein\\_coding & 2252692 & 2323146 & - & 0.5 & 1.5 & LRRC56                      &  & no  & no & no  & no  & no & no & no \\\\\n",
       "\tRER1 & RER1     & ENSG00000157916 & chr1 & protein\\_coding & 2323267 & 2336883 & + & 0.5 & 2.5 &                             &  & no  & no & no  & no  & no & no & no \\\\\n",
       "\tPEX10 & PEX10    & ENSG00000157911 & chr1 & protein\\_coding & 2336236 & 2345236 & - & 0.0 & 1.5 &                             &  & no  & no & no  & no  & no & no & no \\\\\n",
       "\tPANK4 & PANK4    & ENSG00000157881 & chr1 & protein\\_coding & 2439972 & 2458039 & - & 0.0 & 0.5 &                             &  & no  & no & no  & no  & no & no & no \\\\\n",
       "\tTPRG1L & TPRG1L   & ENSG00000158109 & chr1 & protein\\_coding & 3541566 & 3546691 & + & 0.0 & 1.5 &                             &  & no  & no & no  & no  & no & no & no \\\\\n",
       "\tLRRC47 & LRRC47   & ENSG00000130764 & chr1 & protein\\_coding & 3696784 & 3713068 & - & 0.5 & 1.5 & UBIAD1                      &  & no  & no & no  & no  & no & no & no \\\\\n",
       "\tDFFB & DFFB     & ENSG00000169598 & chr1 & protein\\_coding & 3773845 & 3801993 & + & 0.5 & 1.0 &                             &  & no  & no & yes & no  & no & no & no \\\\\n",
       "\t⋮ & ⋮ & ⋮ & ⋮ & ⋮ & ⋮ & ⋮ & ⋮ & ⋮ & ⋮ & ⋮ & ⋮ & ⋮ & ⋮ & ⋮ & ⋮ & ⋮ & ⋮ & ⋮\\\\\n",
       "\tXIAP & XIAP     & ENSG00000101966 & chrX & protein\\_coding & 122993574 & 123047829 & + & 0.0 & 4.0 & UBXN4                               &       & yes & no  & yes & no  & no & no  & no \\\\\n",
       "\tSTAG2 & STAG2    & ENSG00000101972 & chrX & protein\\_coding & 123094062 & 123556514 & + & 0.5 & 2.5 & MANEA                               &       & no  & no  & yes & yes & no & yes & no \\\\\n",
       "\tSASH3 & SASH3    & ENSG00000122122 & chrX & protein\\_coding & 128913955 & 128929177 & + & 0.0 & 6.0 & ARHGAP30;CORO1A;VAV1;CD37;IKZF1     &       & no  & no  & no  & no  & no & no  & no \\\\\n",
       "\tZDHHC9 & ZDHHC9   & ENSG00000188706 & chrX & protein\\_coding & 128937264 & 128977885 & - & 1.0 & 4.0 & USP27X;SNX12                        &       & no  & no  & no  & no  & no & no  & no \\\\\n",
       "\tUTP14A & UTP14A   & ENSG00000156697 & chrX & protein\\_coding & 129040097 & 129063737 & + & 3.5 & 3.0 &                                     &       & no  & no  & no  & no  & no & no  & no \\\\\n",
       "\tBCORL1 & BCORL1   & ENSG00000085185 & chrX & protein\\_coding & 129115083 & 129192058 & + & 1.0 & 1.5 &                                     &       & no  & no  & no  & yes & no & yes & no \\\\\n",
       "\tELF4 & ELF4     & ENSG00000102034 & chrX & protein\\_coding & 129198849 & 129244691 & - & 0.5 & 2.0 &                                     &       & no  & no  & no  & yes & no & no  & yes\\\\\n",
       "\tAIFM1 & AIFM1    & ENSG00000156709 & chrX & protein\\_coding & 129263337 & 129299861 & - & 2.0 & 5.5 &                                     &       & no  & no  & yes & no  & no & no  & no \\\\\n",
       "\tZNF280C & ZNF280C  & ENSG00000056277 & chrX & protein\\_coding & 129336685 & 129402873 & - & 1.5 & 2.0 &                                     &       & no  & no  & no  & no  & no & no  & yes\\\\\n",
       "\tSLC25A14 & SLC25A14 & ENSG00000102078 & chrX & protein\\_coding & 129473874 & 129507335 & + & 1.0 & 3.0 &                                     &       & no  & no  & no  & no  & no & no  & no \\\\\n",
       "\tRBMX2 & RBMX2    & ENSG00000134597 & chrX & protein\\_coding & 129535943 & 129547317 & + & 0.0 & 3.5 & MRPL11                              &       & no  & no  & no  & no  & no & no  & no \\\\\n",
       "\tENOX2 & ENOX2    & ENSG00000165675 & chrX & protein\\_coding & 129757350 & 130037208 & - & 1.0 & 0.5 &                                     &       & no  & no  & no  & no  & no & no  & no \\\\\n",
       "\tMST4 & MST4     & ENSG00000134602 & chrX & protein\\_coding & 131157293 & 131209971 & + & 0.5 & 4.5 & RAB3IP                              &       & no  & no  & no  & no  & no & no  & no \\\\\n",
       "\tRAP2C & RAP2C    & ENSG00000123728 & chrX & protein\\_coding & 131337053 & 131353471 & - & 0.0 & 1.5 &                                     &       & no  & no  & no  & no  & no & no  & no \\\\\n",
       "\tMBNL3 & MBNL3    & ENSG00000076770 & chrX & protein\\_coding & 131503345 & 131623996 & - & 0.5 & 2.0 &                                     &       & no  & no  & no  & no  & no & no  & yes\\\\\n",
       "\tPHF6 & PHF6     & ENSG00000156531 & chrX & protein\\_coding & 133507283 & 133562820 & + & 0.5 & 1.5 & GABPA                               &       & no  & no  & no  & yes & no & yes & no \\\\\n",
       "\tHPRT1 & HPRT1    & ENSG00000165704 & chrX & protein\\_coding & 133594183 & 133654543 & + & 1.5 & 0.5 &                                     &       & no  & yes & no  & no  & no & no  & no \\\\\n",
       "\tFAM122B & FAM122B  & ENSG00000156504 & chrX & protein\\_coding & 133903596 & 133931262 & - & 0.0 & 4.5 & IRAK4;HNRNPA2B1                     &       & no  & no  & no  & no  & no & no  & no \\\\\n",
       "\tFAM122C & FAM122C  & ENSG00000156500 & chrX & protein\\_coding & 133930819 & 133988640 & + & 1.5 & 2.0 & LMBRD2                              &       & no  & no  & no  & no  & no & no  & no \\\\\n",
       "\tMOSPD1 & MOSPD1   & ENSG00000101928 & chrX & protein\\_coding & 134021656 & 134049297 & - & 1.0 & 5.0 & CPEB2                               &       & no  & no  & no  & no  & no & no  & no \\\\\n",
       "\tFAM127A & FAM127A  & ENSG00000134590 & chrX & protein\\_coding & 134166333 & 134167576 & + & 3.0 & 4.0 &                                     & RBM27 & no  & no  & no  & no  & no & no  & no \\\\\n",
       "\tFAM127B & FAM127B  & ENSG00000203950 & chrX & protein\\_coding & 134184962 & 134186226 & - & 0.5 & 1.5 &                                     &       & no  & no  & no  & no  & no & no  & no \\\\\n",
       "\tMAP7D3 & MAP7D3   & ENSG00000129680 & chrX & protein\\_coding & 135295381 & 135338641 & - & 0.0 & 1.5 &                                     &       & no  & no  & no  & no  & no & no  & no \\\\\n",
       "\tHTATSF1 & HTATSF1  & ENSG00000102241 & chrX & protein\\_coding & 135579238 & 135594505 & + & 0.5 & 2.5 & PGRMC1                              &       & no  & no  & no  & no  & no & no  & no \\\\\n",
       "\tARHGEF6 & ARHGEF6  & ENSG00000129675 & chrX & protein\\_coding & 135747706 & 135864247 & - & 1.0 & 2.5 &                                     &       & no  & no  & no  & no  & no & no  & no \\\\\n",
       "\tRBMX & RBMX     & ENSG00000147274 & chrX & protein\\_coding & 135930163 & 135962923 & - & 0.5 & 5.0 & ILF3                                &       & no  & no  & no  & no  & no & yes & no \\\\\n",
       "\tTMEM185A & TMEM185A & ENSG00000155984 & chrX & protein\\_coding & 148678216 & 148713568 & - & 2.0 & 1.5 &                                     &       & no  & no  & no  & no  & no & no  & no \\\\\n",
       "\tVMA21 & VMA21    & ENSG00000160131 & chrX & protein\\_coding & 150564987 & 150577836 & + & 2.0 & 8.5 & C14orf142;APOL6;LYRM7;EIF1AX;PSMD10 & GMPPB & no  & no  & no  & no  & no & no  & no \\\\\n",
       "\tZFY & ZFY      & ENSG00000067646 & chrY & protein\\_coding &   2803112 &   2850547 & + & 1.0 & 0.5 &                                     &       & no  & no  & no  & no  & no & no  & no \\\\\n",
       "\tUTY & UTY      & ENSG00000183878 & chrY & protein\\_coding &  15360259 &  15592553 & - & 1.5 & 1.0 &                                     & RPS4X & no  & no  & no  & no  & no & no  & no \\\\\n",
       "\\end{tabular}\n"
      ],
      "text/markdown": [
       "\n",
       "A data.frame: 8251 × 18\n",
       "\n",
       "| <!--/--> | source_gene &lt;chr&gt; | EnsemblID &lt;chr&gt; | chr &lt;chr&gt; | type &lt;chr&gt; | start &lt;int&gt; | end &lt;int&gt; | strand &lt;chr&gt; | OutgoingRepressorLinks &lt;dbl&gt; | OutgoingActivatorLinks &lt;dbl&gt; | activated_target_genes &lt;chr&gt; | repressed_target_genes &lt;chr&gt; | immune system &lt;chr&gt; | metabolism &lt;chr&gt; | signaling pathway &lt;chr&gt; | cancer census &lt;chr&gt; | oncogene &lt;chr&gt; | tumor suppressor &lt;chr&gt; | transcription factor &lt;chr&gt; |\n",
       "|---|---|---|---|---|---|---|---|---|---|---|---|---|---|---|---|---|---|---|\n",
       "| NOC2L | NOC2L    | ENSG00000188976 | chr1 | protein_coding |  879584 |  894689 | - | 1.0 | 7.0 | NUDC;DPH2;RRP12;NOL6        | <!----> | no  | no | no  | no  | no | no | no  |\n",
       "| KLHL17 | KLHL17   | ENSG00000187961 | chr1 | protein_coding |  895967 |  901095 | + | 1.0 | 5.5 | RNF207;ATXN7L2              | <!----> | no  | no | no  | no  | no | no | no  |\n",
       "| HES4 | HES4     | ENSG00000188290 | chr1 | protein_coding |  934342 |  935552 | - | 0.5 | 2.5 | RPP25                       | <!----> | no  | no | no  | no  | no | no | yes |\n",
       "| ISG15 | ISG15    | ENSG00000187608 | chr1 | protein_coding |  948803 |  949920 | + | 0.0 | 9.0 | IFI6;IFITM1;IRF7;SP110;OGFR | <!----> | yes | no | no  | no  | no | no | no  |\n",
       "| AGRN | AGRN     | ENSG00000188157 | chr1 | protein_coding |  955503 |  991496 | + | 1.0 | 3.0 | <!----> | <!----> | no  | no | yes | no  | no | no | no  |\n",
       "| C1orf159 | C1orf159 | ENSG00000131591 | chr1 | protein_coding | 1017198 | 1051741 | - | 0.0 | 4.5 | ULK1;RABEP2;CAPN10          | <!----> | no  | no | no  | no  | no | no | no  |\n",
       "| UBE2J2 | UBE2J2   | ENSG00000160087 | chr1 | protein_coding | 1189289 | 1209265 | - | 0.0 | 1.5 | <!----> | <!----> | no  | no | no  | no  | no | no | no  |\n",
       "| PUSL1 | PUSL1    | ENSG00000169972 | chr1 | protein_coding | 1243947 | 1247057 | + | 1.0 | 0.5 | <!----> | <!----> | no  | no | no  | no  | no | no | no  |\n",
       "| CPSF3L | CPSF3L   | ENSG00000127054 | chr1 | protein_coding | 1246965 | 1260071 | - | 0.0 | 2.5 | ZBTB48                      | <!----> | no  | no | no  | no  | no | no | no  |\n",
       "| GLTPD1 | GLTPD1   | ENSG00000224051 | chr1 | protein_coding | 1260136 | 1264277 | + | 0.5 | 2.0 | <!----> | <!----> | no  | no | no  | no  | no | no | no  |\n",
       "| DVL1 | DVL1     | ENSG00000107404 | chr1 | protein_coding | 1270656 | 1284730 | - | 2.0 | 6.5 | PLEKHM2;RFNG;MFSD10         | <!----> | no  | no | yes | no  | no | no | yes |\n",
       "| AURKAIP1 | AURKAIP1 | ENSG00000175756 | chr1 | protein_coding | 1309110 | 1310875 | - | 0.0 | 1.5 | <!----> | <!----> | no  | no | no  | no  | no | no | no  |\n",
       "| MRPL20 | MRPL20   | ENSG00000242485 | chr1 | protein_coding | 1337288 | 1342693 | - | 0.0 | 2.0 | PARK7                       | <!----> | no  | no | no  | no  | no | no | no  |\n",
       "| ATAD3B | ATAD3B   | ENSG00000160072 | chr1 | protein_coding | 1407143 | 1433228 | + | 2.0 | 1.0 | <!----> | <!----> | no  | no | no  | no  | no | no | yes |\n",
       "| ATAD3A | ATAD3A   | ENSG00000197785 | chr1 | protein_coding | 1447531 | 1470067 | + | 0.5 | 2.0 | <!----> | <!----> | no  | no | no  | no  | no | no | yes |\n",
       "| SSU72 | SSU72    | ENSG00000160075 | chr1 | protein_coding | 1477053 | 1510249 | - | 2.0 | 0.5 | <!----> | <!----> | no  | no | no  | no  | no | no | no  |\n",
       "| CDK11B | CDK11B   | ENSG00000248333 | chr1 | protein_coding | 1570603 | 1590473 | - | 0.0 | 2.0 | <!----> | <!----> | no  | no | no  | no  | no | no | no  |\n",
       "| CDK11A | CDK11A   | ENSG00000008128 | chr1 | protein_coding | 1634169 | 1655766 | - | 1.0 | 0.5 | <!----> | <!----> | no  | no | no  | no  | no | no | no  |\n",
       "| NADK | NADK     | ENSG00000008130 | chr1 | protein_coding | 1682671 | 1711896 | - | 0.5 | 3.0 | <!----> | <!----> | no  | no | no  | no  | no | no | no  |\n",
       "| GNB1 | GNB1     | ENSG00000078369 | chr1 | protein_coding | 1716729 | 1822495 | - | 2.0 | 3.5 | KIF1B;EXOSC10               | <!----> | no  | no | yes | no  | no | no | no  |\n",
       "| PRKCZ | PRKCZ    | ENSG00000067606 | chr1 | protein_coding | 1981909 | 2116834 | + | 0.5 | 0.5 | <!----> | <!----> | no  | no | yes | no  | no | no | no  |\n",
       "| C1orf86 | C1orf86  | ENSG00000162585 | chr1 | protein_coding | 2115903 | 2144159 | - | 0.0 | 7.0 | ZBTB17;ZNF668;ADAT3;MIF     | <!----> | no  | no | no  | no  | no | no | no  |\n",
       "| SKI | SKI      | ENSG00000157933 | chr1 | protein_coding | 2160134 | 2241558 | + | 0.0 | 2.5 | ZNF436                      | <!----> | no  | no | no  | yes | no | no | yes |\n",
       "| MORN1 | MORN1    | ENSG00000116151 | chr1 | protein_coding | 2252692 | 2323146 | - | 0.5 | 1.5 | LRRC56                      | <!----> | no  | no | no  | no  | no | no | no  |\n",
       "| RER1 | RER1     | ENSG00000157916 | chr1 | protein_coding | 2323267 | 2336883 | + | 0.5 | 2.5 | <!----> | <!----> | no  | no | no  | no  | no | no | no  |\n",
       "| PEX10 | PEX10    | ENSG00000157911 | chr1 | protein_coding | 2336236 | 2345236 | - | 0.0 | 1.5 | <!----> | <!----> | no  | no | no  | no  | no | no | no  |\n",
       "| PANK4 | PANK4    | ENSG00000157881 | chr1 | protein_coding | 2439972 | 2458039 | - | 0.0 | 0.5 | <!----> | <!----> | no  | no | no  | no  | no | no | no  |\n",
       "| TPRG1L | TPRG1L   | ENSG00000158109 | chr1 | protein_coding | 3541566 | 3546691 | + | 0.0 | 1.5 | <!----> | <!----> | no  | no | no  | no  | no | no | no  |\n",
       "| LRRC47 | LRRC47   | ENSG00000130764 | chr1 | protein_coding | 3696784 | 3713068 | - | 0.5 | 1.5 | UBIAD1                      | <!----> | no  | no | no  | no  | no | no | no  |\n",
       "| DFFB | DFFB     | ENSG00000169598 | chr1 | protein_coding | 3773845 | 3801993 | + | 0.5 | 1.0 | <!----> | <!----> | no  | no | yes | no  | no | no | no  |\n",
       "| ⋮ | ⋮ | ⋮ | ⋮ | ⋮ | ⋮ | ⋮ | ⋮ | ⋮ | ⋮ | ⋮ | ⋮ | ⋮ | ⋮ | ⋮ | ⋮ | ⋮ | ⋮ | ⋮ |\n",
       "| XIAP | XIAP     | ENSG00000101966 | chrX | protein_coding | 122993574 | 123047829 | + | 0.0 | 4.0 | UBXN4                               | <!----> | yes | no  | yes | no  | no | no  | no  |\n",
       "| STAG2 | STAG2    | ENSG00000101972 | chrX | protein_coding | 123094062 | 123556514 | + | 0.5 | 2.5 | MANEA                               | <!----> | no  | no  | yes | yes | no | yes | no  |\n",
       "| SASH3 | SASH3    | ENSG00000122122 | chrX | protein_coding | 128913955 | 128929177 | + | 0.0 | 6.0 | ARHGAP30;CORO1A;VAV1;CD37;IKZF1     | <!----> | no  | no  | no  | no  | no | no  | no  |\n",
       "| ZDHHC9 | ZDHHC9   | ENSG00000188706 | chrX | protein_coding | 128937264 | 128977885 | - | 1.0 | 4.0 | USP27X;SNX12                        | <!----> | no  | no  | no  | no  | no | no  | no  |\n",
       "| UTP14A | UTP14A   | ENSG00000156697 | chrX | protein_coding | 129040097 | 129063737 | + | 3.5 | 3.0 | <!----> | <!----> | no  | no  | no  | no  | no | no  | no  |\n",
       "| BCORL1 | BCORL1   | ENSG00000085185 | chrX | protein_coding | 129115083 | 129192058 | + | 1.0 | 1.5 | <!----> | <!----> | no  | no  | no  | yes | no | yes | no  |\n",
       "| ELF4 | ELF4     | ENSG00000102034 | chrX | protein_coding | 129198849 | 129244691 | - | 0.5 | 2.0 | <!----> | <!----> | no  | no  | no  | yes | no | no  | yes |\n",
       "| AIFM1 | AIFM1    | ENSG00000156709 | chrX | protein_coding | 129263337 | 129299861 | - | 2.0 | 5.5 | <!----> | <!----> | no  | no  | yes | no  | no | no  | no  |\n",
       "| ZNF280C | ZNF280C  | ENSG00000056277 | chrX | protein_coding | 129336685 | 129402873 | - | 1.5 | 2.0 | <!----> | <!----> | no  | no  | no  | no  | no | no  | yes |\n",
       "| SLC25A14 | SLC25A14 | ENSG00000102078 | chrX | protein_coding | 129473874 | 129507335 | + | 1.0 | 3.0 | <!----> | <!----> | no  | no  | no  | no  | no | no  | no  |\n",
       "| RBMX2 | RBMX2    | ENSG00000134597 | chrX | protein_coding | 129535943 | 129547317 | + | 0.0 | 3.5 | MRPL11                              | <!----> | no  | no  | no  | no  | no | no  | no  |\n",
       "| ENOX2 | ENOX2    | ENSG00000165675 | chrX | protein_coding | 129757350 | 130037208 | - | 1.0 | 0.5 | <!----> | <!----> | no  | no  | no  | no  | no | no  | no  |\n",
       "| MST4 | MST4     | ENSG00000134602 | chrX | protein_coding | 131157293 | 131209971 | + | 0.5 | 4.5 | RAB3IP                              | <!----> | no  | no  | no  | no  | no | no  | no  |\n",
       "| RAP2C | RAP2C    | ENSG00000123728 | chrX | protein_coding | 131337053 | 131353471 | - | 0.0 | 1.5 | <!----> | <!----> | no  | no  | no  | no  | no | no  | no  |\n",
       "| MBNL3 | MBNL3    | ENSG00000076770 | chrX | protein_coding | 131503345 | 131623996 | - | 0.5 | 2.0 | <!----> | <!----> | no  | no  | no  | no  | no | no  | yes |\n",
       "| PHF6 | PHF6     | ENSG00000156531 | chrX | protein_coding | 133507283 | 133562820 | + | 0.5 | 1.5 | GABPA                               | <!----> | no  | no  | no  | yes | no | yes | no  |\n",
       "| HPRT1 | HPRT1    | ENSG00000165704 | chrX | protein_coding | 133594183 | 133654543 | + | 1.5 | 0.5 | <!----> | <!----> | no  | yes | no  | no  | no | no  | no  |\n",
       "| FAM122B | FAM122B  | ENSG00000156504 | chrX | protein_coding | 133903596 | 133931262 | - | 0.0 | 4.5 | IRAK4;HNRNPA2B1                     | <!----> | no  | no  | no  | no  | no | no  | no  |\n",
       "| FAM122C | FAM122C  | ENSG00000156500 | chrX | protein_coding | 133930819 | 133988640 | + | 1.5 | 2.0 | LMBRD2                              | <!----> | no  | no  | no  | no  | no | no  | no  |\n",
       "| MOSPD1 | MOSPD1   | ENSG00000101928 | chrX | protein_coding | 134021656 | 134049297 | - | 1.0 | 5.0 | CPEB2                               | <!----> | no  | no  | no  | no  | no | no  | no  |\n",
       "| FAM127A | FAM127A  | ENSG00000134590 | chrX | protein_coding | 134166333 | 134167576 | + | 3.0 | 4.0 | <!----> | RBM27 | no  | no  | no  | no  | no | no  | no  |\n",
       "| FAM127B | FAM127B  | ENSG00000203950 | chrX | protein_coding | 134184962 | 134186226 | - | 0.5 | 1.5 | <!----> | <!----> | no  | no  | no  | no  | no | no  | no  |\n",
       "| MAP7D3 | MAP7D3   | ENSG00000129680 | chrX | protein_coding | 135295381 | 135338641 | - | 0.0 | 1.5 | <!----> | <!----> | no  | no  | no  | no  | no | no  | no  |\n",
       "| HTATSF1 | HTATSF1  | ENSG00000102241 | chrX | protein_coding | 135579238 | 135594505 | + | 0.5 | 2.5 | PGRMC1                              | <!----> | no  | no  | no  | no  | no | no  | no  |\n",
       "| ARHGEF6 | ARHGEF6  | ENSG00000129675 | chrX | protein_coding | 135747706 | 135864247 | - | 1.0 | 2.5 | <!----> | <!----> | no  | no  | no  | no  | no | no  | no  |\n",
       "| RBMX | RBMX     | ENSG00000147274 | chrX | protein_coding | 135930163 | 135962923 | - | 0.5 | 5.0 | ILF3                                | <!----> | no  | no  | no  | no  | no | yes | no  |\n",
       "| TMEM185A | TMEM185A | ENSG00000155984 | chrX | protein_coding | 148678216 | 148713568 | - | 2.0 | 1.5 | <!----> | <!----> | no  | no  | no  | no  | no | no  | no  |\n",
       "| VMA21 | VMA21    | ENSG00000160131 | chrX | protein_coding | 150564987 | 150577836 | + | 2.0 | 8.5 | C14orf142;APOL6;LYRM7;EIF1AX;PSMD10 | GMPPB | no  | no  | no  | no  | no | no  | no  |\n",
       "| ZFY | ZFY      | ENSG00000067646 | chrY | protein_coding |   2803112 |   2850547 | + | 1.0 | 0.5 | <!----> | <!----> | no  | no  | no  | no  | no | no  | no  |\n",
       "| UTY | UTY      | ENSG00000183878 | chrY | protein_coding |  15360259 |  15592553 | - | 1.5 | 1.0 | <!----> | RPS4X | no  | no  | no  | no  | no | no  | no  |\n",
       "\n"
      ],
      "text/plain": [
       "         source_gene EnsemblID       chr  type           start     end      \n",
       "NOC2L    NOC2L       ENSG00000188976 chr1 protein_coding  879584    894689  \n",
       "KLHL17   KLHL17      ENSG00000187961 chr1 protein_coding  895967    901095  \n",
       "HES4     HES4        ENSG00000188290 chr1 protein_coding  934342    935552  \n",
       "ISG15    ISG15       ENSG00000187608 chr1 protein_coding  948803    949920  \n",
       "AGRN     AGRN        ENSG00000188157 chr1 protein_coding  955503    991496  \n",
       "C1orf159 C1orf159    ENSG00000131591 chr1 protein_coding 1017198   1051741  \n",
       "UBE2J2   UBE2J2      ENSG00000160087 chr1 protein_coding 1189289   1209265  \n",
       "PUSL1    PUSL1       ENSG00000169972 chr1 protein_coding 1243947   1247057  \n",
       "CPSF3L   CPSF3L      ENSG00000127054 chr1 protein_coding 1246965   1260071  \n",
       "GLTPD1   GLTPD1      ENSG00000224051 chr1 protein_coding 1260136   1264277  \n",
       "DVL1     DVL1        ENSG00000107404 chr1 protein_coding 1270656   1284730  \n",
       "AURKAIP1 AURKAIP1    ENSG00000175756 chr1 protein_coding 1309110   1310875  \n",
       "MRPL20   MRPL20      ENSG00000242485 chr1 protein_coding 1337288   1342693  \n",
       "ATAD3B   ATAD3B      ENSG00000160072 chr1 protein_coding 1407143   1433228  \n",
       "ATAD3A   ATAD3A      ENSG00000197785 chr1 protein_coding 1447531   1470067  \n",
       "SSU72    SSU72       ENSG00000160075 chr1 protein_coding 1477053   1510249  \n",
       "CDK11B   CDK11B      ENSG00000248333 chr1 protein_coding 1570603   1590473  \n",
       "CDK11A   CDK11A      ENSG00000008128 chr1 protein_coding 1634169   1655766  \n",
       "NADK     NADK        ENSG00000008130 chr1 protein_coding 1682671   1711896  \n",
       "GNB1     GNB1        ENSG00000078369 chr1 protein_coding 1716729   1822495  \n",
       "PRKCZ    PRKCZ       ENSG00000067606 chr1 protein_coding 1981909   2116834  \n",
       "C1orf86  C1orf86     ENSG00000162585 chr1 protein_coding 2115903   2144159  \n",
       "SKI      SKI         ENSG00000157933 chr1 protein_coding 2160134   2241558  \n",
       "MORN1    MORN1       ENSG00000116151 chr1 protein_coding 2252692   2323146  \n",
       "RER1     RER1        ENSG00000157916 chr1 protein_coding 2323267   2336883  \n",
       "PEX10    PEX10       ENSG00000157911 chr1 protein_coding 2336236   2345236  \n",
       "PANK4    PANK4       ENSG00000157881 chr1 protein_coding 2439972   2458039  \n",
       "TPRG1L   TPRG1L      ENSG00000158109 chr1 protein_coding 3541566   3546691  \n",
       "LRRC47   LRRC47      ENSG00000130764 chr1 protein_coding 3696784   3713068  \n",
       "DFFB     DFFB        ENSG00000169598 chr1 protein_coding 3773845   3801993  \n",
       "⋮        ⋮           ⋮               ⋮    ⋮              ⋮         ⋮        \n",
       "XIAP     XIAP        ENSG00000101966 chrX protein_coding 122993574 123047829\n",
       "STAG2    STAG2       ENSG00000101972 chrX protein_coding 123094062 123556514\n",
       "SASH3    SASH3       ENSG00000122122 chrX protein_coding 128913955 128929177\n",
       "ZDHHC9   ZDHHC9      ENSG00000188706 chrX protein_coding 128937264 128977885\n",
       "UTP14A   UTP14A      ENSG00000156697 chrX protein_coding 129040097 129063737\n",
       "BCORL1   BCORL1      ENSG00000085185 chrX protein_coding 129115083 129192058\n",
       "ELF4     ELF4        ENSG00000102034 chrX protein_coding 129198849 129244691\n",
       "AIFM1    AIFM1       ENSG00000156709 chrX protein_coding 129263337 129299861\n",
       "ZNF280C  ZNF280C     ENSG00000056277 chrX protein_coding 129336685 129402873\n",
       "SLC25A14 SLC25A14    ENSG00000102078 chrX protein_coding 129473874 129507335\n",
       "RBMX2    RBMX2       ENSG00000134597 chrX protein_coding 129535943 129547317\n",
       "ENOX2    ENOX2       ENSG00000165675 chrX protein_coding 129757350 130037208\n",
       "MST4     MST4        ENSG00000134602 chrX protein_coding 131157293 131209971\n",
       "RAP2C    RAP2C       ENSG00000123728 chrX protein_coding 131337053 131353471\n",
       "MBNL3    MBNL3       ENSG00000076770 chrX protein_coding 131503345 131623996\n",
       "PHF6     PHF6        ENSG00000156531 chrX protein_coding 133507283 133562820\n",
       "HPRT1    HPRT1       ENSG00000165704 chrX protein_coding 133594183 133654543\n",
       "FAM122B  FAM122B     ENSG00000156504 chrX protein_coding 133903596 133931262\n",
       "FAM122C  FAM122C     ENSG00000156500 chrX protein_coding 133930819 133988640\n",
       "MOSPD1   MOSPD1      ENSG00000101928 chrX protein_coding 134021656 134049297\n",
       "FAM127A  FAM127A     ENSG00000134590 chrX protein_coding 134166333 134167576\n",
       "FAM127B  FAM127B     ENSG00000203950 chrX protein_coding 134184962 134186226\n",
       "MAP7D3   MAP7D3      ENSG00000129680 chrX protein_coding 135295381 135338641\n",
       "HTATSF1  HTATSF1     ENSG00000102241 chrX protein_coding 135579238 135594505\n",
       "ARHGEF6  ARHGEF6     ENSG00000129675 chrX protein_coding 135747706 135864247\n",
       "RBMX     RBMX        ENSG00000147274 chrX protein_coding 135930163 135962923\n",
       "TMEM185A TMEM185A    ENSG00000155984 chrX protein_coding 148678216 148713568\n",
       "VMA21    VMA21       ENSG00000160131 chrX protein_coding 150564987 150577836\n",
       "ZFY      ZFY         ENSG00000067646 chrY protein_coding   2803112   2850547\n",
       "UTY      UTY         ENSG00000183878 chrY protein_coding  15360259  15592553\n",
       "         strand OutgoingRepressorLinks OutgoingActivatorLinks\n",
       "NOC2L    -      1.0                    7.0                   \n",
       "KLHL17   +      1.0                    5.5                   \n",
       "HES4     -      0.5                    2.5                   \n",
       "ISG15    +      0.0                    9.0                   \n",
       "AGRN     +      1.0                    3.0                   \n",
       "C1orf159 -      0.0                    4.5                   \n",
       "UBE2J2   -      0.0                    1.5                   \n",
       "PUSL1    +      1.0                    0.5                   \n",
       "CPSF3L   -      0.0                    2.5                   \n",
       "GLTPD1   +      0.5                    2.0                   \n",
       "DVL1     -      2.0                    6.5                   \n",
       "AURKAIP1 -      0.0                    1.5                   \n",
       "MRPL20   -      0.0                    2.0                   \n",
       "ATAD3B   +      2.0                    1.0                   \n",
       "ATAD3A   +      0.5                    2.0                   \n",
       "SSU72    -      2.0                    0.5                   \n",
       "CDK11B   -      0.0                    2.0                   \n",
       "CDK11A   -      1.0                    0.5                   \n",
       "NADK     -      0.5                    3.0                   \n",
       "GNB1     -      2.0                    3.5                   \n",
       "PRKCZ    +      0.5                    0.5                   \n",
       "C1orf86  -      0.0                    7.0                   \n",
       "SKI      +      0.0                    2.5                   \n",
       "MORN1    -      0.5                    1.5                   \n",
       "RER1     +      0.5                    2.5                   \n",
       "PEX10    -      0.0                    1.5                   \n",
       "PANK4    -      0.0                    0.5                   \n",
       "TPRG1L   +      0.0                    1.5                   \n",
       "LRRC47   -      0.5                    1.5                   \n",
       "DFFB     +      0.5                    1.0                   \n",
       "⋮        ⋮      ⋮                      ⋮                     \n",
       "XIAP     +      0.0                    4.0                   \n",
       "STAG2    +      0.5                    2.5                   \n",
       "SASH3    +      0.0                    6.0                   \n",
       "ZDHHC9   -      1.0                    4.0                   \n",
       "UTP14A   +      3.5                    3.0                   \n",
       "BCORL1   +      1.0                    1.5                   \n",
       "ELF4     -      0.5                    2.0                   \n",
       "AIFM1    -      2.0                    5.5                   \n",
       "ZNF280C  -      1.5                    2.0                   \n",
       "SLC25A14 +      1.0                    3.0                   \n",
       "RBMX2    +      0.0                    3.5                   \n",
       "ENOX2    -      1.0                    0.5                   \n",
       "MST4     +      0.5                    4.5                   \n",
       "RAP2C    -      0.0                    1.5                   \n",
       "MBNL3    -      0.5                    2.0                   \n",
       "PHF6     +      0.5                    1.5                   \n",
       "HPRT1    +      1.5                    0.5                   \n",
       "FAM122B  -      0.0                    4.5                   \n",
       "FAM122C  +      1.5                    2.0                   \n",
       "MOSPD1   -      1.0                    5.0                   \n",
       "FAM127A  +      3.0                    4.0                   \n",
       "FAM127B  -      0.5                    1.5                   \n",
       "MAP7D3   -      0.0                    1.5                   \n",
       "HTATSF1  +      0.5                    2.5                   \n",
       "ARHGEF6  -      1.0                    2.5                   \n",
       "RBMX     -      0.5                    5.0                   \n",
       "TMEM185A -      2.0                    1.5                   \n",
       "VMA21    +      2.0                    8.5                   \n",
       "ZFY      +      1.0                    0.5                   \n",
       "UTY      -      1.5                    1.0                   \n",
       "         activated_target_genes              repressed_target_genes\n",
       "NOC2L    NUDC;DPH2;RRP12;NOL6                                      \n",
       "KLHL17   RNF207;ATXN7L2                                            \n",
       "HES4     RPP25                                                     \n",
       "ISG15    IFI6;IFITM1;IRF7;SP110;OGFR                               \n",
       "AGRN                                                               \n",
       "C1orf159 ULK1;RABEP2;CAPN10                                        \n",
       "UBE2J2                                                             \n",
       "PUSL1                                                              \n",
       "CPSF3L   ZBTB48                                                    \n",
       "GLTPD1                                                             \n",
       "DVL1     PLEKHM2;RFNG;MFSD10                                       \n",
       "AURKAIP1                                                           \n",
       "MRPL20   PARK7                                                     \n",
       "ATAD3B                                                             \n",
       "ATAD3A                                                             \n",
       "SSU72                                                              \n",
       "CDK11B                                                             \n",
       "CDK11A                                                             \n",
       "NADK                                                               \n",
       "GNB1     KIF1B;EXOSC10                                             \n",
       "PRKCZ                                                              \n",
       "C1orf86  ZBTB17;ZNF668;ADAT3;MIF                                   \n",
       "SKI      ZNF436                                                    \n",
       "MORN1    LRRC56                                                    \n",
       "RER1                                                               \n",
       "PEX10                                                              \n",
       "PANK4                                                              \n",
       "TPRG1L                                                             \n",
       "LRRC47   UBIAD1                                                    \n",
       "DFFB                                                               \n",
       "⋮        ⋮                                   ⋮                     \n",
       "XIAP     UBXN4                                                     \n",
       "STAG2    MANEA                                                     \n",
       "SASH3    ARHGAP30;CORO1A;VAV1;CD37;IKZF1                           \n",
       "ZDHHC9   USP27X;SNX12                                              \n",
       "UTP14A                                                             \n",
       "BCORL1                                                             \n",
       "ELF4                                                               \n",
       "AIFM1                                                              \n",
       "ZNF280C                                                            \n",
       "SLC25A14                                                           \n",
       "RBMX2    MRPL11                                                    \n",
       "ENOX2                                                              \n",
       "MST4     RAB3IP                                                    \n",
       "RAP2C                                                              \n",
       "MBNL3                                                              \n",
       "PHF6     GABPA                                                     \n",
       "HPRT1                                                              \n",
       "FAM122B  IRAK4;HNRNPA2B1                                           \n",
       "FAM122C  LMBRD2                                                    \n",
       "MOSPD1   CPEB2                                                     \n",
       "FAM127A                                      RBM27                 \n",
       "FAM127B                                                            \n",
       "MAP7D3                                                             \n",
       "HTATSF1  PGRMC1                                                    \n",
       "ARHGEF6                                                            \n",
       "RBMX     ILF3                                                      \n",
       "TMEM185A                                                           \n",
       "VMA21    C14orf142;APOL6;LYRM7;EIF1AX;PSMD10 GMPPB                 \n",
       "ZFY                                                                \n",
       "UTY                                          RPS4X                 \n",
       "         immune system metabolism signaling pathway cancer census oncogene\n",
       "NOC2L    no            no         no                no            no      \n",
       "KLHL17   no            no         no                no            no      \n",
       "HES4     no            no         no                no            no      \n",
       "ISG15    yes           no         no                no            no      \n",
       "AGRN     no            no         yes               no            no      \n",
       "C1orf159 no            no         no                no            no      \n",
       "UBE2J2   no            no         no                no            no      \n",
       "PUSL1    no            no         no                no            no      \n",
       "CPSF3L   no            no         no                no            no      \n",
       "GLTPD1   no            no         no                no            no      \n",
       "DVL1     no            no         yes               no            no      \n",
       "AURKAIP1 no            no         no                no            no      \n",
       "MRPL20   no            no         no                no            no      \n",
       "ATAD3B   no            no         no                no            no      \n",
       "ATAD3A   no            no         no                no            no      \n",
       "SSU72    no            no         no                no            no      \n",
       "CDK11B   no            no         no                no            no      \n",
       "CDK11A   no            no         no                no            no      \n",
       "NADK     no            no         no                no            no      \n",
       "GNB1     no            no         yes               no            no      \n",
       "PRKCZ    no            no         yes               no            no      \n",
       "C1orf86  no            no         no                no            no      \n",
       "SKI      no            no         no                yes           no      \n",
       "MORN1    no            no         no                no            no      \n",
       "RER1     no            no         no                no            no      \n",
       "PEX10    no            no         no                no            no      \n",
       "PANK4    no            no         no                no            no      \n",
       "TPRG1L   no            no         no                no            no      \n",
       "LRRC47   no            no         no                no            no      \n",
       "DFFB     no            no         yes               no            no      \n",
       "⋮        ⋮             ⋮          ⋮                 ⋮             ⋮       \n",
       "XIAP     yes           no         yes               no            no      \n",
       "STAG2    no            no         yes               yes           no      \n",
       "SASH3    no            no         no                no            no      \n",
       "ZDHHC9   no            no         no                no            no      \n",
       "UTP14A   no            no         no                no            no      \n",
       "BCORL1   no            no         no                yes           no      \n",
       "ELF4     no            no         no                yes           no      \n",
       "AIFM1    no            no         yes               no            no      \n",
       "ZNF280C  no            no         no                no            no      \n",
       "SLC25A14 no            no         no                no            no      \n",
       "RBMX2    no            no         no                no            no      \n",
       "ENOX2    no            no         no                no            no      \n",
       "MST4     no            no         no                no            no      \n",
       "RAP2C    no            no         no                no            no      \n",
       "MBNL3    no            no         no                no            no      \n",
       "PHF6     no            no         no                yes           no      \n",
       "HPRT1    no            yes        no                no            no      \n",
       "FAM122B  no            no         no                no            no      \n",
       "FAM122C  no            no         no                no            no      \n",
       "MOSPD1   no            no         no                no            no      \n",
       "FAM127A  no            no         no                no            no      \n",
       "FAM127B  no            no         no                no            no      \n",
       "MAP7D3   no            no         no                no            no      \n",
       "HTATSF1  no            no         no                no            no      \n",
       "ARHGEF6  no            no         no                no            no      \n",
       "RBMX     no            no         no                no            no      \n",
       "TMEM185A no            no         no                no            no      \n",
       "VMA21    no            no         no                no            no      \n",
       "ZFY      no            no         no                no            no      \n",
       "UTY      no            no         no                no            no      \n",
       "         tumor suppressor transcription factor\n",
       "NOC2L    no               no                  \n",
       "KLHL17   no               no                  \n",
       "HES4     no               yes                 \n",
       "ISG15    no               no                  \n",
       "AGRN     no               no                  \n",
       "C1orf159 no               no                  \n",
       "UBE2J2   no               no                  \n",
       "PUSL1    no               no                  \n",
       "CPSF3L   no               no                  \n",
       "GLTPD1   no               no                  \n",
       "DVL1     no               yes                 \n",
       "AURKAIP1 no               no                  \n",
       "MRPL20   no               no                  \n",
       "ATAD3B   no               yes                 \n",
       "ATAD3A   no               yes                 \n",
       "SSU72    no               no                  \n",
       "CDK11B   no               no                  \n",
       "CDK11A   no               no                  \n",
       "NADK     no               no                  \n",
       "GNB1     no               no                  \n",
       "PRKCZ    no               no                  \n",
       "C1orf86  no               no                  \n",
       "SKI      no               yes                 \n",
       "MORN1    no               no                  \n",
       "RER1     no               no                  \n",
       "PEX10    no               no                  \n",
       "PANK4    no               no                  \n",
       "TPRG1L   no               no                  \n",
       "LRRC47   no               no                  \n",
       "DFFB     no               no                  \n",
       "⋮        ⋮                ⋮                   \n",
       "XIAP     no               no                  \n",
       "STAG2    yes              no                  \n",
       "SASH3    no               no                  \n",
       "ZDHHC9   no               no                  \n",
       "UTP14A   no               no                  \n",
       "BCORL1   yes              no                  \n",
       "ELF4     no               yes                 \n",
       "AIFM1    no               no                  \n",
       "ZNF280C  no               yes                 \n",
       "SLC25A14 no               no                  \n",
       "RBMX2    no               no                  \n",
       "ENOX2    no               no                  \n",
       "MST4     no               no                  \n",
       "RAP2C    no               no                  \n",
       "MBNL3    no               yes                 \n",
       "PHF6     yes              no                  \n",
       "HPRT1    no               no                  \n",
       "FAM122B  no               no                  \n",
       "FAM122C  no               no                  \n",
       "MOSPD1   no               no                  \n",
       "FAM127A  no               no                  \n",
       "FAM127B  no               no                  \n",
       "MAP7D3   no               no                  \n",
       "HTATSF1  no               no                  \n",
       "ARHGEF6  no               no                  \n",
       "RBMX     yes              no                  \n",
       "TMEM185A no               no                  \n",
       "VMA21    no               no                  \n",
       "ZFY      no               no                  \n",
       "UTY      no               no                  "
      ]
     },
     "metadata": {},
     "output_type": "display_data"
    }
   ],
   "source": [
    "connectStatsOut = cbind(connectStatsOut,genePWannot[connectStatsOut$source_gene,])\n",
    "connectStatsOut"
   ]
  },
  {
   "cell_type": "code",
   "execution_count": 145,
   "id": "4fd1ffa5",
   "metadata": {},
   "outputs": [],
   "source": [
    "write.xlsx(x = connectStatsOut, row.names = F,\n",
    "           file = paste0(outDirectory,\"SupplTable-S5-connectivity-stats.xls\"))"
   ]
  }
 ],
 "metadata": {
  "kernelspec": {
   "display_name": "R",
   "language": "R",
   "name": "ir"
  },
  "language_info": {
   "codemirror_mode": "r",
   "file_extension": ".r",
   "mimetype": "text/x-r-source",
   "name": "R",
   "pygments_lexer": "r",
   "version": "4.2.2"
  }
 },
 "nbformat": 4,
 "nbformat_minor": 5
}
