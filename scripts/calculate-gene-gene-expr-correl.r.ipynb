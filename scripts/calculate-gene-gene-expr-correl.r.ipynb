{
 "cells": [
  {
   "cell_type": "code",
   "execution_count": null,
   "id": "423ee770",
   "metadata": {},
   "outputs": [],
   "source": [
    "# calculate auto-correlation of the expression of neighboring genes \n",
    "#  based on TCGA expression values, Figure S1"
   ]
  },
  {
   "cell_type": "code",
   "execution_count": 41,
   "id": "1eca370c",
   "metadata": {},
   "outputs": [],
   "source": [
    "library(reshape2) # for melt()\n",
    "library(ggplot2)"
   ]
  },
  {
   "cell_type": "code",
   "execution_count": 1,
   "id": "04e037ed",
   "metadata": {},
   "outputs": [],
   "source": [
    "basePath = \"/data/bcu_projects/MelBrainSys_PostdocProject_Gruetzmann/publications/2022-my-MelBrainSys-paper/scripts-etc-for-publication/\"\n",
    "setwd(basePath)"
   ]
  },
  {
   "cell_type": "code",
   "execution_count": 44,
   "id": "fdf661be",
   "metadata": {},
   "outputs": [],
   "source": [
    "outDirectory = paste0(basePath,\"FiguresTables/\")"
   ]
  },
  {
   "cell_type": "code",
   "execution_count": 2,
   "id": "0002d2af",
   "metadata": {},
   "outputs": [
    {
     "data": {
      "text/html": [
       "<table class=\"dataframe\">\n",
       "<caption>A data.frame: 3 × 273</caption>\n",
       "<thead>\n",
       "\t<tr><th></th><th scope=col>geneSymbol</th><th scope=col>chr</th><th scope=col>pos</th><th scope=col>TCGA.BF.A1PU.01</th><th scope=col>TCGA.BF.A1PV.01</th><th scope=col>TCGA.BF.A1PX.01</th><th scope=col>TCGA.BF.A1PZ.01</th><th scope=col>TCGA.BF.A3DJ.01</th><th scope=col>TCGA.BF.A3DM.01</th><th scope=col>TCGA.BF.A3DN.01</th><th scope=col>⋯</th><th scope=col>TCGA.GF.A2C7.01</th><th scope=col>TCGA.GF.A3OT.06</th><th scope=col>TCGA.GN.A262.06</th><th scope=col>TCGA.GN.A263.01</th><th scope=col>TCGA.GN.A265.06</th><th scope=col>TCGA.GN.A267.06</th><th scope=col>TCGA.GN.A268.06</th><th scope=col>TCGA.GN.A26A.06</th><th scope=col>TCGA.GN.A26D.06</th><th scope=col>TCGA.HR.A5NC.01</th></tr>\n",
       "\t<tr><th></th><th scope=col>&lt;chr&gt;</th><th scope=col>&lt;chr&gt;</th><th scope=col>&lt;int&gt;</th><th scope=col>&lt;dbl&gt;</th><th scope=col>&lt;dbl&gt;</th><th scope=col>&lt;dbl&gt;</th><th scope=col>&lt;dbl&gt;</th><th scope=col>&lt;dbl&gt;</th><th scope=col>&lt;dbl&gt;</th><th scope=col>&lt;dbl&gt;</th><th scope=col>⋯</th><th scope=col>&lt;dbl&gt;</th><th scope=col>&lt;dbl&gt;</th><th scope=col>&lt;dbl&gt;</th><th scope=col>&lt;dbl&gt;</th><th scope=col>&lt;dbl&gt;</th><th scope=col>&lt;dbl&gt;</th><th scope=col>&lt;dbl&gt;</th><th scope=col>&lt;dbl&gt;</th><th scope=col>&lt;dbl&gt;</th><th scope=col>&lt;dbl&gt;</th></tr>\n",
       "</thead>\n",
       "<tbody>\n",
       "\t<tr><th scope=row>1</th><td>NOC2L </td><td>chr1</td><td>887127</td><td>6.702927</td><td>7.506216</td><td>7.3536418</td><td>7.5527593</td><td> 6.7940935</td><td>7.8001608</td><td> 6.438719</td><td>⋯</td><td> 6.320593</td><td>7.774894</td><td>7.869414</td><td> 5.85987063</td><td>8.0767768</td><td>7.698355</td><td>7.609606</td><td> 8.2928188</td><td> 6.689367</td><td> 6.129037</td></tr>\n",
       "\t<tr><th scope=row>2</th><td>KLHL17</td><td>chr1</td><td>898531</td><td>2.524458</td><td>3.581854</td><td>1.8863971</td><td>3.3867555</td><td> 2.5493458</td><td>2.4142473</td><td> 1.246689</td><td>⋯</td><td> 2.304777</td><td>4.523496</td><td>3.997421</td><td> 0.04818819</td><td>3.2792568</td><td>3.688836</td><td>4.444516</td><td> 3.1149303</td><td> 1.624958</td><td> 2.909801</td></tr>\n",
       "\t<tr><th scope=row>3</th><td>HES4  </td><td>chr1</td><td>934947</td><td>1.030696</td><td>3.166422</td><td>0.3773996</td><td>0.9425393</td><td>-0.9829983</td><td>0.9366146</td><td>-2.111562</td><td>⋯</td><td>-1.218591</td><td>2.376759</td><td>1.699015</td><td>-0.06880224</td><td>0.1592957</td><td>2.768496</td><td>1.789248</td><td>-0.4265386</td><td>-1.908413</td><td>-2.078192</td></tr>\n",
       "</tbody>\n",
       "</table>\n"
      ],
      "text/latex": [
       "A data.frame: 3 × 273\n",
       "\\begin{tabular}{r|lllllllllllllllllllll}\n",
       "  & geneSymbol & chr & pos & TCGA.BF.A1PU.01 & TCGA.BF.A1PV.01 & TCGA.BF.A1PX.01 & TCGA.BF.A1PZ.01 & TCGA.BF.A3DJ.01 & TCGA.BF.A3DM.01 & TCGA.BF.A3DN.01 & ⋯ & TCGA.GF.A2C7.01 & TCGA.GF.A3OT.06 & TCGA.GN.A262.06 & TCGA.GN.A263.01 & TCGA.GN.A265.06 & TCGA.GN.A267.06 & TCGA.GN.A268.06 & TCGA.GN.A26A.06 & TCGA.GN.A26D.06 & TCGA.HR.A5NC.01\\\\\n",
       "  & <chr> & <chr> & <int> & <dbl> & <dbl> & <dbl> & <dbl> & <dbl> & <dbl> & <dbl> & ⋯ & <dbl> & <dbl> & <dbl> & <dbl> & <dbl> & <dbl> & <dbl> & <dbl> & <dbl> & <dbl>\\\\\n",
       "\\hline\n",
       "\t1 & NOC2L  & chr1 & 887127 & 6.702927 & 7.506216 & 7.3536418 & 7.5527593 &  6.7940935 & 7.8001608 &  6.438719 & ⋯ &  6.320593 & 7.774894 & 7.869414 &  5.85987063 & 8.0767768 & 7.698355 & 7.609606 &  8.2928188 &  6.689367 &  6.129037\\\\\n",
       "\t2 & KLHL17 & chr1 & 898531 & 2.524458 & 3.581854 & 1.8863971 & 3.3867555 &  2.5493458 & 2.4142473 &  1.246689 & ⋯ &  2.304777 & 4.523496 & 3.997421 &  0.04818819 & 3.2792568 & 3.688836 & 4.444516 &  3.1149303 &  1.624958 &  2.909801\\\\\n",
       "\t3 & HES4   & chr1 & 934947 & 1.030696 & 3.166422 & 0.3773996 & 0.9425393 & -0.9829983 & 0.9366146 & -2.111562 & ⋯ & -1.218591 & 2.376759 & 1.699015 & -0.06880224 & 0.1592957 & 2.768496 & 1.789248 & -0.4265386 & -1.908413 & -2.078192\\\\\n",
       "\\end{tabular}\n"
      ],
      "text/markdown": [
       "\n",
       "A data.frame: 3 × 273\n",
       "\n",
       "| <!--/--> | geneSymbol &lt;chr&gt; | chr &lt;chr&gt; | pos &lt;int&gt; | TCGA.BF.A1PU.01 &lt;dbl&gt; | TCGA.BF.A1PV.01 &lt;dbl&gt; | TCGA.BF.A1PX.01 &lt;dbl&gt; | TCGA.BF.A1PZ.01 &lt;dbl&gt; | TCGA.BF.A3DJ.01 &lt;dbl&gt; | TCGA.BF.A3DM.01 &lt;dbl&gt; | TCGA.BF.A3DN.01 &lt;dbl&gt; | ⋯ ⋯ | TCGA.GF.A2C7.01 &lt;dbl&gt; | TCGA.GF.A3OT.06 &lt;dbl&gt; | TCGA.GN.A262.06 &lt;dbl&gt; | TCGA.GN.A263.01 &lt;dbl&gt; | TCGA.GN.A265.06 &lt;dbl&gt; | TCGA.GN.A267.06 &lt;dbl&gt; | TCGA.GN.A268.06 &lt;dbl&gt; | TCGA.GN.A26A.06 &lt;dbl&gt; | TCGA.GN.A26D.06 &lt;dbl&gt; | TCGA.HR.A5NC.01 &lt;dbl&gt; |\n",
       "|---|---|---|---|---|---|---|---|---|---|---|---|---|---|---|---|---|---|---|---|---|---|\n",
       "| 1 | NOC2L  | chr1 | 887127 | 6.702927 | 7.506216 | 7.3536418 | 7.5527593 |  6.7940935 | 7.8001608 |  6.438719 | ⋯ |  6.320593 | 7.774894 | 7.869414 |  5.85987063 | 8.0767768 | 7.698355 | 7.609606 |  8.2928188 |  6.689367 |  6.129037 |\n",
       "| 2 | KLHL17 | chr1 | 898531 | 2.524458 | 3.581854 | 1.8863971 | 3.3867555 |  2.5493458 | 2.4142473 |  1.246689 | ⋯ |  2.304777 | 4.523496 | 3.997421 |  0.04818819 | 3.2792568 | 3.688836 | 4.444516 |  3.1149303 |  1.624958 |  2.909801 |\n",
       "| 3 | HES4   | chr1 | 934947 | 1.030696 | 3.166422 | 0.3773996 | 0.9425393 | -0.9829983 | 0.9366146 | -2.111562 | ⋯ | -1.218591 | 2.376759 | 1.699015 | -0.06880224 | 0.1592957 | 2.768496 | 1.789248 | -0.4265386 | -1.908413 | -2.078192 |\n",
       "\n"
      ],
      "text/plain": [
       "  geneSymbol chr  pos    TCGA.BF.A1PU.01 TCGA.BF.A1PV.01 TCGA.BF.A1PX.01\n",
       "1 NOC2L      chr1 887127 6.702927        7.506216        7.3536418      \n",
       "2 KLHL17     chr1 898531 2.524458        3.581854        1.8863971      \n",
       "3 HES4       chr1 934947 1.030696        3.166422        0.3773996      \n",
       "  TCGA.BF.A1PZ.01 TCGA.BF.A3DJ.01 TCGA.BF.A3DM.01 TCGA.BF.A3DN.01 ⋯\n",
       "1 7.5527593        6.7940935      7.8001608        6.438719       ⋯\n",
       "2 3.3867555        2.5493458      2.4142473        1.246689       ⋯\n",
       "3 0.9425393       -0.9829983      0.9366146       -2.111562       ⋯\n",
       "  TCGA.GF.A2C7.01 TCGA.GF.A3OT.06 TCGA.GN.A262.06 TCGA.GN.A263.01\n",
       "1  6.320593       7.774894        7.869414         5.85987063    \n",
       "2  2.304777       4.523496        3.997421         0.04818819    \n",
       "3 -1.218591       2.376759        1.699015        -0.06880224    \n",
       "  TCGA.GN.A265.06 TCGA.GN.A267.06 TCGA.GN.A268.06 TCGA.GN.A26A.06\n",
       "1 8.0767768       7.698355        7.609606         8.2928188     \n",
       "2 3.2792568       3.688836        4.444516         3.1149303     \n",
       "3 0.1592957       2.768496        1.789248        -0.4265386     \n",
       "  TCGA.GN.A26D.06 TCGA.HR.A5NC.01\n",
       "1  6.689367        6.129037      \n",
       "2  1.624958        2.909801      \n",
       "3 -1.908413       -2.078192      "
      ]
     },
     "metadata": {},
     "output_type": "display_data"
    },
    {
     "data": {
      "text/html": [
       "<style>\n",
       ".list-inline {list-style: none; margin:0; padding: 0}\n",
       ".list-inline>li {display: inline-block}\n",
       ".list-inline>li:not(:last-child)::after {content: \"\\00b7\"; padding: 0 .5ex}\n",
       "</style>\n",
       "<ol class=list-inline><li>8251</li><li>273</li></ol>\n"
      ],
      "text/latex": [
       "\\begin{enumerate*}\n",
       "\\item 8251\n",
       "\\item 273\n",
       "\\end{enumerate*}\n"
      ],
      "text/markdown": [
       "1. 8251\n",
       "2. 273\n",
       "\n",
       "\n"
      ],
      "text/plain": [
       "[1] 8251  273"
      ]
     },
     "metadata": {},
     "output_type": "display_data"
    }
   ],
   "source": [
    "geneExprTable = read.csv(file = \"regNet/Data/TCGA-expression.csv\", \n",
    "                         header = T, sep=\"\\t\",stringsAsFactors = F)\n",
    "head(geneExprTable,3); dim(geneExprTable)"
   ]
  },
  {
   "cell_type": "code",
   "execution_count": 3,
   "id": "119198b3",
   "metadata": {},
   "outputs": [
    {
     "data": {
      "text/html": [
       "'character'"
      ],
      "text/latex": [
       "'character'"
      ],
      "text/markdown": [
       "'character'"
      ],
      "text/plain": [
       "[1] \"character\""
      ]
     },
     "metadata": {},
     "output_type": "display_data"
    },
    {
     "data": {
      "text/html": [
       "'integer'"
      ],
      "text/latex": [
       "'integer'"
      ],
      "text/markdown": [
       "'integer'"
      ],
      "text/plain": [
       "[1] \"integer\""
      ]
     },
     "metadata": {},
     "output_type": "display_data"
    },
    {
     "data": {
      "text/html": [
       "<style>\n",
       ".list-inline {list-style: none; margin:0; padding: 0}\n",
       ".list-inline>li {display: inline-block}\n",
       ".list-inline>li:not(:last-child)::after {content: \"\\00b7\"; padding: 0 .5ex}\n",
       "</style>\n",
       "<ol class=list-inline><li>1</li><li>2</li><li>3</li><li>4</li><li>5</li><li>6</li></ol>\n"
      ],
      "text/latex": [
       "\\begin{enumerate*}\n",
       "\\item 1\n",
       "\\item 2\n",
       "\\item 3\n",
       "\\item 4\n",
       "\\item 5\n",
       "\\item 6\n",
       "\\end{enumerate*}\n"
      ],
      "text/markdown": [
       "1. 1\n",
       "2. 2\n",
       "3. 3\n",
       "4. 4\n",
       "5. 5\n",
       "6. 6\n",
       "\n",
       "\n"
      ],
      "text/plain": [
       "[1] 1 2 3 4 5 6"
      ]
     },
     "metadata": {},
     "output_type": "display_data"
    },
    {
     "data": {
      "text/plain": [
       "\n",
       "   1 \n",
       "8250 "
      ]
     },
     "metadata": {},
     "output_type": "display_data"
    }
   ],
   "source": [
    "# make sure genes are sorted by chr/position\n",
    "class(geneExprTable$chr); class(geneExprTable$pos)\n",
    "o = order(geneExprTable$chr,geneExprTable$pos)\n",
    "head(o)\n",
    "table(o[2:length(o)]-o[1:(length(o)-1)]) # already in desired order"
   ]
  },
  {
   "cell_type": "code",
   "execution_count": 4,
   "id": "fb4a9ce7",
   "metadata": {},
   "outputs": [
    {
     "data": {
      "text/plain": [
       "\n",
       "  0 \n",
       "270 "
      ]
     },
     "metadata": {},
     "output_type": "display_data"
    }
   ],
   "source": [
    "# double check that there are no NAs inside:\n",
    "table(apply(geneExprTable[,-c(1:3)],2,function(c) length(which(is.na(c)))))\n",
    "# no NA in any column"
   ]
  },
  {
   "cell_type": "code",
   "execution_count": 5,
   "id": "279ec204",
   "metadata": {},
   "outputs": [
    {
     "data": {
      "text/html": [
       "<style>\n",
       ".list-inline {list-style: none; margin:0; padding: 0}\n",
       ".list-inline>li {display: inline-block}\n",
       ".list-inline>li:not(:last-child)::after {content: \"\\00b7\"; padding: 0 .5ex}\n",
       "</style>\n",
       "<ol class=list-inline><li>'matrix'</li><li>'array'</li></ol>\n"
      ],
      "text/latex": [
       "\\begin{enumerate*}\n",
       "\\item 'matrix'\n",
       "\\item 'array'\n",
       "\\end{enumerate*}\n"
      ],
      "text/markdown": [
       "1. 'matrix'\n",
       "2. 'array'\n",
       "\n",
       "\n"
      ],
      "text/plain": [
       "[1] \"matrix\" \"array\" "
      ]
     },
     "metadata": {},
     "output_type": "display_data"
    },
    {
     "data": {
      "text/html": [
       "'double'"
      ],
      "text/latex": [
       "'double'"
      ],
      "text/markdown": [
       "'double'"
      ],
      "text/plain": [
       "[1] \"double\""
      ]
     },
     "metadata": {},
     "output_type": "display_data"
    },
    {
     "data": {
      "text/html": [
       "<style>\n",
       ".list-inline {list-style: none; margin:0; padding: 0}\n",
       ".list-inline>li {display: inline-block}\n",
       ".list-inline>li:not(:last-child)::after {content: \"\\00b7\"; padding: 0 .5ex}\n",
       "</style>\n",
       "<ol class=list-inline><li>8251</li><li>270</li></ol>\n"
      ],
      "text/latex": [
       "\\begin{enumerate*}\n",
       "\\item 8251\n",
       "\\item 270\n",
       "\\end{enumerate*}\n"
      ],
      "text/markdown": [
       "1. 8251\n",
       "2. 270\n",
       "\n",
       "\n"
      ],
      "text/plain": [
       "[1] 8251  270"
      ]
     },
     "metadata": {},
     "output_type": "display_data"
    }
   ],
   "source": [
    "# speed up by having a double matrix of gene expr values:\n",
    "geneExprTableM = as.matrix(geneExprTable[,-c(1:3)])\n",
    "class(geneExprTableM); typeof(geneExprTableM); dim(geneExprTableM)"
   ]
  },
  {
   "cell_type": "markdown",
   "id": "709044d4",
   "metadata": {},
   "source": [
    "### calculate correlations"
   ]
  },
  {
   "cell_type": "code",
   "execution_count": 6,
   "id": "d2719c7f",
   "metadata": {},
   "outputs": [],
   "source": [
    "# for each chr, get indexes of respective genes in expression array:\n",
    "chrIdx = sapply(unique(geneExprTable$chr), function(chr) which(geneExprTable$chr == chr))"
   ]
  },
  {
   "cell_type": "code",
   "execution_count": 7,
   "id": "659b267a",
   "metadata": {
    "scrolled": true
   },
   "outputs": [
    {
     "data": {
      "text/html": [
       "24"
      ],
      "text/latex": [
       "24"
      ],
      "text/markdown": [
       "24"
      ],
      "text/plain": [
       "[1] 24"
      ]
     },
     "metadata": {},
     "output_type": "display_data"
    },
    {
     "data": {
      "text/html": [
       "<dl>\n",
       "\t<dt>$chr1</dt>\n",
       "\t\t<dd><style>\n",
       ".list-inline {list-style: none; margin:0; padding: 0}\n",
       ".list-inline>li {display: inline-block}\n",
       ".list-inline>li:not(:last-child)::after {content: \"\\00b7\"; padding: 0 .5ex}\n",
       "</style>\n",
       "<ol class=list-inline><li>1</li><li>2</li><li>3</li><li>4</li><li>5</li><li>6</li></ol>\n",
       "</dd>\n",
       "\t<dt>$chr10</dt>\n",
       "\t\t<dd><style>\n",
       ".list-inline {list-style: none; margin:0; padding: 0}\n",
       ".list-inline>li {display: inline-block}\n",
       ".list-inline>li:not(:last-child)::after {content: \"\\00b7\"; padding: 0 .5ex}\n",
       "</style>\n",
       "<ol class=list-inline><li>857</li><li>858</li><li>859</li><li>860</li><li>861</li><li>862</li></ol>\n",
       "</dd>\n",
       "\t<dt>$chr11</dt>\n",
       "\t\t<dd><style>\n",
       ".list-inline {list-style: none; margin:0; padding: 0}\n",
       ".list-inline>li {display: inline-block}\n",
       ".list-inline>li:not(:last-child)::after {content: \"\\00b7\"; padding: 0 .5ex}\n",
       "</style>\n",
       "<ol class=list-inline><li>1182</li><li>1183</li><li>1184</li><li>1185</li><li>1186</li><li>1187</li></ol>\n",
       "</dd>\n",
       "\t<dt>$chr12</dt>\n",
       "\t\t<dd><style>\n",
       ".list-inline {list-style: none; margin:0; padding: 0}\n",
       ".list-inline>li {display: inline-block}\n",
       ".list-inline>li:not(:last-child)::after {content: \"\\00b7\"; padding: 0 .5ex}\n",
       "</style>\n",
       "<ol class=list-inline><li>1668</li><li>1669</li><li>1670</li><li>1671</li><li>1672</li><li>1673</li></ol>\n",
       "</dd>\n",
       "\t<dt>$chr13</dt>\n",
       "\t\t<dd><style>\n",
       ".list-inline {list-style: none; margin:0; padding: 0}\n",
       ".list-inline>li {display: inline-block}\n",
       ".list-inline>li:not(:last-child)::after {content: \"\\00b7\"; padding: 0 .5ex}\n",
       "</style>\n",
       "<ol class=list-inline><li>2142</li><li>2143</li><li>2144</li><li>2145</li><li>2146</li><li>2147</li></ol>\n",
       "</dd>\n",
       "\t<dt>$chr14</dt>\n",
       "\t\t<dd><style>\n",
       ".list-inline {list-style: none; margin:0; padding: 0}\n",
       ".list-inline>li {display: inline-block}\n",
       ".list-inline>li:not(:last-child)::after {content: \"\\00b7\"; padding: 0 .5ex}\n",
       "</style>\n",
       "<ol class=list-inline><li>2302</li><li>2303</li><li>2304</li><li>2305</li><li>2306</li><li>2307</li></ol>\n",
       "</dd>\n",
       "\t<dt>$chr15</dt>\n",
       "\t\t<dd><style>\n",
       ".list-inline {list-style: none; margin:0; padding: 0}\n",
       ".list-inline>li {display: inline-block}\n",
       ".list-inline>li:not(:last-child)::after {content: \"\\00b7\"; padding: 0 .5ex}\n",
       "</style>\n",
       "<ol class=list-inline><li>2590</li><li>2591</li><li>2592</li><li>2593</li><li>2594</li><li>2595</li></ol>\n",
       "</dd>\n",
       "\t<dt>$chr16</dt>\n",
       "\t\t<dd><style>\n",
       ".list-inline {list-style: none; margin:0; padding: 0}\n",
       ".list-inline>li {display: inline-block}\n",
       ".list-inline>li:not(:last-child)::after {content: \"\\00b7\"; padding: 0 .5ex}\n",
       "</style>\n",
       "<ol class=list-inline><li>2872</li><li>2873</li><li>2874</li><li>2875</li><li>2876</li><li>2877</li></ol>\n",
       "</dd>\n",
       "\t<dt>$chr17</dt>\n",
       "\t\t<dd><style>\n",
       ".list-inline {list-style: none; margin:0; padding: 0}\n",
       ".list-inline>li {display: inline-block}\n",
       ".list-inline>li:not(:last-child)::after {content: \"\\00b7\"; padding: 0 .5ex}\n",
       "</style>\n",
       "<ol class=list-inline><li>3275</li><li>3276</li><li>3277</li><li>3278</li><li>3279</li><li>3280</li></ol>\n",
       "</dd>\n",
       "\t<dt>$chr18</dt>\n",
       "\t\t<dd><style>\n",
       ".list-inline {list-style: none; margin:0; padding: 0}\n",
       ".list-inline>li {display: inline-block}\n",
       ".list-inline>li:not(:last-child)::after {content: \"\\00b7\"; padding: 0 .5ex}\n",
       "</style>\n",
       "<ol class=list-inline><li>3785</li><li>3786</li><li>3787</li><li>3788</li><li>3789</li><li>3790</li></ol>\n",
       "</dd>\n",
       "\t<dt>$chr19</dt>\n",
       "\t\t<dd><style>\n",
       ".list-inline {list-style: none; margin:0; padding: 0}\n",
       ".list-inline>li {display: inline-block}\n",
       ".list-inline>li:not(:last-child)::after {content: \"\\00b7\"; padding: 0 .5ex}\n",
       "</style>\n",
       "<ol class=list-inline><li>3892</li><li>3893</li><li>3894</li><li>3895</li><li>3896</li><li>3897</li></ol>\n",
       "</dd>\n",
       "\t<dt>$chr2</dt>\n",
       "\t\t<dd><style>\n",
       ".list-inline {list-style: none; margin:0; padding: 0}\n",
       ".list-inline>li {display: inline-block}\n",
       ".list-inline>li:not(:last-child)::after {content: \"\\00b7\"; padding: 0 .5ex}\n",
       "</style>\n",
       "<ol class=list-inline><li>4507</li><li>4508</li><li>4509</li><li>4510</li><li>4511</li><li>4512</li></ol>\n",
       "</dd>\n",
       "\t<dt>$chr20</dt>\n",
       "\t\t<dd><style>\n",
       ".list-inline {list-style: none; margin:0; padding: 0}\n",
       ".list-inline>li {display: inline-block}\n",
       ".list-inline>li:not(:last-child)::after {content: \"\\00b7\"; padding: 0 .5ex}\n",
       "</style>\n",
       "<ol class=list-inline><li>5082</li><li>5083</li><li>5084</li><li>5085</li><li>5086</li><li>5087</li></ol>\n",
       "</dd>\n",
       "\t<dt>$chr21</dt>\n",
       "\t\t<dd><style>\n",
       ".list-inline {list-style: none; margin:0; padding: 0}\n",
       ".list-inline>li {display: inline-block}\n",
       ".list-inline>li:not(:last-child)::after {content: \"\\00b7\"; padding: 0 .5ex}\n",
       "</style>\n",
       "<ol class=list-inline><li>5313</li><li>5314</li><li>5315</li><li>5316</li><li>5317</li><li>5318</li></ol>\n",
       "</dd>\n",
       "\t<dt>$chr22</dt>\n",
       "\t\t<dd><style>\n",
       ".list-inline {list-style: none; margin:0; padding: 0}\n",
       ".list-inline>li {display: inline-block}\n",
       ".list-inline>li:not(:last-child)::after {content: \"\\00b7\"; padding: 0 .5ex}\n",
       "</style>\n",
       "<ol class=list-inline><li>5390</li><li>5391</li><li>5392</li><li>5393</li><li>5394</li><li>5395</li></ol>\n",
       "</dd>\n",
       "\t<dt>$chr3</dt>\n",
       "\t\t<dd><style>\n",
       ".list-inline {list-style: none; margin:0; padding: 0}\n",
       ".list-inline>li {display: inline-block}\n",
       ".list-inline>li:not(:last-child)::after {content: \"\\00b7\"; padding: 0 .5ex}\n",
       "</style>\n",
       "<ol class=list-inline><li>5591</li><li>5592</li><li>5593</li><li>5594</li><li>5595</li><li>5596</li></ol>\n",
       "</dd>\n",
       "\t<dt>$chr4</dt>\n",
       "\t\t<dd><style>\n",
       ".list-inline {list-style: none; margin:0; padding: 0}\n",
       ".list-inline>li {display: inline-block}\n",
       ".list-inline>li:not(:last-child)::after {content: \"\\00b7\"; padding: 0 .5ex}\n",
       "</style>\n",
       "<ol class=list-inline><li>6084</li><li>6085</li><li>6086</li><li>6087</li><li>6088</li><li>6089</li></ol>\n",
       "</dd>\n",
       "\t<dt>$chr5</dt>\n",
       "\t\t<dd><style>\n",
       ".list-inline {list-style: none; margin:0; padding: 0}\n",
       ".list-inline>li {display: inline-block}\n",
       ".list-inline>li:not(:last-child)::after {content: \"\\00b7\"; padding: 0 .5ex}\n",
       "</style>\n",
       "<ol class=list-inline><li>6365</li><li>6366</li><li>6367</li><li>6368</li><li>6369</li><li>6370</li></ol>\n",
       "</dd>\n",
       "\t<dt>$chr6</dt>\n",
       "\t\t<dd><style>\n",
       ".list-inline {list-style: none; margin:0; padding: 0}\n",
       ".list-inline>li {display: inline-block}\n",
       ".list-inline>li:not(:last-child)::after {content: \"\\00b7\"; padding: 0 .5ex}\n",
       "</style>\n",
       "<ol class=list-inline><li>6748</li><li>6749</li><li>6750</li><li>6751</li><li>6752</li><li>6753</li></ol>\n",
       "</dd>\n",
       "\t<dt>$chr7</dt>\n",
       "\t\t<dd><style>\n",
       ".list-inline {list-style: none; margin:0; padding: 0}\n",
       ".list-inline>li {display: inline-block}\n",
       ".list-inline>li:not(:last-child)::after {content: \"\\00b7\"; padding: 0 .5ex}\n",
       "</style>\n",
       "<ol class=list-inline><li>7114</li><li>7115</li><li>7116</li><li>7117</li><li>7118</li><li>7119</li></ol>\n",
       "</dd>\n",
       "\t<dt>$chr8</dt>\n",
       "\t\t<dd><style>\n",
       ".list-inline {list-style: none; margin:0; padding: 0}\n",
       ".list-inline>li {display: inline-block}\n",
       ".list-inline>li:not(:last-child)::after {content: \"\\00b7\"; padding: 0 .5ex}\n",
       "</style>\n",
       "<ol class=list-inline><li>7472</li><li>7473</li><li>7474</li><li>7475</li><li>7476</li><li>7477</li></ol>\n",
       "</dd>\n",
       "\t<dt>$chr9</dt>\n",
       "\t\t<dd><style>\n",
       ".list-inline {list-style: none; margin:0; padding: 0}\n",
       ".list-inline>li {display: inline-block}\n",
       ".list-inline>li:not(:last-child)::after {content: \"\\00b7\"; padding: 0 .5ex}\n",
       "</style>\n",
       "<ol class=list-inline><li>7759</li><li>7760</li><li>7761</li><li>7762</li><li>7763</li><li>7764</li></ol>\n",
       "</dd>\n",
       "\t<dt>$chrX</dt>\n",
       "\t\t<dd><style>\n",
       ".list-inline {list-style: none; margin:0; padding: 0}\n",
       ".list-inline>li {display: inline-block}\n",
       ".list-inline>li:not(:last-child)::after {content: \"\\00b7\"; padding: 0 .5ex}\n",
       "</style>\n",
       "<ol class=list-inline><li>8079</li><li>8080</li><li>8081</li><li>8082</li><li>8083</li><li>8084</li></ol>\n",
       "</dd>\n",
       "\t<dt>$chrY</dt>\n",
       "\t\t<dd><style>\n",
       ".list-inline {list-style: none; margin:0; padding: 0}\n",
       ".list-inline>li {display: inline-block}\n",
       ".list-inline>li:not(:last-child)::after {content: \"\\00b7\"; padding: 0 .5ex}\n",
       "</style>\n",
       "<ol class=list-inline><li>8250</li><li>8251</li></ol>\n",
       "</dd>\n",
       "</dl>\n"
      ],
      "text/latex": [
       "\\begin{description}\n",
       "\\item[\\$chr1] \\begin{enumerate*}\n",
       "\\item 1\n",
       "\\item 2\n",
       "\\item 3\n",
       "\\item 4\n",
       "\\item 5\n",
       "\\item 6\n",
       "\\end{enumerate*}\n",
       "\n",
       "\\item[\\$chr10] \\begin{enumerate*}\n",
       "\\item 857\n",
       "\\item 858\n",
       "\\item 859\n",
       "\\item 860\n",
       "\\item 861\n",
       "\\item 862\n",
       "\\end{enumerate*}\n",
       "\n",
       "\\item[\\$chr11] \\begin{enumerate*}\n",
       "\\item 1182\n",
       "\\item 1183\n",
       "\\item 1184\n",
       "\\item 1185\n",
       "\\item 1186\n",
       "\\item 1187\n",
       "\\end{enumerate*}\n",
       "\n",
       "\\item[\\$chr12] \\begin{enumerate*}\n",
       "\\item 1668\n",
       "\\item 1669\n",
       "\\item 1670\n",
       "\\item 1671\n",
       "\\item 1672\n",
       "\\item 1673\n",
       "\\end{enumerate*}\n",
       "\n",
       "\\item[\\$chr13] \\begin{enumerate*}\n",
       "\\item 2142\n",
       "\\item 2143\n",
       "\\item 2144\n",
       "\\item 2145\n",
       "\\item 2146\n",
       "\\item 2147\n",
       "\\end{enumerate*}\n",
       "\n",
       "\\item[\\$chr14] \\begin{enumerate*}\n",
       "\\item 2302\n",
       "\\item 2303\n",
       "\\item 2304\n",
       "\\item 2305\n",
       "\\item 2306\n",
       "\\item 2307\n",
       "\\end{enumerate*}\n",
       "\n",
       "\\item[\\$chr15] \\begin{enumerate*}\n",
       "\\item 2590\n",
       "\\item 2591\n",
       "\\item 2592\n",
       "\\item 2593\n",
       "\\item 2594\n",
       "\\item 2595\n",
       "\\end{enumerate*}\n",
       "\n",
       "\\item[\\$chr16] \\begin{enumerate*}\n",
       "\\item 2872\n",
       "\\item 2873\n",
       "\\item 2874\n",
       "\\item 2875\n",
       "\\item 2876\n",
       "\\item 2877\n",
       "\\end{enumerate*}\n",
       "\n",
       "\\item[\\$chr17] \\begin{enumerate*}\n",
       "\\item 3275\n",
       "\\item 3276\n",
       "\\item 3277\n",
       "\\item 3278\n",
       "\\item 3279\n",
       "\\item 3280\n",
       "\\end{enumerate*}\n",
       "\n",
       "\\item[\\$chr18] \\begin{enumerate*}\n",
       "\\item 3785\n",
       "\\item 3786\n",
       "\\item 3787\n",
       "\\item 3788\n",
       "\\item 3789\n",
       "\\item 3790\n",
       "\\end{enumerate*}\n",
       "\n",
       "\\item[\\$chr19] \\begin{enumerate*}\n",
       "\\item 3892\n",
       "\\item 3893\n",
       "\\item 3894\n",
       "\\item 3895\n",
       "\\item 3896\n",
       "\\item 3897\n",
       "\\end{enumerate*}\n",
       "\n",
       "\\item[\\$chr2] \\begin{enumerate*}\n",
       "\\item 4507\n",
       "\\item 4508\n",
       "\\item 4509\n",
       "\\item 4510\n",
       "\\item 4511\n",
       "\\item 4512\n",
       "\\end{enumerate*}\n",
       "\n",
       "\\item[\\$chr20] \\begin{enumerate*}\n",
       "\\item 5082\n",
       "\\item 5083\n",
       "\\item 5084\n",
       "\\item 5085\n",
       "\\item 5086\n",
       "\\item 5087\n",
       "\\end{enumerate*}\n",
       "\n",
       "\\item[\\$chr21] \\begin{enumerate*}\n",
       "\\item 5313\n",
       "\\item 5314\n",
       "\\item 5315\n",
       "\\item 5316\n",
       "\\item 5317\n",
       "\\item 5318\n",
       "\\end{enumerate*}\n",
       "\n",
       "\\item[\\$chr22] \\begin{enumerate*}\n",
       "\\item 5390\n",
       "\\item 5391\n",
       "\\item 5392\n",
       "\\item 5393\n",
       "\\item 5394\n",
       "\\item 5395\n",
       "\\end{enumerate*}\n",
       "\n",
       "\\item[\\$chr3] \\begin{enumerate*}\n",
       "\\item 5591\n",
       "\\item 5592\n",
       "\\item 5593\n",
       "\\item 5594\n",
       "\\item 5595\n",
       "\\item 5596\n",
       "\\end{enumerate*}\n",
       "\n",
       "\\item[\\$chr4] \\begin{enumerate*}\n",
       "\\item 6084\n",
       "\\item 6085\n",
       "\\item 6086\n",
       "\\item 6087\n",
       "\\item 6088\n",
       "\\item 6089\n",
       "\\end{enumerate*}\n",
       "\n",
       "\\item[\\$chr5] \\begin{enumerate*}\n",
       "\\item 6365\n",
       "\\item 6366\n",
       "\\item 6367\n",
       "\\item 6368\n",
       "\\item 6369\n",
       "\\item 6370\n",
       "\\end{enumerate*}\n",
       "\n",
       "\\item[\\$chr6] \\begin{enumerate*}\n",
       "\\item 6748\n",
       "\\item 6749\n",
       "\\item 6750\n",
       "\\item 6751\n",
       "\\item 6752\n",
       "\\item 6753\n",
       "\\end{enumerate*}\n",
       "\n",
       "\\item[\\$chr7] \\begin{enumerate*}\n",
       "\\item 7114\n",
       "\\item 7115\n",
       "\\item 7116\n",
       "\\item 7117\n",
       "\\item 7118\n",
       "\\item 7119\n",
       "\\end{enumerate*}\n",
       "\n",
       "\\item[\\$chr8] \\begin{enumerate*}\n",
       "\\item 7472\n",
       "\\item 7473\n",
       "\\item 7474\n",
       "\\item 7475\n",
       "\\item 7476\n",
       "\\item 7477\n",
       "\\end{enumerate*}\n",
       "\n",
       "\\item[\\$chr9] \\begin{enumerate*}\n",
       "\\item 7759\n",
       "\\item 7760\n",
       "\\item 7761\n",
       "\\item 7762\n",
       "\\item 7763\n",
       "\\item 7764\n",
       "\\end{enumerate*}\n",
       "\n",
       "\\item[\\$chrX] \\begin{enumerate*}\n",
       "\\item 8079\n",
       "\\item 8080\n",
       "\\item 8081\n",
       "\\item 8082\n",
       "\\item 8083\n",
       "\\item 8084\n",
       "\\end{enumerate*}\n",
       "\n",
       "\\item[\\$chrY] \\begin{enumerate*}\n",
       "\\item 8250\n",
       "\\item 8251\n",
       "\\end{enumerate*}\n",
       "\n",
       "\\end{description}\n"
      ],
      "text/markdown": [
       "$chr1\n",
       ":   1. 1\n",
       "2. 2\n",
       "3. 3\n",
       "4. 4\n",
       "5. 5\n",
       "6. 6\n",
       "\n",
       "\n",
       "\n",
       "$chr10\n",
       ":   1. 857\n",
       "2. 858\n",
       "3. 859\n",
       "4. 860\n",
       "5. 861\n",
       "6. 862\n",
       "\n",
       "\n",
       "\n",
       "$chr11\n",
       ":   1. 1182\n",
       "2. 1183\n",
       "3. 1184\n",
       "4. 1185\n",
       "5. 1186\n",
       "6. 1187\n",
       "\n",
       "\n",
       "\n",
       "$chr12\n",
       ":   1. 1668\n",
       "2. 1669\n",
       "3. 1670\n",
       "4. 1671\n",
       "5. 1672\n",
       "6. 1673\n",
       "\n",
       "\n",
       "\n",
       "$chr13\n",
       ":   1. 2142\n",
       "2. 2143\n",
       "3. 2144\n",
       "4. 2145\n",
       "5. 2146\n",
       "6. 2147\n",
       "\n",
       "\n",
       "\n",
       "$chr14\n",
       ":   1. 2302\n",
       "2. 2303\n",
       "3. 2304\n",
       "4. 2305\n",
       "5. 2306\n",
       "6. 2307\n",
       "\n",
       "\n",
       "\n",
       "$chr15\n",
       ":   1. 2590\n",
       "2. 2591\n",
       "3. 2592\n",
       "4. 2593\n",
       "5. 2594\n",
       "6. 2595\n",
       "\n",
       "\n",
       "\n",
       "$chr16\n",
       ":   1. 2872\n",
       "2. 2873\n",
       "3. 2874\n",
       "4. 2875\n",
       "5. 2876\n",
       "6. 2877\n",
       "\n",
       "\n",
       "\n",
       "$chr17\n",
       ":   1. 3275\n",
       "2. 3276\n",
       "3. 3277\n",
       "4. 3278\n",
       "5. 3279\n",
       "6. 3280\n",
       "\n",
       "\n",
       "\n",
       "$chr18\n",
       ":   1. 3785\n",
       "2. 3786\n",
       "3. 3787\n",
       "4. 3788\n",
       "5. 3789\n",
       "6. 3790\n",
       "\n",
       "\n",
       "\n",
       "$chr19\n",
       ":   1. 3892\n",
       "2. 3893\n",
       "3. 3894\n",
       "4. 3895\n",
       "5. 3896\n",
       "6. 3897\n",
       "\n",
       "\n",
       "\n",
       "$chr2\n",
       ":   1. 4507\n",
       "2. 4508\n",
       "3. 4509\n",
       "4. 4510\n",
       "5. 4511\n",
       "6. 4512\n",
       "\n",
       "\n",
       "\n",
       "$chr20\n",
       ":   1. 5082\n",
       "2. 5083\n",
       "3. 5084\n",
       "4. 5085\n",
       "5. 5086\n",
       "6. 5087\n",
       "\n",
       "\n",
       "\n",
       "$chr21\n",
       ":   1. 5313\n",
       "2. 5314\n",
       "3. 5315\n",
       "4. 5316\n",
       "5. 5317\n",
       "6. 5318\n",
       "\n",
       "\n",
       "\n",
       "$chr22\n",
       ":   1. 5390\n",
       "2. 5391\n",
       "3. 5392\n",
       "4. 5393\n",
       "5. 5394\n",
       "6. 5395\n",
       "\n",
       "\n",
       "\n",
       "$chr3\n",
       ":   1. 5591\n",
       "2. 5592\n",
       "3. 5593\n",
       "4. 5594\n",
       "5. 5595\n",
       "6. 5596\n",
       "\n",
       "\n",
       "\n",
       "$chr4\n",
       ":   1. 6084\n",
       "2. 6085\n",
       "3. 6086\n",
       "4. 6087\n",
       "5. 6088\n",
       "6. 6089\n",
       "\n",
       "\n",
       "\n",
       "$chr5\n",
       ":   1. 6365\n",
       "2. 6366\n",
       "3. 6367\n",
       "4. 6368\n",
       "5. 6369\n",
       "6. 6370\n",
       "\n",
       "\n",
       "\n",
       "$chr6\n",
       ":   1. 6748\n",
       "2. 6749\n",
       "3. 6750\n",
       "4. 6751\n",
       "5. 6752\n",
       "6. 6753\n",
       "\n",
       "\n",
       "\n",
       "$chr7\n",
       ":   1. 7114\n",
       "2. 7115\n",
       "3. 7116\n",
       "4. 7117\n",
       "5. 7118\n",
       "6. 7119\n",
       "\n",
       "\n",
       "\n",
       "$chr8\n",
       ":   1. 7472\n",
       "2. 7473\n",
       "3. 7474\n",
       "4. 7475\n",
       "5. 7476\n",
       "6. 7477\n",
       "\n",
       "\n",
       "\n",
       "$chr9\n",
       ":   1. 7759\n",
       "2. 7760\n",
       "3. 7761\n",
       "4. 7762\n",
       "5. 7763\n",
       "6. 7764\n",
       "\n",
       "\n",
       "\n",
       "$chrX\n",
       ":   1. 8079\n",
       "2. 8080\n",
       "3. 8081\n",
       "4. 8082\n",
       "5. 8083\n",
       "6. 8084\n",
       "\n",
       "\n",
       "\n",
       "$chrY\n",
       ":   1. 8250\n",
       "2. 8251\n",
       "\n",
       "\n",
       "\n",
       "\n",
       "\n"
      ],
      "text/plain": [
       "$chr1\n",
       "[1] 1 2 3 4 5 6\n",
       "\n",
       "$chr10\n",
       "[1] 857 858 859 860 861 862\n",
       "\n",
       "$chr11\n",
       "[1] 1182 1183 1184 1185 1186 1187\n",
       "\n",
       "$chr12\n",
       "[1] 1668 1669 1670 1671 1672 1673\n",
       "\n",
       "$chr13\n",
       "[1] 2142 2143 2144 2145 2146 2147\n",
       "\n",
       "$chr14\n",
       "[1] 2302 2303 2304 2305 2306 2307\n",
       "\n",
       "$chr15\n",
       "[1] 2590 2591 2592 2593 2594 2595\n",
       "\n",
       "$chr16\n",
       "[1] 2872 2873 2874 2875 2876 2877\n",
       "\n",
       "$chr17\n",
       "[1] 3275 3276 3277 3278 3279 3280\n",
       "\n",
       "$chr18\n",
       "[1] 3785 3786 3787 3788 3789 3790\n",
       "\n",
       "$chr19\n",
       "[1] 3892 3893 3894 3895 3896 3897\n",
       "\n",
       "$chr2\n",
       "[1] 4507 4508 4509 4510 4511 4512\n",
       "\n",
       "$chr20\n",
       "[1] 5082 5083 5084 5085 5086 5087\n",
       "\n",
       "$chr21\n",
       "[1] 5313 5314 5315 5316 5317 5318\n",
       "\n",
       "$chr22\n",
       "[1] 5390 5391 5392 5393 5394 5395\n",
       "\n",
       "$chr3\n",
       "[1] 5591 5592 5593 5594 5595 5596\n",
       "\n",
       "$chr4\n",
       "[1] 6084 6085 6086 6087 6088 6089\n",
       "\n",
       "$chr5\n",
       "[1] 6365 6366 6367 6368 6369 6370\n",
       "\n",
       "$chr6\n",
       "[1] 6748 6749 6750 6751 6752 6753\n",
       "\n",
       "$chr7\n",
       "[1] 7114 7115 7116 7117 7118 7119\n",
       "\n",
       "$chr8\n",
       "[1] 7472 7473 7474 7475 7476 7477\n",
       "\n",
       "$chr9\n",
       "[1] 7759 7760 7761 7762 7763 7764\n",
       "\n",
       "$chrX\n",
       "[1] 8079 8080 8081 8082 8083 8084\n",
       "\n",
       "$chrY\n",
       "[1] 8250 8251\n"
      ]
     },
     "metadata": {},
     "output_type": "display_data"
    }
   ],
   "source": [
    "length(chrIdx)\n",
    "sapply(names(chrIdx), function(chr) head(chrIdx[[chr]]))\n",
    "# OK"
   ]
  },
  {
   "cell_type": "code",
   "execution_count": 19,
   "id": "1c77c655",
   "metadata": {},
   "outputs": [],
   "source": [
    "# calculate auto-correlation using acf() of stat package\n",
    "# iterate over chromosomes separately\n",
    "# iterate over all 270 TCGA samples\n",
    "# allAcfs is a list of chromosomes, each containing a matrix of dimension maximum lag x samples, \n",
    "#  matrix entries are the correlations of gene expressions of genes with \"lag\" distance in the sample on that chromosome\n",
    "allAcfs = lapply (names(chrIdx), function(chr) {\n",
    "    sapply(1:ncol(geneExprTableM), function(sampleIdx) {\n",
    "        acfRes = acf(geneExprTableM[chrIdx[[chr]],sampleIdx], lag.max = 200,plot = F)\n",
    "        acfRes$acf[,1,1]\n",
    "    })\n",
    "})\n",
    "names(allAcfs) = names(chrIdx)"
   ]
  },
  {
   "cell_type": "code",
   "execution_count": 20,
   "id": "07b3c3d1",
   "metadata": {},
   "outputs": [
    {
     "data": {
      "text/html": [
       "<style>\n",
       ".list-inline {list-style: none; margin:0; padding: 0}\n",
       ".list-inline>li {display: inline-block}\n",
       ".list-inline>li:not(:last-child)::after {content: \"\\00b7\"; padding: 0 .5ex}\n",
       "</style>\n",
       "<ol class=list-inline><li>77</li><li>270</li></ol>\n"
      ],
      "text/latex": [
       "\\begin{enumerate*}\n",
       "\\item 77\n",
       "\\item 270\n",
       "\\end{enumerate*}\n"
      ],
      "text/markdown": [
       "1. 77\n",
       "2. 270\n",
       "\n",
       "\n"
      ],
      "text/plain": [
       "[1]  77 270"
      ]
     },
     "metadata": {},
     "output_type": "display_data"
    },
    {
     "data": {
      "text/html": [
       "<table class=\"dataframe\">\n",
       "<caption>A matrix: 4 × 4 of type dbl</caption>\n",
       "<tbody>\n",
       "\t<tr><td> 1.00000000</td><td> 1.000000000</td><td> 1.00000000</td><td> 1.000000000</td></tr>\n",
       "\t<tr><td> 0.01798633</td><td> 0.078821568</td><td> 0.16763255</td><td>-0.002221909</td></tr>\n",
       "\t<tr><td>-0.09667505</td><td>-0.089681954</td><td>-0.05444057</td><td>-0.116653784</td></tr>\n",
       "\t<tr><td> 0.03926989</td><td> 0.002156851</td><td>-0.17866093</td><td>-0.153840516</td></tr>\n",
       "</tbody>\n",
       "</table>\n"
      ],
      "text/latex": [
       "A matrix: 4 × 4 of type dbl\n",
       "\\begin{tabular}{llll}\n",
       "\t  1.00000000 &  1.000000000 &  1.00000000 &  1.000000000\\\\\n",
       "\t  0.01798633 &  0.078821568 &  0.16763255 & -0.002221909\\\\\n",
       "\t -0.09667505 & -0.089681954 & -0.05444057 & -0.116653784\\\\\n",
       "\t  0.03926989 &  0.002156851 & -0.17866093 & -0.153840516\\\\\n",
       "\\end{tabular}\n"
      ],
      "text/markdown": [
       "\n",
       "A matrix: 4 × 4 of type dbl\n",
       "\n",
       "|  1.00000000 |  1.000000000 |  1.00000000 |  1.000000000 |\n",
       "|  0.01798633 |  0.078821568 |  0.16763255 | -0.002221909 |\n",
       "| -0.09667505 | -0.089681954 | -0.05444057 | -0.116653784 |\n",
       "|  0.03926989 |  0.002156851 | -0.17866093 | -0.153840516 |\n",
       "\n"
      ],
      "text/plain": [
       "     [,1]        [,2]         [,3]        [,4]        \n",
       "[1,]  1.00000000  1.000000000  1.00000000  1.000000000\n",
       "[2,]  0.01798633  0.078821568  0.16763255 -0.002221909\n",
       "[3,] -0.09667505 -0.089681954 -0.05444057 -0.116653784\n",
       "[4,]  0.03926989  0.002156851 -0.17866093 -0.153840516"
      ]
     },
     "metadata": {},
     "output_type": "display_data"
    }
   ],
   "source": [
    "dim(allAcfs$chr21)\n",
    "allAcfs$chr21[1:4,1:4]"
   ]
  },
  {
   "cell_type": "code",
   "execution_count": 21,
   "id": "e5cf80a3",
   "metadata": {},
   "outputs": [
    {
     "name": "stderr",
     "output_type": "stream",
     "text": [
      "Warning message in order(as.numeric(gsub(\"chr(\\\\d+.*)\", \"\\\\1\", neededChr))):\n",
      "“NAs introduced by coercion”\n"
     ]
    },
    {
     "data": {
      "text/html": [
       "<style>\n",
       ".list-inline {list-style: none; margin:0; padding: 0}\n",
       ".list-inline>li {display: inline-block}\n",
       ".list-inline>li:not(:last-child)::after {content: \"\\00b7\"; padding: 0 .5ex}\n",
       "</style>\n",
       "<ol class=list-inline><li>'chr1'</li><li>'chr2'</li><li>'chr3'</li><li>'chr4'</li><li>'chr5'</li><li>'chr6'</li><li>'chr7'</li><li>'chr8'</li><li>'chr9'</li><li>'chr10'</li><li>'chr11'</li><li>'chr12'</li><li>'chr13'</li><li>'chr14'</li><li>'chr15'</li><li>'chr16'</li><li>'chr17'</li><li>'chr18'</li><li>'chr19'</li><li>'chr20'</li><li>'chr21'</li><li>'chr22'</li><li>'chrX'</li></ol>\n"
      ],
      "text/latex": [
       "\\begin{enumerate*}\n",
       "\\item 'chr1'\n",
       "\\item 'chr2'\n",
       "\\item 'chr3'\n",
       "\\item 'chr4'\n",
       "\\item 'chr5'\n",
       "\\item 'chr6'\n",
       "\\item 'chr7'\n",
       "\\item 'chr8'\n",
       "\\item 'chr9'\n",
       "\\item 'chr10'\n",
       "\\item 'chr11'\n",
       "\\item 'chr12'\n",
       "\\item 'chr13'\n",
       "\\item 'chr14'\n",
       "\\item 'chr15'\n",
       "\\item 'chr16'\n",
       "\\item 'chr17'\n",
       "\\item 'chr18'\n",
       "\\item 'chr19'\n",
       "\\item 'chr20'\n",
       "\\item 'chr21'\n",
       "\\item 'chr22'\n",
       "\\item 'chrX'\n",
       "\\end{enumerate*}\n"
      ],
      "text/markdown": [
       "1. 'chr1'\n",
       "2. 'chr2'\n",
       "3. 'chr3'\n",
       "4. 'chr4'\n",
       "5. 'chr5'\n",
       "6. 'chr6'\n",
       "7. 'chr7'\n",
       "8. 'chr8'\n",
       "9. 'chr9'\n",
       "10. 'chr10'\n",
       "11. 'chr11'\n",
       "12. 'chr12'\n",
       "13. 'chr13'\n",
       "14. 'chr14'\n",
       "15. 'chr15'\n",
       "16. 'chr16'\n",
       "17. 'chr17'\n",
       "18. 'chr18'\n",
       "19. 'chr19'\n",
       "20. 'chr20'\n",
       "21. 'chr21'\n",
       "22. 'chr22'\n",
       "23. 'chrX'\n",
       "\n",
       "\n"
      ],
      "text/plain": [
       " [1] \"chr1\"  \"chr2\"  \"chr3\"  \"chr4\"  \"chr5\"  \"chr6\"  \"chr7\"  \"chr8\"  \"chr9\" \n",
       "[10] \"chr10\" \"chr11\" \"chr12\" \"chr13\" \"chr14\" \"chr15\" \"chr16\" \"chr17\" \"chr18\"\n",
       "[19] \"chr19\" \"chr20\" \"chr21\" \"chr22\" \"chrX\" "
      ]
     },
     "metadata": {},
     "output_type": "display_data"
    }
   ],
   "source": [
    "neededChr = setdiff(names(chrIdx),\"chrY\")\n",
    "o=order(as.numeric(gsub(\"chr(\\\\d+.*)\",\"\\\\1\",neededChr)))\n",
    "neededChr = neededChr[o]\n",
    "neededChr"
   ]
  },
  {
   "cell_type": "code",
   "execution_count": 22,
   "id": "5bc7950f",
   "metadata": {},
   "outputs": [],
   "source": [
    "neededQuantiles = c(0 ,0.1 ,0.25 ,0.5 ,0.75, 0.9, 1 )"
   ]
  },
  {
   "cell_type": "code",
   "execution_count": 23,
   "id": "0800b31d",
   "metadata": {},
   "outputs": [],
   "source": [
    "# quantiles over all samples, separately for all combinations of all chr and lags\n",
    "allAcfQuantiles = NULL\n",
    "for(chr in neededChr) {\n",
    "    q = t(sapply(1:nrow(allAcfs[[chr]]),function(lag) quantile(allAcfs[[chr]][lag,],neededQuantiles)))\n",
    "    colnames(q) = gsub(\"\\\\%\",\"\",paste0(\"quant_\",colnames(q)))\n",
    "    allAcfQuantiles = rbind(allAcfQuantiles, data.frame(chr=chr,lag = 1:nrow(allAcfs[[chr]]), q))\n",
    "}"
   ]
  },
  {
   "cell_type": "code",
   "execution_count": 24,
   "id": "c0bc90ff",
   "metadata": {},
   "outputs": [
    {
     "data": {
      "text/html": [
       "<table class=\"dataframe\">\n",
       "<caption>A data.frame: 3 × 8</caption>\n",
       "<thead>\n",
       "\t<tr><th></th><th scope=col>lag</th><th scope=col>quant_0</th><th scope=col>quant_10</th><th scope=col>quant_25</th><th scope=col>quant_50</th><th scope=col>quant_75</th><th scope=col>quant_90</th><th scope=col>quant_100</th></tr>\n",
       "\t<tr><th></th><th scope=col>&lt;int&gt;</th><th scope=col>&lt;dbl&gt;</th><th scope=col>&lt;dbl&gt;</th><th scope=col>&lt;dbl&gt;</th><th scope=col>&lt;dbl&gt;</th><th scope=col>&lt;dbl&gt;</th><th scope=col>&lt;dbl&gt;</th><th scope=col>&lt;dbl&gt;</th></tr>\n",
       "</thead>\n",
       "<tbody>\n",
       "\t<tr><th scope=row>1</th><td>1</td><td> 1.00000000</td><td> 1.00000000</td><td>1.000000000</td><td>1.00000000</td><td>1.00000000</td><td>1.0000000</td><td>1.0000000</td></tr>\n",
       "\t<tr><th scope=row>2</th><td>2</td><td>-0.04203487</td><td> 0.02556293</td><td>0.050092617</td><td>0.08077597</td><td>0.11664481</td><td>0.1587498</td><td>0.3175710</td></tr>\n",
       "\t<tr><th scope=row>3</th><td>3</td><td>-0.07891550</td><td>-0.01993895</td><td>0.004967375</td><td>0.03377344</td><td>0.06870447</td><td>0.1114801</td><td>0.2665033</td></tr>\n",
       "</tbody>\n",
       "</table>\n"
      ],
      "text/latex": [
       "A data.frame: 3 × 8\n",
       "\\begin{tabular}{r|llllllll}\n",
       "  & lag & quant\\_0 & quant\\_10 & quant\\_25 & quant\\_50 & quant\\_75 & quant\\_90 & quant\\_100\\\\\n",
       "  & <int> & <dbl> & <dbl> & <dbl> & <dbl> & <dbl> & <dbl> & <dbl>\\\\\n",
       "\\hline\n",
       "\t1 & 1 &  1.00000000 &  1.00000000 & 1.000000000 & 1.00000000 & 1.00000000 & 1.0000000 & 1.0000000\\\\\n",
       "\t2 & 2 & -0.04203487 &  0.02556293 & 0.050092617 & 0.08077597 & 0.11664481 & 0.1587498 & 0.3175710\\\\\n",
       "\t3 & 3 & -0.07891550 & -0.01993895 & 0.004967375 & 0.03377344 & 0.06870447 & 0.1114801 & 0.2665033\\\\\n",
       "\\end{tabular}\n"
      ],
      "text/markdown": [
       "\n",
       "A data.frame: 3 × 8\n",
       "\n",
       "| <!--/--> | lag &lt;int&gt; | quant_0 &lt;dbl&gt; | quant_10 &lt;dbl&gt; | quant_25 &lt;dbl&gt; | quant_50 &lt;dbl&gt; | quant_75 &lt;dbl&gt; | quant_90 &lt;dbl&gt; | quant_100 &lt;dbl&gt; |\n",
       "|---|---|---|---|---|---|---|---|---|\n",
       "| 1 | 1 |  1.00000000 |  1.00000000 | 1.000000000 | 1.00000000 | 1.00000000 | 1.0000000 | 1.0000000 |\n",
       "| 2 | 2 | -0.04203487 |  0.02556293 | 0.050092617 | 0.08077597 | 0.11664481 | 0.1587498 | 0.3175710 |\n",
       "| 3 | 3 | -0.07891550 | -0.01993895 | 0.004967375 | 0.03377344 | 0.06870447 | 0.1114801 | 0.2665033 |\n",
       "\n"
      ],
      "text/plain": [
       "  lag quant_0     quant_10    quant_25    quant_50   quant_75   quant_90 \n",
       "1 1    1.00000000  1.00000000 1.000000000 1.00000000 1.00000000 1.0000000\n",
       "2 2   -0.04203487  0.02556293 0.050092617 0.08077597 0.11664481 0.1587498\n",
       "3 3   -0.07891550 -0.01993895 0.004967375 0.03377344 0.06870447 0.1114801\n",
       "  quant_100\n",
       "1 1.0000000\n",
       "2 0.3175710\n",
       "3 0.2665033"
      ]
     },
     "metadata": {},
     "output_type": "display_data"
    }
   ],
   "source": [
    "# condense the data of all chromosomes: \n",
    "allAcfQuantilesChrCondensed = NULL\n",
    "for(lag in sort(unique(allAcfQuantiles$lag))) {\n",
    "    allAcfQuantilesChrCondensed = \n",
    "        rbind(allAcfQuantilesChrCondensed,\n",
    "              data.frame(lag=lag,t(colMeans(allAcfQuantiles[ allAcfQuantiles$lag==lag,-c(1,2)]))))\n",
    "}\n",
    "\n",
    "head(allAcfQuantilesChrCondensed,3)"
   ]
  },
  {
   "cell_type": "markdown",
   "id": "83930c9a",
   "metadata": {},
   "source": [
    "### make the actual plot"
   ]
  },
  {
   "cell_type": "code",
   "execution_count": 43,
   "id": "9e37fd50",
   "metadata": {},
   "outputs": [
    {
     "name": "stderr",
     "output_type": "stream",
     "text": [
      "Warning message:\n",
      "“\u001b[1m\u001b[22mRemoved 2 rows containing missing values (`geom_line()`).”\n",
      "Warning message:\n",
      "“\u001b[1m\u001b[22mRemoved 1 rows containing missing values (`geom_vline()`).”\n",
      "Warning message:\n",
      "“\u001b[1m\u001b[22mRemoved 1 rows containing missing values (`geom_vline()`).”\n"
     ]
    },
    {
     "data": {
      "image/png": "[encoded data removed]",
      "text/plain": [
       "plot without title"
      ]
     },
     "metadata": {
      "image/png": {
       "height": 420,
       "width": 420
      }
     },
     "output_type": "display_data"
    }
   ],
   "source": [
    "fillCols = c(\"0%-100%\" = \"#f3e43f\", \"10%-90%\" = \"#e99d63\",  \"25%-75%\" = \"#e96363\")\n",
    "lineType = c(\"10%-90%\" = \"dashed\", \"0%-100%\" = \"dotted\")\n",
    "p = ggplot(data = allAcfQuantilesChrCondensed, mapping=aes(x=lag)) +\n",
    "    geom_ribbon(aes(ymin = quant_0, ymax = quant_100, fill = \"0%-100%\"), alpha = .5) + \n",
    "    geom_ribbon(aes(ymin = quant_10, ymax = quant_90, fill = \"10%-90%\"), alpha = .5) + \n",
    "    geom_ribbon(aes(ymin = quant_25, ymax = quant_75, fill = \"25%-75%\"), alpha = .5) + \n",
    "    geom_line(mapping = aes(y = quant_50), col=\"red\") + \n",
    "    geom_vline(xintercept = seq(0,200,50), col=\"grey\" ) + \n",
    "    geom_vline(xintercept = seq(0,200,10), col=\"grey\",linetype=\"dotted\" ) + \n",
    "        xlim(c(2,200)) + ylim(c(-0.25,0.35))  + \n",
    "     labs(y = \"correlation\") + \n",
    "    scale_fill_manual(values = fillCols, name = \"correlation quantiles\") #+ \n",
    "p"
   ]
  },
  {
   "cell_type": "code",
   "execution_count": 46,
   "id": "b059fb02",
   "metadata": {},
   "outputs": [
    {
     "name": "stderr",
     "output_type": "stream",
     "text": [
      "Warning message:\n",
      "“\u001b[1m\u001b[22mRemoved 2 rows containing missing values (`geom_line()`).”\n",
      "Warning message:\n",
      "“\u001b[1m\u001b[22mRemoved 1 rows containing missing values (`geom_vline()`).”\n",
      "Warning message:\n",
      "“\u001b[1m\u001b[22mRemoved 1 rows containing missing values (`geom_vline()`).”\n"
     ]
    },
    {
     "data": {
      "text/html": [
       "<strong>png:</strong> 2"
      ],
      "text/latex": [
       "\\textbf{png:} 2"
      ],
      "text/markdown": [
       "**png:** 2"
      ],
      "text/plain": [
       "png \n",
       "  2 "
      ]
     },
     "metadata": {},
     "output_type": "display_data"
    }
   ],
   "source": [
    "png(filename = paste0(outDirectory, \"SupplFigure-S1-expr-auto-correlation.png\"),\n",
    "    width = 2000,height=1200, res = 340)\n",
    "p\n",
    "dev.off()"
   ]
  }
 ],
 "metadata": {
  "kernelspec": {
   "display_name": "R",
   "language": "R",
   "name": "ir"
  },
  "language_info": {
   "codemirror_mode": "r",
   "file_extension": ".r",
   "mimetype": "text/x-r-source",
   "name": "R",
   "pygments_lexer": "r",
   "version": "4.2.2"
  }
 },
 "nbformat": 4,
 "nbformat_minor": 5
}
