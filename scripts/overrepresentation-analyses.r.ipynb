{
 "cells": [
  {
   "cell_type": "code",
   "execution_count": null,
   "id": "f41b7d3c",
   "metadata": {},
   "outputs": [],
   "source": [
    "# make overrepresentation analyses\n",
    "# create\n",
    "#  SupplTable-S8-overrepresentation-analysis.xls"
   ]
  },
  {
   "cell_type": "code",
   "execution_count": 1,
   "id": "074feaab",
   "metadata": {
    "scrolled": true
   },
   "outputs": [
    {
     "name": "stderr",
     "output_type": "stream",
     "text": [
      "Loading required package: AnnotationDbi\n",
      "\n",
      "Loading required package: stats4\n",
      "\n",
      "Loading required package: BiocGenerics\n",
      "\n",
      "\n",
      "Attaching package: ‘BiocGenerics’\n",
      "\n",
      "\n",
      "The following objects are masked from ‘package:stats’:\n",
      "\n",
      "    IQR, mad, sd, var, xtabs\n",
      "\n",
      "\n",
      "The following objects are masked from ‘package:base’:\n",
      "\n",
      "    anyDuplicated, aperm, append, as.data.frame, basename, cbind,\n",
      "    colnames, dirname, do.call, duplicated, eval, evalq, Filter, Find,\n",
      "    get, grep, grepl, intersect, is.unsorted, lapply, Map, mapply,\n",
      "    match, mget, order, paste, pmax, pmax.int, pmin, pmin.int,\n",
      "    Position, rank, rbind, Reduce, rownames, sapply, setdiff, sort,\n",
      "    table, tapply, union, unique, unsplit, which.max, which.min\n",
      "\n",
      "\n",
      "Loading required package: Biobase\n",
      "\n",
      "Welcome to Bioconductor\n",
      "\n",
      "    Vignettes contain introductory material; view with\n",
      "    'browseVignettes()'. To cite Bioconductor, see\n",
      "    'citation(\"Biobase\")', and for packages 'citation(\"pkgname\")'.\n",
      "\n",
      "\n",
      "Loading required package: IRanges\n",
      "\n",
      "Loading required package: S4Vectors\n",
      "\n",
      "\n",
      "Attaching package: ‘S4Vectors’\n",
      "\n",
      "\n",
      "The following objects are masked from ‘package:base’:\n",
      "\n",
      "    expand.grid, I, unname\n",
      "\n",
      "\n",
      "\n",
      "\n",
      "\n",
      "\n",
      "clusterProfiler v4.6.0  For help: https://yulab-smu.top/biomedical-knowledge-mining-book/\n",
      "\n",
      "If you use clusterProfiler in published research, please cite:\n",
      "T Wu, E Hu, S Xu, M Chen, P Guo, Z Dai, T Feng, L Zhou, W Tang, L Zhan, X Fu, S Liu, X Bo, and G Yu. clusterProfiler 4.0: A universal enrichment tool for interpreting omics data. The Innovation. 2021, 2(3):100141\n",
      "\n",
      "\n",
      "Attaching package: ‘clusterProfiler’\n",
      "\n",
      "\n",
      "The following object is masked from ‘package:AnnotationDbi’:\n",
      "\n",
      "    select\n",
      "\n",
      "\n",
      "The following object is masked from ‘package:IRanges’:\n",
      "\n",
      "    slice\n",
      "\n",
      "\n",
      "The following object is masked from ‘package:S4Vectors’:\n",
      "\n",
      "    rename\n",
      "\n",
      "\n",
      "The following object is masked from ‘package:stats’:\n",
      "\n",
      "    filter\n",
      "\n",
      "\n"
     ]
    }
   ],
   "source": [
    "library(org.Hs.eg.db) # gene annotation, for mapping symbols to entrez/ensembl\n",
    "library(clusterProfiler) # GO enrichment analysis\n",
    "library(xlsx)\n",
    "library(parallel)"
   ]
  },
  {
   "cell_type": "code",
   "execution_count": 275,
   "id": "68782108",
   "metadata": {},
   "outputs": [],
   "source": [
    "basePath = \"/data/bcu_projects/MelBrainSys_PostdocProject_Gruetzmann/publications/2022-my-MelBrainSys-paper/scripts-etc-for-publication/\"\n",
    "myPath = paste0(basePath,\"regNet/\")\n",
    "setwd(basePath)"
   ]
  },
  {
   "cell_type": "code",
   "execution_count": 276,
   "id": "981d3b37",
   "metadata": {},
   "outputs": [],
   "source": [
    "outDirectory = paste0(basePath,\"FiguresTables/\")"
   ]
  },
  {
   "cell_type": "code",
   "execution_count": 277,
   "id": "78b521d2",
   "metadata": {},
   "outputs": [],
   "source": [
    "# define met. pairs, and annotation colors \n",
    "tmp = readRDS(file = \"annotation/samplePairs-annotation-colors-clusters.rds\")\n",
    "samplePairPerSubgroup = tmp$samplePairPerSubgroup\n",
    "subgroupNames = tmp$subgroupNames"
   ]
  },
  {
   "cell_type": "code",
   "execution_count": 278,
   "id": "b7a15592",
   "metadata": {},
   "outputs": [
    {
     "data": {
      "text/html": [
       "<table class=\"dataframe\">\n",
       "<caption>A matrix: 6 × 11 of type dbl</caption>\n",
       "<thead>\n",
       "\t<tr><th></th><th scope=col>P03_BLun</th><th scope=col>P04_BSki_1</th><th scope=col>P08_BSof_1</th><th scope=col>P08_BSof_2</th><th scope=col>P08_BSof_3</th><th scope=col>P16_BLun</th><th scope=col>P18_BLun_1</th><th scope=col>P18_BLun_2</th><th scope=col>P39_BLun</th><th scope=col>P42_BLym_1</th><th scope=col>P42_BLym_2</th></tr>\n",
       "</thead>\n",
       "<tbody>\n",
       "\t<tr><th scope=row>NOC2L</th><td>-0.5131848</td><td>0.2623647</td><td>-0.8237658</td><td>-0.04970504</td><td>-0.3760514</td><td> 0.197820589</td><td>-0.29186426</td><td>-0.6056519</td><td>-1.0009443</td><td> 0.4271530</td><td>-0.31009925</td></tr>\n",
       "\t<tr><th scope=row>KLHL17</th><td>-0.3754720</td><td>0.5195951</td><td>-0.8366981</td><td>-0.26829236</td><td>-0.3536398</td><td>-0.008449568</td><td>-0.90867937</td><td>-0.5893162</td><td>-1.1208155</td><td> 0.3428841</td><td>-0.29978671</td></tr>\n",
       "\t<tr><th scope=row>HES4</th><td>-1.0220673</td><td>0.3757407</td><td>-0.7503114</td><td>-0.01497900</td><td> 0.2059771</td><td>-1.191426658</td><td>-0.16027045</td><td>-0.8164230</td><td>-1.9369733</td><td>-1.0808609</td><td>-0.51779540</td></tr>\n",
       "\t<tr><th scope=row>ISG15</th><td>-0.4778416</td><td>0.2964649</td><td>-0.8558360</td><td> 0.30105722</td><td> 0.0270101</td><td> 0.398693258</td><td> 0.05842640</td><td>-0.3556355</td><td>-0.8483902</td><td> 0.3199234</td><td>-0.37101770</td></tr>\n",
       "\t<tr><th scope=row>AGRN</th><td>-0.8571891</td><td>0.5567957</td><td>-0.9730449</td><td> 0.11305796</td><td>-0.3439669</td><td>-0.111755277</td><td>-0.09810649</td><td>-0.4588938</td><td>-1.0630752</td><td> 0.6730077</td><td>-0.09384669</td></tr>\n",
       "\t<tr><th scope=row>C1orf159</th><td>-0.4562156</td><td>0.3341612</td><td>-0.8622403</td><td>-0.06471666</td><td>-0.6813369</td><td> 0.540506357</td><td>-0.21481722</td><td>-0.4516024</td><td>-1.1938917</td><td> 0.4187700</td><td> 0.25238287</td></tr>\n",
       "</tbody>\n",
       "</table>\n"
      ],
      "text/latex": [
       "A matrix: 6 × 11 of type dbl\n",
       "\\begin{tabular}{r|lllllllllll}\n",
       "  & P03\\_BLun & P04\\_BSki\\_1 & P08\\_BSof\\_1 & P08\\_BSof\\_2 & P08\\_BSof\\_3 & P16\\_BLun & P18\\_BLun\\_1 & P18\\_BLun\\_2 & P39\\_BLun & P42\\_BLym\\_1 & P42\\_BLym\\_2\\\\\n",
       "\\hline\n",
       "\tNOC2L & -0.5131848 & 0.2623647 & -0.8237658 & -0.04970504 & -0.3760514 &  0.197820589 & -0.29186426 & -0.6056519 & -1.0009443 &  0.4271530 & -0.31009925\\\\\n",
       "\tKLHL17 & -0.3754720 & 0.5195951 & -0.8366981 & -0.26829236 & -0.3536398 & -0.008449568 & -0.90867937 & -0.5893162 & -1.1208155 &  0.3428841 & -0.29978671\\\\\n",
       "\tHES4 & -1.0220673 & 0.3757407 & -0.7503114 & -0.01497900 &  0.2059771 & -1.191426658 & -0.16027045 & -0.8164230 & -1.9369733 & -1.0808609 & -0.51779540\\\\\n",
       "\tISG15 & -0.4778416 & 0.2964649 & -0.8558360 &  0.30105722 &  0.0270101 &  0.398693258 &  0.05842640 & -0.3556355 & -0.8483902 &  0.3199234 & -0.37101770\\\\\n",
       "\tAGRN & -0.8571891 & 0.5567957 & -0.9730449 &  0.11305796 & -0.3439669 & -0.111755277 & -0.09810649 & -0.4588938 & -1.0630752 &  0.6730077 & -0.09384669\\\\\n",
       "\tC1orf159 & -0.4562156 & 0.3341612 & -0.8622403 & -0.06471666 & -0.6813369 &  0.540506357 & -0.21481722 & -0.4516024 & -1.1938917 &  0.4187700 &  0.25238287\\\\\n",
       "\\end{tabular}\n"
      ],
      "text/markdown": [
       "\n",
       "A matrix: 6 × 11 of type dbl\n",
       "\n",
       "| <!--/--> | P03_BLun | P04_BSki_1 | P08_BSof_1 | P08_BSof_2 | P08_BSof_3 | P16_BLun | P18_BLun_1 | P18_BLun_2 | P39_BLun | P42_BLym_1 | P42_BLym_2 |\n",
       "|---|---|---|---|---|---|---|---|---|---|---|---|\n",
       "| NOC2L | -0.5131848 | 0.2623647 | -0.8237658 | -0.04970504 | -0.3760514 |  0.197820589 | -0.29186426 | -0.6056519 | -1.0009443 |  0.4271530 | -0.31009925 |\n",
       "| KLHL17 | -0.3754720 | 0.5195951 | -0.8366981 | -0.26829236 | -0.3536398 | -0.008449568 | -0.90867937 | -0.5893162 | -1.1208155 |  0.3428841 | -0.29978671 |\n",
       "| HES4 | -1.0220673 | 0.3757407 | -0.7503114 | -0.01497900 |  0.2059771 | -1.191426658 | -0.16027045 | -0.8164230 | -1.9369733 | -1.0808609 | -0.51779540 |\n",
       "| ISG15 | -0.4778416 | 0.2964649 | -0.8558360 |  0.30105722 |  0.0270101 |  0.398693258 |  0.05842640 | -0.3556355 | -0.8483902 |  0.3199234 | -0.37101770 |\n",
       "| AGRN | -0.8571891 | 0.5567957 | -0.9730449 |  0.11305796 | -0.3439669 | -0.111755277 | -0.09810649 | -0.4588938 | -1.0630752 |  0.6730077 | -0.09384669 |\n",
       "| C1orf159 | -0.4562156 | 0.3341612 | -0.8622403 | -0.06471666 | -0.6813369 |  0.540506357 | -0.21481722 | -0.4516024 | -1.1938917 |  0.4187700 |  0.25238287 |\n",
       "\n"
      ],
      "text/plain": [
       "         P03_BLun   P04_BSki_1 P08_BSof_1 P08_BSof_2  P08_BSof_3 P16_BLun    \n",
       "NOC2L    -0.5131848 0.2623647  -0.8237658 -0.04970504 -0.3760514  0.197820589\n",
       "KLHL17   -0.3754720 0.5195951  -0.8366981 -0.26829236 -0.3536398 -0.008449568\n",
       "HES4     -1.0220673 0.3757407  -0.7503114 -0.01497900  0.2059771 -1.191426658\n",
       "ISG15    -0.4778416 0.2964649  -0.8558360  0.30105722  0.0270101  0.398693258\n",
       "AGRN     -0.8571891 0.5567957  -0.9730449  0.11305796 -0.3439669 -0.111755277\n",
       "C1orf159 -0.4562156 0.3341612  -0.8622403 -0.06471666 -0.6813369  0.540506357\n",
       "         P18_BLun_1  P18_BLun_2 P39_BLun   P42_BLym_1 P42_BLym_2 \n",
       "NOC2L    -0.29186426 -0.6056519 -1.0009443  0.4271530 -0.31009925\n",
       "KLHL17   -0.90867937 -0.5893162 -1.1208155  0.3428841 -0.29978671\n",
       "HES4     -0.16027045 -0.8164230 -1.9369733 -1.0808609 -0.51779540\n",
       "ISG15     0.05842640 -0.3556355 -0.8483902  0.3199234 -0.37101770\n",
       "AGRN     -0.09810649 -0.4588938 -1.0630752  0.6730077 -0.09384669\n",
       "C1orf159 -0.21481722 -0.4516024 -1.1938917  0.4187700  0.25238287"
      ]
     },
     "metadata": {},
     "output_type": "display_data"
    }
   ],
   "source": [
    "tmp = readRDS(file=\"metPairs-impactRatios-onAllTargetGenes.rds\")\n",
    "impRatios = tmp$meanLogMedianImpRatiosMat\n",
    "head(impRatios)"
   ]
  },
  {
   "cell_type": "code",
   "execution_count": 280,
   "id": "7d0316f7",
   "metadata": {},
   "outputs": [],
   "source": [
    "allGenesNWs = rownames(impRatios)"
   ]
  },
  {
   "cell_type": "code",
   "execution_count": 281,
   "id": "e5159201",
   "metadata": {},
   "outputs": [
    {
     "name": "stderr",
     "output_type": "stream",
     "text": [
      "'select()' returned 1:many mapping between keys and columns\n",
      "\n",
      "Warning message in bitr(allGenesNWs, fromType = \"SYMBOL\", toType = c(\"ENSEMBL\", :\n",
      "“6.08% of input gene IDs are fail to map...”\n"
     ]
    },
    {
     "data": {
      "text/html": [
       "311"
      ],
      "text/latex": [
       "311"
      ],
      "text/markdown": [
       "311"
      ],
      "text/plain": [
       "[1] 311"
      ]
     },
     "metadata": {},
     "output_type": "display_data"
    },
    {
     "data": {
      "text/html": [
       "<table class=\"dataframe\">\n",
       "<caption>A data.frame: 2 × 3</caption>\n",
       "<thead>\n",
       "\t<tr><th></th><th scope=col>SYMBOL</th><th scope=col>ENSEMBL</th><th scope=col>ENTREZID</th></tr>\n",
       "\t<tr><th></th><th scope=col>&lt;chr&gt;</th><th scope=col>&lt;chr&gt;</th><th scope=col>&lt;chr&gt;</th></tr>\n",
       "</thead>\n",
       "<tbody>\n",
       "\t<tr><th scope=row>NOC2L</th><td>NOC2L </td><td>ENSG00000188976</td><td>26155 </td></tr>\n",
       "\t<tr><th scope=row>KLHL17</th><td>KLHL17</td><td>ENSG00000187961</td><td>339451</td></tr>\n",
       "</tbody>\n",
       "</table>\n"
      ],
      "text/latex": [
       "A data.frame: 2 × 3\n",
       "\\begin{tabular}{r|lll}\n",
       "  & SYMBOL & ENSEMBL & ENTREZID\\\\\n",
       "  & <chr> & <chr> & <chr>\\\\\n",
       "\\hline\n",
       "\tNOC2L & NOC2L  & ENSG00000188976 & 26155 \\\\\n",
       "\tKLHL17 & KLHL17 & ENSG00000187961 & 339451\\\\\n",
       "\\end{tabular}\n"
      ],
      "text/markdown": [
       "\n",
       "A data.frame: 2 × 3\n",
       "\n",
       "| <!--/--> | SYMBOL &lt;chr&gt; | ENSEMBL &lt;chr&gt; | ENTREZID &lt;chr&gt; |\n",
       "|---|---|---|---|\n",
       "| NOC2L | NOC2L  | ENSG00000188976 | 26155  |\n",
       "| KLHL17 | KLHL17 | ENSG00000187961 | 339451 |\n",
       "\n"
      ],
      "text/plain": [
       "       SYMBOL ENSEMBL         ENTREZID\n",
       "NOC2L  NOC2L  ENSG00000188976 26155   \n",
       "KLHL17 KLHL17 ENSG00000187961 339451  "
      ]
     },
     "metadata": {},
     "output_type": "display_data"
    }
   ],
   "source": [
    "# mapping all genes to Entrez\n",
    "# \"ENTREZID\"\n",
    "allGenesNWsMapped <- bitr(allGenesNWs, fromType = \"SYMBOL\",toType = c(\"ENSEMBL\",\"ENTREZID\"),OrgDb = org.Hs.eg.db)\n",
    "# 5.2% failed mapping (when only mapping on ENSEMBL/ENTREZ it is 5.16 and 5.18%)\n",
    "wh = which(duplicated(allGenesNWsMapped$SYMBOL))\n",
    "length(wh) # 324 duplicated, remove the duplicates\n",
    "allGenesNWsMapped = allGenesNWsMapped[-wh,]\n",
    "rownames(allGenesNWsMapped) = allGenesNWsMapped$SYMBOL\n",
    "head(allGenesNWsMapped,2)"
   ]
  },
  {
   "cell_type": "code",
   "execution_count": 301,
   "id": "e305b949",
   "metadata": {},
   "outputs": [],
   "source": [
    "# GO ID / descr mapping:\n",
    "goIDdescrMap = function(res) {\n",
    "    tmp = res[,c(\"ID\",\"Description\")]\n",
    "    wh = which(duplicated(tmp$ID))\n",
    "    if(length(wh)>0) {tmp = tmp[-wh,]}\n",
    "    goIDdescr = tmp$Description; names(goIDdescr) = tmp$ID\n",
    "    return(goIDdescr)\n",
    "}"
   ]
  },
  {
   "cell_type": "code",
   "execution_count": 283,
   "id": "a8b1aa32",
   "metadata": {},
   "outputs": [],
   "source": [
    "calcOverrepr1set = function( geneSet, allGenesSet, maxQval) {\n",
    "    geneSetEnsg = na.omit(allGenesSet[geneSet, \"ENSEMBL\"])\n",
    "    geneSetEntr = na.omit(allGenesSet[geneSet, \"ENTREZID\"]) \n",
    "    res = NULL\n",
    "    for (goCateg in c(\"MF\",\"CC\",\"BP\")) {\n",
    "        go = enrichGO(gene = geneSetEnsg, universe = allGenesSet$ENSEMBL,\n",
    "                    OrgDb = org.Hs.eg.db, keyType = 'ENSEMBL', ont = goCateg, \n",
    "                    pAdjustMethod = \"BH\", pvalueCutoff  = 1, qvalueCutoff  = maxQval, readable = T)\n",
    "        if(class(go)!=\"NULL\" & nrow(go)>0) {\n",
    "            res = rbind(res,data.frame(stringsAsFactors=F, categ = goCateg,num_genes=length(geneSetEnsg),go))\n",
    "        }\n",
    "    }\n",
    "    kegg = enrichKEGG(gene = geneSetEntr, universe = allGenesSet$ENTREZID, qvalueCutoff = maxQval,\n",
    "             keyType = 'ncbi-geneid', organism = 'hsa',pvalueCutoff = 1)\n",
    "    if(class(kegg)!=\"NULL\" & nrow(kegg)>0) {\n",
    "        res = rbind(res,data.frame(stringsAsFactors=F, categ = \"KEGG\" ,num_genes=length(geneSetEntr) ,kegg))\n",
    "    }\n",
    "    res\n",
    "}"
   ]
  },
  {
   "cell_type": "code",
   "execution_count": 284,
   "id": "1f4cc71b",
   "metadata": {},
   "outputs": [],
   "source": [
    "calcOverReprWcutoff = function(impRatios, decreasing, nbCPUs, percentile) {\n",
    "    GOres = mclapply(mc.cores = nbCPUs,X = colnames(impRatios), FUN = function(samplePair) {\n",
    "            topGenes = head(sort(impRatios[,samplePair], decreasing = decreasing),\n",
    "                            round(percentile*nrow(allGenesNWsMapped)/100))\n",
    "            if(decreasing) { \n",
    "                topGenes = topGenes[ which(topGenes > 0)] \n",
    "            } else {\n",
    "                topGenes = topGenes[ which(topGenes < 0)] \n",
    "            }\n",
    "            message(samplePair,\" \",length(topGenes),\" topGenes\")\n",
    "            if (length(topGenes)>0) {\n",
    "                topGenes = names(topGenes)\n",
    "                tmp = calcOverrepr1set(geneSet = topGenes, allGenesSet = allGenesNWsMapped, maxQval = 0.1)\n",
    "                if(class(tmp)!=\"NULL\") {\n",
    "                    return(data.frame(stringsAsFactors = F,samplePair = samplePair,tmp))\n",
    "                } else { return(NULL) }\n",
    "            } else { return(NULL) }\n",
    "        })\n",
    "    do.call(rbind,GOres)\n",
    "}"
   ]
  },
  {
   "cell_type": "code",
   "execution_count": 285,
   "id": "cc4c4efa",
   "metadata": {},
   "outputs": [],
   "source": [
    "set.seed(seed = 42) # reproducible results"
   ]
  },
  {
   "cell_type": "code",
   "execution_count": 311,
   "id": "71168495",
   "metadata": {},
   "outputs": [
    {
     "name": "stderr",
     "output_type": "stream",
     "text": [
      "P03_BLun 388 topGenes\n",
      "\n",
      "P04_BSki_1 388 topGenes\n",
      "\n",
      "P08_BSof_1 388 topGenes\n",
      "\n",
      "P08_BSof_2 388 topGenes\n",
      "\n",
      "P08_BSof_3 388 topGenes\n",
      "\n",
      "P16_BLun 388 topGenes\n",
      "\n",
      "P18_BLun_1 388 topGenes\n",
      "\n",
      "P18_BLun_2 388 topGenes\n",
      "\n",
      "P39_BLun 388 topGenes\n",
      "\n",
      "P42_BLym_1 358 topGenes\n",
      "\n",
      "P42_BLym_2 388 topGenes\n",
      "\n"
     ]
    }
   ],
   "source": [
    "nbCPUs = 1 # parallelization doesn't work, enrichment functions break with error \"database disk image is malformed\"\n",
    "allRevMeanGOres = calcOverReprWcutoff(impRatios = impRatios, decreasing = F,\n",
    "                                      nbCPUs = nbCPUs,percentile = 5 )\n",
    "# takes 15-30min"
   ]
  },
  {
   "cell_type": "code",
   "execution_count": 312,
   "id": "ed22a1ab",
   "metadata": {},
   "outputs": [
    {
     "name": "stderr",
     "output_type": "stream",
     "text": [
      "P03_BLun 388 topGenes\n",
      "\n",
      "P04_BSki_1 388 topGenes\n",
      "\n",
      "P08_BSof_1 45 topGenes\n",
      "\n",
      "P08_BSof_2 388 topGenes\n",
      "\n",
      "P08_BSof_3 332 topGenes\n",
      "\n",
      "P16_BLun 388 topGenes\n",
      "\n",
      "P18_BLun_1 388 topGenes\n",
      "\n",
      "P18_BLun_2 156 topGenes\n",
      "\n",
      "P39_BLun 67 topGenes\n",
      "\n",
      "P42_BLym_1 388 topGenes\n",
      "\n",
      "P42_BLym_2 388 topGenes\n",
      "\n"
     ]
    }
   ],
   "source": [
    "allFwdMeanGOres = calcOverReprWcutoff(impRatios = impRatios, decreasing = T,\n",
    "                                      nbCPUs = nbCPUs,percentile = 5 )\n",
    "# takes 15-30min"
   ]
  },
  {
   "cell_type": "code",
   "execution_count": 313,
   "id": "f56f04e7",
   "metadata": {
    "scrolled": true
   },
   "outputs": [
    {
     "data": {
      "text/html": [
       "<table class=\"dataframe\">\n",
       "<caption>A data.frame: 2 × 12</caption>\n",
       "<thead>\n",
       "\t<tr><th></th><th scope=col>samplePair</th><th scope=col>categ</th><th scope=col>num_genes</th><th scope=col>ID</th><th scope=col>Description</th><th scope=col>GeneRatio</th><th scope=col>BgRatio</th><th scope=col>pvalue</th><th scope=col>p.adjust</th><th scope=col>qvalue</th><th scope=col>geneID</th><th scope=col>Count</th></tr>\n",
       "\t<tr><th></th><th scope=col>&lt;chr&gt;</th><th scope=col>&lt;chr&gt;</th><th scope=col>&lt;int&gt;</th><th scope=col>&lt;chr&gt;</th><th scope=col>&lt;chr&gt;</th><th scope=col>&lt;chr&gt;</th><th scope=col>&lt;chr&gt;</th><th scope=col>&lt;dbl&gt;</th><th scope=col>&lt;dbl&gt;</th><th scope=col>&lt;dbl&gt;</th><th scope=col>&lt;chr&gt;</th><th scope=col>&lt;int&gt;</th></tr>\n",
       "</thead>\n",
       "<tbody>\n",
       "\t<tr><th scope=row>GO:0009055</th><td>P03_BLun</td><td>MF</td><td>362</td><td>GO:0009055</td><td>electron transfer activity                                     </td><td>16/348</td><td>67/7474</td><td>4.436038e-08</td><td>1.425754e-05</td><td>1.389729e-05</td><td>ADH5/SDHC/NDUFS8/COX6B1/NDUFA8/COX4I1/NDUFA4/NDUFB3/AKR1B1/NDUFB7/NDUFB9/COX5B/COX6A1/NDUFB4/NDUFA1/NDUFV2</td><td>16</td></tr>\n",
       "\t<tr><th scope=row>GO:0015453</th><td>P03_BLun</td><td>MF</td><td>362</td><td>GO:0015453</td><td>oxidoreduction-driven active transmembrane transporter activity</td><td>13/348</td><td>44/7474</td><td>5.410829e-08</td><td>1.425754e-05</td><td>1.389729e-05</td><td>NDUFS8/COX6B1/NDUFA8/COX4I1/NDUFA4/NDUFB3/NDUFB7/NDUFB9/COX5B/COX6A1/NDUFB4/NDUFA1/NDUFV2                 </td><td>13</td></tr>\n",
       "</tbody>\n",
       "</table>\n"
      ],
      "text/latex": [
       "A data.frame: 2 × 12\n",
       "\\begin{tabular}{r|llllllllllll}\n",
       "  & samplePair & categ & num\\_genes & ID & Description & GeneRatio & BgRatio & pvalue & p.adjust & qvalue & geneID & Count\\\\\n",
       "  & <chr> & <chr> & <int> & <chr> & <chr> & <chr> & <chr> & <dbl> & <dbl> & <dbl> & <chr> & <int>\\\\\n",
       "\\hline\n",
       "\tGO:0009055 & P03\\_BLun & MF & 362 & GO:0009055 & electron transfer activity                                      & 16/348 & 67/7474 & 4.436038e-08 & 1.425754e-05 & 1.389729e-05 & ADH5/SDHC/NDUFS8/COX6B1/NDUFA8/COX4I1/NDUFA4/NDUFB3/AKR1B1/NDUFB7/NDUFB9/COX5B/COX6A1/NDUFB4/NDUFA1/NDUFV2 & 16\\\\\n",
       "\tGO:0015453 & P03\\_BLun & MF & 362 & GO:0015453 & oxidoreduction-driven active transmembrane transporter activity & 13/348 & 44/7474 & 5.410829e-08 & 1.425754e-05 & 1.389729e-05 & NDUFS8/COX6B1/NDUFA8/COX4I1/NDUFA4/NDUFB3/NDUFB7/NDUFB9/COX5B/COX6A1/NDUFB4/NDUFA1/NDUFV2                  & 13\\\\\n",
       "\\end{tabular}\n"
      ],
      "text/markdown": [
       "\n",
       "A data.frame: 2 × 12\n",
       "\n",
       "| <!--/--> | samplePair &lt;chr&gt; | categ &lt;chr&gt; | num_genes &lt;int&gt; | ID &lt;chr&gt; | Description &lt;chr&gt; | GeneRatio &lt;chr&gt; | BgRatio &lt;chr&gt; | pvalue &lt;dbl&gt; | p.adjust &lt;dbl&gt; | qvalue &lt;dbl&gt; | geneID &lt;chr&gt; | Count &lt;int&gt; |\n",
       "|---|---|---|---|---|---|---|---|---|---|---|---|---|\n",
       "| GO:0009055 | P03_BLun | MF | 362 | GO:0009055 | electron transfer activity                                      | 16/348 | 67/7474 | 4.436038e-08 | 1.425754e-05 | 1.389729e-05 | ADH5/SDHC/NDUFS8/COX6B1/NDUFA8/COX4I1/NDUFA4/NDUFB3/AKR1B1/NDUFB7/NDUFB9/COX5B/COX6A1/NDUFB4/NDUFA1/NDUFV2 | 16 |\n",
       "| GO:0015453 | P03_BLun | MF | 362 | GO:0015453 | oxidoreduction-driven active transmembrane transporter activity | 13/348 | 44/7474 | 5.410829e-08 | 1.425754e-05 | 1.389729e-05 | NDUFS8/COX6B1/NDUFA8/COX4I1/NDUFA4/NDUFB3/NDUFB7/NDUFB9/COX5B/COX6A1/NDUFB4/NDUFA1/NDUFV2                  | 13 |\n",
       "\n"
      ],
      "text/plain": [
       "           samplePair categ num_genes ID        \n",
       "GO:0009055 P03_BLun   MF    362       GO:0009055\n",
       "GO:0015453 P03_BLun   MF    362       GO:0015453\n",
       "           Description                                                    \n",
       "GO:0009055 electron transfer activity                                     \n",
       "GO:0015453 oxidoreduction-driven active transmembrane transporter activity\n",
       "           GeneRatio BgRatio pvalue       p.adjust     qvalue      \n",
       "GO:0009055 16/348    67/7474 4.436038e-08 1.425754e-05 1.389729e-05\n",
       "GO:0015453 13/348    44/7474 5.410829e-08 1.425754e-05 1.389729e-05\n",
       "           geneID                                                                                                    \n",
       "GO:0009055 ADH5/SDHC/NDUFS8/COX6B1/NDUFA8/COX4I1/NDUFA4/NDUFB3/AKR1B1/NDUFB7/NDUFB9/COX5B/COX6A1/NDUFB4/NDUFA1/NDUFV2\n",
       "GO:0015453 NDUFS8/COX6B1/NDUFA8/COX4I1/NDUFA4/NDUFB3/NDUFB7/NDUFB9/COX5B/COX6A1/NDUFB4/NDUFA1/NDUFV2                 \n",
       "           Count\n",
       "GO:0009055 16   \n",
       "GO:0015453 13   "
      ]
     },
     "metadata": {},
     "output_type": "display_data"
    },
    {
     "data": {
      "text/html": [
       "<table class=\"dataframe\">\n",
       "<caption>A data.frame: 2 × 12</caption>\n",
       "<thead>\n",
       "\t<tr><th></th><th scope=col>samplePair</th><th scope=col>categ</th><th scope=col>num_genes</th><th scope=col>ID</th><th scope=col>Description</th><th scope=col>GeneRatio</th><th scope=col>BgRatio</th><th scope=col>pvalue</th><th scope=col>p.adjust</th><th scope=col>qvalue</th><th scope=col>geneID</th><th scope=col>Count</th></tr>\n",
       "\t<tr><th></th><th scope=col>&lt;chr&gt;</th><th scope=col>&lt;chr&gt;</th><th scope=col>&lt;int&gt;</th><th scope=col>&lt;chr&gt;</th><th scope=col>&lt;chr&gt;</th><th scope=col>&lt;chr&gt;</th><th scope=col>&lt;chr&gt;</th><th scope=col>&lt;dbl&gt;</th><th scope=col>&lt;dbl&gt;</th><th scope=col>&lt;dbl&gt;</th><th scope=col>&lt;chr&gt;</th><th scope=col>&lt;int&gt;</th></tr>\n",
       "</thead>\n",
       "<tbody>\n",
       "\t<tr><th scope=row>GO:0050729</th><td>P42_BLym_2</td><td>BP</td><td>371</td><td>GO:0050729</td><td>positive regulation of inflammatory response</td><td>8/344 </td><td>54/7283 </td><td>0.003539606</td><td>0.1061455</td><td>0.09902026</td><td>STAT5B/AIM2/ADAM8/ALOX5AP/LGALS1/IL15/CEBPA/CCR7                                                                                                                                      </td><td> 8</td></tr>\n",
       "\t<tr><th scope=row>GO:00507762</th><td>P42_BLym_2</td><td>BP</td><td>371</td><td>GO:0050776</td><td>regulation of immune response               </td><td>30/344</td><td>379/7283</td><td>0.003544456</td><td>0.1061455</td><td>0.09902026</td><td>LGALS9/TRAFD1/DDX3X/NOD2/RBCK1/PRKCH/SLAMF6/GATA3/PRKD2/TLR6/SKAP1/ICOSLG/TRAF6/BTN3A3/RNF31/IRF1/STAT5B/AIM2/CD79B/ADAM8/ARG2/PTPN22/DUSP3/IL15/BCL10/PAK1/CRKL/CCR7/EIF2AK4/SERPINB9</td><td>30</td></tr>\n",
       "</tbody>\n",
       "</table>\n"
      ],
      "text/latex": [
       "A data.frame: 2 × 12\n",
       "\\begin{tabular}{r|llllllllllll}\n",
       "  & samplePair & categ & num\\_genes & ID & Description & GeneRatio & BgRatio & pvalue & p.adjust & qvalue & geneID & Count\\\\\n",
       "  & <chr> & <chr> & <int> & <chr> & <chr> & <chr> & <chr> & <dbl> & <dbl> & <dbl> & <chr> & <int>\\\\\n",
       "\\hline\n",
       "\tGO:0050729 & P42\\_BLym\\_2 & BP & 371 & GO:0050729 & positive regulation of inflammatory response & 8/344  & 54/7283  & 0.003539606 & 0.1061455 & 0.09902026 & STAT5B/AIM2/ADAM8/ALOX5AP/LGALS1/IL15/CEBPA/CCR7                                                                                                                                       &  8\\\\\n",
       "\tGO:00507762 & P42\\_BLym\\_2 & BP & 371 & GO:0050776 & regulation of immune response                & 30/344 & 379/7283 & 0.003544456 & 0.1061455 & 0.09902026 & LGALS9/TRAFD1/DDX3X/NOD2/RBCK1/PRKCH/SLAMF6/GATA3/PRKD2/TLR6/SKAP1/ICOSLG/TRAF6/BTN3A3/RNF31/IRF1/STAT5B/AIM2/CD79B/ADAM8/ARG2/PTPN22/DUSP3/IL15/BCL10/PAK1/CRKL/CCR7/EIF2AK4/SERPINB9 & 30\\\\\n",
       "\\end{tabular}\n"
      ],
      "text/markdown": [
       "\n",
       "A data.frame: 2 × 12\n",
       "\n",
       "| <!--/--> | samplePair &lt;chr&gt; | categ &lt;chr&gt; | num_genes &lt;int&gt; | ID &lt;chr&gt; | Description &lt;chr&gt; | GeneRatio &lt;chr&gt; | BgRatio &lt;chr&gt; | pvalue &lt;dbl&gt; | p.adjust &lt;dbl&gt; | qvalue &lt;dbl&gt; | geneID &lt;chr&gt; | Count &lt;int&gt; |\n",
       "|---|---|---|---|---|---|---|---|---|---|---|---|---|\n",
       "| GO:0050729 | P42_BLym_2 | BP | 371 | GO:0050729 | positive regulation of inflammatory response | 8/344  | 54/7283  | 0.003539606 | 0.1061455 | 0.09902026 | STAT5B/AIM2/ADAM8/ALOX5AP/LGALS1/IL15/CEBPA/CCR7                                                                                                                                       |  8 |\n",
       "| GO:00507762 | P42_BLym_2 | BP | 371 | GO:0050776 | regulation of immune response                | 30/344 | 379/7283 | 0.003544456 | 0.1061455 | 0.09902026 | LGALS9/TRAFD1/DDX3X/NOD2/RBCK1/PRKCH/SLAMF6/GATA3/PRKD2/TLR6/SKAP1/ICOSLG/TRAF6/BTN3A3/RNF31/IRF1/STAT5B/AIM2/CD79B/ADAM8/ARG2/PTPN22/DUSP3/IL15/BCL10/PAK1/CRKL/CCR7/EIF2AK4/SERPINB9 | 30 |\n",
       "\n"
      ],
      "text/plain": [
       "            samplePair categ num_genes ID        \n",
       "GO:0050729  P42_BLym_2 BP    371       GO:0050729\n",
       "GO:00507762 P42_BLym_2 BP    371       GO:0050776\n",
       "            Description                                  GeneRatio BgRatio \n",
       "GO:0050729  positive regulation of inflammatory response 8/344     54/7283 \n",
       "GO:00507762 regulation of immune response                30/344    379/7283\n",
       "            pvalue      p.adjust  qvalue    \n",
       "GO:0050729  0.003539606 0.1061455 0.09902026\n",
       "GO:00507762 0.003544456 0.1061455 0.09902026\n",
       "            geneID                                                                                                                                                                                \n",
       "GO:0050729  STAT5B/AIM2/ADAM8/ALOX5AP/LGALS1/IL15/CEBPA/CCR7                                                                                                                                      \n",
       "GO:00507762 LGALS9/TRAFD1/DDX3X/NOD2/RBCK1/PRKCH/SLAMF6/GATA3/PRKD2/TLR6/SKAP1/ICOSLG/TRAF6/BTN3A3/RNF31/IRF1/STAT5B/AIM2/CD79B/ADAM8/ARG2/PTPN22/DUSP3/IL15/BCL10/PAK1/CRKL/CCR7/EIF2AK4/SERPINB9\n",
       "            Count\n",
       "GO:0050729   8   \n",
       "GO:00507762 30   "
      ]
     },
     "metadata": {},
     "output_type": "display_data"
    }
   ],
   "source": [
    "head(allFwdMeanGOres,2)\n",
    "tail(allFwdMeanGOres,2)"
   ]
  },
  {
   "cell_type": "code",
   "execution_count": 329,
   "id": "1f2dcb96",
   "metadata": {},
   "outputs": [],
   "source": [
    "# save for paper\n",
    "write.xlsx(allFwdMeanGOres, sheetName=\"upper 5%\",append=F, row.names = F,\n",
    "           file = paste0(outDirectory,\"SupplTable-S8-overrepresentation-analysis.xls\"))\n",
    "# save for paper\n",
    "write.xlsx(allRevMeanGOres, sheetName=\"lower 5%\", append=T,row.names = F,\n",
    "           file = paste0(outDirectory,\"SupplTable-S8-overrepresentation-analysis.xls\"))"
   ]
  },
  {
   "cell_type": "markdown",
   "id": "29116d90",
   "metadata": {},
   "source": [
    "### exclusive GOs\n",
    "shared only among met. pairs of a subgroup"
   ]
  },
  {
   "cell_type": "code",
   "execution_count": 315,
   "id": "4b5a9030",
   "metadata": {},
   "outputs": [],
   "source": [
    "goIDdescr = goIDdescrMap(res = rbind(allFwdMeanGOres, allRevMeanGOres))"
   ]
  },
  {
   "cell_type": "code",
   "execution_count": 316,
   "id": "7368b752",
   "metadata": {},
   "outputs": [],
   "source": [
    "FwdAndRevResults = list(\"upper 5%\" = allFwdMeanGOres, \n",
    "                     \"lower 5%\"=allRevMeanGOres)"
   ]
  },
  {
   "cell_type": "code",
   "execution_count": 317,
   "id": "6485e0b7",
   "metadata": {
    "scrolled": true
   },
   "outputs": [
    {
     "name": "stderr",
     "output_type": "stream",
     "text": [
      "upper 5%\n",
      "\n",
      "subgroup SG1: P04_BSki_1 P08_BSof_2 P16_BLun P42_BLym_1, 2 shared categories\n",
      "\n",
      " | upper 5% | SG1 | 4 | 2 | GO:1903053 | regulation of extracellular matrix organization |\n",
      " | upper 5% | SG1 | 4 | 2 | GO:1903055 | positive regulation of extracellular matrix organization |\n",
      "\n",
      "\n",
      "subgroup SG2: P08_BSof_1 P18_BLun_2 P39_BLun, 0 shared categories\n",
      "\n",
      "subgroup SG3: P03_BLun P08_BSof_3 P18_BLun_1 P42_BLym_2, 34 shared categories\n",
      "\n",
      " | upper 5% | SG3 | 4 | 2 | GO:0001775 | cell activation |\n",
      " | upper 5% | SG3 | 4 | 2 | GO:0002253 | activation of immune response |\n",
      " | upper 5% | SG3 | 4 | 2 | GO:0002429 | immune response-activating cell surface receptor signaling pathway |\n",
      " | upper 5% | SG3 | 4 | 2 | GO:0002684 | positive regulation of immune system process |\n",
      " | upper 5% | SG3 | 4 | 2 | GO:0002694 | regulation of leukocyte activation |\n",
      " | upper 5% | SG3 | 4 | 2 | GO:0002696 | positive regulation of leukocyte activation |\n",
      " | upper 5% | SG3 | 4 | 2 | GO:0002757 | immune response-activating signal transduction |\n",
      " | upper 5% | SG3 | 4 | 2 | GO:0002768 | immune response-regulating cell surface receptor signaling pathway |\n",
      " | upper 5% | SG3 | 4 | 2 | GO:0006935 | chemotaxis |\n",
      " | upper 5% | SG3 | 4 | 2 | GO:0007159 | leukocyte cell-cell adhesion |\n",
      "\n",
      "\n",
      "lower 5%\n",
      "\n",
      "subgroup SG1: P04_BSki_1 P08_BSof_2 P16_BLun P42_BLym_1, 283 shared categories\n",
      "\n",
      " | lower 5% | SG1 | 4 | 3 | GO:0001772 | immunological synapse |\n",
      " | lower 5% | SG1 | 4 | 3 | GO:0001775 | cell activation |\n",
      " | lower 5% | SG1 | 4 | 3 | GO:0002250 | adaptive immune response |\n",
      " | lower 5% | SG1 | 4 | 3 | GO:0002252 | immune effector process |\n",
      " | lower 5% | SG1 | 4 | 3 | GO:0002253 | activation of immune response |\n",
      " | lower 5% | SG1 | 4 | 3 | GO:0002263 | cell activation involved in immune response |\n",
      " | lower 5% | SG1 | 4 | 3 | GO:0002274 | myeloid leukocyte activation |\n",
      " | lower 5% | SG1 | 4 | 3 | GO:0002285 | lymphocyte activation involved in immune response |\n",
      " | lower 5% | SG1 | 4 | 3 | GO:0002335 | mature B cell differentiation |\n",
      " | lower 5% | SG1 | 4 | 3 | GO:0002366 | leukocyte activation involved in immune response |\n",
      "\n",
      "\n",
      "subgroup SG2: P08_BSof_1 P18_BLun_2 P39_BLun, 90 shared categories\n",
      "\n",
      " | lower 5% | SG2 | 3 | 2 | GO:0001772 | immunological synapse |\n",
      " | lower 5% | SG2 | 3 | 2 | GO:0001775 | cell activation |\n",
      " | lower 5% | SG2 | 3 | 2 | GO:0002250 | adaptive immune response |\n",
      " | lower 5% | SG2 | 3 | 2 | GO:0002253 | activation of immune response |\n",
      " | lower 5% | SG2 | 3 | 2 | GO:0002360 | T cell lineage commitment |\n",
      " | lower 5% | SG2 | 3 | 2 | GO:0002363 | alpha-beta T cell lineage commitment |\n",
      " | lower 5% | SG2 | 3 | 2 | GO:0002429 | immune response-activating cell surface receptor signaling pathway |\n",
      " | lower 5% | SG2 | 3 | 2 | GO:0002684 | positive regulation of immune system process |\n",
      " | lower 5% | SG2 | 3 | 2 | GO:0002685 | regulation of leukocyte migration |\n",
      " | lower 5% | SG2 | 3 | 2 | GO:0002694 | regulation of leukocyte activation |\n",
      "\n",
      "\n",
      "subgroup SG3: P03_BLun P08_BSof_3 P18_BLun_1 P42_BLym_2, 13 shared categories\n",
      "\n",
      " | lower 5% | SG3 | 4 | 2 | GO:0002250 | adaptive immune response |\n",
      " | lower 5% | SG3 | 4 | 2 | GO:0004888 | transmembrane signaling receptor activity |\n",
      " | lower 5% | SG3 | 4 | 2 | GO:0009897 | external side of plasma membrane |\n",
      " | lower 5% | SG3 | 4 | 2 | GO:0009986 | cell surface |\n",
      " | lower 5% | SG3 | 4 | 2 | GO:0022409 | positive regulation of cell-cell adhesion |\n",
      " | lower 5% | SG3 | 4 | 2 | GO:0038023 | signaling receptor activity |\n",
      " | lower 5% | SG3 | 4 | 2 | GO:0045785 | positive regulation of cell adhesion |\n",
      " | lower 5% | SG3 | 4 | 2 | GO:0050851 | antigen receptor-mediated signaling pathway |\n",
      " | lower 5% | SG3 | 4 | 2 | GO:0050852 | T cell receptor signaling pathway |\n",
      " | lower 5% | SG3 | 4 | 2 | GO:0060089 | molecular transducer activity |\n",
      "\n",
      "\n"
     ]
    }
   ],
   "source": [
    "sharedGOs = NULL # contains all results that are in >= 2 samples\n",
    "anyGOs = \n",
    "    list(\"upper 5%\" = NULL, \"lower 5%\"=NULL) \n",
    "    # anyGOs: for each list (upper/lower), and each SG, which GO terms are overrepresented\n",
    "    # needed later to get exclusive GO terms\n",
    "for(geneList in names(FwdAndRevResults)) {\n",
    "    message(geneList)\n",
    "    goRes = FwdAndRevResults[[geneList]]\n",
    "    for(SG in names(subgroupNames)) {\n",
    "        SPs = samplePairPerSubgroup[[SG]]\n",
    "        anyGOs[[geneList]][[SG]] = \n",
    "            unique(sort(goRes$ID[ goRes$samplePair %in% SPs]))\n",
    "        frqGO = sort(table(goRes$ID[ goRes$samplePair %in% SPs]), decreasing = T)\n",
    "        frqGO = frqGO[ frqGO > 1]\n",
    "        message(\"subgroup \",paste0(SG,\": \",paste0(SPs, collapse=\" \")),\n",
    "                \", \",length(frqGO),\" shared categories\")\n",
    "        if(length(frqGO)>0) {\n",
    "            tmp = data.frame(stringsAsFactors = F, gene_list= geneList, \n",
    "                        subgroup = SG, num_sample_pairs = length(SPs),\n",
    "                        num_sample_pairs_sharing = as.numeric(frqGO),\n",
    "                             GO_ID = names(frqGO),description = goIDdescr[names(frqGO)])\n",
    "            out = \"\"\n",
    "            for(i in 1:min(10,nrow(tmp))) { out = paste0(out,paste0(paste0(\" | \",tmp[i,],collapse=\"\"),collapse=\" | \"),\" |\\n\") }\n",
    "            message(out)\n",
    "            sharedGOs = rbind(sharedGOs,tmp)\n",
    "        }\n",
    "    }\n",
    "}"
   ]
  },
  {
   "cell_type": "code",
   "execution_count": 318,
   "id": "192e795d",
   "metadata": {},
   "outputs": [
    {
     "data": {
      "text/html": [
       "<table class=\"dataframe\">\n",
       "<caption>A data.frame: 3 × 6</caption>\n",
       "<thead>\n",
       "\t<tr><th></th><th scope=col>gene_list</th><th scope=col>subgroup</th><th scope=col>num_sample_pairs</th><th scope=col>num_sample_pairs_sharing</th><th scope=col>GO_ID</th><th scope=col>description</th></tr>\n",
       "\t<tr><th></th><th scope=col>&lt;chr&gt;</th><th scope=col>&lt;chr&gt;</th><th scope=col>&lt;int&gt;</th><th scope=col>&lt;dbl&gt;</th><th scope=col>&lt;chr&gt;</th><th scope=col>&lt;chr&gt;</th></tr>\n",
       "</thead>\n",
       "<tbody>\n",
       "\t<tr><th scope=row>GO:1903053</th><td>upper 5%</td><td>SG1</td><td>4</td><td>2</td><td>GO:1903053</td><td>regulation of extracellular matrix organization         </td></tr>\n",
       "\t<tr><th scope=row>GO:1903055</th><td>upper 5%</td><td>SG1</td><td>4</td><td>2</td><td>GO:1903055</td><td>positive regulation of extracellular matrix organization</td></tr>\n",
       "\t<tr><th scope=row>GO:0001775</th><td>upper 5%</td><td>SG3</td><td>4</td><td>2</td><td>GO:0001775</td><td>cell activation                                         </td></tr>\n",
       "</tbody>\n",
       "</table>\n"
      ],
      "text/latex": [
       "A data.frame: 3 × 6\n",
       "\\begin{tabular}{r|llllll}\n",
       "  & gene\\_list & subgroup & num\\_sample\\_pairs & num\\_sample\\_pairs\\_sharing & GO\\_ID & description\\\\\n",
       "  & <chr> & <chr> & <int> & <dbl> & <chr> & <chr>\\\\\n",
       "\\hline\n",
       "\tGO:1903053 & upper 5\\% & SG1 & 4 & 2 & GO:1903053 & regulation of extracellular matrix organization         \\\\\n",
       "\tGO:1903055 & upper 5\\% & SG1 & 4 & 2 & GO:1903055 & positive regulation of extracellular matrix organization\\\\\n",
       "\tGO:0001775 & upper 5\\% & SG3 & 4 & 2 & GO:0001775 & cell activation                                         \\\\\n",
       "\\end{tabular}\n"
      ],
      "text/markdown": [
       "\n",
       "A data.frame: 3 × 6\n",
       "\n",
       "| <!--/--> | gene_list &lt;chr&gt; | subgroup &lt;chr&gt; | num_sample_pairs &lt;int&gt; | num_sample_pairs_sharing &lt;dbl&gt; | GO_ID &lt;chr&gt; | description &lt;chr&gt; |\n",
       "|---|---|---|---|---|---|---|\n",
       "| GO:1903053 | upper 5% | SG1 | 4 | 2 | GO:1903053 | regulation of extracellular matrix organization          |\n",
       "| GO:1903055 | upper 5% | SG1 | 4 | 2 | GO:1903055 | positive regulation of extracellular matrix organization |\n",
       "| GO:0001775 | upper 5% | SG3 | 4 | 2 | GO:0001775 | cell activation                                          |\n",
       "\n"
      ],
      "text/plain": [
       "           gene_list subgroup num_sample_pairs num_sample_pairs_sharing\n",
       "GO:1903053 upper 5%  SG1      4                2                       \n",
       "GO:1903055 upper 5%  SG1      4                2                       \n",
       "GO:0001775 upper 5%  SG3      4                2                       \n",
       "           GO_ID      description                                             \n",
       "GO:1903053 GO:1903053 regulation of extracellular matrix organization         \n",
       "GO:1903055 GO:1903055 positive regulation of extracellular matrix organization\n",
       "GO:0001775 GO:0001775 cell activation                                         "
      ]
     },
     "metadata": {},
     "output_type": "display_data"
    }
   ],
   "source": [
    "head(sharedGOs,3)"
   ]
  },
  {
   "cell_type": "code",
   "execution_count": 319,
   "id": "2c782285",
   "metadata": {},
   "outputs": [
    {
     "name": "stderr",
     "output_type": "stream",
     "text": [
      "upper 5%\n",
      "\n",
      "  SG1 -> other SGs: SG2 SG3, 279 unwanted GOs, 2 before 2 after removal\n",
      "\n",
      "  SG3 -> other SGs: SG1 SG2, 137 unwanted GOs, 34 before 29 after removal\n",
      "\n",
      "  SG2 -> other SGs: SG1 SG3, 366 unwanted GOs, 0 before 0 after removal\n",
      "\n",
      "lower 5%\n",
      "\n",
      "  SG1 -> other SGs: SG2 SG3, 470 unwanted GOs, 283 before 72 after removal\n",
      "\n",
      "  SG3 -> other SGs: SG1 SG2, 761 unwanted GOs, 13 before 1 after removal\n",
      "\n",
      "  SG2 -> other SGs: SG1 SG3, 722 unwanted GOs, 90 before 1 after removal\n",
      "\n"
     ]
    }
   ],
   "source": [
    "exclSharedGOs = NULL\n",
    "for (geneList in unique(sharedGOs$gene_list)) {\n",
    "    message(geneList)\n",
    "    for(SG in unique(sharedGOs$subgroup)) {\n",
    "        otherSGs = setdiff(names(subgroupNames),SG)\n",
    "        unwantedGOs = unique(unlist(anyGOs[[geneList]][otherSGs]))\n",
    "        tmp = sharedGOs[ sharedGOs$gene_list==geneList & sharedGOs$subgroup==SG,]\n",
    "        a = length(unique(tmp$GO_ID))\n",
    "        tmp = tmp[ !tmp$GO_ID %in% unwantedGOs,]\n",
    "        b = length(unique(tmp$GO_ID))\n",
    "        message(\"  \",SG,\" -> other SGs: \", paste0(otherSGs, collapse=\" \"), \", \",\n",
    "                length(unwantedGOs),\" unwanted GOs, \", a, \" before \",b,\" after removal\" )\n",
    "        exclSharedGOs = rbind(exclSharedGOs,tmp)\n",
    "    }\n",
    "}"
   ]
  },
  {
   "cell_type": "code",
   "execution_count": 322,
   "id": "3b553de5",
   "metadata": {},
   "outputs": [
    {
     "data": {
      "text/html": [
       "<table class=\"dataframe\">\n",
       "<caption>A data.frame: 3 × 6</caption>\n",
       "<thead>\n",
       "\t<tr><th></th><th scope=col>gene_list</th><th scope=col>subgroup</th><th scope=col>num_sample_pairs</th><th scope=col>num_sample_pairs_sharing</th><th scope=col>GO_ID</th><th scope=col>description</th></tr>\n",
       "\t<tr><th></th><th scope=col>&lt;chr&gt;</th><th scope=col>&lt;chr&gt;</th><th scope=col>&lt;int&gt;</th><th scope=col>&lt;dbl&gt;</th><th scope=col>&lt;chr&gt;</th><th scope=col>&lt;chr&gt;</th></tr>\n",
       "</thead>\n",
       "<tbody>\n",
       "\t<tr><th scope=row>GO:1903053</th><td>upper 5%</td><td>SG1</td><td>4</td><td>2</td><td>GO:1903053</td><td>regulation of extracellular matrix organization         </td></tr>\n",
       "\t<tr><th scope=row>GO:1903055</th><td>upper 5%</td><td>SG1</td><td>4</td><td>2</td><td>GO:1903055</td><td>positive regulation of extracellular matrix organization</td></tr>\n",
       "\t<tr><th scope=row>GO:0001775</th><td>upper 5%</td><td>SG3</td><td>4</td><td>2</td><td>GO:0001775</td><td>cell activation                                         </td></tr>\n",
       "</tbody>\n",
       "</table>\n"
      ],
      "text/latex": [
       "A data.frame: 3 × 6\n",
       "\\begin{tabular}{r|llllll}\n",
       "  & gene\\_list & subgroup & num\\_sample\\_pairs & num\\_sample\\_pairs\\_sharing & GO\\_ID & description\\\\\n",
       "  & <chr> & <chr> & <int> & <dbl> & <chr> & <chr>\\\\\n",
       "\\hline\n",
       "\tGO:1903053 & upper 5\\% & SG1 & 4 & 2 & GO:1903053 & regulation of extracellular matrix organization         \\\\\n",
       "\tGO:1903055 & upper 5\\% & SG1 & 4 & 2 & GO:1903055 & positive regulation of extracellular matrix organization\\\\\n",
       "\tGO:0001775 & upper 5\\% & SG3 & 4 & 2 & GO:0001775 & cell activation                                         \\\\\n",
       "\\end{tabular}\n"
      ],
      "text/markdown": [
       "\n",
       "A data.frame: 3 × 6\n",
       "\n",
       "| <!--/--> | gene_list &lt;chr&gt; | subgroup &lt;chr&gt; | num_sample_pairs &lt;int&gt; | num_sample_pairs_sharing &lt;dbl&gt; | GO_ID &lt;chr&gt; | description &lt;chr&gt; |\n",
       "|---|---|---|---|---|---|---|\n",
       "| GO:1903053 | upper 5% | SG1 | 4 | 2 | GO:1903053 | regulation of extracellular matrix organization          |\n",
       "| GO:1903055 | upper 5% | SG1 | 4 | 2 | GO:1903055 | positive regulation of extracellular matrix organization |\n",
       "| GO:0001775 | upper 5% | SG3 | 4 | 2 | GO:0001775 | cell activation                                          |\n",
       "\n"
      ],
      "text/plain": [
       "           gene_list subgroup num_sample_pairs num_sample_pairs_sharing\n",
       "GO:1903053 upper 5%  SG1      4                2                       \n",
       "GO:1903055 upper 5%  SG1      4                2                       \n",
       "GO:0001775 upper 5%  SG3      4                2                       \n",
       "           GO_ID      description                                             \n",
       "GO:1903053 GO:1903053 regulation of extracellular matrix organization         \n",
       "GO:1903055 GO:1903055 positive regulation of extracellular matrix organization\n",
       "GO:0001775 GO:0001775 cell activation                                         "
      ]
     },
     "metadata": {},
     "output_type": "display_data"
    }
   ],
   "source": [
    "head(exclSharedGOs,3)"
   ]
  },
  {
   "cell_type": "code",
   "execution_count": 326,
   "id": "1aafe269",
   "metadata": {},
   "outputs": [
    {
     "data": {
      "text/plain": [
       "     \n",
       "      lower 5% upper 5%\n",
       "  SG1      283        2\n",
       "  SG2       90        0\n",
       "  SG3       13       34"
      ]
     },
     "metadata": {},
     "output_type": "display_data"
    }
   ],
   "source": [
    "table(sharedGOs$subgroup, sharedGOs$gene_list)"
   ]
  },
  {
   "cell_type": "code",
   "execution_count": 323,
   "id": "a9e2387e",
   "metadata": {},
   "outputs": [
    {
     "data": {
      "text/plain": [
       "     \n",
       "      lower 5% upper 5%\n",
       "  SG1       72        2\n",
       "  SG2        1        0\n",
       "  SG3        1       29"
      ]
     },
     "metadata": {},
     "output_type": "display_data"
    }
   ],
   "source": [
    "table(exclSharedGOs$subgroup, exclSharedGOs$gene_list)"
   ]
  },
  {
   "cell_type": "code",
   "execution_count": 324,
   "id": "5c1dba72",
   "metadata": {},
   "outputs": [],
   "source": [
    "exclSharedGOs$subgroup_ID = exclSharedGOs$subgroup\n",
    "exclSharedGOs$subgroup = paste(subgroupNames[ exclSharedGOs$subgroup],\"in brain\")"
   ]
  },
  {
   "cell_type": "code",
   "execution_count": 327,
   "id": "6cb2910e",
   "metadata": {},
   "outputs": [
    {
     "data": {
      "text/html": [
       "<table class=\"dataframe\">\n",
       "<caption>A data.frame: 6 × 7</caption>\n",
       "<thead>\n",
       "\t<tr><th></th><th scope=col>gene_list</th><th scope=col>subgroup</th><th scope=col>subgroup_ID</th><th scope=col>num_sample_pairs</th><th scope=col>num_sample_pairs_sharing</th><th scope=col>GO_ID</th><th scope=col>description</th></tr>\n",
       "\t<tr><th></th><th scope=col>&lt;chr&gt;</th><th scope=col>&lt;chr&gt;</th><th scope=col>&lt;chr&gt;</th><th scope=col>&lt;int&gt;</th><th scope=col>&lt;dbl&gt;</th><th scope=col>&lt;chr&gt;</th><th scope=col>&lt;chr&gt;</th></tr>\n",
       "</thead>\n",
       "<tbody>\n",
       "\t<tr><th scope=row>GO:1903053</th><td>upper 5%</td><td>higher in brain        </td><td>SG1</td><td>4</td><td>2</td><td>GO:1903053</td><td>regulation of extracellular matrix organization                   </td></tr>\n",
       "\t<tr><th scope=row>GO:1903055</th><td>upper 5%</td><td>higher in brain        </td><td>SG1</td><td>4</td><td>2</td><td>GO:1903055</td><td>positive regulation of extracellular matrix organization          </td></tr>\n",
       "\t<tr><th scope=row>GO:0001775</th><td>upper 5%</td><td>slightly lower in brain</td><td>SG3</td><td>4</td><td>2</td><td>GO:0001775</td><td>cell activation                                                   </td></tr>\n",
       "\t<tr><th scope=row>GO:0002253</th><td>upper 5%</td><td>slightly lower in brain</td><td>SG3</td><td>4</td><td>2</td><td>GO:0002253</td><td>activation of immune response                                     </td></tr>\n",
       "\t<tr><th scope=row>GO:0002429</th><td>upper 5%</td><td>slightly lower in brain</td><td>SG3</td><td>4</td><td>2</td><td>GO:0002429</td><td>immune response-activating cell surface receptor signaling pathway</td></tr>\n",
       "\t<tr><th scope=row>GO:0002694</th><td>upper 5%</td><td>slightly lower in brain</td><td>SG3</td><td>4</td><td>2</td><td>GO:0002694</td><td>regulation of leukocyte activation                                </td></tr>\n",
       "</tbody>\n",
       "</table>\n"
      ],
      "text/latex": [
       "A data.frame: 6 × 7\n",
       "\\begin{tabular}{r|lllllll}\n",
       "  & gene\\_list & subgroup & subgroup\\_ID & num\\_sample\\_pairs & num\\_sample\\_pairs\\_sharing & GO\\_ID & description\\\\\n",
       "  & <chr> & <chr> & <chr> & <int> & <dbl> & <chr> & <chr>\\\\\n",
       "\\hline\n",
       "\tGO:1903053 & upper 5\\% & higher in brain         & SG1 & 4 & 2 & GO:1903053 & regulation of extracellular matrix organization                   \\\\\n",
       "\tGO:1903055 & upper 5\\% & higher in brain         & SG1 & 4 & 2 & GO:1903055 & positive regulation of extracellular matrix organization          \\\\\n",
       "\tGO:0001775 & upper 5\\% & slightly lower in brain & SG3 & 4 & 2 & GO:0001775 & cell activation                                                   \\\\\n",
       "\tGO:0002253 & upper 5\\% & slightly lower in brain & SG3 & 4 & 2 & GO:0002253 & activation of immune response                                     \\\\\n",
       "\tGO:0002429 & upper 5\\% & slightly lower in brain & SG3 & 4 & 2 & GO:0002429 & immune response-activating cell surface receptor signaling pathway\\\\\n",
       "\tGO:0002694 & upper 5\\% & slightly lower in brain & SG3 & 4 & 2 & GO:0002694 & regulation of leukocyte activation                                \\\\\n",
       "\\end{tabular}\n"
      ],
      "text/markdown": [
       "\n",
       "A data.frame: 6 × 7\n",
       "\n",
       "| <!--/--> | gene_list &lt;chr&gt; | subgroup &lt;chr&gt; | subgroup_ID &lt;chr&gt; | num_sample_pairs &lt;int&gt; | num_sample_pairs_sharing &lt;dbl&gt; | GO_ID &lt;chr&gt; | description &lt;chr&gt; |\n",
       "|---|---|---|---|---|---|---|---|\n",
       "| GO:1903053 | upper 5% | higher in brain         | SG1 | 4 | 2 | GO:1903053 | regulation of extracellular matrix organization                    |\n",
       "| GO:1903055 | upper 5% | higher in brain         | SG1 | 4 | 2 | GO:1903055 | positive regulation of extracellular matrix organization           |\n",
       "| GO:0001775 | upper 5% | slightly lower in brain | SG3 | 4 | 2 | GO:0001775 | cell activation                                                    |\n",
       "| GO:0002253 | upper 5% | slightly lower in brain | SG3 | 4 | 2 | GO:0002253 | activation of immune response                                      |\n",
       "| GO:0002429 | upper 5% | slightly lower in brain | SG3 | 4 | 2 | GO:0002429 | immune response-activating cell surface receptor signaling pathway |\n",
       "| GO:0002694 | upper 5% | slightly lower in brain | SG3 | 4 | 2 | GO:0002694 | regulation of leukocyte activation                                 |\n",
       "\n"
      ],
      "text/plain": [
       "           gene_list subgroup                subgroup_ID num_sample_pairs\n",
       "GO:1903053 upper 5%  higher in brain         SG1         4               \n",
       "GO:1903055 upper 5%  higher in brain         SG1         4               \n",
       "GO:0001775 upper 5%  slightly lower in brain SG3         4               \n",
       "GO:0002253 upper 5%  slightly lower in brain SG3         4               \n",
       "GO:0002429 upper 5%  slightly lower in brain SG3         4               \n",
       "GO:0002694 upper 5%  slightly lower in brain SG3         4               \n",
       "           num_sample_pairs_sharing GO_ID     \n",
       "GO:1903053 2                        GO:1903053\n",
       "GO:1903055 2                        GO:1903055\n",
       "GO:0001775 2                        GO:0001775\n",
       "GO:0002253 2                        GO:0002253\n",
       "GO:0002429 2                        GO:0002429\n",
       "GO:0002694 2                        GO:0002694\n",
       "           description                                                       \n",
       "GO:1903053 regulation of extracellular matrix organization                   \n",
       "GO:1903055 positive regulation of extracellular matrix organization          \n",
       "GO:0001775 cell activation                                                   \n",
       "GO:0002253 activation of immune response                                     \n",
       "GO:0002429 immune response-activating cell surface receptor signaling pathway\n",
       "GO:0002694 regulation of leukocyte activation                                "
      ]
     },
     "metadata": {},
     "output_type": "display_data"
    },
    {
     "data": {
      "text/plain": [
       "                         \n",
       "                          SG1 SG2 SG3\n",
       "  higher in brain          74   0   0\n",
       "  lower in brain            0   1   0\n",
       "  slightly lower in brain   0   0  30"
      ]
     },
     "metadata": {},
     "output_type": "display_data"
    }
   ],
   "source": [
    "exclSharedGOs = exclSharedGOs[,c('gene_list','subgroup','subgroup_ID',\n",
    "                                 'num_sample_pairs','num_sample_pairs_sharing','GO_ID','description')]\n",
    "head(exclSharedGOs)\n",
    "table(exclSharedGOs$subgroup, exclSharedGOs$subgroup_ID)"
   ]
  },
  {
   "cell_type": "code",
   "execution_count": 330,
   "id": "855fed34",
   "metadata": {},
   "outputs": [],
   "source": [
    "write.xlsx(exclSharedGOs, sheetName=\"exclusive categories\", append=T, row.names = F,\n",
    "           file = paste0(outDirectory,\"SupplTable-S8-overrepresentation-analysis.xls\"))"
   ]
  }
 ],
 "metadata": {
  "kernelspec": {
   "display_name": "R",
   "language": "R",
   "name": "ir"
  },
  "language_info": {
   "codemirror_mode": "r",
   "file_extension": ".r",
   "mimetype": "text/x-r-source",
   "name": "R",
   "pygments_lexer": "r",
   "version": "4.2.2"
  }
 },
 "nbformat": 4,
 "nbformat_minor": 5
}
